{
 "cells": [
  {
   "cell_type": "code",
   "execution_count": 5,
   "metadata": {},
   "outputs": [
    {
     "name": "stdout",
     "output_type": "stream",
     "text": [
      "The autoreload extension is already loaded. To reload it, use:\n",
      "  %reload_ext autoreload\n"
     ]
    }
   ],
   "source": [
    "%load_ext autoreload\n",
    "%autoreload 2\n",
    "\n",
    "from CauseML.parameters import build_parameters_from_metric_levels\n",
    "from CauseML.constants import Constants\n",
    "from CauseML.data_generation import DataGeneratingProcessWrapper\n",
    "import CauseML.data_sources as data_sources\n",
    "from CauseML.utilities import extract_treat_and_control_data"
   ]
  },
  {
   "cell_type": "code",
   "execution_count": 6,
   "metadata": {},
   "outputs": [],
   "source": [
    "from sklearn.neural_network import MLPRegressor\n",
    "from sklearn.linear_model import LogisticRegression\n",
    "from sklearn.metrics import mean_squared_error as mse"
   ]
  },
  {
   "cell_type": "code",
   "execution_count": 7,
   "metadata": {},
   "outputs": [],
   "source": [
    "import matplotlib.pyplot as plt\n",
    "import numpy as np\n",
    "import pandas as pd"
   ]
  },
  {
   "cell_type": "code",
   "execution_count": 8,
   "metadata": {},
   "outputs": [],
   "source": [
    "def build_mlp():\n",
    "    return MLPRegressor(\n",
    "        hidden_layer_sizes=(50, 25, 10),\n",
    "        activation='relu',\n",
    "        solver='adam',\n",
    "        batch_size='auto',\n",
    "        learning_rate='constant',\n",
    "        learning_rate_init=0.001,\n",
    "        power_t=0.5,\n",
    "        max_iter=1000,\n",
    "        shuffle=True,\n",
    "        random_state=1,\n",
    "        tol=0.0001,\n",
    "        verbose=False,\n",
    "        warm_start=False,\n",
    "        early_stopping=True,\n",
    "        validation_fraction=0.10,\n",
    "        epsilon=1e-08,\n",
    "        n_iter_no_change=5)"
   ]
  },
  {
   "cell_type": "code",
   "execution_count": 9,
   "metadata": {},
   "outputs": [],
   "source": [
    "PARTIAL_CORRELATION_DEG = 0.1\n",
    "def generate_synthetic_data(\n",
    "    prop_score=0.5,\n",
    "    n_covars=20,\n",
    "    n_observations=50000):\n",
    "    \n",
    "    covar_data_source = data_sources.load_random_normal_covariates(\n",
    "        n_covars=n_covars,\n",
    "        n_observations=n_observations,\n",
    "        partial_correlation_degree=PARTIAL_CORRELATION_DEG)\n",
    "    covar_data = covar_data_source.original_covariate_data.to_numpy()\n",
    "    outcome_coeffs = np.random.uniform(-5, 5, size=20)\n",
    "    \n",
    "    noise = np.random.normal(size=n_observations)\n",
    "    Y0 = (covar_data @ outcome_coeffs) + \\\n",
    "        5*((covar_data[:, 0] > 0.5).astype(int)) + \\\n",
    "        noise\n",
    "    Y1 = Y0 + 8*((covar_data[:, 1] > 0.1).astype(int))\n",
    "    \n",
    "    TE = Y1 - Y0\n",
    "    T = (np.random.uniform(0, 1, size=n_observations) < prop_score).astype(int)\n",
    "    Y = T*Y1 + (1-T)*Y0\n",
    "    \n",
    "    obs_data = covar_data_source.original_covariate_data.copy()\n",
    "    obs_data[\"T\"] = T\n",
    "    obs_data[\"Y\"] = Y\n",
    "    \n",
    "    oracle_data = pd.DataFrame({\n",
    "        \"TE\": TE,\n",
    "        \"NOISE(Y)\": noise,\n",
    "        \"Y0\": Y0,\n",
    "        \"Y1\": Y1,\n",
    "        \"P(T|X)\": prop_score\n",
    "    })\n",
    "    \n",
    "#     obs_data = dgp_wrapper.get_observed_data()\n",
    "#     oracle_data = dgp_wrapper.get_oracle_data()\n",
    "    \n",
    "    return obs_data, oracle_data"
   ]
  },
  {
   "cell_type": "code",
   "execution_count": 10,
   "metadata": {},
   "outputs": [],
   "source": [
    "def generate_hybrid_data(\n",
    "    prop_score=0.5,\n",
    "    n_covars=20,\n",
    "    n_observations=50000):\n",
    "    \n",
    "    covar_data_source = data_sources.load_random_normal_covariates(\n",
    "        n_covars=n_covars,\n",
    "        n_observations=n_observations,\n",
    "        partial_correlation_degree=PARTIAL_CORRELATION_DEG)\n",
    "\n",
    "    dgp_params = build_parameters_from_metric_levels({\n",
    "        Constants.MetricNames.TREATMENT_NONLINEARITY: Constants.MetricLevels.LOW,\n",
    "        Constants.MetricNames.OUTCOME_NONLINEARITY: Constants.MetricLevels.LOW,\n",
    "        Constants.MetricNames.TE_HETEROGENEITY: Constants.MetricLevels.LOW\n",
    "    })\n",
    "    \n",
    "    dgp_params.set_parameter(\"MIN_PROPENSITY_SCORE\", 0.001)\n",
    "    dgp_params.set_parameter(\"MAX_PROPENSITY_SCORE\", 0.9999)\n",
    "    dgp_params.set_parameter(\"TREATMENT_EFFECT_HETEROGENEITY\", 0.05)\n",
    "    dgp_params.set_parameter(\"OUTCOME_NOISE_TAIL_THICKNESS\", 300)\n",
    "    dgp_params.set_parameter(\"TARGET_PROPENSITY_SCORE\", prop_score)\n",
    "    dgp_params.set_parameter(\"TREAT_MECHANISM_COVARIATE_SELECTION_PROBABILITY\",\n",
    "                             {\n",
    "                                \"LINEAR\": 1,\n",
    "                                \"POLY_QUAD\": 0.0,\n",
    "                                \"POLY_CUBIC\": 0.0,\n",
    "                                \"STEP_JUMP\": 0,\n",
    "                                \"STEP_KINK\": 0,\n",
    "                                \"INTERACTION_TWO_WAY\": 0,\n",
    "                                \"INTERACTION_THREE_WAY\": 0\n",
    "                             })\n",
    "    dgp_params.set_parameter(\"OUTCOME_MECHANISM_COVARIATE_SELECTION_PROBABILITY\",\n",
    "                             {\n",
    "                                \"LINEAR\": 1,\n",
    "                                \"POLY_QUAD\": 0.0,\n",
    "                                \"POLY_CUBIC\": 0.0,\n",
    "                                \"STEP_JUMP\": 0.05,\n",
    "                                \"STEP_KINK\": 0,\n",
    "                                \"INTERACTION_TWO_WAY\": 0,\n",
    "                                \"INTERACTION_THREE_WAY\": 0\n",
    "                             })\n",
    "\n",
    "    dgp_wrapper = DataGeneratingProcessWrapper(\n",
    "        parameters=dgp_params, data_source=covar_data_source)\n",
    "\n",
    "    dgp_wrapper.sample_dgp()\n",
    "\n",
    "    _ = dgp_wrapper.generate_data()\n",
    "    \n",
    "    obs_data = dgp_wrapper.get_observed_data()\n",
    "    oracle_data = dgp_wrapper.get_oracle_data()\n",
    "    \n",
    "    return obs_data, oracle_data"
   ]
  },
  {
   "cell_type": "code",
   "execution_count": 55,
   "metadata": {},
   "outputs": [
    {
     "data": {
      "text/html": [
       "<div>\n",
       "<style scoped>\n",
       "    .dataframe tbody tr th:only-of-type {\n",
       "        vertical-align: middle;\n",
       "    }\n",
       "\n",
       "    .dataframe tbody tr th {\n",
       "        vertical-align: top;\n",
       "    }\n",
       "\n",
       "    .dataframe thead th {\n",
       "        text-align: right;\n",
       "    }\n",
       "</style>\n",
       "<table border=\"1\" class=\"dataframe\">\n",
       "  <thead>\n",
       "    <tr style=\"text-align: right;\">\n",
       "      <th></th>\n",
       "      <th>X0</th>\n",
       "      <th>X1</th>\n",
       "      <th>X2</th>\n",
       "      <th>X3</th>\n",
       "      <th>X4</th>\n",
       "      <th>X5</th>\n",
       "      <th>X6</th>\n",
       "      <th>X7</th>\n",
       "      <th>X8</th>\n",
       "      <th>X9</th>\n",
       "      <th>...</th>\n",
       "      <th>X12</th>\n",
       "      <th>X13</th>\n",
       "      <th>X14</th>\n",
       "      <th>X15</th>\n",
       "      <th>X16</th>\n",
       "      <th>X17</th>\n",
       "      <th>X18</th>\n",
       "      <th>X19</th>\n",
       "      <th>T</th>\n",
       "      <th>Y</th>\n",
       "    </tr>\n",
       "  </thead>\n",
       "  <tbody>\n",
       "    <tr>\n",
       "      <th>0</th>\n",
       "      <td>-0.182374</td>\n",
       "      <td>0.004818</td>\n",
       "      <td>0.063120</td>\n",
       "      <td>-0.053970</td>\n",
       "      <td>-0.417480</td>\n",
       "      <td>0.130778</td>\n",
       "      <td>0.263482</td>\n",
       "      <td>-0.030452</td>\n",
       "      <td>-0.098303</td>\n",
       "      <td>0.230740</td>\n",
       "      <td>...</td>\n",
       "      <td>0.276854</td>\n",
       "      <td>0.106865</td>\n",
       "      <td>-0.152783</td>\n",
       "      <td>-0.340035</td>\n",
       "      <td>-0.148173</td>\n",
       "      <td>0.241656</td>\n",
       "      <td>-0.207254</td>\n",
       "      <td>0.122505</td>\n",
       "      <td>0</td>\n",
       "      <td>-3.318321</td>\n",
       "    </tr>\n",
       "    <tr>\n",
       "      <th>1</th>\n",
       "      <td>-0.449061</td>\n",
       "      <td>-0.615149</td>\n",
       "      <td>0.149645</td>\n",
       "      <td>0.123435</td>\n",
       "      <td>-0.005158</td>\n",
       "      <td>-0.365969</td>\n",
       "      <td>0.197851</td>\n",
       "      <td>-0.325774</td>\n",
       "      <td>-0.263456</td>\n",
       "      <td>-0.230029</td>\n",
       "      <td>...</td>\n",
       "      <td>-0.601336</td>\n",
       "      <td>-0.453600</td>\n",
       "      <td>-0.214771</td>\n",
       "      <td>0.105800</td>\n",
       "      <td>0.485089</td>\n",
       "      <td>0.284280</td>\n",
       "      <td>0.468553</td>\n",
       "      <td>-0.700081</td>\n",
       "      <td>0</td>\n",
       "      <td>-4.239334</td>\n",
       "    </tr>\n",
       "    <tr>\n",
       "      <th>2</th>\n",
       "      <td>-0.369948</td>\n",
       "      <td>-0.403287</td>\n",
       "      <td>-0.051238</td>\n",
       "      <td>0.176380</td>\n",
       "      <td>-0.096799</td>\n",
       "      <td>-0.828878</td>\n",
       "      <td>0.453145</td>\n",
       "      <td>-0.398782</td>\n",
       "      <td>0.023587</td>\n",
       "      <td>0.369469</td>\n",
       "      <td>...</td>\n",
       "      <td>-0.507002</td>\n",
       "      <td>0.054135</td>\n",
       "      <td>-0.541419</td>\n",
       "      <td>0.003777</td>\n",
       "      <td>0.333014</td>\n",
       "      <td>0.150174</td>\n",
       "      <td>0.524723</td>\n",
       "      <td>-0.551230</td>\n",
       "      <td>0</td>\n",
       "      <td>-2.395443</td>\n",
       "    </tr>\n",
       "    <tr>\n",
       "      <th>3</th>\n",
       "      <td>-0.103530</td>\n",
       "      <td>-0.206862</td>\n",
       "      <td>0.224169</td>\n",
       "      <td>-0.116494</td>\n",
       "      <td>-0.268307</td>\n",
       "      <td>-0.283045</td>\n",
       "      <td>0.367962</td>\n",
       "      <td>-0.008625</td>\n",
       "      <td>0.407226</td>\n",
       "      <td>-0.097554</td>\n",
       "      <td>...</td>\n",
       "      <td>0.216358</td>\n",
       "      <td>-0.365650</td>\n",
       "      <td>-0.325156</td>\n",
       "      <td>-0.038668</td>\n",
       "      <td>0.237870</td>\n",
       "      <td>0.465787</td>\n",
       "      <td>-0.036785</td>\n",
       "      <td>-0.502184</td>\n",
       "      <td>0</td>\n",
       "      <td>-0.905016</td>\n",
       "    </tr>\n",
       "    <tr>\n",
       "      <th>4</th>\n",
       "      <td>-0.473127</td>\n",
       "      <td>0.308793</td>\n",
       "      <td>0.209059</td>\n",
       "      <td>-0.200980</td>\n",
       "      <td>0.105340</td>\n",
       "      <td>0.130716</td>\n",
       "      <td>-0.000915</td>\n",
       "      <td>-0.073977</td>\n",
       "      <td>-0.525490</td>\n",
       "      <td>-0.004810</td>\n",
       "      <td>...</td>\n",
       "      <td>-0.511083</td>\n",
       "      <td>-0.151388</td>\n",
       "      <td>0.788584</td>\n",
       "      <td>-0.131746</td>\n",
       "      <td>-0.113652</td>\n",
       "      <td>-0.047416</td>\n",
       "      <td>0.141409</td>\n",
       "      <td>-0.197000</td>\n",
       "      <td>0</td>\n",
       "      <td>-1.751199</td>\n",
       "    </tr>\n",
       "  </tbody>\n",
       "</table>\n",
       "<p>5 rows × 22 columns</p>\n",
       "</div>"
      ],
      "text/plain": [
       "         X0        X1        X2        X3        X4        X5        X6  \\\n",
       "0 -0.182374  0.004818  0.063120 -0.053970 -0.417480  0.130778  0.263482   \n",
       "1 -0.449061 -0.615149  0.149645  0.123435 -0.005158 -0.365969  0.197851   \n",
       "2 -0.369948 -0.403287 -0.051238  0.176380 -0.096799 -0.828878  0.453145   \n",
       "3 -0.103530 -0.206862  0.224169 -0.116494 -0.268307 -0.283045  0.367962   \n",
       "4 -0.473127  0.308793  0.209059 -0.200980  0.105340  0.130716 -0.000915   \n",
       "\n",
       "         X7        X8        X9  ...       X12       X13       X14       X15  \\\n",
       "0 -0.030452 -0.098303  0.230740  ...  0.276854  0.106865 -0.152783 -0.340035   \n",
       "1 -0.325774 -0.263456 -0.230029  ... -0.601336 -0.453600 -0.214771  0.105800   \n",
       "2 -0.398782  0.023587  0.369469  ... -0.507002  0.054135 -0.541419  0.003777   \n",
       "3 -0.008625  0.407226 -0.097554  ...  0.216358 -0.365650 -0.325156 -0.038668   \n",
       "4 -0.073977 -0.525490 -0.004810  ... -0.511083 -0.151388  0.788584 -0.131746   \n",
       "\n",
       "        X16       X17       X18       X19  T         Y  \n",
       "0 -0.148173  0.241656 -0.207254  0.122505  0 -3.318321  \n",
       "1  0.485089  0.284280  0.468553 -0.700081  0 -4.239334  \n",
       "2  0.333014  0.150174  0.524723 -0.551230  0 -2.395443  \n",
       "3  0.237870  0.465787 -0.036785 -0.502184  0 -0.905016  \n",
       "4 -0.113652 -0.047416  0.141409 -0.197000  0 -1.751199  \n",
       "\n",
       "[5 rows x 22 columns]"
      ]
     },
     "execution_count": 55,
     "metadata": {},
     "output_type": "execute_result"
    }
   ],
   "source": [
    "observed_data, unobservable_data = generate_hybrid_data(prop_score=0.01)\n",
    "observed_data, unobservable_data = generate_synthetic_data(prop_score=0.01)\n",
    "observed_data.head()"
   ]
  },
  {
   "cell_type": "code",
   "execution_count": 56,
   "metadata": {},
   "outputs": [
    {
     "data": {
      "text/html": [
       "<div>\n",
       "<style scoped>\n",
       "    .dataframe tbody tr th:only-of-type {\n",
       "        vertical-align: middle;\n",
       "    }\n",
       "\n",
       "    .dataframe tbody tr th {\n",
       "        vertical-align: top;\n",
       "    }\n",
       "\n",
       "    .dataframe thead th {\n",
       "        text-align: right;\n",
       "    }\n",
       "</style>\n",
       "<table border=\"1\" class=\"dataframe\">\n",
       "  <thead>\n",
       "    <tr style=\"text-align: right;\">\n",
       "      <th></th>\n",
       "      <th>TE</th>\n",
       "      <th>NOISE(Y)</th>\n",
       "      <th>Y0</th>\n",
       "      <th>Y1</th>\n",
       "      <th>P(T|X)</th>\n",
       "    </tr>\n",
       "  </thead>\n",
       "  <tbody>\n",
       "    <tr>\n",
       "      <th>0</th>\n",
       "      <td>0.0</td>\n",
       "      <td>-1.251275</td>\n",
       "      <td>-3.318321</td>\n",
       "      <td>-3.318321</td>\n",
       "      <td>0.01</td>\n",
       "    </tr>\n",
       "    <tr>\n",
       "      <th>1</th>\n",
       "      <td>0.0</td>\n",
       "      <td>0.083520</td>\n",
       "      <td>-4.239334</td>\n",
       "      <td>-4.239334</td>\n",
       "      <td>0.01</td>\n",
       "    </tr>\n",
       "    <tr>\n",
       "      <th>2</th>\n",
       "      <td>0.0</td>\n",
       "      <td>-1.268570</td>\n",
       "      <td>-2.395443</td>\n",
       "      <td>-2.395443</td>\n",
       "      <td>0.01</td>\n",
       "    </tr>\n",
       "    <tr>\n",
       "      <th>3</th>\n",
       "      <td>0.0</td>\n",
       "      <td>0.005135</td>\n",
       "      <td>-0.905016</td>\n",
       "      <td>-0.905016</td>\n",
       "      <td>0.01</td>\n",
       "    </tr>\n",
       "    <tr>\n",
       "      <th>4</th>\n",
       "      <td>8.0</td>\n",
       "      <td>-0.759979</td>\n",
       "      <td>-1.751199</td>\n",
       "      <td>6.248801</td>\n",
       "      <td>0.01</td>\n",
       "    </tr>\n",
       "  </tbody>\n",
       "</table>\n",
       "</div>"
      ],
      "text/plain": [
       "    TE  NOISE(Y)        Y0        Y1  P(T|X)\n",
       "0  0.0 -1.251275 -3.318321 -3.318321    0.01\n",
       "1  0.0  0.083520 -4.239334 -4.239334    0.01\n",
       "2  0.0 -1.268570 -2.395443 -2.395443    0.01\n",
       "3  0.0  0.005135 -0.905016 -0.905016    0.01\n",
       "4  8.0 -0.759979 -1.751199  6.248801    0.01"
      ]
     },
     "execution_count": 56,
     "metadata": {},
     "output_type": "execute_result"
    }
   ],
   "source": [
    "unobservable_data.head()"
   ]
  },
  {
   "cell_type": "code",
   "execution_count": 11,
   "metadata": {},
   "outputs": [],
   "source": [
    "def score_ITE(ITE_true, ITE_pred):\n",
    "    return mse(ITE_true, ITE_pred)"
   ]
  },
  {
   "cell_type": "code",
   "execution_count": 12,
   "metadata": {},
   "outputs": [],
   "source": [
    "def T_learner(data):\n",
    "    treated_data, control_data = extract_treat_and_control_data(\n",
    "        data, data[\"T\"])\n",
    "    \n",
    "    # train u1\n",
    "    u1 = build_mlp()\n",
    "    X_treated = treated_data.drop([\"T\", \"Y\"], axis=1)\n",
    "    u1.fit(X_treated, treated_data[\"Y\"])\n",
    "    \n",
    "    # train u0\n",
    "    u0 = build_mlp()\n",
    "    X_control = control_data.drop([\"T\", \"Y\"], axis=1)\n",
    "    u0.fit(X_control, control_data[\"Y\"])\n",
    "    \n",
    "    # Generate potential outcome predictions\n",
    "    X = data.drop([\"T\", \"Y\"], axis=1)\n",
    "    y_1_predicted = u1.predict(X)\n",
    "    y_0_predicted = u0.predict(X)\n",
    "    \n",
    "    ITE_pred = y_1_predicted - y_0_predicted\n",
    "    \n",
    "    return ITE_pred, u1, u0"
   ]
  },
  {
   "cell_type": "code",
   "execution_count": 13,
   "metadata": {},
   "outputs": [],
   "source": [
    "def S_learner(data):\n",
    "    # train u1\n",
    "    u = build_mlp()\n",
    "    X = data.drop(\"Y\", axis=1)\n",
    "    u.fit(X, data[\"Y\"])\n",
    "    \n",
    "    # Generate potential outcomes\n",
    "    X_under_treatment = X.copy()\n",
    "    X_under_treatment[\"T\"] = 1\n",
    "    \n",
    "    X_under_control = X.copy()\n",
    "    X_under_control[\"T\"] = 0\n",
    "    \n",
    "    y_1_predicted = u.predict(X_under_treatment)\n",
    "    y_0_predicted = u.predict(X_under_control)\n",
    "    y_1_predicted - y_0_predicted\n",
    "    \n",
    "    ITE_pred = y_1_predicted - y_0_predicted\n",
    "    \n",
    "    return  ITE_pred"
   ]
  },
  {
   "cell_type": "code",
   "execution_count": 14,
   "metadata": {},
   "outputs": [],
   "source": [
    "def X_learner(data, prop_score, u1=None, u0=None):\n",
    "    treated_data, control_data = extract_treat_and_control_data(\n",
    "        data, data[\"T\"])\n",
    "    X_treated = treated_data.drop([\"T\", \"Y\"], axis=1)\n",
    "    X_control = control_data.drop([\"T\", \"Y\"], axis=1)\n",
    "\n",
    "    if u1 is None:\n",
    "        # train u1\n",
    "        u1 = build_mlp()\n",
    "        u1.fit(X_treated, treated_data[\"Y\"])\n",
    "    \n",
    "    if u0 is None:\n",
    "        # train u0\n",
    "        u0 = build_mlp()\n",
    "        u0.fit(X_control, control_data[\"Y\"])\n",
    "    \n",
    "    # Find individual treatment effects for treated/controls\n",
    "    itet = treated_data[\"Y\"] - u0.predict(X_treated)\n",
    "    itec =  u1.predict(X_control) - control_data[\"Y\"]\n",
    "    \n",
    "    # Fit models to the treated and controls\n",
    "    te1 = build_mlp()\n",
    "    te1.fit(X_treated, itet)\n",
    "    \n",
    "    te0 = build_mlp()\n",
    "    te0.fit(X_control, itec)\n",
    "    \n",
    "    X = data.drop([\"T\", \"Y\"], axis=1)\n",
    "    te1_predicted = te1.predict(X)\n",
    "    te0_predicted = te0.predict(X)\n",
    "    \n",
    "    # Estimate prop scores\n",
    "#     lm = LogisticRegression(solver=\"lbfgs\")\n",
    "#     lm.fit(X, data[\"T\"])\n",
    "#     prop_scores = lm.predict(X)\n",
    "    \n",
    "    # Down-weight observes which are likely to belong\n",
    "    # to other class.\n",
    "    te = prop_score*te0_predicted + (1-prop_score)*te1_predicted\n",
    "    \n",
    "    return te"
   ]
  },
  {
   "cell_type": "code",
   "execution_count": 66,
   "metadata": {},
   "outputs": [
    {
     "data": {
      "text/plain": [
       "6.304035808777853"
      ]
     },
     "execution_count": 66,
     "metadata": {},
     "output_type": "execute_result"
    }
   ],
   "source": [
    "ITE_pred, u1, u0 = T_learner(observed_data)\n",
    "score_ITE(unobservable_data[\"TE\"], ITE_pred)"
   ]
  },
  {
   "cell_type": "code",
   "execution_count": 67,
   "metadata": {},
   "outputs": [
    {
     "data": {
      "text/plain": [
       "2.6395543639347854"
      ]
     },
     "execution_count": 67,
     "metadata": {},
     "output_type": "execute_result"
    }
   ],
   "source": [
    "ITE_pred = S_learner(observed_data)\n",
    "score_ITE(unobservable_data[\"TE\"], ITE_pred)"
   ]
  },
  {
   "cell_type": "code",
   "execution_count": 68,
   "metadata": {},
   "outputs": [
    {
     "data": {
      "text/plain": [
       "5.805592018489937"
      ]
     },
     "execution_count": 68,
     "metadata": {},
     "output_type": "execute_result"
    }
   ],
   "source": [
    "ITE_pred = X_learner(observed_data, 0.01, u1, u0)\n",
    "score_ITE(unobservable_data[\"TE\"], ITE_pred)"
   ]
  },
  {
   "cell_type": "code",
   "execution_count": 15,
   "metadata": {},
   "outputs": [],
   "source": [
    "def run_trial(prop_score=0.5, n_covars=20, n_observations=50000):\n",
    "    observed_data, unobservable_data = generate_synthetic_data(\n",
    "        prop_score=prop_score,\n",
    "        n_covars=n_covars,\n",
    "        n_observations=n_observations)\n",
    "    \n",
    "    ITE_true = unobservable_data[\"TE\"]\n",
    "    \n",
    "    # T learner\n",
    "    ITE_pred, u1, u0 = T_learner(observed_data)\n",
    "    T_loss = score_ITE(ITE_true, ITE_pred)\n",
    "    \n",
    "    # S learner\n",
    "    ITE_pred = S_learner(observed_data)\n",
    "    S_loss = score_ITE(ITE_true, ITE_pred)\n",
    "    \n",
    "    # X learner\n",
    "    ITE_pred = X_learner(observed_data, prop_score, u1, u0)\n",
    "    X_loss = score_ITE(ITE_true, ITE_pred)\n",
    "    \n",
    "    return T_loss, S_loss, X_loss"
   ]
  },
  {
   "cell_type": "code",
   "execution_count": 16,
   "metadata": {},
   "outputs": [
    {
     "data": {
      "text/plain": [
       "array([  5623,  11006,  21544,  42169,  82540, 161559, 316227])"
      ]
     },
     "execution_count": 16,
     "metadata": {},
     "output_type": "execute_result"
    }
   ],
   "source": [
    "N_obs = np.logspace(3.75, 5.5, 7).astype(int)\n",
    "# N_obs = [100000, 200000, 300000]\n",
    "N_obs"
   ]
  },
  {
   "cell_type": "code",
   "execution_count": null,
   "metadata": {
    "scrolled": true
   },
   "outputs": [
    {
     "name": "stdout",
     "output_type": "stream",
     "text": [
      "\n",
      "Running at n: 5623: 0,1,2,3,4,5,6,7,8,9,10,11,12,13,14,15,16,17,18,19,\n",
      "Running at n: 11006: 0,1,2,3,4,5,6,7,8,9,10,11,12,13,14,15,16,17,18,19,\n",
      "Running at n: 21544: 0,1,2,3,4,5,6,7,8,9,10,11,12,13,14,15,16,17,18,19,\n",
      "Running at n: 42169: 0,1,2,3,4,5,6,7,8,9,10,11,12,13,14,15,16,17,18,19,\n",
      "Running at n: 82540: 0,1,2,3,4,5,6,7,8,9,10,11,12,13,14,15,16,17,18,19,\n",
      "Running at n: 161559: 0,1,2,3,4,5,6,7,8,9,10,11,12,13,14,15,16,17,18,19,\n",
      "Running at n: 316227: 0,1,2,3,4,5,6,7,8,9,10,11,12,13,"
     ]
    }
   ],
   "source": [
    "%%time\n",
    "\n",
    "results = []\n",
    "N_trials = 20\n",
    "for n_obs in N_obs:\n",
    "    print(\"\\nRunning at n:\", n_obs, end=\": \")\n",
    "    trial_results = []\n",
    "    for i in range(N_trials):\n",
    "        print(i, end=\",\")\n",
    "        res = run_trial(prop_score=0.02, n_observations=n_obs)\n",
    "        trial_results.append(res)\n",
    "        \n",
    "    \n",
    "    trial_results = np.array(trial_results)\n",
    "    results.append(np.mean(trial_results, axis=0))"
   ]
  },
  {
   "cell_type": "code",
   "execution_count": null,
   "metadata": {},
   "outputs": [],
   "source": [
    "results = np.array(results)\n",
    "names = [\"T learner\", \"S learner\", \"X learner\"]\n",
    "for i, name in enumerate(names):\n",
    "    plt.scatter(np.log(N_obs), np.log(results[:, i]), label=name)\n",
    "\n",
    "plt.legend()\n",
    "plt.show()"
   ]
  }
 ],
 "metadata": {
  "kernelspec": {
   "display_name": "Python 3",
   "language": "python",
   "name": "python3"
  },
  "varInspector": {
   "cols": {
    "lenName": 16,
    "lenType": 16,
    "lenVar": 40
   },
   "kernels_config": {
    "python": {
     "delete_cmd_postfix": "",
     "delete_cmd_prefix": "del ",
     "library": "var_list.py",
     "varRefreshCmd": "print(var_dic_list())"
    },
    "r": {
     "delete_cmd_postfix": ") ",
     "delete_cmd_prefix": "rm(",
     "library": "var_list.r",
     "varRefreshCmd": "cat(var_dic_list()) "
    }
   },
   "types_to_exclude": [
    "module",
    "function",
    "builtin_function_or_method",
    "instance",
    "_Feature"
   ],
   "window_display": false
  }
 },
 "nbformat": 4,
 "nbformat_minor": 2
}
