{
 "cells": [
  {
   "cell_type": "code",
   "execution_count": 1,
   "metadata": {},
   "outputs": [],
   "source": [
    "%load_ext autoreload\n",
    "%autoreload 2"
   ]
  },
  {
   "cell_type": "code",
   "execution_count": null,
   "metadata": {},
   "outputs": [],
   "source": [
    "#!pip install POT"
   ]
  },
  {
   "cell_type": "code",
   "execution_count": 244,
   "metadata": {},
   "outputs": [],
   "source": [
    "# from CausalBenchmark.data_generation_framework import *\n",
    "from CausalBenchmark.parameters import build_parameters, DEFAULT_PARAMETER_PATH\n",
    "from CausalBenchmark.data_generation import DataGeneratingProcessWrapper\n",
    "from CausalBenchmark.utilities import generate_random_covariates, normalize_covariate_data\n",
    "from CausalBenchmark.data_metrics import calculate_data_metrics"
   ]
  },
  {
   "cell_type": "code",
   "execution_count": 304,
   "metadata": {},
   "outputs": [],
   "source": [
    "from collections import defaultdict\n",
    "from IPython.display import clear_output"
   ]
  },
  {
   "cell_type": "code",
   "execution_count": 300,
   "metadata": {},
   "outputs": [],
   "source": [
    "covar_data = generate_random_covariates(n_covars = 12)\n",
    "covar_data = normalize_covariate_data(covar_data)"
   ]
  },
  {
   "cell_type": "code",
   "execution_count": 301,
   "metadata": {},
   "outputs": [],
   "source": [
    "dgp_params = build_parameters(DEFAULT_PARAMETER_PATH)\n",
    "dgp_params.POTENTIAL_CONFOUNDER_SELECTION_PROBABILITY= 0.99\n",
    "dgp_params.ACTUAL_CONFOUNDER_ALIGNMENT=0.99\n",
    "dgp_params.TREATMENT_EFFECT_HETEROGENEITY = 0\n",
    "dgp_params.OUTCOME_NOISE_TAIL_THICKNESS = 250"
   ]
  },
  {
   "cell_type": "code",
   "execution_count": 313,
   "metadata": {},
   "outputs": [],
   "source": [
    "dgp_wrapper = DataGeneratingProcessWrapper(\n",
    "    parameters=dgp_params, source_covariate_data=covar_data)\n",
    "\n",
    "dgp_wrapper.sample_dgp()\n",
    "\n",
    "observed_covariate_data, observed_outcome_data, oracle_covariate_data, oracle_outcome_data = dgp_wrapper.generate_data()"
   ]
  },
  {
   "cell_type": "code",
   "execution_count": 314,
   "metadata": {},
   "outputs": [
    {
     "data": {
      "text/html": [
       "<div>\n",
       "<style scoped>\n",
       "    .dataframe tbody tr th:only-of-type {\n",
       "        vertical-align: middle;\n",
       "    }\n",
       "\n",
       "    .dataframe tbody tr th {\n",
       "        vertical-align: top;\n",
       "    }\n",
       "\n",
       "    .dataframe thead th {\n",
       "        text-align: right;\n",
       "    }\n",
       "</style>\n",
       "<table border=\"1\" class=\"dataframe\">\n",
       "  <thead>\n",
       "    <tr style=\"text-align: right;\">\n",
       "      <th></th>\n",
       "      <th>logit(P(T|X))</th>\n",
       "      <th>P(T|X)</th>\n",
       "      <th>Y0</th>\n",
       "      <th>Y1</th>\n",
       "      <th>TE</th>\n",
       "    </tr>\n",
       "  </thead>\n",
       "  <tbody>\n",
       "    <tr>\n",
       "      <th>0</th>\n",
       "      <td>-0.274829</td>\n",
       "      <td>0.431722</td>\n",
       "      <td>1.024203</td>\n",
       "      <td>2.535203</td>\n",
       "      <td>1.511</td>\n",
       "    </tr>\n",
       "    <tr>\n",
       "      <th>1</th>\n",
       "      <td>1.381897</td>\n",
       "      <td>0.799296</td>\n",
       "      <td>0.684659</td>\n",
       "      <td>2.195659</td>\n",
       "      <td>1.511</td>\n",
       "    </tr>\n",
       "    <tr>\n",
       "      <th>2</th>\n",
       "      <td>1.262487</td>\n",
       "      <td>0.779454</td>\n",
       "      <td>0.734363</td>\n",
       "      <td>2.245363</td>\n",
       "      <td>1.511</td>\n",
       "    </tr>\n",
       "    <tr>\n",
       "      <th>3</th>\n",
       "      <td>1.082848</td>\n",
       "      <td>0.747032</td>\n",
       "      <td>-1.178141</td>\n",
       "      <td>0.332859</td>\n",
       "      <td>1.511</td>\n",
       "    </tr>\n",
       "    <tr>\n",
       "      <th>4</th>\n",
       "      <td>1.443417</td>\n",
       "      <td>0.808983</td>\n",
       "      <td>1.223133</td>\n",
       "      <td>2.734133</td>\n",
       "      <td>1.511</td>\n",
       "    </tr>\n",
       "  </tbody>\n",
       "</table>\n",
       "</div>"
      ],
      "text/plain": [
       "   logit(P(T|X))    P(T|X)        Y0        Y1     TE\n",
       "0      -0.274829  0.431722  1.024203  2.535203  1.511\n",
       "1       1.381897  0.799296  0.684659  2.195659  1.511\n",
       "2       1.262487  0.779454  0.734363  2.245363  1.511\n",
       "3       1.082848  0.747032 -1.178141  0.332859  1.511\n",
       "4       1.443417  0.808983  1.223133  2.734133  1.511"
      ]
     },
     "execution_count": 314,
     "metadata": {},
     "output_type": "execute_result"
    }
   ],
   "source": [
    "observed_outcome_data.head()\n",
    "oracle_outcome_data.join(oracle_covariate_data).head()\n",
    "observed_outcome_data.join(observed_covariate_data).head()\n",
    "oracle_outcome_data.head()"
   ]
  },
  {
   "cell_type": "markdown",
   "metadata": {},
   "source": [
    "## Metrics"
   ]
  },
  {
   "cell_type": "code",
   "execution_count": 253,
   "metadata": {},
   "outputs": [
    {
     "name": "stdout",
     "output_type": "stream",
     "text": [
      "{\n",
      "    \"outcome non-linearity\": {\n",
      "        \"Lin r2(X_obs, Y)\": 0.8283097174903884,\n",
      "        \"Lin r2(X_true, Y)\": 0.8110386742121254,\n",
      "        \"Lin r2(X_obs, Y1)\": 0.975642647751361,\n",
      "        \"Lin r2(X_obs, Y0)\": 0.975642647751361,\n",
      "        \"Lin r2(X_true, Y1)\": 0.9291062024145316,\n",
      "        \"Lin r2(X_true, Y0)\": 0.9291062024145315,\n",
      "        \"Lin r2(X_obs, TE)\": 0.0,\n",
      "        \"Lin r2(X_true, TE)\": 0.0\n",
      "    },\n",
      "    \"treatment non-linearity\": {\n",
      "        \"Log r2(X_obs, T)\": 0.7,\n",
      "        \"Lin r2(X_obs, Treat Logit)\": 0.974004210878853\n",
      "    },\n",
      "    \"Percent\": {\n",
      "        \"Percent(T, 1)\": 49.2\n",
      "    },\n",
      "    \"Overlap\": {\n",
      "        \"NN c-factual dist(X_obs, T)\": 2.606809057275519,\n",
      "        \"NN c-factual dist(X_true, T)\": 3.1066770669054\n",
      "    },\n",
      "    \"Balance\": {\n",
      "        \"mean dist(X_true, T)\": 0.7144340108534263,\n",
      "        \"Wass dist(X_true, T)\": 0.025022391435119095,\n",
      "        \"Wass dist(X_obs, T)\": 0.08932139846986369\n",
      "    },\n",
      "    \"Alignment\": {\n",
      "        \"Lin r2(Y, Treat Logit)\": 0.807104214648415,\n",
      "        \"Lin r2(Y0, Treat Logit)\": 0.927073869093843\n",
      "    },\n",
      "    \"Treatment Effect Heterogeneity\": {\n",
      "        \"Normed std(TE, Y)\": 1.4260819990444653e-16\n",
      "    }\n",
      "}\n"
     ]
    }
   ],
   "source": [
    "metrics = calculate_data_metrics(observed_covariate_data, observed_outcome_data, oracle_covariate_data, oracle_outcome_data)\n",
    "print(json.dumps(metrics, indent=4))"
   ]
  },
  {
   "cell_type": "code",
   "execution_count": 315,
   "metadata": {},
   "outputs": [
    {
     "data": {
      "text/latex": [
       "$\\displaystyle NOISE(Y) + 1.511 T - 1.53702176552532 X_{0}^{2} - 0.509066846728832 X_{0} - 0.502519363169619 X_{1} - 2.0739154173808 X_{3} - 0.0311005469062631 X_{4}^{2} - 0.646564001472311 X_{4} - 1.43717264124731 X_{5}^{2} + 1.22274255468308 X_{6}^{2} + 2.15903270365058 X_{6} + 1.25384310158934 X_{7}^{2} + 0.554907925328674$"
      ],
      "text/plain": [
       "NOISE(Y) + 1.511*T - 1.53702176552532*X0**2 - 0.509066846728832*X0 - 0.502519363169619*X1 - 2.0739154173808*X3 - 0.0311005469062631*X4**2 - 0.646564001472311*X4 - 1.43717264124731*X5**2 + 1.22274255468308*X6**2 + 2.15903270365058*X6 + 1.25384310158934*X7**2 + 0.554907925328674"
      ]
     },
     "execution_count": 315,
     "metadata": {},
     "output_type": "execute_result"
    }
   ],
   "source": [
    "dgp_wrapper.outcome_function"
   ]
  },
  {
   "cell_type": "code",
   "execution_count": 316,
   "metadata": {},
   "outputs": [
    {
     "data": {
      "text/latex": [
       "$\\displaystyle \\max\\left(-2.19722457733622, \\min\\left(2.19722457733622, - 0.47289501270356 X_{0}^{3} - 0.860266459279881 X_{1}^{3} - 0.149247007555379 X_{1} X_{5} - 0.5148183294326 X_{1} - 0.588603366875708 X_{11}^{2} - 0.727788778416118 X_{4} - 1.75742543728132 X_{5} + 1.28453042457776 X_{7}^{2} + 0.954335678106122\\right)\\right)$"
      ],
      "text/plain": [
       "Max(-2.19722457733622, Min(2.19722457733622, -0.47289501270356*X0**3 - 0.860266459279881*X1**3 - 0.149247007555379*X1*X5 - 0.5148183294326*X1 - 0.588603366875708*X11**2 - 0.727788778416118*X4 - 1.75742543728132*X5 + 1.28453042457776*X7**2 + 0.954335678106122))"
      ]
     },
     "execution_count": 316,
     "metadata": {},
     "output_type": "execute_result"
    }
   ],
   "source": [
    "dgp_wrapper.treatment_assignment_logit_function"
   ]
  },
  {
   "cell_type": "code",
   "execution_count": null,
   "metadata": {},
   "outputs": [],
   "source": []
  },
  {
   "cell_type": "code",
   "execution_count": null,
   "metadata": {},
   "outputs": [],
   "source": []
  },
  {
   "cell_type": "code",
   "execution_count": null,
   "metadata": {},
   "outputs": [],
   "source": []
  },
  {
   "cell_type": "code",
   "execution_count": 308,
   "metadata": {},
   "outputs": [],
   "source": [
    "def run(dgp_params):\n",
    "    results = defaultdict(list)\n",
    "    for i in range(10):\n",
    "        clear_output()\n",
    "        print(i+1)\n",
    "        results\n",
    "        covar_data = generate_random_covariates(n_covars = 10)\n",
    "        covar_data = normalize_covariate_data(covar_data)\n",
    "\n",
    "        dgp_wrapper = DataGeneratingProcessWrapper(\n",
    "            parameters=dgp_params, source_covariate_data=covar_data)\n",
    "        dgp_wrapper.sample_dgp()\n",
    "\n",
    "        observed_covariate_data, observed_outcome_data, oracle_covariate_data, oracle_outcome_data = dgp_wrapper.generate_data()\n",
    "        metrics = calculate_data_metrics(observed_covariate_data, observed_outcome_data, oracle_covariate_data, oracle_outcome_data)\n",
    "        alignment_obs = metrics[\"Alignment\"][\"Lin r2(Y, Treat Logit)\"]\n",
    "        alignment_oracle = metrics[\"Alignment\"][\"Lin r2(Y0, Treat Logit)\"]\n",
    "        results[\"Alignment Obs\"].append(alignment_obs)\n",
    "        results[\"Alignment Oracle\"].append(alignment_oracle)\n",
    "        \n",
    "    return results"
   ]
  },
  {
   "cell_type": "code",
   "execution_count": 325,
   "metadata": {},
   "outputs": [
    {
     "name": "stdout",
     "output_type": "stream",
     "text": [
      "10\n"
     ]
    }
   ],
   "source": [
    "dgp_params = build_parameters(DEFAULT_PARAMETER_PATH)\n",
    "dgp_params.POTENTIAL_CONFOUNDER_SELECTION_PROBABILITY= 0.5\n",
    "dgp_params.ACTUAL_CONFOUNDER_ALIGNMENT=0.1\n",
    "dgp_params.TREATMENT_EFFECT_HETEROGENEITY = 1\n",
    "dgp_params.OUTCOME_NOISE_TAIL_THICKNESS = 250\n",
    "\n",
    "res = run(dgp_params)"
   ]
  },
  {
   "cell_type": "code",
   "execution_count": 326,
   "metadata": {},
   "outputs": [
    {
     "name": "stdout",
     "output_type": "stream",
     "text": [
      "0.14497290062566132 0.6508155806052487\n",
      "0.16608106441328108 0.6519570211223438\n"
     ]
    }
   ],
   "source": [
    "print(np.mean(res[\"Alignment Obs\"]), np.max(res[\"Alignment Obs\"]))\n",
    "print(np.mean(res[\"Alignment Oracle\"]), np.max(res[\"Alignment Oracle\"]))"
   ]
  }
 ],
 "metadata": {
  "kernelspec": {
   "display_name": "Python 3",
   "language": "python",
   "name": "python3"
  },
  "language_info": {
   "codemirror_mode": {
    "name": "ipython",
    "version": 3
   },
   "file_extension": ".py",
   "mimetype": "text/x-python",
   "name": "python",
   "nbconvert_exporter": "python",
   "pygments_lexer": "ipython3",
   "version": "3.7.3"
  },
  "varInspector": {
   "cols": {
    "lenName": 16,
    "lenType": 16,
    "lenVar": 40
   },
   "kernels_config": {
    "python": {
     "delete_cmd_postfix": "",
     "delete_cmd_prefix": "del ",
     "library": "var_list.py",
     "varRefreshCmd": "print(var_dic_list())"
    },
    "r": {
     "delete_cmd_postfix": ") ",
     "delete_cmd_prefix": "rm(",
     "library": "var_list.r",
     "varRefreshCmd": "cat(var_dic_list()) "
    }
   },
   "types_to_exclude": [
    "module",
    "function",
    "builtin_function_or_method",
    "instance",
    "_Feature"
   ],
   "window_display": false
  }
 },
 "nbformat": 4,
 "nbformat_minor": 2
}
