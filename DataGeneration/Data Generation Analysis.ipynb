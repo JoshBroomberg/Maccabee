{
 "cells": [
  {
   "cell_type": "code",
   "execution_count": 1,
   "metadata": {},
   "outputs": [],
   "source": [
    "%load_ext autoreload\n",
    "%autoreload 2"
   ]
  },
  {
   "cell_type": "code",
   "execution_count": 2,
   "metadata": {},
   "outputs": [],
   "source": [
    "# from CausalBenchmark.data_generation_framework import *\n",
    "from CausalBenchmark.parameters import build_parameter_object, DEFAULT_PARAMETER_PATH\n",
    "from CausalBenchmark.data_generation import DataGeneratingProcessWrapper\n",
    "from CausalBenchmark.utilities import generate_random_covariates"
   ]
  },
  {
   "cell_type": "code",
   "execution_count": 3,
   "metadata": {},
   "outputs": [],
   "source": [
    "covar_data = generate_random_covariates()"
   ]
  },
  {
   "cell_type": "code",
   "execution_count": 4,
   "metadata": {},
   "outputs": [],
   "source": [
    "dgp_params = build_parameter_object(DEFAULT_PARAMETER_PATH)"
   ]
  },
  {
   "cell_type": "code",
   "execution_count": 5,
   "metadata": {},
   "outputs": [],
   "source": [
    "dgp_wrapper = DataGeneratingProcessWrapper(\n",
    "    parameters=dgp_params, source_covariate_data=covar_data)\n",
    "\n",
    "dgp_wrapper.sample_dgp()"
   ]
  },
  {
   "cell_type": "code",
   "execution_count": 6,
   "metadata": {},
   "outputs": [],
   "source": [
    "observed_covariate_data, observed_outcome_data, oracle_covariate_data, oracle_outcome_data = dgp_wrapper.generate_data()"
   ]
  },
  {
   "cell_type": "code",
   "execution_count": 7,
   "metadata": {},
   "outputs": [
    {
     "data": {
      "text/html": [
       "<div>\n",
       "<style scoped>\n",
       "    .dataframe tbody tr th:only-of-type {\n",
       "        vertical-align: middle;\n",
       "    }\n",
       "\n",
       "    .dataframe tbody tr th {\n",
       "        vertical-align: top;\n",
       "    }\n",
       "\n",
       "    .dataframe thead th {\n",
       "        text-align: right;\n",
       "    }\n",
       "</style>\n",
       "<table border=\"1\" class=\"dataframe\">\n",
       "  <thead>\n",
       "    <tr style=\"text-align: right;\">\n",
       "      <th></th>\n",
       "      <th>T</th>\n",
       "      <th>Y</th>\n",
       "    </tr>\n",
       "  </thead>\n",
       "  <tbody>\n",
       "    <tr>\n",
       "      <th>0</th>\n",
       "      <td>1</td>\n",
       "      <td>1.753434</td>\n",
       "    </tr>\n",
       "    <tr>\n",
       "      <th>1</th>\n",
       "      <td>1</td>\n",
       "      <td>3.803594</td>\n",
       "    </tr>\n",
       "    <tr>\n",
       "      <th>2</th>\n",
       "      <td>0</td>\n",
       "      <td>-0.635371</td>\n",
       "    </tr>\n",
       "    <tr>\n",
       "      <th>3</th>\n",
       "      <td>1</td>\n",
       "      <td>-0.977702</td>\n",
       "    </tr>\n",
       "    <tr>\n",
       "      <th>4</th>\n",
       "      <td>1</td>\n",
       "      <td>-4.715418</td>\n",
       "    </tr>\n",
       "  </tbody>\n",
       "</table>\n",
       "</div>"
      ],
      "text/plain": [
       "   T         Y\n",
       "0  1  1.753434\n",
       "1  1  3.803594\n",
       "2  0 -0.635371\n",
       "3  1 -0.977702\n",
       "4  1 -4.715418"
      ]
     },
     "execution_count": 7,
     "metadata": {},
     "output_type": "execute_result"
    }
   ],
   "source": [
    "observed_outcome_data.head()"
   ]
  },
  {
   "cell_type": "code",
   "execution_count": 8,
   "metadata": {},
   "outputs": [
    {
     "data": {
      "text/html": [
       "<div>\n",
       "<style scoped>\n",
       "    .dataframe tbody tr th:only-of-type {\n",
       "        vertical-align: middle;\n",
       "    }\n",
       "\n",
       "    .dataframe tbody tr th {\n",
       "        vertical-align: top;\n",
       "    }\n",
       "\n",
       "    .dataframe thead th {\n",
       "        text-align: right;\n",
       "    }\n",
       "</style>\n",
       "<table border=\"1\" class=\"dataframe\">\n",
       "  <thead>\n",
       "    <tr style=\"text-align: right;\">\n",
       "      <th></th>\n",
       "      <th>logit(P(T|X))</th>\n",
       "      <th>P(T|X)</th>\n",
       "      <th>Y0</th>\n",
       "      <th>Y1</th>\n",
       "      <th>TE</th>\n",
       "    </tr>\n",
       "  </thead>\n",
       "  <tbody>\n",
       "    <tr>\n",
       "      <th>0</th>\n",
       "      <td>0.406480</td>\n",
       "      <td>0.600244</td>\n",
       "      <td>0.389963</td>\n",
       "      <td>1.753434</td>\n",
       "      <td>1.363471</td>\n",
       "    </tr>\n",
       "    <tr>\n",
       "      <th>1</th>\n",
       "      <td>0.383471</td>\n",
       "      <td>0.594710</td>\n",
       "      <td>3.286305</td>\n",
       "      <td>3.803594</td>\n",
       "      <td>0.517289</td>\n",
       "    </tr>\n",
       "    <tr>\n",
       "      <th>2</th>\n",
       "      <td>0.726482</td>\n",
       "      <td>0.674033</td>\n",
       "      <td>-0.635371</td>\n",
       "      <td>-0.198033</td>\n",
       "      <td>0.437337</td>\n",
       "    </tr>\n",
       "    <tr>\n",
       "      <th>3</th>\n",
       "      <td>0.619074</td>\n",
       "      <td>0.650008</td>\n",
       "      <td>-1.426653</td>\n",
       "      <td>-0.977702</td>\n",
       "      <td>0.448951</td>\n",
       "    </tr>\n",
       "    <tr>\n",
       "      <th>4</th>\n",
       "      <td>0.631144</td>\n",
       "      <td>0.652749</td>\n",
       "      <td>-3.942108</td>\n",
       "      <td>-4.715418</td>\n",
       "      <td>-0.773310</td>\n",
       "    </tr>\n",
       "  </tbody>\n",
       "</table>\n",
       "</div>"
      ],
      "text/plain": [
       "   logit(P(T|X))    P(T|X)        Y0        Y1        TE\n",
       "0       0.406480  0.600244  0.389963  1.753434  1.363471\n",
       "1       0.383471  0.594710  3.286305  3.803594  0.517289\n",
       "2       0.726482  0.674033 -0.635371 -0.198033  0.437337\n",
       "3       0.619074  0.650008 -1.426653 -0.977702  0.448951\n",
       "4       0.631144  0.652749 -3.942108 -4.715418 -0.773310"
      ]
     },
     "execution_count": 8,
     "metadata": {},
     "output_type": "execute_result"
    }
   ],
   "source": [
    "oracle_outcome_data.head()"
   ]
  },
  {
   "cell_type": "code",
   "execution_count": 9,
   "metadata": {},
   "outputs": [
    {
     "data": {
      "text/html": [
       "<div>\n",
       "<style scoped>\n",
       "    .dataframe tbody tr th:only-of-type {\n",
       "        vertical-align: middle;\n",
       "    }\n",
       "\n",
       "    .dataframe tbody tr th {\n",
       "        vertical-align: top;\n",
       "    }\n",
       "\n",
       "    .dataframe thead th {\n",
       "        text-align: right;\n",
       "    }\n",
       "</style>\n",
       "<table border=\"1\" class=\"dataframe\">\n",
       "  <thead>\n",
       "    <tr style=\"text-align: right;\">\n",
       "      <th></th>\n",
       "      <th>logit(P(T|X))</th>\n",
       "      <th>P(T|X)</th>\n",
       "      <th>Y0</th>\n",
       "      <th>Y1</th>\n",
       "      <th>TE</th>\n",
       "      <th>TRANSFORMED_X0</th>\n",
       "      <th>TRANSFORMED_X1</th>\n",
       "      <th>TRANSFORMED_X2</th>\n",
       "      <th>TRANSFORMED_X3</th>\n",
       "      <th>TRANSFORMED_X4</th>\n",
       "      <th>...</th>\n",
       "      <th>TRANSFORMED_X51</th>\n",
       "      <th>TRANSFORMED_X52</th>\n",
       "      <th>TRANSFORMED_X53</th>\n",
       "      <th>TRANSFORMED_X54</th>\n",
       "      <th>TRANSFORMED_X55</th>\n",
       "      <th>TRANSFORMED_X56</th>\n",
       "      <th>TRANSFORMED_X57</th>\n",
       "      <th>TRANSFORMED_X58</th>\n",
       "      <th>TRANSFORMED_X59</th>\n",
       "      <th>TRANSFORMED_X60</th>\n",
       "    </tr>\n",
       "  </thead>\n",
       "  <tbody>\n",
       "    <tr>\n",
       "      <th>0</th>\n",
       "      <td>0.406480</td>\n",
       "      <td>0.600244</td>\n",
       "      <td>0.389963</td>\n",
       "      <td>1.753434</td>\n",
       "      <td>1.363471</td>\n",
       "      <td>5.754569</td>\n",
       "      <td>0.726219</td>\n",
       "      <td>15.093009</td>\n",
       "      <td>0.242873</td>\n",
       "      <td>-79.447924</td>\n",
       "      <td>...</td>\n",
       "      <td>70.092831</td>\n",
       "      <td>-1.139960</td>\n",
       "      <td>-0.488630</td>\n",
       "      <td>-264.697024</td>\n",
       "      <td>467.058709</td>\n",
       "      <td>-2.376736</td>\n",
       "      <td>1.705499</td>\n",
       "      <td>-224.972647</td>\n",
       "      <td>-52.834618</td>\n",
       "      <td>-459.416927</td>\n",
       "    </tr>\n",
       "    <tr>\n",
       "      <th>1</th>\n",
       "      <td>0.383471</td>\n",
       "      <td>0.594710</td>\n",
       "      <td>3.286305</td>\n",
       "      <td>3.803594</td>\n",
       "      <td>0.517289</td>\n",
       "      <td>-1.558580</td>\n",
       "      <td>-7.370931</td>\n",
       "      <td>18.687948</td>\n",
       "      <td>5.602079</td>\n",
       "      <td>-98.371281</td>\n",
       "      <td>...</td>\n",
       "      <td>18.910267</td>\n",
       "      <td>0.875369</td>\n",
       "      <td>-0.908785</td>\n",
       "      <td>-19.516633</td>\n",
       "      <td>-30.087619</td>\n",
       "      <td>-0.930214</td>\n",
       "      <td>-5.996690</td>\n",
       "      <td>-309.961946</td>\n",
       "      <td>357.245970</td>\n",
       "      <td>43.432635</td>\n",
       "    </tr>\n",
       "    <tr>\n",
       "      <th>2</th>\n",
       "      <td>0.726482</td>\n",
       "      <td>0.674033</td>\n",
       "      <td>-0.635371</td>\n",
       "      <td>-0.198033</td>\n",
       "      <td>0.437337</td>\n",
       "      <td>-0.017951</td>\n",
       "      <td>-2.908028</td>\n",
       "      <td>15.134103</td>\n",
       "      <td>-3.719853</td>\n",
       "      <td>-79.664239</td>\n",
       "      <td>...</td>\n",
       "      <td>364.690109</td>\n",
       "      <td>0.991462</td>\n",
       "      <td>-0.181410</td>\n",
       "      <td>-411.480450</td>\n",
       "      <td>-15.913604</td>\n",
       "      <td>5.016632</td>\n",
       "      <td>-4.410748</td>\n",
       "      <td>225.892083</td>\n",
       "      <td>-508.143597</td>\n",
       "      <td>-63.078459</td>\n",
       "    </tr>\n",
       "    <tr>\n",
       "      <th>3</th>\n",
       "      <td>0.619074</td>\n",
       "      <td>0.650008</td>\n",
       "      <td>-1.426653</td>\n",
       "      <td>-0.977702</td>\n",
       "      <td>0.448951</td>\n",
       "      <td>5.602640</td>\n",
       "      <td>-2.589072</td>\n",
       "      <td>0.165372</td>\n",
       "      <td>-2.443408</td>\n",
       "      <td>-0.870497</td>\n",
       "      <td>...</td>\n",
       "      <td>-7.245999</td>\n",
       "      <td>0.175528</td>\n",
       "      <td>-1.691849</td>\n",
       "      <td>120.010853</td>\n",
       "      <td>8.268161</td>\n",
       "      <td>1.744312</td>\n",
       "      <td>-4.827616</td>\n",
       "      <td>-0.258022</td>\n",
       "      <td>-1.428488</td>\n",
       "      <td>-4.672222</td>\n",
       "    </tr>\n",
       "    <tr>\n",
       "      <th>4</th>\n",
       "      <td>0.631144</td>\n",
       "      <td>0.652749</td>\n",
       "      <td>-3.942108</td>\n",
       "      <td>-4.715418</td>\n",
       "      <td>-0.773310</td>\n",
       "      <td>-1.456669</td>\n",
       "      <td>-6.650904</td>\n",
       "      <td>0.573235</td>\n",
       "      <td>4.237177</td>\n",
       "      <td>-3.017443</td>\n",
       "      <td>...</td>\n",
       "      <td>112.448328</td>\n",
       "      <td>-2.387334</td>\n",
       "      <td>0.532677</td>\n",
       "      <td>-226.739854</td>\n",
       "      <td>55.680069</td>\n",
       "      <td>2.768805</td>\n",
       "      <td>-1.040831</td>\n",
       "      <td>1.665193</td>\n",
       "      <td>141.251827</td>\n",
       "      <td>32.655800</td>\n",
       "    </tr>\n",
       "  </tbody>\n",
       "</table>\n",
       "<p>5 rows × 66 columns</p>\n",
       "</div>"
      ],
      "text/plain": [
       "   logit(P(T|X))    P(T|X)        Y0        Y1        TE  TRANSFORMED_X0  \\\n",
       "0       0.406480  0.600244  0.389963  1.753434  1.363471        5.754569   \n",
       "1       0.383471  0.594710  3.286305  3.803594  0.517289       -1.558580   \n",
       "2       0.726482  0.674033 -0.635371 -0.198033  0.437337       -0.017951   \n",
       "3       0.619074  0.650008 -1.426653 -0.977702  0.448951        5.602640   \n",
       "4       0.631144  0.652749 -3.942108 -4.715418 -0.773310       -1.456669   \n",
       "\n",
       "   TRANSFORMED_X1  TRANSFORMED_X2  TRANSFORMED_X3  TRANSFORMED_X4  ...  \\\n",
       "0        0.726219       15.093009        0.242873      -79.447924  ...   \n",
       "1       -7.370931       18.687948        5.602079      -98.371281  ...   \n",
       "2       -2.908028       15.134103       -3.719853      -79.664239  ...   \n",
       "3       -2.589072        0.165372       -2.443408       -0.870497  ...   \n",
       "4       -6.650904        0.573235        4.237177       -3.017443  ...   \n",
       "\n",
       "   TRANSFORMED_X51  TRANSFORMED_X52  TRANSFORMED_X53  TRANSFORMED_X54  \\\n",
       "0        70.092831        -1.139960        -0.488630      -264.697024   \n",
       "1        18.910267         0.875369        -0.908785       -19.516633   \n",
       "2       364.690109         0.991462        -0.181410      -411.480450   \n",
       "3        -7.245999         0.175528        -1.691849       120.010853   \n",
       "4       112.448328        -2.387334         0.532677      -226.739854   \n",
       "\n",
       "   TRANSFORMED_X55  TRANSFORMED_X56  TRANSFORMED_X57  TRANSFORMED_X58  \\\n",
       "0       467.058709        -2.376736         1.705499      -224.972647   \n",
       "1       -30.087619        -0.930214        -5.996690      -309.961946   \n",
       "2       -15.913604         5.016632        -4.410748       225.892083   \n",
       "3         8.268161         1.744312        -4.827616        -0.258022   \n",
       "4        55.680069         2.768805        -1.040831         1.665193   \n",
       "\n",
       "   TRANSFORMED_X59  TRANSFORMED_X60  \n",
       "0       -52.834618      -459.416927  \n",
       "1       357.245970        43.432635  \n",
       "2      -508.143597       -63.078459  \n",
       "3        -1.428488        -4.672222  \n",
       "4       141.251827        32.655800  \n",
       "\n",
       "[5 rows x 66 columns]"
      ]
     },
     "execution_count": 9,
     "metadata": {},
     "output_type": "execute_result"
    }
   ],
   "source": [
    "oracle_outcome_data.join(oracle_covariate_data).head()"
   ]
  },
  {
   "cell_type": "code",
   "execution_count": 10,
   "metadata": {},
   "outputs": [
    {
     "data": {
      "text/html": [
       "<div>\n",
       "<style scoped>\n",
       "    .dataframe tbody tr th:only-of-type {\n",
       "        vertical-align: middle;\n",
       "    }\n",
       "\n",
       "    .dataframe tbody tr th {\n",
       "        vertical-align: top;\n",
       "    }\n",
       "\n",
       "    .dataframe thead th {\n",
       "        text-align: right;\n",
       "    }\n",
       "</style>\n",
       "<table border=\"1\" class=\"dataframe\">\n",
       "  <thead>\n",
       "    <tr style=\"text-align: right;\">\n",
       "      <th></th>\n",
       "      <th>T</th>\n",
       "      <th>Y</th>\n",
       "      <th>X0</th>\n",
       "      <th>X1</th>\n",
       "      <th>X2</th>\n",
       "      <th>X3</th>\n",
       "      <th>X4</th>\n",
       "      <th>X5</th>\n",
       "      <th>X6</th>\n",
       "      <th>X7</th>\n",
       "      <th>...</th>\n",
       "      <th>X11</th>\n",
       "      <th>X12</th>\n",
       "      <th>X13</th>\n",
       "      <th>X14</th>\n",
       "      <th>X15</th>\n",
       "      <th>X16</th>\n",
       "      <th>X17</th>\n",
       "      <th>X18</th>\n",
       "      <th>X19</th>\n",
       "      <th>NOISE(Y)</th>\n",
       "    </tr>\n",
       "  </thead>\n",
       "  <tbody>\n",
       "    <tr>\n",
       "      <th>0</th>\n",
       "      <td>1</td>\n",
       "      <td>1.753434</td>\n",
       "      <td>-4.988866</td>\n",
       "      <td>-1.261010</td>\n",
       "      <td>-6.660453</td>\n",
       "      <td>2.107003</td>\n",
       "      <td>-2.330828</td>\n",
       "      <td>4.746688</td>\n",
       "      <td>0.126774</td>\n",
       "      <td>4.769785</td>\n",
       "      <td>...</td>\n",
       "      <td>-0.853783</td>\n",
       "      <td>-0.132792</td>\n",
       "      <td>-6.142662</td>\n",
       "      <td>-4.494046</td>\n",
       "      <td>1.522825</td>\n",
       "      <td>4.960373</td>\n",
       "      <td>0.811101</td>\n",
       "      <td>-4.931828</td>\n",
       "      <td>-4.658148</td>\n",
       "      <td>-0.773</td>\n",
       "    </tr>\n",
       "    <tr>\n",
       "      <th>1</th>\n",
       "      <td>1</td>\n",
       "      <td>3.803594</td>\n",
       "      <td>13.270595</td>\n",
       "      <td>7.535710</td>\n",
       "      <td>4.323835</td>\n",
       "      <td>3.664918</td>\n",
       "      <td>5.790890</td>\n",
       "      <td>-2.559788</td>\n",
       "      <td>-4.425266</td>\n",
       "      <td>-1.844467</td>\n",
       "      <td>...</td>\n",
       "      <td>-2.707003</td>\n",
       "      <td>-8.251547</td>\n",
       "      <td>-2.230381</td>\n",
       "      <td>1.003409</td>\n",
       "      <td>-1.945255</td>\n",
       "      <td>0.572234</td>\n",
       "      <td>-7.121329</td>\n",
       "      <td>-9.937388</td>\n",
       "      <td>1.377387</td>\n",
       "      <td>0.334</td>\n",
       "    </tr>\n",
       "    <tr>\n",
       "      <th>2</th>\n",
       "      <td>0</td>\n",
       "      <td>-0.635371</td>\n",
       "      <td>6.941918</td>\n",
       "      <td>1.374067</td>\n",
       "      <td>-1.422055</td>\n",
       "      <td>4.197976</td>\n",
       "      <td>8.074672</td>\n",
       "      <td>3.685918</td>\n",
       "      <td>0.794613</td>\n",
       "      <td>-5.344279</td>\n",
       "      <td>...</td>\n",
       "      <td>-0.020471</td>\n",
       "      <td>-4.675352</td>\n",
       "      <td>6.808028</td>\n",
       "      <td>7.096601</td>\n",
       "      <td>-3.141082</td>\n",
       "      <td>-3.660737</td>\n",
       "      <td>4.437290</td>\n",
       "      <td>6.620788</td>\n",
       "      <td>-12.797153</td>\n",
       "      <td>1.010</td>\n",
       "    </tr>\n",
       "    <tr>\n",
       "      <th>3</th>\n",
       "      <td>1</td>\n",
       "      <td>-0.977702</td>\n",
       "      <td>4.547820</td>\n",
       "      <td>-2.186806</td>\n",
       "      <td>3.044066</td>\n",
       "      <td>8.492801</td>\n",
       "      <td>-2.643042</td>\n",
       "      <td>2.119090</td>\n",
       "      <td>2.738168</td>\n",
       "      <td>-9.720637</td>\n",
       "      <td>...</td>\n",
       "      <td>5.598101</td>\n",
       "      <td>-0.385612</td>\n",
       "      <td>4.453406</td>\n",
       "      <td>5.766023</td>\n",
       "      <td>5.601523</td>\n",
       "      <td>-7.615414</td>\n",
       "      <td>4.048058</td>\n",
       "      <td>-7.155180</td>\n",
       "      <td>-9.797740</td>\n",
       "      <td>3.100</td>\n",
       "    </tr>\n",
       "    <tr>\n",
       "      <th>4</th>\n",
       "      <td>1</td>\n",
       "      <td>-4.715418</td>\n",
       "      <td>-3.706814</td>\n",
       "      <td>2.632639</td>\n",
       "      <td>2.899103</td>\n",
       "      <td>-7.623863</td>\n",
       "      <td>-4.275835</td>\n",
       "      <td>6.294616</td>\n",
       "      <td>5.206876</td>\n",
       "      <td>-1.048976</td>\n",
       "      <td>...</td>\n",
       "      <td>2.832058</td>\n",
       "      <td>8.075104</td>\n",
       "      <td>9.728722</td>\n",
       "      <td>-4.124796</td>\n",
       "      <td>-0.809450</td>\n",
       "      <td>0.792907</td>\n",
       "      <td>-0.785806</td>\n",
       "      <td>6.495117</td>\n",
       "      <td>0.356299</td>\n",
       "      <td>1.072</td>\n",
       "    </tr>\n",
       "  </tbody>\n",
       "</table>\n",
       "<p>5 rows × 23 columns</p>\n",
       "</div>"
      ],
      "text/plain": [
       "   T         Y         X0        X1        X2        X3        X4        X5  \\\n",
       "0  1  1.753434  -4.988866 -1.261010 -6.660453  2.107003 -2.330828  4.746688   \n",
       "1  1  3.803594  13.270595  7.535710  4.323835  3.664918  5.790890 -2.559788   \n",
       "2  0 -0.635371   6.941918  1.374067 -1.422055  4.197976  8.074672  3.685918   \n",
       "3  1 -0.977702   4.547820 -2.186806  3.044066  8.492801 -2.643042  2.119090   \n",
       "4  1 -4.715418  -3.706814  2.632639  2.899103 -7.623863 -4.275835  6.294616   \n",
       "\n",
       "         X6        X7  ...       X11       X12       X13       X14       X15  \\\n",
       "0  0.126774  4.769785  ... -0.853783 -0.132792 -6.142662 -4.494046  1.522825   \n",
       "1 -4.425266 -1.844467  ... -2.707003 -8.251547 -2.230381  1.003409 -1.945255   \n",
       "2  0.794613 -5.344279  ... -0.020471 -4.675352  6.808028  7.096601 -3.141082   \n",
       "3  2.738168 -9.720637  ...  5.598101 -0.385612  4.453406  5.766023  5.601523   \n",
       "4  5.206876 -1.048976  ...  2.832058  8.075104  9.728722 -4.124796 -0.809450   \n",
       "\n",
       "        X16       X17       X18        X19  NOISE(Y)  \n",
       "0  4.960373  0.811101 -4.931828  -4.658148    -0.773  \n",
       "1  0.572234 -7.121329 -9.937388   1.377387     0.334  \n",
       "2 -3.660737  4.437290  6.620788 -12.797153     1.010  \n",
       "3 -7.615414  4.048058 -7.155180  -9.797740     3.100  \n",
       "4  0.792907 -0.785806  6.495117   0.356299     1.072  \n",
       "\n",
       "[5 rows x 23 columns]"
      ]
     },
     "execution_count": 10,
     "metadata": {},
     "output_type": "execute_result"
    }
   ],
   "source": [
    "observed_outcome_data.join(observed_covariate_data).head()"
   ]
  },
  {
   "cell_type": "markdown",
   "metadata": {},
   "source": [
    "## Metrics"
   ]
  },
  {
   "cell_type": "code",
   "execution_count": 11,
   "metadata": {},
   "outputs": [
    {
     "data": {
      "text/plain": [
       "0.9923821777757903"
      ]
     },
     "execution_count": 11,
     "metadata": {},
     "output_type": "execute_result"
    }
   ],
   "source": [
    "from sklearn.linear_model import LogisticRegression, LinearRegression\n",
    "lr = LinearRegression()\n",
    "lr.fit(oracle_covariate_data, oracle_outcome_data[\"logit(P(T|X))\"])\n",
    "lr.score(oracle_covariate_data, oracle_outcome_data[\"logit(P(T|X))\"])"
   ]
  },
  {
   "cell_type": "code",
   "execution_count": 12,
   "metadata": {},
   "outputs": [
    {
     "name": "stderr",
     "output_type": "stream",
     "text": [
      "/opt/conda/lib/python3.7/site-packages/ipykernel_launcher.py:1: UserWarning: Boolean Series key will be reindexed to match DataFrame index.\n",
      "  \"\"\"Entry point for launching an IPython kernel.\n",
      "/opt/conda/lib/python3.7/site-packages/ipykernel_launcher.py:2: UserWarning: Boolean Series key will be reindexed to match DataFrame index.\n",
      "  \n"
     ]
    },
    {
     "data": {
      "text/plain": [
       "((337, 21), (663, 21))"
      ]
     },
     "execution_count": 12,
     "metadata": {},
     "output_type": "execute_result"
    }
   ],
   "source": [
    "treated = observed_covariate_data[observed_outcome_data[\"T\"] == 1]\n",
    "control = observed_covariate_data[observed_outcome_data[\"T\"] == 0]\n",
    "control.shape, treated.shape"
   ]
  },
  {
   "cell_type": "code",
   "execution_count": 13,
   "metadata": {},
   "outputs": [],
   "source": [
    "from scipy.spatial.distance import cdist\n"
   ]
  },
  {
   "cell_type": "code",
   "execution_count": 17,
   "metadata": {},
   "outputs": [
    {
     "name": "stdout",
     "output_type": "stream",
     "text": [
      "Collecting POT\n",
      "\u001b[?25l  Downloading https://files.pythonhosted.org/packages/51/97/f33e927aa83e5034f962d2be035d321c82a2b4bfc24279325c98188300c3/POT-0.6.0-cp37-cp37m-manylinux1_x86_64.whl (305kB)\n",
      "\u001b[K     |████████████████████████████████| 307kB 541kB/s eta 0:00:01\n",
      "\u001b[?25hRequirement already satisfied: numpy in /opt/conda/lib/python3.7/site-packages (from POT) (1.17.0)\n",
      "Requirement already satisfied: scipy in /opt/conda/lib/python3.7/site-packages (from POT) (1.3.1)\n",
      "Requirement already satisfied: cython in /opt/conda/lib/python3.7/site-packages (from POT) (0.29.13)\n",
      "Installing collected packages: POT\n",
      "Successfully installed POT-0.6.0\n"
     ]
    }
   ],
   "source": [
    "!pip install POT"
   ]
  },
  {
   "cell_type": "code",
   "execution_count": 23,
   "metadata": {},
   "outputs": [],
   "source": [
    "import ot\n",
    "import numpy as np\n",
    "import matplotlib.pylab as pl\n",
    "import ot.plot"
   ]
  },
  {
   "cell_type": "raw",
   "metadata": {},
   "source": [
    "ot.dist?"
   ]
  },
  {
   "cell_type": "code",
   "execution_count": 29,
   "metadata": {},
   "outputs": [],
   "source": [
    "n = 50  # nb samples\n",
    "\n",
    "mu_s = np.array([0, 0])\n",
    "cov_s = np.array([[1, 0], [0, 1]])\n",
    "\n",
    "mu_t = np.array([8, 8])\n",
    "cov_t = np.array([[1, -.8], [-.8, 1]])\n",
    "\n",
    "xs = ot.datasets.make_2D_samples_gauss(n, mu_s, cov_s)\n",
    "xt = ot.datasets.make_2D_samples_gauss(n, mu_t, cov_t)\n",
    "\n",
    "a, b = np.ones((n,)) / n, np.ones((n,)) / n  # uniform distribution on samples\n",
    "\n",
    "# loss matrix\n",
    "M = ot.dist(xs, xt)\n",
    "M /= M.max()"
   ]
  },
  {
   "cell_type": "code",
   "execution_count": 30,
   "metadata": {},
   "outputs": [
    {
     "data": {
      "text/plain": [
       "Text(0.5, 1.0, 'Cost matrix M')"
      ]
     },
     "execution_count": 30,
     "metadata": {},
     "output_type": "execute_result"
    },
    {
     "data": {
      "image/png": "[encoded data removed]",
      "text/plain": [
       "<Figure size 432x288 with 1 Axes>"
      ]
     },
     "metadata": {
      "needs_background": "light"
     },
     "output_type": "display_data"
    },
    {
     "data": {
      "image/png": "[encoded data removed]",
      "text/plain": [
       "<Figure size 432x288 with 1 Axes>"
      ]
     },
     "metadata": {
      "needs_background": "light"
     },
     "output_type": "display_data"
    }
   ],
   "source": [
    "pl.figure(1)\n",
    "pl.plot(xs[:, 0], xs[:, 1], '+b', label='Source samples')\n",
    "pl.plot(xt[:, 0], xt[:, 1], 'xr', label='Target samples')\n",
    "pl.legend(loc=0)\n",
    "pl.title('Source and target distributions')\n",
    "\n",
    "pl.figure(2)\n",
    "pl.imshow(M, interpolation='nearest')\n",
    "pl.title('Cost matrix M')"
   ]
  },
  {
   "cell_type": "code",
   "execution_count": 31,
   "metadata": {},
   "outputs": [
    {
     "data": {
      "text/plain": [
       "0.551264275505211"
      ]
     },
     "execution_count": 31,
     "metadata": {},
     "output_type": "execute_result"
    }
   ],
   "source": [
    "ot.emd2(a, b, M)"
   ]
  },
  {
   "cell_type": "code",
   "execution_count": 26,
   "metadata": {},
   "outputs": [
    {
     "data": {
      "text/plain": [
       "Text(0.5, 1.0, 'OT matrix with samples')"
      ]
     },
     "execution_count": 26,
     "metadata": {},
     "output_type": "execute_result"
    },
    {
     "data": {
      "image/png": "[encoded data removed]",
      "text/plain": [
       "<Figure size 432x288 with 1 Axes>"
      ]
     },
     "metadata": {
      "needs_background": "light"
     },
     "output_type": "display_data"
    },
    {
     "data": {
      "image/png": "[encoded data removed]",
      "text/plain": [
       "<Figure size 432x288 with 1 Axes>"
      ]
     },
     "metadata": {
      "needs_background": "light"
     },
     "output_type": "display_data"
    }
   ],
   "source": [
    "G0 = ot.emd(a, b, M)\n",
    "\n",
    "pl.figure(3)\n",
    "pl.imshow(G0, interpolation='nearest')\n",
    "pl.title('OT matrix G0')\n",
    "\n",
    "pl.figure(4)\n",
    "ot.plot.plot2D_samples_mat(xs, xt, G0, c=[.5, .5, 1])\n",
    "pl.plot(xs[:, 0], xs[:, 1], '+b', label='Source samples')\n",
    "pl.plot(xt[:, 0], xt[:, 1], 'xr', label='Target samples')\n",
    "pl.legend(loc=0)\n",
    "pl.title('OT matrix with samples')"
   ]
  }
 ],
 "metadata": {
  "kernelspec": {
   "display_name": "Python 3",
   "language": "python",
   "name": "python3"
  },
  "language_info": {
   "codemirror_mode": {
    "name": "ipython",
    "version": 3
   },
   "file_extension": ".py",
   "mimetype": "text/x-python",
   "name": "python",
   "nbconvert_exporter": "python",
   "pygments_lexer": "ipython3",
   "version": "3.7.3"
  },
  "varInspector": {
   "cols": {
    "lenName": 16,
    "lenType": 16,
    "lenVar": 40
   },
   "kernels_config": {
    "python": {
     "delete_cmd_postfix": "",
     "delete_cmd_prefix": "del ",
     "library": "var_list.py",
     "varRefreshCmd": "print(var_dic_list())"
    },
    "r": {
     "delete_cmd_postfix": ") ",
     "delete_cmd_prefix": "rm(",
     "library": "var_list.r",
     "varRefreshCmd": "cat(var_dic_list()) "
    }
   },
   "types_to_exclude": [
    "module",
    "function",
    "builtin_function_or_method",
    "instance",
    "_Feature"
   ],
   "window_display": false
  }
 },
 "nbformat": 4,
 "nbformat_minor": 2
}
