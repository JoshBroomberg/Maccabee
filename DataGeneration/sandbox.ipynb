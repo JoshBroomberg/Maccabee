{
 "cells": [
  {
   "cell_type": "code",
   "execution_count": 45,
   "metadata": {},
   "outputs": [],
   "source": [
    "import pandas as pd\n",
    "import numpy as np\n",
    "import matplotlib.pyplot as plt\n",
    "from scipy.stats import boxcox"
   ]
  },
  {
   "cell_type": "code",
   "execution_count": 80,
   "metadata": {},
   "outputs": [],
   "source": [
    "def _normalize_covariate_data(covariate_data, exclude_columns=[]):\n",
    "    included_filter = np.ones(covariate_data.shape[1])\n",
    "    included_filter[exclude_columns] = 0\n",
    "    excluded_filter = 1 - included_filter\n",
    "\n",
    "    X_min = np.min(covariate_data, axis=0)\n",
    "    X_max = np.max(covariate_data, axis=0)\n",
    "\n",
    "    # Amount to shift columns. Excluded cols shift 0.\n",
    "    column_shifts = (-1*X_min) * included_filter\n",
    "\n",
    "    # Amount to scale columns. Excluded cols scale by 1.\n",
    "    column_scales = ((X_max - X_min) * included_filter) + excluded_filter\n",
    "\n",
    "    normalized_data = (covariate_data + column_shifts)/column_scales\n",
    "    scaled_data = (normalized_data * ((2*included_filter) + excluded_filter)) - (1*included_filter)\n",
    "    \n",
    "    return scaled_data"
   ]
  },
  {
   "cell_type": "code",
   "execution_count": 81,
   "metadata": {},
   "outputs": [],
   "source": [
    "x = np.random.normal(loc=0, scale=10, size=(300, 2))"
   ]
  },
  {
   "cell_type": "code",
   "execution_count": 86,
   "metadata": {},
   "outputs": [
    {
     "data": {
      "text/plain": [
       "(array([ 1.,  6., 17., 40., 65., 69., 53., 36.,  8.,  5.]),\n",
       " array([-31.83189311, -25.84321441, -19.85453571, -13.86585701,\n",
       "         -7.87717831,  -1.88849961,   4.10017909,  10.08885779,\n",
       "         16.07753649,  22.06621519,  28.05489389]),\n",
       " <a list of 10 Patch objects>)"
      ]
     },
     "execution_count": 86,
     "metadata": {},
     "output_type": "execute_result"
    },
    {
     "data": {
      "image/png": "[encoded data removed]",
      "text/plain": [
       "<Figure size 432x288 with 1 Axes>"
      ]
     },
     "metadata": {
      "needs_background": "light"
     },
     "output_type": "display_data"
    }
   ],
   "source": [
    "plt.hist(x[:, 1])"
   ]
  },
  {
   "cell_type": "code",
   "execution_count": 85,
   "metadata": {},
   "outputs": [
    {
     "data": {
      "text/plain": [
       "(array([ 1.,  6., 17., 40., 65., 69., 53., 36.,  8.,  5.]),\n",
       " array([-31.83189311, -25.84321441, -19.85453571, -13.86585701,\n",
       "         -7.87717831,  -1.88849961,   4.10017909,  10.08885779,\n",
       "         16.07753649,  22.06621519,  28.05489389]),\n",
       " <a list of 10 Patch objects>)"
      ]
     },
     "execution_count": 85,
     "metadata": {},
     "output_type": "execute_result"
    },
    {
     "data": {
      "image/png": "[encoded data removed]",
      "text/plain": [
       "<Figure size 432x288 with 1 Axes>"
      ]
     },
     "metadata": {
      "needs_background": "light"
     },
     "output_type": "display_data"
    }
   ],
   "source": [
    "plt.hist(_normalize_covariate_data(x, exclude_columns=[1])[:, 1])"
   ]
  }
 ],
 "metadata": {
  "kernelspec": {
   "display_name": "Python 3",
   "language": "python",
   "name": "python3"
  },
  "language_info": {
   "codemirror_mode": {
    "name": "ipython",
    "version": 3
   },
   "file_extension": ".py",
   "mimetype": "text/x-python",
   "name": "python",
   "nbconvert_exporter": "python",
   "pygments_lexer": "ipython3",
   "version": "3.7.3"
  },
  "varInspector": {
   "cols": {
    "lenName": 16,
    "lenType": 16,
    "lenVar": 40
   },
   "kernels_config": {
    "python": {
     "delete_cmd_postfix": "",
     "delete_cmd_prefix": "del ",
     "library": "var_list.py",
     "varRefreshCmd": "print(var_dic_list())"
    },
    "r": {
     "delete_cmd_postfix": ") ",
     "delete_cmd_prefix": "rm(",
     "library": "var_list.r",
     "varRefreshCmd": "cat(var_dic_list()) "
    }
   },
   "types_to_exclude": [
    "module",
    "function",
    "builtin_function_or_method",
    "instance",
    "_Feature"
   ],
   "window_display": false
  }
 },
 "nbformat": 4,
 "nbformat_minor": 2
}
