{
 "cells": [
  {
   "cell_type": "code",
   "execution_count": 1,
   "metadata": {},
   "outputs": [
    {
     "name": "stdout",
     "output_type": "stream",
     "text": [
      "Obtaining file:///home/jovyan/work/Maccabee\n",
      "Requirement already satisfied: numpy in /opt/conda/lib/python3.7/site-packages (from maccabee==0.0.12) (1.17.3)\n",
      "Requirement already satisfied: pandas in /opt/conda/lib/python3.7/site-packages (from maccabee==0.0.12) (0.25.3)\n",
      "Requirement already satisfied: scipy in /opt/conda/lib/python3.7/site-packages (from maccabee==0.0.12) (1.3.2)\n",
      "Requirement already satisfied: sympy in /opt/conda/lib/python3.7/site-packages (from maccabee==0.0.12) (1.4)\n",
      "Requirement already satisfied: POT in /opt/conda/lib/python3.7/site-packages (from maccabee==0.0.12) (0.6.0)\n",
      "Requirement already satisfied: pyyaml in /opt/conda/lib/python3.7/site-packages (from maccabee==0.0.12) (5.1.2)\n",
      "Requirement already satisfied: python-dateutil>=2.6.1 in /opt/conda/lib/python3.7/site-packages (from pandas->maccabee==0.0.12) (2.8.1)\n",
      "Requirement already satisfied: pytz>=2017.2 in /opt/conda/lib/python3.7/site-packages (from pandas->maccabee==0.0.12) (2019.3)\n",
      "Requirement already satisfied: mpmath>=0.19 in /opt/conda/lib/python3.7/site-packages (from sympy->maccabee==0.0.12) (1.1.0)\n",
      "Requirement already satisfied: cython in /opt/conda/lib/python3.7/site-packages (from POT->maccabee==0.0.12) (0.29.14)\n",
      "Requirement already satisfied: six>=1.5 in /opt/conda/lib/python3.7/site-packages (from python-dateutil>=2.6.1->pandas->maccabee==0.0.12) (1.13.0)\n",
      "Installing collected packages: maccabee\n",
      "  Found existing installation: maccabee 0.0.12\n",
      "    Uninstalling maccabee-0.0.12:\n",
      "      Successfully uninstalled maccabee-0.0.12\n",
      "  Running setup.py develop for maccabee\n",
      "Successfully installed maccabee\n"
     ]
    }
   ],
   "source": [
    "!pip install -e ../Maccabee"
   ]
  },
  {
   "cell_type": "code",
   "execution_count": 1,
   "metadata": {},
   "outputs": [],
   "source": [
    "from maccabee.data_analysis import calculate_data_axis_metrics, gather_axis_metrics_for_given_params\n",
    "from maccabee.constants import Constants\n",
    "import maccabee.data_sources as data_sources\n",
    "from maccabee.parameters import build_default_parameters, build_parameters_from_axis_levels\n",
    "\n",
    "from maccabee.data_generation import SampledDataGeneratingProcess, data_generating_method\n",
    "\n",
    "# benchmarks\n",
    "from maccabee.benchmarking import benchmark_model_using_concrete_dgp\n",
    "from maccabee.benchmarking import benchmark_model_using_sampled_dgp\n",
    "from maccabee.benchmarking import benchmark_model_using_sampled_dgp_grid\n",
    "\n",
    "# genmatch\n",
    "from maccabee.examples.genmatch import GenmatchDataGeneratingProcess, build_genmatch_datasource, GENMATCH_SPECS\n",
    "from maccabee.examples.genmatch import LogisticPropensityMatchingCausalModel"
   ]
  },
  {
   "cell_type": "code",
   "execution_count": 2,
   "metadata": {},
   "outputs": [],
   "source": [
    "import numpy as np\n",
    "from collections import defaultdict\n",
    "import pandas as pd\n",
    "import matplotlib.pyplot as plt"
   ]
  },
  {
   "cell_type": "code",
   "execution_count": 3,
   "metadata": {},
   "outputs": [],
   "source": [
    "# Define axes and metrics to analyze\n",
    "axes_and_metrics = {\n",
    "    Constants.AxisNames.OUTCOME_NONLINEARITY: [\n",
    "        \"Lin r2(X_obs, Y)\",\n",
    "        \"Lin r2(X_true, Y)\"\n",
    "    ],\n",
    "    Constants.AxisNames.TREATMENT_NONLINEARITY: [\n",
    "        \"Lin r2(X_obs, Treat Logit)\"\n",
    "    ],\n",
    "    Constants.AxisNames.PERCENT_TREATED: [\n",
    "        \"Percent(T==1)\"\n",
    "    ],\n",
    "    Constants.AxisNames.BALANCE: [\n",
    "        \"Wass dist X_true: T=1<->T=0\",\n",
    "    ],\n",
    "    Constants.AxisNames.ALIGNMENT: [\n",
    "        \"Lin r2(Y, Treat Logit)\",\n",
    "        \"Lin r2(Y0, Treat Logit)\"\n",
    "    ],\n",
    "    Constants.AxisNames.TE_HETEROGENEITY: [\n",
    "        \"std(TE)/std(Y)\"\n",
    "    ]\n",
    "}"
   ]
  },
  {
   "cell_type": "code",
   "execution_count": 4,
   "metadata": {},
   "outputs": [],
   "source": [
    "G_param_overrides = {\n",
    "  \"TREAT_MECHANISM_COVARIATE_SELECTION_PROBABILITY\": { \n",
    "        \"LINEAR\": 0.7, #\n",
    "        \"POLY_QUAD\": 0.3, #0.3\n",
    "        \"POLY_CUBIC\": 0,\n",
    "        \"STEP_JUMP\": 0,\n",
    "        \"STEP_KINK\": 0,\n",
    "        \"INTERACTION_TWO_WAY\": 0.11, #0.11\n",
    "        \"INTERACTION_THREE_WAY\": 0,\n",
    "  },\n",
    "  \"OUTCOME_MECHANISM_COVARIATE_SELECTION_PROBABILITY\": { \n",
    "        \"LINEAR\": 0.7,\n",
    "        \"POLY_QUAD\": 0,\n",
    "        \"POLY_CUBIC\": 0,\n",
    "        \"STEP_JUMP\": 0,\n",
    "        \"STEP_KINK\": 0,\n",
    "        \"INTERACTION_TWO_WAY\": 0,\n",
    "        \"INTERACTION_THREE_WAY\": 0,\n",
    "  },\n",
    "  \"MIN_PROPENSITY_SCORE\": 0.1,\n",
    "  \"MAX_PROPENSITY_SCORE\": 0.9,\n",
    "  \"OUTCOME_NOISE_TAIL_THICKNESS\": 1000,\n",
    "  \"SUBFUNCTION_CONSTANT_TAIL_THICKNESS\": 1000,\n",
    "  \"TREATMENT_EFFECT_TAIL_THICKNESS\": 1000\n",
    "}\n",
    "\n",
    "A_param_overrides = {\n",
    "  \"TREAT_MECHANISM_COVARIATE_SELECTION_PROBABILITY\": { \n",
    "        \"LINEAR\": 0.7,\n",
    "        \"POLY_QUAD\": 0,\n",
    "        \"POLY_CUBIC\": 0,\n",
    "        \"STEP_JUMP\": 0,\n",
    "        \"STEP_KINK\": 0,\n",
    "        \"INTERACTION_TWO_WAY\": 0.0,\n",
    "        \"INTERACTION_THREE_WAY\": 0,\n",
    "  },\n",
    "  \"OUTCOME_MECHANISM_COVARIATE_SELECTION_PROBABILITY\": { \n",
    "        \"LINEAR\": 0.7,\n",
    "        \"POLY_QUAD\": 0,\n",
    "        \"POLY_CUBIC\": 0,\n",
    "        \"STEP_JUMP\": 0,\n",
    "        \"STEP_KINK\": 0,\n",
    "        \"INTERACTION_TWO_WAY\": 0,\n",
    "        \"INTERACTION_THREE_WAY\": 0,\n",
    "  },\n",
    "  \"MIN_PROPENSITY_SCORE\": 0.1,\n",
    "  \"MAX_PROPENSITY_SCORE\": 0.9,\n",
    "  \"OUTCOME_NOISE_TAIL_THICKNESS\": 1000,\n",
    "  \"SUBFUNCTION_CONSTANT_TAIL_THICKNESS\": 1000,\n",
    "  \"TREATMENT_EFFECT_TAIL_THICKNESS\": 1000\n",
    "}\n",
    "\n",
    "C_param_overrides = {\n",
    "  \"TREAT_MECHANISM_COVARIATE_SELECTION_PROBABILITY\": { \n",
    "        \"LINEAR\": 0.7,\n",
    "        \"POLY_QUAD\": 0.3,\n",
    "        \"POLY_CUBIC\": 0,\n",
    "        \"STEP_JUMP\": 0,\n",
    "        \"STEP_KINK\": 0,\n",
    "        \"INTERACTION_TWO_WAY\": 0.0,\n",
    "        \"INTERACTION_THREE_WAY\": 0,\n",
    "  },\n",
    "  \"OUTCOME_MECHANISM_COVARIATE_SELECTION_PROBABILITY\": { \n",
    "        \"LINEAR\": 0.7,\n",
    "        \"POLY_QUAD\": 0,\n",
    "        \"POLY_CUBIC\": 0,\n",
    "        \"STEP_JUMP\": 0,\n",
    "        \"STEP_KINK\": 0,\n",
    "        \"INTERACTION_TWO_WAY\": 0,\n",
    "        \"INTERACTION_THREE_WAY\": 0,\n",
    "  },\n",
    "  \"MIN_PROPENSITY_SCORE\": 0.1,\n",
    "  \"MAX_PROPENSITY_SCORE\": 0.9,\n",
    "  \"OUTCOME_NOISE_TAIL_THICKNESS\": 1000,\n",
    "  \"SUBFUNCTION_CONSTANT_TAIL_THICKNESS\": 1000,\n",
    "  \"TREATMENT_EFFECT_TAIL_THICKNESS\": 1000\n",
    "}\n"
   ]
  },
  {
   "cell_type": "markdown",
   "metadata": {
    "heading_collapsed": true
   },
   "source": [
    "## Param Validation"
   ]
  },
  {
   "cell_type": "code",
   "execution_count": 4,
   "metadata": {
    "hidden": true
   },
   "outputs": [],
   "source": [
    "genmatch_dgp = GenmatchDataGeneratingProcess(\n",
    "        *GENMATCH_SPECS[\"G\"],\n",
    "        n_observations=1000, analysis_mode=True)\n",
    "\n",
    "n_genmatch_samples = 100\n",
    "\n",
    "# TODO: it should be possible to get metric vals from multiple draws from a DGP\n",
    "# and also to get metric vals from a parameterization of a DGP sampler.\n",
    "# This code can then be replaced.\n",
    "genmatch_metric_vals = defaultdict(lambda: defaultdict(list))\n",
    "for _ in range(n_genmatch_samples):\n",
    "    genmatch_dataset = genmatch_dgp.generate_dataset()\n",
    "#     print(genmatch_dgp.base_outcome_expression)\n",
    "    metrics = calculate_data_axis_metrics(genmatch_dataset, axes_and_metrics)\n",
    "    \n",
    "    for metric, measures in axes_and_metrics.items():\n",
    "        for measure in measures:\n",
    "            res = metrics[metric][measure]\n",
    "            if res is not None:\n",
    "                genmatch_metric_vals[metric][measure].append(res)"
   ]
  },
  {
   "cell_type": "code",
   "execution_count": 41,
   "metadata": {
    "hidden": true
   },
   "outputs": [
    {
     "name": "stdout",
     "output_type": "stream",
     "text": [
      "CPU times: user 28.8 s, sys: 14.4 s, total: 43.2 s\n",
      "Wall time: 19.9 s\n"
     ]
    }
   ],
   "source": [
    "%%time\n",
    "\n",
    "n_mc_samples = 25\n",
    "\n",
    "dgp_params = build_parameters_from_axis_levels({\n",
    "    Constants.AxisNames.TREATMENT_NONLINEARITY: Constants.AxisLevels.HIGH,\n",
    "    Constants.AxisNames.OUTCOME_NONLINEARITY: Constants.AxisLevels.LOW,\n",
    "    Constants.AxisNames.TE_HETEROGENEITY: Constants.AxisLevels.LOW,\n",
    "    Constants.AxisNames.ALIGNMENT: Constants.AxisLevels.LOW\n",
    "})\n",
    "\n",
    "for param_name in param_overrides:\n",
    "    dgp_params.set_parameter(param_name, param_overrides[param_name])\n",
    "\n",
    "mc_metric_vals = gather_axis_metrics_for_given_params(\n",
    "    dgp_params, axes_and_metrics, generate_genmatch_covars, n_trials=n_mc_samples)"
   ]
  },
  {
   "cell_type": "code",
   "execution_count": 42,
   "metadata": {
    "hidden": true,
    "run_control": {
     "marked": true
    }
   },
   "outputs": [
    {
     "name": "stdout",
     "output_type": "stream",
     "text": [
      "OUTCOME_NONLINEARITY\n",
      "\t Lin r2(X_obs, Y)\n",
      "\t\tGenmatch: 0.972\n",
      "\t\tMC: 0.889\n",
      "\t Lin r2(X_true, Y)\n",
      "\t\tGenmatch: 0.973\n",
      "\t\tMC: 0.892\n",
      "TREATMENT_NONLINEARITY\n",
      "\t Lin r2(X_obs, Treat Logit)\n",
      "\t\tGenmatch: 0.872\n",
      "\t\tMC: 0.774\n",
      "PERCENT_TREATED\n",
      "\t Percent(T==1)\n",
      "\t\tGenmatch: 42.143\n",
      "\t\tMC: 49.664\n",
      "BALANCE\n",
      "\t Wass dist X_true: T=1<->T=0\n",
      "\t\tGenmatch: 0.049\n",
      "\t\tMC: 0.045\n",
      "ALIGNMENT\n",
      "\t Lin r2(Y, Treat Logit)\n",
      "\t\tGenmatch: 0.062\n",
      "\t\tMC: 0.117\n",
      "\t Lin r2(Y0, Treat Logit)\n",
      "\t\tGenmatch: 0.021\n",
      "\t\tMC: 0.12\n",
      "TE_HETEROGENEITY\n",
      "\t std(TE)/std(Y)\n",
      "\t\tGenmatch: 0.0\n",
      "\t\tMC: 0.0\n"
     ]
    }
   ],
   "source": [
    "for axes, metrics in axes_and_metrics.items():\n",
    "    print(axes)\n",
    "    for metric in metrics:\n",
    "        print(\"\\t\", metric)\n",
    "        print(\"\\t\\tGenmatch:\", np.round(np.mean(genmatch_metric_vals[axes][metric]), 3))\n",
    "        print(\"\\t\\tMC:\", np.round(np.mean(mc_metric_vals[axes][metric]), 3))"
   ]
  },
  {
   "cell_type": "markdown",
   "metadata": {},
   "source": [
    "## Benchmarks\n",
    "\n",
    "At config A, 20-50 matches across runs. Wide distro. Should investigate the stability of the concrete distro when n=1000.\n",
    "\n",
    "At config G, 20-50 has much lower bias in the sampled benchmark. The concrete function appears to be a worst case scenario given that very similar functions experience much lower typical bias. The distribution is right tailed and so it is possible that the concrete func chosen is just an (un)lucky sample from right tail.\n",
    "\n",
    "I will test this by permuting the variable order in the exact same functional form.\n",
    "\n",
    "### Genmatch Concrete Benchmark"
   ]
  },
  {
   "cell_type": "code",
   "execution_count": 8,
   "metadata": {},
   "outputs": [
    {
     "name": "stdout",
     "output_type": "stream",
     "text": [
      "CPU times: user 37.2 s, sys: 40.6 s, total: 1min 17s\n",
      "Wall time: 11.6 s\n"
     ]
    }
   ],
   "source": [
    "%%time\n",
    "\n",
    "# Concrete Benchmark\n",
    "dgp = GenmatchDataGeneratingProcess(\n",
    "    *GENMATCH_SPECS[\"A\"],\n",
    "    n_observations=10000, analysis_mode=False)\n",
    "\n",
    "genmatch_agg_results, genmatch_raw_results = benchmark_model_using_concrete_dgp(\n",
    "    dgp=dgp,\n",
    "    model_class=LogisticPropensityMatchingCausalModel,\n",
    "    estimand=Constants.Model.ATE_ESTIMAND,\n",
    "    num_runs=1,\n",
    "    num_samples_from_dgp=100)"
   ]
  },
  {
   "cell_type": "code",
   "execution_count": 22,
   "metadata": {},
   "outputs": [
    {
     "data": {
      "text/plain": [
       "{'absolute mean bias %': 11.456,\n",
       " 'absolute mean bias % (std)': 0.0,\n",
       " 'root mean squared error': 0.09,\n",
       " 'root mean squared error (std)': 0.0}"
      ]
     },
     "execution_count": 22,
     "metadata": {},
     "output_type": "execute_result"
    }
   ],
   "source": [
    "genmatch_agg_results"
   ]
  },
  {
   "cell_type": "code",
   "execution_count": 17,
   "metadata": {},
   "outputs": [
    {
     "data": {
      "image/png": "[encoded data removed]",
      "text/plain": [
       "<Figure size 432x288 with 1 Axes>"
      ]
     },
     "metadata": {
      "needs_background": "light"
     },
     "output_type": "display_data"
    }
   ],
   "source": [
    "plt.hist(genmatch_raw_results[\"absolute mean bias %\"])\n",
    "plt.show()"
   ]
  },
  {
   "cell_type": "markdown",
   "metadata": {},
   "source": [
    "### Sampled Benchmark"
   ]
  },
  {
   "cell_type": "code",
   "execution_count": 5,
   "metadata": {},
   "outputs": [],
   "source": [
    "class NoiselessSampledDataGeneratingProcess(SampledDataGeneratingProcess):\n",
    "    \n",
    "    @data_generating_method(Constants.OUTCOME_NOISE_NAME, [])\n",
    "    def _generate_outcome_noise_samples(self, input_vars):\n",
    "        return 0"
   ]
  },
  {
   "cell_type": "code",
   "execution_count": 6,
   "metadata": {
    "run_control": {
     "marked": true
    }
   },
   "outputs": [
    {
     "name": "stdout",
     "output_type": "stream",
     "text": [
      "CPU times: user 8.4 s, sys: 337 ms, total: 8.74 s\n",
      "Wall time: 8.16 s\n"
     ]
    }
   ],
   "source": [
    "%%time\n",
    "\n",
    "base_params = {\n",
    "    Constants.AxisNames.TREATMENT_NONLINEARITY: Constants.AxisLevels.LOW,\n",
    "    Constants.AxisNames.OUTCOME_NONLINEARITY: Constants.AxisLevels.LOW,\n",
    "    Constants.AxisNames.TE_HETEROGENEITY: Constants.AxisLevels.LOW,\n",
    "    Constants.AxisNames.ALIGNMENT: Constants.AxisLevels.LOW\n",
    "}\n",
    "dgp_params = build_parameters_from_axis_levels(base_params)\n",
    "dgp_params.set_parameters(A_param_overrides)\n",
    "\n",
    "\n",
    "mc_agg_result, mc_raw_results = benchmark_model_using_sampled_dgp(\n",
    "    dgp_params, build_genmatch_datasource(),\n",
    "    dgp_class=NoiselessSampledDataGeneratingProcess,\n",
    "    model_class=LogisticPropensityMatchingCausalModel,\n",
    "    estimand=Constants.Model.ATE_ESTIMAND,\n",
    "    num_dgp_samples=10,\n",
    "    num_samples_from_dgp=10,\n",
    "    dgp_kwargs={\"analysis_mode\": False})"
   ]
  },
  {
   "cell_type": "code",
   "execution_count": 7,
   "metadata": {},
   "outputs": [
    {
     "data": {
      "text/plain": [
       "{'absolute mean bias %': 362.075,\n",
       " 'absolute mean bias % (std)': 423.308,\n",
       " 'root mean squared error': 1.481,\n",
       " 'root mean squared error (std)': 0.704}"
      ]
     },
     "execution_count": 7,
     "metadata": {},
     "output_type": "execute_result"
    }
   ],
   "source": [
    "mc_agg_result"
   ]
  },
  {
   "cell_type": "code",
   "execution_count": 8,
   "metadata": {},
   "outputs": [
    {
     "data": {
      "image/png": "[encoded data removed]",
      "text/plain": [
       "<Figure size 432x288 with 1 Axes>"
      ]
     },
     "metadata": {
      "needs_background": "light"
     },
     "output_type": "display_data"
    }
   ],
   "source": [
    "plt.hist(mc_raw_results[\"absolute mean bias %\"])\n",
    "plt.show()"
   ]
  },
  {
   "cell_type": "code",
   "execution_count": 24,
   "metadata": {},
   "outputs": [
    {
     "name": "stdout",
     "output_type": "stream",
     "text": [
      "0.4445964896003985\n"
     ]
    },
    {
     "data": {
      "text/latex": [
       "$\\displaystyle \\max\\left(-2.19722457733622, \\min\\left(2.19722457733622, - 0.673276852805541 X_{1} + 0.0886843166329879 X_{10}^{2} - 0.157459909123876 X_{10} + 0.184608169317648 X_{2} - 0.300440746144408 X_{3} - 0.0416273322971168 X_{4} - 0.0217186081550174 X_{5} + 0.15384014109804 X_{7}^{2} - 0.115572809911108\\right)\\right)$"
      ],
      "text/plain": [
       "Max(-2.19722457733622, Min(2.19722457733622, -0.673276852805541*X1 + 0.0886843166329879*X10**2 - 0.157459909123876*X10 + 0.184608169317648*X2 - 0.300440746144408*X3 - 0.0416273322971168*X4 - 0.0217186081550174*X5 + 0.15384014109804*X7**2 - 0.115572809911108))"
      ]
     },
     "execution_count": 24,
     "metadata": {},
     "output_type": "execute_result"
    }
   ],
   "source": [
    "index = 0\n",
    "print(all_results[\"absolute mean bias %\"][index])\n",
    "all_results[\"eqn\"][index]"
   ]
  }
 ],
 "metadata": {
  "kernelspec": {
   "display_name": "Python 3",
   "language": "python",
   "name": "python3"
  },
  "varInspector": {
   "cols": {
    "lenName": 16,
    "lenType": 16,
    "lenVar": 40
   },
   "kernels_config": {
    "python": {
     "delete_cmd_postfix": "",
     "delete_cmd_prefix": "del ",
     "library": "var_list.py",
     "varRefreshCmd": "print(var_dic_list())"
    },
    "r": {
     "delete_cmd_postfix": ") ",
     "delete_cmd_prefix": "rm(",
     "library": "var_list.r",
     "varRefreshCmd": "cat(var_dic_list()) "
    }
   },
   "types_to_exclude": [
    "module",
    "function",
    "builtin_function_or_method",
    "instance",
    "_Feature"
   ],
   "window_display": false
  }
 },
 "nbformat": 4,
 "nbformat_minor": 2
}
