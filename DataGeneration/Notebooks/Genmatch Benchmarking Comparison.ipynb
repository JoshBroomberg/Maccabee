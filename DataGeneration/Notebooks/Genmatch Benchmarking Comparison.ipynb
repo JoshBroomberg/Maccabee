{
 "cells": [
  {
   "cell_type": "code",
   "execution_count": 1,
   "metadata": {},
   "outputs": [
    {
     "name": "stdout",
     "output_type": "stream",
     "text": [
      "WARNING: Not monitoring node memory since `psutil` is not installed. Install this with `pip install psutil` (or ray[debug]) to enable debugging of memory-related crashes.\n"
     ]
    }
   ],
   "source": [
    "from cause_ml.examples.genmatch import GenmatchDataGeneratingProcess, GENMATCH_SPECS\n",
    "from cause_ml.examples.genmatch import LogisticPropensityMatchingCausalModel\n",
    "from cause_ml.data_analysis import calculate_data_axis_metrics, gather_axis_metrics_for_given_params\n",
    "from cause_ml.constants import Constants\n",
    "import cause_ml.data_sources as data_sources\n",
    "from cause_ml.parameters import build_parameters_from_axis_levels\n",
    "from cause_ml.benchmarking import run_sampled_dgp_benchmark, run_concrete_dgp_benchmark\n",
    "from cause_ml.data_sources import DataSource\n",
    "from cause_ml.data_generation import SampledDataGeneratingProcess, data_generating_method"
   ]
  },
  {
   "cell_type": "code",
   "execution_count": 2,
   "metadata": {},
   "outputs": [],
   "source": [
    "import numpy as np\n",
    "from collections import defaultdict\n",
    "import pandas as pd\n",
    "import matplotlib.pyplot as plt"
   ]
  },
  {
   "cell_type": "code",
   "execution_count": 3,
   "metadata": {},
   "outputs": [],
   "source": [
    "# Define axes and metrics to analyze\n",
    "axes_and_metrics = {\n",
    "    Constants.AxisNames.OUTCOME_NONLINEARITY: [\n",
    "        \"Lin r2(X_obs, Y)\",\n",
    "        \"Lin r2(X_true, Y)\"\n",
    "    ],\n",
    "    Constants.AxisNames.TREATMENT_NONLINEARITY: [\n",
    "        \"Lin r2(X_obs, Treat Logit)\"\n",
    "    ],\n",
    "    Constants.AxisNames.PERCENT_TREATED: [\n",
    "        \"Percent(T==1)\"\n",
    "    ],\n",
    "    Constants.AxisNames.BALANCE: [\n",
    "        \"Wass dist X_true: T=1<->T=0\",\n",
    "    ],\n",
    "    Constants.AxisNames.ALIGNMENT: [\n",
    "        \"Lin r2(Y, Treat Logit)\",\n",
    "        \"Lin r2(Y0, Treat Logit)\"\n",
    "    ],\n",
    "    Constants.AxisNames.TE_HETEROGENEITY: [\n",
    "        \"std(TE)/std(Y)\"\n",
    "    ]\n",
    "}"
   ]
  },
  {
   "cell_type": "code",
   "execution_count": 4,
   "metadata": {},
   "outputs": [],
   "source": [
    "G_param_overrides = {\n",
    "  \"TREAT_MECHANISM_COVARIATE_SELECTION_PROBABILITY\": { \n",
    "        \"LINEAR\": 0.7, #\n",
    "        \"POLY_QUAD\": 0.3, #0.3\n",
    "        \"POLY_CUBIC\": 0,\n",
    "        \"STEP_JUMP\": 0,\n",
    "        \"STEP_KINK\": 0,\n",
    "        \"INTERACTION_TWO_WAY\": 0.11, #0.11\n",
    "        \"INTERACTION_THREE_WAY\": 0,\n",
    "  },\n",
    "  \"OUTCOME_MECHANISM_COVARIATE_SELECTION_PROBABILITY\": { \n",
    "        \"LINEAR\": 0.7,\n",
    "        \"POLY_QUAD\": 0,\n",
    "        \"POLY_CUBIC\": 0,\n",
    "        \"STEP_JUMP\": 0,\n",
    "        \"STEP_KINK\": 0,\n",
    "        \"INTERACTION_TWO_WAY\": 0,\n",
    "        \"INTERACTION_THREE_WAY\": 0,\n",
    "  },\n",
    "  \"MIN_PROPENSITY_SCORE\": 0.1,\n",
    "  \"MAX_PROPENSITY_SCORE\": 0.9,\n",
    "  \"OUTCOME_NOISE_TAIL_THICKNESS\": 1000,\n",
    "  \"SUBFUNCTION_CONSTANT_TAIL_THICKNESS\": 1000,\n",
    "  \"TREATMENT_EFFECT_TAIL_THICKNESS\": 1000\n",
    "}\n",
    "\n",
    "A_param_overrides = {\n",
    "  \"TREAT_MECHANISM_COVARIATE_SELECTION_PROBABILITY\": { \n",
    "        \"LINEAR\": 0.7,\n",
    "        \"POLY_QUAD\": 0,\n",
    "        \"POLY_CUBIC\": 0,\n",
    "        \"STEP_JUMP\": 0,\n",
    "        \"STEP_KINK\": 0,\n",
    "        \"INTERACTION_TWO_WAY\": 0.0,\n",
    "        \"INTERACTION_THREE_WAY\": 0,\n",
    "  },\n",
    "  \"OUTCOME_MECHANISM_COVARIATE_SELECTION_PROBABILITY\": { \n",
    "        \"LINEAR\": 0.7,\n",
    "        \"POLY_QUAD\": 0,\n",
    "        \"POLY_CUBIC\": 0,\n",
    "        \"STEP_JUMP\": 0,\n",
    "        \"STEP_KINK\": 0,\n",
    "        \"INTERACTION_TWO_WAY\": 0,\n",
    "        \"INTERACTION_THREE_WAY\": 0,\n",
    "  },\n",
    "  \"MIN_PROPENSITY_SCORE\": 0.1,\n",
    "  \"MAX_PROPENSITY_SCORE\": 0.9,\n",
    "  \"OUTCOME_NOISE_TAIL_THICKNESS\": 1000,\n",
    "  \"SUBFUNCTION_CONSTANT_TAIL_THICKNESS\": 1000,\n",
    "  \"TREATMENT_EFFECT_TAIL_THICKNESS\": 1000\n",
    "}\n",
    "\n",
    "C_param_overrides = {\n",
    "  \"TREAT_MECHANISM_COVARIATE_SELECTION_PROBABILITY\": { \n",
    "        \"LINEAR\": 0.7,\n",
    "        \"POLY_QUAD\": 0.3,\n",
    "        \"POLY_CUBIC\": 0,\n",
    "        \"STEP_JUMP\": 0,\n",
    "        \"STEP_KINK\": 0,\n",
    "        \"INTERACTION_TWO_WAY\": 0.0,\n",
    "        \"INTERACTION_THREE_WAY\": 0,\n",
    "  },\n",
    "  \"OUTCOME_MECHANISM_COVARIATE_SELECTION_PROBABILITY\": { \n",
    "        \"LINEAR\": 0.7,\n",
    "        \"POLY_QUAD\": 0,\n",
    "        \"POLY_CUBIC\": 0,\n",
    "        \"STEP_JUMP\": 0,\n",
    "        \"STEP_KINK\": 0,\n",
    "        \"INTERACTION_TWO_WAY\": 0,\n",
    "        \"INTERACTION_THREE_WAY\": 0,\n",
    "  },\n",
    "  \"MIN_PROPENSITY_SCORE\": 0.1,\n",
    "  \"MAX_PROPENSITY_SCORE\": 0.9,\n",
    "  \"OUTCOME_NOISE_TAIL_THICKNESS\": 1000,\n",
    "  \"SUBFUNCTION_CONSTANT_TAIL_THICKNESS\": 1000,\n",
    "  \"TREATMENT_EFFECT_TAIL_THICKNESS\": 1000\n",
    "}\n"
   ]
  },
  {
   "cell_type": "code",
   "execution_count": 5,
   "metadata": {},
   "outputs": [],
   "source": [
    "def generate_genmatch_covars():\n",
    "    n_covars = 11\n",
    "    n_observations = 1000\n",
    "    binary_cols = [1, 3, 5, 6, 8, 9]\n",
    "    \n",
    "    X = np.random.normal(loc=0.0, scale=1.0, size=(\n",
    "            n_observations, n_covars-1))\n",
    "    \n",
    "    # Add bias/intercept dummy column\n",
    "    X = np.hstack([np.ones((n_observations, 1)), X])\n",
    "    \n",
    "    # Make binary columns binary.\n",
    "    for var in binary_cols:\n",
    "        X[:, var-1] = (X[:, var -1] > 0).astype(int)\n",
    "    \n",
    "    # Name sequentially\n",
    "    covar_names = np.array([f\"X{i}\" for i in range(n_covars)])\n",
    "\n",
    "    # Build DF\n",
    "    norm_covars = pd.DataFrame(X, columns=covar_names)\n",
    "    \n",
    "    return DataSource(\n",
    "        covariate_data=norm_covars,\n",
    "        binary_column_names=list(covar_names[binary_cols]) + [\"X0\"])"
   ]
  },
  {
   "cell_type": "markdown",
   "metadata": {},
   "source": [
    "## Param Validation"
   ]
  },
  {
   "cell_type": "code",
   "execution_count": 4,
   "metadata": {},
   "outputs": [],
   "source": [
    "genmatch_dgp = GenmatchDataGeneratingProcess(\n",
    "        *GENMATCH_SPECS[\"G\"],\n",
    "        n_observations=1000, analysis_mode=True)\n",
    "\n",
    "n_genmatch_samples = 100\n",
    "\n",
    "# TODO: it should be possible to get metric vals from multiple draws from a DGP\n",
    "# and also to get metric vals from a parameterization of a DGP sampler.\n",
    "# This code can then be replaced.\n",
    "genmatch_metric_vals = defaultdict(lambda: defaultdict(list))\n",
    "for _ in range(n_genmatch_samples):\n",
    "    genmatch_dataset = genmatch_dgp.generate_dataset()\n",
    "#     print(genmatch_dgp.base_outcome_expression)\n",
    "    metrics = calculate_data_axis_metrics(genmatch_dataset, axes_and_metrics)\n",
    "    \n",
    "    for metric, measures in axes_and_metrics.items():\n",
    "        for measure in measures:\n",
    "            res = metrics[metric][measure]\n",
    "            if res is not None:\n",
    "                genmatch_metric_vals[metric][measure].append(res)"
   ]
  },
  {
   "cell_type": "code",
   "execution_count": 41,
   "metadata": {},
   "outputs": [
    {
     "name": "stdout",
     "output_type": "stream",
     "text": [
      "CPU times: user 28.8 s, sys: 14.4 s, total: 43.2 s\n",
      "Wall time: 19.9 s\n"
     ]
    }
   ],
   "source": [
    "%%time\n",
    "\n",
    "n_mc_samples = 25\n",
    "\n",
    "dgp_params = build_parameters_from_axis_levels({\n",
    "    Constants.AxisNames.TREATMENT_NONLINEARITY: Constants.AxisLevels.HIGH,\n",
    "    Constants.AxisNames.OUTCOME_NONLINEARITY: Constants.AxisLevels.LOW,\n",
    "    Constants.AxisNames.TE_HETEROGENEITY: Constants.AxisLevels.LOW,\n",
    "    Constants.AxisNames.ALIGNMENT: Constants.AxisLevels.LOW\n",
    "})\n",
    "\n",
    "for param_name in param_overrides:\n",
    "    dgp_params.set_parameter(param_name, param_overrides[param_name])\n",
    "\n",
    "mc_metric_vals = gather_axis_metrics_for_given_params(\n",
    "    dgp_params, axes_and_metrics, generate_genmatch_covars, n_trials=n_mc_samples)"
   ]
  },
  {
   "cell_type": "code",
   "execution_count": 42,
   "metadata": {
    "run_control": {
     "marked": true
    }
   },
   "outputs": [
    {
     "name": "stdout",
     "output_type": "stream",
     "text": [
      "OUTCOME_NONLINEARITY\n",
      "\t Lin r2(X_obs, Y)\n",
      "\t\tGenmatch: 0.972\n",
      "\t\tMC: 0.889\n",
      "\t Lin r2(X_true, Y)\n",
      "\t\tGenmatch: 0.973\n",
      "\t\tMC: 0.892\n",
      "TREATMENT_NONLINEARITY\n",
      "\t Lin r2(X_obs, Treat Logit)\n",
      "\t\tGenmatch: 0.872\n",
      "\t\tMC: 0.774\n",
      "PERCENT_TREATED\n",
      "\t Percent(T==1)\n",
      "\t\tGenmatch: 42.143\n",
      "\t\tMC: 49.664\n",
      "BALANCE\n",
      "\t Wass dist X_true: T=1<->T=0\n",
      "\t\tGenmatch: 0.049\n",
      "\t\tMC: 0.045\n",
      "ALIGNMENT\n",
      "\t Lin r2(Y, Treat Logit)\n",
      "\t\tGenmatch: 0.062\n",
      "\t\tMC: 0.117\n",
      "\t Lin r2(Y0, Treat Logit)\n",
      "\t\tGenmatch: 0.021\n",
      "\t\tMC: 0.12\n",
      "TE_HETEROGENEITY\n",
      "\t std(TE)/std(Y)\n",
      "\t\tGenmatch: 0.0\n",
      "\t\tMC: 0.0\n"
     ]
    }
   ],
   "source": [
    "for axes, metrics in axes_and_metrics.items():\n",
    "    print(axes)\n",
    "    for metric in metrics:\n",
    "        print(\"\\t\", metric)\n",
    "        print(\"\\t\\tGenmatch:\", np.round(np.mean(genmatch_metric_vals[axes][metric]), 3))\n",
    "        print(\"\\t\\tMC:\", np.round(np.mean(mc_metric_vals[axes][metric]), 3))"
   ]
  },
  {
   "cell_type": "markdown",
   "metadata": {},
   "source": [
    "## Benchmarks\n",
    "\n",
    "At config A, 20-50 matches across runs. Wide distro. Should investigate the stability of the concrete distro when n=1000.\n",
    "\n",
    "At config G, 20-50 has much lower bias in the sampled benchmark. The concrete function appears to be a worst case scenario given that very similar functions experience much lower typical bias. The distribution is right tailed and so it is possible that the concrete func chosen is just an (un)lucky sample from right tail.\n",
    "\n",
    "I will test this by permuting the variable order in the exact same functional form.\n",
    "\n",
    "### Genmatch Concrete Benchmark"
   ]
  },
  {
   "cell_type": "code",
   "execution_count": 31,
   "metadata": {},
   "outputs": [
    {
     "name": "stdout",
     "output_type": "stream",
     "text": [
      "CPU times: user 6min 9s, sys: 6min 24s, total: 12min 34s\n",
      "Wall time: 2min 15s\n"
     ]
    }
   ],
   "source": [
    "%%time\n",
    "\n",
    "# Concrete Benchmark\n",
    "dgp = GenmatchDataGeneratingProcess(\n",
    "    *GENMATCH_SPECS[\"C\"],\n",
    "    n_observations=1000, analysis_mode=False)\n",
    "\n",
    "genmatch_results = defaultdict(list)\n",
    "for _ in range(1):\n",
    "    genmatch_result = run_concrete_dgp_benchmark(\n",
    "        dgp=dgp,\n",
    "        model_class=LogisticPropensityMatchingCausalModel,\n",
    "        estimand=Constants.Model.ATE_ESTIMAND,\n",
    "        num_samples_from_dgp=1000,\n",
    "        enable_ray_multiprocessing=False)\n",
    "    \n",
    "    for metric, res in genmatch_result.items():\n",
    "        genmatch_results[metric].append(res)"
   ]
  },
  {
   "cell_type": "code",
   "execution_count": 32,
   "metadata": {},
   "outputs": [
    {
     "name": "stdout",
     "output_type": "stream",
     "text": [
      "absolute mean bias % 0.271\n",
      "absolute mean bias % std 0.0\n",
      "root mean squared error 0.093\n",
      "root mean squared error std 0.0\n"
     ]
    }
   ],
   "source": [
    "for metric, results in genmatch_results.items():\n",
    "    print(metric, np.round(np.mean(results), 3))\n",
    "    print(metric + \" std\", np.round(np.std(results), 3))"
   ]
  },
  {
   "cell_type": "code",
   "execution_count": 33,
   "metadata": {},
   "outputs": [
    {
     "data": {
      "image/png": "[encoded data removed]",
      "text/plain": [
       "<Figure size 432x288 with 1 Axes>"
      ]
     },
     "metadata": {
      "needs_background": "light"
     },
     "output_type": "display_data"
    }
   ],
   "source": [
    "plt.hist(genmatch_results[\"absolute mean bias %\"])\n",
    "plt.show()"
   ]
  },
  {
   "cell_type": "markdown",
   "metadata": {},
   "source": [
    "### Sampled Benchmark"
   ]
  },
  {
   "cell_type": "code",
   "execution_count": 6,
   "metadata": {},
   "outputs": [],
   "source": [
    "class NoiselessSampledDataGeneratingProcess(SampledDataGeneratingProcess):\n",
    "    \n",
    "    @data_generating_method(Constants.OUTCOME_NOISE_NAME, [])\n",
    "    def _generate_outcome_noise_samples(self, input_vars):\n",
    "        return 0"
   ]
  },
  {
   "cell_type": "code",
   "execution_count": 20,
   "metadata": {
    "run_control": {
     "marked": true
    }
   },
   "outputs": [
    {
     "name": "stdout",
     "output_type": "stream",
     "text": [
      "CPU times: user 4min 19s, sys: 4min 30s, total: 8min 49s\n",
      "Wall time: 1min 31s\n"
     ]
    }
   ],
   "source": [
    "%%time\n",
    "\n",
    "param_grid = {\n",
    "    Constants.AxisNames.TREATMENT_NONLINEARITY: [Constants.AxisLevels.LOW],\n",
    "    Constants.AxisNames.OUTCOME_NONLINEARITY: [Constants.AxisLevels.LOW],\n",
    "    Constants.AxisNames.TE_HETEROGENEITY: [Constants.AxisLevels.LOW],\n",
    "    Constants.AxisNames.ALIGNMENT: [Constants.AxisLevels.LOW]\n",
    "}\n",
    "\n",
    "# covar_data_source = lambda: data_sources.load_random_normal_covariates(\n",
    "#     n_covars=10,\n",
    "#     n_observations=1000)\n",
    "\n",
    "covar_data_source = generate_genmatch_covars\n",
    "\n",
    "param_overrides = C_param_overrides\n",
    "\n",
    "mc_result, all_results = run_sampled_dgp_benchmark(\n",
    "    dgp_class=NoiselessSampledDataGeneratingProcess,\n",
    "    model_class=LogisticPropensityMatchingCausalModel,\n",
    "    estimand=Constants.Model.ATE_ESTIMAND,\n",
    "    data_source_generator=covar_data_source,\n",
    "    param_grid=param_grid,\n",
    "    num_dgp_samples=20,\n",
    "    num_data_samples_per_dgp=40,\n",
    "    param_overrides=param_overrides,\n",
    "    dgp_kwargs={\"analysis_mode\": False},\n",
    "    enable_ray_multiprocessing=False)"
   ]
  },
  {
   "cell_type": "code",
   "execution_count": 21,
   "metadata": {},
   "outputs": [
    {
     "data": {
      "text/html": [
       "<div>\n",
       "<style scoped>\n",
       "    .dataframe tbody tr th:only-of-type {\n",
       "        vertical-align: middle;\n",
       "    }\n",
       "\n",
       "    .dataframe tbody tr th {\n",
       "        vertical-align: top;\n",
       "    }\n",
       "\n",
       "    .dataframe thead th {\n",
       "        text-align: right;\n",
       "    }\n",
       "</style>\n",
       "<table border=\"1\" class=\"dataframe\">\n",
       "  <thead>\n",
       "    <tr style=\"text-align: right;\">\n",
       "      <th></th>\n",
       "      <th>param_alignment</th>\n",
       "      <th>param_outcome_nonlinearity</th>\n",
       "      <th>param_te_heterogeneity</th>\n",
       "      <th>param_treatment_nonlinearity</th>\n",
       "      <th>absolute mean bias %</th>\n",
       "      <th>absolute mean bias % (std)</th>\n",
       "      <th>root mean squared error</th>\n",
       "      <th>root mean squared error (std)</th>\n",
       "    </tr>\n",
       "  </thead>\n",
       "  <tbody>\n",
       "    <tr>\n",
       "      <th>0</th>\n",
       "      <td>LOW</td>\n",
       "      <td>LOW</td>\n",
       "      <td>LOW</td>\n",
       "      <td>LOW</td>\n",
       "      <td>6.634127</td>\n",
       "      <td>13.68467</td>\n",
       "      <td>0.059181</td>\n",
       "      <td>0.011146</td>\n",
       "    </tr>\n",
       "  </tbody>\n",
       "</table>\n",
       "</div>"
      ],
      "text/plain": [
       "  param_alignment param_outcome_nonlinearity param_te_heterogeneity  \\\n",
       "0             LOW                        LOW                    LOW   \n",
       "\n",
       "  param_treatment_nonlinearity  absolute mean bias %  \\\n",
       "0                          LOW              6.634127   \n",
       "\n",
       "   absolute mean bias % (std)  root mean squared error  \\\n",
       "0                    13.68467                 0.059181   \n",
       "\n",
       "   root mean squared error (std)  \n",
       "0                       0.011146  "
      ]
     },
     "execution_count": 21,
     "metadata": {},
     "output_type": "execute_result"
    }
   ],
   "source": [
    "pd.DataFrame(mc_result)"
   ]
  },
  {
   "cell_type": "code",
   "execution_count": 22,
   "metadata": {},
   "outputs": [
    {
     "data": {
      "text/plain": [
       "[0.4445964896003985,\n",
       " 54.29301475244822,\n",
       " 1.2492883808130917,\n",
       " 4.296738932074327,\n",
       " 0.5177871933822251,\n",
       " 0.5126678504497362,\n",
       " 18.034883499682156,\n",
       " 8.044786334840238,\n",
       " 0.5464672082046652,\n",
       " 0.3741999111166333,\n",
       " 1.0114205585439402,\n",
       " 1.5607651923611277,\n",
       " 0.6327931609262369,\n",
       " 0.8479102126423043,\n",
       " 0.5793529710925611,\n",
       " 0.5608157991849627,\n",
       " 2.245054490887245,\n",
       " 35.41669041344453,\n",
       " 0.05527805597174771,\n",
       " 1.4580334625524736]"
      ]
     },
     "execution_count": 22,
     "metadata": {},
     "output_type": "execute_result"
    }
   ],
   "source": [
    "all_results[\"absolute mean bias %\"]"
   ]
  },
  {
   "cell_type": "code",
   "execution_count": 23,
   "metadata": {},
   "outputs": [
    {
     "data": {
      "image/png": "[encoded data removed]",
      "text/plain": [
       "<Figure size 432x288 with 1 Axes>"
      ]
     },
     "metadata": {
      "needs_background": "light"
     },
     "output_type": "display_data"
    }
   ],
   "source": [
    "plt.hist(all_results[\"absolute mean bias %\"])\n",
    "plt.show()"
   ]
  },
  {
   "cell_type": "code",
   "execution_count": 24,
   "metadata": {},
   "outputs": [
    {
     "name": "stdout",
     "output_type": "stream",
     "text": [
      "0.4445964896003985\n"
     ]
    },
    {
     "data": {
      "text/latex": [
       "$\\displaystyle \\max\\left(-2.19722457733622, \\min\\left(2.19722457733622, - 0.673276852805541 X_{1} + 0.0886843166329879 X_{10}^{2} - 0.157459909123876 X_{10} + 0.184608169317648 X_{2} - 0.300440746144408 X_{3} - 0.0416273322971168 X_{4} - 0.0217186081550174 X_{5} + 0.15384014109804 X_{7}^{2} - 0.115572809911108\\right)\\right)$"
      ],
      "text/plain": [
       "Max(-2.19722457733622, Min(2.19722457733622, -0.673276852805541*X1 + 0.0886843166329879*X10**2 - 0.157459909123876*X10 + 0.184608169317648*X2 - 0.300440746144408*X3 - 0.0416273322971168*X4 - 0.0217186081550174*X5 + 0.15384014109804*X7**2 - 0.115572809911108))"
      ]
     },
     "execution_count": 24,
     "metadata": {},
     "output_type": "execute_result"
    }
   ],
   "source": [
    "index = 0\n",
    "print(all_results[\"absolute mean bias %\"][index])\n",
    "all_results[\"eqn\"][index]"
   ]
  }
 ],
 "metadata": {
  "kernelspec": {
   "display_name": "Python 3",
   "language": "python",
   "name": "python3"
  },
  "language_info": {
   "codemirror_mode": {
    "name": "ipython",
    "version": 3
   },
   "file_extension": ".py",
   "mimetype": "text/x-python",
   "name": "python",
   "nbconvert_exporter": "python",
   "pygments_lexer": "ipython3",
   "version": "3.7.3"
  },
  "varInspector": {
   "cols": {
    "lenName": 16,
    "lenType": 16,
    "lenVar": 40
   },
   "kernels_config": {
    "python": {
     "delete_cmd_postfix": "",
     "delete_cmd_prefix": "del ",
     "library": "var_list.py",
     "varRefreshCmd": "print(var_dic_list())"
    },
    "r": {
     "delete_cmd_postfix": ") ",
     "delete_cmd_prefix": "rm(",
     "library": "var_list.r",
     "varRefreshCmd": "cat(var_dic_list()) "
    }
   },
   "types_to_exclude": [
    "module",
    "function",
    "builtin_function_or_method",
    "instance",
    "_Feature"
   ],
   "window_display": false
  }
 },
 "nbformat": 4,
 "nbformat_minor": 2
}
