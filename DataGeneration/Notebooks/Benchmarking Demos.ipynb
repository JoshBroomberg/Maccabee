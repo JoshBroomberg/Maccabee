{
 "cells": [
  {
   "cell_type": "code",
   "execution_count": 1,
   "metadata": {
    "scrolled": true
   },
   "outputs": [
    {
     "name": "stdout",
     "output_type": "stream",
     "text": [
      "Obtaining file:///home/jovyan/work/CauseML\n",
      "Requirement already satisfied: numpy in /opt/conda/lib/python3.7/site-packages (from cause-ml==0.0.11) (1.17.3)\n",
      "Requirement already satisfied: pandas in /opt/conda/lib/python3.7/site-packages (from cause-ml==0.0.11) (0.25.3)\n",
      "Requirement already satisfied: scipy in /opt/conda/lib/python3.7/site-packages (from cause-ml==0.0.11) (1.3.2)\n",
      "Requirement already satisfied: sympy in /opt/conda/lib/python3.7/site-packages (from cause-ml==0.0.11) (1.4)\n",
      "Requirement already satisfied: POT in /opt/conda/lib/python3.7/site-packages (from cause-ml==0.0.11) (0.6.0)\n",
      "Requirement already satisfied: pyyaml in /opt/conda/lib/python3.7/site-packages (from cause-ml==0.0.11) (5.1.2)\n",
      "Requirement already satisfied: python-dateutil>=2.6.1 in /opt/conda/lib/python3.7/site-packages (from pandas->cause-ml==0.0.11) (2.8.1)\n",
      "Requirement already satisfied: pytz>=2017.2 in /opt/conda/lib/python3.7/site-packages (from pandas->cause-ml==0.0.11) (2019.3)\n",
      "Requirement already satisfied: mpmath>=0.19 in /opt/conda/lib/python3.7/site-packages (from sympy->cause-ml==0.0.11) (1.1.0)\n",
      "Requirement already satisfied: cython in /opt/conda/lib/python3.7/site-packages (from POT->cause-ml==0.0.11) (0.29.14)\n",
      "Requirement already satisfied: six>=1.5 in /opt/conda/lib/python3.7/site-packages (from python-dateutil>=2.6.1->pandas->cause-ml==0.0.11) (1.13.0)\n",
      "Installing collected packages: cause-ml\n",
      "  Found existing installation: cause-ml 0.0.11\n",
      "    Uninstalling cause-ml-0.0.11:\n",
      "      Successfully uninstalled cause-ml-0.0.11\n",
      "  Running setup.py develop for cause-ml\n",
      "Successfully installed cause-ml\n"
     ]
    }
   ],
   "source": [
    "!pip install -e ../CauseML"
   ]
  },
  {
   "cell_type": "code",
   "execution_count": 2,
   "metadata": {},
   "outputs": [],
   "source": [
    "from maccabee.data_generation import DataGeneratingProcess, data_generating_method"
   ]
  },
  {
   "cell_type": "code",
   "execution_count": 3,
   "metadata": {},
   "outputs": [
    {
     "name": "stdout",
     "output_type": "stream",
     "text": [
      "WARNING: Not monitoring node memory since `psutil` is not installed. Install this with `pip install psutil` (or ray[debug]) to enable debugging of memory-related crashes.\n"
     ]
    }
   ],
   "source": [
    "from maccabee.parameters import build_parameters_from_axis_levels\n",
    "from maccabee.constants import Constants\n",
    "import maccabee.data_sources as data_sources\n",
    "from maccabee.data_generation import DataGeneratingProcessSampler\n",
    "from maccabee.modeling.models import LinearRegressionCausalModel\n",
    "from maccabee.benchmarking import run_sampled_dgp_benchmark, run_concrete_dgp_benchmark\n",
    "from maccabee.utilities import evaluate_expression"
   ]
  },
  {
   "cell_type": "code",
   "execution_count": 4,
   "metadata": {},
   "outputs": [],
   "source": [
    "import pandas as pd\n",
    "import sympy as sp"
   ]
  },
  {
   "cell_type": "markdown",
   "metadata": {},
   "source": [
    "## Model Demo"
   ]
  },
  {
   "cell_type": "code",
   "execution_count": 5,
   "metadata": {},
   "outputs": [],
   "source": [
    "covar_data_source = data_sources.load_random_normal_covariates(\n",
    "    n_covars = 10, n_observations=2000)\n",
    "dgp_params = build_parameters_from_axis_levels({\n",
    "    Constants.AxisNames.OUTCOME_NONLINEARITY: Constants.AxisLevels.LOW,\n",
    "    Constants.AxisNames.TREATMENT_NONLINEARITY: Constants.AxisLevels.LOW,\n",
    "})\n",
    "\n",
    "dgp_sampler = DataGeneratingProcessSampler(\n",
    "    parameters=dgp_params,\n",
    "    data_source=covar_data_source,\n",
    "    dgp_kwargs={\"analysis_mode\": False})\n",
    "\n",
    "dgp = dgp_sampler.sample_dgp()\n",
    "dataset = dgp.generate_dataset()"
   ]
  },
  {
   "cell_type": "code",
   "execution_count": 6,
   "metadata": {},
   "outputs": [
    {
     "data": {
      "text/html": [
       "<div>\n",
       "<style scoped>\n",
       "    .dataframe tbody tr th:only-of-type {\n",
       "        vertical-align: middle;\n",
       "    }\n",
       "\n",
       "    .dataframe tbody tr th {\n",
       "        vertical-align: top;\n",
       "    }\n",
       "\n",
       "    .dataframe thead th {\n",
       "        text-align: right;\n",
       "    }\n",
       "</style>\n",
       "<table border=\"1\" class=\"dataframe\">\n",
       "  <thead>\n",
       "    <tr style=\"text-align: right;\">\n",
       "      <th></th>\n",
       "      <th>X0</th>\n",
       "      <th>X1</th>\n",
       "      <th>X2</th>\n",
       "      <th>X3</th>\n",
       "      <th>X4</th>\n",
       "      <th>X5</th>\n",
       "      <th>X6</th>\n",
       "      <th>X7</th>\n",
       "      <th>X8</th>\n",
       "      <th>X9</th>\n",
       "      <th>T</th>\n",
       "      <th>Y</th>\n",
       "    </tr>\n",
       "  </thead>\n",
       "  <tbody>\n",
       "    <tr>\n",
       "      <th>233</th>\n",
       "      <td>0.646652</td>\n",
       "      <td>-0.005477</td>\n",
       "      <td>0.304405</td>\n",
       "      <td>-0.021740</td>\n",
       "      <td>0.419244</td>\n",
       "      <td>-0.060445</td>\n",
       "      <td>0.456098</td>\n",
       "      <td>0.172520</td>\n",
       "      <td>-0.429364</td>\n",
       "      <td>-0.371017</td>\n",
       "      <td>1</td>\n",
       "      <td>-1.189186</td>\n",
       "    </tr>\n",
       "    <tr>\n",
       "      <th>1798</th>\n",
       "      <td>-0.241170</td>\n",
       "      <td>0.138598</td>\n",
       "      <td>-0.467572</td>\n",
       "      <td>0.257349</td>\n",
       "      <td>-0.056115</td>\n",
       "      <td>0.150686</td>\n",
       "      <td>0.063894</td>\n",
       "      <td>0.235212</td>\n",
       "      <td>-0.303095</td>\n",
       "      <td>0.229418</td>\n",
       "      <td>0</td>\n",
       "      <td>-0.026098</td>\n",
       "    </tr>\n",
       "    <tr>\n",
       "      <th>1987</th>\n",
       "      <td>0.311417</td>\n",
       "      <td>0.048014</td>\n",
       "      <td>0.021688</td>\n",
       "      <td>-0.311008</td>\n",
       "      <td>0.166351</td>\n",
       "      <td>-0.290156</td>\n",
       "      <td>-0.014122</td>\n",
       "      <td>0.559657</td>\n",
       "      <td>0.357604</td>\n",
       "      <td>-0.469322</td>\n",
       "      <td>1</td>\n",
       "      <td>0.182806</td>\n",
       "    </tr>\n",
       "    <tr>\n",
       "      <th>522</th>\n",
       "      <td>-0.228109</td>\n",
       "      <td>-0.314905</td>\n",
       "      <td>-0.439178</td>\n",
       "      <td>-0.360470</td>\n",
       "      <td>-0.106045</td>\n",
       "      <td>0.233543</td>\n",
       "      <td>0.574437</td>\n",
       "      <td>-0.227116</td>\n",
       "      <td>-0.297400</td>\n",
       "      <td>0.226301</td>\n",
       "      <td>1</td>\n",
       "      <td>-2.159997</td>\n",
       "    </tr>\n",
       "    <tr>\n",
       "      <th>383</th>\n",
       "      <td>-0.188641</td>\n",
       "      <td>-0.469164</td>\n",
       "      <td>0.254269</td>\n",
       "      <td>-0.760608</td>\n",
       "      <td>0.227939</td>\n",
       "      <td>0.292531</td>\n",
       "      <td>-0.212031</td>\n",
       "      <td>0.111299</td>\n",
       "      <td>0.161028</td>\n",
       "      <td>0.084267</td>\n",
       "      <td>0</td>\n",
       "      <td>1.435689</td>\n",
       "    </tr>\n",
       "    <tr>\n",
       "      <th>...</th>\n",
       "      <td>...</td>\n",
       "      <td>...</td>\n",
       "      <td>...</td>\n",
       "      <td>...</td>\n",
       "      <td>...</td>\n",
       "      <td>...</td>\n",
       "      <td>...</td>\n",
       "      <td>...</td>\n",
       "      <td>...</td>\n",
       "      <td>...</td>\n",
       "      <td>...</td>\n",
       "      <td>...</td>\n",
       "    </tr>\n",
       "    <tr>\n",
       "      <th>1780</th>\n",
       "      <td>-0.111548</td>\n",
       "      <td>-0.345937</td>\n",
       "      <td>0.148628</td>\n",
       "      <td>0.038056</td>\n",
       "      <td>0.083210</td>\n",
       "      <td>0.302151</td>\n",
       "      <td>0.028320</td>\n",
       "      <td>0.056581</td>\n",
       "      <td>-0.060523</td>\n",
       "      <td>-0.314784</td>\n",
       "      <td>1</td>\n",
       "      <td>0.209440</td>\n",
       "    </tr>\n",
       "    <tr>\n",
       "      <th>898</th>\n",
       "      <td>-0.407591</td>\n",
       "      <td>-0.829459</td>\n",
       "      <td>-0.108428</td>\n",
       "      <td>0.340119</td>\n",
       "      <td>-0.158264</td>\n",
       "      <td>0.318645</td>\n",
       "      <td>0.613911</td>\n",
       "      <td>-0.367022</td>\n",
       "      <td>0.076102</td>\n",
       "      <td>0.019889</td>\n",
       "      <td>1</td>\n",
       "      <td>-1.610043</td>\n",
       "    </tr>\n",
       "    <tr>\n",
       "      <th>1494</th>\n",
       "      <td>-0.289327</td>\n",
       "      <td>-0.291490</td>\n",
       "      <td>-0.203806</td>\n",
       "      <td>-0.087229</td>\n",
       "      <td>-0.156469</td>\n",
       "      <td>-0.108436</td>\n",
       "      <td>0.444104</td>\n",
       "      <td>0.306043</td>\n",
       "      <td>-0.131186</td>\n",
       "      <td>-0.082318</td>\n",
       "      <td>0</td>\n",
       "      <td>-0.457372</td>\n",
       "    </tr>\n",
       "    <tr>\n",
       "      <th>964</th>\n",
       "      <td>-0.295636</td>\n",
       "      <td>-0.308108</td>\n",
       "      <td>0.314402</td>\n",
       "      <td>0.146426</td>\n",
       "      <td>0.609600</td>\n",
       "      <td>0.321162</td>\n",
       "      <td>-0.271904</td>\n",
       "      <td>0.292936</td>\n",
       "      <td>-0.214338</td>\n",
       "      <td>0.401297</td>\n",
       "      <td>1</td>\n",
       "      <td>2.630337</td>\n",
       "    </tr>\n",
       "    <tr>\n",
       "      <th>1104</th>\n",
       "      <td>-0.460336</td>\n",
       "      <td>-0.307141</td>\n",
       "      <td>-0.301296</td>\n",
       "      <td>0.089274</td>\n",
       "      <td>-0.129741</td>\n",
       "      <td>0.310160</td>\n",
       "      <td>0.190859</td>\n",
       "      <td>-0.084076</td>\n",
       "      <td>-0.232290</td>\n",
       "      <td>0.248804</td>\n",
       "      <td>1</td>\n",
       "      <td>-0.747777</td>\n",
       "    </tr>\n",
       "  </tbody>\n",
       "</table>\n",
       "<p>2000 rows × 12 columns</p>\n",
       "</div>"
      ],
      "text/plain": [
       "            X0        X1        X2        X3        X4        X5        X6  \\\n",
       "233   0.646652 -0.005477  0.304405 -0.021740  0.419244 -0.060445  0.456098   \n",
       "1798 -0.241170  0.138598 -0.467572  0.257349 -0.056115  0.150686  0.063894   \n",
       "1987  0.311417  0.048014  0.021688 -0.311008  0.166351 -0.290156 -0.014122   \n",
       "522  -0.228109 -0.314905 -0.439178 -0.360470 -0.106045  0.233543  0.574437   \n",
       "383  -0.188641 -0.469164  0.254269 -0.760608  0.227939  0.292531 -0.212031   \n",
       "...        ...       ...       ...       ...       ...       ...       ...   \n",
       "1780 -0.111548 -0.345937  0.148628  0.038056  0.083210  0.302151  0.028320   \n",
       "898  -0.407591 -0.829459 -0.108428  0.340119 -0.158264  0.318645  0.613911   \n",
       "1494 -0.289327 -0.291490 -0.203806 -0.087229 -0.156469 -0.108436  0.444104   \n",
       "964  -0.295636 -0.308108  0.314402  0.146426  0.609600  0.321162 -0.271904   \n",
       "1104 -0.460336 -0.307141 -0.301296  0.089274 -0.129741  0.310160  0.190859   \n",
       "\n",
       "            X7        X8        X9  T         Y  \n",
       "233   0.172520 -0.429364 -0.371017  1 -1.189186  \n",
       "1798  0.235212 -0.303095  0.229418  0 -0.026098  \n",
       "1987  0.559657  0.357604 -0.469322  1  0.182806  \n",
       "522  -0.227116 -0.297400  0.226301  1 -2.159997  \n",
       "383   0.111299  0.161028  0.084267  0  1.435689  \n",
       "...        ...       ...       ... ..       ...  \n",
       "1780  0.056581 -0.060523 -0.314784  1  0.209440  \n",
       "898  -0.367022  0.076102  0.019889  1 -1.610043  \n",
       "1494  0.306043 -0.131186 -0.082318  0 -0.457372  \n",
       "964   0.292936 -0.214338  0.401297  1  2.630337  \n",
       "1104 -0.084076 -0.232290  0.248804  1 -0.747777  \n",
       "\n",
       "[2000 rows x 12 columns]"
      ]
     },
     "execution_count": 6,
     "metadata": {},
     "output_type": "execute_result"
    }
   ],
   "source": [
    "dataset.observed_data"
   ]
  },
  {
   "cell_type": "code",
   "execution_count": 7,
   "metadata": {},
   "outputs": [
    {
     "data": {
      "text/plain": [
       "-0.02499999999999998"
      ]
     },
     "execution_count": 7,
     "metadata": {},
     "output_type": "execute_result"
    }
   ],
   "source": [
    "dataset.ATE"
   ]
  },
  {
   "cell_type": "code",
   "execution_count": 8,
   "metadata": {},
   "outputs": [
    {
     "data": {
      "text/plain": [
       "-0.04450373023316426"
      ]
     },
     "execution_count": 8,
     "metadata": {},
     "output_type": "execute_result"
    }
   ],
   "source": [
    "model = LinearRegressionCausalModel(dataset)\n",
    "model.fit()\n",
    "model.estimate(estimand=Constants.Model.ATE_ESTIMAND)"
   ]
  },
  {
   "cell_type": "markdown",
   "metadata": {},
   "source": [
    "## Sampled DGP Benchmarking Demo"
   ]
  },
  {
   "cell_type": "code",
   "execution_count": 9,
   "metadata": {},
   "outputs": [
    {
     "name": "stdout",
     "output_type": "stream",
     "text": [
      "CPU times: user 1.69 s, sys: 90 ms, total: 1.78 s\n",
      "Wall time: 1.71 s\n"
     ]
    }
   ],
   "source": [
    "%%time\n",
    "\n",
    "HIGH, MEDIUM, LOW = Constants.AxisLevels.HIGH, Constants.AxisLevels.MEDIUM, Constants.AxisLevels.LOW\n",
    "param_grid = dgp_params = {\n",
    "    Constants.AxisNames.TREATMENT_NONLINEARITY: [MEDIUM, LOW],\n",
    "    Constants.AxisNames.OUTCOME_NONLINEARITY: [LOW]\n",
    "#     Constants.AxisNames.TREATMENT_NONLINEARITY: [HIGH, MEDIUM, LOW],\n",
    "#     Constants.AxisNames.OUTCOME_NONLINEARITY: [HIGH, MEDIUM, LOW]\n",
    "}\n",
    "\n",
    "covar_data_source = data_sources.load_random_normal_covariates(\n",
    "    n_covars=10,\n",
    "    n_observations=750)\n",
    "\n",
    "result = run_sampled_dgp_benchmark(\n",
    "    model_class=LinearRegressionCausalModel,\n",
    "    estimand=Constants.Model.ATE_ESTIMAND,\n",
    "    data_source=covar_data_source,\n",
    "    param_grid=param_grid,\n",
    "    num_dgp_samples=1,\n",
    "    num_data_samples_per_dgp=1,\n",
    "    dgp_kwargs={\"analysis_mode\": False},\n",
    "    enable_ray_multiprocessing=False)"
   ]
  },
  {
   "cell_type": "code",
   "execution_count": 10,
   "metadata": {},
   "outputs": [
    {
     "data": {
      "text/html": [
       "<div>\n",
       "<style scoped>\n",
       "    .dataframe tbody tr th:only-of-type {\n",
       "        vertical-align: middle;\n",
       "    }\n",
       "\n",
       "    .dataframe tbody tr th {\n",
       "        vertical-align: top;\n",
       "    }\n",
       "\n",
       "    .dataframe thead th {\n",
       "        text-align: right;\n",
       "    }\n",
       "</style>\n",
       "<table border=\"1\" class=\"dataframe\">\n",
       "  <thead>\n",
       "    <tr style=\"text-align: right;\">\n",
       "      <th></th>\n",
       "      <th>param_outcome_nonlinearity</th>\n",
       "      <th>param_treatment_nonlinearity</th>\n",
       "      <th>absolute mean percentage bias</th>\n",
       "      <th>root mean squared error</th>\n",
       "    </tr>\n",
       "  </thead>\n",
       "  <tbody>\n",
       "    <tr>\n",
       "      <th>0</th>\n",
       "      <td>LOW</td>\n",
       "      <td>MEDIUM</td>\n",
       "      <td>13.066101</td>\n",
       "      <td>0.007317</td>\n",
       "    </tr>\n",
       "    <tr>\n",
       "      <th>1</th>\n",
       "      <td>LOW</td>\n",
       "      <td>LOW</td>\n",
       "      <td>16.496678</td>\n",
       "      <td>0.036953</td>\n",
       "    </tr>\n",
       "  </tbody>\n",
       "</table>\n",
       "</div>"
      ],
      "text/plain": [
       "  param_outcome_nonlinearity param_treatment_nonlinearity  \\\n",
       "0                        LOW                       MEDIUM   \n",
       "1                        LOW                          LOW   \n",
       "\n",
       "   absolute mean percentage bias  root mean squared error  \n",
       "0                      13.066101                 0.007317  \n",
       "1                      16.496678                 0.036953  "
      ]
     },
     "execution_count": 10,
     "metadata": {},
     "output_type": "execute_result"
    }
   ],
   "source": [
    "pd.DataFrame(result)"
   ]
  },
  {
   "cell_type": "markdown",
   "metadata": {},
   "source": [
    "### Concrete DGP Benchmarking Demo\n",
    "\n",
    "TODO: better to show a very simple DGP example here rather than using genmatch."
   ]
  },
  {
   "cell_type": "markdown",
   "metadata": {},
   "source": [
    "#### GenMatch Synthetic DGP"
   ]
  },
  {
   "cell_type": "code",
   "execution_count": 11,
   "metadata": {},
   "outputs": [],
   "source": [
    "%load_ext autoreload\n",
    "%autoreload 1"
   ]
  },
  {
   "cell_type": "code",
   "execution_count": 12,
   "metadata": {},
   "outputs": [],
   "source": [
    "%aimport maccabee.examples.genmatch"
   ]
  },
  {
   "cell_type": "code",
   "execution_count": 13,
   "metadata": {},
   "outputs": [],
   "source": [
    "from maccabee.examples.genmatch import GenmatchDataGeneratingProcess, GENMATCH_SPECS\n",
    "from maccabee.examples.genmatch import LogisticPropensityMatchingCausalModel"
   ]
  },
  {
   "cell_type": "code",
   "execution_count": 14,
   "metadata": {},
   "outputs": [
    {
     "data": {
      "text/latex": [
       "$\\displaystyle 0.4 X_{1} X_{3} + 0.8 X_{1} - 0.25 X_{2}^{2} - 0.175 X_{2} X_{4} - 0.25 X_{2} + 0.6 X_{3} - 0.2 X_{4} X_{5} - 0.4 X_{4} - 0.4 X_{5} X_{6} - 0.8 X_{5} - 0.5 X_{6} + 0.7 X_{7}$"
      ],
      "text/plain": [
       "0.4*X_1*X_3 + 0.8*X_1 - 0.25*X_2**2 - 0.175*X_2*X_4 - 0.25*X_2 + 0.6*X_3 - 0.2*X_4*X_5 - 0.4*X_4 - 0.4*X_5*X_6 - 0.8*X_5 - 0.5*X_6 + 0.7*X_7"
      ]
     },
     "execution_count": 14,
     "metadata": {},
     "output_type": "execute_result"
    }
   ],
   "source": [
    "genmatch_A_dgp = GenmatchDataGeneratingProcess(\n",
    "    *GENMATCH_SPECS[\"E\"],\n",
    "    n_observations=100, analysis_mode=True)\n",
    "genmatch_A_dgp.treatment_logit_expression"
   ]
  },
  {
   "cell_type": "code",
   "execution_count": 15,
   "metadata": {},
   "outputs": [
    {
     "data": {
      "text/html": [
       "<div>\n",
       "<style scoped>\n",
       "    .dataframe tbody tr th:only-of-type {\n",
       "        vertical-align: middle;\n",
       "    }\n",
       "\n",
       "    .dataframe tbody tr th {\n",
       "        vertical-align: top;\n",
       "    }\n",
       "\n",
       "    .dataframe thead th {\n",
       "        text-align: right;\n",
       "    }\n",
       "</style>\n",
       "<table border=\"1\" class=\"dataframe\">\n",
       "  <thead>\n",
       "    <tr style=\"text-align: right;\">\n",
       "      <th></th>\n",
       "      <th>X_0</th>\n",
       "      <th>X_1</th>\n",
       "      <th>X_2</th>\n",
       "      <th>X_3</th>\n",
       "      <th>X_4</th>\n",
       "      <th>X_5</th>\n",
       "      <th>X_6</th>\n",
       "      <th>X_7</th>\n",
       "      <th>X_8</th>\n",
       "      <th>X_9</th>\n",
       "      <th>X_10</th>\n",
       "      <th>T</th>\n",
       "      <th>Y</th>\n",
       "    </tr>\n",
       "  </thead>\n",
       "  <tbody>\n",
       "    <tr>\n",
       "      <th>0</th>\n",
       "      <td>1.0</td>\n",
       "      <td>1.0</td>\n",
       "      <td>-0.232965</td>\n",
       "      <td>1.0</td>\n",
       "      <td>-0.808452</td>\n",
       "      <td>1.0</td>\n",
       "      <td>1.0</td>\n",
       "      <td>-1.562857</td>\n",
       "      <td>0.0</td>\n",
       "      <td>1.0</td>\n",
       "      <td>-0.808036</td>\n",
       "      <td>0</td>\n",
       "      <td>-4.434531</td>\n",
       "    </tr>\n",
       "    <tr>\n",
       "      <th>1</th>\n",
       "      <td>1.0</td>\n",
       "      <td>1.0</td>\n",
       "      <td>0.170274</td>\n",
       "      <td>0.0</td>\n",
       "      <td>0.704646</td>\n",
       "      <td>1.0</td>\n",
       "      <td>1.0</td>\n",
       "      <td>1.066438</td>\n",
       "      <td>0.0</td>\n",
       "      <td>1.0</td>\n",
       "      <td>0.772706</td>\n",
       "      <td>1</td>\n",
       "      <td>-4.141324</td>\n",
       "    </tr>\n",
       "    <tr>\n",
       "      <th>2</th>\n",
       "      <td>1.0</td>\n",
       "      <td>1.0</td>\n",
       "      <td>1.981547</td>\n",
       "      <td>1.0</td>\n",
       "      <td>-0.332395</td>\n",
       "      <td>0.0</td>\n",
       "      <td>1.0</td>\n",
       "      <td>0.768983</td>\n",
       "      <td>1.0</td>\n",
       "      <td>1.0</td>\n",
       "      <td>0.673765</td>\n",
       "      <td>1</td>\n",
       "      <td>-4.631699</td>\n",
       "    </tr>\n",
       "    <tr>\n",
       "      <th>3</th>\n",
       "      <td>1.0</td>\n",
       "      <td>0.0</td>\n",
       "      <td>-0.035995</td>\n",
       "      <td>0.0</td>\n",
       "      <td>0.344226</td>\n",
       "      <td>1.0</td>\n",
       "      <td>1.0</td>\n",
       "      <td>-0.633510</td>\n",
       "      <td>0.0</td>\n",
       "      <td>1.0</td>\n",
       "      <td>-0.874435</td>\n",
       "      <td>0</td>\n",
       "      <td>-4.323240</td>\n",
       "    </tr>\n",
       "    <tr>\n",
       "      <th>4</th>\n",
       "      <td>1.0</td>\n",
       "      <td>0.0</td>\n",
       "      <td>0.236985</td>\n",
       "      <td>0.0</td>\n",
       "      <td>0.850624</td>\n",
       "      <td>1.0</td>\n",
       "      <td>1.0</td>\n",
       "      <td>-0.604283</td>\n",
       "      <td>0.0</td>\n",
       "      <td>1.0</td>\n",
       "      <td>0.226504</td>\n",
       "      <td>0</td>\n",
       "      <td>-4.236548</td>\n",
       "    </tr>\n",
       "    <tr>\n",
       "      <th>...</th>\n",
       "      <td>...</td>\n",
       "      <td>...</td>\n",
       "      <td>...</td>\n",
       "      <td>...</td>\n",
       "      <td>...</td>\n",
       "      <td>...</td>\n",
       "      <td>...</td>\n",
       "      <td>...</td>\n",
       "      <td>...</td>\n",
       "      <td>...</td>\n",
       "      <td>...</td>\n",
       "      <td>...</td>\n",
       "      <td>...</td>\n",
       "    </tr>\n",
       "    <tr>\n",
       "      <th>95</th>\n",
       "      <td>1.0</td>\n",
       "      <td>1.0</td>\n",
       "      <td>-0.564505</td>\n",
       "      <td>1.0</td>\n",
       "      <td>1.097291</td>\n",
       "      <td>0.0</td>\n",
       "      <td>0.0</td>\n",
       "      <td>0.145542</td>\n",
       "      <td>0.0</td>\n",
       "      <td>1.0</td>\n",
       "      <td>0.973414</td>\n",
       "      <td>0</td>\n",
       "      <td>-4.233149</td>\n",
       "    </tr>\n",
       "    <tr>\n",
       "      <th>96</th>\n",
       "      <td>1.0</td>\n",
       "      <td>0.0</td>\n",
       "      <td>1.505190</td>\n",
       "      <td>0.0</td>\n",
       "      <td>0.166493</td>\n",
       "      <td>0.0</td>\n",
       "      <td>0.0</td>\n",
       "      <td>-1.662765</td>\n",
       "      <td>0.0</td>\n",
       "      <td>0.0</td>\n",
       "      <td>0.544410</td>\n",
       "      <td>0</td>\n",
       "      <td>-4.283620</td>\n",
       "    </tr>\n",
       "    <tr>\n",
       "      <th>97</th>\n",
       "      <td>1.0</td>\n",
       "      <td>0.0</td>\n",
       "      <td>-0.408158</td>\n",
       "      <td>0.0</td>\n",
       "      <td>-0.119618</td>\n",
       "      <td>1.0</td>\n",
       "      <td>1.0</td>\n",
       "      <td>1.660629</td>\n",
       "      <td>0.0</td>\n",
       "      <td>0.0</td>\n",
       "      <td>-1.000997</td>\n",
       "      <td>0</td>\n",
       "      <td>-3.939399</td>\n",
       "    </tr>\n",
       "    <tr>\n",
       "      <th>98</th>\n",
       "      <td>1.0</td>\n",
       "      <td>0.0</td>\n",
       "      <td>1.298080</td>\n",
       "      <td>1.0</td>\n",
       "      <td>-0.274254</td>\n",
       "      <td>0.0</td>\n",
       "      <td>0.0</td>\n",
       "      <td>-1.491888</td>\n",
       "      <td>1.0</td>\n",
       "      <td>0.0</td>\n",
       "      <td>0.157328</td>\n",
       "      <td>1</td>\n",
       "      <td>-4.641553</td>\n",
       "    </tr>\n",
       "    <tr>\n",
       "      <th>99</th>\n",
       "      <td>1.0</td>\n",
       "      <td>0.0</td>\n",
       "      <td>-0.471119</td>\n",
       "      <td>1.0</td>\n",
       "      <td>-0.707977</td>\n",
       "      <td>0.0</td>\n",
       "      <td>0.0</td>\n",
       "      <td>-0.243985</td>\n",
       "      <td>1.0</td>\n",
       "      <td>1.0</td>\n",
       "      <td>-0.344200</td>\n",
       "      <td>0</td>\n",
       "      <td>-3.838294</td>\n",
       "    </tr>\n",
       "  </tbody>\n",
       "</table>\n",
       "<p>100 rows × 13 columns</p>\n",
       "</div>"
      ],
      "text/plain": [
       "    X_0  X_1       X_2  X_3       X_4  X_5  X_6       X_7  X_8  X_9      X_10  \\\n",
       "0   1.0  1.0 -0.232965  1.0 -0.808452  1.0  1.0 -1.562857  0.0  1.0 -0.808036   \n",
       "1   1.0  1.0  0.170274  0.0  0.704646  1.0  1.0  1.066438  0.0  1.0  0.772706   \n",
       "2   1.0  1.0  1.981547  1.0 -0.332395  0.0  1.0  0.768983  1.0  1.0  0.673765   \n",
       "3   1.0  0.0 -0.035995  0.0  0.344226  1.0  1.0 -0.633510  0.0  1.0 -0.874435   \n",
       "4   1.0  0.0  0.236985  0.0  0.850624  1.0  1.0 -0.604283  0.0  1.0  0.226504   \n",
       "..  ...  ...       ...  ...       ...  ...  ...       ...  ...  ...       ...   \n",
       "95  1.0  1.0 -0.564505  1.0  1.097291  0.0  0.0  0.145542  0.0  1.0  0.973414   \n",
       "96  1.0  0.0  1.505190  0.0  0.166493  0.0  0.0 -1.662765  0.0  0.0  0.544410   \n",
       "97  1.0  0.0 -0.408158  0.0 -0.119618  1.0  1.0  1.660629  0.0  0.0 -1.000997   \n",
       "98  1.0  0.0  1.298080  1.0 -0.274254  0.0  0.0 -1.491888  1.0  0.0  0.157328   \n",
       "99  1.0  0.0 -0.471119  1.0 -0.707977  0.0  0.0 -0.243985  1.0  1.0 -0.344200   \n",
       "\n",
       "    T         Y  \n",
       "0   0 -4.434531  \n",
       "1   1 -4.141324  \n",
       "2   1 -4.631699  \n",
       "3   0 -4.323240  \n",
       "4   0 -4.236548  \n",
       ".. ..       ...  \n",
       "95  0 -4.233149  \n",
       "96  0 -4.283620  \n",
       "97  0 -3.939399  \n",
       "98  1 -4.641553  \n",
       "99  0 -3.838294  \n",
       "\n",
       "[100 rows x 13 columns]"
      ]
     },
     "execution_count": 15,
     "metadata": {},
     "output_type": "execute_result"
    }
   ],
   "source": [
    "genmatch_dataset = genmatch_A_dgp.generate_dataset()\n",
    "genmatch_dataset.observed_data"
   ]
  },
  {
   "cell_type": "code",
   "execution_count": 16,
   "metadata": {},
   "outputs": [
    {
     "data": {
      "text/plain": [
       "-0.40000000000000013"
      ]
     },
     "execution_count": 16,
     "metadata": {},
     "output_type": "execute_result"
    }
   ],
   "source": [
    "genmatch_dataset.ATE"
   ]
  },
  {
   "cell_type": "code",
   "execution_count": 17,
   "metadata": {},
   "outputs": [],
   "source": [
    "model = LogisticPropensityMatchingCausalModel(genmatch_dataset)\n",
    "model.fit()"
   ]
  },
  {
   "cell_type": "code",
   "execution_count": 18,
   "metadata": {},
   "outputs": [
    {
     "data": {
      "text/plain": [
       "-0.06359618844879382"
      ]
     },
     "execution_count": 18,
     "metadata": {},
     "output_type": "execute_result"
    }
   ],
   "source": [
    "model.estimate_ATE()"
   ]
  },
  {
   "cell_type": "markdown",
   "metadata": {},
   "source": [
    "#### Benchmark"
   ]
  },
  {
   "cell_type": "code",
   "execution_count": 39,
   "metadata": {},
   "outputs": [
    {
     "name": "stdout",
     "output_type": "stream",
     "text": [
      "CPU times: user 5min 56s, sys: 6min 18s, total: 12min 14s\n",
      "Wall time: 2min 4s\n"
     ]
    }
   ],
   "source": [
    "%%time\n",
    "\n",
    "# Concrete Benchmark\n",
    "dgp = GenmatchDataGeneratingProcess(\n",
    "    *GENMATCH_SPECS[\"E\"],\n",
    "    n_observations=1000, analysis_mode=True)\n",
    "\n",
    "result = run_concrete_dgp_benchmark(\n",
    "    dgp=dgp,\n",
    "    model_class=LogisticPropensityMatchingCausalModel,\n",
    "    estimand=Constants.Model.ATE_ESTIMAND,\n",
    "    num_samples_from_dgp=1000,\n",
    "    enable_ray_multiprocessing=False)"
   ]
  },
  {
   "cell_type": "code",
   "execution_count": 40,
   "metadata": {},
   "outputs": [
    {
     "data": {
      "text/plain": [
       "{'absolute mean percentage bias': 7.95932280928424,\n",
       " 'root mean squared error': 0.06958073391560818}"
      ]
     },
     "execution_count": 40,
     "metadata": {},
     "output_type": "execute_result"
    }
   ],
   "source": [
    "result"
   ]
  }
 ],
 "metadata": {
  "kernelspec": {
   "display_name": "Python 3",
   "language": "python",
   "name": "python3"
  },
  "language_info": {
   "codemirror_mode": {
    "name": "ipython",
    "version": 3
   },
   "file_extension": ".py",
   "mimetype": "text/x-python",
   "name": "python",
   "nbconvert_exporter": "python",
   "pygments_lexer": "ipython3",
   "version": "3.7.3"
  },
  "varInspector": {
   "cols": {
    "lenName": 16,
    "lenType": 16,
    "lenVar": 40
   },
   "kernels_config": {
    "python": {
     "delete_cmd_postfix": "",
     "delete_cmd_prefix": "del ",
     "library": "var_list.py",
     "varRefreshCmd": "print(var_dic_list())"
    },
    "r": {
     "delete_cmd_postfix": ") ",
     "delete_cmd_prefix": "rm(",
     "library": "var_list.r",
     "varRefreshCmd": "cat(var_dic_list()) "
    }
   },
   "types_to_exclude": [
    "module",
    "function",
    "builtin_function_or_method",
    "instance",
    "_Feature"
   ],
   "window_display": false
  }
 },
 "nbformat": 4,
 "nbformat_minor": 2
}
