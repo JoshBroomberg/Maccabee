{
 "cells": [
  {
   "cell_type": "code",
   "execution_count": 1,
   "metadata": {},
   "outputs": [
    {
     "name": "stdout",
     "output_type": "stream",
     "text": [
      "Obtaining file:///home/jovyan/work/CauseML\n",
      "Requirement already satisfied: numpy in /opt/conda/lib/python3.7/site-packages (from cause-ml==0.0.11) (1.17.3)\n",
      "Requirement already satisfied: pandas in /opt/conda/lib/python3.7/site-packages (from cause-ml==0.0.11) (0.25.3)\n",
      "Requirement already satisfied: scipy in /opt/conda/lib/python3.7/site-packages (from cause-ml==0.0.11) (1.3.2)\n",
      "Requirement already satisfied: sympy in /opt/conda/lib/python3.7/site-packages (from cause-ml==0.0.11) (1.4)\n",
      "Requirement already satisfied: POT in /opt/conda/lib/python3.7/site-packages (from cause-ml==0.0.11) (0.6.0)\n",
      "Requirement already satisfied: pyyaml in /opt/conda/lib/python3.7/site-packages (from cause-ml==0.0.11) (5.1.2)\n",
      "Requirement already satisfied: python-dateutil>=2.6.1 in /opt/conda/lib/python3.7/site-packages (from pandas->cause-ml==0.0.11) (2.8.1)\n",
      "Requirement already satisfied: pytz>=2017.2 in /opt/conda/lib/python3.7/site-packages (from pandas->cause-ml==0.0.11) (2019.3)\n",
      "Requirement already satisfied: mpmath>=0.19 in /opt/conda/lib/python3.7/site-packages (from sympy->cause-ml==0.0.11) (1.1.0)\n",
      "Requirement already satisfied: cython in /opt/conda/lib/python3.7/site-packages (from POT->cause-ml==0.0.11) (0.29.14)\n",
      "Requirement already satisfied: six>=1.5 in /opt/conda/lib/python3.7/site-packages (from python-dateutil>=2.6.1->pandas->cause-ml==0.0.11) (1.13.0)\n",
      "Installing collected packages: cause-ml\n",
      "  Found existing installation: cause-ml 0.0.11\n",
      "    Uninstalling cause-ml-0.0.11:\n",
      "      Successfully uninstalled cause-ml-0.0.11\n",
      "  Running setup.py develop for cause-ml\n",
      "Successfully installed cause-ml\n"
     ]
    }
   ],
   "source": [
    "!pip install -e ../CauseML"
   ]
  },
  {
   "cell_type": "code",
   "execution_count": 1,
   "metadata": {},
   "outputs": [],
   "source": [
    "%load_ext autoreload\n",
    "%autoreload 2"
   ]
  },
  {
   "cell_type": "code",
   "execution_count": 3,
   "metadata": {},
   "outputs": [],
   "source": [
    "from cause_ml.parameters import build_parameters_from_axis_levels\n",
    "from cause_ml.constants import Constants\n",
    "from cause_ml.data_generation import DataGeneratingProcessSampler\n",
    "import cause_ml.data_sources as data_sources\n",
    "from cause_ml.benchmarking import run_benchmark"
   ]
  },
  {
   "cell_type": "code",
   "execution_count": 5,
   "metadata": {},
   "outputs": [
    {
     "name": "stdout",
     "output_type": "stream",
     "text": [
      "WARNING: Not monitoring node memory since `psutil` is not installed. Install this with `pip install psutil` (or ray[debug]) to enable debugging of memory-related crashes.\n"
     ]
    }
   ],
   "source": [
    "import pandas as pd\n",
    "from sklearn.model_selection import ParameterGrid\n",
    "from collections import defaultdict\n",
    "import ray"
   ]
  },
  {
   "cell_type": "markdown",
   "metadata": {},
   "source": [
    "## Model Demo"
   ]
  },
  {
   "cell_type": "code",
   "execution_count": 8,
   "metadata": {},
   "outputs": [],
   "source": [
    "covar_data_source = data_sources.load_random_normal_covariates(n_covars = 10, n_observations=1000)\n",
    "dgp_params = build_parameters_from_axis_levels({\n",
    "    Constants.AxisNames.OUTCOME_NONLINEARITY: Constants.AxisLevels.LOW,\n",
    "    Constants.AxisNames.TREATMENT_NONLINEARITY: Constants.AxisLevels.LOW,\n",
    "})\n",
    "\n",
    "dgp_sampler = DataGeneratingProcessSampler(\n",
    "    parameters=dgp_params, data_source=covar_data_source)\n",
    "\n",
    "dgp = dgp_sampler.sample_dgp()\n",
    "dataset = dgp.generate_data()"
   ]
  },
  {
   "cell_type": "code",
   "execution_count": 9,
   "metadata": {},
   "outputs": [
    {
     "data": {
      "text/plain": [
       "-1.013"
      ]
     },
     "execution_count": 9,
     "metadata": {},
     "output_type": "execute_result"
    }
   ],
   "source": [
    "dataset.ATE"
   ]
  },
  {
   "cell_type": "code",
   "execution_count": 10,
   "metadata": {},
   "outputs": [
    {
     "data": {
      "text/plain": [
       "-1.0170460400173909"
      ]
     },
     "execution_count": 10,
     "metadata": {},
     "output_type": "execute_result"
    }
   ],
   "source": [
    "model = LinearRegressionCausalModel(dataset)\n",
    "model.fit()\n",
    "model.estimate(estimand=Constants.Model.ATE_ESTIMAND)"
   ]
  },
  {
   "cell_type": "markdown",
   "metadata": {},
   "source": [
    "## Benchmarking Demo"
   ]
  },
  {
   "cell_type": "code",
   "execution_count": 90,
   "metadata": {},
   "outputs": [],
   "source": [
    "# metrics = {\n",
    "#     \"bias\": lambda res, dataset: res - dataset.ATE,\n",
    "#     \"squared_error\": lambda res, dataset: (res - dataset.ATE)**2\n",
    "# }\n",
    "\n",
    "# def run_experiment(data_source, param_grid, num_dgp_samples, num_data_samples_per_dgp):\n",
    "#     results = defaultdict(list)\n",
    "    \n",
    "#     for param_spec in ParameterGrid(param_grid):\n",
    "#         dgp_params = build_parameters_from_axis_levels(param_spec)\n",
    "#         dgp_sampler = DataGeneratingProcessSampler(\n",
    "#             parameters=dgp_params, data_source=covar_data_source)\n",
    "        \n",
    "#         n_samples_per_param_spec = num_dgp_samples*num_data_samples_per_dgp\n",
    "#         param_spec_results = defaultdict(lambda: np.empty(n_samples_per_param_spec))\n",
    "        \n",
    "#         for dgp_sample_index in range(num_dgp_samples):\n",
    "#             # Sample DGP\n",
    "#             dgp = dgp_sampler.sample_dgp()\n",
    "            \n",
    "#             for data_index in range(num_data_samples_per_dgp):\n",
    "#                 result_id = dgp_sample_index*num_data_samples_per_dgp + data_index\n",
    "                \n",
    "#                 # Sample data\n",
    "#                 dataset = dgp.generate_data()\n",
    "                \n",
    "#                 # Apply model\n",
    "#                 model = LinearRegressionCausalModel(dataset)\n",
    "#                 model.fit()\n",
    "#                 ATE_estimate = model.estimate(estimand=Constants.Model.ATE_ESTIMAND)\n",
    "                \n",
    "#                 # Score model - bias, squared error\n",
    "#                 for metric_name, metric_func in metrics.items():\n",
    "#                     param_spec_results[metric_name][result_id] = metric_func(ATE_estimate, dataset)\n",
    "        \n",
    "#         for param_name, param_value in param_spec.items():\n",
    "#             results[f\"param_{param_name.lower()}\"].append(param_value)\n",
    "            \n",
    "#         for metric, metric_results in param_spec_results.items():\n",
    "#             results[f\"mean_{metric}\"].append(np.mean(metric_results))\n",
    "#             results[f\"std_{metric}\"].append(np.std(metric_results))\n",
    "            \n",
    "#     return results"
   ]
  },
  {
   "cell_type": "code",
   "execution_count": 91,
   "metadata": {},
   "outputs": [],
   "source": [
    "# HIGH, MEDIUM, LOW = Constants.AxisLevels.HIGH, Constants.AxisLevels.MEDIUM, Constants.AxisLevels.LOW\n",
    "\n",
    "# param_grid = dgp_params = {\n",
    "#     Constants.AxisNames.TREATMENT_NONLINEARITY: [MEDIUM, LOW],\n",
    "#     Constants.AxisNames.OUTCOME_NONLINEARITY: [MEDIUM, LOW]\n",
    "# }\n",
    "# covar_data_source = data_sources.load_random_normal_covariates(n_covars = 10, n_observations=1000)\n",
    "# result = run_experiment(covar_data_source, param_grid, 2, 2)"
   ]
  },
  {
   "cell_type": "code",
   "execution_count": 92,
   "metadata": {},
   "outputs": [
    {
     "data": {
      "text/html": [
       "<div>\n",
       "<style scoped>\n",
       "    .dataframe tbody tr th:only-of-type {\n",
       "        vertical-align: middle;\n",
       "    }\n",
       "\n",
       "    .dataframe tbody tr th {\n",
       "        vertical-align: top;\n",
       "    }\n",
       "\n",
       "    .dataframe thead th {\n",
       "        text-align: right;\n",
       "    }\n",
       "</style>\n",
       "<table border=\"1\" class=\"dataframe\">\n",
       "  <thead>\n",
       "    <tr style=\"text-align: right;\">\n",
       "      <th></th>\n",
       "      <th>param_outcome_nonlinearity</th>\n",
       "      <th>param_treatment_nonlinearity</th>\n",
       "      <th>mean_bias</th>\n",
       "      <th>std_bias</th>\n",
       "      <th>mean_squared_error</th>\n",
       "      <th>std_squared_error</th>\n",
       "    </tr>\n",
       "  </thead>\n",
       "  <tbody>\n",
       "    <tr>\n",
       "      <th>0</th>\n",
       "      <td>HIGH</td>\n",
       "      <td>MEDIUM</td>\n",
       "      <td>0.138335</td>\n",
       "      <td>0.023464</td>\n",
       "      <td>0.019687</td>\n",
       "      <td>0.006492</td>\n",
       "    </tr>\n",
       "    <tr>\n",
       "      <th>1</th>\n",
       "      <td>HIGH</td>\n",
       "      <td>LOW</td>\n",
       "      <td>0.074791</td>\n",
       "      <td>0.004001</td>\n",
       "      <td>0.005610</td>\n",
       "      <td>0.000599</td>\n",
       "    </tr>\n",
       "    <tr>\n",
       "      <th>2</th>\n",
       "      <td>MEDIUM</td>\n",
       "      <td>MEDIUM</td>\n",
       "      <td>0.148252</td>\n",
       "      <td>0.036955</td>\n",
       "      <td>0.023344</td>\n",
       "      <td>0.010957</td>\n",
       "    </tr>\n",
       "    <tr>\n",
       "      <th>3</th>\n",
       "      <td>MEDIUM</td>\n",
       "      <td>LOW</td>\n",
       "      <td>0.036649</td>\n",
       "      <td>0.012624</td>\n",
       "      <td>0.001502</td>\n",
       "      <td>0.000925</td>\n",
       "    </tr>\n",
       "    <tr>\n",
       "      <th>4</th>\n",
       "      <td>LOW</td>\n",
       "      <td>MEDIUM</td>\n",
       "      <td>0.099378</td>\n",
       "      <td>0.092306</td>\n",
       "      <td>0.018396</td>\n",
       "      <td>0.018346</td>\n",
       "    </tr>\n",
       "    <tr>\n",
       "      <th>5</th>\n",
       "      <td>LOW</td>\n",
       "      <td>LOW</td>\n",
       "      <td>0.001269</td>\n",
       "      <td>0.003620</td>\n",
       "      <td>0.000015</td>\n",
       "      <td>0.000009</td>\n",
       "    </tr>\n",
       "  </tbody>\n",
       "</table>\n",
       "</div>"
      ],
      "text/plain": [
       "  param_outcome_nonlinearity  ... std_squared_error\n",
       "0                       HIGH  ...          0.006492\n",
       "1                       HIGH  ...          0.000599\n",
       "2                     MEDIUM  ...          0.010957\n",
       "3                     MEDIUM  ...          0.000925\n",
       "4                        LOW  ...          0.018346\n",
       "5                        LOW  ...          0.000009\n",
       "\n",
       "[6 rows x 6 columns]"
      ]
     },
     "execution_count": 92,
     "metadata": {},
     "output_type": "execute_result"
    }
   ],
   "source": [
    "# pd.DataFrame(result)"
   ]
  },
  {
   "cell_type": "code",
   "execution_count": 11,
   "metadata": {},
   "outputs": [
    {
     "ename": "NameError",
     "evalue": "name 'ray' is not defined",
     "output_type": "error",
     "traceback": [
      "\u001b[0;31m---------------------------------------------------------------------------\u001b[0m",
      "\u001b[0;31mNameError\u001b[0m                                 Traceback (most recent call last)",
      "\u001b[0;32m<ipython-input-11-061d1812a3c8>\u001b[0m in \u001b[0;36m<module>\u001b[0;34m\u001b[0m\n\u001b[0;32m----> 1\u001b[0;31m \u001b[0mray\u001b[0m\u001b[0;34m.\u001b[0m\u001b[0mis_initialized\u001b[0m\u001b[0;34m(\u001b[0m\u001b[0;34m)\u001b[0m\u001b[0;34m\u001b[0m\u001b[0;34m\u001b[0m\u001b[0m\n\u001b[0m",
      "\u001b[0;31mNameError\u001b[0m: name 'ray' is not defined"
     ]
    }
   ],
   "source": [
    "ray.is_initialized()"
   ]
  },
  {
   "cell_type": "code",
   "execution_count": 9,
   "metadata": {},
   "outputs": [],
   "source": [
    "# metrics = {\n",
    "#     \"absolute mean bias\": lambda estimate_vals, true_vals: np.abs(\n",
    "#         np.mean(estimate_vals - true_vals)),\n",
    "#     \"root mean squared error\": lambda estimate_vals, true_vals: np.sqrt(\n",
    "#         np.mean((estimate_vals - true_vals)**2))\n",
    "# }\n",
    "\n",
    "# @ray.remote\n",
    "# def sample_dgp(dgp_sampler):\n",
    "#     return dgp_sampler.sample_dgp()\n",
    "        \n",
    "# @ray.remote\n",
    "# def sample_data(dgp):\n",
    "#     # Sample data\n",
    "#     dataset = dgp.generate_data()\n",
    "#     return dataset\n",
    "\n",
    "# # Constants.Model.ATE_ESTIMAND\n",
    "# @ray.remote\n",
    "# def fit_and_apply_model(model_class, estimand, dataset):\n",
    "#     model = model_class(dataset)\n",
    "#     model.fit()\n",
    "#     estimate_val = model.estimate(estimand=estimand)\n",
    "#     true_val = dataset.ground_truth(estimand=estimand)\n",
    "    \n",
    "#     return estimate_val, true_val\n",
    "\n",
    "# def run_experiment(model_class, estimand,\n",
    "#                    data_source, param_grid,\n",
    "#                    num_dgp_samples=1,\n",
    "#                    num_data_samples_per_dgp=1):\n",
    "    \n",
    "#     results = defaultdict(list)\n",
    "    \n",
    "#     for param_spec in ParameterGrid(param_grid):\n",
    "#         dgp_params = build_parameters_from_axis_levels(param_spec)\n",
    "#         dgp_sampler = DataGeneratingProcessSampler(\n",
    "#             parameters=dgp_params, data_source=covar_data_source)\n",
    "        \n",
    "#         async_sample_effect_data = []\n",
    "#         for _ in range(num_dgp_samples):\n",
    "#             dgp = sample_dgp.remote(dgp_sampler) \n",
    "#             for _ in range(num_data_samples_per_dgp):\n",
    "#                 dataset = sample_data.remote(dgp)\n",
    "#                 effect_data = fit_and_apply_model.remote(\n",
    "#                     model_class, estimand, dataset)\n",
    "#                 async_sample_effect_data.append(effect_data)\n",
    "        \n",
    "#         sample_effect_data = np.array(ray.get(async_sample_effect_data))\n",
    "#         estimate_vals = sample_effect_data[:, 0]\n",
    "#         true_vals = sample_effect_data[:, 1]\n",
    "                \n",
    "#         for param_name, param_value in param_spec.items():\n",
    "#             results[f\"param_{param_name.lower()}\"].append(param_value)\n",
    "            \n",
    "#         for metric_name, metric_func in metrics.items():\n",
    "#             results[metric_name].append(\n",
    "#                 metric_func(estimate_vals, true_vals))\n",
    "            \n",
    "#     return results"
   ]
  },
  {
   "cell_type": "code",
   "execution_count": 40,
   "metadata": {},
   "outputs": [],
   "source": [
    "# metrics = {\n",
    "#     \"absolute mean bias\": lambda estimate_vals, true_vals: np.abs(\n",
    "#         np.mean(estimate_vals - true_vals)),\n",
    "#     \"root mean squared error\": lambda estimate_vals, true_vals: np.sqrt(\n",
    "#         np.mean((estimate_vals - true_vals)**2))\n",
    "# }\n",
    "\n",
    "# def _sample_dgp(dgp_sampler):\n",
    "#     return dgp_sampler.sample_dgp()\n",
    "        \n",
    "# def _sample_data(dgp):\n",
    "#     # Sample data\n",
    "#     dataset = dgp.generate_data()\n",
    "#     return dataset\n",
    "\n",
    "# def _fit_and_apply_model(model_class, estimand, dataset):\n",
    "#     model = model_class(dataset)\n",
    "#     model.fit()\n",
    "#     estimate_val = model.estimate(estimand=estimand)\n",
    "#     true_val = dataset.ground_truth(estimand=estimand)\n",
    "    \n",
    "#     return estimate_val, true_val"
   ]
  },
  {
   "cell_type": "code",
   "execution_count": 47,
   "metadata": {},
   "outputs": [],
   "source": [
    "# def run_benchmark(model_class, estimand,\n",
    "#                    data_source, param_grid,\n",
    "#                    num_dgp_samples=1,\n",
    "#                    num_data_samples_per_dgp=1,\n",
    "#                    enable_ray_multiprocessing=False):\n",
    "    \n",
    "#     if enable_ray_multiprocessing:\n",
    "#         if not ray.is_initialized():\n",
    "#             ray.init()\n",
    "            \n",
    "#         sample_dgp = ray.remote(_sample_dgp).remote\n",
    "#         sample_data = ray.remote(_sample_data).remote\n",
    "#         fit_and_apply_model = ray.remote(_fit_and_apply_model).remote\n",
    "#     else:\n",
    "#         sample_dgp = _sample_dgp\n",
    "#         sample_data = _sample_data\n",
    "#         fit_and_apply_model = fit_and_apply_model\n",
    "    \n",
    "#     results = defaultdict(list)\n",
    "    \n",
    "#     for param_spec in ParameterGrid(param_grid):\n",
    "#         dgp_params = build_parameters_from_axis_levels(param_spec)\n",
    "#         dgp_sampler = DataGeneratingProcessSampler(\n",
    "#             parameters=dgp_params, data_source=covar_data_source)\n",
    "        \n",
    "#         async_sample_effect_data = []\n",
    "#         for _ in range(num_dgp_samples):\n",
    "#             dgp = sample_dgp(dgp_sampler) \n",
    "#             for _ in range(num_data_samples_per_dgp):\n",
    "#                 dataset = sample_data(dgp)\n",
    "#                 effect_data = fit_and_apply_model(\n",
    "#                     model_class, estimand, dataset)\n",
    "#                 async_sample_effect_data.append(effect_data)\n",
    "        \n",
    "#         if enable_ray_multiprocessing:\n",
    "#             sample_effect_data = ray.get(async_sample_effect_data)\n",
    "#         else:\n",
    "#             sample_effect_data = async_sample_effect_data\n",
    "        \n",
    "#         sample_effect_data = np.array(sample_effect_data)\n",
    "            \n",
    "#         estimate_vals = sample_effect_data[:, 0]\n",
    "#         true_vals = sample_effect_data[:, 1]\n",
    "                \n",
    "#         for param_name, param_value in param_spec.items():\n",
    "#             results[f\"param_{param_name.lower()}\"].append(param_value)\n",
    "            \n",
    "#         for metric_name, metric_func in metrics.items():\n",
    "#             results[metric_name].append(\n",
    "#                 metric_func(estimate_vals, true_vals))\n",
    "            \n",
    "#     return results"
   ]
  },
  {
   "cell_type": "code",
   "execution_count": 13,
   "metadata": {},
   "outputs": [
    {
     "ename": "NameError",
     "evalue": "name 'build_parameters_from_axis_levels' is not defined",
     "output_type": "error",
     "traceback": [
      "\u001b[0;31m---------------------------------------------------------------------------\u001b[0m",
      "\u001b[0;31mNameError\u001b[0m                                 Traceback (most recent call last)",
      "\u001b[0;32m<timed exec>\u001b[0m in \u001b[0;36m<module>\u001b[0;34m\u001b[0m\n",
      "\u001b[0;32m~/work/CauseML/cause_ml/benchmarking/benchmarking.py\u001b[0m in \u001b[0;36mrun_benchmark\u001b[0;34m(model_class, estimand, data_source, param_grid, num_dgp_samples, num_data_samples_per_dgp, enable_ray_multiprocessing, metrics)\u001b[0m\n\u001b[1;32m     49\u001b[0m \u001b[0;34m\u001b[0m\u001b[0m\n\u001b[1;32m     50\u001b[0m     \u001b[0;32mfor\u001b[0m \u001b[0mparam_spec\u001b[0m \u001b[0;32min\u001b[0m \u001b[0mParameterGrid\u001b[0m\u001b[0;34m(\u001b[0m\u001b[0mparam_grid\u001b[0m\u001b[0;34m)\u001b[0m\u001b[0;34m:\u001b[0m\u001b[0;34m\u001b[0m\u001b[0;34m\u001b[0m\u001b[0m\n\u001b[0;32m---> 51\u001b[0;31m         \u001b[0mdgp_params\u001b[0m \u001b[0;34m=\u001b[0m \u001b[0mbuild_parameters_from_axis_levels\u001b[0m\u001b[0;34m(\u001b[0m\u001b[0mparam_spec\u001b[0m\u001b[0;34m)\u001b[0m\u001b[0;34m\u001b[0m\u001b[0;34m\u001b[0m\u001b[0m\n\u001b[0m\u001b[1;32m     52\u001b[0m         dgp_sampler = DataGeneratingProcessSampler(\n\u001b[1;32m     53\u001b[0m             parameters=dgp_params, data_source=covar_data_source)\n",
      "\u001b[0;31mNameError\u001b[0m: name 'build_parameters_from_axis_levels' is not defined"
     ]
    }
   ],
   "source": [
    "%%time\n",
    "\n",
    "HIGH, MEDIUM, LOW = Constants.AxisLevels.HIGH, Constants.AxisLevels.MEDIUM, Constants.AxisLevels.LOW\n",
    "param_grid = dgp_params = {\n",
    "    Constants.AxisNames.TREATMENT_NONLINEARITY: [HIGH, MEDIUM, LOW],\n",
    "    Constants.AxisNames.OUTCOME_NONLINEARITY: [HIGH, MEDIUM, LOW]\n",
    "}\n",
    "\n",
    "covar_data_source = data_sources.load_random_normal_covariates(\n",
    "    n_covars=10,\n",
    "    n_observations=500)\n",
    "\n",
    "result = run_benchmark(\n",
    "    model_class=LinearRegressionCausalModel,\n",
    "    estimand=Constants.Model.ATE_ESTIMAND,\n",
    "    data_source=covar_data_source,\n",
    "    param_grid=param_grid,\n",
    "    num_dgp_samples=1,\n",
    "    num_data_samples_per_dgp=1,\n",
    "    enable_ray_multiprocessing=True)"
   ]
  },
  {
   "cell_type": "code",
   "execution_count": 52,
   "metadata": {},
   "outputs": [
    {
     "data": {
      "text/html": [
       "<div>\n",
       "<style scoped>\n",
       "    .dataframe tbody tr th:only-of-type {\n",
       "        vertical-align: middle;\n",
       "    }\n",
       "\n",
       "    .dataframe tbody tr th {\n",
       "        vertical-align: top;\n",
       "    }\n",
       "\n",
       "    .dataframe thead th {\n",
       "        text-align: right;\n",
       "    }\n",
       "</style>\n",
       "<table border=\"1\" class=\"dataframe\">\n",
       "  <thead>\n",
       "    <tr style=\"text-align: right;\">\n",
       "      <th></th>\n",
       "      <th>param_outcome_nonlinearity</th>\n",
       "      <th>param_treatment_nonlinearity</th>\n",
       "      <th>absolute mean bias</th>\n",
       "      <th>root mean squared error</th>\n",
       "    </tr>\n",
       "  </thead>\n",
       "  <tbody>\n",
       "    <tr>\n",
       "      <th>0</th>\n",
       "      <td>HIGH</td>\n",
       "      <td>HIGH</td>\n",
       "      <td>0.275561</td>\n",
       "      <td>0.323282</td>\n",
       "    </tr>\n",
       "    <tr>\n",
       "      <th>1</th>\n",
       "      <td>HIGH</td>\n",
       "      <td>MEDIUM</td>\n",
       "      <td>0.232124</td>\n",
       "      <td>0.251298</td>\n",
       "    </tr>\n",
       "    <tr>\n",
       "      <th>2</th>\n",
       "      <td>HIGH</td>\n",
       "      <td>LOW</td>\n",
       "      <td>0.127784</td>\n",
       "      <td>0.173943</td>\n",
       "    </tr>\n",
       "    <tr>\n",
       "      <th>3</th>\n",
       "      <td>MEDIUM</td>\n",
       "      <td>HIGH</td>\n",
       "      <td>0.164795</td>\n",
       "      <td>0.192024</td>\n",
       "    </tr>\n",
       "    <tr>\n",
       "      <th>4</th>\n",
       "      <td>MEDIUM</td>\n",
       "      <td>MEDIUM</td>\n",
       "      <td>0.205397</td>\n",
       "      <td>0.260447</td>\n",
       "    </tr>\n",
       "    <tr>\n",
       "      <th>5</th>\n",
       "      <td>MEDIUM</td>\n",
       "      <td>LOW</td>\n",
       "      <td>0.075545</td>\n",
       "      <td>0.151337</td>\n",
       "    </tr>\n",
       "    <tr>\n",
       "      <th>6</th>\n",
       "      <td>LOW</td>\n",
       "      <td>HIGH</td>\n",
       "      <td>0.139639</td>\n",
       "      <td>0.176076</td>\n",
       "    </tr>\n",
       "    <tr>\n",
       "      <th>7</th>\n",
       "      <td>LOW</td>\n",
       "      <td>MEDIUM</td>\n",
       "      <td>0.111783</td>\n",
       "      <td>0.193916</td>\n",
       "    </tr>\n",
       "    <tr>\n",
       "      <th>8</th>\n",
       "      <td>LOW</td>\n",
       "      <td>LOW</td>\n",
       "      <td>0.001163</td>\n",
       "      <td>0.032452</td>\n",
       "    </tr>\n",
       "  </tbody>\n",
       "</table>\n",
       "</div>"
      ],
      "text/plain": [
       "  param_outcome_nonlinearity param_treatment_nonlinearity  absolute mean bias  \\\n",
       "0                       HIGH                         HIGH            0.275561   \n",
       "1                       HIGH                       MEDIUM            0.232124   \n",
       "2                       HIGH                          LOW            0.127784   \n",
       "3                     MEDIUM                         HIGH            0.164795   \n",
       "4                     MEDIUM                       MEDIUM            0.205397   \n",
       "5                     MEDIUM                          LOW            0.075545   \n",
       "6                        LOW                         HIGH            0.139639   \n",
       "7                        LOW                       MEDIUM            0.111783   \n",
       "8                        LOW                          LOW            0.001163   \n",
       "\n",
       "   root mean squared error  \n",
       "0                 0.323282  \n",
       "1                 0.251298  \n",
       "2                 0.173943  \n",
       "3                 0.192024  \n",
       "4                 0.260447  \n",
       "5                 0.151337  \n",
       "6                 0.176076  \n",
       "7                 0.193916  \n",
       "8                 0.032452  "
      ]
     },
     "execution_count": 52,
     "metadata": {},
     "output_type": "execute_result"
    }
   ],
   "source": [
    "pd.DataFrame(result)"
   ]
  }
 ],
 "metadata": {
  "kernelspec": {
   "display_name": "Python 3",
   "language": "python",
   "name": "python3"
  },
  "language_info": {
   "codemirror_mode": {
    "name": "ipython",
    "version": 3
   },
   "file_extension": ".py",
   "mimetype": "text/x-python",
   "name": "python",
   "nbconvert_exporter": "python",
   "pygments_lexer": "ipython3",
   "version": "3.7.3"
  },
  "varInspector": {
   "cols": {
    "lenName": 16,
    "lenType": 16,
    "lenVar": 40
   },
   "kernels_config": {
    "python": {
     "delete_cmd_postfix": "",
     "delete_cmd_prefix": "del ",
     "library": "var_list.py",
     "varRefreshCmd": "print(var_dic_list())"
    },
    "r": {
     "delete_cmd_postfix": ") ",
     "delete_cmd_prefix": "rm(",
     "library": "var_list.r",
     "varRefreshCmd": "cat(var_dic_list()) "
    }
   },
   "types_to_exclude": [
    "module",
    "function",
    "builtin_function_or_method",
    "instance",
    "_Feature"
   ],
   "window_display": false
  }
 },
 "nbformat": 4,
 "nbformat_minor": 2
}
