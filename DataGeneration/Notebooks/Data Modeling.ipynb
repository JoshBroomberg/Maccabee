{
 "cells": [
  {
   "cell_type": "code",
   "execution_count": 1,
   "metadata": {},
   "outputs": [
    {
     "name": "stdout",
     "output_type": "stream",
     "text": [
      "Obtaining file:///home/jovyan/work/CauseML\n",
      "Requirement already satisfied: numpy in /opt/conda/lib/python3.7/site-packages (from cause-ml==0.0.11) (1.17.3)\n",
      "Requirement already satisfied: pandas in /opt/conda/lib/python3.7/site-packages (from cause-ml==0.0.11) (0.25.3)\n",
      "Requirement already satisfied: scipy in /opt/conda/lib/python3.7/site-packages (from cause-ml==0.0.11) (1.3.2)\n",
      "Requirement already satisfied: sympy in /opt/conda/lib/python3.7/site-packages (from cause-ml==0.0.11) (1.4)\n",
      "Requirement already satisfied: POT in /opt/conda/lib/python3.7/site-packages (from cause-ml==0.0.11) (0.6.0)\n",
      "Requirement already satisfied: pyyaml in /opt/conda/lib/python3.7/site-packages (from cause-ml==0.0.11) (5.1.2)\n",
      "Requirement already satisfied: python-dateutil>=2.6.1 in /opt/conda/lib/python3.7/site-packages (from pandas->cause-ml==0.0.11) (2.8.1)\n",
      "Requirement already satisfied: pytz>=2017.2 in /opt/conda/lib/python3.7/site-packages (from pandas->cause-ml==0.0.11) (2019.3)\n",
      "Requirement already satisfied: mpmath>=0.19 in /opt/conda/lib/python3.7/site-packages (from sympy->cause-ml==0.0.11) (1.1.0)\n",
      "Requirement already satisfied: cython in /opt/conda/lib/python3.7/site-packages (from POT->cause-ml==0.0.11) (0.29.14)\n",
      "Requirement already satisfied: six>=1.5 in /opt/conda/lib/python3.7/site-packages (from python-dateutil>=2.6.1->pandas->cause-ml==0.0.11) (1.13.0)\n",
      "Installing collected packages: cause-ml\n",
      "  Found existing installation: cause-ml 0.0.11\n",
      "    Uninstalling cause-ml-0.0.11:\n",
      "      Successfully uninstalled cause-ml-0.0.11\n",
      "  Running setup.py develop for cause-ml\n",
      "Successfully installed cause-ml\n"
     ]
    }
   ],
   "source": [
    "!pip install -e ../CauseML"
   ]
  },
  {
   "cell_type": "code",
   "execution_count": 1,
   "metadata": {},
   "outputs": [],
   "source": [
    "%load_ext autoreload\n",
    "%autoreload 2"
   ]
  },
  {
   "cell_type": "code",
   "execution_count": 3,
   "metadata": {},
   "outputs": [],
   "source": [
    "from cause_ml.parameters import build_parameters_from_axis_levels\n",
    "from cause_ml.constants import Constants\n",
    "from cause_ml.data_generation import DataGeneratingProcessSampler\n",
    "import cause_ml.data_sources as data_sources\n",
    "from cause_ml.benchmarking import run_benchmark"
   ]
  },
  {
   "cell_type": "code",
   "execution_count": 17,
   "metadata": {},
   "outputs": [],
   "source": [
    "import pandas as pd"
   ]
  },
  {
   "cell_type": "markdown",
   "metadata": {},
   "source": [
    "## Model Demo"
   ]
  },
  {
   "cell_type": "code",
   "execution_count": 8,
   "metadata": {},
   "outputs": [],
   "source": [
    "covar_data_source = data_sources.load_random_normal_covariates(n_covars = 10, n_observations=1000)\n",
    "dgp_params = build_parameters_from_axis_levels({\n",
    "    Constants.AxisNames.OUTCOME_NONLINEARITY: Constants.AxisLevels.LOW,\n",
    "    Constants.AxisNames.TREATMENT_NONLINEARITY: Constants.AxisLevels.LOW,\n",
    "})\n",
    "\n",
    "dgp_sampler = DataGeneratingProcessSampler(\n",
    "    parameters=dgp_params, data_source=covar_data_source)\n",
    "\n",
    "dgp = dgp_sampler.sample_dgp()\n",
    "dataset = dgp.generate_data()"
   ]
  },
  {
   "cell_type": "code",
   "execution_count": 9,
   "metadata": {},
   "outputs": [
    {
     "data": {
      "text/plain": [
       "-1.013"
      ]
     },
     "execution_count": 9,
     "metadata": {},
     "output_type": "execute_result"
    }
   ],
   "source": [
    "dataset.ATE"
   ]
  },
  {
   "cell_type": "code",
   "execution_count": 10,
   "metadata": {},
   "outputs": [
    {
     "data": {
      "text/plain": [
       "-1.0170460400173909"
      ]
     },
     "execution_count": 10,
     "metadata": {},
     "output_type": "execute_result"
    }
   ],
   "source": [
    "model = LinearRegressionCausalModel(dataset)\n",
    "model.fit()\n",
    "model.estimate(estimand=Constants.Model.ATE_ESTIMAND)"
   ]
  },
  {
   "cell_type": "markdown",
   "metadata": {},
   "source": [
    "## Benchmarking Demo"
   ]
  },
  {
   "cell_type": "code",
   "execution_count": 16,
   "metadata": {},
   "outputs": [
    {
     "name": "stdout",
     "output_type": "stream",
     "text": [
      "CPU times: user 900 ms, sys: 520 ms, total: 1.42 s\n",
      "Wall time: 21.1 s\n"
     ]
    }
   ],
   "source": [
    "%%time\n",
    "\n",
    "HIGH, MEDIUM, LOW = Constants.AxisLevels.HIGH, Constants.AxisLevels.MEDIUM, Constants.AxisLevels.LOW\n",
    "param_grid = dgp_params = {\n",
    "    Constants.AxisNames.TREATMENT_NONLINEARITY: [HIGH, MEDIUM, LOW],\n",
    "    Constants.AxisNames.OUTCOME_NONLINEARITY: [HIGH, MEDIUM, LOW]\n",
    "}\n",
    "\n",
    "covar_data_source = data_sources.load_random_normal_covariates(\n",
    "    n_covars=10,\n",
    "    n_observations=500)\n",
    "\n",
    "result = run_benchmark(\n",
    "    model_class=LinearRegressionCausalModel,\n",
    "    estimand=Constants.Model.ATE_ESTIMAND,\n",
    "    data_source=covar_data_source,\n",
    "    param_grid=param_grid,\n",
    "    num_dgp_samples=1,\n",
    "    num_data_samples_per_dgp=1,\n",
    "    enable_ray_multiprocessing=True)"
   ]
  },
  {
   "cell_type": "code",
   "execution_count": 18,
   "metadata": {},
   "outputs": [
    {
     "data": {
      "text/html": [
       "<div>\n",
       "<style scoped>\n",
       "    .dataframe tbody tr th:only-of-type {\n",
       "        vertical-align: middle;\n",
       "    }\n",
       "\n",
       "    .dataframe tbody tr th {\n",
       "        vertical-align: top;\n",
       "    }\n",
       "\n",
       "    .dataframe thead th {\n",
       "        text-align: right;\n",
       "    }\n",
       "</style>\n",
       "<table border=\"1\" class=\"dataframe\">\n",
       "  <thead>\n",
       "    <tr style=\"text-align: right;\">\n",
       "      <th></th>\n",
       "      <th>param_outcome_nonlinearity</th>\n",
       "      <th>param_treatment_nonlinearity</th>\n",
       "      <th>absolute mean bias</th>\n",
       "      <th>root mean squared error</th>\n",
       "    </tr>\n",
       "  </thead>\n",
       "  <tbody>\n",
       "    <tr>\n",
       "      <th>0</th>\n",
       "      <td>HIGH</td>\n",
       "      <td>HIGH</td>\n",
       "      <td>0.135260</td>\n",
       "      <td>0.135260</td>\n",
       "    </tr>\n",
       "    <tr>\n",
       "      <th>1</th>\n",
       "      <td>HIGH</td>\n",
       "      <td>MEDIUM</td>\n",
       "      <td>0.168341</td>\n",
       "      <td>0.168341</td>\n",
       "    </tr>\n",
       "    <tr>\n",
       "      <th>2</th>\n",
       "      <td>HIGH</td>\n",
       "      <td>LOW</td>\n",
       "      <td>0.252740</td>\n",
       "      <td>0.252740</td>\n",
       "    </tr>\n",
       "    <tr>\n",
       "      <th>3</th>\n",
       "      <td>MEDIUM</td>\n",
       "      <td>HIGH</td>\n",
       "      <td>0.016795</td>\n",
       "      <td>0.016795</td>\n",
       "    </tr>\n",
       "    <tr>\n",
       "      <th>4</th>\n",
       "      <td>MEDIUM</td>\n",
       "      <td>MEDIUM</td>\n",
       "      <td>0.146660</td>\n",
       "      <td>0.146660</td>\n",
       "    </tr>\n",
       "    <tr>\n",
       "      <th>5</th>\n",
       "      <td>MEDIUM</td>\n",
       "      <td>LOW</td>\n",
       "      <td>0.000401</td>\n",
       "      <td>0.000401</td>\n",
       "    </tr>\n",
       "    <tr>\n",
       "      <th>6</th>\n",
       "      <td>LOW</td>\n",
       "      <td>HIGH</td>\n",
       "      <td>0.069457</td>\n",
       "      <td>0.069457</td>\n",
       "    </tr>\n",
       "    <tr>\n",
       "      <th>7</th>\n",
       "      <td>LOW</td>\n",
       "      <td>MEDIUM</td>\n",
       "      <td>0.043171</td>\n",
       "      <td>0.043171</td>\n",
       "    </tr>\n",
       "    <tr>\n",
       "      <th>8</th>\n",
       "      <td>LOW</td>\n",
       "      <td>LOW</td>\n",
       "      <td>0.031515</td>\n",
       "      <td>0.031515</td>\n",
       "    </tr>\n",
       "  </tbody>\n",
       "</table>\n",
       "</div>"
      ],
      "text/plain": [
       "  param_outcome_nonlinearity param_treatment_nonlinearity  absolute mean bias  \\\n",
       "0                       HIGH                         HIGH            0.135260   \n",
       "1                       HIGH                       MEDIUM            0.168341   \n",
       "2                       HIGH                          LOW            0.252740   \n",
       "3                     MEDIUM                         HIGH            0.016795   \n",
       "4                     MEDIUM                       MEDIUM            0.146660   \n",
       "5                     MEDIUM                          LOW            0.000401   \n",
       "6                        LOW                         HIGH            0.069457   \n",
       "7                        LOW                       MEDIUM            0.043171   \n",
       "8                        LOW                          LOW            0.031515   \n",
       "\n",
       "   root mean squared error  \n",
       "0                 0.135260  \n",
       "1                 0.168341  \n",
       "2                 0.252740  \n",
       "3                 0.016795  \n",
       "4                 0.146660  \n",
       "5                 0.000401  \n",
       "6                 0.069457  \n",
       "7                 0.043171  \n",
       "8                 0.031515  "
      ]
     },
     "execution_count": 18,
     "metadata": {},
     "output_type": "execute_result"
    }
   ],
   "source": [
    "pd.DataFrame(result)"
   ]
  }
 ],
 "metadata": {
  "kernelspec": {
   "display_name": "Python 3",
   "language": "python",
   "name": "python3"
  },
  "language_info": {
   "codemirror_mode": {
    "name": "ipython",
    "version": 3
   },
   "file_extension": ".py",
   "mimetype": "text/x-python",
   "name": "python",
   "nbconvert_exporter": "python",
   "pygments_lexer": "ipython3",
   "version": "3.7.3"
  },
  "varInspector": {
   "cols": {
    "lenName": 16,
    "lenType": 16,
    "lenVar": 40
   },
   "kernels_config": {
    "python": {
     "delete_cmd_postfix": "",
     "delete_cmd_prefix": "del ",
     "library": "var_list.py",
     "varRefreshCmd": "print(var_dic_list())"
    },
    "r": {
     "delete_cmd_postfix": ") ",
     "delete_cmd_prefix": "rm(",
     "library": "var_list.r",
     "varRefreshCmd": "cat(var_dic_list()) "
    }
   },
   "types_to_exclude": [
    "module",
    "function",
    "builtin_function_or_method",
    "instance",
    "_Feature"
   ],
   "window_display": false
  }
 },
 "nbformat": 4,
 "nbformat_minor": 2
}
