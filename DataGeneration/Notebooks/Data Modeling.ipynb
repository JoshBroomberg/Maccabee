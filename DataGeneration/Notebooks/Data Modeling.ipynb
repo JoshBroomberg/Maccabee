{
 "cells": [
  {
   "cell_type": "code",
   "execution_count": 7,
   "metadata": {
    "scrolled": true
   },
   "outputs": [
    {
     "name": "stdout",
     "output_type": "stream",
     "text": [
      "Obtaining file:///home/jovyan/work/CauseML\n",
      "Requirement already satisfied: numpy in /opt/conda/lib/python3.7/site-packages (from cause-ml==0.0.11) (1.17.3)\n",
      "Requirement already satisfied: pandas in /opt/conda/lib/python3.7/site-packages (from cause-ml==0.0.11) (0.25.3)\n",
      "Requirement already satisfied: scipy in /opt/conda/lib/python3.7/site-packages (from cause-ml==0.0.11) (1.3.2)\n",
      "Requirement already satisfied: sympy in /opt/conda/lib/python3.7/site-packages (from cause-ml==0.0.11) (1.4)\n",
      "Requirement already satisfied: POT in /opt/conda/lib/python3.7/site-packages (from cause-ml==0.0.11) (0.6.0)\n",
      "Requirement already satisfied: pyyaml in /opt/conda/lib/python3.7/site-packages (from cause-ml==0.0.11) (5.1.2)\n",
      "Requirement already satisfied: pytz>=2017.2 in /opt/conda/lib/python3.7/site-packages (from pandas->cause-ml==0.0.11) (2019.3)\n",
      "Requirement already satisfied: python-dateutil>=2.6.1 in /opt/conda/lib/python3.7/site-packages (from pandas->cause-ml==0.0.11) (2.8.1)\n",
      "Requirement already satisfied: mpmath>=0.19 in /opt/conda/lib/python3.7/site-packages (from sympy->cause-ml==0.0.11) (1.1.0)\n",
      "Requirement already satisfied: cython in /opt/conda/lib/python3.7/site-packages (from POT->cause-ml==0.0.11) (0.29.14)\n",
      "Requirement already satisfied: six>=1.5 in /opt/conda/lib/python3.7/site-packages (from python-dateutil>=2.6.1->pandas->cause-ml==0.0.11) (1.13.0)\n",
      "Installing collected packages: cause-ml\n",
      "  Found existing installation: cause-ml 0.0.11\n",
      "    Uninstalling cause-ml-0.0.11:\n",
      "      Successfully uninstalled cause-ml-0.0.11\n",
      "  Running setup.py develop for cause-ml\n",
      "Successfully installed cause-ml\n"
     ]
    }
   ],
   "source": [
    "!pip install -e ../CauseML"
   ]
  },
  {
   "cell_type": "code",
   "execution_count": 1,
   "metadata": {},
   "outputs": [],
   "source": [
    "%load_ext autoreload\n",
    "%autoreload 2"
   ]
  },
  {
   "cell_type": "code",
   "execution_count": 79,
   "metadata": {},
   "outputs": [
    {
     "name": "stderr",
     "output_type": "stream",
     "text": [
      "[autoreload of cause_ml.data_generation.data_generating_process failed: Traceback (most recent call last):\n",
      "  File \"/opt/conda/lib/python3.7/site-packages/IPython/extensions/autoreload.py\", line 245, in check\n",
      "    superreload(m, reload, self.old_objects)\n",
      "  File \"/opt/conda/lib/python3.7/site-packages/IPython/extensions/autoreload.py\", line 394, in superreload\n",
      "    module = reload(module)\n",
      "  File \"/opt/conda/lib/python3.7/imp.py\", line 314, in reload\n",
      "    return importlib.reload(module)\n",
      "  File \"/opt/conda/lib/python3.7/importlib/__init__.py\", line 169, in reload\n",
      "    _bootstrap._exec(spec, module)\n",
      "  File \"<frozen importlib._bootstrap>\", line 630, in _exec\n",
      "  File \"<frozen importlib._bootstrap_external>\", line 728, in exec_module\n",
      "  File \"<frozen importlib._bootstrap>\", line 219, in _call_with_frames_removed\n",
      "  File \"/home/jovyan/work/CauseML/cause_ml/data_generation/data_generating_process.py\", line 138, in <module>\n",
      "    class SampledDataGeneratingProcess(DataGeneratingProcess):\n",
      "  File \"/home/jovyan/work/CauseML/cause_ml/data_generation/data_generating_process.py\", line 16, in __init__\n",
      "    f\"{method_obj} is a _generate method without the data_generating_method decorator.\")\n",
      "Exception: <function SampledDataGeneratingProcess._generate_transformed_covariate_data at 0x7f8fae858ea0> is a _generate method without the data_generating_method decorator.\n",
      "]\n"
     ]
    }
   ],
   "source": [
    "from cause_ml.parameters import build_parameters_from_axis_levels\n",
    "from cause_ml.constants import Constants\n",
    "from cause_ml.data_generation import DataGeneratingProcessSampler, DataGeneratingProcess\n",
    "import cause_ml.data_sources as data_sources\n",
    "from cause_ml.modeling.models import LinearRegressionCausalModel\n",
    "from cause_ml.benchmarking import run_sampled_dgp_benchmark, run_concrete_dgp_benchmark"
   ]
  },
  {
   "cell_type": "code",
   "execution_count": 4,
   "metadata": {},
   "outputs": [],
   "source": [
    "import pandas as pd"
   ]
  },
  {
   "cell_type": "markdown",
   "metadata": {},
   "source": [
    "## Model Demo"
   ]
  },
  {
   "cell_type": "code",
   "execution_count": 7,
   "metadata": {},
   "outputs": [],
   "source": [
    "covar_data_source = data_sources.load_random_normal_covariates(n_covars = 10, n_observations=1000)\n",
    "dgp_params = build_parameters_from_axis_levels({\n",
    "    Constants.AxisNames.OUTCOME_NONLINEARITY: Constants.AxisLevels.LOW,\n",
    "    Constants.AxisNames.TREATMENT_NONLINEARITY: Constants.AxisLevels.LOW,\n",
    "})\n",
    "\n",
    "dgp_sampler = DataGeneratingProcessSampler(\n",
    "    parameters=dgp_params, data_source=covar_data_source)\n",
    "\n",
    "dgp = dgp_sampler.sample_dgp()\n",
    "dataset = dgp.generate_dataset()"
   ]
  },
  {
   "cell_type": "code",
   "execution_count": 8,
   "metadata": {},
   "outputs": [
    {
     "data": {
      "text/plain": [
       "-1.2200000000000002"
      ]
     },
     "execution_count": 8,
     "metadata": {},
     "output_type": "execute_result"
    }
   ],
   "source": [
    "dataset.ATE"
   ]
  },
  {
   "cell_type": "code",
   "execution_count": 9,
   "metadata": {},
   "outputs": [
    {
     "data": {
      "text/plain": [
       "-1.245133038486609"
      ]
     },
     "execution_count": 9,
     "metadata": {},
     "output_type": "execute_result"
    }
   ],
   "source": [
    "model = LinearRegressionCausalModel(dataset)\n",
    "model.fit()\n",
    "model.estimate(estimand=Constants.Model.ATE_ESTIMAND)"
   ]
  },
  {
   "cell_type": "markdown",
   "metadata": {},
   "source": [
    "## Benchmarking Demo"
   ]
  },
  {
   "cell_type": "code",
   "execution_count": 11,
   "metadata": {},
   "outputs": [
    {
     "name": "stderr",
     "output_type": "stream",
     "text": [
      "2020-01-20 11:32:53,074\tWARNING services.py:597 -- setpgrp failed, processes may not be cleaned up properly: [Errno 1] Operation not permitted.\n",
      "2020-01-20 11:32:53,111\tINFO resource_spec.py:216 -- Starting Ray with 3.96 GiB memory available for workers and up to 1.99 GiB for objects. You can adjust these settings with ray.init(memory=<bytes>, object_store_memory=<bytes>).\n",
      "2020-01-20 11:32:53,468\tWARNING services.py:1009 -- Failed to start the reporter. The reporter requires 'pip install psutil'.\n"
     ]
    },
    {
     "name": "stdout",
     "output_type": "stream",
     "text": [
      "CPU times: user 430 ms, sys: 300 ms, total: 730 ms\n",
      "Wall time: 7.42 s\n"
     ]
    }
   ],
   "source": [
    "%%time\n",
    "# Sample Benchmark\n",
    "\n",
    "\n",
    "HIGH, MEDIUM, LOW = Constants.AxisLevels.HIGH, Constants.AxisLevels.MEDIUM, Constants.AxisLevels.LOW\n",
    "param_grid = dgp_params = {\n",
    "    Constants.AxisNames.TREATMENT_NONLINEARITY: [MEDIUM, LOW],\n",
    "    Constants.AxisNames.OUTCOME_NONLINEARITY: [LOW]\n",
    "#     Constants.AxisNames.TREATMENT_NONLINEARITY: [HIGH, MEDIUM, LOW],\n",
    "#     Constants.AxisNames.OUTCOME_NONLINEARITY: [HIGH, MEDIUM, LOW]\n",
    "}\n",
    "\n",
    "covar_data_source = data_sources.load_random_normal_covariates(\n",
    "    n_covars=10,\n",
    "    n_observations=500)\n",
    "\n",
    "result = run_sampled_dgp_benchmark(\n",
    "    model_class=LinearRegressionCausalModel,\n",
    "    estimand=Constants.Model.ATE_ESTIMAND,\n",
    "    data_source=covar_data_source,\n",
    "    param_grid=param_grid,\n",
    "    num_dgp_samples=1,\n",
    "    num_data_samples_per_dgp=1,\n",
    "    enable_ray_multiprocessing=True)"
   ]
  },
  {
   "cell_type": "code",
   "execution_count": 12,
   "metadata": {},
   "outputs": [
    {
     "data": {
      "text/html": [
       "<div>\n",
       "<style scoped>\n",
       "    .dataframe tbody tr th:only-of-type {\n",
       "        vertical-align: middle;\n",
       "    }\n",
       "\n",
       "    .dataframe tbody tr th {\n",
       "        vertical-align: top;\n",
       "    }\n",
       "\n",
       "    .dataframe thead th {\n",
       "        text-align: right;\n",
       "    }\n",
       "</style>\n",
       "<table border=\"1\" class=\"dataframe\">\n",
       "  <thead>\n",
       "    <tr style=\"text-align: right;\">\n",
       "      <th></th>\n",
       "      <th>param_outcome_nonlinearity</th>\n",
       "      <th>param_treatment_nonlinearity</th>\n",
       "      <th>absolute mean bias</th>\n",
       "      <th>root mean squared error</th>\n",
       "    </tr>\n",
       "  </thead>\n",
       "  <tbody>\n",
       "    <tr>\n",
       "      <th>0</th>\n",
       "      <td>LOW</td>\n",
       "      <td>MEDIUM</td>\n",
       "      <td>0.079315</td>\n",
       "      <td>0.079315</td>\n",
       "    </tr>\n",
       "    <tr>\n",
       "      <th>1</th>\n",
       "      <td>LOW</td>\n",
       "      <td>LOW</td>\n",
       "      <td>0.056143</td>\n",
       "      <td>0.056143</td>\n",
       "    </tr>\n",
       "  </tbody>\n",
       "</table>\n",
       "</div>"
      ],
      "text/plain": [
       "  param_outcome_nonlinearity param_treatment_nonlinearity  absolute mean bias  \\\n",
       "0                        LOW                       MEDIUM            0.079315   \n",
       "1                        LOW                          LOW            0.056143   \n",
       "\n",
       "   root mean squared error  \n",
       "0                 0.079315  \n",
       "1                 0.056143  "
      ]
     },
     "execution_count": 12,
     "metadata": {},
     "output_type": "execute_result"
    }
   ],
   "source": [
    "pd.DataFrame(result)"
   ]
  },
  {
   "cell_type": "code",
   "execution_count": 13,
   "metadata": {},
   "outputs": [],
   "source": [
    "# Concrete Benchmark\n",
    "\n",
    "covar_data_source = data_sources.load_random_normal_covariates(n_covars = 10, n_observations=1000)\n",
    "dgp_params = build_parameters_from_axis_levels({\n",
    "    Constants.AxisNames.OUTCOME_NONLINEARITY: Constants.AxisLevels.LOW,\n",
    "    Constants.AxisNames.TREATMENT_NONLINEARITY: Constants.AxisLevels.LOW,\n",
    "})\n",
    "\n",
    "dgp_sampler = DataGeneratingProcessSampler(\n",
    "    parameters=dgp_params, data_source=covar_data_source)\n",
    "\n",
    "dgp = dgp_sampler.sample_dgp()\n",
    "dataset = dgp.generate_dataset()\n",
    "\n",
    "result = run_concrete_dgp_benchmark(\n",
    "    dgp=dgp,\n",
    "    model_class=LinearRegressionCausalModel,\n",
    "    estimand=Constants.Model.ATE_ESTIMAND,\n",
    "    num_samples_from_dgp=1,\n",
    "    enable_ray_multiprocessing=True)"
   ]
  },
  {
   "cell_type": "code",
   "execution_count": 14,
   "metadata": {},
   "outputs": [
    {
     "data": {
      "text/plain": [
       "{'absolute mean bias': 0.014085615675211383,\n",
       " 'root mean squared error': 0.014085615675211383}"
      ]
     },
     "execution_count": 14,
     "metadata": {},
     "output_type": "execute_result"
    }
   ],
   "source": [
    "result"
   ]
  },
  {
   "cell_type": "markdown",
   "metadata": {},
   "source": [
    "## Sandbox DGP"
   ]
  },
  {
   "cell_type": "code",
   "execution_count": 74,
   "metadata": {},
   "outputs": [
    {
     "data": {
      "text/plain": [
       "<cause_ml.data_generation.data_generating_process.DataGeneratingProcess at 0x7f8fae8c93c8>"
      ]
     },
     "execution_count": 74,
     "metadata": {},
     "output_type": "execute_result"
    }
   ],
   "source": [
    "DataGeneratingProcess()"
   ]
  },
  {
   "cell_type": "code",
   "execution_count": 70,
   "metadata": {},
   "outputs": [
    {
     "name": "stdout",
     "output_type": "stream",
     "text": [
      "<class '__main__.ConcreteDGP'> ConcreteDGP (<class '__main__.DataGeneratingProcess'>,) {'__module__': '__main__', '__qualname__': 'ConcreteDGP', 'TEST': [1, 2, 3, 4, 2, 3, 4, 2, 3, 4, 2, 3], '_generate_observed_covars': <__main__.DGPGeneratorMethodWrapper object at 0x7f8fae8d50f0>}\n"
     ]
    }
   ],
   "source": [
    "class ConcreteDGP(DataGeneratingProcess):\n",
    "    TEST = DataGeneratingProcess.TEST + [4, 2, 3]\n",
    "    @dgp_method(Constants.COVARIATES_NAME, [])\n",
    "    def _generate_observed_covars(self, input_vars):\n",
    "        return 3"
   ]
  },
  {
   "cell_type": "code",
   "execution_count": 57,
   "metadata": {},
   "outputs": [
    {
     "data": {
      "text/plain": [
       "3"
      ]
     },
     "execution_count": 57,
     "metadata": {},
     "output_type": "execute_result"
    }
   ],
   "source": [
    "dgp = ConcreteDGP()\n",
    "dgp._generate_observed_covars()"
   ]
  }
 ],
 "metadata": {
  "kernelspec": {
   "display_name": "Python 3",
   "language": "python",
   "name": "python3"
  },
  "language_info": {
   "codemirror_mode": {
    "name": "ipython",
    "version": 3
   },
   "file_extension": ".py",
   "mimetype": "text/x-python",
   "name": "python",
   "nbconvert_exporter": "python",
   "pygments_lexer": "ipython3",
   "version": "3.7.3"
  },
  "varInspector": {
   "cols": {
    "lenName": 16,
    "lenType": 16,
    "lenVar": 40
   },
   "kernels_config": {
    "python": {
     "delete_cmd_postfix": "",
     "delete_cmd_prefix": "del ",
     "library": "var_list.py",
     "varRefreshCmd": "print(var_dic_list())"
    },
    "r": {
     "delete_cmd_postfix": ") ",
     "delete_cmd_prefix": "rm(",
     "library": "var_list.r",
     "varRefreshCmd": "cat(var_dic_list()) "
    }
   },
   "types_to_exclude": [
    "module",
    "function",
    "builtin_function_or_method",
    "instance",
    "_Feature"
   ],
   "window_display": false
  }
 },
 "nbformat": 4,
 "nbformat_minor": 2
}
