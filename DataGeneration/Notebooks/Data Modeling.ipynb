{
 "cells": [
  {
   "cell_type": "code",
   "execution_count": 1,
   "metadata": {
    "scrolled": true
   },
   "outputs": [
    {
     "name": "stdout",
     "output_type": "stream",
     "text": [
      "Obtaining file:///home/jovyan/work/CauseML\n",
      "Requirement already satisfied: numpy in /opt/conda/lib/python3.7/site-packages (from cause-ml==0.0.11) (1.17.3)\n",
      "Requirement already satisfied: pandas in /opt/conda/lib/python3.7/site-packages (from cause-ml==0.0.11) (0.25.3)\n",
      "Requirement already satisfied: scipy in /opt/conda/lib/python3.7/site-packages (from cause-ml==0.0.11) (1.3.2)\n",
      "Requirement already satisfied: sympy in /opt/conda/lib/python3.7/site-packages (from cause-ml==0.0.11) (1.4)\n",
      "Requirement already satisfied: POT in /opt/conda/lib/python3.7/site-packages (from cause-ml==0.0.11) (0.6.0)\n",
      "Requirement already satisfied: pyyaml in /opt/conda/lib/python3.7/site-packages (from cause-ml==0.0.11) (5.1.2)\n",
      "Requirement already satisfied: pytz>=2017.2 in /opt/conda/lib/python3.7/site-packages (from pandas->cause-ml==0.0.11) (2019.3)\n",
      "Requirement already satisfied: python-dateutil>=2.6.1 in /opt/conda/lib/python3.7/site-packages (from pandas->cause-ml==0.0.11) (2.8.1)\n",
      "Requirement already satisfied: mpmath>=0.19 in /opt/conda/lib/python3.7/site-packages (from sympy->cause-ml==0.0.11) (1.1.0)\n",
      "Requirement already satisfied: cython in /opt/conda/lib/python3.7/site-packages (from POT->cause-ml==0.0.11) (0.29.14)\n",
      "Requirement already satisfied: six>=1.5 in /opt/conda/lib/python3.7/site-packages (from python-dateutil>=2.6.1->pandas->cause-ml==0.0.11) (1.13.0)\n",
      "Installing collected packages: cause-ml\n",
      "  Found existing installation: cause-ml 0.0.11\n",
      "    Uninstalling cause-ml-0.0.11:\n",
      "      Successfully uninstalled cause-ml-0.0.11\n",
      "  Running setup.py develop for cause-ml\n",
      "Successfully installed cause-ml\n"
     ]
    }
   ],
   "source": [
    "!pip install -e ../CauseML"
   ]
  },
  {
   "cell_type": "code",
   "execution_count": 1,
   "metadata": {},
   "outputs": [],
   "source": [
    "%load_ext autoreload\n",
    "%autoreload 2"
   ]
  },
  {
   "cell_type": "code",
   "execution_count": 8,
   "metadata": {},
   "outputs": [],
   "source": [
    "from cause_ml.parameters import build_parameters_from_axis_levels\n",
    "from cause_ml.constants import Constants\n",
    "from cause_ml.data_generation import DataGeneratingProcessSampler, DataGeneratingProcess\n",
    "import cause_ml.data_sources as data_sources\n",
    "from cause_ml.modeling.models import LinearRegressionCausalModel\n",
    "from cause_ml.benchmarking import run_sampled_dgp_benchmark, run_concrete_dgp_benchmark"
   ]
  },
  {
   "cell_type": "code",
   "execution_count": 3,
   "metadata": {},
   "outputs": [],
   "source": [
    "import pandas as pd"
   ]
  },
  {
   "cell_type": "markdown",
   "metadata": {},
   "source": [
    "## Model Demo"
   ]
  },
  {
   "cell_type": "code",
   "execution_count": 9,
   "metadata": {},
   "outputs": [
    {
     "ename": "AttributeError",
     "evalue": "'NoneType' object has no attribute '_generated_data'",
     "output_type": "error",
     "traceback": [
      "\u001b[0;31m---------------------------------------------------------------------------\u001b[0m",
      "\u001b[0;31mAttributeError\u001b[0m                            Traceback (most recent call last)",
      "\u001b[0;32m<ipython-input-9-7fb246df0748>\u001b[0m in \u001b[0;36m<module>\u001b[0;34m\u001b[0m\n\u001b[1;32m      9\u001b[0m \u001b[0;34m\u001b[0m\u001b[0m\n\u001b[1;32m     10\u001b[0m \u001b[0mdgp\u001b[0m \u001b[0;34m=\u001b[0m \u001b[0mdgp_sampler\u001b[0m\u001b[0;34m.\u001b[0m\u001b[0msample_dgp\u001b[0m\u001b[0;34m(\u001b[0m\u001b[0;34m)\u001b[0m\u001b[0;34m\u001b[0m\u001b[0;34m\u001b[0m\u001b[0m\n\u001b[0;32m---> 11\u001b[0;31m \u001b[0mdataset\u001b[0m \u001b[0;34m=\u001b[0m \u001b[0mdgp\u001b[0m\u001b[0;34m.\u001b[0m\u001b[0mgenerate_dataset\u001b[0m\u001b[0;34m(\u001b[0m\u001b[0;34m)\u001b[0m\u001b[0;34m\u001b[0m\u001b[0;34m\u001b[0m\u001b[0m\n\u001b[0m",
      "\u001b[0;32m~/work/CauseML/cause_ml/data_generation/data_generating_process.py\u001b[0m in \u001b[0;36mgenerate_dataset\u001b[0;34m(self)\u001b[0m\n\u001b[1;32m     84\u001b[0m     \u001b[0;32mdef\u001b[0m \u001b[0mgenerate_dataset\u001b[0m\u001b[0;34m(\u001b[0m\u001b[0mself\u001b[0m\u001b[0;34m)\u001b[0m\u001b[0;34m:\u001b[0m\u001b[0;34m\u001b[0m\u001b[0;34m\u001b[0m\u001b[0m\n\u001b[1;32m     85\u001b[0m         \u001b[0;31m# Covars\u001b[0m\u001b[0;34m\u001b[0m\u001b[0;34m\u001b[0m\u001b[0;34m\u001b[0m\u001b[0m\n\u001b[0;32m---> 86\u001b[0;31m         \u001b[0mself\u001b[0m\u001b[0;34m.\u001b[0m\u001b[0m_generate_observed_covars\u001b[0m\u001b[0;34m(\u001b[0m\u001b[0;34m)\u001b[0m\u001b[0;34m\u001b[0m\u001b[0;34m\u001b[0m\u001b[0m\n\u001b[0m\u001b[1;32m     87\u001b[0m         \u001b[0mself\u001b[0m\u001b[0;34m.\u001b[0m\u001b[0m_generate_transformed_covars\u001b[0m\u001b[0;34m(\u001b[0m\u001b[0;34m)\u001b[0m\u001b[0;34m\u001b[0m\u001b[0;34m\u001b[0m\u001b[0m\n\u001b[1;32m     88\u001b[0m \u001b[0;34m\u001b[0m\u001b[0m\n",
      "\u001b[0;32m~/work/CauseML/cause_ml/data_generation/data_generating_process.py\u001b[0m in \u001b[0;36m__call__\u001b[0;34m(self, *args, **kwargs)\u001b[0m\n\u001b[1;32m     34\u001b[0m     \u001b[0;32mdef\u001b[0m \u001b[0m__call__\u001b[0m\u001b[0;34m(\u001b[0m\u001b[0mself\u001b[0m\u001b[0;34m,\u001b[0m \u001b[0;34m*\u001b[0m\u001b[0margs\u001b[0m\u001b[0;34m,\u001b[0m \u001b[0;34m**\u001b[0m\u001b[0mkwargs\u001b[0m\u001b[0;34m)\u001b[0m\u001b[0;34m:\u001b[0m\u001b[0;34m\u001b[0m\u001b[0;34m\u001b[0m\u001b[0m\n\u001b[1;32m     35\u001b[0m         \u001b[0mdgp\u001b[0m \u001b[0;34m=\u001b[0m \u001b[0margs\u001b[0m\u001b[0;34m[\u001b[0m\u001b[0;36m0\u001b[0m\u001b[0;34m]\u001b[0m\u001b[0;34m\u001b[0m\u001b[0;34m\u001b[0m\u001b[0m\n\u001b[0;32m---> 36\u001b[0;31m         \u001b[0mdata_dict\u001b[0m \u001b[0;34m=\u001b[0m \u001b[0mgetattr\u001b[0m\u001b[0;34m(\u001b[0m\u001b[0mdgp\u001b[0m\u001b[0;34m,\u001b[0m \u001b[0mGENERATED_DATA_DICT_NAME\u001b[0m\u001b[0;34m)\u001b[0m\u001b[0;34m\u001b[0m\u001b[0;34m\u001b[0m\u001b[0m\n\u001b[0m\u001b[1;32m     37\u001b[0m \u001b[0;34m\u001b[0m\u001b[0m\n\u001b[1;32m     38\u001b[0m         \u001b[0;32mif\u001b[0m \u001b[0mself\u001b[0m\u001b[0;34m.\u001b[0m\u001b[0mcache_result\u001b[0m \u001b[0;32mand\u001b[0m \u001b[0;34m(\u001b[0m\u001b[0mself\u001b[0m\u001b[0;34m.\u001b[0m\u001b[0mgenerated_var\u001b[0m \u001b[0;32min\u001b[0m \u001b[0mdata_dict\u001b[0m\u001b[0;34m)\u001b[0m\u001b[0;34m:\u001b[0m\u001b[0;34m\u001b[0m\u001b[0;34m\u001b[0m\u001b[0m\n",
      "\u001b[0;31mAttributeError\u001b[0m: 'NoneType' object has no attribute '_generated_data'"
     ]
    }
   ],
   "source": [
    "covar_data_source = data_sources.load_random_normal_covariates(n_covars = 10, n_observations=2000)\n",
    "dgp_params = build_parameters_from_axis_levels({\n",
    "    Constants.AxisNames.OUTCOME_NONLINEARITY: Constants.AxisLevels.LOW,\n",
    "    Constants.AxisNames.TREATMENT_NONLINEARITY: Constants.AxisLevels.LOW,\n",
    "})\n",
    "\n",
    "dgp_sampler = DataGeneratingProcessSampler(\n",
    "    parameters=dgp_params, data_source=covar_data_source)\n",
    "\n",
    "dgp = dgp_sampler.sample_dgp()\n",
    "dataset = dgp.generate_dataset()"
   ]
  },
  {
   "cell_type": "code",
   "execution_count": 6,
   "metadata": {},
   "outputs": [
    {
     "data": {
      "text/html": [
       "<div>\n",
       "<style scoped>\n",
       "    .dataframe tbody tr th:only-of-type {\n",
       "        vertical-align: middle;\n",
       "    }\n",
       "\n",
       "    .dataframe tbody tr th {\n",
       "        vertical-align: top;\n",
       "    }\n",
       "\n",
       "    .dataframe thead th {\n",
       "        text-align: right;\n",
       "    }\n",
       "</style>\n",
       "<table border=\"1\" class=\"dataframe\">\n",
       "  <thead>\n",
       "    <tr style=\"text-align: right;\">\n",
       "      <th></th>\n",
       "      <th>X0</th>\n",
       "      <th>X1</th>\n",
       "      <th>X2</th>\n",
       "      <th>X3</th>\n",
       "      <th>X4</th>\n",
       "      <th>X5</th>\n",
       "      <th>X6</th>\n",
       "      <th>X7</th>\n",
       "      <th>X8</th>\n",
       "      <th>X9</th>\n",
       "      <th>T</th>\n",
       "      <th>Y</th>\n",
       "    </tr>\n",
       "  </thead>\n",
       "  <tbody>\n",
       "    <tr>\n",
       "      <th>1436</th>\n",
       "      <td>-0.133430</td>\n",
       "      <td>0.312300</td>\n",
       "      <td>0.064449</td>\n",
       "      <td>-0.428943</td>\n",
       "      <td>-0.049579</td>\n",
       "      <td>0.154230</td>\n",
       "      <td>-0.020638</td>\n",
       "      <td>0.232540</td>\n",
       "      <td>0.028152</td>\n",
       "      <td>0.288982</td>\n",
       "      <td>0</td>\n",
       "      <td>-0.661855</td>\n",
       "    </tr>\n",
       "    <tr>\n",
       "      <th>512</th>\n",
       "      <td>-0.265310</td>\n",
       "      <td>0.107664</td>\n",
       "      <td>-0.216597</td>\n",
       "      <td>-0.274784</td>\n",
       "      <td>0.537381</td>\n",
       "      <td>0.207100</td>\n",
       "      <td>-0.179762</td>\n",
       "      <td>0.375493</td>\n",
       "      <td>-0.280309</td>\n",
       "      <td>-0.076720</td>\n",
       "      <td>0</td>\n",
       "      <td>1.923871</td>\n",
       "    </tr>\n",
       "    <tr>\n",
       "      <th>1586</th>\n",
       "      <td>0.096998</td>\n",
       "      <td>0.406151</td>\n",
       "      <td>-0.064930</td>\n",
       "      <td>0.293781</td>\n",
       "      <td>0.161240</td>\n",
       "      <td>-0.325511</td>\n",
       "      <td>-0.438070</td>\n",
       "      <td>0.335768</td>\n",
       "      <td>-0.335649</td>\n",
       "      <td>0.000397</td>\n",
       "      <td>1</td>\n",
       "      <td>1.259728</td>\n",
       "    </tr>\n",
       "    <tr>\n",
       "      <th>765</th>\n",
       "      <td>0.024792</td>\n",
       "      <td>0.309959</td>\n",
       "      <td>0.066594</td>\n",
       "      <td>-0.021045</td>\n",
       "      <td>0.247439</td>\n",
       "      <td>-0.101765</td>\n",
       "      <td>-0.227208</td>\n",
       "      <td>0.111930</td>\n",
       "      <td>0.096067</td>\n",
       "      <td>0.179526</td>\n",
       "      <td>0</td>\n",
       "      <td>-0.557728</td>\n",
       "    </tr>\n",
       "    <tr>\n",
       "      <th>849</th>\n",
       "      <td>0.002324</td>\n",
       "      <td>0.113300</td>\n",
       "      <td>0.142672</td>\n",
       "      <td>0.148820</td>\n",
       "      <td>0.313056</td>\n",
       "      <td>0.333502</td>\n",
       "      <td>-0.182936</td>\n",
       "      <td>0.557433</td>\n",
       "      <td>-0.420675</td>\n",
       "      <td>0.199617</td>\n",
       "      <td>1</td>\n",
       "      <td>1.415550</td>\n",
       "    </tr>\n",
       "    <tr>\n",
       "      <th>...</th>\n",
       "      <td>...</td>\n",
       "      <td>...</td>\n",
       "      <td>...</td>\n",
       "      <td>...</td>\n",
       "      <td>...</td>\n",
       "      <td>...</td>\n",
       "      <td>...</td>\n",
       "      <td>...</td>\n",
       "      <td>...</td>\n",
       "      <td>...</td>\n",
       "      <td>...</td>\n",
       "      <td>...</td>\n",
       "    </tr>\n",
       "    <tr>\n",
       "      <th>405</th>\n",
       "      <td>0.329482</td>\n",
       "      <td>-0.254272</td>\n",
       "      <td>-0.108463</td>\n",
       "      <td>0.149866</td>\n",
       "      <td>-0.501884</td>\n",
       "      <td>-0.207926</td>\n",
       "      <td>0.108103</td>\n",
       "      <td>-0.340175</td>\n",
       "      <td>0.068467</td>\n",
       "      <td>-0.180080</td>\n",
       "      <td>1</td>\n",
       "      <td>0.773322</td>\n",
       "    </tr>\n",
       "    <tr>\n",
       "      <th>638</th>\n",
       "      <td>0.076888</td>\n",
       "      <td>-0.035820</td>\n",
       "      <td>0.511463</td>\n",
       "      <td>-0.355263</td>\n",
       "      <td>0.560716</td>\n",
       "      <td>0.487174</td>\n",
       "      <td>-0.376144</td>\n",
       "      <td>0.259740</td>\n",
       "      <td>-0.379125</td>\n",
       "      <td>0.193632</td>\n",
       "      <td>0</td>\n",
       "      <td>-0.958696</td>\n",
       "    </tr>\n",
       "    <tr>\n",
       "      <th>954</th>\n",
       "      <td>-0.012756</td>\n",
       "      <td>-0.310287</td>\n",
       "      <td>0.277102</td>\n",
       "      <td>0.441400</td>\n",
       "      <td>0.233678</td>\n",
       "      <td>0.230396</td>\n",
       "      <td>-0.125061</td>\n",
       "      <td>-0.317551</td>\n",
       "      <td>-0.130323</td>\n",
       "      <td>0.466648</td>\n",
       "      <td>1</td>\n",
       "      <td>0.018679</td>\n",
       "    </tr>\n",
       "    <tr>\n",
       "      <th>1359</th>\n",
       "      <td>0.579912</td>\n",
       "      <td>-0.579258</td>\n",
       "      <td>0.915461</td>\n",
       "      <td>0.218281</td>\n",
       "      <td>0.225897</td>\n",
       "      <td>0.229701</td>\n",
       "      <td>-0.609679</td>\n",
       "      <td>-0.338018</td>\n",
       "      <td>-0.435324</td>\n",
       "      <td>0.499625</td>\n",
       "      <td>0</td>\n",
       "      <td>-2.335373</td>\n",
       "    </tr>\n",
       "    <tr>\n",
       "      <th>340</th>\n",
       "      <td>-0.491470</td>\n",
       "      <td>0.179547</td>\n",
       "      <td>-0.664934</td>\n",
       "      <td>0.223159</td>\n",
       "      <td>0.060797</td>\n",
       "      <td>0.037195</td>\n",
       "      <td>-0.042056</td>\n",
       "      <td>0.050179</td>\n",
       "      <td>0.133618</td>\n",
       "      <td>0.198089</td>\n",
       "      <td>0</td>\n",
       "      <td>1.680933</td>\n",
       "    </tr>\n",
       "  </tbody>\n",
       "</table>\n",
       "<p>2000 rows × 12 columns</p>\n",
       "</div>"
      ],
      "text/plain": [
       "            X0        X1        X2        X3        X4        X5        X6  \\\n",
       "1436 -0.133430  0.312300  0.064449 -0.428943 -0.049579  0.154230 -0.020638   \n",
       "512  -0.265310  0.107664 -0.216597 -0.274784  0.537381  0.207100 -0.179762   \n",
       "1586  0.096998  0.406151 -0.064930  0.293781  0.161240 -0.325511 -0.438070   \n",
       "765   0.024792  0.309959  0.066594 -0.021045  0.247439 -0.101765 -0.227208   \n",
       "849   0.002324  0.113300  0.142672  0.148820  0.313056  0.333502 -0.182936   \n",
       "...        ...       ...       ...       ...       ...       ...       ...   \n",
       "405   0.329482 -0.254272 -0.108463  0.149866 -0.501884 -0.207926  0.108103   \n",
       "638   0.076888 -0.035820  0.511463 -0.355263  0.560716  0.487174 -0.376144   \n",
       "954  -0.012756 -0.310287  0.277102  0.441400  0.233678  0.230396 -0.125061   \n",
       "1359  0.579912 -0.579258  0.915461  0.218281  0.225897  0.229701 -0.609679   \n",
       "340  -0.491470  0.179547 -0.664934  0.223159  0.060797  0.037195 -0.042056   \n",
       "\n",
       "            X7        X8        X9  T         Y  \n",
       "1436  0.232540  0.028152  0.288982  0 -0.661855  \n",
       "512   0.375493 -0.280309 -0.076720  0  1.923871  \n",
       "1586  0.335768 -0.335649  0.000397  1  1.259728  \n",
       "765   0.111930  0.096067  0.179526  0 -0.557728  \n",
       "849   0.557433 -0.420675  0.199617  1  1.415550  \n",
       "...        ...       ...       ... ..       ...  \n",
       "405  -0.340175  0.068467 -0.180080  1  0.773322  \n",
       "638   0.259740 -0.379125  0.193632  0 -0.958696  \n",
       "954  -0.317551 -0.130323  0.466648  1  0.018679  \n",
       "1359 -0.338018 -0.435324  0.499625  0 -2.335373  \n",
       "340   0.050179  0.133618  0.198089  0  1.680933  \n",
       "\n",
       "[2000 rows x 12 columns]"
      ]
     },
     "execution_count": 6,
     "metadata": {},
     "output_type": "execute_result"
    }
   ],
   "source": [
    "dataset.observed_data"
   ]
  },
  {
   "cell_type": "code",
   "execution_count": 81,
   "metadata": {},
   "outputs": [
    {
     "data": {
      "text/plain": [
       "-1.9600000000000004"
      ]
     },
     "execution_count": 81,
     "metadata": {},
     "output_type": "execute_result"
    }
   ],
   "source": [
    "dataset.ATE"
   ]
  },
  {
   "cell_type": "code",
   "execution_count": 82,
   "metadata": {},
   "outputs": [
    {
     "data": {
      "text/plain": [
       "-1.6436335485712636"
      ]
     },
     "execution_count": 82,
     "metadata": {},
     "output_type": "execute_result"
    }
   ],
   "source": [
    "model = LinearRegressionCausalModel(dataset)\n",
    "model.fit()\n",
    "model.estimate(estimand=Constants.Model.ATE_ESTIMAND)"
   ]
  },
  {
   "cell_type": "markdown",
   "metadata": {},
   "source": [
    "## Benchmarking Demo"
   ]
  },
  {
   "cell_type": "code",
   "execution_count": 85,
   "metadata": {},
   "outputs": [
    {
     "name": "stdout",
     "output_type": "stream",
     "text": [
      "CPU times: user 8.96 s, sys: 6.48 s, total: 15.4 s\n",
      "Wall time: 2min 50s\n"
     ]
    }
   ],
   "source": [
    "%%time\n",
    "# Sample Benchmark\n",
    "\n",
    "\n",
    "HIGH, MEDIUM, LOW = Constants.AxisLevels.HIGH, Constants.AxisLevels.MEDIUM, Constants.AxisLevels.LOW\n",
    "param_grid = dgp_params = {\n",
    "#     Constants.AxisNames.TREATMENT_NONLINEARITY: [MEDIUM, LOW],\n",
    "#     Constants.AxisNames.OUTCOME_NONLINEARITY: [LOW]\n",
    "    Constants.AxisNames.TREATMENT_NONLINEARITY: [HIGH, MEDIUM, LOW],\n",
    "    Constants.AxisNames.OUTCOME_NONLINEARITY: [HIGH, MEDIUM, LOW]\n",
    "}\n",
    "\n",
    "covar_data_source = data_sources.load_random_normal_covariates(\n",
    "    n_covars=7,\n",
    "    n_observations=250)\n",
    "\n",
    "result = run_sampled_dgp_benchmark(\n",
    "    model_class=LinearRegressionCausalModel,\n",
    "    estimand=Constants.Model.ATE_ESTIMAND,\n",
    "    data_source=covar_data_source,\n",
    "    param_grid=param_grid,\n",
    "    num_dgp_samples=5,\n",
    "    num_data_samples_per_dgp=25,\n",
    "    enable_ray_multiprocessing=True)"
   ]
  },
  {
   "cell_type": "code",
   "execution_count": 86,
   "metadata": {},
   "outputs": [
    {
     "data": {
      "text/html": [
       "<div>\n",
       "<style scoped>\n",
       "    .dataframe tbody tr th:only-of-type {\n",
       "        vertical-align: middle;\n",
       "    }\n",
       "\n",
       "    .dataframe tbody tr th {\n",
       "        vertical-align: top;\n",
       "    }\n",
       "\n",
       "    .dataframe thead th {\n",
       "        text-align: right;\n",
       "    }\n",
       "</style>\n",
       "<table border=\"1\" class=\"dataframe\">\n",
       "  <thead>\n",
       "    <tr style=\"text-align: right;\">\n",
       "      <th></th>\n",
       "      <th>param_outcome_nonlinearity</th>\n",
       "      <th>param_treatment_nonlinearity</th>\n",
       "      <th>absolute mean bias</th>\n",
       "      <th>root mean squared error</th>\n",
       "    </tr>\n",
       "  </thead>\n",
       "  <tbody>\n",
       "    <tr>\n",
       "      <th>0</th>\n",
       "      <td>HIGH</td>\n",
       "      <td>HIGH</td>\n",
       "      <td>0.337211</td>\n",
       "      <td>0.361943</td>\n",
       "    </tr>\n",
       "    <tr>\n",
       "      <th>1</th>\n",
       "      <td>HIGH</td>\n",
       "      <td>MEDIUM</td>\n",
       "      <td>0.327949</td>\n",
       "      <td>0.396993</td>\n",
       "    </tr>\n",
       "    <tr>\n",
       "      <th>2</th>\n",
       "      <td>HIGH</td>\n",
       "      <td>LOW</td>\n",
       "      <td>0.135947</td>\n",
       "      <td>0.232954</td>\n",
       "    </tr>\n",
       "    <tr>\n",
       "      <th>3</th>\n",
       "      <td>MEDIUM</td>\n",
       "      <td>HIGH</td>\n",
       "      <td>0.186938</td>\n",
       "      <td>0.231396</td>\n",
       "    </tr>\n",
       "    <tr>\n",
       "      <th>4</th>\n",
       "      <td>MEDIUM</td>\n",
       "      <td>MEDIUM</td>\n",
       "      <td>0.177274</td>\n",
       "      <td>0.224901</td>\n",
       "    </tr>\n",
       "    <tr>\n",
       "      <th>5</th>\n",
       "      <td>MEDIUM</td>\n",
       "      <td>LOW</td>\n",
       "      <td>0.064819</td>\n",
       "      <td>0.125216</td>\n",
       "    </tr>\n",
       "    <tr>\n",
       "      <th>6</th>\n",
       "      <td>LOW</td>\n",
       "      <td>HIGH</td>\n",
       "      <td>0.227031</td>\n",
       "      <td>0.284352</td>\n",
       "    </tr>\n",
       "    <tr>\n",
       "      <th>7</th>\n",
       "      <td>LOW</td>\n",
       "      <td>MEDIUM</td>\n",
       "      <td>0.070123</td>\n",
       "      <td>0.126957</td>\n",
       "    </tr>\n",
       "    <tr>\n",
       "      <th>8</th>\n",
       "      <td>LOW</td>\n",
       "      <td>LOW</td>\n",
       "      <td>0.001396</td>\n",
       "      <td>0.052522</td>\n",
       "    </tr>\n",
       "  </tbody>\n",
       "</table>\n",
       "</div>"
      ],
      "text/plain": [
       "  param_outcome_nonlinearity param_treatment_nonlinearity  absolute mean bias  \\\n",
       "0                       HIGH                         HIGH            0.337211   \n",
       "1                       HIGH                       MEDIUM            0.327949   \n",
       "2                       HIGH                          LOW            0.135947   \n",
       "3                     MEDIUM                         HIGH            0.186938   \n",
       "4                     MEDIUM                       MEDIUM            0.177274   \n",
       "5                     MEDIUM                          LOW            0.064819   \n",
       "6                        LOW                         HIGH            0.227031   \n",
       "7                        LOW                       MEDIUM            0.070123   \n",
       "8                        LOW                          LOW            0.001396   \n",
       "\n",
       "   root mean squared error  \n",
       "0                 0.361943  \n",
       "1                 0.396993  \n",
       "2                 0.232954  \n",
       "3                 0.231396  \n",
       "4                 0.224901  \n",
       "5                 0.125216  \n",
       "6                 0.284352  \n",
       "7                 0.126957  \n",
       "8                 0.052522  "
      ]
     },
     "execution_count": 86,
     "metadata": {},
     "output_type": "execute_result"
    }
   ],
   "source": [
    "pd.DataFrame(result)"
   ]
  },
  {
   "cell_type": "code",
   "execution_count": null,
   "metadata": {},
   "outputs": [],
   "source": [
    "# Concrete Benchmark\n",
    "\n",
    "covar_data_source = data_sources.load_random_normal_covariates(n_covars = 10, n_observations=1000)\n",
    "dgp_params = build_parameters_from_axis_levels({\n",
    "    Constants.AxisNames.OUTCOME_NONLINEARITY: Constants.AxisLevels.LOW,\n",
    "    Constants.AxisNames.TREATMENT_NONLINEARITY: Constants.AxisLevels.LOW,\n",
    "})\n",
    "\n",
    "dgp_sampler = DataGeneratingProcessSampler(\n",
    "    parameters=dgp_params, data_source=covar_data_source)\n",
    "\n",
    "dgp = dgp_sampler.sample_dgp()\n",
    "dataset = dgp.generate_dataset()\n",
    "\n",
    "result = run_concrete_dgp_benchmark(\n",
    "    dgp=dgp,\n",
    "    model_class=LinearRegressionCausalModel,\n",
    "    estimand=Constants.Model.ATE_ESTIMAND,\n",
    "    num_samples_from_dgp=1,\n",
    "    enable_ray_multiprocessing=True)"
   ]
  },
  {
   "cell_type": "code",
   "execution_count": null,
   "metadata": {},
   "outputs": [],
   "source": [
    "result"
   ]
  }
 ],
 "metadata": {
  "kernelspec": {
   "display_name": "Python 3",
   "language": "python",
   "name": "python3"
  },
  "language_info": {
   "codemirror_mode": {
    "name": "ipython",
    "version": 3
   },
   "file_extension": ".py",
   "mimetype": "text/x-python",
   "name": "python",
   "nbconvert_exporter": "python",
   "pygments_lexer": "ipython3",
   "version": "3.7.3"
  },
  "varInspector": {
   "cols": {
    "lenName": 16,
    "lenType": 16,
    "lenVar": 40
   },
   "kernels_config": {
    "python": {
     "delete_cmd_postfix": "",
     "delete_cmd_prefix": "del ",
     "library": "var_list.py",
     "varRefreshCmd": "print(var_dic_list())"
    },
    "r": {
     "delete_cmd_postfix": ") ",
     "delete_cmd_prefix": "rm(",
     "library": "var_list.r",
     "varRefreshCmd": "cat(var_dic_list()) "
    }
   },
   "types_to_exclude": [
    "module",
    "function",
    "builtin_function_or_method",
    "instance",
    "_Feature"
   ],
   "window_display": false
  }
 },
 "nbformat": 4,
 "nbformat_minor": 2
}
