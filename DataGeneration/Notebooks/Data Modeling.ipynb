{
 "cells": [
  {
   "cell_type": "code",
   "execution_count": 14,
   "metadata": {
    "scrolled": true
   },
   "outputs": [
    {
     "name": "stdout",
     "output_type": "stream",
     "text": [
      "Obtaining file:///home/jovyan/work/CauseML\n",
      "Requirement already satisfied: numpy in /opt/conda/lib/python3.7/site-packages (from cause-ml==0.0.11) (1.17.3)\n",
      "Requirement already satisfied: pandas in /opt/conda/lib/python3.7/site-packages (from cause-ml==0.0.11) (0.25.3)\n",
      "Requirement already satisfied: scipy in /opt/conda/lib/python3.7/site-packages (from cause-ml==0.0.11) (1.3.2)\n",
      "Requirement already satisfied: sympy in /opt/conda/lib/python3.7/site-packages (from cause-ml==0.0.11) (1.4)\n",
      "Requirement already satisfied: POT in /opt/conda/lib/python3.7/site-packages (from cause-ml==0.0.11) (0.6.0)\n",
      "Requirement already satisfied: pyyaml in /opt/conda/lib/python3.7/site-packages (from cause-ml==0.0.11) (5.1.2)\n",
      "Requirement already satisfied: python-dateutil>=2.6.1 in /opt/conda/lib/python3.7/site-packages (from pandas->cause-ml==0.0.11) (2.8.1)\n",
      "Requirement already satisfied: pytz>=2017.2 in /opt/conda/lib/python3.7/site-packages (from pandas->cause-ml==0.0.11) (2019.3)\n",
      "Requirement already satisfied: mpmath>=0.19 in /opt/conda/lib/python3.7/site-packages (from sympy->cause-ml==0.0.11) (1.1.0)\n",
      "Requirement already satisfied: cython in /opt/conda/lib/python3.7/site-packages (from POT->cause-ml==0.0.11) (0.29.14)\n",
      "Requirement already satisfied: six>=1.5 in /opt/conda/lib/python3.7/site-packages (from python-dateutil>=2.6.1->pandas->cause-ml==0.0.11) (1.13.0)\n",
      "Installing collected packages: cause-ml\n",
      "  Found existing installation: cause-ml 0.0.11\n",
      "    Uninstalling cause-ml-0.0.11:\n",
      "      Successfully uninstalled cause-ml-0.0.11\n",
      "  Running setup.py develop for cause-ml\n",
      "Successfully installed cause-ml\n"
     ]
    }
   ],
   "source": [
    "!pip install -e ../CauseML"
   ]
  },
  {
   "cell_type": "code",
   "execution_count": 1,
   "metadata": {},
   "outputs": [
    {
     "name": "stdout",
     "output_type": "stream",
     "text": [
      "WARNING: Not monitoring node memory since `psutil` is not installed. Install this with `pip install psutil` (or ray[debug]) to enable debugging of memory-related crashes.\n"
     ]
    }
   ],
   "source": [
    "from cause_ml.parameters import build_parameters_from_axis_levels\n",
    "from cause_ml.constants import Constants\n",
    "from cause_ml.data_generation import DataGeneratingProcessSampler, DataGeneratingProcess\n",
    "import cause_ml.data_sources as data_sources\n",
    "from cause_ml.modeling.models import LinearRegressionCausalModel\n",
    "from cause_ml.benchmarking import run_sampled_dgp_benchmark, run_concrete_dgp_benchmark"
   ]
  },
  {
   "cell_type": "code",
   "execution_count": 2,
   "metadata": {},
   "outputs": [],
   "source": [
    "import pandas as pd"
   ]
  },
  {
   "cell_type": "markdown",
   "metadata": {},
   "source": [
    "## Model Demo"
   ]
  },
  {
   "cell_type": "code",
   "execution_count": 10,
   "metadata": {},
   "outputs": [],
   "source": [
    "covar_data_source = data_sources.load_random_normal_covariates(n_covars = 10, n_observations=1000)\n",
    "dgp_params = build_parameters_from_axis_levels({\n",
    "    Constants.AxisNames.OUTCOME_NONLINEARITY: Constants.AxisLevels.LOW,\n",
    "    Constants.AxisNames.TREATMENT_NONLINEARITY: Constants.AxisLevels.LOW,\n",
    "})\n",
    "\n",
    "dgp_sampler = DataGeneratingProcessSampler(\n",
    "    parameters=dgp_params, data_source=covar_data_source)\n",
    "\n",
    "dgp = dgp_sampler.sample_dgp()\n",
    "dataset = dgp.generate_dataset()"
   ]
  },
  {
   "cell_type": "code",
   "execution_count": 11,
   "metadata": {},
   "outputs": [
    {
     "data": {
      "text/html": [
       "<div>\n",
       "<style scoped>\n",
       "    .dataframe tbody tr th:only-of-type {\n",
       "        vertical-align: middle;\n",
       "    }\n",
       "\n",
       "    .dataframe tbody tr th {\n",
       "        vertical-align: top;\n",
       "    }\n",
       "\n",
       "    .dataframe thead th {\n",
       "        text-align: right;\n",
       "    }\n",
       "</style>\n",
       "<table border=\"1\" class=\"dataframe\">\n",
       "  <thead>\n",
       "    <tr style=\"text-align: right;\">\n",
       "      <th></th>\n",
       "      <th>X0</th>\n",
       "      <th>X1</th>\n",
       "      <th>X2</th>\n",
       "      <th>X3</th>\n",
       "      <th>X4</th>\n",
       "      <th>X5</th>\n",
       "      <th>X6</th>\n",
       "      <th>X7</th>\n",
       "      <th>X8</th>\n",
       "      <th>X9</th>\n",
       "      <th>T</th>\n",
       "      <th>Y</th>\n",
       "    </tr>\n",
       "  </thead>\n",
       "  <tbody>\n",
       "    <tr>\n",
       "      <th>0</th>\n",
       "      <td>-0.032705</td>\n",
       "      <td>0.379023</td>\n",
       "      <td>-0.052096</td>\n",
       "      <td>-0.174033</td>\n",
       "      <td>-0.130430</td>\n",
       "      <td>0.021379</td>\n",
       "      <td>-0.277230</td>\n",
       "      <td>-0.202362</td>\n",
       "      <td>0.204592</td>\n",
       "      <td>0.022504</td>\n",
       "      <td>1.0</td>\n",
       "      <td>0.721517</td>\n",
       "    </tr>\n",
       "    <tr>\n",
       "      <th>1</th>\n",
       "      <td>0.518542</td>\n",
       "      <td>-0.614966</td>\n",
       "      <td>0.237754</td>\n",
       "      <td>-0.245709</td>\n",
       "      <td>0.009041</td>\n",
       "      <td>0.223363</td>\n",
       "      <td>-0.506292</td>\n",
       "      <td>0.205042</td>\n",
       "      <td>-0.129543</td>\n",
       "      <td>-0.142800</td>\n",
       "      <td>1.0</td>\n",
       "      <td>0.650597</td>\n",
       "    </tr>\n",
       "    <tr>\n",
       "      <th>2</th>\n",
       "      <td>-0.119060</td>\n",
       "      <td>-0.175836</td>\n",
       "      <td>-0.037312</td>\n",
       "      <td>0.360897</td>\n",
       "      <td>-0.150054</td>\n",
       "      <td>0.101863</td>\n",
       "      <td>-0.309814</td>\n",
       "      <td>-0.187791</td>\n",
       "      <td>-0.246574</td>\n",
       "      <td>-0.090366</td>\n",
       "      <td>1.0</td>\n",
       "      <td>0.827244</td>\n",
       "    </tr>\n",
       "    <tr>\n",
       "      <th>3</th>\n",
       "      <td>0.223553</td>\n",
       "      <td>0.014960</td>\n",
       "      <td>0.549030</td>\n",
       "      <td>-0.007186</td>\n",
       "      <td>0.176155</td>\n",
       "      <td>-0.507930</td>\n",
       "      <td>-0.092807</td>\n",
       "      <td>0.273350</td>\n",
       "      <td>-0.340771</td>\n",
       "      <td>0.281374</td>\n",
       "      <td>0.0</td>\n",
       "      <td>1.981864</td>\n",
       "    </tr>\n",
       "    <tr>\n",
       "      <th>4</th>\n",
       "      <td>-0.395687</td>\n",
       "      <td>0.671763</td>\n",
       "      <td>0.091527</td>\n",
       "      <td>0.221473</td>\n",
       "      <td>-0.533656</td>\n",
       "      <td>-0.376643</td>\n",
       "      <td>0.235341</td>\n",
       "      <td>-0.297709</td>\n",
       "      <td>-0.200014</td>\n",
       "      <td>0.105650</td>\n",
       "      <td>1.0</td>\n",
       "      <td>1.745069</td>\n",
       "    </tr>\n",
       "    <tr>\n",
       "      <th>...</th>\n",
       "      <td>...</td>\n",
       "      <td>...</td>\n",
       "      <td>...</td>\n",
       "      <td>...</td>\n",
       "      <td>...</td>\n",
       "      <td>...</td>\n",
       "      <td>...</td>\n",
       "      <td>...</td>\n",
       "      <td>...</td>\n",
       "      <td>...</td>\n",
       "      <td>...</td>\n",
       "      <td>...</td>\n",
       "    </tr>\n",
       "    <tr>\n",
       "      <th>995</th>\n",
       "      <td>-0.268724</td>\n",
       "      <td>0.942336</td>\n",
       "      <td>0.155024</td>\n",
       "      <td>-0.069956</td>\n",
       "      <td>-0.468402</td>\n",
       "      <td>-0.773120</td>\n",
       "      <td>0.145647</td>\n",
       "      <td>-0.053227</td>\n",
       "      <td>-0.180862</td>\n",
       "      <td>0.076523</td>\n",
       "      <td>0.0</td>\n",
       "      <td>1.285377</td>\n",
       "    </tr>\n",
       "    <tr>\n",
       "      <th>996</th>\n",
       "      <td>-0.421429</td>\n",
       "      <td>-0.004975</td>\n",
       "      <td>-0.475427</td>\n",
       "      <td>0.563067</td>\n",
       "      <td>-0.264242</td>\n",
       "      <td>0.079006</td>\n",
       "      <td>-0.026643</td>\n",
       "      <td>-0.012472</td>\n",
       "      <td>-0.064174</td>\n",
       "      <td>-0.290809</td>\n",
       "      <td>0.0</td>\n",
       "      <td>-1.651300</td>\n",
       "    </tr>\n",
       "    <tr>\n",
       "      <th>997</th>\n",
       "      <td>-0.317455</td>\n",
       "      <td>-0.194330</td>\n",
       "      <td>-0.077840</td>\n",
       "      <td>0.041476</td>\n",
       "      <td>-0.079446</td>\n",
       "      <td>0.651287</td>\n",
       "      <td>-0.587402</td>\n",
       "      <td>-0.295974</td>\n",
       "      <td>-0.195516</td>\n",
       "      <td>0.161256</td>\n",
       "      <td>0.0</td>\n",
       "      <td>-0.702514</td>\n",
       "    </tr>\n",
       "    <tr>\n",
       "      <th>998</th>\n",
       "      <td>-0.090477</td>\n",
       "      <td>0.816784</td>\n",
       "      <td>0.177120</td>\n",
       "      <td>0.075610</td>\n",
       "      <td>-0.334477</td>\n",
       "      <td>-0.149501</td>\n",
       "      <td>0.182300</td>\n",
       "      <td>0.113051</td>\n",
       "      <td>-0.074797</td>\n",
       "      <td>0.090159</td>\n",
       "      <td>1.0</td>\n",
       "      <td>2.629175</td>\n",
       "    </tr>\n",
       "    <tr>\n",
       "      <th>999</th>\n",
       "      <td>-0.061674</td>\n",
       "      <td>0.269667</td>\n",
       "      <td>-0.133235</td>\n",
       "      <td>0.061520</td>\n",
       "      <td>-0.259164</td>\n",
       "      <td>-0.371144</td>\n",
       "      <td>-0.038251</td>\n",
       "      <td>-0.178826</td>\n",
       "      <td>-0.371534</td>\n",
       "      <td>-0.287384</td>\n",
       "      <td>0.0</td>\n",
       "      <td>-0.244667</td>\n",
       "    </tr>\n",
       "  </tbody>\n",
       "</table>\n",
       "<p>1000 rows × 12 columns</p>\n",
       "</div>"
      ],
      "text/plain": [
       "           X0        X1        X2        X3        X4        X5        X6  \\\n",
       "0   -0.032705  0.379023 -0.052096 -0.174033 -0.130430  0.021379 -0.277230   \n",
       "1    0.518542 -0.614966  0.237754 -0.245709  0.009041  0.223363 -0.506292   \n",
       "2   -0.119060 -0.175836 -0.037312  0.360897 -0.150054  0.101863 -0.309814   \n",
       "3    0.223553  0.014960  0.549030 -0.007186  0.176155 -0.507930 -0.092807   \n",
       "4   -0.395687  0.671763  0.091527  0.221473 -0.533656 -0.376643  0.235341   \n",
       "..        ...       ...       ...       ...       ...       ...       ...   \n",
       "995 -0.268724  0.942336  0.155024 -0.069956 -0.468402 -0.773120  0.145647   \n",
       "996 -0.421429 -0.004975 -0.475427  0.563067 -0.264242  0.079006 -0.026643   \n",
       "997 -0.317455 -0.194330 -0.077840  0.041476 -0.079446  0.651287 -0.587402   \n",
       "998 -0.090477  0.816784  0.177120  0.075610 -0.334477 -0.149501  0.182300   \n",
       "999 -0.061674  0.269667 -0.133235  0.061520 -0.259164 -0.371144 -0.038251   \n",
       "\n",
       "           X7        X8        X9    T         Y  \n",
       "0   -0.202362  0.204592  0.022504  1.0  0.721517  \n",
       "1    0.205042 -0.129543 -0.142800  1.0  0.650597  \n",
       "2   -0.187791 -0.246574 -0.090366  1.0  0.827244  \n",
       "3    0.273350 -0.340771  0.281374  0.0  1.981864  \n",
       "4   -0.297709 -0.200014  0.105650  1.0  1.745069  \n",
       "..        ...       ...       ...  ...       ...  \n",
       "995 -0.053227 -0.180862  0.076523  0.0  1.285377  \n",
       "996 -0.012472 -0.064174 -0.290809  0.0 -1.651300  \n",
       "997 -0.295974 -0.195516  0.161256  0.0 -0.702514  \n",
       "998  0.113051 -0.074797  0.090159  1.0  2.629175  \n",
       "999 -0.178826 -0.371534 -0.287384  0.0 -0.244667  \n",
       "\n",
       "[1000 rows x 12 columns]"
      ]
     },
     "execution_count": 11,
     "metadata": {},
     "output_type": "execute_result"
    }
   ],
   "source": [
    "dataset.observed_data"
   ]
  },
  {
   "cell_type": "code",
   "execution_count": 16,
   "metadata": {},
   "outputs": [
    {
     "data": {
      "text/plain": [
       "(1000, 1)"
      ]
     },
     "execution_count": 16,
     "metadata": {},
     "output_type": "execute_result"
    }
   ],
   "source": [
    "dataset.Y.reshape(-1, 1).shape"
   ]
  },
  {
   "cell_type": "code",
   "execution_count": 12,
   "metadata": {},
   "outputs": [
    {
     "data": {
      "text/plain": [
       "1.293"
      ]
     },
     "execution_count": 12,
     "metadata": {},
     "output_type": "execute_result"
    }
   ],
   "source": [
    "dataset.ATE"
   ]
  },
  {
   "cell_type": "code",
   "execution_count": 13,
   "metadata": {},
   "outputs": [
    {
     "data": {
      "text/plain": [
       "array([[ 0.00648296,  0.83314399,  3.0997415 ,  0.02700677,  0.20417691,\n",
       "        -0.06301565,  0.82440101, -0.26077052, -0.62801124,  0.11468437,\n",
       "         1.29180402]])"
      ]
     },
     "execution_count": 13,
     "metadata": {},
     "output_type": "execute_result"
    }
   ],
   "source": [
    "model = LinearRegressionCausalModel(dataset)\n",
    "model.fit()\n",
    "model.estimate(estimand=Constants.Model.ATE_ESTIMAND)\n",
    "model.model.coef_"
   ]
  },
  {
   "cell_type": "markdown",
   "metadata": {},
   "source": [
    "## Benchmarking Demo"
   ]
  },
  {
   "cell_type": "code",
   "execution_count": null,
   "metadata": {},
   "outputs": [],
   "source": [
    "%%time\n",
    "# Sample Benchmark\n",
    "\n",
    "\n",
    "HIGH, MEDIUM, LOW = Constants.AxisLevels.HIGH, Constants.AxisLevels.MEDIUM, Constants.AxisLevels.LOW\n",
    "param_grid = dgp_params = {\n",
    "    Constants.AxisNames.TREATMENT_NONLINEARITY: [MEDIUM, LOW],\n",
    "    Constants.AxisNames.OUTCOME_NONLINEARITY: [LOW]\n",
    "#     Constants.AxisNames.TREATMENT_NONLINEARITY: [HIGH, MEDIUM, LOW],\n",
    "#     Constants.AxisNames.OUTCOME_NONLINEARITY: [HIGH, MEDIUM, LOW]\n",
    "}\n",
    "\n",
    "covar_data_source = data_sources.load_random_normal_covariates(\n",
    "    n_covars=10,\n",
    "    n_observations=500)\n",
    "\n",
    "result = run_sampled_dgp_benchmark(\n",
    "    model_class=LinearRegressionCausalModel,\n",
    "    estimand=Constants.Model.ATE_ESTIMAND,\n",
    "    data_source=covar_data_source,\n",
    "    param_grid=param_grid,\n",
    "    num_dgp_samples=1,\n",
    "    num_data_samples_per_dgp=1,\n",
    "    enable_ray_multiprocessing=True)"
   ]
  },
  {
   "cell_type": "code",
   "execution_count": null,
   "metadata": {},
   "outputs": [],
   "source": [
    "pd.DataFrame(result)"
   ]
  },
  {
   "cell_type": "code",
   "execution_count": null,
   "metadata": {},
   "outputs": [],
   "source": [
    "# Concrete Benchmark\n",
    "\n",
    "covar_data_source = data_sources.load_random_normal_covariates(n_covars = 10, n_observations=1000)\n",
    "dgp_params = build_parameters_from_axis_levels({\n",
    "    Constants.AxisNames.OUTCOME_NONLINEARITY: Constants.AxisLevels.LOW,\n",
    "    Constants.AxisNames.TREATMENT_NONLINEARITY: Constants.AxisLevels.LOW,\n",
    "})\n",
    "\n",
    "dgp_sampler = DataGeneratingProcessSampler(\n",
    "    parameters=dgp_params, data_source=covar_data_source)\n",
    "\n",
    "dgp = dgp_sampler.sample_dgp()\n",
    "dataset = dgp.generate_dataset()\n",
    "\n",
    "result = run_concrete_dgp_benchmark(\n",
    "    dgp=dgp,\n",
    "    model_class=LinearRegressionCausalModel,\n",
    "    estimand=Constants.Model.ATE_ESTIMAND,\n",
    "    num_samples_from_dgp=1,\n",
    "    enable_ray_multiprocessing=True)"
   ]
  },
  {
   "cell_type": "code",
   "execution_count": null,
   "metadata": {},
   "outputs": [],
   "source": [
    "result"
   ]
  },
  {
   "cell_type": "markdown",
   "metadata": {},
   "source": [
    "## Sandbox DGP"
   ]
  },
  {
   "cell_type": "code",
   "execution_count": null,
   "metadata": {},
   "outputs": [],
   "source": [
    "DataGeneratingProcess()"
   ]
  },
  {
   "cell_type": "code",
   "execution_count": null,
   "metadata": {},
   "outputs": [],
   "source": [
    "class ConcreteDGP(DataGeneratingProcess):\n",
    "    TEST = DataGeneratingProcess.TEST + [4, 2, 3]\n",
    "    @dgp_method(Constants.COVARIATES_NAME, [])\n",
    "    def _generate_observed_covars(self, input_vars):\n",
    "        return 3"
   ]
  },
  {
   "cell_type": "code",
   "execution_count": null,
   "metadata": {},
   "outputs": [],
   "source": [
    "dgp = ConcreteDGP()\n",
    "dgp._generate_observed_covars()"
   ]
  }
 ],
 "metadata": {
  "kernelspec": {
   "display_name": "Python 3",
   "language": "python",
   "name": "python3"
  },
  "language_info": {
   "codemirror_mode": {
    "name": "ipython",
    "version": 3
   },
   "file_extension": ".py",
   "mimetype": "text/x-python",
   "name": "python",
   "nbconvert_exporter": "python",
   "pygments_lexer": "ipython3",
   "version": "3.7.3"
  },
  "varInspector": {
   "cols": {
    "lenName": 16,
    "lenType": 16,
    "lenVar": 40
   },
   "kernels_config": {
    "python": {
     "delete_cmd_postfix": "",
     "delete_cmd_prefix": "del ",
     "library": "var_list.py",
     "varRefreshCmd": "print(var_dic_list())"
    },
    "r": {
     "delete_cmd_postfix": ") ",
     "delete_cmd_prefix": "rm(",
     "library": "var_list.r",
     "varRefreshCmd": "cat(var_dic_list()) "
    }
   },
   "types_to_exclude": [
    "module",
    "function",
    "builtin_function_or_method",
    "instance",
    "_Feature"
   ],
   "window_display": false
  }
 },
 "nbformat": 4,
 "nbformat_minor": 2
}
