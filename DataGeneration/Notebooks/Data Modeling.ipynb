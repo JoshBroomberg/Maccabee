{
 "cells": [
  {
   "cell_type": "code",
   "execution_count": 1,
   "metadata": {
    "scrolled": true
   },
   "outputs": [
    {
     "name": "stdout",
     "output_type": "stream",
     "text": [
      "Obtaining file:///home/jovyan/work/CauseML\n",
      "Requirement already satisfied: numpy in /opt/conda/lib/python3.7/site-packages (from cause-ml==0.0.11) (1.17.3)\n",
      "Requirement already satisfied: pandas in /opt/conda/lib/python3.7/site-packages (from cause-ml==0.0.11) (0.25.3)\n",
      "Requirement already satisfied: scipy in /opt/conda/lib/python3.7/site-packages (from cause-ml==0.0.11) (1.3.2)\n",
      "Requirement already satisfied: sympy in /opt/conda/lib/python3.7/site-packages (from cause-ml==0.0.11) (1.4)\n",
      "Requirement already satisfied: POT in /opt/conda/lib/python3.7/site-packages (from cause-ml==0.0.11) (0.6.0)\n",
      "Requirement already satisfied: pyyaml in /opt/conda/lib/python3.7/site-packages (from cause-ml==0.0.11) (5.1.2)\n",
      "Requirement already satisfied: pytz>=2017.2 in /opt/conda/lib/python3.7/site-packages (from pandas->cause-ml==0.0.11) (2019.3)\n",
      "Requirement already satisfied: python-dateutil>=2.6.1 in /opt/conda/lib/python3.7/site-packages (from pandas->cause-ml==0.0.11) (2.8.1)\n",
      "Requirement already satisfied: mpmath>=0.19 in /opt/conda/lib/python3.7/site-packages (from sympy->cause-ml==0.0.11) (1.1.0)\n",
      "Requirement already satisfied: cython in /opt/conda/lib/python3.7/site-packages (from POT->cause-ml==0.0.11) (0.29.14)\n",
      "Requirement already satisfied: six>=1.5 in /opt/conda/lib/python3.7/site-packages (from python-dateutil>=2.6.1->pandas->cause-ml==0.0.11) (1.13.0)\n",
      "Installing collected packages: cause-ml\n",
      "  Found existing installation: cause-ml 0.0.11\n",
      "    Uninstalling cause-ml-0.0.11:\n",
      "      Successfully uninstalled cause-ml-0.0.11\n",
      "  Running setup.py develop for cause-ml\n",
      "Successfully installed cause-ml\n"
     ]
    }
   ],
   "source": [
    "!pip install -e ../CauseML"
   ]
  },
  {
   "cell_type": "code",
   "execution_count": 1,
   "metadata": {},
   "outputs": [],
   "source": [
    "from cause_ml.data_generation import DataGeneratingProcess"
   ]
  },
  {
   "cell_type": "code",
   "execution_count": 2,
   "metadata": {},
   "outputs": [],
   "source": [
    "%load_ext autoreload\n",
    "%autoreload 2"
   ]
  },
  {
   "cell_type": "code",
   "execution_count": 3,
   "metadata": {},
   "outputs": [
    {
     "name": "stdout",
     "output_type": "stream",
     "text": [
      "WARNING: Not monitoring node memory since `psutil` is not installed. Install this with `pip install psutil` (or ray[debug]) to enable debugging of memory-related crashes.\n"
     ]
    }
   ],
   "source": [
    "from cause_ml.parameters import build_parameters_from_axis_levels\n",
    "from cause_ml.constants import Constants\n",
    "import cause_ml.data_sources as data_sources\n",
    "from cause_ml.data_generation import DataGeneratingProcessSampler\n",
    "from cause_ml.modeling.models import LinearRegressionCausalModel\n",
    "from cause_ml.benchmarking import run_sampled_dgp_benchmark, run_concrete_dgp_benchmark"
   ]
  },
  {
   "cell_type": "code",
   "execution_count": 4,
   "metadata": {},
   "outputs": [],
   "source": [
    "import pandas as pd"
   ]
  },
  {
   "cell_type": "markdown",
   "metadata": {},
   "source": [
    "## Model Demo"
   ]
  },
  {
   "cell_type": "code",
   "execution_count": 7,
   "metadata": {},
   "outputs": [],
   "source": [
    "covar_data_source = data_sources.load_random_normal_covariates(\n",
    "    n_covars = 10, n_observations=2000)\n",
    "dgp_params = build_parameters_from_axis_levels({\n",
    "    Constants.AxisNames.OUTCOME_NONLINEARITY: Constants.AxisLevels.MEDIUM,\n",
    "    Constants.AxisNames.TREATMENT_NONLINEARITY: Constants.AxisLevels.MEDIUM,\n",
    "})\n",
    "\n",
    "dgp_sampler = DataGeneratingProcessSampler(\n",
    "    parameters=dgp_params,\n",
    "    data_source=covar_data_source,\n",
    "    dgp_kwargs={\"analysis_mode\": False})\n",
    "\n",
    "dgp = dgp_sampler.sample_dgp()\n",
    "dataset = dgp.generate_dataset()"
   ]
  },
  {
   "cell_type": "code",
   "execution_count": 20,
   "metadata": {},
   "outputs": [
    {
     "data": {
      "text/html": [
       "<div>\n",
       "<style scoped>\n",
       "    .dataframe tbody tr th:only-of-type {\n",
       "        vertical-align: middle;\n",
       "    }\n",
       "\n",
       "    .dataframe tbody tr th {\n",
       "        vertical-align: top;\n",
       "    }\n",
       "\n",
       "    .dataframe thead th {\n",
       "        text-align: right;\n",
       "    }\n",
       "</style>\n",
       "<table border=\"1\" class=\"dataframe\">\n",
       "  <thead>\n",
       "    <tr style=\"text-align: right;\">\n",
       "      <th></th>\n",
       "      <th>X0</th>\n",
       "      <th>X1</th>\n",
       "      <th>X2</th>\n",
       "      <th>X3</th>\n",
       "      <th>X4</th>\n",
       "      <th>X5</th>\n",
       "      <th>X6</th>\n",
       "      <th>X7</th>\n",
       "      <th>X8</th>\n",
       "      <th>X9</th>\n",
       "      <th>T</th>\n",
       "      <th>Y</th>\n",
       "    </tr>\n",
       "  </thead>\n",
       "  <tbody>\n",
       "    <tr>\n",
       "      <th>1568</th>\n",
       "      <td>-0.196141</td>\n",
       "      <td>0.205069</td>\n",
       "      <td>-0.624708</td>\n",
       "      <td>0.227752</td>\n",
       "      <td>0.109602</td>\n",
       "      <td>-0.013306</td>\n",
       "      <td>0.413004</td>\n",
       "      <td>0.608288</td>\n",
       "      <td>0.246142</td>\n",
       "      <td>-0.299590</td>\n",
       "      <td>1</td>\n",
       "      <td>2.264143</td>\n",
       "    </tr>\n",
       "    <tr>\n",
       "      <th>614</th>\n",
       "      <td>-0.603249</td>\n",
       "      <td>0.235596</td>\n",
       "      <td>-0.613809</td>\n",
       "      <td>0.382893</td>\n",
       "      <td>0.029270</td>\n",
       "      <td>0.447050</td>\n",
       "      <td>0.327484</td>\n",
       "      <td>0.337328</td>\n",
       "      <td>-0.256597</td>\n",
       "      <td>-0.294624</td>\n",
       "      <td>0</td>\n",
       "      <td>0.962745</td>\n",
       "    </tr>\n",
       "    <tr>\n",
       "      <th>1622</th>\n",
       "      <td>-0.268824</td>\n",
       "      <td>-0.230482</td>\n",
       "      <td>-0.090645</td>\n",
       "      <td>0.182829</td>\n",
       "      <td>0.032529</td>\n",
       "      <td>0.055267</td>\n",
       "      <td>0.324694</td>\n",
       "      <td>-0.001857</td>\n",
       "      <td>-0.415156</td>\n",
       "      <td>-0.151814</td>\n",
       "      <td>1</td>\n",
       "      <td>1.423383</td>\n",
       "    </tr>\n",
       "    <tr>\n",
       "      <th>1054</th>\n",
       "      <td>-0.259423</td>\n",
       "      <td>0.039329</td>\n",
       "      <td>-0.103771</td>\n",
       "      <td>-0.043999</td>\n",
       "      <td>-0.153523</td>\n",
       "      <td>-0.192860</td>\n",
       "      <td>-0.042508</td>\n",
       "      <td>0.293374</td>\n",
       "      <td>0.299389</td>\n",
       "      <td>-0.246721</td>\n",
       "      <td>0</td>\n",
       "      <td>1.136054</td>\n",
       "    </tr>\n",
       "    <tr>\n",
       "      <th>1051</th>\n",
       "      <td>-0.159908</td>\n",
       "      <td>0.456943</td>\n",
       "      <td>0.161281</td>\n",
       "      <td>0.226828</td>\n",
       "      <td>0.248419</td>\n",
       "      <td>0.458495</td>\n",
       "      <td>0.094569</td>\n",
       "      <td>-0.543445</td>\n",
       "      <td>0.088730</td>\n",
       "      <td>0.177025</td>\n",
       "      <td>0</td>\n",
       "      <td>-1.179464</td>\n",
       "    </tr>\n",
       "    <tr>\n",
       "      <th>...</th>\n",
       "      <td>...</td>\n",
       "      <td>...</td>\n",
       "      <td>...</td>\n",
       "      <td>...</td>\n",
       "      <td>...</td>\n",
       "      <td>...</td>\n",
       "      <td>...</td>\n",
       "      <td>...</td>\n",
       "      <td>...</td>\n",
       "      <td>...</td>\n",
       "      <td>...</td>\n",
       "      <td>...</td>\n",
       "    </tr>\n",
       "    <tr>\n",
       "      <th>1305</th>\n",
       "      <td>-0.239222</td>\n",
       "      <td>0.260964</td>\n",
       "      <td>0.032593</td>\n",
       "      <td>-0.015654</td>\n",
       "      <td>0.180464</td>\n",
       "      <td>0.151719</td>\n",
       "      <td>-0.018002</td>\n",
       "      <td>-0.157380</td>\n",
       "      <td>0.069499</td>\n",
       "      <td>-0.027314</td>\n",
       "      <td>1</td>\n",
       "      <td>0.569022</td>\n",
       "    </tr>\n",
       "    <tr>\n",
       "      <th>452</th>\n",
       "      <td>-0.499559</td>\n",
       "      <td>0.258799</td>\n",
       "      <td>-0.357254</td>\n",
       "      <td>0.390726</td>\n",
       "      <td>-0.089519</td>\n",
       "      <td>0.215259</td>\n",
       "      <td>0.288217</td>\n",
       "      <td>-0.018392</td>\n",
       "      <td>-0.211642</td>\n",
       "      <td>-0.221028</td>\n",
       "      <td>1</td>\n",
       "      <td>1.047652</td>\n",
       "    </tr>\n",
       "    <tr>\n",
       "      <th>840</th>\n",
       "      <td>0.179884</td>\n",
       "      <td>0.323715</td>\n",
       "      <td>0.297043</td>\n",
       "      <td>0.414579</td>\n",
       "      <td>-0.668454</td>\n",
       "      <td>-0.428524</td>\n",
       "      <td>-0.130695</td>\n",
       "      <td>0.296353</td>\n",
       "      <td>-0.017930</td>\n",
       "      <td>-0.442738</td>\n",
       "      <td>0</td>\n",
       "      <td>-1.362328</td>\n",
       "    </tr>\n",
       "    <tr>\n",
       "      <th>119</th>\n",
       "      <td>0.073725</td>\n",
       "      <td>-0.168594</td>\n",
       "      <td>0.689835</td>\n",
       "      <td>-0.114071</td>\n",
       "      <td>0.007010</td>\n",
       "      <td>-0.146272</td>\n",
       "      <td>0.077329</td>\n",
       "      <td>-0.293848</td>\n",
       "      <td>0.206724</td>\n",
       "      <td>0.246238</td>\n",
       "      <td>0</td>\n",
       "      <td>-0.588730</td>\n",
       "    </tr>\n",
       "    <tr>\n",
       "      <th>1620</th>\n",
       "      <td>0.035571</td>\n",
       "      <td>-0.110310</td>\n",
       "      <td>-0.486716</td>\n",
       "      <td>0.400027</td>\n",
       "      <td>-0.121231</td>\n",
       "      <td>-0.253863</td>\n",
       "      <td>0.320428</td>\n",
       "      <td>0.669671</td>\n",
       "      <td>0.171382</td>\n",
       "      <td>-0.181678</td>\n",
       "      <td>1</td>\n",
       "      <td>2.310522</td>\n",
       "    </tr>\n",
       "  </tbody>\n",
       "</table>\n",
       "<p>2000 rows × 12 columns</p>\n",
       "</div>"
      ],
      "text/plain": [
       "            X0        X1        X2        X3        X4        X5        X6  \\\n",
       "1568 -0.196141  0.205069 -0.624708  0.227752  0.109602 -0.013306  0.413004   \n",
       "614  -0.603249  0.235596 -0.613809  0.382893  0.029270  0.447050  0.327484   \n",
       "1622 -0.268824 -0.230482 -0.090645  0.182829  0.032529  0.055267  0.324694   \n",
       "1054 -0.259423  0.039329 -0.103771 -0.043999 -0.153523 -0.192860 -0.042508   \n",
       "1051 -0.159908  0.456943  0.161281  0.226828  0.248419  0.458495  0.094569   \n",
       "...        ...       ...       ...       ...       ...       ...       ...   \n",
       "1305 -0.239222  0.260964  0.032593 -0.015654  0.180464  0.151719 -0.018002   \n",
       "452  -0.499559  0.258799 -0.357254  0.390726 -0.089519  0.215259  0.288217   \n",
       "840   0.179884  0.323715  0.297043  0.414579 -0.668454 -0.428524 -0.130695   \n",
       "119   0.073725 -0.168594  0.689835 -0.114071  0.007010 -0.146272  0.077329   \n",
       "1620  0.035571 -0.110310 -0.486716  0.400027 -0.121231 -0.253863  0.320428   \n",
       "\n",
       "            X7        X8        X9  T         Y  \n",
       "1568  0.608288  0.246142 -0.299590  1  2.264143  \n",
       "614   0.337328 -0.256597 -0.294624  0  0.962745  \n",
       "1622 -0.001857 -0.415156 -0.151814  1  1.423383  \n",
       "1054  0.293374  0.299389 -0.246721  0  1.136054  \n",
       "1051 -0.543445  0.088730  0.177025  0 -1.179464  \n",
       "...        ...       ...       ... ..       ...  \n",
       "1305 -0.157380  0.069499 -0.027314  1  0.569022  \n",
       "452  -0.018392 -0.211642 -0.221028  1  1.047652  \n",
       "840   0.296353 -0.017930 -0.442738  0 -1.362328  \n",
       "119  -0.293848  0.206724  0.246238  0 -0.588730  \n",
       "1620  0.669671  0.171382 -0.181678  1  2.310522  \n",
       "\n",
       "[2000 rows x 12 columns]"
      ]
     },
     "execution_count": 20,
     "metadata": {},
     "output_type": "execute_result"
    }
   ],
   "source": [
    "dataset.observed_data"
   ]
  },
  {
   "cell_type": "code",
   "execution_count": 7,
   "metadata": {},
   "outputs": [
    {
     "data": {
      "text/plain": [
       "0.7279999999999999"
      ]
     },
     "execution_count": 7,
     "metadata": {},
     "output_type": "execute_result"
    }
   ],
   "source": [
    "dataset.ATE"
   ]
  },
  {
   "cell_type": "code",
   "execution_count": 8,
   "metadata": {},
   "outputs": [
    {
     "data": {
      "text/plain": [
       "0.7492414562127729"
      ]
     },
     "execution_count": 8,
     "metadata": {},
     "output_type": "execute_result"
    }
   ],
   "source": [
    "model = LinearRegressionCausalModel(dataset)\n",
    "model.fit()\n",
    "model.estimate(estimand=Constants.Model.ATE_ESTIMAND)"
   ]
  },
  {
   "cell_type": "markdown",
   "metadata": {},
   "source": [
    "## Benchmarking Demo"
   ]
  },
  {
   "cell_type": "code",
   "execution_count": 22,
   "metadata": {},
   "outputs": [
    {
     "name": "stdout",
     "output_type": "stream",
     "text": [
      "CPU times: user 1.34 s, sys: 850 ms, total: 2.19 s\n",
      "Wall time: 27.4 s\n"
     ]
    }
   ],
   "source": [
    "%%time\n",
    "# Sample Benchmark\n",
    "\n",
    "\n",
    "HIGH, MEDIUM, LOW = Constants.AxisLevels.HIGH, Constants.AxisLevels.MEDIUM, Constants.AxisLevels.LOW\n",
    "param_grid = dgp_params = {\n",
    "    Constants.AxisNames.TREATMENT_NONLINEARITY: [MEDIUM, LOW],\n",
    "    Constants.AxisNames.OUTCOME_NONLINEARITY: [LOW]\n",
    "#     Constants.AxisNames.TREATMENT_NONLINEARITY: [HIGH, MEDIUM, LOW],\n",
    "#     Constants.AxisNames.OUTCOME_NONLINEARITY: [HIGH, MEDIUM, LOW]\n",
    "}\n",
    "\n",
    "covar_data_source = data_sources.load_random_normal_covariates(\n",
    "    n_covars=10,\n",
    "    n_observations=750)\n",
    "\n",
    "result = run_sampled_dgp_benchmark(\n",
    "    model_class=LinearRegressionCausalModel,\n",
    "    estimand=Constants.Model.ATE_ESTIMAND,\n",
    "    data_source=covar_data_source,\n",
    "    param_grid=param_grid,\n",
    "    num_dgp_samples=1,\n",
    "    num_data_samples_per_dgp=50,\n",
    "    dgp_kwargs={\"analysis_mode\": False},\n",
    "    enable_ray_multiprocessing=True)"
   ]
  },
  {
   "cell_type": "code",
   "execution_count": 18,
   "metadata": {},
   "outputs": [
    {
     "data": {
      "text/html": [
       "<div>\n",
       "<style scoped>\n",
       "    .dataframe tbody tr th:only-of-type {\n",
       "        vertical-align: middle;\n",
       "    }\n",
       "\n",
       "    .dataframe tbody tr th {\n",
       "        vertical-align: top;\n",
       "    }\n",
       "\n",
       "    .dataframe thead th {\n",
       "        text-align: right;\n",
       "    }\n",
       "</style>\n",
       "<table border=\"1\" class=\"dataframe\">\n",
       "  <thead>\n",
       "    <tr style=\"text-align: right;\">\n",
       "      <th></th>\n",
       "      <th>param_outcome_nonlinearity</th>\n",
       "      <th>param_treatment_nonlinearity</th>\n",
       "      <th>absolute mean bias</th>\n",
       "      <th>root mean squared error</th>\n",
       "    </tr>\n",
       "  </thead>\n",
       "  <tbody>\n",
       "    <tr>\n",
       "      <th>0</th>\n",
       "      <td>LOW</td>\n",
       "      <td>MEDIUM</td>\n",
       "      <td>0.075148</td>\n",
       "      <td>0.098322</td>\n",
       "    </tr>\n",
       "    <tr>\n",
       "      <th>1</th>\n",
       "      <td>LOW</td>\n",
       "      <td>LOW</td>\n",
       "      <td>0.005661</td>\n",
       "      <td>0.025789</td>\n",
       "    </tr>\n",
       "  </tbody>\n",
       "</table>\n",
       "</div>"
      ],
      "text/plain": [
       "  param_outcome_nonlinearity param_treatment_nonlinearity  absolute mean bias  \\\n",
       "0                        LOW                       MEDIUM            0.075148   \n",
       "1                        LOW                          LOW            0.005661   \n",
       "\n",
       "   root mean squared error  \n",
       "0                 0.098322  \n",
       "1                 0.025789  "
      ]
     },
     "execution_count": 18,
     "metadata": {},
     "output_type": "execute_result"
    }
   ],
   "source": [
    "pd.DataFrame(result)"
   ]
  },
  {
   "cell_type": "code",
   "execution_count": null,
   "metadata": {},
   "outputs": [],
   "source": [
    "# Concrete Benchmark\n",
    "\n",
    "covar_data_source = data_sources.load_random_normal_covariates(n_covars = 10, n_observations=1000)\n",
    "dgp_params = build_parameters_from_axis_levels({\n",
    "    Constants.AxisNames.OUTCOME_NONLINEARITY: Constants.AxisLevels.LOW,\n",
    "    Constants.AxisNames.TREATMENT_NONLINEARITY: Constants.AxisLevels.LOW,\n",
    "})\n",
    "\n",
    "dgp_sampler = DataGeneratingProcessSampler(\n",
    "    parameters=dgp_params, data_source=covar_data_source)\n",
    "\n",
    "dgp = dgp_sampler.sample_dgp()\n",
    "dataset = dgp.generate_dataset()\n",
    "\n",
    "result = run_concrete_dgp_benchmark(\n",
    "    dgp=dgp,\n",
    "    model_class=LinearRegressionCausalModel,\n",
    "    estimand=Constants.Model.ATE_ESTIMAND,\n",
    "    num_samples_from_dgp=1,\n",
    "    enable_ray_multiprocessing=True)"
   ]
  },
  {
   "cell_type": "code",
   "execution_count": null,
   "metadata": {},
   "outputs": [],
   "source": [
    "result"
   ]
  }
 ],
 "metadata": {
  "kernelspec": {
   "display_name": "Python 3",
   "language": "python",
   "name": "python3"
  },
  "language_info": {
   "codemirror_mode": {
    "name": "ipython",
    "version": 3
   },
   "file_extension": ".py",
   "mimetype": "text/x-python",
   "name": "python",
   "nbconvert_exporter": "python",
   "pygments_lexer": "ipython3",
   "version": "3.7.3"
  },
  "varInspector": {
   "cols": {
    "lenName": 16,
    "lenType": 16,
    "lenVar": 40
   },
   "kernels_config": {
    "python": {
     "delete_cmd_postfix": "",
     "delete_cmd_prefix": "del ",
     "library": "var_list.py",
     "varRefreshCmd": "print(var_dic_list())"
    },
    "r": {
     "delete_cmd_postfix": ") ",
     "delete_cmd_prefix": "rm(",
     "library": "var_list.r",
     "varRefreshCmd": "cat(var_dic_list()) "
    }
   },
   "types_to_exclude": [
    "module",
    "function",
    "builtin_function_or_method",
    "instance",
    "_Feature"
   ],
   "window_display": false
  }
 },
 "nbformat": 4,
 "nbformat_minor": 2
}
