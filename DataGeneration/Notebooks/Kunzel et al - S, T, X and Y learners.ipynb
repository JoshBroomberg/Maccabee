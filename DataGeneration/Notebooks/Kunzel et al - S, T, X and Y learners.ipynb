{
 "cells": [
  {
   "cell_type": "code",
   "execution_count": 1,
   "metadata": {},
   "outputs": [
    {
     "name": "stdout",
     "output_type": "stream",
     "text": [
      "Collecting cause_ml\n",
      "\u001b[?25l  Downloading https://files.pythonhosted.org/packages/71/ff/1cec84754c3e53c60a0a51ff601bf6c86656f056064d86dbbce305e97677/cause_ml-0.0.5-py3-none-any.whl (391kB)\n",
      "\u001b[K     |████████████████████████████████| 399kB 873kB/s eta 0:00:01\n",
      "\u001b[?25hRequirement already satisfied: pyyaml in /opt/conda/lib/python3.7/site-packages (from cause_ml) (5.1.2)\n",
      "Requirement already satisfied: numpy in /opt/conda/lib/python3.7/site-packages (from cause_ml) (1.17.3)\n",
      "Collecting POT\n",
      "\u001b[?25l  Downloading https://files.pythonhosted.org/packages/51/97/f33e927aa83e5034f962d2be035d321c82a2b4bfc24279325c98188300c3/POT-0.6.0-cp37-cp37m-manylinux1_x86_64.whl (305kB)\n",
      "\u001b[K     |████████████████████████████████| 307kB 1.7MB/s eta 0:00:01\n",
      "\u001b[?25hRequirement already satisfied: scipy in /opt/conda/lib/python3.7/site-packages (from cause_ml) (1.3.2)\n",
      "Requirement already satisfied: sympy in /opt/conda/lib/python3.7/site-packages (from cause_ml) (1.4)\n",
      "Requirement already satisfied: pandas in /opt/conda/lib/python3.7/site-packages (from cause_ml) (0.25.3)\n",
      "Requirement already satisfied: cython in /opt/conda/lib/python3.7/site-packages (from POT->cause_ml) (0.29.14)\n",
      "Requirement already satisfied: mpmath>=0.19 in /opt/conda/lib/python3.7/site-packages (from sympy->cause_ml) (1.1.0)\n",
      "Requirement already satisfied: python-dateutil>=2.6.1 in /opt/conda/lib/python3.7/site-packages (from pandas->cause_ml) (2.8.0)\n",
      "Requirement already satisfied: pytz>=2017.2 in /opt/conda/lib/python3.7/site-packages (from pandas->cause_ml) (2019.3)\n",
      "Requirement already satisfied: six>=1.5 in /opt/conda/lib/python3.7/site-packages (from python-dateutil>=2.6.1->pandas->cause_ml) (1.13.0)\n",
      "Installing collected packages: POT, cause-ml\n",
      "Successfully installed POT-0.6.0 cause-ml-0.0.5\n"
     ]
    }
   ],
   "source": [
    "!pip install cause_ml"
   ]
  },
  {
   "cell_type": "code",
   "execution_count": 2,
   "metadata": {},
   "outputs": [],
   "source": [
    "from cause_ml.parameters import build_parameters_from_metric_levels\n",
    "from cause_ml.constants import Constants\n",
    "from cause_ml.data_generation import DataGeneratingProcessWrapper\n",
    "import cause_ml.data_sources as data_sources\n",
    "from cause_ml.utilities import extract_treat_and_control_data"
   ]
  },
  {
   "cell_type": "code",
   "execution_count": 3,
   "metadata": {},
   "outputs": [],
   "source": [
    "from sklearn.neural_network import MLPRegressor\n",
    "from sklearn.tree import DecisionTreeRegressor\n",
    "from sklearn.ensemble import RandomForestRegressor\n",
    "from sklearn.linear_model import LogisticRegression\n",
    "from sklearn.metrics import mean_squared_error as mse\n",
    "from sklearn.model_selection import train_test_split"
   ]
  },
  {
   "cell_type": "code",
   "execution_count": 4,
   "metadata": {},
   "outputs": [],
   "source": [
    "import matplotlib.pyplot as plt\n",
    "import numpy as np\n",
    "import pandas as pd\n",
    "from functools import partial\n",
    "from multiprocessing import Pool\n",
    "from IPython.display import clear_output\n",
    "import time as timer"
   ]
  },
  {
   "cell_type": "code",
   "execution_count": 5,
   "metadata": {},
   "outputs": [],
   "source": [
    "import rpy2\n",
    "from rpy2 import robjects\n",
    "from rpy2.robjects.packages import importr\n",
    "from rpy2.robjects import numpy2ri\n",
    "from rpy2.robjects import IntVector, FloatVector, Matrix, ListVector\n",
    "numpy2ri.activate()"
   ]
  },
  {
   "cell_type": "markdown",
   "metadata": {},
   "source": [
    "## Data Generation Code"
   ]
  },
  {
   "cell_type": "code",
   "execution_count": 6,
   "metadata": {},
   "outputs": [],
   "source": [
    "PARTIAL_CORRELATION_DEG = 0.1\n",
    "def generate_original_data(\n",
    "    prop_score=0.5,\n",
    "    n_covars=20,\n",
    "    n_observations=50000):\n",
    "    \n",
    "    covar_data_source = data_sources.load_random_normal_covariates(\n",
    "        n_covars=n_covars,\n",
    "        n_observations=n_observations,\n",
    "        partial_correlation_degree=PARTIAL_CORRELATION_DEG)\n",
    "    covar_data = covar_data_source.original_covariate_data.to_numpy()\n",
    "    outcome_coeffs = np.random.uniform(-5, 5, size=20)\n",
    "    \n",
    "    noise = np.random.normal(size=n_observations)\n",
    "    Y0 = (covar_data @ outcome_coeffs) + \\\n",
    "        5*((covar_data[:, 0] > 0.5).astype(int)) + \\\n",
    "        noise\n",
    "    Y1 = Y0 + 8*((covar_data[:, 1] > 0.1).astype(int))\n",
    "    \n",
    "    TE = Y1 - Y0\n",
    "    T = (np.random.uniform(0, 1, size=n_observations) < prop_score).astype(int)\n",
    "    Y = T*Y1 + (1-T)*Y0\n",
    "    \n",
    "    obs_data = covar_data_source.original_covariate_data.copy()\n",
    "    obs_data[\"T\"] = T\n",
    "    obs_data[\"Y\"] = Y\n",
    "    \n",
    "    oracle_data = pd.DataFrame({\n",
    "        \"TE\": TE,\n",
    "        \"NOISE(Y)\": noise,\n",
    "        \"Y0\": Y0,\n",
    "        \"Y1\": Y1,\n",
    "        \"P(T|X)\": prop_score\n",
    "    })\n",
    "    \n",
    "    return obs_data, oracle_data"
   ]
  },
  {
   "cell_type": "code",
   "execution_count": 7,
   "metadata": {},
   "outputs": [],
   "source": [
    "def generate_hybrid_data(\n",
    "    prop_score=0.5,\n",
    "    n_covars=20,\n",
    "    n_observations=50000):\n",
    "    \n",
    "    covar_data_source = data_sources.load_random_normal_covariates(\n",
    "        n_covars=n_covars,\n",
    "        n_observations=n_observations,\n",
    "        partial_correlation_degree=PARTIAL_CORRELATION_DEG)\n",
    "\n",
    "    dgp_params = build_parameters_from_metric_levels({\n",
    "        Constants.MetricNames.TREATMENT_NONLINEARITY: Constants.MetricLevels.LOW,\n",
    "        Constants.MetricNames.OUTCOME_NONLINEARITY: Constants.MetricLevels.LOW,\n",
    "        Constants.MetricNames.TE_HETEROGENEITY: Constants.MetricLevels.LOW\n",
    "    })\n",
    "    \n",
    "    dgp_params.set_parameter(\"MIN_PROPENSITY_SCORE\", 0.001)\n",
    "    dgp_params.set_parameter(\"MAX_PROPENSITY_SCORE\", 0.9999)\n",
    "    dgp_params.set_parameter(\"TREATMENT_EFFECT_HETEROGENEITY\", 0.05)\n",
    "    dgp_params.set_parameter(\"OUTCOME_NOISE_TAIL_THICKNESS\", 300)\n",
    "    dgp_params.set_parameter(\"TARGET_PROPENSITY_SCORE\", prop_score)\n",
    "    dgp_params.set_parameter(\"TREAT_MECHANISM_COVARIATE_SELECTION_PROBABILITY\",\n",
    "                             {\n",
    "                                \"LINEAR\": 1,\n",
    "                                \"POLY_QUAD\": 0.0,\n",
    "                                \"POLY_CUBIC\": 0.0,\n",
    "                                \"STEP_JUMP\": 0,\n",
    "                                \"STEP_KINK\": 0,\n",
    "                                \"INTERACTION_TWO_WAY\": 0,\n",
    "                                \"INTERACTION_THREE_WAY\": 0\n",
    "                             })\n",
    "    dgp_params.set_parameter(\"OUTCOME_MECHANISM_COVARIATE_SELECTION_PROBABILITY\",\n",
    "                             {\n",
    "                                \"LINEAR\": 1,\n",
    "                                \"POLY_QUAD\": 0.0,\n",
    "                                \"POLY_CUBIC\": 0.0,\n",
    "                                \"STEP_JUMP\": 0.05,\n",
    "                                \"STEP_KINK\": 0,\n",
    "                                \"INTERACTION_TWO_WAY\": 0,\n",
    "                                \"INTERACTION_THREE_WAY\": 0\n",
    "                             })\n",
    "\n",
    "    dgp_wrapper = DataGeneratingProcessWrapper(\n",
    "        parameters=dgp_params, data_source=covar_data_source)\n",
    "\n",
    "    dgp_wrapper.sample_dgp()\n",
    "\n",
    "    _ = dgp_wrapper.generate_data()\n",
    "    \n",
    "    obs_data = dgp_wrapper.get_observed_data()\n",
    "    oracle_data = dgp_wrapper.get_oracle_data()\n",
    "    \n",
    "    return obs_data, oracle_data"
   ]
  },
  {
   "cell_type": "code",
   "execution_count": 8,
   "metadata": {},
   "outputs": [
    {
     "data": {
      "text/html": [
       "<div>\n",
       "<style scoped>\n",
       "    .dataframe tbody tr th:only-of-type {\n",
       "        vertical-align: middle;\n",
       "    }\n",
       "\n",
       "    .dataframe tbody tr th {\n",
       "        vertical-align: top;\n",
       "    }\n",
       "\n",
       "    .dataframe thead th {\n",
       "        text-align: right;\n",
       "    }\n",
       "</style>\n",
       "<table border=\"1\" class=\"dataframe\">\n",
       "  <thead>\n",
       "    <tr style=\"text-align: right;\">\n",
       "      <th></th>\n",
       "      <th>X0</th>\n",
       "      <th>X1</th>\n",
       "      <th>X2</th>\n",
       "      <th>X3</th>\n",
       "      <th>X4</th>\n",
       "      <th>X5</th>\n",
       "      <th>X6</th>\n",
       "      <th>X7</th>\n",
       "      <th>X8</th>\n",
       "      <th>X9</th>\n",
       "      <th>...</th>\n",
       "      <th>X12</th>\n",
       "      <th>X13</th>\n",
       "      <th>X14</th>\n",
       "      <th>X15</th>\n",
       "      <th>X16</th>\n",
       "      <th>X17</th>\n",
       "      <th>X18</th>\n",
       "      <th>X19</th>\n",
       "      <th>T</th>\n",
       "      <th>Y</th>\n",
       "    </tr>\n",
       "  </thead>\n",
       "  <tbody>\n",
       "    <tr>\n",
       "      <th>0</th>\n",
       "      <td>-1.000000</td>\n",
       "      <td>-0.020594</td>\n",
       "      <td>0.701956</td>\n",
       "      <td>-0.064443</td>\n",
       "      <td>0.375095</td>\n",
       "      <td>0.566099</td>\n",
       "      <td>-0.305858</td>\n",
       "      <td>-0.266587</td>\n",
       "      <td>0.057396</td>\n",
       "      <td>-0.140334</td>\n",
       "      <td>...</td>\n",
       "      <td>0.484390</td>\n",
       "      <td>1.000000</td>\n",
       "      <td>-0.317442</td>\n",
       "      <td>-0.526814</td>\n",
       "      <td>0.836588</td>\n",
       "      <td>-0.241627</td>\n",
       "      <td>-0.780224</td>\n",
       "      <td>-0.208295</td>\n",
       "      <td>0</td>\n",
       "      <td>-15.416195</td>\n",
       "    </tr>\n",
       "    <tr>\n",
       "      <th>1</th>\n",
       "      <td>-0.249073</td>\n",
       "      <td>0.357047</td>\n",
       "      <td>0.177678</td>\n",
       "      <td>0.191733</td>\n",
       "      <td>0.213936</td>\n",
       "      <td>-0.010088</td>\n",
       "      <td>0.427052</td>\n",
       "      <td>-0.008819</td>\n",
       "      <td>-0.183767</td>\n",
       "      <td>0.104171</td>\n",
       "      <td>...</td>\n",
       "      <td>-0.149353</td>\n",
       "      <td>-0.381056</td>\n",
       "      <td>-0.471131</td>\n",
       "      <td>-0.006880</td>\n",
       "      <td>0.382528</td>\n",
       "      <td>-0.602879</td>\n",
       "      <td>-0.543004</td>\n",
       "      <td>0.339047</td>\n",
       "      <td>1</td>\n",
       "      <td>7.196446</td>\n",
       "    </tr>\n",
       "    <tr>\n",
       "      <th>2</th>\n",
       "      <td>0.222885</td>\n",
       "      <td>0.805674</td>\n",
       "      <td>0.191778</td>\n",
       "      <td>-0.591752</td>\n",
       "      <td>0.856882</td>\n",
       "      <td>-0.655442</td>\n",
       "      <td>-0.098530</td>\n",
       "      <td>0.554750</td>\n",
       "      <td>0.598257</td>\n",
       "      <td>-0.615229</td>\n",
       "      <td>...</td>\n",
       "      <td>0.279626</td>\n",
       "      <td>-0.682472</td>\n",
       "      <td>0.147902</td>\n",
       "      <td>-0.039789</td>\n",
       "      <td>-0.511908</td>\n",
       "      <td>-0.938535</td>\n",
       "      <td>-0.210260</td>\n",
       "      <td>0.110671</td>\n",
       "      <td>0</td>\n",
       "      <td>5.808381</td>\n",
       "    </tr>\n",
       "    <tr>\n",
       "      <th>3</th>\n",
       "      <td>0.619767</td>\n",
       "      <td>0.165612</td>\n",
       "      <td>0.261199</td>\n",
       "      <td>0.361295</td>\n",
       "      <td>-0.576283</td>\n",
       "      <td>-0.112146</td>\n",
       "      <td>0.834105</td>\n",
       "      <td>0.305694</td>\n",
       "      <td>-1.000000</td>\n",
       "      <td>0.906447</td>\n",
       "      <td>...</td>\n",
       "      <td>0.153546</td>\n",
       "      <td>0.925483</td>\n",
       "      <td>0.172513</td>\n",
       "      <td>0.005651</td>\n",
       "      <td>0.546508</td>\n",
       "      <td>0.082278</td>\n",
       "      <td>0.442222</td>\n",
       "      <td>0.274761</td>\n",
       "      <td>0</td>\n",
       "      <td>10.726668</td>\n",
       "    </tr>\n",
       "    <tr>\n",
       "      <th>4</th>\n",
       "      <td>-0.042341</td>\n",
       "      <td>-0.011985</td>\n",
       "      <td>-0.355558</td>\n",
       "      <td>0.080649</td>\n",
       "      <td>-0.056982</td>\n",
       "      <td>-0.344343</td>\n",
       "      <td>0.019716</td>\n",
       "      <td>-0.424021</td>\n",
       "      <td>0.257232</td>\n",
       "      <td>0.223493</td>\n",
       "      <td>...</td>\n",
       "      <td>-0.234609</td>\n",
       "      <td>-0.028088</td>\n",
       "      <td>-0.364627</td>\n",
       "      <td>0.061930</td>\n",
       "      <td>0.154578</td>\n",
       "      <td>-0.053213</td>\n",
       "      <td>-0.010382</td>\n",
       "      <td>-0.338597</td>\n",
       "      <td>1</td>\n",
       "      <td>-5.652078</td>\n",
       "    </tr>\n",
       "  </tbody>\n",
       "</table>\n",
       "<p>5 rows × 22 columns</p>\n",
       "</div>"
      ],
      "text/plain": [
       "         X0        X1        X2        X3        X4        X5        X6  \\\n",
       "0 -1.000000 -0.020594  0.701956 -0.064443  0.375095  0.566099 -0.305858   \n",
       "1 -0.249073  0.357047  0.177678  0.191733  0.213936 -0.010088  0.427052   \n",
       "2  0.222885  0.805674  0.191778 -0.591752  0.856882 -0.655442 -0.098530   \n",
       "3  0.619767  0.165612  0.261199  0.361295 -0.576283 -0.112146  0.834105   \n",
       "4 -0.042341 -0.011985 -0.355558  0.080649 -0.056982 -0.344343  0.019716   \n",
       "\n",
       "         X7        X8        X9  ...       X12       X13       X14       X15  \\\n",
       "0 -0.266587  0.057396 -0.140334  ...  0.484390  1.000000 -0.317442 -0.526814   \n",
       "1 -0.008819 -0.183767  0.104171  ... -0.149353 -0.381056 -0.471131 -0.006880   \n",
       "2  0.554750  0.598257 -0.615229  ...  0.279626 -0.682472  0.147902 -0.039789   \n",
       "3  0.305694 -1.000000  0.906447  ...  0.153546  0.925483  0.172513  0.005651   \n",
       "4 -0.424021  0.257232  0.223493  ... -0.234609 -0.028088 -0.364627  0.061930   \n",
       "\n",
       "        X16       X17       X18       X19  T          Y  \n",
       "0  0.836588 -0.241627 -0.780224 -0.208295  0 -15.416195  \n",
       "1  0.382528 -0.602879 -0.543004  0.339047  1   7.196446  \n",
       "2 -0.511908 -0.938535 -0.210260  0.110671  0   5.808381  \n",
       "3  0.546508  0.082278  0.442222  0.274761  0  10.726668  \n",
       "4  0.154578 -0.053213 -0.010382 -0.338597  1  -5.652078  \n",
       "\n",
       "[5 rows x 22 columns]"
      ]
     },
     "execution_count": 8,
     "metadata": {},
     "output_type": "execute_result"
    }
   ],
   "source": [
    "# observed_data, unobservable_data = generate_hybrid_data(prop_score=0.01)\n",
    "observed_data, unobservable_data = generate_original_data(\n",
    "    prop_score=0.5, n_observations=int(1e2))\n",
    "observed_data.head()"
   ]
  },
  {
   "cell_type": "code",
   "execution_count": 9,
   "metadata": {},
   "outputs": [
    {
     "data": {
      "text/html": [
       "<div>\n",
       "<style scoped>\n",
       "    .dataframe tbody tr th:only-of-type {\n",
       "        vertical-align: middle;\n",
       "    }\n",
       "\n",
       "    .dataframe tbody tr th {\n",
       "        vertical-align: top;\n",
       "    }\n",
       "\n",
       "    .dataframe thead th {\n",
       "        text-align: right;\n",
       "    }\n",
       "</style>\n",
       "<table border=\"1\" class=\"dataframe\">\n",
       "  <thead>\n",
       "    <tr style=\"text-align: right;\">\n",
       "      <th></th>\n",
       "      <th>TE</th>\n",
       "      <th>NOISE(Y)</th>\n",
       "      <th>Y0</th>\n",
       "      <th>Y1</th>\n",
       "      <th>P(T|X)</th>\n",
       "    </tr>\n",
       "  </thead>\n",
       "  <tbody>\n",
       "    <tr>\n",
       "      <th>0</th>\n",
       "      <td>0.0</td>\n",
       "      <td>0.585928</td>\n",
       "      <td>-15.416195</td>\n",
       "      <td>-15.416195</td>\n",
       "      <td>0.5</td>\n",
       "    </tr>\n",
       "    <tr>\n",
       "      <th>1</th>\n",
       "      <td>8.0</td>\n",
       "      <td>0.681690</td>\n",
       "      <td>-0.803554</td>\n",
       "      <td>7.196446</td>\n",
       "      <td>0.5</td>\n",
       "    </tr>\n",
       "    <tr>\n",
       "      <th>2</th>\n",
       "      <td>8.0</td>\n",
       "      <td>-1.119315</td>\n",
       "      <td>5.808381</td>\n",
       "      <td>13.808381</td>\n",
       "      <td>0.5</td>\n",
       "    </tr>\n",
       "    <tr>\n",
       "      <th>3</th>\n",
       "      <td>8.0</td>\n",
       "      <td>-0.135222</td>\n",
       "      <td>10.726668</td>\n",
       "      <td>18.726668</td>\n",
       "      <td>0.5</td>\n",
       "    </tr>\n",
       "    <tr>\n",
       "      <th>4</th>\n",
       "      <td>0.0</td>\n",
       "      <td>-0.588967</td>\n",
       "      <td>-5.652078</td>\n",
       "      <td>-5.652078</td>\n",
       "      <td>0.5</td>\n",
       "    </tr>\n",
       "  </tbody>\n",
       "</table>\n",
       "</div>"
      ],
      "text/plain": [
       "    TE  NOISE(Y)         Y0         Y1  P(T|X)\n",
       "0  0.0  0.585928 -15.416195 -15.416195     0.5\n",
       "1  8.0  0.681690  -0.803554   7.196446     0.5\n",
       "2  8.0 -1.119315   5.808381  13.808381     0.5\n",
       "3  8.0 -0.135222  10.726668  18.726668     0.5\n",
       "4  0.0 -0.588967  -5.652078  -5.652078     0.5"
      ]
     },
     "execution_count": 9,
     "metadata": {},
     "output_type": "execute_result"
    }
   ],
   "source": [
    "unobservable_data.head()"
   ]
  },
  {
   "cell_type": "markdown",
   "metadata": {},
   "source": [
    "## Model Code"
   ]
  },
  {
   "cell_type": "code",
   "execution_count": 10,
   "metadata": {},
   "outputs": [],
   "source": [
    "def build_mlp():\n",
    "    return MLPRegressor(\n",
    "        hidden_layer_sizes=(50, 25, 10),\n",
    "        activation='relu',\n",
    "        solver='adam',\n",
    "        batch_size='auto',\n",
    "        learning_rate='constant',\n",
    "        learning_rate_init=0.001,\n",
    "        power_t=0.5,\n",
    "        max_iter=1000,\n",
    "        shuffle=True,\n",
    "        random_state=1,\n",
    "        tol=0.0001,\n",
    "        verbose=False,\n",
    "        warm_start=False,\n",
    "        early_stopping=True,\n",
    "        validation_fraction=0.10,\n",
    "        epsilon=1e-08,\n",
    "        n_iter_no_change=5)\n",
    "\n",
    "def build_reg_forest():\n",
    "    return RandomForestRegressor(n_estimators=30)"
   ]
  },
  {
   "cell_type": "code",
   "execution_count": 11,
   "metadata": {},
   "outputs": [],
   "source": [
    "def scikit_T_learner(model_builder, data):\n",
    "    treated_data, control_data = extract_treat_and_control_data(\n",
    "        data, data[\"T\"])\n",
    "    \n",
    "    # train u1\n",
    "    u1 = model_builder()\n",
    "    X_treated = treated_data.drop([\"T\", \"Y\"], axis=1)\n",
    "    u1.fit(X_treated, treated_data[\"Y\"])\n",
    "    \n",
    "    # train u0\n",
    "    u0 = model_builder()\n",
    "    X_control = control_data.drop([\"T\", \"Y\"], axis=1)\n",
    "    u0.fit(X_control, control_data[\"Y\"])\n",
    "    \n",
    "    # Generate potential outcome predictions\n",
    "    X = data.drop([\"T\", \"Y\"], axis=1)\n",
    "    y_1_predicted = u1.predict(X)\n",
    "    y_0_predicted = u0.predict(X)\n",
    "    \n",
    "    ITE_pred = y_1_predicted - y_0_predicted\n",
    "    \n",
    "    return ITE_pred, u1, u0"
   ]
  },
  {
   "cell_type": "code",
   "execution_count": 12,
   "metadata": {},
   "outputs": [],
   "source": [
    "def scikit_S_learner(model_builder, data):\n",
    "    # train u1\n",
    "    u = model_builder()\n",
    "    X = data.drop(\"Y\", axis=1)\n",
    "    u.fit(X, data[\"Y\"])\n",
    "    \n",
    "    # Generate potential outcomes\n",
    "    X_under_treatment = X.copy()\n",
    "    X_under_treatment[\"T\"] = 1\n",
    "    \n",
    "    X_under_control = X.copy()\n",
    "    X_under_control[\"T\"] = 0\n",
    "    \n",
    "    y_1_predicted = u.predict(X_under_treatment)\n",
    "    y_0_predicted = u.predict(X_under_control)\n",
    "    y_1_predicted - y_0_predicted\n",
    "    \n",
    "    ITE_pred = y_1_predicted - y_0_predicted\n",
    "    \n",
    "    return  ITE_pred"
   ]
  },
  {
   "cell_type": "code",
   "execution_count": 13,
   "metadata": {},
   "outputs": [],
   "source": [
    "def scikit_X_learner(model_builder, data, prop_score, u1=None, u0=None):\n",
    "    treated_data, control_data = extract_treat_and_control_data(\n",
    "        data, data[\"T\"])\n",
    "    X_treated = treated_data.drop([\"T\", \"Y\"], axis=1)\n",
    "    X_control = control_data.drop([\"T\", \"Y\"], axis=1)\n",
    "\n",
    "    if u1 is None:\n",
    "        # train u1\n",
    "        u1 = model_builder()\n",
    "        u1.fit(X_treated, treated_data[\"Y\"])\n",
    "    \n",
    "    if u0 is None:\n",
    "        # train u0\n",
    "        u0 = model_builder()\n",
    "        u0.fit(X_control, control_data[\"Y\"])\n",
    "    \n",
    "    # Find individual treatment effects for treated/controls\n",
    "    itet = treated_data[\"Y\"] - u0.predict(X_treated)\n",
    "    itec =  u1.predict(X_control) - control_data[\"Y\"]\n",
    "    \n",
    "    # Fit models to the treated and controls\n",
    "    te1 = model_builder()\n",
    "    te1.fit(X_treated, itet)\n",
    "    \n",
    "    te0 = model_builder()\n",
    "    te0.fit(X_control, itec)\n",
    "    \n",
    "    X = data.drop([\"T\", \"Y\"], axis=1)\n",
    "    te1_predicted = te1.predict(X)\n",
    "    te0_predicted = te0.predict(X)\n",
    "    \n",
    "    # Estimate prop scores\n",
    "#     lm = LogisticRegression(solver=\"lbfgs\")\n",
    "#     lm.fit(X, data[\"T\"])\n",
    "#     prop_scores = lm.predict(X)\n",
    "    \n",
    "    # Down-weight observes which are likely to belong\n",
    "    # to other class.\n",
    "    te = prop_score*te0_predicted + (1-prop_score)*te1_predicted\n",
    "    \n",
    "    return te"
   ]
  },
  {
   "cell_type": "markdown",
   "metadata": {},
   "source": [
    "## Experiment Code"
   ]
  },
  {
   "cell_type": "code",
   "execution_count": 14,
   "metadata": {},
   "outputs": [],
   "source": [
    "def score_ITE(ITE_true, ITE_pred):\n",
    "    return np.mean((ITE_true-ITE_pred)**2)"
   ]
  },
  {
   "cell_type": "code",
   "execution_count": 15,
   "metadata": {},
   "outputs": [],
   "source": [
    "def evaluate_scikit_learners(model_builder, observed_data, unobservable_data):\n",
    "    ITE_true = unobservable_data[\"TE\"]\n",
    "    prop_score_true = unobservable_data[\"P(T|X)\"]\n",
    "    \n",
    "    # T learner\n",
    "    ITE_pred, u1, u0 = scikit_T_learner(model_builder, observed_data)\n",
    "    T_loss = score_ITE(ITE_true, ITE_pred)\n",
    "    \n",
    "    # S learner\n",
    "    ITE_pred = scikit_S_learner(model_builder, observed_data)\n",
    "    S_loss = score_ITE(ITE_true, ITE_pred)\n",
    "    \n",
    "    # X learner\n",
    "    ITE_pred = scikit_X_learner(model_builder, observed_data, prop_score_true, u1, u0)\n",
    "    X_loss = score_ITE(ITE_true, ITE_pred)\n",
    "    \n",
    "    return T_loss, S_loss, X_loss"
   ]
  },
  {
   "cell_type": "code",
   "execution_count": 16,
   "metadata": {},
   "outputs": [
    {
     "name": "stdout",
     "output_type": "stream",
     "text": [
      "CPU times: user 240 ms, sys: 0 ns, total: 240 ms\n",
      "Wall time: 241 ms\n"
     ]
    },
    {
     "data": {
      "text/plain": [
       "(19.967143476003944, 40.05180803971196, 10.57191173061809)"
      ]
     },
     "execution_count": 16,
     "metadata": {},
     "output_type": "execute_result"
    }
   ],
   "source": [
    "learner_func = partial(evaluate_scikit_learners, build_reg_forest)\n",
    "%time learner_func(observed_data, unobservable_data)"
   ]
  },
  {
   "cell_type": "code",
   "execution_count": 17,
   "metadata": {},
   "outputs": [],
   "source": [
    "def evaluate_htree_learners2(observed_data, unobservable_data):\n",
    "    '''\n",
    "    Python-based HTE, train-test split.\n",
    "    '''\n",
    "    ITE_true = unobservable_data[\"TE\"].to_numpy()\n",
    "\n",
    "    X = observed_data.drop([\"Y\", \"T\"], axis=1).to_numpy()\n",
    "    y = observed_data[\"Y\"].to_numpy()\n",
    "    t = observed_data[\"T\"].to_numpy()\n",
    "    \n",
    "    X_train, X_test, y_train, y_test, t_train, t_test, te_train, te_test = \\\n",
    "        train_test_split(\n",
    "            X, y, t, ITE_true,\n",
    "            stratify=t,\n",
    "            test_size=0.2, random_state=42)\n",
    "    \n",
    "    d = {'mu.forestry': 'mu_forestry'}\n",
    "    ct = importr('causalToolbox', robject_translations=d)\n",
    "    threads = 15\n",
    "    \n",
    "    t_train = IntVector(t_train)\n",
    "    y_train = FloatVector(y_train)\n",
    "\n",
    "    # T learner\n",
    "    tl_rf = ct.T_RF(feat=X_train, tr=t_train, yobs=y_train, nthread=threads)\n",
    "    T_cate_rf = ct.EstimateCate(tl_rf, X_test)\n",
    "    T_loss = score_ITE(te_test, np.array(T_cate_rf))\n",
    "    \n",
    "    # S learner\n",
    "    sl_rf = ct.S_BART(feat=X_train, tr=t_train, yobs=y_train,\n",
    "                      nthread=threads)\n",
    "    S_cate_rf = ct.EstimateCate(sl_rf, X_test)\n",
    "    S_loss = score_ITE(te_test, np.array(S_cate_rf))\n",
    "    \n",
    "    # X learner\n",
    "    xl_rf = ct.X_BART(feat=X_train, tr=t_train, yobs=y_train,\n",
    "                      nthread=threads)\n",
    "    X_cate_rf = ct.EstimateCate(xl_rf, X_test)\n",
    "    X_loss = score_ITE(te_test, np.array(X_cate_rf))\n",
    "    \n",
    "    return T_loss, S_loss, X_loss"
   ]
  },
  {
   "cell_type": "code",
   "execution_count": 18,
   "metadata": {},
   "outputs": [],
   "source": [
    "def evaluate_htree_learners3(observed_data, unobservable_data):\n",
    "    '''\n",
    "    Python-based HTE, NO train-test split.\n",
    "    '''\n",
    "    \n",
    "    ITE_true = unobservable_data[\"TE\"].to_numpy()\n",
    "\n",
    "    X = observed_data.drop([\"Y\", \"T\"], axis=1).to_numpy()\n",
    "    y = FloatVector(observed_data[\"Y\"].to_numpy())\n",
    "    t = IntVector(observed_data[\"T\"].to_numpy())\n",
    "\n",
    "    ct = importr('causalToolbox')\n",
    "    threads = 15\n",
    "\n",
    "    # T learner\n",
    "    tl_rf = ct.T_RF(feat=X, tr=t, yobs=y, nthread=threads)\n",
    "    T_cate_rf = ct.EstimateCate(tl_rf, X)\n",
    "    T_loss = score_ITE(ITE_true, np.array(T_cate_rf))\n",
    "    \n",
    "    # S learner\n",
    "    sl_rf = ct.S_RF(feat=X, tr=t, yobs=y,\n",
    "                      nthread=threads)\n",
    "    S_cate_rf = ct.EstimateCate(sl_rf, X)\n",
    "    S_loss = score_ITE(ITE_true, np.array(S_cate_rf))\n",
    "    \n",
    "    # X learner\n",
    "    xl_rf = ct.X_RF(feat=X, tr=t, yobs=y,\n",
    "                      nthread=threads)\n",
    "    X_cate_rf = ct.EstimateCate(xl_rf, X)\n",
    "    X_loss = score_ITE(ITE_true, np.array(X_cate_rf))\n",
    "    \n",
    "    return T_loss, S_loss, X_loss"
   ]
  },
  {
   "cell_type": "code",
   "execution_count": 26,
   "metadata": {},
   "outputs": [
    {
     "name": "stdout",
     "output_type": "stream",
     "text": [
      "CPU times: user 4.04 s, sys: 308 ms, total: 4.35 s\n",
      "Wall time: 1.03 s\n"
     ]
    },
    {
     "data": {
      "text/plain": [
       "(3.949935852594812, 17.131452188664213, 5.68588020017316)"
      ]
     },
     "execution_count": 26,
     "metadata": {},
     "output_type": "execute_result"
    }
   ],
   "source": [
    "%time evaluate_htree_learners(observed_data, unobservable_data)"
   ]
  },
  {
   "cell_type": "code",
   "execution_count": 80,
   "metadata": {},
   "outputs": [],
   "source": [
    "from rpy2.robjects.packages import SignatureTranslatedAnonymousPackage\n",
    "\n",
    "with open(\"R Code/honest_trees.R\", \"r\") as prog:\n",
    "    R_prog = ''.join(prog.readlines())\n",
    "    HonestTrees = SignatureTranslatedAnonymousPackage(R_prog, \"HonestTrees\")\n",
    "    \n",
    "def evaluate_htree_learners(observed_data, unobservable_data):\n",
    "    '''\n",
    "    R-based HTE, NO train-test split.\n",
    "    '''\n",
    "    tau = unobservable_data[\"TE\"].to_numpy()\n",
    "    X = observed_data.drop([\"Y\", \"T\"], axis=1).to_numpy()\n",
    "    y = observed_data[\"Y\"].to_numpy()\n",
    "    t = observed_data[\"T\"].to_numpy()\n",
    "    \n",
    "    X_train, X_test, y_train, _, t_train, _, _, tau_test = \\\n",
    "        train_test_split(\n",
    "            X, y, t, tau,\n",
    "            stratify=t,\n",
    "            test_size=0.2, random_state=42)\n",
    "    \n",
    "    ITE_true = unobservable_data[\"TE\"].to_numpy()\n",
    "    y_train = FloatVector(y_train)\n",
    "    t_train = IntVector(t_train)\n",
    "    tau_test = FloatVector(tau_test)\n",
    "    return tuple(HonestTrees.HRF_learners(\n",
    "        X_train, y_train, t_train, X_test, tau_test, 7))"
   ]
  },
  {
   "cell_type": "code",
   "execution_count": 81,
   "metadata": {},
   "outputs": [],
   "source": [
    "def run_trial(trial_index, \n",
    "              data_gen_func,\n",
    "              learner_eval_func,\n",
    "              prop_score=0.5,\n",
    "              n_covars=20,\n",
    "              n_observations=50000):\n",
    "    \n",
    "    # Generate random data\n",
    "    observed_data, unobservable_data = data_gen_func(\n",
    "        prop_score=prop_score,\n",
    "        n_covars=n_covars,\n",
    "        n_observations=n_observations)\n",
    "    \n",
    "    # Train and evaluate learners and get loss for T, S, and X.\n",
    "    learner_losses = learner_eval_func(observed_data, unobservable_data)\n",
    "    \n",
    "    return trial_index, learner_losses"
   ]
  },
  {
   "cell_type": "code",
   "execution_count": 82,
   "metadata": {
    "scrolled": true
   },
   "outputs": [],
   "source": [
    "def run_experiment(data_gen_func, learner_func, prop_score,\n",
    "                   N_obs_levels, N_trials,\n",
    "                   exec_pool):\n",
    "    results = []\n",
    "    for n_obs in N_obs_levels:\n",
    "        print(f\"Running at N={n_obs}. Percent done:\", end=\" \")\n",
    "        \n",
    "        trial_func = partial(run_trial,\n",
    "            data_gen_func=data_gen_func,\n",
    "            learner_eval_func=learner_func,\n",
    "            prop_score=prop_score,\n",
    "            n_observations=n_obs)\n",
    "\n",
    "        trial_results = []\n",
    "\n",
    "        completed_trial_count = 0\n",
    "        if exec_pool is not None:\n",
    "            for _, result_row in exec_pool.imap_unordered(trial_func, range(N_trials)):\n",
    "                trial_results.append(result_row)\n",
    "                completed_trial_count += 1\n",
    "                incomplete = N_trials - completed_trial_count\n",
    "                print(int(100*completed_trial_count/N_trials), end=\" \")\n",
    "        else:\n",
    "            for i in range(N_trials):\n",
    "                _, result_row = trial_func(i)\n",
    "                trial_results.append(result_row)\n",
    "                completed_trial_count += 1\n",
    "                incomplete = N_trials - completed_trial_count\n",
    "                print(int(100*completed_trial_count/N_trials), end=\" \")\n",
    "    \n",
    "        trial_results = np.array(trial_results)\n",
    "        results.append(np.mean(trial_results, axis=0))\n",
    "        print(\"\")\n",
    "        \n",
    "    return results"
   ]
  },
  {
   "cell_type": "code",
   "execution_count": 95,
   "metadata": {},
   "outputs": [
    {
     "data": {
      "text/plain": [
       "array([  1000,   3162,  10000,  31622, 100000, 316227])"
      ]
     },
     "execution_count": 95,
     "metadata": {},
     "output_type": "execute_result"
    }
   ],
   "source": [
    "N_obs_levels = np.logspace(3, 5.5, 6).astype(int)\n",
    "\n",
    "eval_funcs = {\n",
    "    \"regression_forest\": partial(evaluate_scikit_learners, build_reg_forest),\n",
    "    \"MLP\": partial(evaluate_scikit_learners, build_mlp),\n",
    "    \"Honest Forest\": evaluate_htree_learners\n",
    "}\n",
    "\n",
    "conf = {\n",
    "    \"data_gen_func\": generate_original_data,\n",
    "    \"learner_func\": eval_funcs[\"Honest Forest\"],\n",
    "    \"prop_score\": 0.01,\n",
    "    \"N_obs_levels\": N_obs_levels,\n",
    "    \"N_trials\": 20\n",
    "}\n",
    "\n",
    "N_obs_levels"
   ]
  },
  {
   "cell_type": "code",
   "execution_count": 84,
   "metadata": {},
   "outputs": [
    {
     "name": "stdout",
     "output_type": "stream",
     "text": [
      "Running at N=1000. Percent done: 5 10 15 20 25 30 35 40 45 50 55 60 65 70 75 80 85 90 95 100 \n",
      "Running at N=3162. Percent done: 5 10 15 20 25 30 35 40 45 50 55 60 65 70 75 80 85 90 95 100 \n",
      "Running at N=10000. Percent done: 5 10 15 20 25 30 35 40 45 50 55 60 65 70 75 80 85 90 95 100 \n",
      "Running at N=31622. Percent done: 5 10 15 20 25 30 35 40 45 50 55 60 65 70 75 80 85 90 95 100 \n",
      "Running at N=100000. Percent done: 5 10 15 20 25 30 35 40 45 50 55 60 65 70 75 80 85 90 95 100 \n",
      "Running at N=316227. Percent done: 5 10 15 20 25 30 35 40 45 50 55 60 65 70 75 80 85 90 95 100 \n",
      "CPU times: user 18h 1min 57s, sys: 4min 36s, total: 18h 6min 33s\n",
      "Wall time: 2h 52min 6s\n"
     ]
    }
   ],
   "source": [
    "%%time\n",
    "\n",
    "\n",
    "parallel = False\n",
    "if parallel:\n",
    "    with Pool(processes=7) as pool:\n",
    "        results = run_experiment(\n",
    "                    \n",
    "                    exec_pool=pool)\n",
    "\n",
    "else:\n",
    "    results = run_experiment(generate_original_data,\n",
    "                             eval_funcs[\"Honest Forest\"],\n",
    "                             prop_score=0.01,\n",
    "                             N_obs_levels=N_obs_levels,\n",
    "                             N_trials=20,\n",
    "                             exec_pool=None)"
   ]
  },
  {
   "cell_type": "code",
   "execution_count": 90,
   "metadata": {},
   "outputs": [
    {
     "data": {
      "image/png": "[encoded data removed]",
      "text/plain": [
       "<Figure size 432x288 with 1 Axes>"
      ]
     },
     "metadata": {
      "needs_background": "light"
     },
     "output_type": "display_data"
    }
   ],
   "source": [
    "results = np.array(results)\n",
    "names = [\"T learner\", \"S learner\", \"X learner\"]\n",
    "for i, name in enumerate(names):\n",
    "    plt.scatter((N_obs_levels), np.log(results[:, i]), label=name)\n",
    "    plt.plot((N_obs_levels), np.log(results[:, i]))\n",
    "\n",
    "plt.legend()\n",
    "plt.show()"
   ]
  },
  {
   "cell_type": "code",
   "execution_count": 86,
   "metadata": {},
   "outputs": [
    {
     "data": {
      "image/png": "[encoded data removed]",
      "text/plain": [
       "<Figure size 432x288 with 1 Axes>"
      ]
     },
     "metadata": {
      "needs_background": "light"
     },
     "output_type": "display_data"
    }
   ],
   "source": [
    "results = np.array(results)\n",
    "names = [\"T learner\", \"S learner\", \"X learner\"]\n",
    "for i, name in enumerate(names):\n",
    "    plt.scatter(np.log(N_obs_levels), np.log(results[:, i]), label=name)\n",
    "\n",
    "plt.legend()\n",
    "plt.show()"
   ]
  },
  {
   "cell_type": "code",
   "execution_count": 91,
   "metadata": {},
   "outputs": [],
   "source": [
    "import pickle\n",
    "results = {\n",
    "    \n",
    "}\n",
    "name = \n",
    "pickle.dump()"
   ]
  }
 ],
 "metadata": {
  "kernelspec": {
   "display_name": "Python 3",
   "language": "python",
   "name": "python3"
  },
  "language_info": {
   "codemirror_mode": {
    "name": "ipython",
    "version": 3
   },
   "file_extension": ".py",
   "mimetype": "text/x-python",
   "name": "python",
   "nbconvert_exporter": "python",
   "pygments_lexer": "ipython3",
   "version": "3.7.3"
  },
  "varInspector": {
   "cols": {
    "lenName": 16,
    "lenType": 16,
    "lenVar": 40
   },
   "kernels_config": {
    "python": {
     "delete_cmd_postfix": "",
     "delete_cmd_prefix": "del ",
     "library": "var_list.py",
     "varRefreshCmd": "print(var_dic_list())"
    },
    "r": {
     "delete_cmd_postfix": ") ",
     "delete_cmd_prefix": "rm(",
     "library": "var_list.r",
     "varRefreshCmd": "cat(var_dic_list()) "
    }
   },
   "types_to_exclude": [
    "module",
    "function",
    "builtin_function_or_method",
    "instance",
    "_Feature"
   ],
   "window_display": false
  }
 },
 "nbformat": 4,
 "nbformat_minor": 2
}
