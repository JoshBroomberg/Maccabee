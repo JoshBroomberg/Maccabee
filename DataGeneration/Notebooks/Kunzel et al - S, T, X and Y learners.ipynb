{
 "cells": [
  {
   "cell_type": "code",
   "execution_count": 2,
   "metadata": {},
   "outputs": [
    {
     "name": "stdout",
     "output_type": "stream",
     "text": [
      "Obtaining file:///home/jovyan/work/CauseML\n",
      "Requirement already satisfied: numpy in /opt/conda/lib/python3.7/site-packages (from cause-ml==0.0.11) (1.17.3)\n",
      "Requirement already satisfied: pandas in /opt/conda/lib/python3.7/site-packages (from cause-ml==0.0.11) (0.25.3)\n",
      "Requirement already satisfied: scipy in /opt/conda/lib/python3.7/site-packages (from cause-ml==0.0.11) (1.3.2)\n",
      "Requirement already satisfied: sympy in /opt/conda/lib/python3.7/site-packages (from cause-ml==0.0.11) (1.4)\n",
      "Collecting POT\n",
      "\u001b[?25l  Downloading https://files.pythonhosted.org/packages/51/97/f33e927aa83e5034f962d2be035d321c82a2b4bfc24279325c98188300c3/POT-0.6.0-cp37-cp37m-manylinux1_x86_64.whl (305kB)\n",
      "\u001b[K     |████████████████████████████████| 307kB 3.5MB/s eta 0:00:01\n",
      "\u001b[?25hRequirement already satisfied: pyyaml in /opt/conda/lib/python3.7/site-packages (from cause-ml==0.0.11) (5.1.2)\n",
      "Requirement already satisfied: python-dateutil>=2.6.1 in /opt/conda/lib/python3.7/site-packages (from pandas->cause-ml==0.0.11) (2.8.0)\n",
      "Requirement already satisfied: pytz>=2017.2 in /opt/conda/lib/python3.7/site-packages (from pandas->cause-ml==0.0.11) (2019.3)\n",
      "Requirement already satisfied: mpmath>=0.19 in /opt/conda/lib/python3.7/site-packages (from sympy->cause-ml==0.0.11) (1.1.0)\n",
      "Requirement already satisfied: cython in /opt/conda/lib/python3.7/site-packages (from POT->cause-ml==0.0.11) (0.29.14)\n",
      "Requirement already satisfied: six>=1.5 in /opt/conda/lib/python3.7/site-packages (from python-dateutil>=2.6.1->pandas->cause-ml==0.0.11) (1.13.0)\n",
      "Installing collected packages: POT, cause-ml\n",
      "  Running setup.py develop for cause-ml\n",
      "Successfully installed POT-0.6.0 cause-ml\n"
     ]
    }
   ],
   "source": [
    "!pip install -e ../CauseML"
   ]
  },
  {
   "cell_type": "code",
   "execution_count": 14,
   "metadata": {},
   "outputs": [],
   "source": [
    "from cause_ml.parameters import build_parameters_from_metric_levels\n",
    "from cause_ml.constants import Constants\n",
    "from cause_ml.data_generation import DataGeneratingProcessWrapper\n",
    "import cause_ml.data_sources as data_sources\n",
    "from cause_ml.utilities import extract_treat_and_control_data, random_covar_matrix"
   ]
  },
  {
   "cell_type": "code",
   "execution_count": 15,
   "metadata": {},
   "outputs": [],
   "source": [
    "from sklearn.neural_network import MLPRegressor\n",
    "from sklearn.tree import DecisionTreeRegressor\n",
    "from sklearn.ensemble import RandomForestRegressor\n",
    "from sklearn.linear_model import LogisticRegression\n",
    "from sklearn.metrics import mean_squared_error as mse\n",
    "from sklearn.model_selection import train_test_split"
   ]
  },
  {
   "cell_type": "code",
   "execution_count": 16,
   "metadata": {},
   "outputs": [],
   "source": [
    "import matplotlib.pyplot as plt\n",
    "import numpy as np\n",
    "import pandas as pd\n",
    "from functools import partial\n",
    "from multiprocessing import Pool\n",
    "from IPython.display import clear_output\n",
    "import time as timer"
   ]
  },
  {
   "cell_type": "code",
   "execution_count": 17,
   "metadata": {},
   "outputs": [],
   "source": [
    "import rpy2\n",
    "from rpy2 import robjects\n",
    "from rpy2.robjects.packages import importr\n",
    "from rpy2.robjects import numpy2ri\n",
    "from rpy2.robjects import IntVector, FloatVector, Matrix, ListVector\n",
    "numpy2ri.activate()"
   ]
  },
  {
   "cell_type": "code",
   "execution_count": 18,
   "metadata": {},
   "outputs": [],
   "source": [
    "from IPython.core.debugger import set_trace"
   ]
  },
  {
   "cell_type": "markdown",
   "metadata": {},
   "source": [
    "## Data Generation Code"
   ]
  },
  {
   "cell_type": "code",
   "execution_count": 19,
   "metadata": {},
   "outputs": [],
   "source": [
    "PARTIAL_CORRELATION_DEG = 0.1"
   ]
  },
  {
   "cell_type": "code",
   "execution_count": 20,
   "metadata": {},
   "outputs": [],
   "source": [
    "def generate_original_data(\n",
    "    prop_score=0.5,\n",
    "    n_covars=20,\n",
    "    n_observations=50000):\n",
    "    \n",
    "    covariance_matrix = random_covar_matrix(\n",
    "        dimension=n_covars,\n",
    "        correlation_deg=PARTIAL_CORRELATION_DEG)\n",
    "\n",
    "    # Generate random covariates\n",
    "    covar_data = np.random.multivariate_normal(\n",
    "        mean=np.full((n_covars,), 0),\n",
    "        cov=covariance_matrix,\n",
    "        size=n_observations)\n",
    "    \n",
    "    outcome_coeffs = np.random.uniform(-5, 5, size=20)\n",
    "    \n",
    "    noise = np.random.normal(size=n_observations)\n",
    "    Y0 = (covar_data @ outcome_coeffs) + \\\n",
    "        5*((covar_data[:, 0] > 0.5).astype(int)) + \\\n",
    "        noise\n",
    "    Y1 = Y0 + 8*((covar_data[:, 1] > 0.1).astype(int))\n",
    "    \n",
    "    TE = Y1 - Y0\n",
    "    T = (np.random.uniform(0, 1, size=n_observations) < prop_score).astype(int)\n",
    "    Y = T*Y1 + (1-T)*Y0\n",
    "    \n",
    "    obs_data = pd.DataFrame(data=covar_data)\n",
    "    obs_data[\"T\"] = T\n",
    "    obs_data[\"Y\"] = Y\n",
    "    \n",
    "    oracle_data = pd.DataFrame({\n",
    "        \"TE\": TE,\n",
    "        \"NOISE(Y)\": noise,\n",
    "        \"Y0\": Y0,\n",
    "        \"Y1\": Y1,\n",
    "        \"P(T|X)\": prop_score\n",
    "    })\n",
    "    \n",
    "    return obs_data, oracle_data"
   ]
  },
  {
   "cell_type": "code",
   "execution_count": 21,
   "metadata": {},
   "outputs": [],
   "source": [
    "def generate_original_data_with_normalized_base(\n",
    "    prop_score=0.5,\n",
    "    n_covars=20,\n",
    "    n_observations=50000):\n",
    "    \n",
    "    covar_data_source = data_sources.load_random_normal_covariates(\n",
    "        n_covars=n_covars,\n",
    "        n_observations=n_observations,\n",
    "        partial_correlation_degree=PARTIAL_CORRELATION_DEG)\n",
    "    \n",
    "    covar_data = covar_data_source.original_covariate_data.to_numpy()\n",
    "    \n",
    "    outcome_coeffs = np.random.uniform(-5, 5, size=20)\n",
    "    \n",
    "    noise = np.random.normal(size=n_observations)\n",
    "    Y0 = (covar_data @ outcome_coeffs) + \\\n",
    "        5*((covar_data[:, 0] > 0.5).astype(int)) + \\\n",
    "        noise\n",
    "    Y1 = Y0 + 8*((covar_data[:, 1] > 0.1).astype(int))\n",
    "    \n",
    "    TE = Y1 - Y0\n",
    "    T = (np.random.uniform(0, 1, size=n_observations) < prop_score).astype(int)\n",
    "    Y = T*Y1 + (1-T)*Y0\n",
    "    \n",
    "    obs_data = covar_data_source.original_covariate_data.copy()\n",
    "    obs_data[\"T\"] = T\n",
    "    obs_data[\"Y\"] = Y\n",
    "    \n",
    "    oracle_data = pd.DataFrame({\n",
    "        \"TE\": TE,\n",
    "        \"NOISE(Y)\": noise,\n",
    "        \"Y0\": Y0,\n",
    "        \"Y1\": Y1,\n",
    "        \"P(T|X)\": prop_score\n",
    "    })\n",
    "    \n",
    "    return obs_data, oracle_data"
   ]
  },
  {
   "cell_type": "code",
   "execution_count": 22,
   "metadata": {},
   "outputs": [],
   "source": [
    "def generate_hybrid_data(\n",
    "    prop_score=0.5,\n",
    "    n_covars=20,\n",
    "    n_observations=50000):\n",
    "    \n",
    "    covar_data_source = data_sources.load_random_normal_covariates(\n",
    "        n_covars=n_covars,\n",
    "        n_observations=n_observations,\n",
    "        partial_correlation_degree=PARTIAL_CORRELATION_DEG)\n",
    "\n",
    "    dgp_params = build_parameters_from_metric_levels({\n",
    "        Constants.MetricNames.TREATMENT_NONLINEARITY: Constants.MetricLevels.LOW,\n",
    "        Constants.MetricNames.OUTCOME_NONLINEARITY: Constants.MetricLevels.LOW,\n",
    "        Constants.MetricNames.TE_HETEROGENEITY: Constants.MetricLevels.LOW\n",
    "    })\n",
    "    \n",
    "    dgp_params.set_parameter(\"MIN_PROPENSITY_SCORE\", 0.001)\n",
    "    dgp_params.set_parameter(\"MAX_PROPENSITY_SCORE\", 0.9999)\n",
    "    dgp_params.set_parameter(\"TREATMENT_EFFECT_HETEROGENEITY\", 0.05)\n",
    "    dgp_params.set_parameter(\"OUTCOME_NOISE_TAIL_THICKNESS\", 300)\n",
    "    dgp_params.set_parameter(\"TARGET_PROPENSITY_SCORE\", prop_score)\n",
    "    dgp_params.set_parameter(\"ACTUAL_CONFOUNDER_ALIGNMENT\", 0)\n",
    "    \n",
    "    dgp_params.set_parameter(\"TREAT_MECHANISM_COVARIATE_SELECTION_PROBABILITY\",\n",
    "                             {\n",
    "                                \"LINEAR\": 0,\n",
    "                                \"POLY_QUAD\": 0.0,\n",
    "                                \"POLY_CUBIC\": 0.0,\n",
    "                                \"STEP_JUMP\": 0,\n",
    "                                \"STEP_KINK\": 0,\n",
    "                                \"INTERACTION_TWO_WAY\": 0,\n",
    "                                \"INTERACTION_THREE_WAY\": 0\n",
    "                             })\n",
    "    dgp_params.set_parameter(\"OUTCOME_MECHANISM_COVARIATE_SELECTION_PROBABILITY\",\n",
    "                             {\n",
    "                                \"LINEAR\": 1,\n",
    "                                \"POLY_QUAD\": 0.0,\n",
    "                                \"POLY_CUBIC\": 0.0,\n",
    "                                \"STEP_JUMP\": 0.05,\n",
    "                                \"STEP_KINK\": 0,\n",
    "                                \"INTERACTION_TWO_WAY\": 0,\n",
    "                                \"INTERACTION_THREE_WAY\": 0\n",
    "                             })\n",
    "\n",
    "    dgp_wrapper = DataGeneratingProcessWrapper(\n",
    "        parameters=dgp_params, data_source=covar_data_source)\n",
    "    \n",
    "    \n",
    "    dgp_wrapper.sample_dgp()\n",
    "    print(dgp_wrapper.treatment_assignment_function)\n",
    "    _ = dgp_wrapper.generate_data()\n",
    "    \n",
    "    obs_data = dgp_wrapper.get_observed_data()\n",
    "    oracle_data = dgp_wrapper.get_oracle_data()\n",
    "    \n",
    "    return obs_data, oracle_data"
   ]
  },
  {
   "cell_type": "code",
   "execution_count": 23,
   "metadata": {},
   "outputs": [
    {
     "name": "stdout",
     "output_type": "stream",
     "text": [
      "-4.59511985013459\n",
      "-0.345000000000000\n",
      "0.00999999999999999\n"
     ]
    },
    {
     "ename": "AttributeError",
     "evalue": "'numpy.float64' object has no attribute 'where'",
     "output_type": "error",
     "traceback": [
      "\u001b[0;31m---------------------------------------------------------------------------\u001b[0m",
      "\u001b[0;31mAttributeError\u001b[0m                            Traceback (most recent call last)",
      "\u001b[0;32m<ipython-input-23-15c7b810d5b3>\u001b[0m in \u001b[0;36m<module>\u001b[0;34m\u001b[0m\n\u001b[0;32m----> 1\u001b[0;31m \u001b[0mobserved_data\u001b[0m\u001b[0;34m,\u001b[0m \u001b[0munobservable_data\u001b[0m \u001b[0;34m=\u001b[0m \u001b[0mgenerate_hybrid_data\u001b[0m\u001b[0;34m(\u001b[0m\u001b[0mprop_score\u001b[0m\u001b[0;34m=\u001b[0m\u001b[0;36m0.01\u001b[0m\u001b[0;34m)\u001b[0m\u001b[0;34m\u001b[0m\u001b[0;34m\u001b[0m\u001b[0m\n\u001b[0m\u001b[1;32m      2\u001b[0m \u001b[0;31m# observed_data, unobservable_data = generate_original_data(\u001b[0m\u001b[0;34m\u001b[0m\u001b[0;34m\u001b[0m\u001b[0;34m\u001b[0m\u001b[0m\n\u001b[1;32m      3\u001b[0m \u001b[0;31m#     prop_score=0.5, n_observations=int(1e2))\u001b[0m\u001b[0;34m\u001b[0m\u001b[0;34m\u001b[0m\u001b[0;34m\u001b[0m\u001b[0m\n\u001b[1;32m      4\u001b[0m \u001b[0mobserved_data\u001b[0m\u001b[0;34m.\u001b[0m\u001b[0mhead\u001b[0m\u001b[0;34m(\u001b[0m\u001b[0;34m)\u001b[0m\u001b[0;34m\u001b[0m\u001b[0;34m\u001b[0m\u001b[0m\n",
      "\u001b[0;32m<ipython-input-22-9063f5388a30>\u001b[0m in \u001b[0;36mgenerate_hybrid_data\u001b[0;34m(prop_score, n_covars, n_observations)\u001b[0m\n\u001b[1;32m     49\u001b[0m     \u001b[0mdgp_wrapper\u001b[0m\u001b[0;34m.\u001b[0m\u001b[0msample_dgp\u001b[0m\u001b[0;34m(\u001b[0m\u001b[0;34m)\u001b[0m\u001b[0;34m\u001b[0m\u001b[0;34m\u001b[0m\u001b[0m\n\u001b[1;32m     50\u001b[0m     \u001b[0mprint\u001b[0m\u001b[0;34m(\u001b[0m\u001b[0mdgp_wrapper\u001b[0m\u001b[0;34m.\u001b[0m\u001b[0mtreatment_assignment_function\u001b[0m\u001b[0;34m)\u001b[0m\u001b[0;34m\u001b[0m\u001b[0;34m\u001b[0m\u001b[0m\n\u001b[0;32m---> 51\u001b[0;31m     \u001b[0m_\u001b[0m \u001b[0;34m=\u001b[0m \u001b[0mdgp_wrapper\u001b[0m\u001b[0;34m.\u001b[0m\u001b[0mgenerate_data\u001b[0m\u001b[0;34m(\u001b[0m\u001b[0;34m)\u001b[0m\u001b[0;34m\u001b[0m\u001b[0;34m\u001b[0m\u001b[0m\n\u001b[0m\u001b[1;32m     52\u001b[0m \u001b[0;34m\u001b[0m\u001b[0m\n\u001b[1;32m     53\u001b[0m     \u001b[0mobs_data\u001b[0m \u001b[0;34m=\u001b[0m \u001b[0mdgp_wrapper\u001b[0m\u001b[0;34m.\u001b[0m\u001b[0mget_observed_data\u001b[0m\u001b[0;34m(\u001b[0m\u001b[0;34m)\u001b[0m\u001b[0;34m\u001b[0m\u001b[0;34m\u001b[0m\u001b[0m\n",
      "\u001b[0;32m~/work/CauseML/cause_ml/data_generation.py\u001b[0m in \u001b[0;36mgenerate_data\u001b[0;34m(self)\u001b[0m\n\u001b[1;32m    374\u001b[0m         \u001b[0mT\u001b[0m \u001b[0;34m=\u001b[0m \u001b[0;34m(\u001b[0m\u001b[0mnp\u001b[0m\u001b[0;34m.\u001b[0m\u001b[0mrandom\u001b[0m\u001b[0;34m.\u001b[0m\u001b[0muniform\u001b[0m\u001b[0;34m(\u001b[0m\u001b[0msize\u001b[0m\u001b[0;34m=\u001b[0m\u001b[0mn_observations\u001b[0m\u001b[0;34m)\u001b[0m \u001b[0;34m<\u001b[0m \u001b[0mpropensity_scores\u001b[0m\u001b[0;34m)\u001b[0m\u001b[0;34m.\u001b[0m\u001b[0mastype\u001b[0m\u001b[0;34m(\u001b[0m\u001b[0mint\u001b[0m\u001b[0;34m)\u001b[0m\u001b[0;34m\u001b[0m\u001b[0;34m\u001b[0m\u001b[0m\n\u001b[1;32m    375\u001b[0m \u001b[0;34m\u001b[0m\u001b[0m\n\u001b[0;32m--> 376\u001b[0;31m         \u001b[0;31m# Balance adjustment\u001b[0m\u001b[0;34m\u001b[0m\u001b[0;34m\u001b[0m\u001b[0;34m\u001b[0m\u001b[0m\n\u001b[0m\u001b[1;32m    377\u001b[0m         \u001b[0mcontrol_p_scores\u001b[0m \u001b[0;34m=\u001b[0m \u001b[0mpropensity_scores\u001b[0m\u001b[0;34m.\u001b[0m\u001b[0mwhere\u001b[0m\u001b[0;34m(\u001b[0m\u001b[0mT\u001b[0m \u001b[0;34m==\u001b[0m \u001b[0;36m0\u001b[0m\u001b[0;34m)\u001b[0m\u001b[0;34m\u001b[0m\u001b[0;34m\u001b[0m\u001b[0m\n\u001b[1;32m    378\u001b[0m         \u001b[0mtreat_p_scores\u001b[0m \u001b[0;34m=\u001b[0m \u001b[0mpropensity_scores\u001b[0m\u001b[0;34m.\u001b[0m\u001b[0mwhere\u001b[0m\u001b[0;34m(\u001b[0m\u001b[0mT\u001b[0m \u001b[0;34m==\u001b[0m \u001b[0;36m1\u001b[0m\u001b[0;34m)\u001b[0m\u001b[0;34m\u001b[0m\u001b[0;34m\u001b[0m\u001b[0m\n",
      "\u001b[0;31mAttributeError\u001b[0m: 'numpy.float64' object has no attribute 'where'"
     ]
    }
   ],
   "source": [
    "observed_data, unobservable_data = generate_hybrid_data(prop_score=0.01)\n",
    "# observed_data, unobservable_data = generate_original_data(\n",
    "#     prop_score=0.5, n_observations=int(1e2))\n",
    "observed_data.head()"
   ]
  },
  {
   "cell_type": "code",
   "execution_count": 12,
   "metadata": {},
   "outputs": [
    {
     "ename": "TypeError",
     "evalue": "'set' object is not subscriptable",
     "output_type": "error",
     "traceback": [
      "\u001b[0;31m---------------------------------------------------------------------------\u001b[0m",
      "\u001b[0;31mTypeError\u001b[0m                                 Traceback (most recent call last)",
      "\u001b[0;32m<ipython-input-12-01409989fc5d>\u001b[0m in \u001b[0;36m<module>\u001b[0;34m\u001b[0m\n\u001b[0;32m----> 1\u001b[0;31m \u001b[0;34m{\u001b[0m\u001b[0;36m1\u001b[0m\u001b[0;34m,\u001b[0m \u001b[0;36m2\u001b[0m\u001b[0;34m}\u001b[0m\u001b[0;34m[\u001b[0m\u001b[0;36m0\u001b[0m\u001b[0;34m]\u001b[0m\u001b[0;34m\u001b[0m\u001b[0;34m\u001b[0m\u001b[0m\n\u001b[0m",
      "\u001b[0;31mTypeError\u001b[0m: 'set' object is not subscriptable"
     ]
    }
   ],
   "source": [
    "{1, 2}[0]"
   ]
  },
  {
   "cell_type": "code",
   "execution_count": 12,
   "metadata": {},
   "outputs": [
    {
     "data": {
      "text/html": [
       "<div>\n",
       "<style scoped>\n",
       "    .dataframe tbody tr th:only-of-type {\n",
       "        vertical-align: middle;\n",
       "    }\n",
       "\n",
       "    .dataframe tbody tr th {\n",
       "        vertical-align: top;\n",
       "    }\n",
       "\n",
       "    .dataframe thead th {\n",
       "        text-align: right;\n",
       "    }\n",
       "</style>\n",
       "<table border=\"1\" class=\"dataframe\">\n",
       "  <thead>\n",
       "    <tr style=\"text-align: right;\">\n",
       "      <th></th>\n",
       "      <th>TE</th>\n",
       "      <th>NOISE(Y)</th>\n",
       "      <th>Y0</th>\n",
       "      <th>Y1</th>\n",
       "      <th>P(T|X)</th>\n",
       "    </tr>\n",
       "  </thead>\n",
       "  <tbody>\n",
       "    <tr>\n",
       "      <th>0</th>\n",
       "      <td>8.0</td>\n",
       "      <td>-0.148187</td>\n",
       "      <td>0.386404</td>\n",
       "      <td>8.386404</td>\n",
       "      <td>0.5</td>\n",
       "    </tr>\n",
       "    <tr>\n",
       "      <th>1</th>\n",
       "      <td>8.0</td>\n",
       "      <td>0.589123</td>\n",
       "      <td>22.458624</td>\n",
       "      <td>30.458624</td>\n",
       "      <td>0.5</td>\n",
       "    </tr>\n",
       "    <tr>\n",
       "      <th>2</th>\n",
       "      <td>0.0</td>\n",
       "      <td>-1.055405</td>\n",
       "      <td>-3.716526</td>\n",
       "      <td>-3.716526</td>\n",
       "      <td>0.5</td>\n",
       "    </tr>\n",
       "    <tr>\n",
       "      <th>3</th>\n",
       "      <td>8.0</td>\n",
       "      <td>0.586109</td>\n",
       "      <td>-10.598301</td>\n",
       "      <td>-2.598301</td>\n",
       "      <td>0.5</td>\n",
       "    </tr>\n",
       "    <tr>\n",
       "      <th>4</th>\n",
       "      <td>8.0</td>\n",
       "      <td>-0.518693</td>\n",
       "      <td>-10.499547</td>\n",
       "      <td>-2.499547</td>\n",
       "      <td>0.5</td>\n",
       "    </tr>\n",
       "  </tbody>\n",
       "</table>\n",
       "</div>"
      ],
      "text/plain": [
       "    TE  NOISE(Y)         Y0         Y1  P(T|X)\n",
       "0  8.0 -0.148187   0.386404   8.386404     0.5\n",
       "1  8.0  0.589123  22.458624  30.458624     0.5\n",
       "2  0.0 -1.055405  -3.716526  -3.716526     0.5\n",
       "3  8.0  0.586109 -10.598301  -2.598301     0.5\n",
       "4  8.0 -0.518693 -10.499547  -2.499547     0.5"
      ]
     },
     "execution_count": 12,
     "metadata": {},
     "output_type": "execute_result"
    }
   ],
   "source": [
    "unobservable_data.head()"
   ]
  },
  {
   "cell_type": "markdown",
   "metadata": {},
   "source": [
    "## Model Code"
   ]
  },
  {
   "cell_type": "code",
   "execution_count": 13,
   "metadata": {},
   "outputs": [],
   "source": [
    "def build_mlp():\n",
    "    return MLPRegressor(\n",
    "        hidden_layer_sizes=(50, 25, 10),\n",
    "        activation='relu',\n",
    "        solver='adam',\n",
    "        batch_size='auto',\n",
    "        learning_rate='constant',\n",
    "        learning_rate_init=0.001,\n",
    "        power_t=0.5,\n",
    "        max_iter=1000,\n",
    "        shuffle=True,\n",
    "        random_state=1,\n",
    "        tol=0.0001,\n",
    "        verbose=False,\n",
    "        warm_start=False,\n",
    "        early_stopping=True,\n",
    "        validation_fraction=0.10,\n",
    "        epsilon=1e-08,\n",
    "        n_iter_no_change=5)\n",
    "\n",
    "def build_reg_forest():\n",
    "    return RandomForestRegressor(n_estimators=30)"
   ]
  },
  {
   "cell_type": "code",
   "execution_count": 14,
   "metadata": {},
   "outputs": [],
   "source": [
    "def scikit_T_learner(model_builder, data):\n",
    "    treated_data, control_data = extract_treat_and_control_data(\n",
    "        data, data[\"T\"])\n",
    "    \n",
    "    # train u1\n",
    "    u1 = model_builder()\n",
    "    X_treated = treated_data.drop([\"T\", \"Y\"], axis=1)\n",
    "    u1.fit(X_treated, treated_data[\"Y\"])\n",
    "    \n",
    "    # train u0\n",
    "    u0 = model_builder()\n",
    "    X_control = control_data.drop([\"T\", \"Y\"], axis=1)\n",
    "    u0.fit(X_control, control_data[\"Y\"])\n",
    "    \n",
    "    # Generate potential outcome predictions\n",
    "    X = data.drop([\"T\", \"Y\"], axis=1)\n",
    "    y_1_predicted = u1.predict(X)\n",
    "    y_0_predicted = u0.predict(X)\n",
    "    \n",
    "    ITE_pred = y_1_predicted - y_0_predicted\n",
    "    \n",
    "    return ITE_pred, u1, u0"
   ]
  },
  {
   "cell_type": "code",
   "execution_count": 15,
   "metadata": {},
   "outputs": [],
   "source": [
    "def scikit_S_learner(model_builder, data):\n",
    "    # train u1\n",
    "    u = model_builder()\n",
    "    X = data.drop(\"Y\", axis=1)\n",
    "    u.fit(X, data[\"Y\"])\n",
    "    \n",
    "    # Generate potential outcomes\n",
    "    X_under_treatment = X.copy()\n",
    "    X_under_treatment[\"T\"] = 1\n",
    "    \n",
    "    X_under_control = X.copy()\n",
    "    X_under_control[\"T\"] = 0\n",
    "    \n",
    "    y_1_predicted = u.predict(X_under_treatment)\n",
    "    y_0_predicted = u.predict(X_under_control)\n",
    "    y_1_predicted - y_0_predicted\n",
    "    \n",
    "    ITE_pred = y_1_predicted - y_0_predicted\n",
    "    \n",
    "    return  ITE_pred"
   ]
  },
  {
   "cell_type": "code",
   "execution_count": 16,
   "metadata": {},
   "outputs": [],
   "source": [
    "def scikit_X_learner(model_builder, data, prop_score, u1=None, u0=None):\n",
    "    treated_data, control_data = extract_treat_and_control_data(\n",
    "        data, data[\"T\"])\n",
    "    X_treated = treated_data.drop([\"T\", \"Y\"], axis=1)\n",
    "    X_control = control_data.drop([\"T\", \"Y\"], axis=1)\n",
    "\n",
    "    if u1 is None:\n",
    "        # train u1\n",
    "        u1 = model_builder()\n",
    "        u1.fit(X_treated, treated_data[\"Y\"])\n",
    "    \n",
    "    if u0 is None:\n",
    "        # train u0\n",
    "        u0 = model_builder()\n",
    "        u0.fit(X_control, control_data[\"Y\"])\n",
    "    \n",
    "    # Find individual treatment effects for treated/controls\n",
    "    itet = treated_data[\"Y\"] - u0.predict(X_treated)\n",
    "    itec =  u1.predict(X_control) - control_data[\"Y\"]\n",
    "    \n",
    "    # Fit models to the treated and controls\n",
    "    te1 = model_builder()\n",
    "    te1.fit(X_treated, itet)\n",
    "    \n",
    "    te0 = model_builder()\n",
    "    te0.fit(X_control, itec)\n",
    "    \n",
    "    X = data.drop([\"T\", \"Y\"], axis=1)\n",
    "    te1_predicted = te1.predict(X)\n",
    "    te0_predicted = te0.predict(X)\n",
    "    \n",
    "    # Estimate prop scores\n",
    "#     lm = LogisticRegression(solver=\"lbfgs\")\n",
    "#     lm.fit(X, data[\"T\"])\n",
    "#     prop_scores = lm.predict(X)\n",
    "    \n",
    "    # Down-weight observes which are likely to belong\n",
    "    # to other class.\n",
    "    te = prop_score*te0_predicted + (1-prop_score)*te1_predicted\n",
    "    \n",
    "    return te"
   ]
  },
  {
   "cell_type": "markdown",
   "metadata": {},
   "source": [
    "## Experiment Code"
   ]
  },
  {
   "cell_type": "code",
   "execution_count": 17,
   "metadata": {},
   "outputs": [],
   "source": [
    "def score_ITE(ITE_true, ITE_pred):\n",
    "    return np.mean((ITE_true-ITE_pred)**2)"
   ]
  },
  {
   "cell_type": "code",
   "execution_count": 18,
   "metadata": {},
   "outputs": [],
   "source": [
    "def evaluate_scikit_learners(model_builder, observed_data, unobservable_data):\n",
    "    ITE_true = unobservable_data[\"TE\"]\n",
    "    prop_score_true = unobservable_data[\"P(T|X)\"]\n",
    "    \n",
    "    # T learner\n",
    "    ITE_pred, u1, u0 = scikit_T_learner(model_builder, observed_data)\n",
    "    T_loss = score_ITE(ITE_true, ITE_pred)\n",
    "    \n",
    "    # S learner\n",
    "    ITE_pred = scikit_S_learner(model_builder, observed_data)\n",
    "    S_loss = score_ITE(ITE_true, ITE_pred)\n",
    "    \n",
    "    # X learner\n",
    "    ITE_pred = scikit_X_learner(model_builder, observed_data, prop_score_true, u1, u0)\n",
    "    X_loss = score_ITE(ITE_true, ITE_pred)\n",
    "    \n",
    "    return T_loss, S_loss, X_loss"
   ]
  },
  {
   "cell_type": "code",
   "execution_count": 19,
   "metadata": {},
   "outputs": [
    {
     "name": "stdout",
     "output_type": "stream",
     "text": [
      "CPU times: user 250 ms, sys: 0 ns, total: 250 ms\n",
      "Wall time: 244 ms\n"
     ]
    },
    {
     "data": {
      "text/plain": [
       "(55.42309452177158, 23.13894852625124, 17.962834532925122)"
      ]
     },
     "execution_count": 19,
     "metadata": {},
     "output_type": "execute_result"
    }
   ],
   "source": [
    "learner_func = partial(evaluate_scikit_learners, build_reg_forest)\n",
    "%time learner_func(observed_data, unobservable_data)"
   ]
  },
  {
   "cell_type": "code",
   "execution_count": 20,
   "metadata": {},
   "outputs": [],
   "source": [
    "# def evaluate_htree_learners2(observed_data, unobservable_data):\n",
    "#     '''\n",
    "#     Python-based HTE, train-test split.\n",
    "#     '''\n",
    "#     ITE_true = unobservable_data[\"TE\"].to_numpy()\n",
    "\n",
    "#     X = observed_data.drop([\"Y\", \"T\"], axis=1).to_numpy()\n",
    "#     y = observed_data[\"Y\"].to_numpy()\n",
    "#     t = observed_data[\"T\"].to_numpy()\n",
    "    \n",
    "#     X_train, X_test, y_train, y_test, t_train, t_test, te_train, te_test = \\\n",
    "#         train_test_split(\n",
    "#             X, y, t, ITE_true,\n",
    "#             stratify=t,\n",
    "#             test_size=0.2, random_state=42)\n",
    "    \n",
    "#     d = {'mu.forestry': 'mu_forestry'}\n",
    "#     ct = importr('causalToolbox', robject_translations=d)\n",
    "#     threads = 15\n",
    "    \n",
    "#     t_train = IntVector(t_train)\n",
    "#     y_train = FloatVector(y_train)\n",
    "\n",
    "#     # T learner\n",
    "#     tl_rf = ct.T_RF(feat=X_train, tr=t_train, yobs=y_train, nthread=threads)\n",
    "#     T_cate_rf = ct.EstimateCate(tl_rf, X_test)\n",
    "#     T_loss = score_ITE(te_test, np.array(T_cate_rf))\n",
    "    \n",
    "#     # S learner\n",
    "#     sl_rf = ct.S_BART(feat=X_train, tr=t_train, yobs=y_train,\n",
    "#                       nthread=threads)\n",
    "#     S_cate_rf = ct.EstimateCate(sl_rf, X_test)\n",
    "#     S_loss = score_ITE(te_test, np.array(S_cate_rf))\n",
    "    \n",
    "#     # X learner\n",
    "#     xl_rf = ct.X_BART(feat=X_train, tr=t_train, yobs=y_train,\n",
    "#                       nthread=threads)\n",
    "#     X_cate_rf = ct.EstimateCate(xl_rf, X_test)\n",
    "#     X_loss = score_ITE(te_test, np.array(X_cate_rf))\n",
    "    \n",
    "#     return T_loss, S_loss, X_loss"
   ]
  },
  {
   "cell_type": "code",
   "execution_count": 21,
   "metadata": {},
   "outputs": [],
   "source": [
    "# def evaluate_htree_learners3(observed_data, unobservable_data):\n",
    "#     '''\n",
    "#     Python-based HTE, NO train-test split.\n",
    "#     '''\n",
    "    \n",
    "#     ITE_true = unobservable_data[\"TE\"].to_numpy()\n",
    "\n",
    "#     X = observed_data.drop([\"Y\", \"T\"], axis=1).to_numpy()\n",
    "#     y = FloatVector(observed_data[\"Y\"].to_numpy())\n",
    "#     t = IntVector(observed_data[\"T\"].to_numpy())\n",
    "\n",
    "#     ct = importr('causalToolbox')\n",
    "#     threads = 15\n",
    "\n",
    "#     # T learner\n",
    "#     tl_rf = ct.T_RF(feat=X, tr=t, yobs=y, nthread=threads)\n",
    "#     T_cate_rf = ct.EstimateCate(tl_rf, X)\n",
    "#     T_loss = score_ITE(ITE_true, np.array(T_cate_rf))\n",
    "    \n",
    "#     # S learner\n",
    "#     sl_rf = ct.S_RF(feat=X, tr=t, yobs=y,\n",
    "#                       nthread=threads)\n",
    "#     S_cate_rf = ct.EstimateCate(sl_rf, X)\n",
    "#     S_loss = score_ITE(ITE_true, np.array(S_cate_rf))\n",
    "    \n",
    "#     # X learner\n",
    "#     xl_rf = ct.X_RF(feat=X, tr=t, yobs=y,\n",
    "#                       nthread=threads)\n",
    "#     X_cate_rf = ct.EstimateCate(xl_rf, X)\n",
    "#     X_loss = score_ITE(ITE_true, np.array(X_cate_rf))\n",
    "    \n",
    "#     return T_loss, S_loss, X_loss"
   ]
  },
  {
   "cell_type": "code",
   "execution_count": 69,
   "metadata": {},
   "outputs": [],
   "source": [
    "from rpy2.robjects.packages import SignatureTranslatedAnonymousPackage\n",
    "\n",
    "with open(\"R Code/honest_trees.R\", \"r\") as prog:\n",
    "    R_prog = ''.join(prog.readlines())\n",
    "    HonestTrees = SignatureTranslatedAnonymousPackage(R_prog, \"HonestTrees\")\n",
    "    \n",
    "def evaluate_htree_learners(observed_data, unobservable_data):\n",
    "    '''\n",
    "    R-based HTE, NO train-test split.\n",
    "    '''\n",
    "    tau = unobservable_data[\"TE\"].to_numpy()\n",
    "    X = observed_data.drop([\"Y\", \"T\"], axis=1).to_numpy()\n",
    "    y = observed_data[\"Y\"].to_numpy()\n",
    "    t = observed_data[\"T\"].to_numpy()\n",
    "    \n",
    "    X_train, X_test, y_train, _, t_train, _, _, tau_test = \\\n",
    "        train_test_split(\n",
    "            X, y, t, tau,\n",
    "            stratify=t,\n",
    "            test_size=0.2, random_state=42)\n",
    "    \n",
    "    ITE_true = unobservable_data[\"TE\"].to_numpy()\n",
    "    y_train = FloatVector(y_train)\n",
    "    t_train = IntVector(t_train)\n",
    "    tau_test = FloatVector(tau_test)\n",
    "    return tuple(HonestTrees.HRF_learners(\n",
    "        X_train, y_train, t_train, X_test, tau_test, 4))"
   ]
  },
  {
   "cell_type": "code",
   "execution_count": 26,
   "metadata": {},
   "outputs": [
    {
     "name": "stdout",
     "output_type": "stream",
     "text": [
      "CPU times: user 4.04 s, sys: 308 ms, total: 4.35 s\n",
      "Wall time: 1.03 s\n"
     ]
    },
    {
     "data": {
      "text/plain": [
       "(3.949935852594812, 17.131452188664213, 5.68588020017316)"
      ]
     },
     "execution_count": 26,
     "metadata": {},
     "output_type": "execute_result"
    }
   ],
   "source": [
    "%time evaluate_htree_learners(observed_data, unobservable_data)"
   ]
  },
  {
   "cell_type": "code",
   "execution_count": 23,
   "metadata": {},
   "outputs": [],
   "source": [
    "def run_trial(trial_index, \n",
    "              data_gen_func,\n",
    "              learner_eval_func,\n",
    "              prop_score=0.5,\n",
    "              n_covars=20,\n",
    "              n_observations=50000):\n",
    "    \n",
    "    # Generate random data\n",
    "    observed_data, unobservable_data = data_gen_func(\n",
    "        prop_score=prop_score,\n",
    "        n_covars=n_covars,\n",
    "        n_observations=n_observations)\n",
    "    \n",
    "    # Train and evaluate learners and get loss for T, S, and X.\n",
    "    learner_losses = learner_eval_func(observed_data, unobservable_data)\n",
    "    \n",
    "    return trial_index, learner_losses"
   ]
  },
  {
   "cell_type": "code",
   "execution_count": 24,
   "metadata": {
    "scrolled": true
   },
   "outputs": [],
   "source": [
    "def run_experiment(data_gen_func, learner_func, prop_score,\n",
    "                   N_obs_levels, N_trials,\n",
    "                   exec_pool, verbose=False):\n",
    "    results = []\n",
    "    for n_obs in N_obs_levels:\n",
    "        if verbose:\n",
    "            print(f\"Running at N={n_obs}. Percent done:\", end=\" \")\n",
    "        \n",
    "        trial_func = partial(run_trial,\n",
    "            data_gen_func=data_gen_func,\n",
    "            learner_eval_func=learner_func,\n",
    "            prop_score=prop_score,\n",
    "            n_observations=n_obs)\n",
    "\n",
    "        trial_results = []\n",
    "\n",
    "        completed_trial_count = 0\n",
    "        if exec_pool is not None:\n",
    "            for _, result_row in exec_pool.imap_unordered(trial_func, range(N_trials)):\n",
    "                trial_results.append(result_row)\n",
    "                completed_trial_count += 1\n",
    "                incomplete = N_trials - completed_trial_count\n",
    "                if verbose:\n",
    "                    print(int(100*completed_trial_count/N_trials), end=\" \")\n",
    "        else:\n",
    "            for i in range(N_trials):\n",
    "                _, result_row = trial_func(i)\n",
    "                trial_results.append(result_row)\n",
    "                completed_trial_count += 1\n",
    "                incomplete = N_trials - completed_trial_count\n",
    "                if verbose:\n",
    "                    print(int(100*completed_trial_count/N_trials), end=\" \")\n",
    "    \n",
    "        trial_results = np.array(trial_results)\n",
    "        results.append(np.mean(trial_results, axis=0))\n",
    "        if verbose:\n",
    "            print(\"\")\n",
    "        \n",
    "    return results"
   ]
  },
  {
   "cell_type": "code",
   "execution_count": 35,
   "metadata": {},
   "outputs": [
    {
     "data": {
      "text/plain": [
       "[1000]"
      ]
     },
     "execution_count": 35,
     "metadata": {},
     "output_type": "execute_result"
    }
   ],
   "source": [
    "N_obs_levels = np.logspace(3, 5.5, 12).astype(int)\n",
    "N_obs_levels = [1000]\n",
    "\n",
    "learner_funcs = {\n",
    "    \"regression_forest\": partial(evaluate_scikit_learners, build_reg_forest),\n",
    "    \"MLP\": partial(evaluate_scikit_learners, build_mlp),\n",
    "    \"Honest Forest\": evaluate_htree_learners\n",
    "}\n",
    "\n",
    "data_funcs = {\n",
    "    \"original\": generate_original_data,\n",
    "    \"original_normed\": generate_original_data_with_normalized_base,\n",
    "    \"hybrid\": generate_hybrid_data\n",
    "}\n",
    "\n",
    "exp_conf = {\n",
    "    \"data_gen_func\": data_funcs[\"original_normed\"],\n",
    "    \"learner_func\": learner_funcs[\"Honest Forest\"],\n",
    "    \"prop_score\": 0.01,\n",
    "    \"N_obs_levels\": N_obs_levels,\n",
    "    \"N_trials\": 1,\n",
    "    \"N_procs\": 1\n",
    "}\n",
    "\n",
    "N_obs_levels"
   ]
  },
  {
   "cell_type": "code",
   "execution_count": 36,
   "metadata": {},
   "outputs": [],
   "source": [
    "def execute_config(config, verbose=True):\n",
    "    N_procs = config.pop(\"N_procs\")\n",
    "    if N_procs>1:\n",
    "        with Pool(processes=N_procs) as pool:\n",
    "            results = run_experiment(**config, exec_pool=pool, verbose=verbose)\n",
    "    else:\n",
    "        results = run_experiment(**config, exec_pool=None, verbose=verbose)\n",
    "    \n",
    "    res_file = persist_result(config, results)\n",
    "    return results, res_file"
   ]
  },
  {
   "cell_type": "code",
   "execution_count": 37,
   "metadata": {},
   "outputs": [
    {
     "name": "stdout",
     "output_type": "stream",
     "text": [
      "Running at N=1000. Percent done: 100 \n",
      "CPU times: user 2.54 s, sys: 320 ms, total: 2.86 s\n",
      "Wall time: 804 ms\n"
     ]
    }
   ],
   "source": [
    "%time results, _ = execute_config(exp_conf)"
   ]
  },
  {
   "cell_type": "code",
   "execution_count": 38,
   "metadata": {},
   "outputs": [
    {
     "data": {
      "image/png": "[encoded data removed]",
      "text/plain": [
       "<Figure size 432x288 with 1 Axes>"
      ]
     },
     "metadata": {
      "needs_background": "light"
     },
     "output_type": "display_data"
    }
   ],
   "source": [
    "results = np.array(results)\n",
    "names = [\"T learner\", \"S learner\", \"X learner\"]\n",
    "N_levels = exp_conf[\"N_obs_levels\"]\n",
    "for i, name in enumerate(names):\n",
    "    plt.scatter(N_levels, results[:, i], label=name)\n",
    "    plt.plot(N_levels, results[:, i])\n",
    "\n",
    "plt.legend()\n",
    "plt.show()"
   ]
  },
  {
   "cell_type": "code",
   "execution_count": 39,
   "metadata": {},
   "outputs": [
    {
     "data": {
      "image/png": "[encoded data removed]",
      "text/plain": [
       "<Figure size 432x288 with 1 Axes>"
      ]
     },
     "metadata": {
      "needs_background": "light"
     },
     "output_type": "display_data"
    }
   ],
   "source": [
    "results = np.array(results)\n",
    "names = [\"T learner\", \"S learner\", \"X learner\"]\n",
    "for i, name in enumerate(names):\n",
    "    plt.scatter(np.log(N_obs_levels), np.log(results[:, i]), label=name)\n",
    "\n",
    "plt.legend()\n",
    "plt.show()"
   ]
  },
  {
   "cell_type": "markdown",
   "metadata": {},
   "source": [
    "## Results Caching"
   ]
  },
  {
   "cell_type": "code",
   "execution_count": 64,
   "metadata": {},
   "outputs": [],
   "source": [
    "import pickle\n",
    "import uuid\n",
    "import datetime\n",
    "\n",
    "RESULT_DIR = \"results/kunzel-1/\"\n",
    "\n",
    "def persist_result(config, results):\n",
    "    unique_filename = str(uuid.uuid4())\n",
    "    timestamp = str(datetime.datetime.now())\n",
    "\n",
    "    file_path = RESULT_DIR + unique_filename + \" \" + timestamp\n",
    "    result_entry = {\n",
    "        \"configuration\": config,\n",
    "        \"result\": results\n",
    "    }\n",
    "\n",
    "    with open(file_path, \"wb\") as res_file:\n",
    "        pickle.dump(result_entry, res_file)\n",
    "    \n",
    "    return file_path"
   ]
  },
  {
   "cell_type": "code",
   "execution_count": 41,
   "metadata": {},
   "outputs": [],
   "source": [
    "file_name = \"3d5dd4bc-1498-4757-b9c3-1e9051f4ced1 2019-11-19 23:47:28.466179\"\n",
    "file_path = RESULT_DIR + file_name\n",
    "with open(file_path, \"rb\") as res_file:\n",
    "    result_entry = pickle.load(res_file)\n",
    "    results = result_entry[\"res\"]\n",
    "    exp_conf = result_entry[\"conf\"]"
   ]
  },
  {
   "cell_type": "markdown",
   "metadata": {},
   "source": [
    "## Experiments"
   ]
  },
  {
   "cell_type": "code",
   "execution_count": 70,
   "metadata": {},
   "outputs": [
    {
     "data": {
      "text/plain": [
       "array([  3162,   4806,   7305,  11103,  16876,  25650,  38986,  59255,\n",
       "        90062, 136887])"
      ]
     },
     "execution_count": 70,
     "metadata": {},
     "output_type": "execute_result"
    }
   ],
   "source": [
    "N_obs_levels = np.logspace(3.5, 5.5, 12).astype(int)[:-2]\n",
    "\n",
    "learner_funcs = {\n",
    "#     \"MLP\": (partial(evaluate_scikit_learners, build_mlp), 3),\n",
    "    \"Honest Forest\": (evaluate_htree_learners, 2)\n",
    "}\n",
    "\n",
    "data_funcs = {\n",
    "#     \"original\": generate_original_data,\n",
    "#     \"original_normed\": generate_original_data_with_normalized_base,\n",
    "    \"hybrid\": generate_hybrid_data\n",
    "}\n",
    "\n",
    "configs = []\n",
    "for data_gen_fun_name in data_funcs.keys():\n",
    "    for learner_func_name in learner_funcs.keys():\n",
    "        learner_func, cores = learner_funcs[learner_func_name]\n",
    "        exp_conf = {\n",
    "            \"data_gen_func\": data_funcs[data_gen_fun_name],\n",
    "            \"learner_func\": learner_func,\n",
    "            \"prop_score\": 0.01,\n",
    "            \"N_obs_levels\": N_obs_levels,\n",
    "            \"N_trials\": 30,\n",
    "            \"N_procs\": cores\n",
    "        }\n",
    "        configs.append(exp_conf)\n",
    "        \n",
    "N_obs_levels"
   ]
  },
  {
   "cell_type": "code",
   "execution_count": 63,
   "metadata": {},
   "outputs": [
    {
     "name": "stdout",
     "output_type": "stream",
     "text": [
      "CPU times: user 610 ms, sys: 340 ms, total: 950 ms\n",
      "Wall time: 7min 45s\n"
     ]
    }
   ],
   "source": [
    "result_files = []\n",
    "for config in configs:\n",
    "    %time _, result_file = execute_config(config, verbose=False)\n",
    "    result_files.append(result_file)"
   ]
  }
 ],
 "metadata": {
  "kernelspec": {
   "display_name": "Python 3",
   "language": "python",
   "name": "python3"
  },
  "language_info": {
   "codemirror_mode": {
    "name": "ipython",
    "version": 3
   },
   "file_extension": ".py",
   "mimetype": "text/x-python",
   "name": "python",
   "nbconvert_exporter": "python",
   "pygments_lexer": "ipython3",
   "version": "3.7.3"
  },
  "varInspector": {
   "cols": {
    "lenName": 16,
    "lenType": 16,
    "lenVar": 40
   },
   "kernels_config": {
    "python": {
     "delete_cmd_postfix": "",
     "delete_cmd_prefix": "del ",
     "library": "var_list.py",
     "varRefreshCmd": "print(var_dic_list())"
    },
    "r": {
     "delete_cmd_postfix": ") ",
     "delete_cmd_prefix": "rm(",
     "library": "var_list.r",
     "varRefreshCmd": "cat(var_dic_list()) "
    }
   },
   "types_to_exclude": [
    "module",
    "function",
    "builtin_function_or_method",
    "instance",
    "_Feature"
   ],
   "window_display": false
  }
 },
 "nbformat": 4,
 "nbformat_minor": 2
}
