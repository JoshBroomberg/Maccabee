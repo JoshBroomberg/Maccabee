{
 "cells": [
  {
   "cell_type": "code",
   "execution_count": 36,
   "metadata": {},
   "outputs": [
    {
     "name": "stdout",
     "output_type": "stream",
     "text": [
      "Requirement already satisfied: bartpy in /opt/conda/lib/python3.7/site-packages (0.0.2)\n",
      "Requirement already satisfied: pandas in /opt/conda/lib/python3.7/site-packages (from bartpy) (0.25.3)\n",
      "Requirement already satisfied: scipy in /opt/conda/lib/python3.7/site-packages (from bartpy) (1.3.2)\n",
      "Requirement already satisfied: tqdm in /opt/conda/lib/python3.7/site-packages (from bartpy) (4.38.0)\n",
      "Requirement already satisfied: numpy in /opt/conda/lib/python3.7/site-packages (from bartpy) (1.17.3)\n",
      "Requirement already satisfied: joblib in /opt/conda/lib/python3.7/site-packages (from bartpy) (0.14.0)\n",
      "Requirement already satisfied: sklearn in /opt/conda/lib/python3.7/site-packages (from bartpy) (0.0)\n",
      "Requirement already satisfied: matplotlib in /opt/conda/lib/python3.7/site-packages (from bartpy) (3.1.2)\n",
      "Requirement already satisfied: statsmodels in /opt/conda/lib/python3.7/site-packages (from bartpy) (0.10.1)\n",
      "Requirement already satisfied: seaborn in /opt/conda/lib/python3.7/site-packages (from bartpy) (0.9.0)\n",
      "Requirement already satisfied: pytz>=2017.2 in /opt/conda/lib/python3.7/site-packages (from pandas->bartpy) (2019.3)\n",
      "Requirement already satisfied: python-dateutil>=2.6.1 in /opt/conda/lib/python3.7/site-packages (from pandas->bartpy) (2.8.0)\n",
      "Requirement already satisfied: scikit-learn in /opt/conda/lib/python3.7/site-packages (from sklearn->bartpy) (0.21.3)\n",
      "Requirement already satisfied: cycler>=0.10 in /opt/conda/lib/python3.7/site-packages (from matplotlib->bartpy) (0.10.0)\n",
      "Requirement already satisfied: kiwisolver>=1.0.1 in /opt/conda/lib/python3.7/site-packages (from matplotlib->bartpy) (1.1.0)\n",
      "Requirement already satisfied: pyparsing!=2.0.4,!=2.1.2,!=2.1.6,>=2.0.1 in /opt/conda/lib/python3.7/site-packages (from matplotlib->bartpy) (2.4.5)\n",
      "Requirement already satisfied: patsy>=0.4.0 in /opt/conda/lib/python3.7/site-packages (from statsmodels->bartpy) (0.5.1)\n",
      "Requirement already satisfied: six>=1.5 in /opt/conda/lib/python3.7/site-packages (from python-dateutil>=2.6.1->pandas->bartpy) (1.13.0)\n",
      "Requirement already satisfied: setuptools in /opt/conda/lib/python3.7/site-packages (from kiwisolver>=1.0.1->matplotlib->bartpy) (41.6.0.post20191101)\n"
     ]
    }
   ],
   "source": [
    "!pip install bartpy"
   ]
  },
  {
   "cell_type": "code",
   "execution_count": 37,
   "metadata": {},
   "outputs": [],
   "source": [
    "from cause_ml.parameters import build_parameters_from_metric_levels\n",
    "from cause_ml.constants import Constants\n",
    "from cause_ml.data_generation import DataGeneratingProcessWrapper\n",
    "import cause_ml.data_sources as data_sources\n",
    "from cause_ml.utilities import extract_treat_and_control_data"
   ]
  },
  {
   "cell_type": "code",
   "execution_count": 38,
   "metadata": {},
   "outputs": [],
   "source": [
    "from sklearn.neural_network import MLPRegressor\n",
    "from sklearn.linear_model import LogisticRegression\n",
    "from sklearn.metrics import mean_squared_error as mse"
   ]
  },
  {
   "cell_type": "code",
   "execution_count": 39,
   "metadata": {},
   "outputs": [],
   "source": [
    "import matplotlib.pyplot as plt\n",
    "import numpy as np\n",
    "import pandas as pd"
   ]
  },
  {
   "cell_type": "code",
   "execution_count": 45,
   "metadata": {},
   "outputs": [],
   "source": [
    "import torch\n",
    "import torch.utils.data as utils\n",
    "import torch.nn as nn\n",
    "from torch.autograd import Variable"
   ]
  },
  {
   "cell_type": "code",
   "execution_count": 41,
   "metadata": {},
   "outputs": [],
   "source": [
    "def build_mlp():\n",
    "    return MLPRegressor(\n",
    "        hidden_layer_sizes=(50, 25, 10),\n",
    "        activation='relu',\n",
    "        solver='adam',\n",
    "        batch_size='auto',\n",
    "        learning_rate='constant',\n",
    "        learning_rate_init=0.001,\n",
    "        power_t=0.5,\n",
    "        max_iter=1000,\n",
    "        shuffle=True,\n",
    "        random_state=1,\n",
    "        tol=0.0001,\n",
    "        verbose=False,\n",
    "        warm_start=False,\n",
    "        early_stopping=True,\n",
    "        validation_fraction=0.10,\n",
    "        epsilon=1e-08,\n",
    "        n_iter_no_change=5)"
   ]
  },
  {
   "cell_type": "code",
   "execution_count": 46,
   "metadata": {},
   "outputs": [],
   "source": [
    "class PytorchMLP():\n",
    "    BATCH_SIZE=2000\n",
    "    LEARNING_RATE=0.001\n",
    "    NUM_EPOCHS=5\n",
    "    \n",
    "    class Net(nn.Module):\n",
    "        def __init__(self):\n",
    "            super(Net, self).__init__()\n",
    "            self.fc1 = nn.Linear(20, 50) \n",
    "            self.relu1 = nn.ReLU()\n",
    "            self.fc2 = nn.Linear(50, 25) \n",
    "            self.relu2 = nn.ReLU()\n",
    "            self.fc3 = nn.Linear(25, 10)  \n",
    "            self.relu3 = nn.ReLU()\n",
    "            self.fc4 = nn.Linear(10, 1)  \n",
    "        \n",
    "        def forward(self, x):\n",
    "            out = self.fc1(x)\n",
    "            out = self.relu1(out)\n",
    "            out = self.fc2(x)\n",
    "            out = self.relu2(out)\n",
    "            out = self.fc3(x)\n",
    "            out = self.relu3(out)\n",
    "            out = self.fc4(x)\n",
    "            return out  \n",
    "    \n",
    "    def __init__(self):\n",
    "        pass\n",
    "    \n",
    "    \n",
    "    def forward(self, x):\n",
    "        out = self.fc1(x)\n",
    "        out = self.relu(out)\n",
    "        out = self.fc2(out)\n",
    "        return out\n",
    "        \n",
    "    def fit(X, y):\n",
    "        tX = torch.Tensor(X)\n",
    "        ty = torch.Tensor(y)\n",
    "        dataset = utils.TensorDataset(tX, ty)\n",
    "        dataloader = utils.DataLoader(dataset,\n",
    "                                      batch_size=BATCH_SIZE, \n",
    "                                      shuffle=True)\n",
    "        \n",
    "        net = Net(input_size, hidden_size, num_classes)\n",
    "    \n",
    "        # Loss and Optimizer\n",
    "        criterion = nn.MSELoss()  \n",
    "        optimizer = torch.optim.Adam(net.parameters(), lr=LEARNING_RATE)  \n",
    "\n",
    "        # Train the Model\n",
    "        for epoch in range(NUM_EPOCHS):\n",
    "            for i, (X_data, y_val) in enumerate(train_loader):  \n",
    "                # Convert torch tensor to Variable\n",
    "                X_var = Variable(X_data)\n",
    "                y_var = Variable(y_val)\n",
    "\n",
    "                # Forward + Backward + Optimize\n",
    "                optimizer.zero_grad()  # zero the gradient buffer\n",
    "                outputs = net(X_var)\n",
    "                loss = criterion(outputs, y_var)\n",
    "                loss.backward()\n",
    "                optimizer.step()\n",
    "\n",
    "                if (i+1) % 100 == 0:\n",
    "                    print ('Epoch [%d/%d], Step [%d/%d], Loss: %.4f' \n",
    "                           %(epoch+1, NUM_EPOCHS, i+1, len(dataset)//BATCH_SIZE, loss.item()))\n",
    "        \n",
    "    def predict(X):\n",
    "        pass\n",
    "        \n",
    "def build_pyrotch_mlp():\n",
    "    pass"
   ]
  },
  {
   "cell_type": "code",
   "execution_count": null,
   "metadata": {},
   "outputs": [],
   "source": [
    "PARTIAL_CORRELATION_DEG = 0.1\n",
    "def generate_synthetic_data(\n",
    "    prop_score=0.5,\n",
    "    n_covars=20,\n",
    "    n_observations=50000):\n",
    "    \n",
    "    covar_data_source = data_sources.load_random_normal_covariates(\n",
    "        n_covars=n_covars,\n",
    "        n_observations=n_observations,\n",
    "        partial_correlation_degree=PARTIAL_CORRELATION_DEG)\n",
    "    covar_data = covar_data_source.original_covariate_data.to_numpy()\n",
    "    outcome_coeffs = np.random.uniform(-5, 5, size=20)\n",
    "    \n",
    "    noise = np.random.normal(size=n_observations)\n",
    "    Y0 = (covar_data @ outcome_coeffs) + \\\n",
    "        5*((covar_data[:, 0] > 0.5).astype(int)) + \\\n",
    "        noise\n",
    "    Y1 = Y0 + 8*((covar_data[:, 1] > 0.1).astype(int))\n",
    "    \n",
    "    TE = Y1 - Y0\n",
    "    T = (np.random.uniform(0, 1, size=n_observations) < prop_score).astype(int)\n",
    "    Y = T*Y1 + (1-T)*Y0\n",
    "    \n",
    "    obs_data = covar_data_source.original_covariate_data.copy()\n",
    "    obs_data[\"T\"] = T\n",
    "    obs_data[\"Y\"] = Y\n",
    "    \n",
    "    oracle_data = pd.DataFrame({\n",
    "        \"TE\": TE,\n",
    "        \"NOISE(Y)\": noise,\n",
    "        \"Y0\": Y0,\n",
    "        \"Y1\": Y1,\n",
    "        \"P(T|X)\": prop_score\n",
    "    })\n",
    "    \n",
    "    return obs_data, oracle_data"
   ]
  },
  {
   "cell_type": "code",
   "execution_count": null,
   "metadata": {},
   "outputs": [],
   "source": [
    "def generate_hybrid_data(\n",
    "    prop_score=0.5,\n",
    "    n_covars=20,\n",
    "    n_observations=50000):\n",
    "    \n",
    "    covar_data_source = data_sources.load_random_normal_covariates(\n",
    "        n_covars=n_covars,\n",
    "        n_observations=n_observations,\n",
    "        partial_correlation_degree=PARTIAL_CORRELATION_DEG)\n",
    "\n",
    "    dgp_params = build_parameters_from_metric_levels({\n",
    "        Constants.MetricNames.TREATMENT_NONLINEARITY: Constants.MetricLevels.LOW,\n",
    "        Constants.MetricNames.OUTCOME_NONLINEARITY: Constants.MetricLevels.LOW,\n",
    "        Constants.MetricNames.TE_HETEROGENEITY: Constants.MetricLevels.LOW\n",
    "    })\n",
    "    \n",
    "    dgp_params.set_parameter(\"MIN_PROPENSITY_SCORE\", 0.001)\n",
    "    dgp_params.set_parameter(\"MAX_PROPENSITY_SCORE\", 0.9999)\n",
    "    dgp_params.set_parameter(\"TREATMENT_EFFECT_HETEROGENEITY\", 0.05)\n",
    "    dgp_params.set_parameter(\"OUTCOME_NOISE_TAIL_THICKNESS\", 300)\n",
    "    dgp_params.set_parameter(\"TARGET_PROPENSITY_SCORE\", prop_score)\n",
    "    dgp_params.set_parameter(\"TREAT_MECHANISM_COVARIATE_SELECTION_PROBABILITY\",\n",
    "                             {\n",
    "                                \"LINEAR\": 1,\n",
    "                                \"POLY_QUAD\": 0.0,\n",
    "                                \"POLY_CUBIC\": 0.0,\n",
    "                                \"STEP_JUMP\": 0,\n",
    "                                \"STEP_KINK\": 0,\n",
    "                                \"INTERACTION_TWO_WAY\": 0,\n",
    "                                \"INTERACTION_THREE_WAY\": 0\n",
    "                             })\n",
    "    dgp_params.set_parameter(\"OUTCOME_MECHANISM_COVARIATE_SELECTION_PROBABILITY\",\n",
    "                             {\n",
    "                                \"LINEAR\": 1,\n",
    "                                \"POLY_QUAD\": 0.0,\n",
    "                                \"POLY_CUBIC\": 0.0,\n",
    "                                \"STEP_JUMP\": 0.05,\n",
    "                                \"STEP_KINK\": 0,\n",
    "                                \"INTERACTION_TWO_WAY\": 0,\n",
    "                                \"INTERACTION_THREE_WAY\": 0\n",
    "                             })\n",
    "\n",
    "    dgp_wrapper = DataGeneratingProcessWrapper(\n",
    "        parameters=dgp_params, data_source=covar_data_source)\n",
    "\n",
    "    dgp_wrapper.sample_dgp()\n",
    "\n",
    "    _ = dgp_wrapper.generate_data()\n",
    "    \n",
    "    obs_data = dgp_wrapper.get_observed_data()\n",
    "    oracle_data = dgp_wrapper.get_oracle_data()\n",
    "    \n",
    "    return obs_data, oracle_data"
   ]
  },
  {
   "cell_type": "code",
   "execution_count": null,
   "metadata": {},
   "outputs": [],
   "source": [
    "observed_data, unobservable_data = generate_hybrid_data(prop_score=0.01)\n",
    "observed_data, unobservable_data = generate_synthetic_data(prop_score=0.01)\n",
    "observed_data.head()"
   ]
  },
  {
   "cell_type": "code",
   "execution_count": null,
   "metadata": {},
   "outputs": [],
   "source": [
    "unobservable_data.head()"
   ]
  },
  {
   "cell_type": "code",
   "execution_count": null,
   "metadata": {},
   "outputs": [],
   "source": [
    "def score_ITE(ITE_true, ITE_pred):\n",
    "    return mse(ITE_true, ITE_pred)"
   ]
  },
  {
   "cell_type": "code",
   "execution_count": null,
   "metadata": {},
   "outputs": [],
   "source": [
    "def T_learner(data):\n",
    "    treated_data, control_data = extract_treat_and_control_data(\n",
    "        data, data[\"T\"])\n",
    "    \n",
    "    # train u1\n",
    "    u1 = build_mlp()\n",
    "    X_treated = treated_data.drop([\"T\", \"Y\"], axis=1)\n",
    "    u1.fit(X_treated, treated_data[\"Y\"])\n",
    "    \n",
    "    # train u0\n",
    "    u0 = build_mlp()\n",
    "    X_control = control_data.drop([\"T\", \"Y\"], axis=1)\n",
    "    u0.fit(X_control, control_data[\"Y\"])\n",
    "    \n",
    "    # Generate potential outcome predictions\n",
    "    X = data.drop([\"T\", \"Y\"], axis=1)\n",
    "    y_1_predicted = u1.predict(X)\n",
    "    y_0_predicted = u0.predict(X)\n",
    "    \n",
    "    ITE_pred = y_1_predicted - y_0_predicted\n",
    "    \n",
    "    return ITE_pred, u1, u0"
   ]
  },
  {
   "cell_type": "code",
   "execution_count": null,
   "metadata": {},
   "outputs": [],
   "source": [
    "def S_learner(data):\n",
    "    # train u1\n",
    "    u = build_mlp()\n",
    "    X = data.drop(\"Y\", axis=1)\n",
    "    u.fit(X, data[\"Y\"])\n",
    "    \n",
    "    # Generate potential outcomes\n",
    "    X_under_treatment = X.copy()\n",
    "    X_under_treatment[\"T\"] = 1\n",
    "    \n",
    "    X_under_control = X.copy()\n",
    "    X_under_control[\"T\"] = 0\n",
    "    \n",
    "    y_1_predicted = u.predict(X_under_treatment)\n",
    "    y_0_predicted = u.predict(X_under_control)\n",
    "    y_1_predicted - y_0_predicted\n",
    "    \n",
    "    ITE_pred = y_1_predicted - y_0_predicted\n",
    "    \n",
    "    return  ITE_pred"
   ]
  },
  {
   "cell_type": "code",
   "execution_count": null,
   "metadata": {},
   "outputs": [],
   "source": [
    "def X_learner(data, prop_score, u1=None, u0=None):\n",
    "    treated_data, control_data = extract_treat_and_control_data(\n",
    "        data, data[\"T\"])\n",
    "    X_treated = treated_data.drop([\"T\", \"Y\"], axis=1)\n",
    "    X_control = control_data.drop([\"T\", \"Y\"], axis=1)\n",
    "\n",
    "    if u1 is None:\n",
    "        # train u1\n",
    "        u1 = build_mlp()\n",
    "        u1.fit(X_treated, treated_data[\"Y\"])\n",
    "    \n",
    "    if u0 is None:\n",
    "        # train u0\n",
    "        u0 = build_mlp()\n",
    "        u0.fit(X_control, control_data[\"Y\"])\n",
    "    \n",
    "    # Find individual treatment effects for treated/controls\n",
    "    itet = treated_data[\"Y\"] - u0.predict(X_treated)\n",
    "    itec =  u1.predict(X_control) - control_data[\"Y\"]\n",
    "    \n",
    "    # Fit models to the treated and controls\n",
    "    te1 = build_mlp()\n",
    "    te1.fit(X_treated, itet)\n",
    "    \n",
    "    te0 = build_mlp()\n",
    "    te0.fit(X_control, itec)\n",
    "    \n",
    "    X = data.drop([\"T\", \"Y\"], axis=1)\n",
    "    te1_predicted = te1.predict(X)\n",
    "    te0_predicted = te0.predict(X)\n",
    "    \n",
    "    # Estimate prop scores\n",
    "#     lm = LogisticRegression(solver=\"lbfgs\")\n",
    "#     lm.fit(X, data[\"T\"])\n",
    "#     prop_scores = lm.predict(X)\n",
    "    \n",
    "    # Down-weight observes which are likely to belong\n",
    "    # to other class.\n",
    "    te = prop_score*te0_predicted + (1-prop_score)*te1_predicted\n",
    "    \n",
    "    return te"
   ]
  },
  {
   "cell_type": "code",
   "execution_count": null,
   "metadata": {},
   "outputs": [],
   "source": [
    "ITE_pred, u1, u0 = T_learner(observed_data)\n",
    "score_ITE(unobservable_data[\"TE\"], ITE_pred)"
   ]
  },
  {
   "cell_type": "code",
   "execution_count": null,
   "metadata": {},
   "outputs": [],
   "source": [
    "ITE_pred = S_learner(observed_data)\n",
    "score_ITE(unobservable_data[\"TE\"], ITE_pred)"
   ]
  },
  {
   "cell_type": "code",
   "execution_count": null,
   "metadata": {},
   "outputs": [],
   "source": [
    "ITE_pred = X_learner(observed_data, 0.01, u1, u0)\n",
    "score_ITE(unobservable_data[\"TE\"], ITE_pred)"
   ]
  },
  {
   "cell_type": "code",
   "execution_count": null,
   "metadata": {},
   "outputs": [],
   "source": [
    "def run_trial(prop_score=0.5, n_covars=20, n_observations=50000):\n",
    "    observed_data, unobservable_data = generate_synthetic_data(\n",
    "        prop_score=prop_score,\n",
    "        n_covars=n_covars,\n",
    "        n_observations=n_observations)\n",
    "    \n",
    "    ITE_true = unobservable_data[\"TE\"]\n",
    "    \n",
    "    # T learner\n",
    "    ITE_pred, u1, u0 = T_learner(observed_data)\n",
    "    T_loss = score_ITE(ITE_true, ITE_pred)\n",
    "    \n",
    "    # S learner\n",
    "    ITE_pred = S_learner(observed_data)\n",
    "    S_loss = score_ITE(ITE_true, ITE_pred)\n",
    "    \n",
    "    # X learner\n",
    "    ITE_pred = X_learner(observed_data, prop_score, u1, u0)\n",
    "    X_loss = score_ITE(ITE_true, ITE_pred)\n",
    "    \n",
    "    return T_loss, S_loss, X_loss"
   ]
  },
  {
   "cell_type": "code",
   "execution_count": 50,
   "metadata": {},
   "outputs": [
    {
     "data": {
      "text/plain": [
       "array([  5623,   9085,  14677,  23713,  38311,  61896, 100000])"
      ]
     },
     "execution_count": 50,
     "metadata": {},
     "output_type": "execute_result"
    }
   ],
   "source": [
    "N_obs = np.logspace(3.75, 5, 7).astype(int)\n",
    "# N_obs = [300000, 400000, 500000]\n",
    "N_obs"
   ]
  },
  {
   "cell_type": "code",
   "execution_count": 51,
   "metadata": {
    "scrolled": true
   },
   "outputs": [
    {
     "name": "stdout",
     "output_type": "stream",
     "text": [
      "\n",
      "Running at n: 5623: 0,1,2,3,4,5,6,7,8,9,\n",
      "Running at n: 9085: 0,1,2,3,4,5,6,7,8,9,\n",
      "Running at n: 14677: 0,1,2,3,4,5,6,7,8,9,\n",
      "Running at n: 23713: 0,1,2,3,4,5,6,7,8,9,\n",
      "Running at n: 38311: 0,1,2,3,4,5,6,7,8,9,\n",
      "Running at n: 61896: 0,1,2,3,4,5,6,7,8,9,\n",
      "Running at n: 100000: 0,1,2,3,4,5,6,7,8,9,CPU times: user 46min 6s, sys: 26min 42s, total: 1h 12min 49s\n",
      "Wall time: 26min 27s\n"
     ]
    }
   ],
   "source": [
    "%%time\n",
    "\n",
    "results = []\n",
    "N_trials = 10\n",
    "for n_obs in N_obs:\n",
    "    print(\"\\nRunning at n:\", n_obs, end=\": \")\n",
    "    trial_results = []\n",
    "    for i in range(N_trials):\n",
    "        print(i, end=\",\")\n",
    "        res = run_trial(prop_score=0.1, n_observations=n_obs)\n",
    "        trial_results.append(res)\n",
    "        \n",
    "    \n",
    "    trial_results = np.array(trial_results)\n",
    "    results.append(np.mean(trial_results, axis=0))"
   ]
  },
  {
   "cell_type": "code",
   "execution_count": 53,
   "metadata": {},
   "outputs": [
    {
     "data": {
      "image/png": "[encoded data removed]",
      "text/plain": [
       "<Figure size 432x288 with 1 Axes>"
      ]
     },
     "metadata": {
      "needs_background": "light"
     },
     "output_type": "display_data"
    }
   ],
   "source": [
    "results = np.array(results)\n",
    "names = [\"T learner\", \"S learner\", \"X learner\"]\n",
    "for i, name in enumerate(names):\n",
    "    plt.scatter(np.log(N_obs), np.log(results[:, i]), label=name)\n",
    "\n",
    "plt.legend()\n",
    "plt.show()"
   ]
  },
  {
   "cell_type": "code",
   "execution_count": 54,
   "metadata": {},
   "outputs": [
    {
     "data": {
      "image/png": "[encoded data removed]",
      "text/plain": [
       "<Figure size 432x288 with 1 Axes>"
      ]
     },
     "metadata": {
      "needs_background": "light"
     },
     "output_type": "display_data"
    }
   ],
   "source": [
    "results = np.array(results)\n",
    "names = [\"T learner\", \"S learner\", \"X learner\"]\n",
    "for i, name in enumerate(names):\n",
    "    plt.scatter(N_obs, results[:, i], label=name)\n",
    "\n",
    "plt.legend()\n",
    "plt.show()"
   ]
  }
 ],
 "metadata": {
  "kernelspec": {
   "display_name": "Python 3",
   "language": "python",
   "name": "python3"
  },
  "language_info": {
   "codemirror_mode": {
    "name": "ipython",
    "version": 3
   },
   "file_extension": ".py",
   "mimetype": "text/x-python",
   "name": "python",
   "nbconvert_exporter": "python",
   "pygments_lexer": "ipython3",
   "version": "3.7.3"
  },
  "varInspector": {
   "cols": {
    "lenName": 16,
    "lenType": 16,
    "lenVar": 40
   },
   "kernels_config": {
    "python": {
     "delete_cmd_postfix": "",
     "delete_cmd_prefix": "del ",
     "library": "var_list.py",
     "varRefreshCmd": "print(var_dic_list())"
    },
    "r": {
     "delete_cmd_postfix": ") ",
     "delete_cmd_prefix": "rm(",
     "library": "var_list.r",
     "varRefreshCmd": "cat(var_dic_list()) "
    }
   },
   "types_to_exclude": [
    "module",
    "function",
    "builtin_function_or_method",
    "instance",
    "_Feature"
   ],
   "window_display": false
  }
 },
 "nbformat": 4,
 "nbformat_minor": 2
}
