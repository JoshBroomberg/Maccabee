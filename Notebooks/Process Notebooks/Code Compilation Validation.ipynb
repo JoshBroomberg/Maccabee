{
 "cells": [
  {
   "cell_type": "code",
   "execution_count": 1,
   "metadata": {},
   "outputs": [],
   "source": [
    "#!pip install -e ../Maccabee > /dev/null"
   ]
  },
  {
   "cell_type": "code",
   "execution_count": 2,
   "metadata": {},
   "outputs": [],
   "source": [
    "from maccabee.data_generation.utils import CompiledExpression\n",
    "from sympy.abc import x, y\n",
    "import sympy as sp\n",
    "from itertools import combinations\n",
    "from time import time\n",
    "import numpy as np\n",
    "import pandas as pd\n",
    "import matplotlib.pyplot as plt"
   ]
  },
  {
   "cell_type": "code",
   "execution_count": 3,
   "metadata": {},
   "outputs": [],
   "source": [
    "def original_eval(expression, data):\n",
    "    \"\"\"Evaluates the Sympy expression in `expression` using the :class:`pandas.DataFrame` in `data` to fill in the value of all the variables in the expression. The expression is evaluated once for each row of the DataFrame.\n",
    "\n",
    "    Args:\n",
    "        expression (Sympy Expression): A Sympy expression with variables that are a subset of the variables in columns data.\n",
    "        data (:class:`~pandas.DataFrame`): A DataFrame containing observations of the variables in the expression. The names of the columns must match the names of the symbols in the expression.\n",
    "\n",
    "    Returns:\n",
    "        :class:`~numpy.ndarray`: An array of expression values corresponding to the rows of the `data`.\n",
    "    \"\"\"\n",
    "    if isinstance(expression, CompiledExpression):\n",
    "        return expression.eval_expr(data)\n",
    "    else:\n",
    "        free_symbols = getattr(expression, \"free_symbols\", None)\n",
    "        if free_symbols is not None:\n",
    "            free_symbols = list(free_symbols)\n",
    "\n",
    "            expr_func = sp.lambdify(\n",
    "                    free_symbols,\n",
    "                    expression,\n",
    "                    modules=[\n",
    "                        {\n",
    "                            \"amax\": lambda x: np.maximum(*x),\n",
    "                            \"amin\": lambda x: np.minimum(*x)\n",
    "                        },\n",
    "                        \"numpy\"\n",
    "                    ],\n",
    "                    dummify=True)\n",
    "\n",
    "            column_data = [data[str(sym)] for sym in free_symbols]\n",
    "            return expr_func(*column_data)\n",
    "        else:\n",
    "            # No free symbols, return expression itself.\n",
    "            return expression"
   ]
  },
  {
   "cell_type": "code",
   "execution_count": 4,
   "metadata": {},
   "outputs": [],
   "source": [
    "def optimized_eval(expression, data, symbols):\n",
    "    \"\"\"Evaluates the Sympy expression in `expression` using the :class:`pandas.DataFrame` in `data` to fill in the value of all the variables in the expression. The expression is evaluated once for each row of the DataFrame.\n",
    "\n",
    "    Args:\n",
    "        expression (Sympy Expression): A Sympy expression with variables that are a subset of the variables in columns data.\n",
    "        data (:class:`~pandas.DataFrame`): A DataFrame containing observations of the variables in the expression. The names of the columns must match the names of the symbols in the expression.\n",
    "\n",
    "    Returns:\n",
    "        :class:`~numpy.ndarray`: An array of expression values corresponding to the rows of the `data`.\n",
    "    \"\"\"\n",
    "    if isinstance(expression, CompiledExpression):\n",
    "        return expression.eval_expr(data)\n",
    "    else:\n",
    "        free_symbols = getattr(expression, \"free_symbols\", None)\n",
    "        if free_symbols is not None:\n",
    "            expr_func = sp.lambdify(\n",
    "                    list(data.columns),\n",
    "                    expression,\n",
    "                    modules=[\n",
    "                        {\n",
    "                            \"amax\": lambda x: np.maximum(*x),\n",
    "                            \"amin\": lambda x: np.minimum(*x)\n",
    "                        },\n",
    "                        \"numpy\"\n",
    "                    ],\n",
    "                    dummify=False)\n",
    "            \n",
    "            return expr_func(*np.hsplit(data.values, data.shape[1]))\n",
    "        else:\n",
    "            # No free symbols, return expression itself.\n",
    "            return expression"
   ]
  },
  {
   "cell_type": "code",
   "execution_count": 5,
   "metadata": {},
   "outputs": [],
   "source": [
    "from sympy.utilities.autowrap import ufuncify, CodeWrapper\n",
    "import pathlib\n",
    "import sys\n",
    "C_PATH = \"./_maccabee_compiled_code/\"\n",
    "\n",
    "class OptimizedCompiledExpression():\n",
    "\n",
    "    def __init__(self, expression, symbols):\n",
    "        self.symbols = symbols\n",
    "        self.expression = expression\n",
    "        self.constant_expression = False\n",
    "\n",
    "        self.compiled_module_name = None\n",
    "        self.compiled_ordered_args = None\n",
    "        self._compile()\n",
    "\n",
    "        self.expression_func = None\n",
    "\n",
    "    def __getstate__(self):\n",
    "        return (\n",
    "            self.expression,\n",
    "            self.constant_expression,\n",
    "            self.compiled_module_name,\n",
    "            self.compiled_ordered_args\n",
    "        )\n",
    "\n",
    "    def __setstate__(self, state):\n",
    "        (\n",
    "            self.expression,\n",
    "            self.constant_expression,\n",
    "            self.compiled_module_name,\n",
    "            self.compiled_ordered_args\n",
    "        ) = state\n",
    "\n",
    "        self.expression_func = None\n",
    "\n",
    "    def _compile(self):\n",
    "        free_symbols = getattr(self.expression, \"free_symbols\", None)\n",
    "        if free_symbols is not None:\n",
    "            # Args\n",
    "#             expr_func_ordered_symbols = list(free_symbols)\n",
    "#             self.compiled_ordered_args = [\n",
    "#                 str(symbol)\n",
    "#                 for symbol in expr_func_ordered_symbols\n",
    "#             ]\n",
    "\n",
    "            try:\n",
    "                # Module\n",
    "                self.compiled_module_name = \\\n",
    "                    f\"mod_{abs(hash(self.expression))}_{np.random.randint(1e8)}\"\n",
    "                mod_path = C_PATH+self.compiled_module_name\n",
    "\n",
    "                pathlib.Path(C_PATH).mkdir(parents=True, exist_ok=True)\n",
    "                CodeWrapper.module_name = self.compiled_module_name\n",
    "\n",
    "                # print(\"Compiling\")\n",
    "                # Compile\n",
    "                ufuncify(\n",
    "                    self.symbols,\n",
    "                    self.expression,\n",
    "                    backend=\"cython\",\n",
    "                    tempdir=mod_path)\n",
    "                # print(\"Done compiling\")\n",
    "            except Exception as e:\n",
    "                raise Exception(f\"Failure in compilation of compiled expression. {e}\")\n",
    "        else:\n",
    "            # No free symbols, expression is constant.\n",
    "            self.constant_expression = True\n",
    "\n",
    "    def eval_expr(self, data):\n",
    "        if self.constant_expression:\n",
    "            return self.expression\n",
    "\n",
    "        try:\n",
    "            if self.expression_func is None:\n",
    "                if self.compiled_module_name not in sys.modules:\n",
    "                    mod_path = C_PATH + self.compiled_module_name\n",
    "\n",
    "                    if mod_path not in sys.path:\n",
    "                        sys.path.append(mod_path)\n",
    "\n",
    "                    # print(\"Importing compiled module.\")\n",
    "                    mod = importlib.import_module(self.compiled_module_name)\n",
    "                else:\n",
    "                    # print(\"Loading existing compiled module.\")\n",
    "                    mod = sys.modules[self.compiled_module_name]\n",
    "\n",
    "                # compiled_func_prefix = \"wrapped_\"\n",
    "                compiled_func_prefix = \"autofunc\"\n",
    "                func_name = next(filter(lambda x: x.startswith(compiled_func_prefix), dir(mod)))\n",
    "                self.expression_func = getattr(mod, func_name)\n",
    "\n",
    "            # print(\"Executing compiled code\")\n",
    "            data = map(lambda x: x.flatten(), np.hsplit(data.values, data.shape[1]))\n",
    "            expr_result = self.expression_func(*data)\n",
    "            # print(\"Done executing compiled code\")\n",
    "            res = pd.Series(expr_result)\n",
    "            return res\n",
    "        except Exception as e:\n",
    "            print(f\"failure in compiled expression eval. {e}\")\n",
    "            return evaluate_expression(self.expression, data)"
   ]
  },
  {
   "cell_type": "code",
   "execution_count": 6,
   "metadata": {},
   "outputs": [],
   "source": [
    "def run_trial(n_obs, n_covars, strategy, n_evals=40):\n",
    "    \n",
    "    covar_names = [f\"x{i}\" for i in range(n_covars)]\n",
    "    covar_symbols = sp.symbols(covar_names)\n",
    "    interactions = [a*b for a, b in combinations(covar_symbols, 2)]\n",
    "    expression = np.sum(covar_symbols) + np.sum(interactions)\n",
    "    \n",
    "    n_eff_covars = n_covars + len(interactions)\n",
    "    \n",
    "    data = np.random.normal(size=(n_obs, n_covars))\n",
    "    df = pd.DataFrame(data, columns=covar_names)\n",
    "    \n",
    "    if strategy == \"compile\" or strategy==\"optimized_compile\":\n",
    "        compile_times = []\n",
    "        for _ in range(1):\n",
    "            start = time()\n",
    "            if strategy == \"compile\":\n",
    "                c = CompiledExpression(expression)\n",
    "            else:\n",
    "                c = OptimizedCompiledExpression(expression, covar_symbols)\n",
    "            end = time()\n",
    "            compile_times.append(end - start)\n",
    "\n",
    "        compile_time = np.mean(compile_times)\n",
    "    else:\n",
    "        compile_time = 0\n",
    "    \n",
    "    eval_times = []\n",
    "    start = time()\n",
    "    \n",
    "    for _ in range(n_evals):\n",
    "        if strategy == \"compile\" or strategy==\"optimized_compile\":\n",
    "            val = c.eval_expr(df)\n",
    "        elif strategy == \"lambda\":\n",
    "            val = original_eval(expression, df)\n",
    "        elif strategy == \"optimized_lambda\":\n",
    "            val = optimized_eval(expression, df, covar_symbols)\n",
    "        assert(len(val) == n_obs)\n",
    "        \n",
    "    end = time()\n",
    "    eval_time = end - start\n",
    "    \n",
    "    return compile_time, eval_time, n_eff_covars"
   ]
  },
  {
   "cell_type": "code",
   "execution_count": 7,
   "metadata": {},
   "outputs": [
    {
     "name": "stdout",
     "output_type": "stream",
     "text": [
      "93.2 µs ± 3.42 µs per loop (mean ± std. dev. of 7 runs, 10000 loops each)\n"
     ]
    }
   ],
   "source": [
    "n_covars = 10\n",
    "n_obs = 1000\n",
    "covar_names = [f\"x{i}\" for i in range(n_covars)]\n",
    "covar_symbols = sp.symbols(covar_names)\n",
    "interactions = [a*b for a, b in combinations(covar_symbols, 2)]\n",
    "expression = np.sum(covar_symbols) + np.sum(interactions)\n",
    "\n",
    "n_eff_covars = n_covars + len(interactions)\n",
    "\n",
    "data = np.random.normal(size=(n_obs, n_covars))\n",
    "df = pd.DataFrame(data, columns=covar_names)\n",
    "\n",
    "%timeit sp.symbols(list(df.columns))"
   ]
  },
  {
   "cell_type": "code",
   "execution_count": 8,
   "metadata": {},
   "outputs": [],
   "source": [
    "N = 1000\n",
    "n_covars = range(2, 25, 5)\n",
    "n_evals = 20"
   ]
  },
  {
   "cell_type": "code",
   "execution_count": 9,
   "metadata": {
    "run_control": {
     "marked": true
    },
    "scrolled": true
   },
   "outputs": [
    {
     "name": "stdout",
     "output_type": "stream",
     "text": [
      "Running at  2\n"
     ]
    },
    {
     "ename": "TypeError",
     "evalue": "__init__() missing 1 required positional argument: 'symbols'",
     "output_type": "error",
     "traceback": [
      "\u001b[0;31m---------------------------------------------------------------------------\u001b[0m",
      "\u001b[0;31mTypeError\u001b[0m                                 Traceback (most recent call last)",
      "\u001b[0;32m<ipython-input-9-dfa0205bcd84>\u001b[0m in \u001b[0;36m<module>\u001b[0;34m\u001b[0m\n\u001b[1;32m      4\u001b[0m     compile_data.append(run_trial(N, n_covar,\n\u001b[1;32m      5\u001b[0m                                   \u001b[0mn_evals\u001b[0m\u001b[0;34m=\u001b[0m\u001b[0mn_evals\u001b[0m\u001b[0;34m,\u001b[0m\u001b[0;34m\u001b[0m\u001b[0;34m\u001b[0m\u001b[0m\n\u001b[0;32m----> 6\u001b[0;31m                                   strategy=\"compile\"))\n\u001b[0m",
      "\u001b[0;32m<ipython-input-6-8fb23c11fe58>\u001b[0m in \u001b[0;36mrun_trial\u001b[0;34m(n_obs, n_covars, strategy, n_evals)\u001b[0m\n\u001b[1;32m     16\u001b[0m             \u001b[0mstart\u001b[0m \u001b[0;34m=\u001b[0m \u001b[0mtime\u001b[0m\u001b[0;34m(\u001b[0m\u001b[0;34m)\u001b[0m\u001b[0;34m\u001b[0m\u001b[0;34m\u001b[0m\u001b[0m\n\u001b[1;32m     17\u001b[0m             \u001b[0;32mif\u001b[0m \u001b[0mstrategy\u001b[0m \u001b[0;34m==\u001b[0m \u001b[0;34m\"compile\"\u001b[0m\u001b[0;34m:\u001b[0m\u001b[0;34m\u001b[0m\u001b[0;34m\u001b[0m\u001b[0m\n\u001b[0;32m---> 18\u001b[0;31m                 \u001b[0mc\u001b[0m \u001b[0;34m=\u001b[0m \u001b[0mCompiledExpression\u001b[0m\u001b[0;34m(\u001b[0m\u001b[0mexpression\u001b[0m\u001b[0;34m)\u001b[0m\u001b[0;34m\u001b[0m\u001b[0;34m\u001b[0m\u001b[0m\n\u001b[0m\u001b[1;32m     19\u001b[0m             \u001b[0;32melse\u001b[0m\u001b[0;34m:\u001b[0m\u001b[0;34m\u001b[0m\u001b[0;34m\u001b[0m\u001b[0m\n\u001b[1;32m     20\u001b[0m                 \u001b[0mc\u001b[0m \u001b[0;34m=\u001b[0m \u001b[0mOptimizedCompiledExpression\u001b[0m\u001b[0;34m(\u001b[0m\u001b[0mexpression\u001b[0m\u001b[0;34m,\u001b[0m \u001b[0mcovar_symbols\u001b[0m\u001b[0;34m)\u001b[0m\u001b[0;34m\u001b[0m\u001b[0;34m\u001b[0m\u001b[0m\n",
      "\u001b[0;31mTypeError\u001b[0m: __init__() missing 1 required positional argument: 'symbols'"
     ]
    }
   ],
   "source": [
    "compile_data = []\n",
    "for n_covar in n_covars:\n",
    "    print(\"Running at \", n_covar)\n",
    "    compile_data.append(run_trial(N, n_covar,\n",
    "                                  n_evals=n_evals, \n",
    "                                  strategy=\"compile\"))"
   ]
  },
  {
   "cell_type": "code",
   "execution_count": null,
   "metadata": {},
   "outputs": [],
   "source": [
    "optimized_compile_data = []\n",
    "for n_covar in n_covars:\n",
    "    print(\"Running at \", n_covar)\n",
    "    optimized_compile_data.append(run_trial(N, n_covar,\n",
    "                                            n_evals=n_evals,\n",
    "                                            strategy=\"optimized_compile\"))"
   ]
  },
  {
   "cell_type": "code",
   "execution_count": null,
   "metadata": {},
   "outputs": [],
   "source": [
    "no_compile_data = []\n",
    "for n_covar in n_covars:\n",
    "    print(\"Running at \", n_covar)\n",
    "    no_compile_data.append(run_trial(N, n_covar,\n",
    "                                     n_evals=n_evals,\n",
    "                                     strategy=\"lambda\"))"
   ]
  },
  {
   "cell_type": "code",
   "execution_count": null,
   "metadata": {},
   "outputs": [],
   "source": [
    "optimized_no_compile_data = []\n",
    "for n_covar in n_covars:\n",
    "    print(\"Running at \", n_covar)\n",
    "    optimized_no_compile_data.append(run_trial(N, n_covar,\n",
    "                                               n_evals=n_evals,\n",
    "                                               strategy=\"optimized_lambda\"))"
   ]
  },
  {
   "cell_type": "code",
   "execution_count": null,
   "metadata": {},
   "outputs": [],
   "source": [
    "compile_data = np.array(compile_data)\n",
    "optimized_compile_data = np.array(optimized_compile_data)\n",
    "no_compile_data = np.array(no_compile_data)\n",
    "optimized_no_compile_data = np.array(optimized_no_compile_data)"
   ]
  },
  {
   "cell_type": "code",
   "execution_count": null,
   "metadata": {},
   "outputs": [],
   "source": [
    "plt.figure(figsize=(12, 6))\n",
    "\n",
    "plt.subplot(131)\n",
    "plt.title(\"Compile time\")\n",
    "plt.scatter(n_covars, compile_data[:, 0], label=\"Compiled\", c=\"r\")\n",
    "plt.scatter(n_covars, optimized_compile_data[:, 0], label=\"Optimized Compiled\", c=\"y\")\n",
    "plt.scatter(n_covars, no_compile_data[:, 0], label=\"Non Compiled\", c=\"b\")\n",
    "plt.scatter(n_covars, optimized_no_compile_data[:, 0], label=\"Optimized Non Compiled\", c=\"g\")\n",
    "\n",
    "plt.subplot(132)\n",
    "plt.title(\"Eval time\")\n",
    "plt.scatter(n_covars, compile_data[:, 1], label=\"Compiled\", c=\"r\")\n",
    "plt.scatter(n_covars, optimized_compile_data[:, 1], label=\"Optimized Compiled\", c=\"y\")\n",
    "plt.scatter(n_covars, no_compile_data[:, 1], label=\"Non Compiled\", c=\"b\")\n",
    "plt.scatter(n_covars, optimized_no_compile_data[:, 1], label=\"Non Compiled improved\", c=\"g\")\n",
    "\n",
    "plt.subplot(133)\n",
    "plt.title(\"Total time\")\n",
    "plt.scatter(n_covars, compile_data[:, 1] + compile_data[:, 0], label=\"Compiled\", c=\"r\")\n",
    "plt.scatter(n_covars, optimized_compile_data[:, 1] + optimized_compile_data[:, 0], label=\"Optimized Compiled\", c=\"y\")\n",
    "plt.scatter(n_covars, no_compile_data[:, 1] + no_compile_data[:, 0], label=\"Non Compiled\", c=\"b\")\n",
    "plt.scatter(n_covars, optimized_no_compile_data[:, 1] + optimized_no_compile_data[:, 0], label=\"Non Compiled improved\", c=\"g\")\n",
    "\n",
    "\n",
    "plt.legend()\n",
    "plt.show()"
   ]
  },
  {
   "cell_type": "code",
   "execution_count": null,
   "metadata": {},
   "outputs": [],
   "source": [
    "improvements = 100*(no_compile_data[:, 1] - optimized_no_compile_data[:, 1])/no_compile_data[:, 1]\n",
    "improvements, np.mean(improvements)"
   ]
  },
  {
   "cell_type": "code",
   "execution_count": null,
   "metadata": {},
   "outputs": [],
   "source": [
    "compiled_totals = compile_data[:, 1] + compile_data[:, 0]\n",
    "optimized_compiled_totals = optimized_compile_data[:, 1] + optimized_compile_data[:, 0]\n",
    "\n",
    "improvements = 100*(compiled_totals - optimized_compiled_totals)/compiled_totals\n",
    "improvements, np.mean(improvements)"
   ]
  },
  {
   "cell_type": "code",
   "execution_count": null,
   "metadata": {},
   "outputs": [],
   "source": [
    "plt.figure(figsize=(12, 6))\n",
    "\n",
    "n_eff_covars = compile_data[:, 2]\n",
    "\n",
    "plt.subplot(131)\n",
    "plt.title(\"Compile time\")\n",
    "plt.scatter(n_eff_covars, compile_data[:, 0], label=\"Compiled\", c=\"r\")\n",
    "plt.scatter(n_eff_covars, optimized_compile_data[:, 0], label=\"Optimized Compiled\", c=\"y\")\n",
    "plt.scatter(n_eff_covars, no_compile_data[:, 0], label=\"Non Compiled\", c=\"b\")\n",
    "plt.scatter(n_eff_covars, optimized_no_compile_data[:, 0], label=\"Optimized Non Compiled\", c=\"g\")\n",
    "\n",
    "plt.subplot(132)\n",
    "plt.title(\"Eval time\")\n",
    "plt.scatter(n_eff_covars, compile_data[:, 1], label=\"Compiled\", c=\"r\")\n",
    "plt.scatter(n_eff_covars, optimized_compile_data[:, 1], label=\"Optimized Compiled\", c=\"y\")\n",
    "plt.scatter(n_eff_covars, no_compile_data[:, 1], label=\"Non Compiled\", c=\"b\")\n",
    "plt.scatter(n_eff_covars, optimized_no_compile_data[:, 1], label=\"Non Compiled improved\", c=\"g\")\n",
    "\n",
    "plt.subplot(133)\n",
    "plt.title(\"Total time\")\n",
    "plt.scatter(n_eff_covars, compile_data[:, 1] + compile_data[:, 0], label=\"Compiled\", c=\"r\")\n",
    "plt.scatter(n_eff_covars, optimized_compile_data[:, 1] + optimized_compile_data[:, 0], label=\"Optimized Compiled\", c=\"y\")\n",
    "plt.scatter(n_eff_covars, no_compile_data[:, 1] + no_compile_data[:, 0], label=\"Non Compiled\", c=\"b\")\n",
    "plt.scatter(n_eff_covars, optimized_no_compile_data[:, 1] + optimized_no_compile_data[:, 0], label=\"Non Compiled improved\", c=\"g\")\n",
    "\n",
    "\n",
    "plt.legend()\n",
    "plt.show()"
   ]
  },
  {
   "cell_type": "code",
   "execution_count": null,
   "metadata": {},
   "outputs": [],
   "source": []
  }
 ],
 "metadata": {
  "kernelspec": {
   "display_name": "Python 3",
   "language": "python",
   "name": "python3"
  },
  "language_info": {
   "codemirror_mode": {
    "name": "ipython",
    "version": 3
   },
   "file_extension": ".py",
   "mimetype": "text/x-python",
   "name": "python",
   "nbconvert_exporter": "python",
   "pygments_lexer": "ipython3",
   "version": "3.7.3"
  },
  "varInspector": {
   "cols": {
    "lenName": 16,
    "lenType": 16,
    "lenVar": 40
   },
   "kernels_config": {
    "python": {
     "delete_cmd_postfix": "",
     "delete_cmd_prefix": "del ",
     "library": "var_list.py",
     "varRefreshCmd": "print(var_dic_list())"
    },
    "r": {
     "delete_cmd_postfix": ") ",
     "delete_cmd_prefix": "rm(",
     "library": "var_list.r",
     "varRefreshCmd": "cat(var_dic_list()) "
    }
   },
   "types_to_exclude": [
    "module",
    "function",
    "builtin_function_or_method",
    "instance",
    "_Feature"
   ],
   "window_display": false
  }
 },
 "nbformat": 4,
 "nbformat_minor": 2
}
