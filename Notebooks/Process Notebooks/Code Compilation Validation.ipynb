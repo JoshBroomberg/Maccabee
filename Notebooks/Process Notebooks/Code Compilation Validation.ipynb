{
 "cells": [
  {
   "cell_type": "code",
   "execution_count": 2,
   "metadata": {},
   "outputs": [],
   "source": [
    "#!pip install -e ../Maccabee > /dev/null"
   ]
  },
  {
   "cell_type": "code",
   "execution_count": 1,
   "metadata": {},
   "outputs": [],
   "source": [
    "from maccabee.data_generation.utils import CompiledExpression, evaluate_expression\n",
    "from sympy.abc import x, y\n",
    "import sympy as sp\n",
    "from itertools import combinations\n",
    "from time import time\n",
    "import numpy as np\n",
    "import pandas as pd\n",
    "import matplotlib.pyplot as plt"
   ]
  },
  {
   "cell_type": "code",
   "execution_count": 2,
   "metadata": {},
   "outputs": [],
   "source": [
    "n_obs=1000\n",
    "n_covars = 10\n",
    "\n",
    "def run_trial(n_obs, n_covars, compile_expression=True, n_evals=40):\n",
    "    covar_names = [f\"x{i}\" for i in range(n_covars)]\n",
    "    covar_symbols = sp.symbols(covar_names)\n",
    "    interactions = [a*b for a, b in combinations(covar_symbols, 2)]\n",
    "    expression = np.sum(covar_symbols) + np.sum(interactions)\n",
    "    \n",
    "    n_eff_covars = n_covars + len(interactions)\n",
    "    \n",
    "    data = np.random.normal(size=(n_obs, n_covars))\n",
    "    df = pd.DataFrame(data, columns=covar_names)\n",
    "    \n",
    "    if compile_expression:\n",
    "        compile_times = []\n",
    "        for _ in range(1):\n",
    "            start = time()\n",
    "            c = CompiledExpression(expression)\n",
    "            end = time()\n",
    "            compile_times.append(end - start)\n",
    "\n",
    "        compile_time = np.mean(compile_times)\n",
    "    else:\n",
    "        compile_time = 0\n",
    "    \n",
    "    eval_times = []\n",
    "    start = time()\n",
    "    \n",
    "    for _ in range(n_evals):\n",
    "        if compile_expression:\n",
    "            val = c.eval_expr(df)\n",
    "        else:\n",
    "            val = evaluate_expression(expression, df)\n",
    "        assert(len(val) == n_obs)\n",
    "        \n",
    "    end = time()\n",
    "    eval_time = end - start\n",
    "    \n",
    "    return compile_time, eval_time, n_eff_covars"
   ]
  },
  {
   "cell_type": "code",
   "execution_count": 4,
   "metadata": {},
   "outputs": [
    {
     "data": {
      "text/plain": [
       "(4.129603385925293, 0.04166436195373535, 528)"
      ]
     },
     "execution_count": 4,
     "metadata": {},
     "output_type": "execute_result"
    }
   ],
   "source": [
    "run_trial(1000, 32, compile_expression=True)"
   ]
  },
  {
   "cell_type": "code",
   "execution_count": 5,
   "metadata": {},
   "outputs": [],
   "source": [
    "N = 1000\n",
    "n_covars = range(2, 40, 5)"
   ]
  },
  {
   "cell_type": "code",
   "execution_count": 6,
   "metadata": {
    "scrolled": true
   },
   "outputs": [
    {
     "name": "stdout",
     "output_type": "stream",
     "text": [
      "Running at  2\n",
      "Running at  7\n",
      "Running at  12\n",
      "Running at  17\n",
      "Running at  22\n",
      "Running at  27\n",
      "Running at  32\n",
      "Running at  37\n"
     ]
    }
   ],
   "source": [
    "compile_data = []\n",
    "for n_covar in n_covars:\n",
    "    print(\"Running at \", n_covar)\n",
    "    compile_data.append(run_trial(N, n_covar))"
   ]
  },
  {
   "cell_type": "code",
   "execution_count": 7,
   "metadata": {},
   "outputs": [
    {
     "name": "stdout",
     "output_type": "stream",
     "text": [
      "Running at  2\n",
      "Running at  7\n",
      "Running at  12\n",
      "Running at  17\n",
      "Running at  22\n",
      "Running at  27\n",
      "Running at  32\n",
      "Running at  37\n"
     ]
    }
   ],
   "source": [
    "no_compile_data = []\n",
    "for n_covar in n_covars:\n",
    "    print(\"Running at \", n_covar)\n",
    "    no_compile_data.append(run_trial(N, n_covar, compile_expression=False))"
   ]
  },
  {
   "cell_type": "code",
   "execution_count": 8,
   "metadata": {},
   "outputs": [
    {
     "data": {
      "image/png": "[encoded data removed]",
      "text/plain": [
       "<Figure size 864x432 with 3 Axes>"
      ]
     },
     "metadata": {
      "needs_background": "light"
     },
     "output_type": "display_data"
    }
   ],
   "source": [
    "compile_data = np.array(compile_data)\n",
    "no_compile_data = np.array(no_compile_data)\n",
    "\n",
    "plt.figure(figsize=(12, 6))\n",
    "\n",
    "plt.subplot(131)\n",
    "plt.title(\"Compile time\")\n",
    "plt.scatter(n_covars, compile_data[:, 0], label=\"Compiled\", c=\"r\")\n",
    "plt.scatter(n_covars, no_compile_data[:, 0], label=\"Non Compiled\", c=\"b\")\n",
    "\n",
    "plt.subplot(132)\n",
    "plt.title(\"Eval time\")\n",
    "plt.scatter(n_covars, compile_data[:, 1], label=\"Compiled\", c=\"r\")\n",
    "plt.scatter(n_covars, no_compile_data[:, 1], label=\"Non Compiled\", c=\"b\")\n",
    "\n",
    "plt.subplot(133)\n",
    "plt.title(\"Total time\")\n",
    "plt.scatter(n_covars, compile_data[:, 1] + compile_data[:, 0], label=\"Compiled\", c=\"r\")\n",
    "plt.scatter(n_covars, no_compile_data[:, 1] + no_compile_data[:, 0], label=\"Non Compiled\", c=\"b\")\n",
    "\n",
    "\n",
    "plt.legend()\n",
    "plt.show()"
   ]
  },
  {
   "cell_type": "code",
   "execution_count": 9,
   "metadata": {},
   "outputs": [
    {
     "data": {
      "image/png": "[encoded data removed]",
      "text/plain": [
       "<Figure size 864x432 with 3 Axes>"
      ]
     },
     "metadata": {
      "needs_background": "light"
     },
     "output_type": "display_data"
    }
   ],
   "source": [
    "compile_data = np.array(compile_data)\n",
    "no_compile_data = np.array(no_compile_data)\n",
    "\n",
    "plt.figure(figsize=(12, 6))\n",
    "\n",
    "plt.subplot(131)\n",
    "plt.title(\"Compile time\")\n",
    "plt.scatter(compile_data[:, 2], compile_data[:, 0], label=\"Compiled\", c=\"r\")\n",
    "plt.scatter(no_compile_data[:, 2], no_compile_data[:, 0], label=\"Non Compiled\", c=\"b\")\n",
    "\n",
    "plt.subplot(132)\n",
    "plt.title(\"Eval time\")\n",
    "plt.scatter(compile_data[:, 2], compile_data[:, 1], label=\"Compiled\", c=\"r\")\n",
    "plt.scatter(no_compile_data[:, 2], no_compile_data[:, 1], label=\"Non Compiled\", c=\"b\")\n",
    "\n",
    "plt.subplot(133)\n",
    "plt.title(\"Total time\")\n",
    "plt.scatter(compile_data[:, 2], compile_data[:, 1] + compile_data[:, 0], label=\"Compiled\", c=\"r\")\n",
    "plt.scatter(no_compile_data[:, 2], no_compile_data[:, 1] + no_compile_data[:, 0], label=\"Non Compiled\", c=\"b\")\n",
    "\n",
    "plt.legend()\n",
    "plt.show()"
   ]
  },
  {
   "cell_type": "code",
   "execution_count": null,
   "metadata": {},
   "outputs": [],
   "source": []
  }
 ],
 "metadata": {
  "kernelspec": {
   "display_name": "Python 3",
   "language": "python",
   "name": "python3"
  },
  "language_info": {
   "codemirror_mode": {
    "name": "ipython",
    "version": 3
   },
   "file_extension": ".py",
   "mimetype": "text/x-python",
   "name": "python",
   "nbconvert_exporter": "python",
   "pygments_lexer": "ipython3",
   "version": "3.7.3"
  },
  "varInspector": {
   "cols": {
    "lenName": 16,
    "lenType": 16,
    "lenVar": 40
   },
   "kernels_config": {
    "python": {
     "delete_cmd_postfix": "",
     "delete_cmd_prefix": "del ",
     "library": "var_list.py",
     "varRefreshCmd": "print(var_dic_list())"
    },
    "r": {
     "delete_cmd_postfix": ") ",
     "delete_cmd_prefix": "rm(",
     "library": "var_list.r",
     "varRefreshCmd": "cat(var_dic_list()) "
    }
   },
   "types_to_exclude": [
    "module",
    "function",
    "builtin_function_or_method",
    "instance",
    "_Feature"
   ],
   "window_display": false
  }
 },
 "nbformat": 4,
 "nbformat_minor": 2
}
