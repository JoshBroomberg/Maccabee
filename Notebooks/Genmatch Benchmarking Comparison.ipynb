{
 "cells": [
  {
   "cell_type": "code",
   "execution_count": 1,
   "metadata": {},
   "outputs": [],
   "source": [
    "#!pip install -e ../Maccabee > /dev/null"
   ]
  },
  {
   "cell_type": "code",
   "execution_count": 2,
   "metadata": {
    "run_control": {
     "marked": true
    }
   },
   "outputs": [],
   "source": [
    "# %load_ext autoreload\n",
    "# %autoreload 2"
   ]
  },
  {
   "cell_type": "code",
   "execution_count": 3,
   "metadata": {},
   "outputs": [],
   "source": [
    "from maccabee.data_analysis.data_metrics import AXES_AND_METRIC_NAMES\n",
    "from maccabee.constants import Constants\n",
    "import maccabee.data_sources as data_sources\n",
    "from maccabee.parameters import build_default_parameters\n",
    "\n",
    "from maccabee.data_generation import DataGeneratingProcess, SampledDataGeneratingProcess, data_generating_method\n",
    "\n",
    "# benchmarks\n",
    "from maccabee.benchmarking import benchmark_model_using_concrete_dgp\n",
    "from maccabee.benchmarking import benchmark_model_using_sampled_dgp\n",
    "from maccabee.benchmarking import benchmark_model_using_sampled_dgp_grid\n",
    "\n",
    "# genmatch\n",
    "from maccabee.examples.genmatch import GenmatchDataGeneratingProcess, build_genmatch_datasource, GENMATCH_SPECS\n",
    "from maccabee.examples.genmatch import LogisticPropensityMatchingCausalModel"
   ]
  },
  {
   "cell_type": "code",
   "execution_count": 4,
   "metadata": {},
   "outputs": [],
   "source": [
    "import numpy as np\n",
    "from collections import defaultdict\n",
    "import pandas as pd\n",
    "import matplotlib.pyplot as plt"
   ]
  },
  {
   "cell_type": "code",
   "execution_count": 5,
   "metadata": {},
   "outputs": [],
   "source": [
    "BASE_GENMATCH_DGP_PARAMS = {\n",
    "  \"OUTCOME_MECHANISM_COVARIATE_SELECTION_PROBABILITY\": { \n",
    "        \"LINEAR\": 0.7,\n",
    "        \"POLY_QUAD\": 0,\n",
    "        \"POLY_CUBIC\": 0,\n",
    "        \"STEP_JUMP\": 0,\n",
    "        \"STEP_KINK\": 0,\n",
    "        \"INTERACTION_TWO_WAY\": 0,\n",
    "        \"INTERACTION_THREE_WAY\": 0,\n",
    "  },\n",
    "  \"TREATMENT_EFFECT_HETEROGENEITY\": 0,\n",
    "  \"ACTUAL_CONFOUNDER_ALIGNMENT\": 0,\n",
    "  \"TARGET_PROPENSITY_SCORE\": 0.45,\n",
    "#   \"MIN_PROPENSITY_SCORE\": 0.05,\n",
    "#   \"MAX_PROPENSITY_SCORE\": 0.95,\n",
    "  \"OUTCOME_NOISE_TAIL_THICKNESS\": 1000,\n",
    "  \"SUBFUNCTION_CONSTANT_TAIL_THICKNESS\": 1000,\n",
    "  \"TREATMENT_EFFECT_TAIL_THICKNESS\": 1000\n",
    "}\n",
    "\n",
    "A_param_overrides = BASE_GENMATCH_DGP_PARAMS.copy()\n",
    "A_param_overrides[\"TREAT_MECHANISM_COVARIATE_SELECTION_PROBABILITY\"] = { \n",
    "    \"LINEAR\": 0.7,\n",
    "    \"POLY_QUAD\": 0,\n",
    "    \"POLY_CUBIC\": 0,\n",
    "    \"STEP_JUMP\": 0,\n",
    "    \"STEP_KINK\": 0,\n",
    "    \"INTERACTION_TWO_WAY\": 0.0,\n",
    "    \"INTERACTION_THREE_WAY\": 0,\n",
    "}\n",
    "  \n",
    "C_param_overrides = BASE_GENMATCH_DGP_PARAMS.copy()\n",
    "C_param_overrides[\"TREAT_MECHANISM_COVARIATE_SELECTION_PROBABILITY\"] = { \n",
    "    \"LINEAR\": 0.7,\n",
    "    \"POLY_QUAD\": 0.3,\n",
    "    \"POLY_CUBIC\": 0,\n",
    "    \"STEP_JUMP\": 0,\n",
    "    \"STEP_KINK\": 0,\n",
    "    \"INTERACTION_TWO_WAY\": 0.0,\n",
    "    \"INTERACTION_THREE_WAY\": 0,\n",
    "}\n",
    "\n",
    "G_param_overrides = BASE_GENMATCH_DGP_PARAMS.copy()\n",
    "G_param_overrides[\"TREAT_MECHANISM_COVARIATE_SELECTION_PROBABILITY\"] = { \n",
    "    \"LINEAR\": 0.7,\n",
    "    \"POLY_QUAD\": 0.75,\n",
    "    \"POLY_CUBIC\": 0,\n",
    "    \"STEP_JUMP\": 0,\n",
    "    \"STEP_KINK\": 0,\n",
    "    \"INTERACTION_TWO_WAY\": 0.1,\n",
    "    \"INTERACTION_THREE_WAY\": 0,\n",
    "}\n",
    "\n",
    "X_param_overrides = BASE_GENMATCH_DGP_PARAMS.copy()\n",
    "X_param_overrides[\"TREAT_MECHANISM_COVARIATE_SELECTION_PROBABILITY\"] = { \n",
    "    \"LINEAR\": 0.7,\n",
    "    \"POLY_QUAD\": 0.99,\n",
    "    \"POLY_CUBIC\": 0.99,\n",
    "    \"STEP_JUMP\": 0,\n",
    "    \"STEP_KINK\": 0,\n",
    "    \"INTERACTION_TWO_WAY\": 0.99,\n",
    "    \"INTERACTION_THREE_WAY\": 0,\n",
    "}\n",
    "\n",
    "GENMATCH_PARAM_OVERRIDES = {\n",
    "    \"A\": A_param_overrides,\n",
    "    \"C\": C_param_overrides,\n",
    "    \"G\": G_param_overrides,\n",
    "    \"X\": X_param_overrides,\n",
    "}"
   ]
  },
  {
   "cell_type": "code",
   "execution_count": 6,
   "metadata": {
    "run_control": {
     "marked": true
    }
   },
   "outputs": [],
   "source": [
    "# Define axes and metrics to analyze\n",
    "DATA_METRICS_SPEC = {\n",
    "    Constants.AxisNames.OUTCOME_NONLINEARITY: [\n",
    "        \"Lin r2(X_obs, Y)\",\n",
    "        \"Lin r2(X_true, Y)\"\n",
    "    ],\n",
    "    Constants.AxisNames.TREATMENT_NONLINEARITY: [\n",
    "        \"Lin r2(X_obs, Treat Logit)\",\n",
    "        \"Lin r2(X_true, Treat Logit)\",\n",
    "        \"Log r2(X_obs, T)\"\n",
    "    ],\n",
    "    Constants.AxisNames.PERCENT_TREATED: [\n",
    "        \"Percent(T==1)\"\n",
    "    ],\n",
    "    Constants.AxisNames.BALANCE: [\n",
    "        \"Wass dist X_true: T=1<->T=0\",\n",
    "    ],\n",
    "    Constants.AxisNames.ALIGNMENT: [\n",
    "        \"Lin r2(Y, Treat Logit)\",\n",
    "        \"Lin r2(Y0, Treat Logit)\"\n",
    "    ],\n",
    "    Constants.AxisNames.TE_HETEROGENEITY: [\n",
    "        \"std(TE)/std(Y)\"\n",
    "    ]\n",
    "}"
   ]
  },
  {
   "cell_type": "code",
   "execution_count": 7,
   "metadata": {},
   "outputs": [],
   "source": [
    "N_CORES = 8\n",
    "N_THREADS = 1"
   ]
  },
  {
   "cell_type": "code",
   "execution_count": 8,
   "metadata": {},
   "outputs": [],
   "source": [
    "import pickle\n",
    "import uuid\n",
    "import datetime\n",
    "import glob\n",
    "\n",
    "RESULT_DIR = \"results/genmatch/\"\n",
    "\n",
    "def persist_result(name, data):\n",
    "    timestamp = str(datetime.datetime.now())[11:-7]\n",
    "    file_name = name + \"-\" + timestamp + \".pkl\"\n",
    "    file_path = RESULT_DIR + file_name\n",
    "\n",
    "    with open(file_path, \"wb\") as res_file:\n",
    "        pickle.dump(data, res_file)\n",
    "\n",
    "    return file_name\n",
    "\n",
    "\n",
    "def read_result(base_name):\n",
    "    if base_name[-3:] == \"pkl\":\n",
    "        file_path = RESULT_DIR + base_name\n",
    "    else:\n",
    "        file_path_pattern = RESULT_DIR + f\"{base_name}*.pkl\"\n",
    "        file_paths = sorted(glob.glob(file_path_pattern))\n",
    "        file_path = file_paths[-1] # most recent\n",
    "        \n",
    "    with open(file_path, \"rb\") as res_file:\n",
    "        result_entry = pickle.load(res_file)\n",
    "    \n",
    "    return result_entry\n",
    "\n",
    "# name = persist_result(\"testresult\", (1, 2, 3, 4, 6))\n",
    "# read_result(name)"
   ]
  },
  {
   "cell_type": "code",
   "execution_count": 9,
   "metadata": {},
   "outputs": [],
   "source": [
    "COMPARISON_BENCHMARK = \"G\""
   ]
  },
  {
   "cell_type": "markdown",
   "metadata": {},
   "source": [
    "## Run MC Benchmarks"
   ]
  },
  {
   "cell_type": "code",
   "execution_count": 10,
   "metadata": {},
   "outputs": [
    {
     "name": "stdout",
     "output_type": "stream",
     "text": [
      "CPU times: user 2.86 ms, sys: 1.96 ms, total: 4.82 ms\n",
      "Wall time: 19.2 ms\n"
     ]
    }
   ],
   "source": [
    " %%time\n",
    "\n",
    "CONCRETE_IN_ANALYSIS_MODE = True\n",
    "CONCRETE_CACHED = False\n",
    "CONCRETE_RESULT_BASENAME = f\"concrete_{COMPARISON_BENCHMARK}\"\n",
    "\n",
    "if not CONCRETE_CACHED:\n",
    "    # Concrete Genmatch Benchmark\n",
    "    dgp = GenmatchDataGeneratingProcess(\n",
    "        dgp_label=COMPARISON_BENCHMARK,\n",
    "        n_observations=1000,\n",
    "        data_analysis_mode=CONCRETE_IN_ANALYSIS_MODE)\n",
    "\n",
    "    concrete_result = benchmark_model_using_concrete_dgp(\n",
    "            dgp=dgp,\n",
    "            model_class=LogisticPropensityMatchingCausalModel,\n",
    "            estimand=Constants.Model.ATT_ESTIMAND,\n",
    "            num_sampling_runs_per_dgp=20,\n",
    "            num_samples_from_dgp=80,\n",
    "            data_analysis_mode=CONCRETE_IN_ANALYSIS_MODE,\n",
    "            data_metrics_spec=DATA_METRICS_SPEC,\n",
    "            n_jobs=N_CORES,\n",
    "            n_threads=N_THREADS)\n",
    "    \n",
    "    persist_result(CONCRETE_RESULT_BASENAME,concrete_result)\n",
    "else:\n",
    "    concrete_result = read_result(CONCRETE_RESULT_BASENAME)\n",
    "\n",
    "concrete_perf_agg, concrete_perf_raw, concrete_data_agg, concrete_data_raw = \\\n",
    "    concrete_result\n"
   ]
  },
  {
   "cell_type": "code",
   "execution_count": 11,
   "metadata": {},
   "outputs": [],
   "source": [
    "# TRUE_TREAT_LOGIT = dgp.treatment_logit_expression\n",
    "\n",
    "# class GenmatchEquivDataGeneratingProcess(SampledDataGeneratingProcess):\n",
    "#     @data_generating_method(Constants.DGPVariables.OUTCOME_NOISE_NAME, [])\n",
    "#     def _generate_outcome_noise_samples(self, input_vars):\n",
    "#         return 0\n",
    "    \n",
    "#     @data_generating_method(Constants.DGPVariables.TREATMENT_EFFECT_NAME, [])\n",
    "#     def _generate_treatment_effects(self, input_vars):\n",
    "#         return -0.4\n",
    "    \n",
    "#     @data_generating_method(Constants.DGPVariables.PROPENSITY_SCORE_NAME,\n",
    "#                             [Constants.DGPVariables.COVARIATES_NAME])\n",
    "#     def _generate_true_propensity_scores(self, input_vars):\n",
    "#         observed_covariate_data = input_vars[Constants.DGPVariables.COVARIATES_NAME]\n",
    "\n",
    "#         logits = evaluate_expression(\n",
    "#             TRUE_TREAT_LOGIT,\n",
    "#             observed_covariate_data)\n",
    "\n",
    "#         return 1/(1 + np.exp(-1*logits))"
   ]
  },
  {
   "cell_type": "code",
   "execution_count": 12,
   "metadata": {},
   "outputs": [],
   "source": [
    "from maccabee.data_generation.utils import evaluate_expression\n",
    "\n",
    "# Sampled Genmatch Benchmark\n",
    "class GenmatchLikeSampledDataGeneratingProcess(SampledDataGeneratingProcess):\n",
    "    @data_generating_method(Constants.DGPVariables.OUTCOME_NOISE_NAME, [])\n",
    "    def _generate_outcome_noise_samples(self, input_vars):\n",
    "        return 0\n",
    "    \n",
    "    @data_generating_method(Constants.DGPVariables.TREATMENT_EFFECT_NAME, [])\n",
    "    def _generate_treatment_effects(self, input_vars):\n",
    "        return -0.4\n",
    "    \n",
    "    @data_generating_method(Constants.DGPVariables.COVARIATES_NAME, [])\n",
    "    def _generate_observed_covars(self, input_vars):\n",
    "        return self.data_source.get_covar_df() # dynamic dataset generation."
   ]
  },
  {
   "cell_type": "code",
   "execution_count": 13,
   "metadata": {
    "scrolled": true
   },
   "outputs": [
    {
     "name": "stdout",
     "output_type": "stream",
     "text": [
      "Reducing alignment\n",
      "Reducing alignment\n",
      "Reducing alignment\n",
      "Reducing alignment\n",
      "Reducing alignment\n",
      "Reducing alignment\n",
      "Reducing alignment\n",
      "Reducing alignment\n",
      "Reducing alignment\n",
      "Reducing alignment\n",
      "Reducing alignment\n",
      "Reducing alignment\n",
      "Reducing alignment\n",
      "Reducing alignment\n",
      "Reducing alignment\n",
      "Reducing alignment\n",
      "Reducing alignment\n",
      "Reducing alignment\n",
      "Reducing alignment\n",
      "Reducing alignment\n",
      "Reducing alignment\n",
      "Reducing alignment\n",
      "Reducing alignment\n",
      "Reducing alignment\n",
      "Reducing alignment\n",
      "Starting sampling for DGP 1/25\n",
      "Starting sampling for DGP 2/25\n",
      "Starting sampling for DGP 3/25\n",
      "Starting sampling for DGP 4/25\n",
      "Starting sampling for DGP 5/25\n",
      "Starting sampling for DGP 6/25\n",
      "Starting sampling for DGP 7/25\n",
      "Starting sampling for DGP 8/25\n",
      "Starting sampling for DGP 9/25\n",
      "Starting sampling for DGP 10/25\n",
      "Starting sampling for DGP 11/25\n",
      "Starting sampling for DGP 12/25\n",
      "Starting sampling for DGP 13/25\n",
      "Starting sampling for DGP 14/25\n",
      "Starting sampling for DGP 15/25\n",
      "Starting sampling for DGP 16/25\n",
      "Starting sampling for DGP 17/25\n",
      "Starting sampling for DGP 18/25\n",
      "Starting sampling for DGP 19/25\n",
      "Starting sampling for DGP 20/25\n",
      "Starting sampling for DGP 21/25\n",
      "Starting sampling for DGP 22/25\n",
      "Starting sampling for DGP 23/25\n",
      "Starting sampling for DGP 24/25\n",
      "Starting sampling for DGP 25/25\n",
      "CPU times: user 3min 48s, sys: 9min 38s, total: 13min 27s\n",
      "Wall time: 33min 4s\n"
     ]
    }
   ],
   "source": [
    "%%time\n",
    "\n",
    "SAMPLED_IN_ANALYSIS_MODE = True\n",
    "SAMPLED_CACHED = False\n",
    "SAMPLED_RESULT_BASENAME = f\"sampled_{COMPARISON_BENCHMARK}\"\n",
    "\n",
    "if not SAMPLED_CACHED:\n",
    "    dgp_params = build_default_parameters()\n",
    "    dgp_params.set_parameters(\n",
    "        GENMATCH_PARAM_OVERRIDES[COMPARISON_BENCHMARK])\n",
    "\n",
    "    sampled_result = \\\n",
    "        benchmark_model_using_sampled_dgp(\n",
    "            dgp_params, build_genmatch_datasource(),\n",
    "            dgp_kwargs={\n",
    "                \"data_analysis_mode\": SAMPLED_IN_ANALYSIS_MODE,\n",
    "                \"compile_functions\": True\n",
    "            },\n",
    "            dgp_class=GenmatchLikeSampledDataGeneratingProcess,\n",
    "            model_class=LogisticPropensityMatchingCausalModel,\n",
    "            estimand=Constants.Model.ATE_ESTIMAND,\n",
    "            num_dgp_samples=25,\n",
    "            num_sampling_runs_per_dgp=10,\n",
    "            num_samples_from_dgp=88,\n",
    "            data_analysis_mode=SAMPLED_IN_ANALYSIS_MODE,\n",
    "            data_metrics_spec=DATA_METRICS_SPEC,\n",
    "            n_jobs=N_CORES,\n",
    "            n_threads=N_THREADS)\n",
    "\n",
    "    persist_result(SAMPLED_RESULT_BASENAME, sampled_result)\n",
    "else:\n",
    "    sampled_result = read_result(SAMPLED_RESULT_BASENAME)\n",
    "    \n",
    "(\n",
    "    sampled_perf_agg, sampled_perf_raw,\n",
    "    sampled_perf_run_raw, sampled_data_agg,\n",
    "    sampled_data_raw\n",
    ") = sampled_result"
   ]
  },
  {
   "cell_type": "markdown",
   "metadata": {},
   "source": [
    "## Data Metric Comparison"
   ]
  },
  {
   "cell_type": "code",
   "execution_count": 14,
   "metadata": {
    "run_control": {
     "marked": true
    }
   },
   "outputs": [
    {
     "name": "stdout",
     "output_type": "stream",
     "text": [
      "OUTCOME_NONLINEARITY\n",
      "\t Lin r2(X_obs, Y)\n",
      "\t\tConcrete: 0.971\n",
      "\t\tSampled: 0.964\n",
      "\t Lin r2(X_true, Y)\n",
      "\t\tConcrete: 0.973\n",
      "\t\tSampled: 0.966\n",
      "TREATMENT_NONLINEARITY\n",
      "\t Lin r2(X_obs, Treat Logit)\n",
      "\t\tConcrete: 0.787\n",
      "\t\tSampled: 0.72\n",
      "\t Lin r2(X_true, Treat Logit)\n",
      "\t\tConcrete: 1.0\n",
      "\t\tSampled: 1.0\n",
      "\t Log r2(X_obs, T)\n",
      "\t\tConcrete: 0.725\n",
      "\t\tSampled: 0.656\n",
      "PERCENT_TREATED\n",
      "\t Percent(T==1)\n",
      "\t\tConcrete: 45.016\n",
      "\t\tSampled: 46.087\n",
      "BALANCE\n",
      "\t Wass dist X_true: T=1<->T=0\n",
      "\t\tConcrete: 0.053\n",
      "\t\tSampled: 0.046\n",
      "ALIGNMENT\n",
      "\t Lin r2(Y, Treat Logit)\n",
      "\t\tConcrete: 0.031\n",
      "\t\tSampled: 0.166\n",
      "\t Lin r2(Y0, Treat Logit)\n",
      "\t\tConcrete: 0.006\n",
      "\t\tSampled: 0.213\n",
      "TE_HETEROGENEITY\n",
      "\t std(TE)/std(Y)\n",
      "\t\tConcrete: 0.0\n",
      "\t\tSampled: 0.0\n",
      "TREATMENT_NONLINEARITY Log r2(X_obs, T) [0.666, 0.671, 0.66, 0.633, 0.661, 0.674, 0.654, 0.654, 0.642, 0.647, 0.593, 0.69, 0.632, 0.639, 0.667, 0.668, 0.678, 0.681, 0.671, 0.654, 0.674, 0.658, 0.617, 0.658, 0.66]\n",
      "TREATMENT_NONLINEARITY Lin r2(X_obs, Treat Logit) [0.854, 0.757, 0.74, 0.566, 0.755, 0.851, 0.737, 0.665, 0.574, 0.581, 0.257, 0.936, 0.591, 0.587, 0.786, 0.834, 0.938, 0.956, 0.912, 0.627, 0.925, 0.733, 0.38, 0.689, 0.762]\n",
      "TREATMENT_NONLINEARITY Lin r2(X_true, Treat Logit) [1.0, 1.0, 1.0, 1.0, 1.0, 1.0, 1.0, 1.0, 1.0, 1.0, 1.0, 1.0, 1.0, 1.0, 1.0, 1.0, 1.0, 1.0, 1.0, 1.0, 1.0, 1.0, 1.0, 1.0, 1.0]\n"
     ]
    }
   ],
   "source": [
    "if SAMPLED_IN_ANALYSIS_MODE and CONCRETE_IN_ANALYSIS_MODE:\n",
    "    for axes, metrics in DATA_METRICS_SPEC.items():\n",
    "        print(axes)\n",
    "        for metric in metrics:\n",
    "            print(\"\\t\", metric)\n",
    "\n",
    "            key = f\"{axes} {metric}\"\n",
    "            print(\"\\t\\tConcrete:\", np.round(concrete_data_agg[key], 3))\n",
    "            print(\"\\t\\tSampled:\", np.round(sampled_data_agg[key], 3))\n",
    "    \n",
    "    for name, vals in sampled_data_raw.items():\n",
    "        if name.startswith(\"TREATMENT_NONLINEARITY\"):\n",
    "            print(name, vals)"
   ]
  },
  {
   "cell_type": "markdown",
   "metadata": {},
   "source": [
    "## Performance Comparison\n",
    "\n",
    "Notes\n",
    "\n",
    "At config A, 20-50 matches across runs. Wide distro. Should investigate the stability of the concrete distro when n=1000.\n",
    "\n",
    "At config G, 20-50 has much lower bias in the sampled benchmark. The concrete function appears to be a worst case scenario given that very similar functions experience much lower typical bias. The distribution is right tailed and so it is possible that the concrete func chosen is just an (un)lucky sample from right tail.\n",
    "\n",
    "I will test this by permuting the variable order in the exact same functional form."
   ]
  },
  {
   "cell_type": "markdown",
   "metadata": {},
   "source": [
    "### Concrete Performance"
   ]
  },
  {
   "cell_type": "code",
   "execution_count": 31,
   "metadata": {},
   "outputs": [
    {
     "data": {
      "text/plain": [
       "{'RMSE': 0.106, 'RMSE (std)': 0.007, 'AMBP': 13.034, 'AMBP (std)': 2.172}"
      ]
     },
     "execution_count": 31,
     "metadata": {},
     "output_type": "execute_result"
    }
   ],
   "source": [
    "concrete_perf_agg"
   ]
  },
  {
   "cell_type": "code",
   "execution_count": 32,
   "metadata": {},
   "outputs": [
    {
     "data": {
      "image/png": "[encoded data removed]",
      "text/plain": [
       "<Figure size 432x288 with 1 Axes>"
      ]
     },
     "metadata": {
      "needs_background": "light"
     },
     "output_type": "display_data"
    }
   ],
   "source": [
    "plt.hist(concrete_perf_raw[\"AMBP\"], density=True)\n",
    "plt.show()"
   ]
  },
  {
   "cell_type": "markdown",
   "metadata": {},
   "source": [
    "### Sampled Performance"
   ]
  },
  {
   "cell_type": "code",
   "execution_count": 33,
   "metadata": {},
   "outputs": [
    {
     "data": {
      "text/plain": [
       "{'RMSE': 0.055, 'RMSE (std)': 0.01, 'AMBP': 3.001, 'AMBP (std)': 2.332}"
      ]
     },
     "execution_count": 33,
     "metadata": {},
     "output_type": "execute_result"
    }
   ],
   "source": [
    "sampled_perf_agg"
   ]
  },
  {
   "cell_type": "code",
   "execution_count": 34,
   "metadata": {},
   "outputs": [
    {
     "data": {
      "image/png": "[encoded data removed]",
      "text/plain": [
       "<Figure size 432x288 with 1 Axes>"
      ]
     },
     "metadata": {
      "needs_background": "light"
     },
     "output_type": "display_data"
    }
   ],
   "source": [
    "plt.hist(sampled_perf_raw[\"AMBP\"], density=True)\n",
    "plt.show()"
   ]
  },
  {
   "cell_type": "code",
   "execution_count": 35,
   "metadata": {},
   "outputs": [
    {
     "data": {
      "image/png": "[encoded data removed]",
      "text/plain": [
       "<Figure size 432x288 with 1 Axes>"
      ]
     },
     "metadata": {
      "needs_background": "light"
     },
     "output_type": "display_data"
    }
   ],
   "source": [
    "flat_list = [item for sublist in sampled_perf_run_raw[\"AMBP\"] for item in sublist]\n",
    "plt.hist(flat_list)\n",
    "plt.show()"
   ]
  },
  {
   "cell_type": "code",
   "execution_count": 36,
   "metadata": {},
   "outputs": [],
   "source": [
    "def get_cmap(n, name='hsv'):\n",
    "    '''Returns a function that maps each index in 0, 1, ..., n-1 to a distinct \n",
    "    RGB color; the keyword argument name must be a standard mpl colormap name.'''\n",
    "    return plt.cm.get_cmap(name, n)"
   ]
  },
  {
   "cell_type": "code",
   "execution_count": 37,
   "metadata": {},
   "outputs": [
    {
     "data": {
      "image/png": "[encoded data removed]",
      "text/plain": [
       "<Figure size 432x288 with 1 Axes>"
      ]
     },
     "metadata": {
      "needs_background": "light"
     },
     "output_type": "display_data"
    }
   ],
   "source": [
    "cmap = get_cmap(len(sampled_perf_run_raw[\"AMBP\"]))\n",
    "\n",
    "for i, runs in enumerate(sampled_perf_run_raw[\"AMBP\"]):\n",
    "    plt.hist(runs, density=True, alpha=0.5, color=cmap(i))\n",
    "#     plt.axvline(x=np.mean(runs), alpha=0.25)\n",
    "    plt.axvline(x=np.median(runs), alpha=0.5, c=cmap(i))\n",
    "    \n",
    "plt.hist(concrete_perf_raw[\"AMBP\"], density=True, color=\"b\", label=\"concrete\")\n",
    "# plt.axvline(x=np.mean(concrete_perf_raw[\"AMBP\"]), c=\"r\")\n",
    "plt.axvline(x=np.median(concrete_perf_raw[\"AMBP\"]), c=\"b\")\n",
    "plt.legend()\n",
    "plt.ylim((0, 10))\n",
    "plt.show()\n",
    "# "
   ]
  },
  {
   "cell_type": "code",
   "execution_count": 38,
   "metadata": {},
   "outputs": [],
   "source": [
    "metric = \"TREATMENT_NONLINEARITY Lin r2(X_obs, Treat Logit)\""
   ]
  },
  {
   "cell_type": "code",
   "execution_count": 39,
   "metadata": {},
   "outputs": [],
   "source": [
    "sample_metric_vals = sampled_data_raw[metric]\n",
    "concrete_metric_val = concrete_data_agg[metric]"
   ]
  },
  {
   "cell_type": "code",
   "execution_count": 40,
   "metadata": {},
   "outputs": [
    {
     "data": {
      "text/plain": [
       "0.787"
      ]
     },
     "execution_count": 40,
     "metadata": {},
     "output_type": "execute_result"
    }
   ],
   "source": [
    "concrete_metric_val"
   ]
  },
  {
   "cell_type": "code",
   "execution_count": 41,
   "metadata": {},
   "outputs": [
    {
     "data": {
      "text/plain": [
       "(array([0.067, 0.03 , 0.047, 0.221, 0.032, 0.064, 0.05 , 0.122, 0.213,\n",
       "        0.206, 0.53 , 0.149, 0.196, 0.2  , 0.001, 0.047, 0.151, 0.169,\n",
       "        0.125, 0.16 , 0.138, 0.054, 0.407, 0.098, 0.025]), 0.17061477544456694)"
      ]
     },
     "execution_count": 41,
     "metadata": {},
     "output_type": "execute_result"
    }
   ],
   "source": [
    "np.abs(sample_metric_vals - concrete_metric_val), np.std(sample_metric_vals)"
   ]
  },
  {
   "cell_type": "code",
   "execution_count": 43,
   "metadata": {},
   "outputs": [
    {
     "data": {
      "image/png": "[encoded data removed]",
      "text/plain": [
       "<Figure size 432x288 with 1 Axes>"
      ]
     },
     "metadata": {
      "needs_background": "light"
     },
     "output_type": "display_data"
    }
   ],
   "source": [
    "sample_metric_vals = sampled_data_raw[metric]\n",
    "sample_metric_std = np.std(sample_metric_vals)\n",
    "select_tol = 2*sample_metric_std\n",
    "selected_runs = np.abs(sample_metric_vals - concrete_metric_val) < select_tol\n",
    "\n",
    "cmap = get_cmap(len(sampled_perf_run_raw[\"AMBP\"]))\n",
    "for i, runs in enumerate(sampled_perf_run_raw[\"AMBP\"]):\n",
    "    if selected_runs[i]:\n",
    "        plt.hist(runs, density=True, alpha=0.5, color=cmap(i))\n",
    "        plt.axvline(x=np.mean(runs), alpha=0.5, c=cmap(i))\n",
    "#         plt.axvline(x=np.median(runs), alpha=0.5, c=cmap(i))\n",
    "        \n",
    "    \n",
    "plt.hist(concrete_perf_raw[\"AMBP\"], density=True, color=\"b\", label=\"concrete\")\n",
    "plt.axvline(x=np.mean(concrete_perf_raw[\"AMBP\"]), c=\"b\")\n",
    "# plt.axvline(x=np.median(concrete_perf_raw[\"AMBP\"]), c=\"b\")\n",
    "plt.legend()\n",
    "plt.show()\n",
    "# "
   ]
  },
  {
   "cell_type": "code",
   "execution_count": 27,
   "metadata": {
    "scrolled": true
   },
   "outputs": [
    {
     "data": {
      "text/plain": [
       "defaultdict(list,\n",
       "            {'OUTCOME_NONLINEARITY Lin r2(X_obs, Y)': [0.963,\n",
       "              0.964,\n",
       "              0.964,\n",
       "              0.96,\n",
       "              0.961,\n",
       "              0.963,\n",
       "              0.965,\n",
       "              0.966,\n",
       "              0.965,\n",
       "              0.964,\n",
       "              0.964,\n",
       "              0.968,\n",
       "              0.965,\n",
       "              0.958,\n",
       "              0.963,\n",
       "              0.966,\n",
       "              0.962,\n",
       "              0.967,\n",
       "              0.967,\n",
       "              0.968,\n",
       "              0.965,\n",
       "              0.963,\n",
       "              0.96,\n",
       "              0.965,\n",
       "              0.963],\n",
       "             'OUTCOME_NONLINEARITY Lin r2(X_true, Y)': [0.964,\n",
       "              0.966,\n",
       "              0.965,\n",
       "              0.963,\n",
       "              0.963,\n",
       "              0.964,\n",
       "              0.967,\n",
       "              0.968,\n",
       "              0.968,\n",
       "              0.968,\n",
       "              0.968,\n",
       "              0.969,\n",
       "              0.967,\n",
       "              0.961,\n",
       "              0.965,\n",
       "              0.967,\n",
       "              0.963,\n",
       "              0.967,\n",
       "              0.967,\n",
       "              0.97,\n",
       "              0.966,\n",
       "              0.965,\n",
       "              0.964,\n",
       "              0.967,\n",
       "              0.965],\n",
       "             'TREATMENT_NONLINEARITY Log r2(X_obs, T)': [0.666,\n",
       "              0.671,\n",
       "              0.66,\n",
       "              0.633,\n",
       "              0.661,\n",
       "              0.674,\n",
       "              0.654,\n",
       "              0.654,\n",
       "              0.642,\n",
       "              0.647,\n",
       "              0.593,\n",
       "              0.69,\n",
       "              0.632,\n",
       "              0.639,\n",
       "              0.667,\n",
       "              0.668,\n",
       "              0.678,\n",
       "              0.681,\n",
       "              0.671,\n",
       "              0.654,\n",
       "              0.674,\n",
       "              0.658,\n",
       "              0.617,\n",
       "              0.658,\n",
       "              0.66],\n",
       "             'TREATMENT_NONLINEARITY Lin r2(X_obs, Treat Logit)': [0.854,\n",
       "              0.757,\n",
       "              0.74,\n",
       "              0.566,\n",
       "              0.755,\n",
       "              0.851,\n",
       "              0.737,\n",
       "              0.665,\n",
       "              0.574,\n",
       "              0.581,\n",
       "              0.257,\n",
       "              0.936,\n",
       "              0.591,\n",
       "              0.587,\n",
       "              0.786,\n",
       "              0.834,\n",
       "              0.938,\n",
       "              0.956,\n",
       "              0.912,\n",
       "              0.627,\n",
       "              0.925,\n",
       "              0.733,\n",
       "              0.38,\n",
       "              0.689,\n",
       "              0.762],\n",
       "             'TREATMENT_NONLINEARITY Lin r2(X_true, Treat Logit)': [1.0,\n",
       "              1.0,\n",
       "              1.0,\n",
       "              1.0,\n",
       "              1.0,\n",
       "              1.0,\n",
       "              1.0,\n",
       "              1.0,\n",
       "              1.0,\n",
       "              1.0,\n",
       "              1.0,\n",
       "              1.0,\n",
       "              1.0,\n",
       "              1.0,\n",
       "              1.0,\n",
       "              1.0,\n",
       "              1.0,\n",
       "              1.0,\n",
       "              1.0,\n",
       "              1.0,\n",
       "              1.0,\n",
       "              1.0,\n",
       "              1.0,\n",
       "              1.0,\n",
       "              1.0],\n",
       "             'PERCENT_TREATED Percent(T==1)': [44.623,\n",
       "              44.037,\n",
       "              43.863,\n",
       "              46.506,\n",
       "              47.299,\n",
       "              45.9,\n",
       "              48.136,\n",
       "              46.182,\n",
       "              45.954,\n",
       "              46.411,\n",
       "              45.958,\n",
       "              45.044,\n",
       "              47.808,\n",
       "              46.06,\n",
       "              46.481,\n",
       "              47.804,\n",
       "              45.871,\n",
       "              46.504,\n",
       "              45.848,\n",
       "              45.311,\n",
       "              47.333,\n",
       "              46.355,\n",
       "              45.68,\n",
       "              45.497,\n",
       "              45.717],\n",
       "             'BALANCE Wass dist X_true: T=1<->T=0': [0.038,\n",
       "              0.034,\n",
       "              0.045,\n",
       "              0.035,\n",
       "              0.048,\n",
       "              0.054,\n",
       "              0.031,\n",
       "              0.033,\n",
       "              0.035,\n",
       "              0.052,\n",
       "              0.042,\n",
       "              0.058,\n",
       "              0.031,\n",
       "              0.038,\n",
       "              0.044,\n",
       "              0.061,\n",
       "              0.057,\n",
       "              0.046,\n",
       "              0.04,\n",
       "              0.038,\n",
       "              0.041,\n",
       "              0.042,\n",
       "              0.055,\n",
       "              0.051,\n",
       "              0.094],\n",
       "             'ALIGNMENT Lin r2(Y, Treat Logit)': [0.166,\n",
       "              0.017,\n",
       "              0.075,\n",
       "              0.332,\n",
       "              0.31,\n",
       "              0.24,\n",
       "              0.003,\n",
       "              0.063,\n",
       "              0.022,\n",
       "              0.007,\n",
       "              0.007,\n",
       "              0.198,\n",
       "              0.013,\n",
       "              0.21,\n",
       "              0.068,\n",
       "              0.081,\n",
       "              0.165,\n",
       "              0.786,\n",
       "              0.168,\n",
       "              0.008,\n",
       "              0.214,\n",
       "              0.208,\n",
       "              0.093,\n",
       "              0.409,\n",
       "              0.29],\n",
       "             'ALIGNMENT Lin r2(Y0, Treat Logit)': [0.231,\n",
       "              0.046,\n",
       "              0.123,\n",
       "              0.408,\n",
       "              0.39,\n",
       "              0.315,\n",
       "              0.002,\n",
       "              0.031,\n",
       "              0.053,\n",
       "              0.028,\n",
       "              0.001,\n",
       "              0.267,\n",
       "              0.036,\n",
       "              0.285,\n",
       "              0.12,\n",
       "              0.133,\n",
       "              0.234,\n",
       "              0.838,\n",
       "              0.231,\n",
       "              0.001,\n",
       "              0.284,\n",
       "              0.278,\n",
       "              0.146,\n",
       "              0.484,\n",
       "              0.366],\n",
       "             'TE_HETEROGENEITY std(TE)/std(Y)': [0.0,\n",
       "              0.0,\n",
       "              0.0,\n",
       "              0.0,\n",
       "              0.0,\n",
       "              0.0,\n",
       "              0.0,\n",
       "              0.0,\n",
       "              0.0,\n",
       "              0.0,\n",
       "              0.0,\n",
       "              0.0,\n",
       "              0.0,\n",
       "              0.0,\n",
       "              0.0,\n",
       "              0.0,\n",
       "              0.0,\n",
       "              0.0,\n",
       "              0.0,\n",
       "              0.0,\n",
       "              0.0,\n",
       "              0.0,\n",
       "              0.0,\n",
       "              0.0,\n",
       "              0.0]})"
      ]
     },
     "execution_count": 27,
     "metadata": {},
     "output_type": "execute_result"
    }
   ],
   "source": [
    "sampled_data_raw"
   ]
  },
  {
   "cell_type": "markdown",
   "metadata": {},
   "source": [
    "### Exploratory Analysis"
   ]
  },
  {
   "cell_type": "code",
   "execution_count": 28,
   "metadata": {
    "run_control": {
     "marked": true
    }
   },
   "outputs": [],
   "source": [
    "# data = np.array(sampled_perf_raw[\"absolute mean bias %\"])\n",
    "# clean_data = data[data < 20]\n",
    "# plt.hist(clean_data)\n",
    "# plt.show()\n",
    "# np.mean(clean_data)"
   ]
  },
  {
   "cell_type": "code",
   "execution_count": 29,
   "metadata": {},
   "outputs": [],
   "source": [
    "# plt.scatter(\n",
    "#     np.array(sampled_data_raw[\"TREATMENT_NONLINEARITY Lin r2(X_obs, Treat Logit)\"])[data < 8],\n",
    "#     np.array(sampled_perf_raw[\"absolute mean bias %\"])[data < 8])"
   ]
  },
  {
   "cell_type": "code",
   "execution_count": 30,
   "metadata": {},
   "outputs": [],
   "source": [
    "# plt.scatter(\n",
    "#     np.array(sampled_data_raw[\"TREATMENT_NONLINEARITY Lin r2(X_obs, Treat Logit)\"])[data < 8],\n",
    "#     np.array(sampled_perf_raw[\"absolute mean bias %\"])[data < 8],\n",
    "#     c=\"b\")\n",
    "\n",
    "# plt.scatter(\n",
    "#     np.array(concrete_data_raw[\"TREATMENT_NONLINEARITY Lin r2(X_obs, Treat Logit)\"]),\n",
    "#     np.array(concrete_perf_raw[\"absolute mean bias %\"]),\n",
    "#     c=\"r\")"
   ]
  },
  {
   "cell_type": "code",
   "execution_count": null,
   "metadata": {},
   "outputs": [],
   "source": []
  }
 ],
 "metadata": {
  "kernelspec": {
   "display_name": "Python 3",
   "language": "python",
   "name": "python3"
  },
  "language_info": {
   "codemirror_mode": {
    "name": "ipython",
    "version": 3
   },
   "file_extension": ".py",
   "mimetype": "text/x-python",
   "name": "python",
   "nbconvert_exporter": "python",
   "pygments_lexer": "ipython3",
   "version": "3.7.3"
  },
  "varInspector": {
   "cols": {
    "lenName": 16,
    "lenType": 16,
    "lenVar": 40
   },
   "kernels_config": {
    "python": {
     "delete_cmd_postfix": "",
     "delete_cmd_prefix": "del ",
     "library": "var_list.py",
     "varRefreshCmd": "print(var_dic_list())"
    },
    "r": {
     "delete_cmd_postfix": ") ",
     "delete_cmd_prefix": "rm(",
     "library": "var_list.r",
     "varRefreshCmd": "cat(var_dic_list()) "
    }
   },
   "types_to_exclude": [
    "module",
    "function",
    "builtin_function_or_method",
    "instance",
    "_Feature"
   ],
   "window_display": false
  }
 },
 "nbformat": 4,
 "nbformat_minor": 2
}
