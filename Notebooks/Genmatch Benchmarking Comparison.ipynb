{
 "cells": [
  {
   "cell_type": "code",
   "execution_count": 1,
   "metadata": {},
   "outputs": [],
   "source": [
    "#!pip install -e ../Maccabee > /dev/null"
   ]
  },
  {
   "cell_type": "code",
   "execution_count": 2,
   "metadata": {},
   "outputs": [],
   "source": [
    "%load_ext autoreload\n",
    "%autoreload 2"
   ]
  },
  {
   "cell_type": "code",
   "execution_count": 3,
   "metadata": {},
   "outputs": [],
   "source": [
    "from maccabee.data_analysis.data_metrics import AXES_AND_METRIC_NAMES\n",
    "from maccabee.constants import Constants\n",
    "import maccabee.data_sources as data_sources\n",
    "from maccabee.parameters import build_default_parameters\n",
    "\n",
    "from maccabee.data_generation import DataGeneratingProcess, SampledDataGeneratingProcess, data_generating_method\n",
    "\n",
    "# benchmarks\n",
    "from maccabee.benchmarking import benchmark_model_using_concrete_dgp\n",
    "from maccabee.benchmarking import benchmark_model_using_sampled_dgp\n",
    "from maccabee.benchmarking import benchmark_model_using_sampled_dgp_grid\n",
    "\n",
    "# genmatch\n",
    "from maccabee.examples.genmatch import GenmatchDataGeneratingProcess, build_genmatch_datasource, GENMATCH_SPECS\n",
    "from maccabee.examples.genmatch import LogisticPropensityMatchingCausalModel"
   ]
  },
  {
   "cell_type": "code",
   "execution_count": 4,
   "metadata": {},
   "outputs": [],
   "source": [
    "import numpy as np\n",
    "from collections import defaultdict\n",
    "import pandas as pd\n",
    "import matplotlib.pyplot as plt"
   ]
  },
  {
   "cell_type": "code",
   "execution_count": 51,
   "metadata": {},
   "outputs": [],
   "source": [
    "BASE_GENMATCH_DGP_PARAMS = {\n",
    "  \"OUTCOME_MECHANISM_COVARIATE_SELECTION_PROBABILITY\": { \n",
    "        \"LINEAR\": 0.7,\n",
    "        \"POLY_QUAD\": 0,\n",
    "        \"POLY_CUBIC\": 0,\n",
    "        \"STEP_JUMP\": 0,\n",
    "        \"STEP_KINK\": 0,\n",
    "        \"INTERACTION_TWO_WAY\": 0,\n",
    "        \"INTERACTION_THREE_WAY\": 0,\n",
    "  },\n",
    "  \"TREATMENT_EFFECT_HETEROGENEITY\": 0,\n",
    "  \"ACTUAL_CONFOUNDER_ALIGNMENT\": 0,\n",
    "  \"MIN_PROPENSITY_SCORE\": 0.000000000000001,\n",
    "  \"MAX_PROPENSITY_SCORE\": 0.999999999999999,\n",
    "  \"OUTCOME_NOISE_TAIL_THICKNESS\": 1000,\n",
    "  \"SUBFUNCTION_CONSTANT_TAIL_THICKNESS\": 1000,\n",
    "  \"TREATMENT_EFFECT_TAIL_THICKNESS\": 1000\n",
    "}\n",
    "\n",
    "A_param_overrides = BASE_GENMATCH_DGP_PARAMS.copy()\n",
    "A_param_overrides[\"TREAT_MECHANISM_COVARIATE_SELECTION_PROBABILITY\"] = { \n",
    "    \"LINEAR\": 0.7,\n",
    "    \"POLY_QUAD\": 0,\n",
    "    \"POLY_CUBIC\": 0,\n",
    "    \"STEP_JUMP\": 0,\n",
    "    \"STEP_KINK\": 0,\n",
    "    \"INTERACTION_TWO_WAY\": 0.0,\n",
    "    \"INTERACTION_THREE_WAY\": 0,\n",
    "}\n",
    "  \n",
    "C_param_overrides = BASE_GENMATCH_DGP_PARAMS.copy()\n",
    "C_param_overrides[\"TREAT_MECHANISM_COVARIATE_SELECTION_PROBABILITY\"] = { \n",
    "    \"LINEAR\": 0.7,\n",
    "    \"POLY_QUAD\": 0.3,\n",
    "    \"POLY_CUBIC\": 0,\n",
    "    \"STEP_JUMP\": 0,\n",
    "    \"STEP_KINK\": 0,\n",
    "    \"INTERACTION_TWO_WAY\": 0.0,\n",
    "    \"INTERACTION_THREE_WAY\": 0,\n",
    "}\n",
    "\n",
    "G_param_overrides = BASE_GENMATCH_DGP_PARAMS.copy()\n",
    "G_param_overrides[\"TREAT_MECHANISM_COVARIATE_SELECTION_PROBABILITY\"] = { \n",
    "    \"LINEAR\": 0.7,\n",
    "    \"POLY_QUAD\": 0.75,\n",
    "    \"POLY_CUBIC\": 0,\n",
    "    \"STEP_JUMP\": 0,\n",
    "    \"STEP_KINK\": 0,\n",
    "    \"INTERACTION_TWO_WAY\": 0.1,\n",
    "    \"INTERACTION_THREE_WAY\": 0,\n",
    "}\n",
    "\n",
    "X_param_overrides = BASE_GENMATCH_DGP_PARAMS.copy()\n",
    "X_param_overrides[\"TREAT_MECHANISM_COVARIATE_SELECTION_PROBABILITY\"] = { \n",
    "    \"LINEAR\": 0.7,\n",
    "    \"POLY_QUAD\": 0.99,\n",
    "    \"POLY_CUBIC\": 0.99,\n",
    "    \"STEP_JUMP\": 0,\n",
    "    \"STEP_KINK\": 0,\n",
    "    \"INTERACTION_TWO_WAY\": 0.99,\n",
    "    \"INTERACTION_THREE_WAY\": 0,\n",
    "}"
   ]
  },
  {
   "cell_type": "code",
   "execution_count": 52,
   "metadata": {
    "run_control": {
     "marked": true
    }
   },
   "outputs": [],
   "source": [
    "# Define axes and metrics to analyze\n",
    "DATA_METRICS_SPEC = {\n",
    "    Constants.AxisNames.OUTCOME_NONLINEARITY: [\n",
    "        \"Lin r2(X_obs, Y)\",\n",
    "        \"Lin r2(X_true, Y)\"\n",
    "    ],\n",
    "    Constants.AxisNames.TREATMENT_NONLINEARITY: [\n",
    "        \"Lin r2(X_obs, Treat Logit)\",\n",
    "        \"Lin r2(X_true, Treat Logit)\",\n",
    "        \"Log r2(X_obs, T)\"\n",
    "    ],\n",
    "    Constants.AxisNames.PERCENT_TREATED: [\n",
    "        \"Percent(T==1)\"\n",
    "    ],\n",
    "    Constants.AxisNames.BALANCE: [\n",
    "        \"Wass dist X_true: T=1<->T=0\",\n",
    "    ],\n",
    "    Constants.AxisNames.ALIGNMENT: [\n",
    "        \"Lin r2(Y, Treat Logit)\",\n",
    "        \"Lin r2(Y0, Treat Logit)\"\n",
    "    ],\n",
    "    Constants.AxisNames.TE_HETEROGENEITY: [\n",
    "        \"std(TE)/std(Y)\"\n",
    "    ]\n",
    "}"
   ]
  },
  {
   "cell_type": "markdown",
   "metadata": {},
   "source": [
    "## Run MC Benchmarks"
   ]
  },
  {
   "cell_type": "code",
   "execution_count": 39,
   "metadata": {},
   "outputs": [
    {
     "name": "stdout",
     "output_type": "stream",
     "text": [
      "CPU times: user 1.3 s, sys: 1.05 s, total: 2.35 s\n",
      "Wall time: 15.1 s\n"
     ]
    }
   ],
   "source": [
    "%%time\n",
    "\n",
    "CONCRETE_IN_ANALYSIS_MODE = True\n",
    "\n",
    "# Concrete Genmatch Benchmark\n",
    "dgp = GenmatchDataGeneratingProcess(\n",
    "    *GENMATCH_SPECS[\"G\"],\n",
    "    n_observations=1000,\n",
    "    data_analysis_mode=CONCRETE_IN_ANALYSIS_MODE)\n",
    "\n",
    "concrete_perf_agg, concrete_perf_raw, concrete_data_agg, concrete_data_raw = \\\n",
    "    benchmark_model_using_concrete_dgp(\n",
    "        dgp=dgp,\n",
    "        model_class=LogisticPropensityMatchingCausalModel,\n",
    "        estimand=Constants.Model.ATE_ESTIMAND,\n",
    "        num_sampling_runs_per_dgp=10,\n",
    "        num_samples_from_dgp=20,\n",
    "        data_analysis_mode=CONCRETE_IN_ANALYSIS_MODE,\n",
    "        data_metrics_spec=DATA_METRICS_SPEC,\n",
    "        n_jobs=7)"
   ]
  },
  {
   "cell_type": "code",
   "execution_count": 40,
   "metadata": {},
   "outputs": [],
   "source": [
    "TRUE_TREAT_LOGIT = dgp.treatment_logit_expression"
   ]
  },
  {
   "cell_type": "code",
   "execution_count": 61,
   "metadata": {},
   "outputs": [
    {
     "name": "stdout",
     "output_type": "stream",
     "text": [
      "Max(-34.5387763949107, Min(34.5395759923409, 3.14600590542431*X0*X3 + 3.20293697732962*X0*X6 + 0.198234871484064*X0 + 3.73619909509066*X1 + 3.38534076344525*X10**2 - 0.425507820860809*X10*X2 - 1.00792299486363*X2*X7 - 1.75898812689812*X2 + 0.300605970234536*X3*X8 - 1.24569482596425*X3 + 2.05337480065185*X4 + 3.07407474638961*X5 + 2.97589479998303*X6*X9 + 2.02461091578599*X6 - 3.11915079623846*X7**2 + 2.9845811074006*X7 - 1.79456134434737*X8 - 0.192210919740777*X9 + 2.0476120244453))\n",
      "Max(-34.5387763949107, Min(34.5395759923409, -8.07656468273171*X0*X10 - 4.56359073352546*X0 - 6.18988893315807*X1*X4 + 2.274739715473*X1 + 0.141648206233793*X10**2 - 4.20311505822938*X10*X9 + 6.36852075026793*X10 + 6.43251132480592*X2**2 - 0.675495289599939*X2 + 5.54441709529065*X3 - 7.7458361878943*X4**2 + 1.3374672051272*X4 - 2.33490595665114*X5 + 3.86972472676507*X6 + 7.5597236126576*X7**2 - 3.470299165427*X8 + 1.81336399748395))\n",
      "Max(-34.5387763949107, Min(34.5395759923409, 3.07013486593713*X0*X2 - 3.93746998755453*X0 - 2.14433031072341*X1*X4 + 2.07248066505353*X1*X7 + 1.70093887438564*X10*X2 + 4.09753919755568*X10 - 3.97167455559715*X2**2 + 0.156550058812673*X2*X4 + 5.65741685428149*X2 + 1.15415495478461*X3*X7 + 4.34284182879191*X4**2 + 5.28653580770543*X4 - 2.43288234825935*X5*X8 + 4.3269399869172*X6 + 0.534966164998696*X7**2 - 4.23523619467801*X7 + 5.92722404090636*X8 - 3.4249755210485*X9 + 0.0859348742190293))\n",
      "CPU times: user 2.43 s, sys: 1.78 s, total: 4.21 s\n",
      "Wall time: 1min 7s\n"
     ]
    }
   ],
   "source": [
    "%%time\n",
    "\n",
    "SAMPLED_IN_ANALYSIS_MODE = True\n",
    "\n",
    "from maccabee.data_generation.utils import evaluate_expression\n",
    "# Sampled Genmatch Benchmark\n",
    "class ModifiedNoiseSampledDataGeneratingProcess(SampledDataGeneratingProcess):\n",
    "    @data_generating_method(Constants.DGPVariables.OUTCOME_NOISE_NAME, [])\n",
    "    def _generate_outcome_noise_samples(self, input_vars):\n",
    "        return 0\n",
    "    \n",
    "    @data_generating_method(Constants.DGPVariables.TREATMENT_EFFECT_NAME, [])\n",
    "    def _generate_treatment_effects(self, input_vars):\n",
    "        return -0.4\n",
    "    \n",
    "#     @data_generating_method(Constants.DGPVariables.PROPENSITY_SCORE_NAME,\n",
    "#                             [Constants.DGPVariables.COVARIATES_NAME])\n",
    "#     def _generate_true_propensity_scores(self, input_vars):\n",
    "#         observed_covariate_data = input_vars[Constants.DGPVariables.COVARIATES_NAME]\n",
    "\n",
    "#         logits = evaluate_expression(\n",
    "#             TRUE_TREAT_LOGIT,\n",
    "#             observed_covariate_data)\n",
    "\n",
    "#         return 1/(1 + np.exp(-1*logits))\n",
    "    \n",
    "dgp_params = build_default_parameters()\n",
    "dgp_params.set_parameters(G_param_overrides)\n",
    "\n",
    "sampled_perf_agg, sampled_perf_raw, sampled_perf_run_raw, sampled_data_agg, sampled_data_raw = \\\n",
    "    benchmark_model_using_sampled_dgp(\n",
    "        dgp_params, build_genmatch_datasource(),\n",
    "        dgp_kwargs={\"data_analysis_mode\": SAMPLED_IN_ANALYSIS_MODE},\n",
    "        dgp_class=ModifiedNoiseSampledDataGeneratingProcess,\n",
    "        model_class=LogisticPropensityMatchingCausalModel,\n",
    "        estimand=Constants.Model.ATE_ESTIMAND,\n",
    "        num_dgp_samples=3,#15,\n",
    "        num_sampling_runs_per_dgp=5,\n",
    "        num_samples_from_dgp=20,#35,\n",
    "        data_analysis_mode=SAMPLED_IN_ANALYSIS_MODE,\n",
    "        data_metrics_spec=DATA_METRICS_SPEC,\n",
    "        n_jobs=7)"
   ]
  },
  {
   "cell_type": "code",
   "execution_count": 63,
   "metadata": {},
   "outputs": [
    {
     "data": {
      "text/plain": [
       "defaultdict(list,\n",
       "            {'RMSE': [[0.46285855778304064,\n",
       "               0.3554350765741831,\n",
       "               0.4227431265987133,\n",
       "               0.4331598739043833,\n",
       "               0.38367243033768805],\n",
       "              [0.2879166148738583,\n",
       "               0.2506585981861691,\n",
       "               0.2365816937353622,\n",
       "               0.2789001369028679,\n",
       "               0.2472362406608296],\n",
       "              [0.7371074979508867,\n",
       "               0.5185766583876027,\n",
       "               0.6976862991869899,\n",
       "               0.6472128052111185,\n",
       "               0.6234743716232166]],\n",
       "             'AMBP': [[6.8592416789454145,\n",
       "               9.045832371911523,\n",
       "               10.90677035955564,\n",
       "               12.223281135419365,\n",
       "               58.40921585418255],\n",
       "              [47.49226195796379,\n",
       "               41.741679725917685,\n",
       "               22.707931376545858,\n",
       "               26.792842619378053,\n",
       "               35.254063564003566],\n",
       "              [90.92630694886367,\n",
       "               35.17347746780117,\n",
       "               12.36432930257493,\n",
       "               32.81356782639545,\n",
       "               11.317097749825162]]})"
      ]
     },
     "execution_count": 63,
     "metadata": {},
     "output_type": "execute_result"
    }
   ],
   "source": [
    "sampled_perf_run_raw"
   ]
  },
  {
   "cell_type": "markdown",
   "metadata": {},
   "source": [
    "## Data Metric Comparison"
   ]
  },
  {
   "cell_type": "code",
   "execution_count": 64,
   "metadata": {
    "run_control": {
     "marked": true
    }
   },
   "outputs": [
    {
     "name": "stdout",
     "output_type": "stream",
     "text": [
      "OUTCOME_NONLINEARITY\n",
      "\t Lin r2(X_obs, Y)\n",
      "\t\tConcrete: 0.971\n",
      "\t\tSampled: 0.983\n",
      "\t Lin r2(X_true, Y)\n",
      "\t\tConcrete: 0.971\n",
      "\t\tSampled: 0.986\n",
      "TREATMENT_NONLINEARITY\n",
      "\t Lin r2(X_obs, Treat Logit)\n",
      "\t\tConcrete: 0.785\n",
      "\t\tSampled: 0.801\n",
      "\t Lin r2(X_true, Treat Logit)\n",
      "\t\tConcrete: 1.0\n",
      "\t\tSampled: 1.0\n",
      "\t Log r2(X_obs, T)\n",
      "\t\tConcrete: 0.726\n",
      "\t\tSampled: 0.863\n",
      "PERCENT_TREATED\n",
      "\t Percent(T==1)\n",
      "\t\tConcrete: 45.084\n",
      "\t\tSampled: 50.632\n",
      "BALANCE\n",
      "\t Wass dist X_true: T=1<->T=0\n",
      "\t\tConcrete: 0.053\n",
      "\t\tSampled: 0.074\n",
      "ALIGNMENT\n",
      "\t Lin r2(Y, Treat Logit)\n",
      "\t\tConcrete: 0.033\n",
      "\t\tSampled: 0.145\n",
      "\t Lin r2(Y0, Treat Logit)\n",
      "\t\tConcrete: 0.007\n",
      "\t\tSampled: 0.097\n",
      "TE_HETEROGENEITY\n",
      "\t std(TE)/std(Y)\n",
      "\t\tConcrete: 0.0\n",
      "\t\tSampled: 0.0\n",
      "TREATMENT_NONLINEARITY Log r2(X_obs, T) [0.886, 0.781, 0.923]\n",
      "TREATMENT_NONLINEARITY Lin r2(X_obs, Treat Logit) [0.869, 0.596, 0.937]\n",
      "TREATMENT_NONLINEARITY Lin r2(X_true, Treat Logit) [1.0, 1.0, 1.0]\n"
     ]
    }
   ],
   "source": [
    "if SAMPLED_IN_ANALYSIS_MODE and CONCRETE_IN_ANALYSIS_MODE:\n",
    "    for axes, metrics in DATA_METRICS_SPEC.items():\n",
    "        print(axes)\n",
    "        for metric in metrics:\n",
    "            print(\"\\t\", metric)\n",
    "\n",
    "            key = f\"{axes} {metric}\"\n",
    "            print(\"\\t\\tConcrete:\", np.round(concrete_data_agg[key], 3))\n",
    "            print(\"\\t\\tSampled:\", np.round(sampled_data_agg[key], 3))\n",
    "    \n",
    "    for name, vals in sampled_data_raw.items():\n",
    "        if name.startswith(\"TREATMENT_NONLINEARITY\"):\n",
    "            print(name, vals)"
   ]
  },
  {
   "cell_type": "markdown",
   "metadata": {},
   "source": [
    "## Performance Comparison\n",
    "\n",
    "Notes\n",
    "\n",
    "At config A, 20-50 matches across runs. Wide distro. Should investigate the stability of the concrete distro when n=1000.\n",
    "\n",
    "At config G, 20-50 has much lower bias in the sampled benchmark. The concrete function appears to be a worst case scenario given that very similar functions experience much lower typical bias. The distribution is right tailed and so it is possible that the concrete func chosen is just an (un)lucky sample from right tail.\n",
    "\n",
    "I will test this by permuting the variable order in the exact same functional form."
   ]
  },
  {
   "cell_type": "markdown",
   "metadata": {},
   "source": [
    "### Concrete Performance"
   ]
  },
  {
   "cell_type": "code",
   "execution_count": 65,
   "metadata": {},
   "outputs": [
    {
     "data": {
      "text/plain": [
       "{'RMSE': 0.09, 'RMSE (std)': 0.013, 'AMBP': 8.452, 'AMBP (std)': 3.511}"
      ]
     },
     "execution_count": 65,
     "metadata": {},
     "output_type": "execute_result"
    }
   ],
   "source": [
    "concrete_perf_agg"
   ]
  },
  {
   "cell_type": "code",
   "execution_count": 66,
   "metadata": {},
   "outputs": [
    {
     "data": {
      "image/png": "[encoded data removed]",
      "text/plain": [
       "<Figure size 432x288 with 1 Axes>"
      ]
     },
     "metadata": {
      "needs_background": "light"
     },
     "output_type": "display_data"
    }
   ],
   "source": [
    "plt.hist(concrete_perf_raw[\"AMBP\"], density=True)\n",
    "plt.show()"
   ]
  },
  {
   "cell_type": "markdown",
   "metadata": {},
   "source": [
    "### Sampled Performance"
   ]
  },
  {
   "cell_type": "code",
   "execution_count": 67,
   "metadata": {},
   "outputs": [
    {
     "data": {
      "text/plain": [
       "{'RMSE': 0.439, 'RMSE (std)': 0.158, 'AMBP': 30.269, 'AMBP (std)': 7.655}"
      ]
     },
     "execution_count": 67,
     "metadata": {},
     "output_type": "execute_result"
    }
   ],
   "source": [
    "sampled_perf_agg"
   ]
  },
  {
   "cell_type": "code",
   "execution_count": 68,
   "metadata": {},
   "outputs": [
    {
     "data": {
      "image/png": "[encoded data removed]",
      "text/plain": [
       "<Figure size 432x288 with 1 Axes>"
      ]
     },
     "metadata": {
      "needs_background": "light"
     },
     "output_type": "display_data"
    }
   ],
   "source": [
    "plt.hist(sampled_perf_raw[\"AMBP\"], density=True)\n",
    "plt.show()"
   ]
  },
  {
   "cell_type": "markdown",
   "metadata": {},
   "source": [
    "### Exploratory Analysis"
   ]
  },
  {
   "cell_type": "code",
   "execution_count": 14,
   "metadata": {
    "run_control": {
     "marked": true
    }
   },
   "outputs": [
    {
     "data": {
      "image/png": "[encoded data removed]",
      "text/plain": [
       "<Figure size 432x288 with 1 Axes>"
      ]
     },
     "metadata": {
      "needs_background": "light"
     },
     "output_type": "display_data"
    },
    {
     "name": "stderr",
     "output_type": "stream",
     "text": [
      "/opt/conda/lib/python3.7/site-packages/numpy/core/fromnumeric.py:3257: RuntimeWarning: Mean of empty slice.\n",
      "  out=out, **kwargs)\n",
      "/opt/conda/lib/python3.7/site-packages/numpy/core/_methods.py:161: RuntimeWarning: invalid value encountered in double_scalars\n",
      "  ret = ret.dtype.type(ret / rcount)\n"
     ]
    },
    {
     "data": {
      "text/plain": [
       "nan"
      ]
     },
     "execution_count": 14,
     "metadata": {},
     "output_type": "execute_result"
    }
   ],
   "source": [
    "data = np.array(sampled_perf_raw[\"absolute mean bias %\"])\n",
    "clean_data = data[data < 20]\n",
    "plt.hist(clean_data)\n",
    "plt.show()\n",
    "np.mean(clean_data)"
   ]
  },
  {
   "cell_type": "code",
   "execution_count": 15,
   "metadata": {},
   "outputs": [
    {
     "data": {
      "text/plain": [
       "<matplotlib.collections.PathCollection at 0x7ff894d53a58>"
      ]
     },
     "execution_count": 15,
     "metadata": {},
     "output_type": "execute_result"
    },
    {
     "data": {
      "image/png": "[encoded data removed]",
      "text/plain": [
       "<Figure size 432x288 with 1 Axes>"
      ]
     },
     "metadata": {
      "needs_background": "light"
     },
     "output_type": "display_data"
    }
   ],
   "source": [
    "plt.scatter(\n",
    "    np.array(sampled_data_raw[\"TREATMENT_NONLINEARITY Lin r2(X_obs, Treat Logit)\"])[data < 8],\n",
    "    np.array(sampled_perf_raw[\"absolute mean bias %\"])[data < 8])"
   ]
  },
  {
   "cell_type": "code",
   "execution_count": 16,
   "metadata": {},
   "outputs": [
    {
     "data": {
      "text/plain": [
       "<matplotlib.collections.PathCollection at 0x7ff894d3d7f0>"
      ]
     },
     "execution_count": 16,
     "metadata": {},
     "output_type": "execute_result"
    },
    {
     "data": {
      "image/png": "[encoded data removed]",
      "text/plain": [
       "<Figure size 432x288 with 1 Axes>"
      ]
     },
     "metadata": {
      "needs_background": "light"
     },
     "output_type": "display_data"
    }
   ],
   "source": [
    "plt.scatter(\n",
    "    np.array(sampled_data_raw[\"TREATMENT_NONLINEARITY Lin r2(X_obs, Treat Logit)\"])[data < 8],\n",
    "    np.array(sampled_perf_raw[\"absolute mean bias %\"])[data < 8],\n",
    "    c=\"b\")\n",
    "\n",
    "plt.scatter(\n",
    "    np.array(concrete_data_raw[\"TREATMENT_NONLINEARITY Lin r2(X_obs, Treat Logit)\"]),\n",
    "    np.array(concrete_perf_raw[\"absolute mean bias %\"]),\n",
    "    c=\"r\")"
   ]
  },
  {
   "cell_type": "code",
   "execution_count": null,
   "metadata": {},
   "outputs": [],
   "source": []
  }
 ],
 "metadata": {
  "kernelspec": {
   "display_name": "Python 3",
   "language": "python",
   "name": "python3"
  },
  "language_info": {
   "codemirror_mode": {
    "name": "ipython",
    "version": 3
   },
   "file_extension": ".py",
   "mimetype": "text/x-python",
   "name": "python",
   "nbconvert_exporter": "python",
   "pygments_lexer": "ipython3",
   "version": "3.7.3"
  },
  "varInspector": {
   "cols": {
    "lenName": 16,
    "lenType": 16,
    "lenVar": 40
   },
   "kernels_config": {
    "python": {
     "delete_cmd_postfix": "",
     "delete_cmd_prefix": "del ",
     "library": "var_list.py",
     "varRefreshCmd": "print(var_dic_list())"
    },
    "r": {
     "delete_cmd_postfix": ") ",
     "delete_cmd_prefix": "rm(",
     "library": "var_list.r",
     "varRefreshCmd": "cat(var_dic_list()) "
    }
   },
   "types_to_exclude": [
    "module",
    "function",
    "builtin_function_or_method",
    "instance",
    "_Feature"
   ],
   "window_display": false
  }
 },
 "nbformat": 4,
 "nbformat_minor": 2
}
