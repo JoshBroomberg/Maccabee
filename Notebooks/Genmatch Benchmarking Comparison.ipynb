{
 "cells": [
  {
   "cell_type": "code",
   "execution_count": 1,
   "metadata": {},
   "outputs": [],
   "source": [
    "#!pip install -e ../Maccabee > /dev/null"
   ]
  },
  {
   "cell_type": "code",
   "execution_count": 2,
   "metadata": {
    "run_control": {
     "marked": true
    }
   },
   "outputs": [],
   "source": [
    "# %load_ext autoreload\n",
    "# %autoreload 2"
   ]
  },
  {
   "cell_type": "code",
   "execution_count": 3,
   "metadata": {},
   "outputs": [],
   "source": [
    "from maccabee.data_analysis.data_metrics import AXES_AND_METRIC_NAMES\n",
    "from maccabee.constants import Constants\n",
    "import maccabee.data_sources as data_sources\n",
    "from maccabee.parameters import build_default_parameters\n",
    "\n",
    "from maccabee.data_generation import DataGeneratingProcess, SampledDataGeneratingProcess, data_generating_method\n",
    "\n",
    "# benchmarks\n",
    "from maccabee.benchmarking import benchmark_model_using_concrete_dgp\n",
    "from maccabee.benchmarking import benchmark_model_using_sampled_dgp\n",
    "from maccabee.benchmarking import benchmark_model_using_sampled_dgp_grid\n",
    "\n",
    "# genmatch\n",
    "from maccabee.examples.genmatch import GenmatchDataGeneratingProcess, build_genmatch_datasource, GENMATCH_SPECS\n",
    "from maccabee.examples.genmatch import LogisticPropensityMatchingCausalModel"
   ]
  },
  {
   "cell_type": "code",
   "execution_count": 4,
   "metadata": {},
   "outputs": [],
   "source": [
    "import numpy as np\n",
    "from collections import defaultdict\n",
    "import pandas as pd\n",
    "import matplotlib.pyplot as plt"
   ]
  },
  {
   "cell_type": "code",
   "execution_count": 5,
   "metadata": {},
   "outputs": [],
   "source": [
    "BASE_GENMATCH_DGP_PARAMS = {\n",
    "  \"OUTCOME_MECHANISM_COVARIATE_SELECTION_PROBABILITY\": { \n",
    "        \"LINEAR\": 0.7,\n",
    "        \"POLY_QUAD\": 0,\n",
    "        \"POLY_CUBIC\": 0,\n",
    "        \"STEP_JUMP\": 0,\n",
    "        \"STEP_KINK\": 0,\n",
    "        \"INTERACTION_TWO_WAY\": 0,\n",
    "        \"INTERACTION_THREE_WAY\": 0,\n",
    "  },\n",
    "  \"TREATMENT_EFFECT_HETEROGENEITY\": 0,\n",
    "  \"ACTUAL_CONFOUNDER_ALIGNMENT\": 0,\n",
    "  \"MIN_PROPENSITY_SCORE\": 0.05,\n",
    "  \"MAX_PROPENSITY_SCORE\": 0.95,\n",
    "  \"OUTCOME_NOISE_TAIL_THICKNESS\": 1000,\n",
    "  \"SUBFUNCTION_CONSTANT_TAIL_THICKNESS\": 1000,\n",
    "  \"TREATMENT_EFFECT_TAIL_THICKNESS\": 1000\n",
    "}\n",
    "\n",
    "A_param_overrides = BASE_GENMATCH_DGP_PARAMS.copy()\n",
    "A_param_overrides[\"TREAT_MECHANISM_COVARIATE_SELECTION_PROBABILITY\"] = { \n",
    "    \"LINEAR\": 0.7,\n",
    "    \"POLY_QUAD\": 0,\n",
    "    \"POLY_CUBIC\": 0,\n",
    "    \"STEP_JUMP\": 0,\n",
    "    \"STEP_KINK\": 0,\n",
    "    \"INTERACTION_TWO_WAY\": 0.0,\n",
    "    \"INTERACTION_THREE_WAY\": 0,\n",
    "}\n",
    "  \n",
    "C_param_overrides = BASE_GENMATCH_DGP_PARAMS.copy()\n",
    "C_param_overrides[\"TREAT_MECHANISM_COVARIATE_SELECTION_PROBABILITY\"] = { \n",
    "    \"LINEAR\": 0.7,\n",
    "    \"POLY_QUAD\": 0.3,\n",
    "    \"POLY_CUBIC\": 0,\n",
    "    \"STEP_JUMP\": 0,\n",
    "    \"STEP_KINK\": 0,\n",
    "    \"INTERACTION_TWO_WAY\": 0.0,\n",
    "    \"INTERACTION_THREE_WAY\": 0,\n",
    "}\n",
    "\n",
    "G_param_overrides = BASE_GENMATCH_DGP_PARAMS.copy()\n",
    "G_param_overrides[\"TREAT_MECHANISM_COVARIATE_SELECTION_PROBABILITY\"] = { \n",
    "    \"LINEAR\": 0.7,\n",
    "    \"POLY_QUAD\": 0.75,\n",
    "    \"POLY_CUBIC\": 0,\n",
    "    \"STEP_JUMP\": 0,\n",
    "    \"STEP_KINK\": 0,\n",
    "    \"INTERACTION_TWO_WAY\": 0.1,\n",
    "    \"INTERACTION_THREE_WAY\": 0,\n",
    "}\n",
    "\n",
    "X_param_overrides = BASE_GENMATCH_DGP_PARAMS.copy()\n",
    "X_param_overrides[\"TREAT_MECHANISM_COVARIATE_SELECTION_PROBABILITY\"] = { \n",
    "    \"LINEAR\": 0.7,\n",
    "    \"POLY_QUAD\": 0.99,\n",
    "    \"POLY_CUBIC\": 0.99,\n",
    "    \"STEP_JUMP\": 0,\n",
    "    \"STEP_KINK\": 0,\n",
    "    \"INTERACTION_TWO_WAY\": 0.99,\n",
    "    \"INTERACTION_THREE_WAY\": 0,\n",
    "}"
   ]
  },
  {
   "cell_type": "code",
   "execution_count": 6,
   "metadata": {
    "run_control": {
     "marked": true
    }
   },
   "outputs": [],
   "source": [
    "# Define axes and metrics to analyze\n",
    "DATA_METRICS_SPEC = {\n",
    "    Constants.AxisNames.OUTCOME_NONLINEARITY: [\n",
    "        \"Lin r2(X_obs, Y)\",\n",
    "        \"Lin r2(X_true, Y)\"\n",
    "    ],\n",
    "    Constants.AxisNames.TREATMENT_NONLINEARITY: [\n",
    "        \"Lin r2(X_obs, Treat Logit)\",\n",
    "        \"Lin r2(X_true, Treat Logit)\",\n",
    "        \"Log r2(X_obs, T)\"\n",
    "    ],\n",
    "    Constants.AxisNames.PERCENT_TREATED: [\n",
    "        \"Percent(T==1)\"\n",
    "    ],\n",
    "    Constants.AxisNames.BALANCE: [\n",
    "        \"Wass dist X_true: T=1<->T=0\",\n",
    "    ],\n",
    "    Constants.AxisNames.ALIGNMENT: [\n",
    "        \"Lin r2(Y, Treat Logit)\",\n",
    "        \"Lin r2(Y0, Treat Logit)\"\n",
    "    ],\n",
    "    Constants.AxisNames.TE_HETEROGENEITY: [\n",
    "        \"std(TE)/std(Y)\"\n",
    "    ]\n",
    "}"
   ]
  },
  {
   "cell_type": "code",
   "execution_count": 7,
   "metadata": {},
   "outputs": [],
   "source": [
    "N_CORES = 16\n",
    "N_THREADS=3"
   ]
  },
  {
   "cell_type": "markdown",
   "metadata": {},
   "source": [
    "## Run MC Benchmarks"
   ]
  },
  {
   "cell_type": "code",
   "execution_count": 8,
   "metadata": {},
   "outputs": [],
   "source": [
    "#  %%time\n",
    "\n",
    "# CONCRETE_IN_ANALYSIS_MODE = True\n",
    "\n",
    "# # Concrete Genmatch Benchmark\n",
    "# dgp = GenmatchDataGeneratingProcess(\n",
    "#     *GENMATCH_SPECS[\"G\"],\n",
    "#     n_observations=1000,\n",
    "#     data_analysis_mode=CONCRETE_IN_ANALYSIS_MODE)\n",
    "\n",
    "# concrete_perf_agg, concrete_perf_raw, concrete_data_agg, concrete_data_raw = \\\n",
    "#     benchmark_model_using_concrete_dgp(\n",
    "#         dgp=dgp,\n",
    "#         model_class=LogisticPropensityMatchingCausalModel,\n",
    "#         estimand=Constants.Model.ATT_ESTIMAND,\n",
    "#         num_sampling_runs_per_dgp=10,\n",
    "#         num_samples_from_dgp=20,\n",
    "#         data_analysis_mode=CONCRETE_IN_ANALYSIS_MODE,\n",
    "#         data_metrics_spec=DATA_METRICS_SPEC,\n",
    "#         n_jobs=N_CORES,\n",
    "#         n_threads=1)"
   ]
  },
  {
   "cell_type": "code",
   "execution_count": 9,
   "metadata": {},
   "outputs": [],
   "source": [
    "# TRUE_TREAT_LOGIT = dgp.treatment_logit_expression"
   ]
  },
  {
   "cell_type": "code",
   "execution_count": 10,
   "metadata": {
    "scrolled": true
   },
   "outputs": [
    {
     "name": "stdout",
     "output_type": "stream",
     "text": [
      "Starting sampling for DGP 1/7\n",
      "Starting sampling for DGP 2/7\n",
      "Starting sampling for DGP 3/7\n",
      "Starting sampling for DGP 4/7\n",
      "Starting sampling for DGP 5/7\n",
      "Starting sampling for DGP 6/7\n",
      "Starting sampling for DGP 7/7\n",
      "CPU times: user 1.58 s, sys: 3.06 s, total: 4.64 s\n",
      "Wall time: 1min 25s\n"
     ]
    }
   ],
   "source": [
    "%%time\n",
    "\n",
    "SAMPLED_IN_ANALYSIS_MODE = True\n",
    "\n",
    "from maccabee.data_generation.utils import evaluate_expression\n",
    "# Sampled Genmatch Benchmark\n",
    "class ModifiedNoiseSampledDataGeneratingProcess(SampledDataGeneratingProcess):\n",
    "    @data_generating_method(Constants.DGPVariables.OUTCOME_NOISE_NAME, [])\n",
    "    def _generate_outcome_noise_samples(self, input_vars):\n",
    "        return 0\n",
    "    \n",
    "    @data_generating_method(Constants.DGPVariables.TREATMENT_EFFECT_NAME, [])\n",
    "    def _generate_treatment_effects(self, input_vars):\n",
    "        return -0.4\n",
    "    \n",
    "#     @data_generating_method(Constants.DGPVariables.PROPENSITY_SCORE_NAME,\n",
    "#                             [Constants.DGPVariables.COVARIATES_NAME])\n",
    "#     def _generate_true_propensity_scores(self, input_vars):\n",
    "#         observed_covariate_data = input_vars[Constants.DGPVariables.COVARIATES_NAME]\n",
    "\n",
    "#         logits = evaluate_expression(\n",
    "#             TRUE_TREAT_LOGIT,\n",
    "#             observed_covariate_data)\n",
    "\n",
    "#         return 1/(1 + np.exp(-1*logits))\n",
    "    \n",
    "dgp_params = build_default_parameters()\n",
    "dgp_params.set_parameters(G_param_overrides)\n",
    "\n",
    "sampled_perf_agg, sampled_perf_raw, sampled_perf_run_raw, sampled_data_agg, sampled_data_raw = \\\n",
    "    benchmark_model_using_sampled_dgp(\n",
    "        dgp_params, build_genmatch_datasource(),\n",
    "        dgp_kwargs={\"data_analysis_mode\": SAMPLED_IN_ANALYSIS_MODE},\n",
    "        dgp_class=ModifiedNoiseSampledDataGeneratingProcess,\n",
    "        model_class=LogisticPropensityMatchingCausalModel,\n",
    "        estimand=Constants.Model.ATE_ESTIMAND,\n",
    "        num_dgp_samples=7,\n",
    "        num_sampling_runs_per_dgp=3,\n",
    "        num_samples_from_dgp=7,\n",
    "        data_analysis_mode=SAMPLED_IN_ANALYSIS_MODE,\n",
    "        data_metrics_spec=DATA_METRICS_SPEC,\n",
    "        n_jobs=1,\n",
    "        n_threads=1)"
   ]
  },
  {
   "cell_type": "markdown",
   "metadata": {},
   "source": [
    "## Data Metric Comparison"
   ]
  },
  {
   "cell_type": "code",
   "execution_count": 11,
   "metadata": {
    "run_control": {
     "marked": true
    }
   },
   "outputs": [
    {
     "ename": "NameError",
     "evalue": "name 'CONCRETE_IN_ANALYSIS_MODE' is not defined",
     "output_type": "error",
     "traceback": [
      "\u001b[0;31m---------------------------------------------------------------------------\u001b[0m",
      "\u001b[0;31mNameError\u001b[0m                                 Traceback (most recent call last)",
      "\u001b[0;32m<ipython-input-11-681e2aedf459>\u001b[0m in \u001b[0;36m<module>\u001b[0;34m\u001b[0m\n\u001b[0;32m----> 1\u001b[0;31m \u001b[0;32mif\u001b[0m \u001b[0mSAMPLED_IN_ANALYSIS_MODE\u001b[0m \u001b[0;32mand\u001b[0m \u001b[0mCONCRETE_IN_ANALYSIS_MODE\u001b[0m\u001b[0;34m:\u001b[0m\u001b[0;34m\u001b[0m\u001b[0;34m\u001b[0m\u001b[0m\n\u001b[0m\u001b[1;32m      2\u001b[0m     \u001b[0;32mfor\u001b[0m \u001b[0maxes\u001b[0m\u001b[0;34m,\u001b[0m \u001b[0mmetrics\u001b[0m \u001b[0;32min\u001b[0m \u001b[0mDATA_METRICS_SPEC\u001b[0m\u001b[0;34m.\u001b[0m\u001b[0mitems\u001b[0m\u001b[0;34m(\u001b[0m\u001b[0;34m)\u001b[0m\u001b[0;34m:\u001b[0m\u001b[0;34m\u001b[0m\u001b[0;34m\u001b[0m\u001b[0m\n\u001b[1;32m      3\u001b[0m         \u001b[0mprint\u001b[0m\u001b[0;34m(\u001b[0m\u001b[0maxes\u001b[0m\u001b[0;34m)\u001b[0m\u001b[0;34m\u001b[0m\u001b[0;34m\u001b[0m\u001b[0m\n\u001b[1;32m      4\u001b[0m         \u001b[0;32mfor\u001b[0m \u001b[0mmetric\u001b[0m \u001b[0;32min\u001b[0m \u001b[0mmetrics\u001b[0m\u001b[0;34m:\u001b[0m\u001b[0;34m\u001b[0m\u001b[0;34m\u001b[0m\u001b[0m\n\u001b[1;32m      5\u001b[0m             \u001b[0mprint\u001b[0m\u001b[0;34m(\u001b[0m\u001b[0;34m\"\\t\"\u001b[0m\u001b[0;34m,\u001b[0m \u001b[0mmetric\u001b[0m\u001b[0;34m)\u001b[0m\u001b[0;34m\u001b[0m\u001b[0;34m\u001b[0m\u001b[0m\n",
      "\u001b[0;31mNameError\u001b[0m: name 'CONCRETE_IN_ANALYSIS_MODE' is not defined"
     ]
    }
   ],
   "source": [
    "if SAMPLED_IN_ANALYSIS_MODE and CONCRETE_IN_ANALYSIS_MODE:\n",
    "    for axes, metrics in DATA_METRICS_SPEC.items():\n",
    "        print(axes)\n",
    "        for metric in metrics:\n",
    "            print(\"\\t\", metric)\n",
    "\n",
    "            key = f\"{axes} {metric}\"\n",
    "            print(\"\\t\\tConcrete:\", np.round(concrete_data_agg[key], 3))\n",
    "            print(\"\\t\\tSampled:\", np.round(sampled_data_agg[key], 3))\n",
    "    \n",
    "    for name, vals in sampled_data_raw.items():\n",
    "        if name.startswith(\"TREATMENT_NONLINEARITY\"):\n",
    "            print(name, vals)"
   ]
  },
  {
   "cell_type": "markdown",
   "metadata": {},
   "source": [
    "## Performance Comparison\n",
    "\n",
    "Notes\n",
    "\n",
    "At config A, 20-50 matches across runs. Wide distro. Should investigate the stability of the concrete distro when n=1000.\n",
    "\n",
    "At config G, 20-50 has much lower bias in the sampled benchmark. The concrete function appears to be a worst case scenario given that very similar functions experience much lower typical bias. The distribution is right tailed and so it is possible that the concrete func chosen is just an (un)lucky sample from right tail.\n",
    "\n",
    "I will test this by permuting the variable order in the exact same functional form."
   ]
  },
  {
   "cell_type": "markdown",
   "metadata": {},
   "source": [
    "### Concrete Performance"
   ]
  },
  {
   "cell_type": "code",
   "execution_count": null,
   "metadata": {},
   "outputs": [],
   "source": [
    "concrete_perf_agg"
   ]
  },
  {
   "cell_type": "code",
   "execution_count": null,
   "metadata": {},
   "outputs": [],
   "source": [
    "plt.hist(concrete_perf_raw[\"AMBP\"], density=True)\n",
    "plt.show()"
   ]
  },
  {
   "cell_type": "markdown",
   "metadata": {},
   "source": [
    "### Sampled Performance"
   ]
  },
  {
   "cell_type": "code",
   "execution_count": null,
   "metadata": {},
   "outputs": [],
   "source": [
    "sampled_perf_agg"
   ]
  },
  {
   "cell_type": "code",
   "execution_count": null,
   "metadata": {},
   "outputs": [],
   "source": [
    "plt.hist(sampled_perf_raw[\"AMBP\"], density=True)\n",
    "plt.show()"
   ]
  },
  {
   "cell_type": "code",
   "execution_count": null,
   "metadata": {},
   "outputs": [],
   "source": [
    "flat_list = [item for sublist in sampled_perf_run_raw[\"AMBP\"] for item in sublist]\n",
    "plt.hist(flat_list)\n",
    "plt.show()"
   ]
  },
  {
   "cell_type": "code",
   "execution_count": null,
   "metadata": {},
   "outputs": [],
   "source": [
    "sampled_perf_run_raw[\"AMBP\"]"
   ]
  },
  {
   "cell_type": "markdown",
   "metadata": {},
   "source": [
    "### Exploratory Analysis"
   ]
  },
  {
   "cell_type": "code",
   "execution_count": null,
   "metadata": {
    "run_control": {
     "marked": true
    }
   },
   "outputs": [],
   "source": [
    "# data = np.array(sampled_perf_raw[\"absolute mean bias %\"])\n",
    "# clean_data = data[data < 20]\n",
    "# plt.hist(clean_data)\n",
    "# plt.show()\n",
    "# np.mean(clean_data)"
   ]
  },
  {
   "cell_type": "code",
   "execution_count": null,
   "metadata": {},
   "outputs": [],
   "source": [
    "# plt.scatter(\n",
    "#     np.array(sampled_data_raw[\"TREATMENT_NONLINEARITY Lin r2(X_obs, Treat Logit)\"])[data < 8],\n",
    "#     np.array(sampled_perf_raw[\"absolute mean bias %\"])[data < 8])"
   ]
  },
  {
   "cell_type": "code",
   "execution_count": null,
   "metadata": {},
   "outputs": [],
   "source": [
    "# plt.scatter(\n",
    "#     np.array(sampled_data_raw[\"TREATMENT_NONLINEARITY Lin r2(X_obs, Treat Logit)\"])[data < 8],\n",
    "#     np.array(sampled_perf_raw[\"absolute mean bias %\"])[data < 8],\n",
    "#     c=\"b\")\n",
    "\n",
    "# plt.scatter(\n",
    "#     np.array(concrete_data_raw[\"TREATMENT_NONLINEARITY Lin r2(X_obs, Treat Logit)\"]),\n",
    "#     np.array(concrete_perf_raw[\"absolute mean bias %\"]),\n",
    "#     c=\"r\")"
   ]
  },
  {
   "cell_type": "code",
   "execution_count": null,
   "metadata": {},
   "outputs": [],
   "source": []
  }
 ],
 "metadata": {
  "kernelspec": {
   "display_name": "Python 3",
   "language": "python",
   "name": "python3"
  },
  "language_info": {
   "codemirror_mode": {
    "name": "ipython",
    "version": 3
   },
   "file_extension": ".py",
   "mimetype": "text/x-python",
   "name": "python",
   "nbconvert_exporter": "python",
   "pygments_lexer": "ipython3",
   "version": "3.7.3"
  },
  "varInspector": {
   "cols": {
    "lenName": 16,
    "lenType": 16,
    "lenVar": 40
   },
   "kernels_config": {
    "python": {
     "delete_cmd_postfix": "",
     "delete_cmd_prefix": "del ",
     "library": "var_list.py",
     "varRefreshCmd": "print(var_dic_list())"
    },
    "r": {
     "delete_cmd_postfix": ") ",
     "delete_cmd_prefix": "rm(",
     "library": "var_list.r",
     "varRefreshCmd": "cat(var_dic_list()) "
    }
   },
   "types_to_exclude": [
    "module",
    "function",
    "builtin_function_or_method",
    "instance",
    "_Feature"
   ],
   "window_display": false
  }
 },
 "nbformat": 4,
 "nbformat_minor": 2
}
