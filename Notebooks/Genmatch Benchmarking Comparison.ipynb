{
 "cells": [
  {
   "cell_type": "code",
   "execution_count": 1,
   "metadata": {},
   "outputs": [],
   "source": [
    "#!pip install -e ../Maccabee > /dev/null"
   ]
  },
  {
   "cell_type": "code",
   "execution_count": 2,
   "metadata": {
    "run_control": {
     "marked": true
    }
   },
   "outputs": [],
   "source": [
    "# %load_ext autoreload\n",
    "# %autoreload 2"
   ]
  },
  {
   "cell_type": "code",
   "execution_count": 232,
   "metadata": {},
   "outputs": [],
   "source": [
    "from maccabee.data_analysis.data_metrics import AXES_AND_METRIC_NAMES\n",
    "from maccabee.constants import Constants\n",
    "import maccabee.data_sources as data_sources\n",
    "from maccabee.parameters import build_default_parameters\n",
    "\n",
    "from maccabee.data_generation import DataGeneratingProcess, SampledDataGeneratingProcess, data_generating_method\n",
    "from maccabee.data_generation.utils import evaluate_expression, CompiledExpression\n",
    "# benchmarks\n",
    "from maccabee.benchmarking import benchmark_model_using_concrete_dgp\n",
    "from maccabee.benchmarking import benchmark_model_using_sampled_dgp\n",
    "from maccabee.benchmarking import benchmark_model_using_sampled_dgp_grid\n",
    "\n",
    "# genmatch\n",
    "from maccabee.examples.genmatch import GenmatchDataGeneratingProcess, build_genmatch_datasource, GENMATCH_SPECS\n",
    "from maccabee.examples.genmatch import LogisticPropensityMatchingCausalModel\n",
    "from maccabee.examples.genmatch import GENMATCH_BINARY_COVAR_INDECES"
   ]
  },
  {
   "cell_type": "code",
   "execution_count": 268,
   "metadata": {},
   "outputs": [],
   "source": [
    "import numpy as np\n",
    "from collections import defaultdict\n",
    "import pandas as pd\n",
    "import matplotlib.pyplot as plt\n",
    "from sympy.polys.polytools import poly\n",
    "from collections import defaultdict\n",
    "import scipy.stats as st"
   ]
  },
  {
   "cell_type": "code",
   "execution_count": 5,
   "metadata": {},
   "outputs": [],
   "source": [
    "BASE_GENMATCH_DGP_PARAMS = {\n",
    "  \"OUTCOME_MECHANISM_COVARIATE_SELECTION_PROBABILITY\": { \n",
    "        \"LINEAR\": 0.7,\n",
    "        \"POLY_QUAD\": 0,\n",
    "        \"POLY_CUBIC\": 0,\n",
    "        \"STEP_JUMP\": 0,\n",
    "        \"STEP_KINK\": 0,\n",
    "        \"INTERACTION_TWO_WAY\": 0,\n",
    "        \"INTERACTION_THREE_WAY\": 0,\n",
    "  },\n",
    "  \"TREATMENT_EFFECT_HETEROGENEITY\": 0,\n",
    "  \"ACTUAL_CONFOUNDER_ALIGNMENT\": 0,\n",
    "  \"TARGET_PROPENSITY_SCORE\": 0.5,\n",
    "#   \"MIN_PROPENSITY_SCORE\": 0.05,\n",
    "#   \"MAX_PROPENSITY_SCORE\": 0.95,\n",
    "  \"OUTCOME_NOISE_TAIL_THICKNESS\": 1000,\n",
    "  \"SUBFUNCTION_CONSTANT_TAIL_THICKNESS\": 1000,\n",
    "  \"TREATMENT_EFFECT_TAIL_THICKNESS\": 1000\n",
    "}\n",
    "\n",
    "A_param_overrides = BASE_GENMATCH_DGP_PARAMS.copy()\n",
    "A_param_overrides[\"TREAT_MECHANISM_COVARIATE_SELECTION_PROBABILITY\"] = { \n",
    "    \"LINEAR\": 0.7,\n",
    "    \"POLY_QUAD\": 0,\n",
    "    \"POLY_CUBIC\": 0,\n",
    "    \"STEP_JUMP\": 0,\n",
    "    \"STEP_KINK\": 0,\n",
    "    \"INTERACTION_TWO_WAY\": 0.0,\n",
    "    \"INTERACTION_THREE_WAY\": 0,\n",
    "}\n",
    "A_param_overrides[\"ACTUAL_CONFOUNDER_ALIGNMENT\"] = 0.285\n",
    "  \n",
    "C_param_overrides = BASE_GENMATCH_DGP_PARAMS.copy()\n",
    "C_param_overrides[\"TREAT_MECHANISM_COVARIATE_SELECTION_PROBABILITY\"] = { \n",
    "    \"LINEAR\": 0.7,\n",
    "    \"POLY_QUAD\": 0.3,\n",
    "    \"POLY_CUBIC\": 0,\n",
    "    \"STEP_JUMP\": 0,\n",
    "    \"STEP_KINK\": 0,\n",
    "    \"INTERACTION_TWO_WAY\": 0.0,\n",
    "    \"INTERACTION_THREE_WAY\": 0,\n",
    "}\n",
    "C_param_overrides[\"ACTUAL_CONFOUNDER_ALIGNMENT\"] = -1\n",
    "\n",
    "G_param_overrides = BASE_GENMATCH_DGP_PARAMS.copy()\n",
    "G_param_overrides[\"TREAT_MECHANISM_COVARIATE_SELECTION_PROBABILITY\"] = { \n",
    "    \"LINEAR\": 0.7,\n",
    "    \"POLY_QUAD\": 0.75,\n",
    "    \"POLY_CUBIC\": 0,\n",
    "    \"STEP_JUMP\": 0,\n",
    "    \"STEP_KINK\": 0,\n",
    "    \"INTERACTION_TWO_WAY\": 0.22,\n",
    "    \"INTERACTION_THREE_WAY\": 0,\n",
    "}\n",
    "G_param_overrides[\"ACTUAL_CONFOUNDER_ALIGNMENT\"] = 0.15\n",
    "\n",
    "GENMATCH_PARAM_OVERRIDES = {\n",
    "    \"A\": A_param_overrides,\n",
    "    \"C\": C_param_overrides,\n",
    "    \"G\": G_param_overrides,\n",
    "}"
   ]
  },
  {
   "cell_type": "code",
   "execution_count": 6,
   "metadata": {
    "run_control": {
     "marked": true
    }
   },
   "outputs": [],
   "source": [
    "# Define axes and metrics to analyze\n",
    "DATA_METRICS_SPEC = {\n",
    "    Constants.AxisNames.OUTCOME_NONLINEARITY: [\n",
    "        \"Lin r2(X_obs, Y)\",\n",
    "        \"Lin r2(X_true, Y)\"\n",
    "    ],\n",
    "    Constants.AxisNames.TREATMENT_NONLINEARITY: [\n",
    "        \"Lin r2(X_obs, Treat Logit)\",\n",
    "        \"Lin r2(X_true, Treat Logit)\",\n",
    "        \"Log r2(X_obs, T)\"\n",
    "    ],\n",
    "    Constants.AxisNames.PERCENT_TREATED: [\n",
    "        \"Percent(T==1)\"\n",
    "    ],\n",
    "    Constants.AxisNames.BALANCE: [\n",
    "        \"Wass dist X_true: T=1<->T=0\",\n",
    "    ],\n",
    "    Constants.AxisNames.ALIGNMENT: [\n",
    "        \"Lin r2(Y, Treat Logit)\",\n",
    "        \"Lin r2(Y0, Treat Logit)\"\n",
    "    ],\n",
    "    Constants.AxisNames.TE_HETEROGENEITY: [\n",
    "        \"std(TE)/std(Y)\"\n",
    "    ]\n",
    "}"
   ]
  },
  {
   "cell_type": "code",
   "execution_count": 7,
   "metadata": {},
   "outputs": [],
   "source": [
    "N_CORES = 8\n",
    "N_THREADS = 1"
   ]
  },
  {
   "cell_type": "code",
   "execution_count": 8,
   "metadata": {},
   "outputs": [],
   "source": [
    "import pickle\n",
    "import uuid\n",
    "import datetime\n",
    "import glob\n",
    "\n",
    "RESULT_DIR = \"results/genmatch/\"\n",
    "\n",
    "def persist_result(name, data):\n",
    "    timestamp = str(datetime.datetime.now())[11:-7]\n",
    "    file_name = name + \"-\" + timestamp + \".pkl\"\n",
    "    file_path = RESULT_DIR + file_name\n",
    "\n",
    "    with open(file_path, \"wb\") as res_file:\n",
    "        pickle.dump(data, res_file)\n",
    "\n",
    "    return file_name\n",
    "\n",
    "\n",
    "def read_result(base_name):\n",
    "    if base_name[-3:] == \"pkl\":\n",
    "        file_path = RESULT_DIR + base_name\n",
    "    else:\n",
    "        file_path_pattern = RESULT_DIR + f\"{base_name}*.pkl\"\n",
    "        file_paths = sorted(glob.glob(file_path_pattern))\n",
    "        file_path = file_paths[-1] # most recent\n",
    "    \n",
    "    print(\"Fetching\", file_path)\n",
    "    with open(file_path, \"rb\") as res_file:\n",
    "        result_entry = pickle.load(res_file)\n",
    "    \n",
    "    return result_entry\n",
    "\n",
    "# name = persist_result(\"testresult\", (1, 2, 3, 4, 6))\n",
    "# read_result(name)"
   ]
  },
  {
   "cell_type": "code",
   "execution_count": 9,
   "metadata": {},
   "outputs": [],
   "source": [
    "COMPARISON_BENCHMARK = \"G\""
   ]
  },
  {
   "cell_type": "markdown",
   "metadata": {},
   "source": [
    "## Run MC Benchmarks"
   ]
  },
  {
   "cell_type": "code",
   "execution_count": 10,
   "metadata": {},
   "outputs": [
    {
     "name": "stdout",
     "output_type": "stream",
     "text": [
      "Fetching results/genmatch/concrete_G-14:16:20.pkl\n",
      "CPU times: user 2.37 ms, sys: 2.25 ms, total: 4.62 ms\n",
      "Wall time: 13.3 ms\n"
     ]
    }
   ],
   "source": [
    " %%time\n",
    "\n",
    "CONCRETE_IN_ANALYSIS_MODE = True\n",
    "CONCRETE_CACHED = True\n",
    "CONCRETE_RESULT_BASENAME = f\"concrete_{COMPARISON_BENCHMARK}\"\n",
    "\n",
    "if not CONCRETE_CACHED:\n",
    "    # Concrete Genmatch Benchmark\n",
    "    dgp = GenmatchDataGeneratingProcess(\n",
    "        dgp_label=COMPARISON_BENCHMARK,\n",
    "        n_observations=1000,\n",
    "        data_analysis_mode=CONCRETE_IN_ANALYSIS_MODE)\n",
    "\n",
    "    concrete_result = benchmark_model_using_concrete_dgp(\n",
    "            dgp=dgp,\n",
    "            model_class=LogisticPropensityMatchingCausalModel,\n",
    "            estimand=Constants.Model.ATT_ESTIMAND,\n",
    "            num_sampling_runs_per_dgp=100,\n",
    "            num_samples_from_dgp=64,\n",
    "            data_analysis_mode=CONCRETE_IN_ANALYSIS_MODE,\n",
    "            data_metrics_spec=DATA_METRICS_SPEC,\n",
    "            n_jobs=N_CORES,\n",
    "            n_threads=N_THREADS)\n",
    "    \n",
    "    persist_result(CONCRETE_RESULT_BASENAME,concrete_result)\n",
    "else:\n",
    "    concrete_result = read_result(CONCRETE_RESULT_BASENAME)\n",
    "\n",
    "concrete_perf_agg, concrete_perf_raw, concrete_data_agg, concrete_data_raw = \\\n",
    "    concrete_result\n"
   ]
  },
  {
   "cell_type": "code",
   "execution_count": 11,
   "metadata": {},
   "outputs": [],
   "source": [
    "# TRUE_TREAT_LOGIT = dgp.treatment_logit_expression\n",
    "\n",
    "# class GenmatchEquivDataGeneratingProcess(SampledDataGeneratingProcess):\n",
    "#     @data_generating_method(Constants.DGPVariables.OUTCOME_NOISE_NAME, [])\n",
    "#     def _generate_outcome_noise_samples(self, input_vars):\n",
    "#         return 0\n",
    "    \n",
    "#     @data_generating_method(Constants.DGPVariables.TREATMENT_EFFECT_NAME, [])\n",
    "#     def _generate_treatment_effects(self, input_vars):\n",
    "#         return -0.4\n",
    "    \n",
    "#     @data_generating_method(Constants.DGPVariables.PROPENSITY_SCORE_NAME,\n",
    "#                             [Constants.DGPVariables.COVARIATES_NAME])\n",
    "#     def _generate_true_propensity_scores(self, input_vars):\n",
    "#         observed_covariate_data = input_vars[Constants.DGPVariables.COVARIATES_NAME]\n",
    "\n",
    "#         logits = evaluate_expression(\n",
    "#             TRUE_TREAT_LOGIT,\n",
    "#             observed_covariate_data)\n",
    "\n",
    "#         return 1/(1 + np.exp(-1*logits))"
   ]
  },
  {
   "cell_type": "code",
   "execution_count": 12,
   "metadata": {},
   "outputs": [],
   "source": [
    "from maccabee.data_generation.utils import evaluate_expression\n",
    "\n",
    "DGPVariables = Constants.DGPVariables\n",
    "\n",
    "SAMPLED_DYNAMIC = True\n",
    "SAMPLED_OUTCOME_BIAS = True\n",
    "DGPVariables.NORMALIZE_SAMPLED_OUTCOME_FUNCTION = False\n",
    "DGPVariables.NORMALIZE_SAMPLED_TREATMENT_FUNCTION = True\n",
    "\n",
    "# Sampled Genmatch Benchmark\n",
    "class GenmatchLikeSampledDataGeneratingProcess(SampledDataGeneratingProcess):\n",
    "    def __init__(self, *args, **kwargs):\n",
    "        compile_functions = kwargs.pop(\"compile_functions\")\n",
    "        kwargs[\"compile_functions\"] = False\n",
    "        \n",
    "        super().__init__(*args, **kwargs)\n",
    "        if SAMPLED_OUTCOME_BIAS:\n",
    "            self.bias = -3.85\n",
    "            np.append(self.outcome_covariate_transforms, self.bias)\n",
    "            self.untreated_outcome_subfunction += self.bias\n",
    "            self.outcome_function += self.bias\n",
    "            \n",
    "        if compile_functions:\n",
    "            self.untreated_outcome_subfunction = \\\n",
    "                CompiledExpression(self.untreated_outcome_subfunction)\n",
    "            self.treatment_assignment_function = \\\n",
    "                CompiledExpression(self.treatment_assignment_function)\n",
    "\n",
    "    @data_generating_method(DGPVariables.OUTCOME_NOISE_NAME, [])\n",
    "    def _generate_outcome_noise_samples(self, input_vars):\n",
    "        return 0\n",
    "    \n",
    "    @data_generating_method(DGPVariables.TREATMENT_EFFECT_NAME, [])\n",
    "    def _generate_treatment_effects(self, input_vars):\n",
    "        return -0.4\n",
    "    \n",
    "    # dynamic dataset generation.\n",
    "    @data_generating_method(DGPVariables.COVARIATES_NAME, [])\n",
    "    def _generate_observed_covars(self, input_vars):\n",
    "        if SAMPLED_DYNAMIC:\n",
    "            return self.data_source.get_covar_df() \n",
    "        else:\n",
    "            return self.observed_covariate_data\n",
    "    \n",
    "    @data_generating_method(\n",
    "        DGPVariables.POTENTIAL_OUTCOME_WITHOUT_TREATMENT_NAME,\n",
    "        [DGPVariables.COVARIATES_NAME],\n",
    "        cache_result=(not SAMPLED_DYNAMIC))\n",
    "    def _generate_outcomes_without_treatment(self, input_vars):\n",
    "        observed_covariate_data = input_vars[DGPVariables.COVARIATES_NAME]\n",
    "        return evaluate_expression(\n",
    "            self.untreated_outcome_subfunction,\n",
    "            observed_covariate_data) \n",
    "\n",
    "    @data_generating_method(\n",
    "        DGPVariables.TREATMENT_EFFECT_NAME,\n",
    "        [DGPVariables.COVARIATES_NAME],\n",
    "        cache_result=(not SAMPLED_DYNAMIC))\n",
    "    def _generate_treatment_effects(self, input_vars):\n",
    "        observed_covariate_data = input_vars[DGPVariables.COVARIATES_NAME]\n",
    "        return evaluate_expression(\n",
    "            self.treatment_effect_subfunction,\n",
    "            observed_covariate_data)\n",
    "\n",
    "    @data_generating_method(\n",
    "        DGPVariables.POTENTIAL_OUTCOME_WITH_TREATMENT_NAME,\n",
    "        [\n",
    "            DGPVariables.POTENTIAL_OUTCOME_WITHOUT_TREATMENT_NAME,\n",
    "            DGPVariables.TREATMENT_EFFECT_NAME\n",
    "        ],\n",
    "        cache_result=(not SAMPLED_DYNAMIC))\n",
    "    def _generate_outcomes_with_treatment(self, input_vars):\n",
    "        outcome_without_treatment = input_vars[DGPVariables.POTENTIAL_OUTCOME_WITHOUT_TREATMENT_NAME]\n",
    "        treatment_effect = input_vars[DGPVariables.TREATMENT_EFFECT_NAME]\n",
    "        return outcome_without_treatment + treatment_effect"
   ]
  },
  {
   "cell_type": "code",
   "execution_count": 13,
   "metadata": {
    "scrolled": true
   },
   "outputs": [
    {
     "name": "stdout",
     "output_type": "stream",
     "text": [
      "Reducing alignment from 0.16 to 0.15\n",
      "Reducing alignment from 0.208 to 0.15\n",
      "Increasing alignment\n",
      "Reducing alignment from 0.16 to 0.15\n",
      "Reducing alignment from 0.16 to 0.15\n",
      "Reducing alignment from 0.16 to 0.15\n",
      "Reducing alignment from 0.208 to 0.15\n",
      "Reducing alignment from 0.16 to 0.15\n",
      "Reducing alignment from 0.208 to 0.15\n",
      "Reducing alignment from 0.16 to 0.15\n",
      "Reducing alignment from 0.208 to 0.15\n",
      "Reducing alignment from 0.208 to 0.15\n",
      "Reducing alignment from 0.208 to 0.15\n",
      "Reducing alignment from 0.208 to 0.15\n",
      "Reducing alignment from 0.16 to 0.15\n",
      "Reducing alignment from 0.208 to 0.15\n",
      "Reducing alignment from 0.208 to 0.15\n",
      "Reducing alignment from 0.16 to 0.15\n",
      "Increasing alignment\n",
      "Reducing alignment from 0.208 to 0.15\n",
      "Reducing alignment from 0.208 to 0.15\n",
      "Increasing alignment\n",
      "Reducing alignment from 0.208 to 0.15\n",
      "Reducing alignment from 0.261 to 0.15\n",
      "Reducing alignment from 0.261 to 0.15\n",
      "Reducing alignment from 0.16 to 0.15\n",
      "Reducing alignment from 0.208 to 0.15\n",
      "Reducing alignment from 0.208 to 0.15\n",
      "Reducing alignment from 0.208 to 0.15\n",
      "Reducing alignment from 0.16 to 0.15\n",
      "Starting sampling for DGP 1/30\n",
      "Starting sampling for DGP 2/30\n",
      "Starting sampling for DGP 3/30\n",
      "Starting sampling for DGP 4/30\n",
      "Starting sampling for DGP 5/30\n",
      "Starting sampling for DGP 6/30\n",
      "Starting sampling for DGP 7/30\n",
      "Starting sampling for DGP 8/30\n",
      "Starting sampling for DGP 9/30\n",
      "Starting sampling for DGP 10/30\n",
      "Starting sampling for DGP 11/30\n",
      "Starting sampling for DGP 12/30\n",
      "Starting sampling for DGP 13/30\n",
      "Starting sampling for DGP 14/30\n",
      "Starting sampling for DGP 15/30\n",
      "Starting sampling for DGP 16/30\n",
      "Starting sampling for DGP 17/30\n",
      "Starting sampling for DGP 18/30\n",
      "Starting sampling for DGP 19/30\n",
      "Starting sampling for DGP 20/30\n",
      "Starting sampling for DGP 21/30\n",
      "Starting sampling for DGP 22/30\n",
      "failure in compiled expression eval\n",
      "Starting sampling for DGP 23/30\n",
      "Starting sampling for DGP 24/30\n",
      "Starting sampling for DGP 25/30\n",
      "Starting sampling for DGP 26/30\n",
      "Starting sampling for DGP 27/30\n",
      "Starting sampling for DGP 28/30\n",
      "Starting sampling for DGP 29/30\n",
      "Starting sampling for DGP 30/30\n",
      "CPU times: user 2min 53s, sys: 7min 16s, total: 10min 10s\n",
      "Wall time: 24min 59s\n"
     ]
    }
   ],
   "source": [
    "%%time\n",
    "\n",
    "SAMPLED_IN_ANALYSIS_MODE = True\n",
    "SAMPLED_CACHED = False\n",
    "SAMPLE_COMPILE = True\n",
    "SAMPLED_RESULT_BASENAME = f\"sampled_{COMPARISON_BENCHMARK}\"\n",
    "\n",
    "QUICK_EVAL = {\n",
    "    \"num_dgp_samples\": 5,\n",
    "    \"num_sampling_runs_per_dgp\": 3,\n",
    "    \"num_samples_from_dgp\": 24,\n",
    "    \"dgp_kwargs\": {\n",
    "        \"data_analysis_mode\": SAMPLED_IN_ANALYSIS_MODE,\n",
    "        \"compile_functions\": False\n",
    "    },\n",
    "}\n",
    "\n",
    "SOLID_EVAL = {\n",
    "    \"num_dgp_samples\": 30,\n",
    "    \"num_sampling_runs_per_dgp\": 6,\n",
    "    \"num_samples_from_dgp\": 88,\n",
    "    \"dgp_kwargs\": {\n",
    "        \"data_analysis_mode\": SAMPLED_IN_ANALYSIS_MODE,\n",
    "        \"compile_functions\": True\n",
    "    },\n",
    "}\n",
    "\n",
    "param_overrides = GENMATCH_PARAM_OVERRIDES[COMPARISON_BENCHMARK]\n",
    "\n",
    "if not SAMPLED_CACHED:\n",
    "    dgp_params = build_default_parameters()\n",
    "    dgp_params.set_parameters(param_overrides)\n",
    "\n",
    "    sampled_result = \\\n",
    "        benchmark_model_using_sampled_dgp(\n",
    "            dgp_params, build_genmatch_datasource(),\n",
    "            dgp_class=GenmatchLikeSampledDataGeneratingProcess,\n",
    "            model_class=LogisticPropensityMatchingCausalModel,\n",
    "            estimand=Constants.Model.ATE_ESTIMAND,\n",
    "            data_analysis_mode=SAMPLED_IN_ANALYSIS_MODE,\n",
    "            data_metrics_spec=DATA_METRICS_SPEC,\n",
    "            n_jobs=N_CORES,\n",
    "            n_threads=N_THREADS,\n",
    "            **SOLID_EVAL)\n",
    "\n",
    "    persist_result(SAMPLED_RESULT_BASENAME, sampled_result)\n",
    "else:\n",
    "    sampled_result = read_result(SAMPLED_RESULT_BASENAME)\n",
    "    \n",
    "(\n",
    "    sampled_perf_agg, sampled_perf_raw,\n",
    "    sampled_perf_run_raw, sampled_data_agg,\n",
    "    sampled_data_raw, dgps\n",
    ") = sampled_result"
   ]
  },
  {
   "cell_type": "markdown",
   "metadata": {},
   "source": [
    "## Old Result Parsing"
   ]
  },
  {
   "cell_type": "code",
   "execution_count": 14,
   "metadata": {},
   "outputs": [],
   "source": [
    "# import sys\n",
    "# mm = list(filter(lambda x: x.startswith(\"multi\"), sys.modules))\n",
    "# print(mm)\n",
    "# class A():\n",
    "#     pass\n",
    "# #     NEWOBJ = object()\n",
    "    \n",
    "#     class RebuildProxy():\n",
    "#         def __init__(self, *args, **kwargs):\n",
    "#             print(args, kwargs)\n",
    "        \n",
    "#         def __getstate__(self):\n",
    "#             return {}\n",
    "        \n",
    "#         def __setstate__(self, state):\n",
    "#             print(state)\n",
    "    \n",
    "#     class ListProxy():\n",
    "#         def __init__(self, *args, **kwargs):\n",
    "#             print(args, kwargs)\n",
    "        \n",
    "#         def __getstate__(self):\n",
    "#             return {}\n",
    "        \n",
    "#         def __setstate__(self, state):\n",
    "#             print(state)\n",
    "    \n",
    "#     class Token():\n",
    "#         def __init__(self, *args, **kwargs):\n",
    "#             print(args, kwargs)\n",
    "        \n",
    "#         def __getstate__(self):\n",
    "#             return {}\n",
    "        \n",
    "#         def __setstate__(self, state):\n",
    "#             print(state)\n",
    "\n",
    "    \n",
    "# sys.modules['multiprocessing.managers'] = A\n",
    "# # for m in mm:\n",
    "# #     print(m)\n",
    "# #     del sys.modules[m]"
   ]
  },
  {
   "cell_type": "code",
   "execution_count": 15,
   "metadata": {},
   "outputs": [],
   "source": [
    "# sampled_result = read_result(\"sampled_G-09:13:59.pkl\")\n",
    "# sampled_result = read_result(\"sampled_G-09:43:27.pkl\")\n",
    "\n",
    "    \n",
    "# (\n",
    "#     sampled_perf_agg, sampled_perf_raw,\n",
    "#     sampled_perf_run_raw, sampled_data_agg,\n",
    "#     sampled_data_raw, dgps\n",
    "# ) = sampled_result"
   ]
  },
  {
   "cell_type": "markdown",
   "metadata": {},
   "source": [
    "## Data Metric Comparison"
   ]
  },
  {
   "cell_type": "code",
   "execution_count": 16,
   "metadata": {
    "run_control": {
     "marked": true
    }
   },
   "outputs": [
    {
     "name": "stdout",
     "output_type": "stream",
     "text": [
      "OUTCOME_NONLINEARITY\n",
      "\t Lin r2(X_obs, Y)\n",
      "\t\tConcrete: 0.971\n",
      "\t\tSampled: 0.96\n",
      "\t Lin r2(X_true, Y)\n",
      "\t\tConcrete: 0.973\n",
      "\t\tSampled: 0.964\n",
      "TREATMENT_NONLINEARITY\n",
      "\t Lin r2(X_obs, Treat Logit)\n",
      "\t\tConcrete: 0.787\n",
      "\t\tSampled: 0.539\n",
      "\t Lin r2(X_true, Treat Logit)\n",
      "\t\tConcrete: 1.0\n",
      "\t\tSampled: 1.0\n",
      "\t Log r2(X_obs, T)\n",
      "\t\tConcrete: 0.725\n",
      "\t\tSampled: 0.631\n",
      "PERCENT_TREATED\n",
      "\t Percent(T==1)\n",
      "\t\tConcrete: 45.016\n",
      "\t\tSampled: 50.027\n",
      "BALANCE\n",
      "\t Wass dist X_true: T=1<->T=0\n",
      "\t\tConcrete: 0.053\n",
      "\t\tSampled: 0.043\n",
      "ALIGNMENT\n",
      "\t Lin r2(Y, Treat Logit)\n",
      "\t\tConcrete: 0.031\n",
      "\t\tSampled: 0.167\n",
      "\t Lin r2(Y0, Treat Logit)\n",
      "\t\tConcrete: 0.006\n",
      "\t\tSampled: 0.172\n",
      "TE_HETEROGENEITY\n",
      "\t std(TE)/std(Y)\n",
      "\t\tConcrete: 0.0\n",
      "\t\tSampled: 0.0\n",
      "TREATMENT_NONLINEARITY Log r2(X_obs, T) [0.595, 0.642, 0.629, 0.656, 0.627, 0.641, 0.638, 0.572, 0.571, 0.629, 0.673, 0.628, 0.651, 0.625, 0.652, 0.635, 0.608, 0.631, 0.649, 0.651, 0.632, 0.686, 0.644, 0.59, 0.655, 0.673, 0.607, 0.601, 0.632, 0.621]\n",
      "TREATMENT_NONLINEARITY Lin r2(X_obs, Treat Logit) [0.269, 0.623, 0.467, 0.804, 0.535, 0.66, 0.573, 0.161, 0.129, 0.485, 0.741, 0.543, 0.674, 0.466, 0.766, 0.604, 0.262, 0.528, 0.691, 0.664, 0.588, 0.89, 0.649, 0.225, 0.726, 0.941, 0.314, 0.272, 0.504, 0.406]\n",
      "TREATMENT_NONLINEARITY Lin r2(X_true, Treat Logit) [1.0, 1.0, 1.0, 1.0, 1.0, 1.0, 1.0, 1.0, 1.0, 1.0, 1.0, 1.0, 1.0, 1.0, 1.0, 1.0, 1.0, 1.0, 1.0, 1.0, 1.0, 1.0, 1.0, 1.0, 1.0, 1.0, 1.0, 1.0, 1.0, 1.0]\n"
     ]
    }
   ],
   "source": [
    "if SAMPLED_IN_ANALYSIS_MODE and CONCRETE_IN_ANALYSIS_MODE:\n",
    "    for axes, metrics in DATA_METRICS_SPEC.items():\n",
    "        print(axes)\n",
    "        for metric in metrics:\n",
    "            print(\"\\t\", metric)\n",
    "\n",
    "            key = f\"{axes} {metric}\"\n",
    "            print(\"\\t\\tConcrete:\", np.round(concrete_data_agg[key], 3))\n",
    "            print(\"\\t\\tSampled:\", np.round(sampled_data_agg[key], 3))\n",
    "    \n",
    "    for name, vals in sampled_data_raw.items():\n",
    "        if name.startswith(\"TREATMENT_NONLINEARITY\"):\n",
    "            print(name, vals)"
   ]
  },
  {
   "cell_type": "markdown",
   "metadata": {},
   "source": [
    "## Performance Comparison\n",
    "\n",
    "Notes\n",
    "\n",
    "At config A, 20-50 matches across runs. Wide distro. Should investigate the stability of the concrete distro when n=1000.\n",
    "\n",
    "At config G, 20-50 has much lower bias in the sampled benchmark. The concrete function appears to be a worst case scenario given that very similar functions experience much lower typical bias. The distribution is right tailed and so it is possible that the concrete func chosen is just an (un)lucky sample from right tail.\n",
    "\n",
    "I will test this by permuting the variable order in the exact same functional form."
   ]
  },
  {
   "cell_type": "markdown",
   "metadata": {},
   "source": [
    "### Concrete Performance"
   ]
  },
  {
   "cell_type": "code",
   "execution_count": 34,
   "metadata": {},
   "outputs": [
    {
     "data": {
      "text/plain": [
       "{'RMSE': 0.106, 'RMSE (std)': 0.007, 'AMBP': 13.034, 'AMBP (std)': 2.172}"
      ]
     },
     "execution_count": 34,
     "metadata": {},
     "output_type": "execute_result"
    }
   ],
   "source": [
    "concrete_perf_agg"
   ]
  },
  {
   "cell_type": "code",
   "execution_count": 35,
   "metadata": {},
   "outputs": [
    {
     "data": {
      "image/png": "[encoded data removed]",
      "text/plain": [
       "<Figure size 432x288 with 1 Axes>"
      ]
     },
     "metadata": {
      "needs_background": "light"
     },
     "output_type": "display_data"
    }
   ],
   "source": [
    "plt.hist(concrete_perf_raw[\"AMBP\"], density=True)\n",
    "plt.show()"
   ]
  },
  {
   "cell_type": "markdown",
   "metadata": {},
   "source": [
    "### Sampled Performance"
   ]
  },
  {
   "cell_type": "code",
   "execution_count": 19,
   "metadata": {},
   "outputs": [
    {
     "data": {
      "text/plain": [
       "{'RMSE': 0.106, 'RMSE (std)': 0.034, 'AMBP': 11.221, 'AMBP (std)': 25.677}"
      ]
     },
     "execution_count": 19,
     "metadata": {},
     "output_type": "execute_result"
    }
   ],
   "source": [
    "sampled_perf_agg"
   ]
  },
  {
   "cell_type": "code",
   "execution_count": 20,
   "metadata": {},
   "outputs": [
    {
     "data": {
      "image/png": "[encoded data removed]",
      "text/plain": [
       "<Figure size 432x288 with 1 Axes>"
      ]
     },
     "metadata": {
      "needs_background": "light"
     },
     "output_type": "display_data"
    },
    {
     "name": "stdout",
     "output_type": "stream",
     "text": [
      "6.520896551724138\n"
     ]
    },
    {
     "data": {
      "image/png": "[encoded data removed]",
      "text/plain": [
       "<Figure size 432x288 with 1 Axes>"
      ]
     },
     "metadata": {
      "needs_background": "light"
     },
     "output_type": "display_data"
    }
   ],
   "source": [
    "data = np.array(sampled_perf_raw[\"AMBP\"])\n",
    "plt.hist(data, density=True)\n",
    "plt.show()\n",
    "\n",
    "print(np.mean(data[data < 50]))\n",
    "plt.hist(data[data < 50], density=True)\n",
    "plt.show()"
   ]
  },
  {
   "cell_type": "code",
   "execution_count": 21,
   "metadata": {},
   "outputs": [
    {
     "data": {
      "image/png": "[encoded data removed]",
      "text/plain": [
       "<Figure size 432x288 with 1 Axes>"
      ]
     },
     "metadata": {
      "needs_background": "light"
     },
     "output_type": "display_data"
    }
   ],
   "source": [
    "flat_list = [item for sublist in sampled_perf_run_raw[\"AMBP\"] for item in sublist]\n",
    "plt.hist(flat_list)\n",
    "plt.show()"
   ]
  },
  {
   "cell_type": "code",
   "execution_count": 22,
   "metadata": {},
   "outputs": [
    {
     "data": {
      "text/plain": [
       "[[2.640847001576897,\n",
       "  0.9649069184183352,\n",
       "  1.4449839622661718,\n",
       "  1.5236632567784016,\n",
       "  1.2526344904276572,\n",
       "  3.7121303344185197],\n",
       " [3.6978148142933938,\n",
       "  6.043981378420141,\n",
       "  2.4298812916918964,\n",
       "  0.7249432891396626,\n",
       "  9.198533910471433,\n",
       "  5.971102966624347],\n",
       " [11.786534302822936,\n",
       "  10.521318801675497,\n",
       "  9.94518094023291,\n",
       "  6.344082552628063,\n",
       "  9.471314581252956,\n",
       "  9.150106115235236],\n",
       " [7.038472290042265,\n",
       "  9.832007892393028,\n",
       "  8.574622730409644,\n",
       "  10.968718000587065,\n",
       "  6.586444796225443,\n",
       "  4.488002526707364],\n",
       " [0.8988245042032555,\n",
       "  0.18277688241900827,\n",
       "  1.2304886072722643,\n",
       "  0.08900402000834029,\n",
       "  1.0498390495037784,\n",
       "  1.6547132865571332],\n",
       " [157.74649559924922,\n",
       "  147.53436898915467,\n",
       "  139.28102440974314,\n",
       "  153.18600603461314,\n",
       "  134.3091699356854,\n",
       "  153.15005804122896],\n",
       " [5.258403828969045,\n",
       "  1.8768287343013699,\n",
       "  7.843989230058821,\n",
       "  8.7400367858686,\n",
       "  1.514226395007006,\n",
       "  5.157641494630856],\n",
       " [5.080404934311391,\n",
       "  6.4502808898760255,\n",
       "  10.422382764537625,\n",
       "  5.438648443362948,\n",
       "  6.187104869271033,\n",
       "  6.4527797754861185],\n",
       " [3.5671534476628826,\n",
       "  5.746027865662855,\n",
       "  6.465450057656054,\n",
       "  5.720267732975642,\n",
       "  7.76905379298486,\n",
       "  5.812557906940186],\n",
       " [0.763511855263568,\n",
       "  2.3321877604691763,\n",
       "  1.9884915777733128,\n",
       "  2.898567202387502,\n",
       "  3.584838499498915,\n",
       "  0.9050514515221186],\n",
       " [6.865367824377833,\n",
       "  7.05109798026071,\n",
       "  8.109735973403302,\n",
       "  6.992928089134076,\n",
       "  9.183317890646435,\n",
       "  8.095068884697442],\n",
       " [0.1925530106072622,\n",
       "  1.4326901986532412,\n",
       "  1.2694298406960725,\n",
       "  2.7943758825678464,\n",
       "  1.5647073896230153,\n",
       "  2.3544300847973787],\n",
       " [15.241334349115826,\n",
       "  15.6675433660628,\n",
       "  16.16291956932639,\n",
       "  22.100232914124714,\n",
       "  17.565898736204925,\n",
       "  17.06628458934781],\n",
       " [1.058864318635369,\n",
       "  3.380715432632215,\n",
       "  0.9261854953419342,\n",
       "  2.0103177157503396,\n",
       "  2.138198650445284,\n",
       "  1.239968478172421],\n",
       " [5.030702348696712,\n",
       "  6.967686367661136,\n",
       "  6.58846202383117,\n",
       "  6.55767877778871,\n",
       "  5.8156384419561435,\n",
       "  5.566880789551525],\n",
       " [0.6305447347517545,\n",
       "  0.08841582726095319,\n",
       "  6.358658077086226,\n",
       "  1.6522783494348505,\n",
       "  8.619328795412805,\n",
       "  7.365082172138106],\n",
       " [16.211527123690086,\n",
       "  14.02012113527886,\n",
       "  13.683647728988122,\n",
       "  15.11961948858114,\n",
       "  10.772323285777242,\n",
       "  14.966598249673071],\n",
       " [3.6561397328391476,\n",
       "  3.577417091288436,\n",
       "  2.980376509101698,\n",
       "  4.295160736456006,\n",
       "  3.3341729934923166,\n",
       "  4.329223229637773],\n",
       " [4.5575081971661495,\n",
       "  5.642174843245895,\n",
       "  5.459947722629517,\n",
       "  10.187272230397157,\n",
       "  8.089787871319748,\n",
       "  5.1787427170063465],\n",
       " [2.319464095573168,\n",
       "  3.123843327632721,\n",
       "  2.087256107740998,\n",
       "  3.774564647861853,\n",
       "  1.9532482464879362,\n",
       "  3.44178689804392],\n",
       " [4.022016619497671,\n",
       "  3.6056970916170994,\n",
       "  4.796045128872308,\n",
       "  2.423755359534916,\n",
       "  5.129334404702379,\n",
       "  3.2319475353737173],\n",
       " [11.557843609804719,\n",
       "  15.032933411340688,\n",
       "  30.869909209311892,\n",
       "  19.62576442959718,\n",
       "  0.8162775681652367,\n",
       "  19.487587059621536],\n",
       " [8.409077738721475,\n",
       "  12.674340823375369,\n",
       "  9.687230769215166,\n",
       "  17.170590972383636,\n",
       "  13.953976497684748,\n",
       "  14.602131792117204],\n",
       " [3.7330479471984326,\n",
       "  9.07901914664626,\n",
       "  8.499398383773633,\n",
       "  10.44773701933453,\n",
       "  11.70077896630012,\n",
       "  11.300592971549968],\n",
       " [5.5202009741849976,\n",
       "  7.3309875444875106,\n",
       "  7.17035268661138,\n",
       "  9.91570846937608,\n",
       "  6.654910987953495,\n",
       "  5.899698655017156],\n",
       " [9.20336906387525,\n",
       "  5.685876851826466,\n",
       "  12.226406053895618,\n",
       "  20.433872535562436,\n",
       "  12.282062975115688,\n",
       "  9.723033440925857],\n",
       " [5.51238908278709,\n",
       "  3.4356670816771184,\n",
       "  4.5090406887043395,\n",
       "  0.4867807260038807,\n",
       "  3.5525683664521606,\n",
       "  7.030539351043844],\n",
       " [2.6402852987533656,\n",
       "  2.735870782237614,\n",
       "  1.9228668708935197,\n",
       "  2.3395976601055057,\n",
       "  1.6392745574677934,\n",
       "  1.7149488108179667],\n",
       " [8.953086840032137,\n",
       "  5.557577511232012,\n",
       "  4.938208952817413,\n",
       "  15.325207909673487,\n",
       "  11.447605142542955,\n",
       "  7.7936109207177795],\n",
       " [4.474561826792418,\n",
       "  1.158686732611003,\n",
       "  2.1981070211244416,\n",
       "  2.8464967699537747,\n",
       "  3.100954106028969,\n",
       "  3.559684798924876]]"
      ]
     },
     "execution_count": 22,
     "metadata": {},
     "output_type": "execute_result"
    }
   ],
   "source": [
    "sampled_perf_run_raw[\"AMBP\"]"
   ]
  },
  {
   "cell_type": "code",
   "execution_count": 23,
   "metadata": {},
   "outputs": [],
   "source": [
    "def get_cmap(n, name='hsv'):\n",
    "    '''Returns a function that maps each index in 0, 1, ..., n-1 to a distinct \n",
    "    RGB color; the keyword argument name must be a standard mpl colormap name.'''\n",
    "    return plt.cm.get_cmap(name, n)"
   ]
  },
  {
   "cell_type": "code",
   "execution_count": 24,
   "metadata": {},
   "outputs": [
    {
     "data": {
      "image/png": "[encoded data removed]",
      "text/plain": [
       "<Figure size 432x288 with 1 Axes>"
      ]
     },
     "metadata": {
      "needs_background": "light"
     },
     "output_type": "display_data"
    }
   ],
   "source": [
    "cmap = get_cmap(len(sampled_perf_run_raw[\"AMBP\"]))\n",
    "\n",
    "for i, runs in enumerate(sampled_perf_run_raw[\"AMBP\"]):\n",
    "    plt.hist(runs, density=True, alpha=0.5, color=cmap(i))\n",
    "#     plt.axvline(x=np.mean(runs), alpha=0.25)\n",
    "#     plt.axvline(x=np.median(runs), alpha=0.5, c=cmap(i))\n",
    "    \n",
    "plt.hist(concrete_perf_raw[\"AMBP\"], density=True, color=\"b\", label=\"concrete\")\n",
    "# plt.axvline(x=np.mean(concrete_perf_raw[\"AMBP\"]), c=\"r\")\n",
    "# plt.axvline(x=np.median(concrete_perf_raw[\"AMBP\"]), c=\"b\")\n",
    "plt.legend()\n",
    "plt.xlim((0, 40))\n",
    "plt.ylim((0, 5))\n",
    "plt.show()\n",
    "# "
   ]
  },
  {
   "cell_type": "code",
   "execution_count": 25,
   "metadata": {},
   "outputs": [],
   "source": [
    "metric = \"TREATMENT_NONLINEARITY Lin r2(X_obs, Treat Logit)\""
   ]
  },
  {
   "cell_type": "code",
   "execution_count": 26,
   "metadata": {},
   "outputs": [],
   "source": [
    "sample_metric_vals = sampled_data_raw[metric]\n",
    "concrete_metric_val = concrete_data_agg[metric]"
   ]
  },
  {
   "cell_type": "code",
   "execution_count": 27,
   "metadata": {},
   "outputs": [
    {
     "data": {
      "text/plain": [
       "0.787"
      ]
     },
     "execution_count": 27,
     "metadata": {},
     "output_type": "execute_result"
    }
   ],
   "source": [
    "concrete_metric_val"
   ]
  },
  {
   "cell_type": "code",
   "execution_count": 28,
   "metadata": {},
   "outputs": [
    {
     "data": {
      "text/plain": [
       "([0.017000000000000015,\n",
       "  0.02100000000000002,\n",
       "  0.04600000000000004,\n",
       "  0.061000000000000054,\n",
       "  0.09600000000000009,\n",
       "  0.10299999999999998,\n",
       "  0.11299999999999999,\n",
       "  0.123,\n",
       "  0.127,\n",
       "  0.138,\n",
       "  0.15399999999999991,\n",
       "  0.16400000000000003,\n",
       "  0.18300000000000005,\n",
       "  0.19900000000000007,\n",
       "  0.21400000000000008,\n",
       "  0.244,\n",
       "  0.252,\n",
       "  0.259,\n",
       "  0.28300000000000003,\n",
       "  0.30200000000000005,\n",
       "  0.32,\n",
       "  0.321,\n",
       "  0.381,\n",
       "  0.47300000000000003,\n",
       "  0.515,\n",
       "  0.518,\n",
       "  0.525,\n",
       "  0.562,\n",
       "  0.626,\n",
       "  0.658],\n",
       " 0.20772422958228912)"
      ]
     },
     "execution_count": 28,
     "metadata": {},
     "output_type": "execute_result"
    }
   ],
   "source": [
    "sorted(np.abs(sample_metric_vals - concrete_metric_val)), np.std(sample_metric_vals)"
   ]
  },
  {
   "cell_type": "code",
   "execution_count": 39,
   "metadata": {},
   "outputs": [
    {
     "name": "stdout",
     "output_type": "stream",
     "text": [
      "[False False False  True False False False False False False  True False\n",
      " False False  True False False False  True False False False False False\n",
      "  True False False False False False]\n",
      "13.034 7.064004217592182\n"
     ]
    },
    {
     "data": {
      "image/png": "[encoded data removed]",
      "text/plain": [
       "<Figure size 432x288 with 1 Axes>"
      ]
     },
     "metadata": {
      "needs_background": "light"
     },
     "output_type": "display_data"
    }
   ],
   "source": [
    "sample_metric_vals = sampled_data_raw[metric]\n",
    "sample_metric_std = np.std(sample_metric_vals)\n",
    "select_tol = 0.1#0.5*sample_metric_std\n",
    "selected_runs = np.abs(sample_metric_vals - concrete_metric_val) < select_tol\n",
    "print(selected_runs)\n",
    "\n",
    "cmap = get_cmap(len(sampled_perf_run_raw[\"AMBP\"]))\n",
    "\n",
    "means = []\n",
    "for i, runs in enumerate(sampled_perf_run_raw[\"AMBP\"]):\n",
    "    if i < len(selected_runs) and selected_runs[i] and np.mean(runs) < 60:\n",
    "        means.append(np.mean(runs))\n",
    "        plt.hist(runs, density=True, alpha=0.5, color=cmap(i))\n",
    "        plt.axvline(x=np.mean(runs), alpha=0.5, c=cmap(i))\n",
    "#         plt.axvline(x=np.median(runs), alpha=0.5, c=cmap(i))\n",
    "        \n",
    "print(concrete_perf_agg[\"AMBP\"], np.mean(means))  \n",
    "plt.hist(concrete_perf_raw[\"AMBP\"], density=True, color=\"b\", label=\"concrete\")\n",
    "plt.axvline(x=np.mean(concrete_perf_raw[\"AMBP\"]), c=\"b\")\n",
    "# plt.axvline(x=np.median(concrete_perf_raw[\"AMBP\"]), c=\"b\")\n",
    "# plt.xlim((0, 30))\n",
    "plt.ylim((0, 5))\n",
    "plt.legend()\n",
    "plt.show()\n",
    "# "
   ]
  },
  {
   "cell_type": "code",
   "execution_count": 82,
   "metadata": {
    "scrolled": false
   },
   "outputs": [
    {
     "data": {
      "image/png": "[encoded data removed]",
      "text/plain": [
       "<Figure size 432x288 with 1 Axes>"
      ]
     },
     "metadata": {
      "needs_background": "light"
     },
     "output_type": "display_data"
    }
   ],
   "source": [
    "# Concrete\n",
    "plt.scatter(concrete_data_agg[metric], concrete_perf_agg[\"AMBP\"],\n",
    "            c=\"r\", label=\"concrete\") \n",
    "interval_data = np.percentile(np.array(concrete_perf_raw[\"AMBP\"]),\n",
    "                              [2.5, 97.5]).reshape((2, 1))\n",
    "plt.errorbar(concrete_data_agg[metric], concrete_perf_agg[\"AMBP\"],\n",
    "             interval_data, fmt='none', c=\"r\")\n",
    "\n",
    "# Sampled Mean\n",
    "plt.scatter(sampled_data_agg[metric], sampled_perf_agg[\"AMBP\"],\n",
    "            c=\"g\", label=\"concrete\") \n",
    "interval_data = np.percentile(np.array(sampled_perf_raw[\"AMBP\"])[perf_data<100],\n",
    "                              [2.5, 97.5]).reshape((2, 1))\n",
    "plt.errorbar(sampled_data_agg[metric], sampled_perf_agg[\"AMBP\"],\n",
    "             interval_data, fmt='none', c=\"g\")\n",
    "\n",
    "# DGP level scatter plot\n",
    "perf_data = np.array(sampled_perf_raw[\"AMBP\"])\n",
    "sample_metric_data = np.array(sample_metric_vals)\n",
    "plt.scatter(sample_metric_data[perf_data<100], perf_data[perf_data<100], c=\"b\")\n",
    "\n",
    "# Run level intervals for each point\n",
    "interval_data = np.percentile(np.array(sampled_perf_run_raw[\"AMBP\"]), [2.5, 97.5], axis=1)\n",
    "interval_data = interval_data[:, perf_data<100]\n",
    "plt.errorbar(sample_metric_data[perf_data<100], perf_data[perf_data<100],\n",
    "             interval_data, fmt='none', c=\"b\")\n",
    "\n",
    "# regression plot\n",
    "coeffs = np.polyfit(sample_metric_data[perf_data<100], perf_data[perf_data<100], 1)\n",
    "plt.plot(sample_metric_data[perf_data<100], coeffs[0]*sample_metric_data[perf_data<100] + coeffs[1])\n",
    "\n",
    "plt.show()\n",
    "\n",
    "# For fixed forms, there is a diversity of metric values\n",
    "# with different performance metrics. These correspond to the metric\n",
    "# in a way we expect. Even at a single metric value there is noise which\n",
    "# requires averaging."
   ]
  },
  {
   "cell_type": "code",
   "execution_count": 108,
   "metadata": {},
   "outputs": [],
   "source": []
  },
  {
   "cell_type": "code",
   "execution_count": 233,
   "metadata": {},
   "outputs": [],
   "source": [
    "sampled_dgp_transforms = map(lambda x: x[1].treatment_covariate_transforms, list(dgps))\n",
    "category_data = list(map(categorize_terms, sampled_dgp_transforms))"
   ]
  },
  {
   "cell_type": "code",
   "execution_count": 255,
   "metadata": {},
   "outputs": [
    {
     "name": "stdout",
     "output_type": "stream",
     "text": [
      "INTERACTION_TWO_WAY 12.0 0.0\n",
      "POLY_QUAD 3.0 0.0\n",
      "LINEAR 6.966666666666667 0.3144660377352202\n"
     ]
    }
   ],
   "source": [
    "categories = [\n",
    "    Constants.DGPSampling.INTERACTION_TWO_WAY,\n",
    "    Constants.DGPSampling.POLY_QUADRATIC,\n",
    "    Constants.DGPSampling.LINEAR,\n",
    "]\n",
    "for category in categories:\n",
    "    category_counts = list(map(lambda data: data[0][category], category_data))\n",
    "    print(category, np.mean(category_counts), np.std(category_counts))\n",
    "\n",
    "binary_data = []\n",
    "\n",
    "for data in category_data:\n",
    "    interactions = data[1][Constants.DGPSampling.INTERACTION_TWO_WAY]\n",
    "    get_is_binary_statuses = lambda var_name: int(str(var_name)[1:]) in GENMATCH_BINARY_COVAR_INDECES\n",
    "    \n",
    "    interaction_binary_classes = [\n",
    "        categorize_interaction_two_way([\n",
    "            get_is_binary_statuses(interaction_var)\n",
    "            for interaction_var in interaction_vars\n",
    "        ])\n",
    "        for interaction_vars in interactions\n",
    "    ]\n",
    "    \n",
    "    binary_data.append(interaction_binary_classes)\n",
    "\n",
    "binary_data = np.array(binary_data)\n",
    "both_counts = np.sum(binary_data == \"both\", axis=1)\n",
    "one_counts = np.sum(binary_data == \"one\", axis=1)"
   ]
  },
  {
   "cell_type": "code",
   "execution_count": 262,
   "metadata": {},
   "outputs": [
    {
     "data": {
      "image/png": "[encoded data removed]",
      "text/plain": [
       "<Figure size 432x288 with 1 Axes>"
      ]
     },
     "metadata": {
      "needs_background": "light"
     },
     "output_type": "display_data"
    },
    {
     "data": {
      "image/png": "[encoded data removed]",
      "text/plain": [
       "<Figure size 432x288 with 1 Axes>"
      ]
     },
     "metadata": {
      "needs_background": "light"
     },
     "output_type": "display_data"
    },
    {
     "data": {
      "image/png": "[encoded data removed]",
      "text/plain": [
       "<Figure size 432x288 with 1 Axes>"
      ]
     },
     "metadata": {
      "needs_background": "light"
     },
     "output_type": "display_data"
    }
   ],
   "source": [
    "plt.scatter(both_counts, sample_metric_vals)\n",
    "plt.show()\n",
    "\n",
    "plt.scatter(one_counts, sample_metric_vals)\n",
    "plt.show()\n",
    "\n",
    "agg_counts = 2*both_counts + one_counts\n",
    "plt.scatter(agg_counts, sample_metric_vals)\n",
    "\n",
    "# regression plot\n",
    "coeffs = np.polyfit(agg_counts, sample_metric_vals, 1)\n",
    "plt.plot(agg_counts, coeffs[0]*agg_counts + coeffs[1])\n",
    "\n",
    "plt.show()\n",
    "\n",
    "# The choice of binary interactions matters for the metric (which we know)\n",
    "# is correlated with the performance of the estimator."
   ]
  },
  {
   "cell_type": "markdown",
   "metadata": {},
   "source": [
    "## Narrative\n",
    "\n",
    "Authors create a semi realistic data set - mix of binary and normal covariates.\n",
    "\n",
    "The hand-select a set of functions with escalating levels of nonlinearity and non-additivity.\n",
    "\n",
    "This analysis will show why this is a problematic strategy. Instead of tuning Maccabee to sample from specific location: sample functions which look very similar to their function in terms of expected structure.\n",
    "\n",
    "Keep everything else constant: same data, same constant treatment effect, same lack of outcome noise, same coeff distro (by inspection) *TODO verify this distr via histogram*. *TODO: see what happens with non-dynamic datasets*.\n",
    "\n",
    "This is a much lower variance setting than a standard maccabee sampler: normally would sample a wide class of functions with similar metrics. Here, we sample from the class of functions. Implication is that variance in this class is a subset of wider variance we would expect from the universe of possible functional forms could have selected.\n",
    "\n",
    "The results show the following:\n",
    "- We do indeed sample from universe of same structure functions. Ratio of components is identical.\n",
    "- There is a wide distro over performance\n",
    "- Digging into this, we see one contributing factor is a distro over the treatment assignment metric. **IE, identical structure** is producing highly varied non-linearity metrics.\n",
    "- It could be that this metric is useless but we see that it is indeed strongly correlated with performance of the estimator. So the metric matters.\n",
    "\n",
    "It appears the variance comes from different distro over binary variables in the interactions. This is logical given it is the only real difference.\n",
    "\n",
    "**Key take-aways**\n",
    "\n",
    "- Hand specified forms are a single sample from a (potentially wide) distribution over **realized** value of targeted distributional setting as proxied by values of metrics. And these distributional setting are correlated to performance (again, via metrics) (as is expected)\n",
    "\n",
    "- This would be even wider if we sampled from a wider class of variables (*TODO relax the constrains by moving back to soft sampler and see what happens*)\n",
    "\n",
    "- Even within a single metric setting, there is variance from other factors - both data set and other distributional setting values. This means that even with in a fixed target, there is a need for averaging.\n",
    "\n",
    "- So to really test a method, must sample by targeting distributional metrics. In practice, this means average over many realizations with the correct - on average metric value. Any single is hard to find and may not capture range of other possible distributional settings. \n",
    "\n",
    "Put formally, we want the conditional marginal over a specific distributional setting.\n",
    "\n"
   ]
  },
  {
   "cell_type": "code",
   "execution_count": 273,
   "metadata": {},
   "outputs": [
    {
     "name": "stdout",
     "output_type": "stream",
     "text": [
      "R^2 0.23695205266440944 P 0.007409855852932419\n"
     ]
    },
    {
     "data": {
      "image/png": "[encoded data removed]",
      "text/plain": [
       "<Figure size 432x288 with 1 Axes>"
      ]
     },
     "metadata": {
      "needs_background": "light"
     },
     "output_type": "display_data"
    }
   ],
   "source": [
    "agg_counts = 2*both_counts + one_counts\n",
    "perf_data = np.array(sampled_perf_raw[\"AMBP\"])\n",
    "plt.scatter(agg_counts[perf_data < 100], perf_data[perf_data < 100])\n",
    "\n",
    "# regression plot\n",
    "slope, intercept, r_value, p_value, _ = st.linregress(agg_counts[perf_data < 100], perf_data[perf_data < 100])\n",
    "plt.plot(agg_counts, slope*agg_counts + intercept)\n",
    "\n",
    "print(\"R^2\", r_value**2, \"P\", p_value)\n",
    "plt.show()\n",
    "\n",
    "# The choice of binary interactions matters for performance of the estimator."
   ]
  },
  {
   "cell_type": "code",
   "execution_count": 267,
   "metadata": {},
   "outputs": [],
   "source": [
    "np.polyfit?"
   ]
  },
  {
   "cell_type": "code",
   "execution_count": 246,
   "metadata": {},
   "outputs": [],
   "source": [
    "def categorize_interaction_two_way(is_binary_statuses):\n",
    "    if is_binary_statuses[0] and is_binary_statuses[1]:\n",
    "        return \"both\"\n",
    "    elif not is_binary_statuses[0] and not is_binary_statuses[1]:\n",
    "        return \"neither\"\n",
    "    else:\n",
    "        return \"one\""
   ]
  },
  {
   "cell_type": "code",
   "execution_count": 230,
   "metadata": {},
   "outputs": [],
   "source": [
    "def categorize_terms(terms):\n",
    "    counts = defaultdict(int)\n",
    "    components = defaultdict(list)\n",
    "    \n",
    "    for term in terms:\n",
    "        if not term.free_symbols:\n",
    "            continue\n",
    "        \n",
    "        poly_term = poly(term)\n",
    "        variables = poly_term.gens\n",
    "        max_deg = max(poly_term.degree_list())\n",
    "        \n",
    "        if len(variables) == 2:\n",
    "            assert(max_deg == 1)\n",
    "            category = Constants.DGPSampling.INTERACTION_TWO_WAY\n",
    "        elif len(variables) == 3:\n",
    "            assert(max_deg == 1)\n",
    "            category = Constants.DGPSampling.INTERACTION_THREE_WAY\n",
    "        elif len(variables) > 3:\n",
    "            raise Exception(\"Unexpected degree!\")\n",
    "        elif max_deg == 2:\n",
    "            assert(len(variables) == 1)\n",
    "            category = Constants.DGPSampling.POLY_QUADRATIC\n",
    "        elif max_deg == 3:\n",
    "            assert(len(variables) == 1)\n",
    "            category = Constants.DGPSampling.POLY_CUBIC\n",
    "        elif not variables[0].is_Atom:\n",
    "            assert(len(variables) == 1)\n",
    "            category = STEP_CONSTANT + \"/\" + STEP_VARIABLE\n",
    "        else:\n",
    "            assert(len(variables) ==1 and max_deg == 1)\n",
    "            category = Constants.DGPSampling.LINEAR\n",
    "        \n",
    "        counts[category] += 1\n",
    "        components[category].append((variables))\n",
    "        \n",
    "    return counts, components"
   ]
  },
  {
   "cell_type": "code",
   "execution_count": 216,
   "metadata": {},
   "outputs": [
    {
     "data": {
      "text/plain": [
       "array([0, 0.8*X1, -0.25*X2, 0.6*X3, -0.4*X4, -0.8*X5, -0.5*X6, 0.7*X7, 0,\n",
       "       0, 0, -0.25*X2**2, -0.4*X4**2, 0.7*X7**2, 0.4*X1*X3, -0.175*X2*X4,\n",
       "       0.3*X3*X5, -0.28*X4*X6, -0.4*X5*X7, 0.4*X1*X6, -0.175*X2*X3,\n",
       "       0.3*X3*X4, -0.2*X4*X5, -0.4*X5*X6], dtype=object)"
      ]
     },
     "execution_count": 216,
     "metadata": {},
     "output_type": "execute_result"
    }
   ],
   "source": [
    "dgp.treatment_logit_terms"
   ]
  }
 ],
 "metadata": {
  "kernelspec": {
   "display_name": "Python 3",
   "language": "python",
   "name": "python3"
  },
  "language_info": {
   "codemirror_mode": {
    "name": "ipython",
    "version": 3
   },
   "file_extension": ".py",
   "mimetype": "text/x-python",
   "name": "python",
   "nbconvert_exporter": "python",
   "pygments_lexer": "ipython3",
   "version": "3.7.3"
  },
  "varInspector": {
   "cols": {
    "lenName": 16,
    "lenType": 16,
    "lenVar": 40
   },
   "kernels_config": {
    "python": {
     "delete_cmd_postfix": "",
     "delete_cmd_prefix": "del ",
     "library": "var_list.py",
     "varRefreshCmd": "print(var_dic_list())"
    },
    "r": {
     "delete_cmd_postfix": ") ",
     "delete_cmd_prefix": "rm(",
     "library": "var_list.r",
     "varRefreshCmd": "cat(var_dic_list()) "
    }
   },
   "types_to_exclude": [
    "module",
    "function",
    "builtin_function_or_method",
    "instance",
    "_Feature"
   ],
   "window_display": false
  }
 },
 "nbformat": 4,
 "nbformat_minor": 2
}
