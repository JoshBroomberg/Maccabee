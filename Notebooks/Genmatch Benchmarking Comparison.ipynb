{
 "cells": [
  {
   "cell_type": "code",
   "execution_count": 2,
   "metadata": {},
   "outputs": [],
   "source": [
    "#!pip install -e ../Maccabee > /dev/null"
   ]
  },
  {
   "cell_type": "code",
   "execution_count": 2,
   "metadata": {
    "run_control": {
     "marked": true
    }
   },
   "outputs": [],
   "source": [
    "# %load_ext autoreload\n",
    "# %autoreload 2"
   ]
  },
  {
   "cell_type": "code",
   "execution_count": 1,
   "metadata": {},
   "outputs": [],
   "source": [
    "from maccabee.data_analysis.data_metrics import AXES_AND_METRIC_NAMES\n",
    "from maccabee.constants import Constants\n",
    "import maccabee.data_sources as data_sources\n",
    "from maccabee.parameters import build_default_parameters\n",
    "\n",
    "from maccabee.data_generation import DataGeneratingProcess, SampledDataGeneratingProcess, data_generating_method\n",
    "from maccabee.data_generation.utils import evaluate_expression, CompiledExpression\n",
    "# benchmarks\n",
    "from maccabee.benchmarking import benchmark_model_using_concrete_dgp\n",
    "from maccabee.benchmarking import benchmark_model_using_sampled_dgp\n",
    "from maccabee.benchmarking import benchmark_model_using_sampled_dgp_grid\n",
    "\n",
    "# genmatch\n",
    "from maccabee.examples.genmatch import GenmatchDataGeneratingProcess, build_genmatch_datasource, GENMATCH_SPECS\n",
    "from maccabee.examples.genmatch import LogisticPropensityMatchingCausalModel\n",
    "from maccabee.examples.genmatch import GENMATCH_BINARY_COVAR_INDECES"
   ]
  },
  {
   "cell_type": "code",
   "execution_count": 2,
   "metadata": {},
   "outputs": [],
   "source": [
    "import numpy as np\n",
    "from collections import defaultdict\n",
    "import pandas as pd\n",
    "import matplotlib.pyplot as plt\n",
    "from sympy.polys.polytools import poly\n",
    "from collections import defaultdict\n",
    "import scipy.stats as st\n",
    "import sympy as sp"
   ]
  },
  {
   "cell_type": "code",
   "execution_count": 216,
   "metadata": {},
   "outputs": [],
   "source": [
    "BASE_GENMATCH_DGP_PARAMS = {\n",
    "  \"OUTCOME_MECHANISM_COVARIATE_SELECTION_PROBABILITY\": { \n",
    "        \"LINEAR\": 0.7,\n",
    "        \"POLY_QUAD\": 0,\n",
    "        \"POLY_CUBIC\": 0,\n",
    "        \"STEP_JUMP\": 0,\n",
    "        \"STEP_KINK\": 0,\n",
    "        \"INTERACTION_TWO_WAY\": 0,\n",
    "        \"INTERACTION_THREE_WAY\": 0,\n",
    "  },\n",
    "  \"TREATMENT_EFFECT_HETEROGENEITY\": 0,\n",
    "  \"ACTUAL_CONFOUNDER_ALIGNMENT\": 0,\n",
    "  \"TARGET_PROPENSITY_SCORE\": 0.5,\n",
    "#   \"MIN_PROPENSITY_SCORE\": 0.05,\n",
    "#   \"MAX_PROPENSITY_SCORE\": 0.95,\n",
    "  \"OUTCOME_NOISE_TAIL_THICKNESS\": 1000,\n",
    "  \"SUBFUNCTION_CONSTANT_TAIL_THICKNESS\": 1000,\n",
    "  \"TREATMENT_EFFECT_TAIL_THICKNESS\": 1000\n",
    "}\n",
    "\n",
    "A_param_overrides = BASE_GENMATCH_DGP_PARAMS.copy()\n",
    "A_param_overrides[\"TREAT_MECHANISM_COVARIATE_SELECTION_PROBABILITY\"] = { \n",
    "    \"LINEAR\": 0.7,\n",
    "    \"POLY_QUAD\": 0,\n",
    "    \"POLY_CUBIC\": 0,\n",
    "    \"STEP_JUMP\": 0,\n",
    "    \"STEP_KINK\": 0,\n",
    "    \"INTERACTION_TWO_WAY\": 0.0,\n",
    "    \"INTERACTION_THREE_WAY\": 0,\n",
    "}\n",
    "A_param_overrides[\"ACTUAL_CONFOUNDER_ALIGNMENT\"] = 0.285\n",
    "  \n",
    "C_param_overrides = BASE_GENMATCH_DGP_PARAMS.copy()\n",
    "C_param_overrides[\"TREAT_MECHANISM_COVARIATE_SELECTION_PROBABILITY\"] = { \n",
    "    \"LINEAR\": 0.7,\n",
    "    \"POLY_QUAD\": 0.3,\n",
    "    \"POLY_CUBIC\": 0,\n",
    "    \"STEP_JUMP\": 0,\n",
    "    \"STEP_KINK\": 0,\n",
    "    \"INTERACTION_TWO_WAY\": 0.0,\n",
    "    \"INTERACTION_THREE_WAY\": 0,\n",
    "}\n",
    "C_param_overrides[\"ACTUAL_CONFOUNDER_ALIGNMENT\"] = -1\n",
    "\n",
    "G_param_overrides = BASE_GENMATCH_DGP_PARAMS.copy()\n",
    "G_param_overrides[\"TREAT_MECHANISM_COVARIATE_SELECTION_PROBABILITY\"] = { \n",
    "    \"LINEAR\": 0.7,\n",
    "    \"POLY_QUAD\": 0.75,\n",
    "    \"POLY_CUBIC\": 0,\n",
    "    \"STEP_JUMP\": 0,\n",
    "    \"STEP_KINK\": 0,\n",
    "    \"INTERACTION_TWO_WAY\": 0.22,\n",
    "    \"INTERACTION_THREE_WAY\": 0,\n",
    "}\n",
    "G_param_overrides[\"ACTUAL_CONFOUNDER_ALIGNMENT\"] = 0.15\n",
    "\n",
    "GENMATCH_PARAM_OVERRIDES = {\n",
    "    \"A\": A_param_overrides,\n",
    "    \"C\": C_param_overrides,\n",
    "    \"G\": G_param_overrides,\n",
    "}"
   ]
  },
  {
   "cell_type": "code",
   "execution_count": 127,
   "metadata": {
    "run_control": {
     "marked": true
    }
   },
   "outputs": [],
   "source": [
    "# Define axes and metrics to analyze\n",
    "DATA_METRICS_SPEC = {\n",
    "    Constants.AxisNames.OUTCOME_NONLINEARITY: [\n",
    "#         \"Lin r2(X_obs, Y)\", #here\n",
    "#         \"Lin r2(X_true, Y)\"\n",
    "    ],\n",
    "    Constants.AxisNames.TREATMENT_NONLINEARITY: [\n",
    "        \"Lin r2(X_obs, Treat Logit)\",\n",
    "#         \"Lin r2(X_true, Treat Logit)\",\n",
    "#         \"Log r2(X_obs, T)\"\n",
    "    ],\n",
    "    Constants.AxisNames.PERCENT_TREATED: [\n",
    "#         \"Percent(T==1)\" # here\n",
    "    ],\n",
    "#     Constants.AxisNames.BALANCE: [\n",
    "#         \"Wass dist X_true: T=1<->T=0\",\n",
    "#     ],\n",
    "    Constants.AxisNames.ALIGNMENT: [\n",
    "#         \"Lin r2(Y, Treat Logit)\", # here\n",
    "#         \"Lin r2(Y0, Treat Logit)\"\n",
    "    ],\n",
    "#     Constants.AxisNames.TE_HETEROGENEITY: [\n",
    "#         \"std(TE)/std(Y)\"\n",
    "#     ]\n",
    "}"
   ]
  },
  {
   "cell_type": "code",
   "execution_count": 5,
   "metadata": {},
   "outputs": [],
   "source": [
    "N_CORES = 36\n",
    "N_THREADS = 1"
   ]
  },
  {
   "cell_type": "code",
   "execution_count": 6,
   "metadata": {},
   "outputs": [],
   "source": [
    "import pickle\n",
    "import uuid\n",
    "import datetime\n",
    "import glob\n",
    "\n",
    "RESULT_DIR = \"results/genmatch/\"\n",
    "\n",
    "def persist_result(name, data):\n",
    "    timestamp = str(datetime.datetime.now())[11:-7]\n",
    "    file_name = name + \"-\" + timestamp + \".pkl\"\n",
    "    file_path = RESULT_DIR + file_name\n",
    "\n",
    "    with open(file_path, \"wb\") as res_file:\n",
    "        pickle.dump(data, res_file)\n",
    "\n",
    "    return file_name\n",
    "\n",
    "\n",
    "def read_result(base_name):\n",
    "    if base_name[-3:] == \"pkl\":\n",
    "        file_path = RESULT_DIR + base_name\n",
    "    else:\n",
    "        file_path_pattern = RESULT_DIR + f\"{base_name}*.pkl\"\n",
    "        file_paths = sorted(glob.glob(file_path_pattern))\n",
    "        file_path = file_paths[-1] # most recent\n",
    "    \n",
    "    print(\"Fetching\", file_path)\n",
    "    with open(file_path, \"rb\") as res_file:\n",
    "        result_entry = pickle.load(res_file)\n",
    "    \n",
    "    return result_entry\n",
    "\n",
    "# name = persist_result(\"testresult\", (1, 2, 3, 4, 6))\n",
    "# read_result(name)"
   ]
  },
  {
   "cell_type": "code",
   "execution_count": 7,
   "metadata": {},
   "outputs": [],
   "source": [
    "COMPARISON_BENCHMARK = \"G\""
   ]
  },
  {
   "cell_type": "markdown",
   "metadata": {},
   "source": [
    "## Run MC Benchmarks"
   ]
  },
  {
   "cell_type": "code",
   "execution_count": 8,
   "metadata": {},
   "outputs": [
    {
     "name": "stdout",
     "output_type": "stream",
     "text": [
      "Fetching results/genmatch/concrete_G-14:16:20.pkl\n",
      "CPU times: user 0 ns, sys: 0 ns, total: 0 ns\n",
      "Wall time: 1.3 ms\n"
     ]
    }
   ],
   "source": [
    " %%time\n",
    "\n",
    "CONCRETE_IN_ANALYSIS_MODE = True\n",
    "CONCRETE_CACHED = True\n",
    "CONCRETE_RESULT_BASENAME = f\"concrete_{COMPARISON_BENCHMARK}\"\n",
    "\n",
    "if not CONCRETE_CACHED:\n",
    "    # Concrete Genmatch Benchmark\n",
    "    dgp = GenmatchDataGeneratingProcess(\n",
    "        dgp_label=COMPARISON_BENCHMARK,\n",
    "        n_observations=1000,\n",
    "        data_analysis_mode=CONCRETE_IN_ANALYSIS_MODE)\n",
    "\n",
    "    concrete_result = benchmark_model_using_concrete_dgp(\n",
    "            dgp=dgp,\n",
    "            model_class=LogisticPropensityMatchingCausalModel,\n",
    "            estimand=Constants.Model.ATT_ESTIMAND,\n",
    "            num_sampling_runs_per_dgp=100,\n",
    "            num_samples_from_dgp=64,\n",
    "            data_analysis_mode=CONCRETE_IN_ANALYSIS_MODE,\n",
    "            data_metrics_spec=DATA_METRICS_SPEC,\n",
    "            n_jobs=N_CORES,\n",
    "            n_threads=N_THREADS)\n",
    "    \n",
    "    persist_result(CONCRETE_RESULT_BASENAME,concrete_result)\n",
    "else:\n",
    "    concrete_result = read_result(CONCRETE_RESULT_BASENAME)\n",
    "\n",
    "concrete_perf_agg, concrete_perf_raw, concrete_data_agg, concrete_data_raw = \\\n",
    "    concrete_result\n"
   ]
  },
  {
   "cell_type": "code",
   "execution_count": 11,
   "metadata": {},
   "outputs": [],
   "source": [
    "# TRUE_TREAT_LOGIT = dgp.treatment_logit_expression\n",
    "\n",
    "# class GenmatchEquivDataGeneratingProcess(SampledDataGeneratingProcess):\n",
    "#     @data_generating_method(Constants.DGPVariables.OUTCOME_NOISE_NAME, [])\n",
    "#     def _generate_outcome_noise_samples(self, input_vars):\n",
    "#         return 0\n",
    "    \n",
    "#     @data_generating_method(Constants.DGPVariables.TREATMENT_EFFECT_NAME, [])\n",
    "#     def _generate_treatment_effects(self, input_vars):\n",
    "#         return -0.4\n",
    "    \n",
    "#     @data_generating_method(Constants.DGPVariables.PROPENSITY_SCORE_NAME,\n",
    "#                             [Constants.DGPVariables.COVARIATES_NAME])\n",
    "#     def _generate_true_propensity_scores(self, input_vars):\n",
    "#         observed_covariate_data = input_vars[Constants.DGPVariables.COVARIATES_NAME]\n",
    "\n",
    "#         logits = evaluate_expression(\n",
    "#             TRUE_TREAT_LOGIT,\n",
    "#             observed_covariate_data)\n",
    "\n",
    "#         return 1/(1 + np.exp(-1*logits))"
   ]
  },
  {
   "cell_type": "code",
   "execution_count": 217,
   "metadata": {},
   "outputs": [],
   "source": [
    "from maccabee.data_generation.utils import evaluate_expression\n",
    "\n",
    "DGPVariables = Constants.DGPVariables\n",
    "\n",
    "SAMPLED_DYNAMIC = True\n",
    "SAMPLED_OUTCOME_BIAS = True\n",
    "DGPVariables.NORMALIZE_SAMPLED_OUTCOME_FUNCTION = False\n",
    "DGPVariables.NORMALIZE_SAMPLED_TREATMENT_FUNCTION = True\n",
    "\n",
    "# Sampled Genmatch Benchmark\n",
    "class GenmatchLikeSampledDataGeneratingProcess(SampledDataGeneratingProcess):\n",
    "    def __init__(self, *args, **kwargs):\n",
    "        compile_functions = kwargs.pop(\"compile_functions\")\n",
    "        kwargs[\"compile_functions\"] = False\n",
    "        \n",
    "        super().__init__(*args, **kwargs)\n",
    "        if SAMPLED_OUTCOME_BIAS:\n",
    "            self.bias = -3.85\n",
    "            np.append(self.outcome_covariate_transforms, self.bias)\n",
    "            self.untreated_outcome_subfunction += self.bias\n",
    "            self.outcome_function += self.bias\n",
    "            \n",
    "        if compile_functions:\n",
    "            symbols = sp.symbols(list(self.observed_covariate_data.columns))\n",
    "            self.untreated_outcome_subfunction = \\\n",
    "                CompiledExpression(self.untreated_outcome_subfunction, symbols)\n",
    "            self.treatment_assignment_function = \\\n",
    "                CompiledExpression(self.treatment_assignment_function, symbols)\n",
    "\n",
    "    @data_generating_method(DGPVariables.OUTCOME_NOISE_NAME, [])\n",
    "    def _generate_outcome_noise_samples(self, input_vars):\n",
    "        return 0\n",
    "    \n",
    "    @data_generating_method(DGPVariables.TREATMENT_EFFECT_NAME, [])\n",
    "    def _generate_treatment_effects(self, input_vars):\n",
    "        return -0.4\n",
    "    \n",
    "    # dynamic dataset generation.\n",
    "    @data_generating_method(DGPVariables.COVARIATES_NAME, [])\n",
    "    def _generate_observed_covars(self, input_vars):\n",
    "        if SAMPLED_DYNAMIC:\n",
    "            return self.data_source.get_covar_df() \n",
    "        else:\n",
    "            return self.observed_covariate_data\n",
    "    \n",
    "    @data_generating_method(\n",
    "        DGPVariables.POTENTIAL_OUTCOME_WITHOUT_TREATMENT_NAME,\n",
    "        [DGPVariables.COVARIATES_NAME],\n",
    "        cache_result=(not SAMPLED_DYNAMIC))\n",
    "    def _generate_outcomes_without_treatment(self, input_vars):\n",
    "        observed_covariate_data = input_vars[DGPVariables.COVARIATES_NAME]\n",
    "        return evaluate_expression(\n",
    "            self.untreated_outcome_subfunction,\n",
    "            observed_covariate_data) \n",
    "\n",
    "    @data_generating_method(\n",
    "        DGPVariables.TREATMENT_EFFECT_NAME,\n",
    "        [DGPVariables.COVARIATES_NAME],\n",
    "        cache_result=(not SAMPLED_DYNAMIC))\n",
    "    def _generate_treatment_effects(self, input_vars):\n",
    "        observed_covariate_data = input_vars[DGPVariables.COVARIATES_NAME]\n",
    "        return evaluate_expression(\n",
    "            self.treatment_effect_subfunction,\n",
    "            observed_covariate_data)\n",
    "\n",
    "    @data_generating_method(\n",
    "        DGPVariables.POTENTIAL_OUTCOME_WITH_TREATMENT_NAME,\n",
    "        [\n",
    "            DGPVariables.POTENTIAL_OUTCOME_WITHOUT_TREATMENT_NAME,\n",
    "            DGPVariables.TREATMENT_EFFECT_NAME\n",
    "        ],\n",
    "        cache_result=(not SAMPLED_DYNAMIC))\n",
    "    def _generate_outcomes_with_treatment(self, input_vars):\n",
    "        outcome_without_treatment = input_vars[DGPVariables.POTENTIAL_OUTCOME_WITHOUT_TREATMENT_NAME]\n",
    "        treatment_effect = input_vars[DGPVariables.TREATMENT_EFFECT_NAME]\n",
    "        return outcome_without_treatment + treatment_effect"
   ]
  },
  {
   "cell_type": "code",
   "execution_count": 238,
   "metadata": {
    "scrolled": true
   },
   "outputs": [
    {
     "name": "stdout",
     "output_type": "stream",
     "text": [
      "Reducing alignment from 0.16 to 0.15\n",
      "Reducing alignment from 0.16 to 0.15\n",
      "Reducing alignment from 0.16 to 0.15\n",
      "Reducing alignment from 0.16 to 0.15\n",
      "Reducing alignment from 0.208 to 0.15\n",
      "Reducing alignment from 0.16 to 0.15\n",
      "Reducing alignment from 0.16 to 0.15\n",
      "Reducing alignment from 0.16 to 0.15\n",
      "Reducing alignment from 0.208 to 0.15\n",
      "Reducing alignment from 0.16 to 0.15\n",
      "Reducing alignment from 0.16 to 0.15\n",
      "Reducing alignment from 0.16 to 0.15\n",
      "Reducing alignment from 0.16 to 0.15\n",
      "Reducing alignment from 0.16 to 0.15\n",
      "Reducing alignment from 0.208 to 0.15\n",
      "Reducing alignment from 0.208 to 0.15\n",
      "Reducing alignment from 0.208 to 0.15\n",
      "Reducing alignment from 0.208 to 0.15\n",
      "Reducing alignment from 0.208 to 0.15\n",
      "Reducing alignment from 0.261 to 0.15\n",
      "Reducing alignment from 0.208 to 0.15\n",
      "Reducing alignment from 0.16 to 0.15\n",
      "Reducing alignment from 0.16 to 0.15\n",
      "Reducing alignment from 0.208 to 0.15\n",
      "Reducing alignment from 0.208 to 0.15\n",
      "Reducing alignment from 0.208 to 0.15\n",
      "Reducing alignment from 0.208 to 0.15\n",
      "Reducing alignment from 0.208 to 0.15\n",
      "Reducing alignment from 0.208 to 0.15\n",
      "Reducing alignment from 0.16 to 0.15\n",
      "Reducing alignment from 0.208 to 0.15\n",
      "Increasing alignment\n",
      "Reducing alignment from 0.208 to 0.15\n",
      "Reducing alignment from 0.208 to 0.15\n",
      "Reducing alignment from 0.16 to 0.15\n",
      "Reducing alignment from 0.208 to 0.15\n",
      "Reducing alignment from 0.208 to 0.15\n",
      "Reducing alignment from 0.208 to 0.15\n",
      "Reducing alignment from 0.208 to 0.15\n",
      "Reducing alignment from 0.16 to 0.15\n",
      "Reducing alignment from 0.208 to 0.15\n",
      "Reducing alignment from 0.208 to 0.15\n",
      "Reducing alignment from 0.208 to 0.15\n",
      "Reducing alignment from 0.261 to 0.15\n",
      "Reducing alignment from 0.16 to 0.15\n",
      "Reducing alignment from 0.208 to 0.15\n",
      "Reducing alignment from 0.208 to 0.15\n",
      "Reducing alignment from 0.261 to 0.15\n",
      "Reducing alignment from 0.208 to 0.15\n",
      "Reducing alignment from 0.16 to 0.15\n",
      "Starting sampling for DGP 1/50\n"
     ]
    },
    {
     "name": "stderr",
     "output_type": "stream",
     "text": [
      "Process ForkPoolWorker-133971:\n",
      "Traceback (most recent call last):\n",
      "  File \"/opt/conda/lib/python3.7/multiprocessing/process.py\", line 297, in _bootstrap\n",
      "    self.run()\n",
      "  File \"/opt/conda/lib/python3.7/multiprocessing/process.py\", line 99, in run\n",
      "    self._target(*self._args, **self._kwargs)\n",
      "  File \"/opt/conda/lib/python3.7/multiprocessing/pool.py\", line 110, in worker\n",
      "    task = get()\n",
      "  File \"/opt/conda/lib/python3.7/multiprocessing/queues.py\", line 354, in get\n",
      "    return _ForkingPickler.loads(res)\n",
      "  File \"/opt/conda/lib/python3.7/site-packages/sympy/core/function.py\", line 473, in __new__\n",
      "    result = super(Function, cls).__new__(cls, *args, **options)\n",
      "  File \"/opt/conda/lib/python3.7/site-packages/sympy/core/function.py\", line 288, in __new__\n",
      "    evaluated = cls.eval(*args)\n",
      "  File \"/opt/conda/lib/python3.7/site-packages/sympy/functions/elementary/exponential.py\", line 307, in eval\n",
      "    newa = cls(a)\n",
      "  File \"/opt/conda/lib/python3.7/site-packages/sympy/core/function.py\", line 457, in __new__\n",
      "    if n not in cls.nargs:\n",
      "  File \"/opt/conda/lib/python3.7/site-packages/sympy/sets/sets.py\", line 640, in __contains__\n",
      "    c = self._contains(other)\n",
      "  File \"/opt/conda/lib/python3.7/site-packages/sympy/sets/sets.py\", line 1802, in _contains\n",
      "    return fuzzy_or(fuzzy_bool(Eq(e, other, evaluate=True)) for e in self.args)\n",
      "  File \"/opt/conda/lib/python3.7/site-packages/sympy/core/logic.py\", line 190, in fuzzy_or\n",
      "    for ai in args:\n",
      "  File \"/opt/conda/lib/python3.7/site-packages/sympy/sets/sets.py\", line 1802, in <genexpr>\n",
      "    return fuzzy_or(fuzzy_bool(Eq(e, other, evaluate=True)) for e in self.args)\n",
      "  File \"/opt/conda/lib/python3.7/site-packages/sympy/core/logic.py\", line 89, in fuzzy_bool\n",
      "    def fuzzy_bool(x):\n",
      "KeyboardInterrupt\n",
      "Process ForkPoolWorker-133970:\n",
      "Process ForkPoolWorker-133972:\n",
      "Process ForkPoolWorker-133969:\n",
      "Traceback (most recent call last):\n",
      "  File \"/opt/conda/lib/python3.7/multiprocessing/process.py\", line 297, in _bootstrap\n",
      "    self.run()\n",
      "Traceback (most recent call last):\n",
      "  File \"/opt/conda/lib/python3.7/multiprocessing/process.py\", line 99, in run\n",
      "    self._target(*self._args, **self._kwargs)\n",
      "Traceback (most recent call last):\n",
      "  File \"/opt/conda/lib/python3.7/multiprocessing/process.py\", line 297, in _bootstrap\n",
      "    self.run()\n",
      "  File \"/opt/conda/lib/python3.7/multiprocessing/pool.py\", line 110, in worker\n",
      "    task = get()\n",
      "  File \"/opt/conda/lib/python3.7/multiprocessing/process.py\", line 99, in run\n",
      "    self._target(*self._args, **self._kwargs)\n",
      "  File \"/opt/conda/lib/python3.7/multiprocessing/process.py\", line 297, in _bootstrap\n",
      "    self.run()\n",
      "  File \"/opt/conda/lib/python3.7/multiprocessing/queues.py\", line 352, in get\n",
      "    res = self._reader.recv_bytes()\n",
      "  File \"/opt/conda/lib/python3.7/multiprocessing/process.py\", line 99, in run\n",
      "    self._target(*self._args, **self._kwargs)\n",
      "  File \"/opt/conda/lib/python3.7/multiprocessing/pool.py\", line 121, in worker\n",
      "    result = (True, func(*args, **kwds))\n",
      "  File \"/opt/conda/lib/python3.7/multiprocessing/connection.py\", line 216, in recv_bytes\n",
      "    buf = self._recv_bytes(maxlength)\n",
      "  File \"/opt/conda/lib/python3.7/multiprocessing/pool.py\", line 121, in worker\n",
      "    result = (True, func(*args, **kwds))\n",
      "  File \"/home/jovyan/work/Maccabee/maccabee/benchmarking/benchmarking.py\", line 45, in _gen_data_and_apply_model\n",
      "    dataset = dgp.generate_dataset()\n",
      "  File \"/opt/conda/lib/python3.7/multiprocessing/connection.py\", line 407, in _recv_bytes\n",
      "    buf = self._recv(4)\n",
      "  File \"/home/jovyan/work/Maccabee/maccabee/benchmarking/benchmarking.py\", line 50, in _gen_data_and_apply_model\n",
      "    model.fit()\n",
      "  File \"/home/jovyan/work/Maccabee/maccabee/data_generation/data_generating_process.py\", line 178, in generate_dataset\n",
      "    self._generate_transformed_covars()\n",
      "  File \"/opt/conda/lib/python3.7/multiprocessing/connection.py\", line 379, in _recv\n",
      "    chunk = read(handle, remaining)\n",
      "  File \"/home/jovyan/work/Maccabee/maccabee/examples/genmatch.py\", line 192, in fit\n",
      "    self.dataset.X.to_numpy(), self.dataset.T.to_numpy())\n",
      "  File \"/home/jovyan/work/Maccabee/maccabee/data_generation/data_generating_process.py\", line 85, in call\n",
      "    val = wrapper.func(dgp, required_var_vals, *args, **kwargs)\n",
      "KeyboardInterrupt\n",
      "  File \"/opt/conda/lib/python3.7/site-packages/sklearn/linear_model/_logistic.py\", line 1601, in fit\n",
      "    for class_, warm_start_coef_ in zip(classes_, warm_start_coef))\n",
      "KeyboardInterrupt\n",
      "  File \"/home/jovyan/work/Maccabee/maccabee/data_generation/data_generating_process.py\", line 432, in _generate_transformed_covars\n",
      "    evaluate_expression(transform, observed_covariate_data)\n",
      "  File \"/home/jovyan/work/Maccabee/maccabee/data_generation/utils.py\", line 176, in evaluate_expression\n",
      "    dummify=False)\n",
      "  File \"/opt/conda/lib/python3.7/site-packages/sympy/utilities/lambdify.py\", line 812, in lambdify\n",
      "    expr_str = str(expr)\n",
      "  File \"/opt/conda/lib/python3.7/site-packages/sympy/core/basic.py\", line 414, in __str__\n",
      "    return sstr(self, order=None)\n",
      "  File \"/opt/conda/lib/python3.7/site-packages/sympy/printing/str.py\", line 871, in sstr\n",
      "    s = p.doprint(expr)\n",
      "  File \"/opt/conda/lib/python3.7/site-packages/sympy/printing/printer.py\", line 249, in doprint\n",
      "    return self._str(self._print(expr))\n",
      "  File \"/opt/conda/lib/python3.7/site-packages/sympy/printing/printer.py\", line 287, in _print\n",
      "    return getattr(self, printmethod)(expr, **kwargs)\n",
      "  File \"/opt/conda/lib/python3.7/site-packages/sympy/printing/str.py\", line 277, in _print_Mul\n",
      "    args = expr.as_ordered_factors()\n",
      "  File \"/opt/conda/lib/python3.7/site-packages/sympy/core/mul.py\", line 1813, in as_ordered_factors\n",
      "    cpart.sort(key=lambda expr: expr.sort_key(order=order))\n",
      "  File \"/opt/conda/lib/python3.7/site-packages/sympy/core/mul.py\", line 1813, in <lambda>\n",
      "    cpart.sort(key=lambda expr: expr.sort_key(order=order))\n",
      "  File \"/opt/conda/lib/python3.7/site-packages/sympy/core/numbers.py\", line 1484, in __hash__\n",
      "    return super(Float, self).__hash__()\n",
      "  File \"/opt/conda/lib/python3.7/site-packages/sympy/core/numbers.py\", line 809, in __hash__\n",
      "    return super(Number, self).__hash__()\n",
      "KeyboardInterrupt\n"
     ]
    },
    {
     "ename": "KeyboardInterrupt",
     "evalue": "",
     "output_type": "error",
     "traceback": [
      "\u001b[0;31m---------------------------------------------------------------------------\u001b[0m",
      "\u001b[0;31mIndexError\u001b[0m                                Traceback (most recent call last)",
      "\u001b[0;32m/opt/conda/lib/python3.7/multiprocessing/pool.py\u001b[0m in \u001b[0;36mnext\u001b[0;34m(self, timeout)\u001b[0m\n\u001b[1;32m    732\u001b[0m             \u001b[0;32mtry\u001b[0m\u001b[0;34m:\u001b[0m\u001b[0;34m\u001b[0m\u001b[0;34m\u001b[0m\u001b[0m\n\u001b[0;32m--> 733\u001b[0;31m                 \u001b[0mitem\u001b[0m \u001b[0;34m=\u001b[0m \u001b[0mself\u001b[0m\u001b[0;34m.\u001b[0m\u001b[0m_items\u001b[0m\u001b[0;34m.\u001b[0m\u001b[0mpopleft\u001b[0m\u001b[0;34m(\u001b[0m\u001b[0;34m)\u001b[0m\u001b[0;34m\u001b[0m\u001b[0;34m\u001b[0m\u001b[0m\n\u001b[0m\u001b[1;32m    734\u001b[0m             \u001b[0;32mexcept\u001b[0m \u001b[0mIndexError\u001b[0m\u001b[0;34m:\u001b[0m\u001b[0;34m\u001b[0m\u001b[0;34m\u001b[0m\u001b[0m\n",
      "\u001b[0;31mIndexError\u001b[0m: pop from an empty deque",
      "\nDuring handling of the above exception, another exception occurred:\n",
      "\u001b[0;31mKeyboardInterrupt\u001b[0m                         Traceback (most recent call last)",
      "\u001b[0;32m~/work/Maccabee/maccabee/benchmarking/benchmarking.py\u001b[0m in \u001b[0;36mbenchmark_model_using_concrete_dgp\u001b[0;34m(dgp, model_class, estimand, num_sampling_runs_per_dgp, num_samples_from_dgp, data_analysis_mode, data_metrics_spec, n_jobs, n_threads)\u001b[0m\n\u001b[1;32m    174\u001b[0m                 for sample_index, effect_estimate_and_truth, dataset in pool.imap_unordered(\n\u001b[0;32m--> 175\u001b[0;31m                     run_model_on_dgp, sample_indeces):\n\u001b[0m\u001b[1;32m    176\u001b[0m \u001b[0;34m\u001b[0m\u001b[0m\n",
      "\u001b[0;32m/opt/conda/lib/python3.7/multiprocessing/pool.py\u001b[0m in \u001b[0;36mnext\u001b[0;34m(self, timeout)\u001b[0m\n\u001b[1;32m    736\u001b[0m                     \u001b[0;32mraise\u001b[0m \u001b[0mStopIteration\u001b[0m \u001b[0;32mfrom\u001b[0m \u001b[0;32mNone\u001b[0m\u001b[0;34m\u001b[0m\u001b[0;34m\u001b[0m\u001b[0m\n\u001b[0;32m--> 737\u001b[0;31m                 \u001b[0mself\u001b[0m\u001b[0;34m.\u001b[0m\u001b[0m_cond\u001b[0m\u001b[0;34m.\u001b[0m\u001b[0mwait\u001b[0m\u001b[0;34m(\u001b[0m\u001b[0mtimeout\u001b[0m\u001b[0;34m)\u001b[0m\u001b[0;34m\u001b[0m\u001b[0;34m\u001b[0m\u001b[0m\n\u001b[0m\u001b[1;32m    738\u001b[0m                 \u001b[0;32mtry\u001b[0m\u001b[0;34m:\u001b[0m\u001b[0;34m\u001b[0m\u001b[0;34m\u001b[0m\u001b[0m\n",
      "\u001b[0;32m/opt/conda/lib/python3.7/threading.py\u001b[0m in \u001b[0;36mwait\u001b[0;34m(self, timeout)\u001b[0m\n\u001b[1;32m    295\u001b[0m             \u001b[0;32mif\u001b[0m \u001b[0mtimeout\u001b[0m \u001b[0;32mis\u001b[0m \u001b[0;32mNone\u001b[0m\u001b[0;34m:\u001b[0m\u001b[0;34m\u001b[0m\u001b[0;34m\u001b[0m\u001b[0m\n\u001b[0;32m--> 296\u001b[0;31m                 \u001b[0mwaiter\u001b[0m\u001b[0;34m.\u001b[0m\u001b[0macquire\u001b[0m\u001b[0;34m(\u001b[0m\u001b[0;34m)\u001b[0m\u001b[0;34m\u001b[0m\u001b[0;34m\u001b[0m\u001b[0m\n\u001b[0m\u001b[1;32m    297\u001b[0m                 \u001b[0mgotit\u001b[0m \u001b[0;34m=\u001b[0m \u001b[0;32mTrue\u001b[0m\u001b[0;34m\u001b[0m\u001b[0;34m\u001b[0m\u001b[0m\n",
      "\u001b[0;31mKeyboardInterrupt\u001b[0m: ",
      "\nDuring handling of the above exception, another exception occurred:\n",
      "\u001b[0;31mKeyboardInterrupt\u001b[0m                         Traceback (most recent call last)",
      "\u001b[0;32m<timed exec>\u001b[0m in \u001b[0;36m<module>\u001b[0;34m\u001b[0m\n",
      "\u001b[0;32m~/work/Maccabee/maccabee/benchmarking/benchmarking.py\u001b[0m in \u001b[0;36mbenchmark_model_using_sampled_dgp\u001b[0;34m(dgp_sampling_params, data_source, model_class, estimand, num_dgp_samples, num_samples_from_dgp, num_sampling_runs_per_dgp, data_analysis_mode, data_metrics_spec, dgp_class, dgp_kwargs, n_jobs, n_threads)\u001b[0m\n\u001b[1;32m    336\u001b[0m                 \u001b[0mdata_analysis_mode\u001b[0m\u001b[0;34m=\u001b[0m\u001b[0mdata_analysis_mode\u001b[0m\u001b[0;34m,\u001b[0m\u001b[0;34m\u001b[0m\u001b[0;34m\u001b[0m\u001b[0m\n\u001b[1;32m    337\u001b[0m                 \u001b[0mdata_metrics_spec\u001b[0m\u001b[0;34m=\u001b[0m\u001b[0mdata_metrics_spec\u001b[0m\u001b[0;34m,\u001b[0m\u001b[0;34m\u001b[0m\u001b[0;34m\u001b[0m\u001b[0m\n\u001b[0;32m--> 338\u001b[0;31m                 n_jobs=n_jobs)\n\u001b[0m\u001b[1;32m    339\u001b[0m \u001b[0;34m\u001b[0m\u001b[0m\n\u001b[1;32m    340\u001b[0m         \u001b[0;31m# Extract and store the aggregated perf metric results (across\u001b[0m\u001b[0;34m\u001b[0m\u001b[0;34m\u001b[0m\u001b[0;34m\u001b[0m\u001b[0m\n",
      "\u001b[0;32m~/work/Maccabee/maccabee/benchmarking/benchmarking.py\u001b[0m in \u001b[0;36mbenchmark_model_using_concrete_dgp\u001b[0;34m(dgp, model_class, estimand, num_sampling_runs_per_dgp, num_samples_from_dgp, data_analysis_mode, data_metrics_spec, n_jobs, n_threads)\u001b[0m\n\u001b[1;32m    210\u001b[0m \u001b[0;34m\u001b[0m\u001b[0m\n\u001b[1;32m    211\u001b[0m             \u001b[0mpool\u001b[0m\u001b[0;34m.\u001b[0m\u001b[0mclose\u001b[0m\u001b[0;34m(\u001b[0m\u001b[0;34m)\u001b[0m\u001b[0;34m\u001b[0m\u001b[0;34m\u001b[0m\u001b[0m\n\u001b[0;32m--> 212\u001b[0;31m             \u001b[0mpool\u001b[0m\u001b[0;34m.\u001b[0m\u001b[0mjoin\u001b[0m\u001b[0;34m(\u001b[0m\u001b[0;34m)\u001b[0m\u001b[0;34m\u001b[0m\u001b[0;34m\u001b[0m\u001b[0m\n\u001b[0m\u001b[1;32m    213\u001b[0m \u001b[0;34m\u001b[0m\u001b[0m\n\u001b[1;32m    214\u001b[0m     \u001b[0;31m# Aggregate perf and data metrics across sampling runs.\u001b[0m\u001b[0;34m\u001b[0m\u001b[0;34m\u001b[0m\u001b[0;34m\u001b[0m\u001b[0m\n",
      "\u001b[0;32m/opt/conda/lib/python3.7/multiprocessing/pool.py\u001b[0m in \u001b[0;36m__exit__\u001b[0;34m(self, exc_type, exc_val, exc_tb)\u001b[0m\n\u001b[1;32m    621\u001b[0m \u001b[0;34m\u001b[0m\u001b[0m\n\u001b[1;32m    622\u001b[0m     \u001b[0;32mdef\u001b[0m \u001b[0m__exit__\u001b[0m\u001b[0;34m(\u001b[0m\u001b[0mself\u001b[0m\u001b[0;34m,\u001b[0m \u001b[0mexc_type\u001b[0m\u001b[0;34m,\u001b[0m \u001b[0mexc_val\u001b[0m\u001b[0;34m,\u001b[0m \u001b[0mexc_tb\u001b[0m\u001b[0;34m)\u001b[0m\u001b[0;34m:\u001b[0m\u001b[0;34m\u001b[0m\u001b[0;34m\u001b[0m\u001b[0m\n\u001b[0;32m--> 623\u001b[0;31m         \u001b[0mself\u001b[0m\u001b[0;34m.\u001b[0m\u001b[0mterminate\u001b[0m\u001b[0;34m(\u001b[0m\u001b[0;34m)\u001b[0m\u001b[0;34m\u001b[0m\u001b[0;34m\u001b[0m\u001b[0m\n\u001b[0m\u001b[1;32m    624\u001b[0m \u001b[0;34m\u001b[0m\u001b[0m\n\u001b[1;32m    625\u001b[0m \u001b[0;31m#\u001b[0m\u001b[0;34m\u001b[0m\u001b[0;34m\u001b[0m\u001b[0;34m\u001b[0m\u001b[0m\n",
      "\u001b[0;32m/opt/conda/lib/python3.7/multiprocessing/pool.py\u001b[0m in \u001b[0;36mterminate\u001b[0;34m(self)\u001b[0m\n\u001b[1;32m    546\u001b[0m         \u001b[0mself\u001b[0m\u001b[0;34m.\u001b[0m\u001b[0m_state\u001b[0m \u001b[0;34m=\u001b[0m \u001b[0mTERMINATE\u001b[0m\u001b[0;34m\u001b[0m\u001b[0;34m\u001b[0m\u001b[0m\n\u001b[1;32m    547\u001b[0m         \u001b[0mself\u001b[0m\u001b[0;34m.\u001b[0m\u001b[0m_worker_handler\u001b[0m\u001b[0;34m.\u001b[0m\u001b[0m_state\u001b[0m \u001b[0;34m=\u001b[0m \u001b[0mTERMINATE\u001b[0m\u001b[0;34m\u001b[0m\u001b[0;34m\u001b[0m\u001b[0m\n\u001b[0;32m--> 548\u001b[0;31m         \u001b[0mself\u001b[0m\u001b[0;34m.\u001b[0m\u001b[0m_terminate\u001b[0m\u001b[0;34m(\u001b[0m\u001b[0;34m)\u001b[0m\u001b[0;34m\u001b[0m\u001b[0;34m\u001b[0m\u001b[0m\n\u001b[0m\u001b[1;32m    549\u001b[0m \u001b[0;34m\u001b[0m\u001b[0m\n\u001b[1;32m    550\u001b[0m     \u001b[0;32mdef\u001b[0m \u001b[0mjoin\u001b[0m\u001b[0;34m(\u001b[0m\u001b[0mself\u001b[0m\u001b[0;34m)\u001b[0m\u001b[0;34m:\u001b[0m\u001b[0;34m\u001b[0m\u001b[0;34m\u001b[0m\u001b[0m\n",
      "\u001b[0;32m/opt/conda/lib/python3.7/multiprocessing/util.py\u001b[0m in \u001b[0;36m__call__\u001b[0;34m(self, wr, _finalizer_registry, sub_debug, getpid)\u001b[0m\n\u001b[1;32m    199\u001b[0m                 sub_debug('finalizer calling %s with args %s and kwargs %s',\n\u001b[1;32m    200\u001b[0m                           self._callback, self._args, self._kwargs)\n\u001b[0;32m--> 201\u001b[0;31m                 \u001b[0mres\u001b[0m \u001b[0;34m=\u001b[0m \u001b[0mself\u001b[0m\u001b[0;34m.\u001b[0m\u001b[0m_callback\u001b[0m\u001b[0;34m(\u001b[0m\u001b[0;34m*\u001b[0m\u001b[0mself\u001b[0m\u001b[0;34m.\u001b[0m\u001b[0m_args\u001b[0m\u001b[0;34m,\u001b[0m \u001b[0;34m**\u001b[0m\u001b[0mself\u001b[0m\u001b[0;34m.\u001b[0m\u001b[0m_kwargs\u001b[0m\u001b[0;34m)\u001b[0m\u001b[0;34m\u001b[0m\u001b[0;34m\u001b[0m\u001b[0m\n\u001b[0m\u001b[1;32m    202\u001b[0m             \u001b[0mself\u001b[0m\u001b[0;34m.\u001b[0m\u001b[0m_weakref\u001b[0m \u001b[0;34m=\u001b[0m \u001b[0mself\u001b[0m\u001b[0;34m.\u001b[0m\u001b[0m_callback\u001b[0m \u001b[0;34m=\u001b[0m \u001b[0mself\u001b[0m\u001b[0;34m.\u001b[0m\u001b[0m_args\u001b[0m \u001b[0;34m=\u001b[0m\u001b[0;31m \u001b[0m\u001b[0;31m\\\u001b[0m\u001b[0;34m\u001b[0m\u001b[0;34m\u001b[0m\u001b[0m\n\u001b[1;32m    203\u001b[0m                             \u001b[0mself\u001b[0m\u001b[0;34m.\u001b[0m\u001b[0m_kwargs\u001b[0m \u001b[0;34m=\u001b[0m \u001b[0mself\u001b[0m\u001b[0;34m.\u001b[0m\u001b[0m_key\u001b[0m \u001b[0;34m=\u001b[0m \u001b[0;32mNone\u001b[0m\u001b[0;34m\u001b[0m\u001b[0;34m\u001b[0m\u001b[0m\n",
      "\u001b[0;32m/opt/conda/lib/python3.7/multiprocessing/pool.py\u001b[0m in \u001b[0;36m_terminate_pool\u001b[0;34m(cls, taskqueue, inqueue, outqueue, pool, worker_handler, task_handler, result_handler, cache)\u001b[0m\n\u001b[1;32m    603\u001b[0m         \u001b[0mutil\u001b[0m\u001b[0;34m.\u001b[0m\u001b[0mdebug\u001b[0m\u001b[0;34m(\u001b[0m\u001b[0;34m'joining task handler'\u001b[0m\u001b[0;34m)\u001b[0m\u001b[0;34m\u001b[0m\u001b[0;34m\u001b[0m\u001b[0m\n\u001b[1;32m    604\u001b[0m         \u001b[0;32mif\u001b[0m \u001b[0mthreading\u001b[0m\u001b[0;34m.\u001b[0m\u001b[0mcurrent_thread\u001b[0m\u001b[0;34m(\u001b[0m\u001b[0;34m)\u001b[0m \u001b[0;32mis\u001b[0m \u001b[0;32mnot\u001b[0m \u001b[0mtask_handler\u001b[0m\u001b[0;34m:\u001b[0m\u001b[0;34m\u001b[0m\u001b[0;34m\u001b[0m\u001b[0m\n\u001b[0;32m--> 605\u001b[0;31m             \u001b[0mtask_handler\u001b[0m\u001b[0;34m.\u001b[0m\u001b[0mjoin\u001b[0m\u001b[0;34m(\u001b[0m\u001b[0;34m)\u001b[0m\u001b[0;34m\u001b[0m\u001b[0;34m\u001b[0m\u001b[0m\n\u001b[0m\u001b[1;32m    606\u001b[0m \u001b[0;34m\u001b[0m\u001b[0m\n\u001b[1;32m    607\u001b[0m         \u001b[0mutil\u001b[0m\u001b[0;34m.\u001b[0m\u001b[0mdebug\u001b[0m\u001b[0;34m(\u001b[0m\u001b[0;34m'joining result handler'\u001b[0m\u001b[0;34m)\u001b[0m\u001b[0;34m\u001b[0m\u001b[0;34m\u001b[0m\u001b[0m\n",
      "\u001b[0;32m/opt/conda/lib/python3.7/threading.py\u001b[0m in \u001b[0;36mjoin\u001b[0;34m(self, timeout)\u001b[0m\n\u001b[1;32m   1042\u001b[0m \u001b[0;34m\u001b[0m\u001b[0m\n\u001b[1;32m   1043\u001b[0m         \u001b[0;32mif\u001b[0m \u001b[0mtimeout\u001b[0m \u001b[0;32mis\u001b[0m \u001b[0;32mNone\u001b[0m\u001b[0;34m:\u001b[0m\u001b[0;34m\u001b[0m\u001b[0;34m\u001b[0m\u001b[0m\n\u001b[0;32m-> 1044\u001b[0;31m             \u001b[0mself\u001b[0m\u001b[0;34m.\u001b[0m\u001b[0m_wait_for_tstate_lock\u001b[0m\u001b[0;34m(\u001b[0m\u001b[0;34m)\u001b[0m\u001b[0;34m\u001b[0m\u001b[0;34m\u001b[0m\u001b[0m\n\u001b[0m\u001b[1;32m   1045\u001b[0m         \u001b[0;32melse\u001b[0m\u001b[0;34m:\u001b[0m\u001b[0;34m\u001b[0m\u001b[0;34m\u001b[0m\u001b[0m\n\u001b[1;32m   1046\u001b[0m             \u001b[0;31m# the behavior of a negative timeout isn't documented, but\u001b[0m\u001b[0;34m\u001b[0m\u001b[0;34m\u001b[0m\u001b[0;34m\u001b[0m\u001b[0m\n",
      "\u001b[0;32m/opt/conda/lib/python3.7/threading.py\u001b[0m in \u001b[0;36m_wait_for_tstate_lock\u001b[0;34m(self, block, timeout)\u001b[0m\n\u001b[1;32m   1058\u001b[0m         \u001b[0;32mif\u001b[0m \u001b[0mlock\u001b[0m \u001b[0;32mis\u001b[0m \u001b[0;32mNone\u001b[0m\u001b[0;34m:\u001b[0m  \u001b[0;31m# already determined that the C code is done\u001b[0m\u001b[0;34m\u001b[0m\u001b[0;34m\u001b[0m\u001b[0m\n\u001b[1;32m   1059\u001b[0m             \u001b[0;32massert\u001b[0m \u001b[0mself\u001b[0m\u001b[0;34m.\u001b[0m\u001b[0m_is_stopped\u001b[0m\u001b[0;34m\u001b[0m\u001b[0;34m\u001b[0m\u001b[0m\n\u001b[0;32m-> 1060\u001b[0;31m         \u001b[0;32melif\u001b[0m \u001b[0mlock\u001b[0m\u001b[0;34m.\u001b[0m\u001b[0macquire\u001b[0m\u001b[0;34m(\u001b[0m\u001b[0mblock\u001b[0m\u001b[0;34m,\u001b[0m \u001b[0mtimeout\u001b[0m\u001b[0;34m)\u001b[0m\u001b[0;34m:\u001b[0m\u001b[0;34m\u001b[0m\u001b[0;34m\u001b[0m\u001b[0m\n\u001b[0m\u001b[1;32m   1061\u001b[0m             \u001b[0mlock\u001b[0m\u001b[0;34m.\u001b[0m\u001b[0mrelease\u001b[0m\u001b[0;34m(\u001b[0m\u001b[0;34m)\u001b[0m\u001b[0;34m\u001b[0m\u001b[0;34m\u001b[0m\u001b[0m\n\u001b[1;32m   1062\u001b[0m             \u001b[0mself\u001b[0m\u001b[0;34m.\u001b[0m\u001b[0m_stop\u001b[0m\u001b[0;34m(\u001b[0m\u001b[0;34m)\u001b[0m\u001b[0;34m\u001b[0m\u001b[0;34m\u001b[0m\u001b[0m\n",
      "\u001b[0;31mKeyboardInterrupt\u001b[0m: "
     ]
    }
   ],
   "source": [
    "%%time\n",
    "\n",
    "SAMPLED_IN_ANALYSIS_MODE = True\n",
    "SAMPLED_CACHED = False\n",
    "# SAMPLE_COMPILE = True\n",
    "SAMPLED_RESULT_BASENAME = f\"sampled_{COMPARISON_BENCHMARK}\"\n",
    "\n",
    "QUICK_EVAL = {\n",
    "    \"num_dgp_samples\": 50,\n",
    "    \"num_sampling_runs_per_dgp\": 10,\n",
    "    \"num_samples_from_dgp\": 200,\n",
    "    \"dgp_kwargs\": {\n",
    "        \"data_analysis_mode\": SAMPLED_IN_ANALYSIS_MODE,\n",
    "        \"compile_functions\": True\n",
    "    },\n",
    "}\n",
    "\n",
    "SOLID_EVAL = {\n",
    "    \"num_dgp_samples\": 30,\n",
    "    \"num_sampling_runs_per_dgp\": 6,\n",
    "    \"num_samples_from_dgp\": 88,\n",
    "    \"dgp_kwargs\": {\n",
    "        \"data_analysis_mode\": SAMPLED_IN_ANALYSIS_MODE,\n",
    "        \"compile_functions\": True\n",
    "    },\n",
    "}\n",
    "\n",
    "param_overrides = GENMATCH_PARAM_OVERRIDES[COMPARISON_BENCHMARK]\n",
    "\n",
    "if not SAMPLED_CACHED:\n",
    "    dgp_params = build_default_parameters()\n",
    "    dgp_params.set_parameters(param_overrides)\n",
    "\n",
    "    sampled_result = \\\n",
    "        benchmark_model_using_sampled_dgp(\n",
    "            dgp_params, build_genmatch_datasource(),\n",
    "            dgp_class=GenmatchLikeSampledDataGeneratingProcess,\n",
    "            model_class=LogisticPropensityMatchingCausalModel,\n",
    "            estimand=Constants.Model.ATE_ESTIMAND,\n",
    "            data_analysis_mode=SAMPLED_IN_ANALYSIS_MODE,\n",
    "            data_metrics_spec=DATA_METRICS_SPEC,\n",
    "            n_jobs=40,#N_CORES,\n",
    "            n_threads=N_THREADS,\n",
    "            **QUICK_EVAL)\n",
    "\n",
    "    persist_result(SAMPLED_RESULT_BASENAME, sampled_result)\n",
    "else:\n",
    "    sampled_result = read_result(SAMPLED_RESULT_BASENAME)\n",
    "    \n",
    "(\n",
    "    sampled_perf_agg, sampled_perf_raw,\n",
    "    sampled_perf_run_raw, sampled_data_agg,\n",
    "    sampled_data_raw, dgps\n",
    ") = sampled_result"
   ]
  },
  {
   "cell_type": "markdown",
   "metadata": {},
   "source": [
    "## Old Result Parsing"
   ]
  },
  {
   "cell_type": "code",
   "execution_count": 14,
   "metadata": {},
   "outputs": [],
   "source": [
    "# import sys\n",
    "# mm = list(filter(lambda x: x.startswith(\"multi\"), sys.modules))\n",
    "# print(mm)\n",
    "# class A():\n",
    "#     pass\n",
    "# #     NEWOBJ = object()\n",
    "    \n",
    "#     class RebuildProxy():\n",
    "#         def __init__(self, *args, **kwargs):\n",
    "#             print(args, kwargs)\n",
    "        \n",
    "#         def __getstate__(self):\n",
    "#             return {}\n",
    "        \n",
    "#         def __setstate__(self, state):\n",
    "#             print(state)\n",
    "    \n",
    "#     class ListProxy():\n",
    "#         def __init__(self, *args, **kwargs):\n",
    "#             print(args, kwargs)\n",
    "        \n",
    "#         def __getstate__(self):\n",
    "#             return {}\n",
    "        \n",
    "#         def __setstate__(self, state):\n",
    "#             print(state)\n",
    "    \n",
    "#     class Token():\n",
    "#         def __init__(self, *args, **kwargs):\n",
    "#             print(args, kwargs)\n",
    "        \n",
    "#         def __getstate__(self):\n",
    "#             return {}\n",
    "        \n",
    "#         def __setstate__(self, state):\n",
    "#             print(state)\n",
    "\n",
    "    \n",
    "# sys.modules['multiprocessing.managers'] = A\n",
    "# # for m in mm:\n",
    "# #     print(m)\n",
    "# #     del sys.modules[m]"
   ]
  },
  {
   "cell_type": "code",
   "execution_count": 15,
   "metadata": {},
   "outputs": [],
   "source": [
    "# sampled_result = read_result(\"sampled_G-09:13:59.pkl\")\n",
    "# sampled_result = read_result(\"sampled_G-09:43:27.pkl\")\n",
    "\n",
    "    \n",
    "# (\n",
    "#     sampled_perf_agg, sampled_perf_raw,\n",
    "#     sampled_perf_run_raw, sampled_data_agg,\n",
    "#     sampled_data_raw, dgps\n",
    "# ) = sampled_result"
   ]
  },
  {
   "cell_type": "markdown",
   "metadata": {},
   "source": [
    "## Data Metric Comparison"
   ]
  },
  {
   "cell_type": "code",
   "execution_count": 219,
   "metadata": {
    "run_control": {
     "marked": true
    }
   },
   "outputs": [
    {
     "name": "stdout",
     "output_type": "stream",
     "text": [
      "OUTCOME_NONLINEARITY\n",
      "TREATMENT_NONLINEARITY\n",
      "\t Lin r2(X_obs, Treat Logit)\n",
      "\t\tConcrete: 0.787\n",
      "\t\tSampled: 0.507\n",
      "PERCENT_TREATED\n",
      "ALIGNMENT\n",
      "TREATMENT_NONLINEARITY Lin r2(X_obs, Treat Logit) [0.373, 0.302, 0.281, 0.597, 0.623, 0.549, 0.543, 0.159, 0.4, 0.303, 0.782, 0.711, 0.494, 0.572, 0.719, 0.218, 0.897, 0.554, 0.598, 0.831, 0.318, 0.608, 0.317, 0.399, 0.531]\n"
     ]
    }
   ],
   "source": [
    "if SAMPLED_IN_ANALYSIS_MODE and CONCRETE_IN_ANALYSIS_MODE:\n",
    "    for axes, metrics in DATA_METRICS_SPEC.items():\n",
    "        print(axes)\n",
    "        for metric in metrics:\n",
    "            print(\"\\t\", metric)\n",
    "\n",
    "            key = f\"{axes} {metric}\"\n",
    "            print(\"\\t\\tConcrete:\", np.round(concrete_data_agg[key], 3))\n",
    "            print(\"\\t\\tSampled:\", np.round(sampled_data_agg[key], 3))\n",
    "    \n",
    "    for name, vals in sampled_data_raw.items():\n",
    "        if name.startswith(\"TREATMENT_NONLINEARITY\"):\n",
    "            print(name, vals)"
   ]
  },
  {
   "cell_type": "markdown",
   "metadata": {},
   "source": [
    "## Performance Comparison\n",
    "\n",
    "Notes\n",
    "\n",
    "At config A, 20-50 matches across runs. Wide distro. Should investigate the stability of the concrete distro when n=1000.\n",
    "\n",
    "At config G, 20-50 has much lower bias in the sampled benchmark. The concrete function appears to be a worst case scenario given that very similar functions experience much lower typical bias. The distribution is right tailed and so it is possible that the concrete func chosen is just an (un)lucky sample from right tail.\n",
    "\n",
    "I will test this by permuting the variable order in the exact same functional form."
   ]
  },
  {
   "cell_type": "markdown",
   "metadata": {},
   "source": [
    "### Concrete Performance"
   ]
  },
  {
   "cell_type": "code",
   "execution_count": 189,
   "metadata": {},
   "outputs": [
    {
     "data": {
      "text/plain": [
       "{'RMSE': 0.106, 'RMSE (std)': 0.007, 'AMBP': 13.034, 'AMBP (std)': 2.172}"
      ]
     },
     "execution_count": 189,
     "metadata": {},
     "output_type": "execute_result"
    }
   ],
   "source": [
    "concrete_perf_agg"
   ]
  },
  {
   "cell_type": "code",
   "execution_count": 190,
   "metadata": {},
   "outputs": [
    {
     "data": {
      "image/png": "[encoded data removed]",
      "text/plain": [
       "<Figure size 432x288 with 1 Axes>"
      ]
     },
     "metadata": {
      "needs_background": "light"
     },
     "output_type": "display_data"
    }
   ],
   "source": [
    "plt.hist(concrete_perf_raw[\"AMBP\"], density=True)\n",
    "plt.show()"
   ]
  },
  {
   "cell_type": "markdown",
   "metadata": {},
   "source": [
    "### Sampled Performance"
   ]
  },
  {
   "cell_type": "code",
   "execution_count": 220,
   "metadata": {},
   "outputs": [
    {
     "data": {
      "text/plain": [
       "{'RMSE': 0.124, 'RMSE (std)': 0.042, 'AMBP': 10.536, 'AMBP (std)': 22.695}"
      ]
     },
     "execution_count": 220,
     "metadata": {},
     "output_type": "execute_result"
    }
   ],
   "source": [
    "sampled_perf_agg"
   ]
  },
  {
   "cell_type": "code",
   "execution_count": 221,
   "metadata": {},
   "outputs": [
    {
     "data": {
      "image/png": "[encoded data removed]",
      "text/plain": [
       "<Figure size 432x288 with 1 Axes>"
      ]
     },
     "metadata": {
      "needs_background": "light"
     },
     "output_type": "display_data"
    }
   ],
   "source": [
    "data = np.array(sampled_perf_raw[\"AMBP\"])\n",
    "plt.hist(data, density=True)\n",
    "plt.show()"
   ]
  },
  {
   "cell_type": "code",
   "execution_count": 222,
   "metadata": {},
   "outputs": [
    {
     "data": {
      "image/png": "[encoded data removed]",
      "text/plain": [
       "<Figure size 432x288 with 1 Axes>"
      ]
     },
     "metadata": {
      "needs_background": "light"
     },
     "output_type": "display_data"
    }
   ],
   "source": [
    "flat_list = [item for sublist in sampled_perf_run_raw[\"AMBP\"] for item in sublist]\n",
    "plt.hist(flat_list)\n",
    "plt.show()"
   ]
  },
  {
   "cell_type": "code",
   "execution_count": 223,
   "metadata": {},
   "outputs": [
    {
     "data": {
      "text/plain": [
       "array([0., 0., 0., 0., 0., 0., 0., 0., 0., 0., 0., 0., 0., 0., 0., 0., 0.,\n",
       "       0., 0., 0., 0., 0., 0., 0., 0.])"
      ]
     },
     "execution_count": 223,
     "metadata": {},
     "output_type": "execute_result"
    }
   ],
   "source": [
    "np.std(np.array(sampled_perf_run_raw[\"AMBP\"]), axis=1)"
   ]
  },
  {
   "cell_type": "code",
   "execution_count": 224,
   "metadata": {},
   "outputs": [],
   "source": [
    "def get_cmap(n, name='hsv'):\n",
    "    '''Returns a function that maps each index in 0, 1, ..., n-1 to a distinct \n",
    "    RGB color; the keyword argument name must be a standard mpl colormap name.'''\n",
    "    return plt.cm.get_cmap(name, n)"
   ]
  },
  {
   "cell_type": "code",
   "execution_count": 225,
   "metadata": {},
   "outputs": [
    {
     "data": {
      "image/png": "[encoded data removed]",
      "text/plain": [
       "<Figure size 432x288 with 1 Axes>"
      ]
     },
     "metadata": {
      "needs_background": "light"
     },
     "output_type": "display_data"
    }
   ],
   "source": [
    "cmap = get_cmap(len(sampled_perf_run_raw[\"AMBP\"]))\n",
    "\n",
    "for i, runs in enumerate(sampled_perf_run_raw[\"AMBP\"]):\n",
    "    plt.hist(runs, density=True, alpha=0.5, color=cmap(i))\n",
    "    plt.axvline(x=np.mean(runs), alpha=0.25)\n",
    "    \n",
    "plt.hist(concrete_perf_raw[\"AMBP\"], density=True, color=\"b\", label=\"concrete\")\n",
    "plt.axvline(x=np.mean(concrete_perf_raw[\"AMBP\"]), c=\"r\")\n",
    "\n",
    "plt.legend()\n",
    "# plt.xlim((0, 40))\n",
    "# plt.ylim((0, 5))\n",
    "plt.show()"
   ]
  },
  {
   "cell_type": "code",
   "execution_count": 226,
   "metadata": {},
   "outputs": [],
   "source": [
    "metric = \"TREATMENT_NONLINEARITY Lin r2(X_obs, Treat Logit)\""
   ]
  },
  {
   "cell_type": "code",
   "execution_count": 227,
   "metadata": {},
   "outputs": [],
   "source": [
    "sample_metric_vals = sampled_data_raw[metric]\n",
    "concrete_metric_val = concrete_data_agg[metric]"
   ]
  },
  {
   "cell_type": "code",
   "execution_count": 228,
   "metadata": {},
   "outputs": [
    {
     "data": {
      "text/plain": [
       "0.787"
      ]
     },
     "execution_count": 228,
     "metadata": {},
     "output_type": "execute_result"
    }
   ],
   "source": [
    "concrete_metric_val"
   ]
  },
  {
   "cell_type": "code",
   "execution_count": 229,
   "metadata": {},
   "outputs": [
    {
     "name": "stdout",
     "output_type": "stream",
     "text": [
      "[False False False False False False False False False False  True  True\n",
      " False False  True False False False False  True False False False False\n",
      " False]\n",
      "13.034 1.9858893093191627\n"
     ]
    },
    {
     "data": {
      "image/png": "[encoded data removed]",
      "text/plain": [
       "<Figure size 432x288 with 1 Axes>"
      ]
     },
     "metadata": {
      "needs_background": "light"
     },
     "output_type": "display_data"
    }
   ],
   "source": [
    "sample_metric_vals = sampled_data_raw[metric]\n",
    "sample_metric_std = np.std(sample_metric_vals)\n",
    "select_tol = 0.1#0.5*sample_metric_std\n",
    "selected_runs = np.abs(sample_metric_vals - concrete_metric_val) < select_tol\n",
    "print(selected_runs)\n",
    "\n",
    "cmap = get_cmap(len(sampled_perf_run_raw[\"AMBP\"]))\n",
    "\n",
    "means = []\n",
    "for i, runs in enumerate(sampled_perf_run_raw[\"AMBP\"]):\n",
    "    if i < len(selected_runs) and selected_runs[i] and np.mean(runs) < 60:\n",
    "        means.append(np.mean(runs))\n",
    "        plt.hist(runs, density=True, alpha=0.5, color=cmap(i))\n",
    "        plt.axvline(x=np.mean(runs), alpha=0.5, c=cmap(i))\n",
    "#         plt.axvline(x=np.median(runs), alpha=0.5, c=cmap(i))\n",
    "        \n",
    "print(concrete_perf_agg[\"AMBP\"], np.mean(means))\n",
    "plt.hist(concrete_perf_raw[\"AMBP\"], density=True, color=\"b\", label=\"concrete\")\n",
    "plt.axvline(x=np.mean(concrete_perf_raw[\"AMBP\"]), c=\"b\")\n",
    "# plt.axvline(x=np.median(concrete_perf_raw[\"AMBP\"]), c=\"b\")\n",
    "# plt.xlim((0, 30))\n",
    "# plt.ylim((0, 5))\n",
    "plt.legend()\n",
    "plt.show()"
   ]
  },
  {
   "cell_type": "code",
   "execution_count": 230,
   "metadata": {
    "scrolled": false
   },
   "outputs": [
    {
     "name": "stdout",
     "output_type": "stream",
     "text": [
      "-4.4234948882254645 6.150056299453881 0.052961599182051164 0.2907867639816402\n"
     ]
    },
    {
     "data": {
      "image/png": "[encoded data removed]",
      "text/plain": [
       "<Figure size 432x288 with 1 Axes>"
      ]
     },
     "metadata": {
      "needs_background": "light"
     },
     "output_type": "display_data"
    }
   ],
   "source": [
    "# Concrete\n",
    "plt.scatter(concrete_data_agg[metric], concrete_perf_agg[\"AMBP\"],\n",
    "            c=\"r\", label=\"concrete\") \n",
    "interval_data = np.percentile(np.array(concrete_perf_raw[\"AMBP\"]),\n",
    "                              [2.5, 97.5]).reshape((2, 1))\n",
    "plt.errorbar(concrete_data_agg[metric], concrete_perf_agg[\"AMBP\"],\n",
    "             interval_data, fmt='none', c=\"r\")\n",
    "\n",
    "# Sampled\n",
    "\n",
    "filter_bar = 20\n",
    "\n",
    "perf_data = np.array(sampled_perf_raw[\"AMBP\"])\n",
    "agg_mean = np.mean(perf_data[perf_data < filter_bar])\n",
    "\n",
    "# Sampled Mean\n",
    "plt.scatter(sampled_data_agg[metric], agg_mean, c=\"g\", label=\"concrete\") \n",
    "interval_data = np.percentile(np.array(sampled_perf_raw[\"AMBP\"])[perf_data<filter_bar],\n",
    "                              [2.5, 97.5]).reshape((2, 1))\n",
    "plt.errorbar(sampled_data_agg[metric], agg_mean,\n",
    "             interval_data, fmt='none', c=\"g\")\n",
    "\n",
    "# DGP level scatter plot\n",
    "sample_metric_data = np.array(sample_metric_vals)\n",
    "plt.scatter(sample_metric_data[perf_data<filter_bar], perf_data[perf_data<filter_bar], c=\"b\")\n",
    "\n",
    "# Run level intervals for each point\n",
    "interval_data = np.percentile(np.array(sampled_perf_run_raw[\"AMBP\"]), [2.5, 97.5], axis=1)\n",
    "interval_data = interval_data[:, perf_data<filter_bar]\n",
    "interval_data[0, :] = perf_data[perf_data<filter_bar] - interval_data[0, :]\n",
    "interval_data[1, :] = interval_data[1, :] - perf_data[perf_data<filter_bar]\n",
    "plt.errorbar(sample_metric_data[perf_data<filter_bar], perf_data[perf_data<filter_bar],\n",
    "             interval_data, fmt='none', c=\"b\")\n",
    "\n",
    "# regression plot\n",
    "slope, intercept, r_value, p_value, _ = st.linregress(sample_metric_data[perf_data<filter_bar], perf_data[perf_data<filter_bar])\n",
    "plt.plot(sample_metric_data[perf_data<filter_bar], slope*sample_metric_data[perf_data<filter_bar] + intercept)\n",
    "\n",
    "print(slope, intercept, r_value**2, p_value)\n",
    "plt.show()\n",
    "\n",
    "# For fixed forms, there is a diversity of metric values\n",
    "# with different performance metrics. These correspond to the metric\n",
    "# in a way we expect. Even at a single metric value there is noise which\n",
    "# requires averaging."
   ]
  },
  {
   "cell_type": "code",
   "execution_count": 231,
   "metadata": {},
   "outputs": [],
   "source": [
    "sampled_dgp_transforms = map(lambda x: x[1].treatment_covariate_transforms, list(dgps))\n",
    "category_data = list(map(categorize_terms, sampled_dgp_transforms))"
   ]
  },
  {
   "cell_type": "code",
   "execution_count": 232,
   "metadata": {},
   "outputs": [
    {
     "name": "stdout",
     "output_type": "stream",
     "text": [
      "INTERACTION_TWO_WAY 12.0 0.0\n",
      "POLY_QUAD 3.0 0.0\n",
      "LINEAR 6.92 0.2712931993250107\n"
     ]
    }
   ],
   "source": [
    "categories = [\n",
    "    Constants.DGPSampling.INTERACTION_TWO_WAY,\n",
    "    Constants.DGPSampling.POLY_QUADRATIC,\n",
    "    Constants.DGPSampling.LINEAR,\n",
    "]\n",
    "for category in categories:\n",
    "    category_counts = list(map(lambda data: data[0][category], category_data))\n",
    "    print(category, np.mean(category_counts), np.std(category_counts))\n",
    "\n",
    "binary_data = []\n",
    "\n",
    "for data in category_data:\n",
    "    interactions = data[1][Constants.DGPSampling.INTERACTION_TWO_WAY]\n",
    "    get_is_binary_statuses = lambda var_name: int(str(var_name)[1:]) in GENMATCH_BINARY_COVAR_INDECES\n",
    "    \n",
    "    interaction_binary_classes = [\n",
    "        categorize_interaction_two_way([\n",
    "            get_is_binary_statuses(interaction_var)\n",
    "            for interaction_var in interaction_vars\n",
    "        ])\n",
    "        for interaction_vars in interactions\n",
    "    ]\n",
    "    \n",
    "    binary_data.append(interaction_binary_classes)\n",
    "\n",
    "binary_data = np.array(binary_data)\n",
    "both_counts = np.sum(binary_data == \"both\", axis=1)\n",
    "one_counts = np.sum(binary_data == \"one\", axis=1)"
   ]
  },
  {
   "cell_type": "code",
   "execution_count": 233,
   "metadata": {},
   "outputs": [
    {
     "data": {
      "image/png": "[encoded data removed]",
      "text/plain": [
       "<Figure size 432x288 with 1 Axes>"
      ]
     },
     "metadata": {
      "needs_background": "light"
     },
     "output_type": "display_data"
    },
    {
     "data": {
      "image/png": "[encoded data removed]",
      "text/plain": [
       "<Figure size 432x288 with 1 Axes>"
      ]
     },
     "metadata": {
      "needs_background": "light"
     },
     "output_type": "display_data"
    },
    {
     "data": {
      "image/png": "[encoded data removed]",
      "text/plain": [
       "<Figure size 432x288 with 1 Axes>"
      ]
     },
     "metadata": {
      "needs_background": "light"
     },
     "output_type": "display_data"
    }
   ],
   "source": [
    "plt.scatter(both_counts, sample_metric_vals)\n",
    "plt.show()\n",
    "\n",
    "plt.scatter(one_counts, sample_metric_vals)\n",
    "plt.show()\n",
    "\n",
    "agg_counts = 2*both_counts + one_counts\n",
    "plt.scatter(agg_counts, sample_metric_vals)\n",
    "\n",
    "# regression plot\n",
    "coeffs = np.polyfit(agg_counts, sample_metric_vals, 1)\n",
    "plt.plot(agg_counts, coeffs[0]*agg_counts + coeffs[1])\n",
    "\n",
    "plt.show()\n",
    "\n",
    "# The choice of binary interactions matters for the metric (which we know)\n",
    "# is correlated with the performance of the estimator."
   ]
  },
  {
   "cell_type": "code",
   "execution_count": 234,
   "metadata": {},
   "outputs": [
    {
     "name": "stdout",
     "output_type": "stream",
     "text": [
      "R^2 0.0026841814417831508 P 0.8143882182747597\n"
     ]
    },
    {
     "data": {
      "image/png": "[encoded data removed]",
      "text/plain": [
       "<Figure size 432x288 with 1 Axes>"
      ]
     },
     "metadata": {
      "needs_background": "light"
     },
     "output_type": "display_data"
    }
   ],
   "source": [
    "agg_counts = 2*both_counts + one_counts\n",
    "perf_data = np.array(sampled_perf_raw[\"AMBP\"])\n",
    "plt.scatter(agg_counts[perf_data < filter_bar], perf_data[perf_data < filter_bar])\n",
    "\n",
    "# regression plot\n",
    "slope, intercept, r_value, p_value, _ = st.linregress(agg_counts[perf_data < filter_bar], perf_data[perf_data < filter_bar])\n",
    "plt.plot(agg_counts, slope*agg_counts + intercept)\n",
    "\n",
    "print(\"R^2\", r_value**2, \"P\", p_value)\n",
    "plt.show()\n",
    "\n",
    "# The choice of binary interactions matters for performance of the estimator."
   ]
  },
  {
   "cell_type": "markdown",
   "metadata": {},
   "source": [
    "## Narrative\n",
    "\n",
    "Authors create a semi realistic data set - mix of binary and normal covariates.\n",
    "\n",
    "The hand-select a set of functions with escalating levels of nonlinearity and non-additivity.\n",
    "\n",
    "This analysis will show why this is a problematic strategy. Instead of tuning Maccabee to sample from specific location: sample functions which look very similar to their function in terms of expected structure.\n",
    "\n",
    "Keep everything else constant: same data, same constant treatment effect, same lack of outcome noise, same coeff distro (by inspection) *TODO verify this distr via histogram*. *TODO: see what happens with non-dynamic datasets*.\n",
    "\n",
    "This is a much lower variance setting than a standard maccabee sampler: normally would sample a wide class of functions with similar metrics. Here, we sample from the class of functions. Implication is that variance in this class is a subset of wider variance we would expect from the universe of possible functional forms could have selected.\n",
    "\n",
    "The results show the following:\n",
    "- We do indeed sample from universe of same structure functions. Ratio of components is identical.\n",
    "- There is a wide distro over performance\n",
    "- Digging into this, we see one contributing factor is a distro over the treatment assignment metric. **IE, identical structure** is producing highly varied non-linearity metrics.\n",
    "- It could be that this metric is useless but we see that it is indeed strongly correlated with performance of the estimator. So the metric matters.\n",
    "\n",
    "It appears the variance comes from different distro over binary variables in the interactions. This is logical given it is the only real difference.\n",
    "\n",
    "**Key take-aways**\n",
    "\n",
    "- Hand specified forms are a single sample from a (potentially wide) distribution over **realized** value of targeted distributional setting as proxied by values of metrics. And these distributional setting are correlated to performance (again, via metrics) (as is expected)\n",
    "\n",
    "- This would be even wider if we sampled from a wider class of variables (*TODO relax the constrains by moving back to soft sampler and see what happens*)\n",
    "\n",
    "- Even within a single metric setting, there is variance from other factors - both data set and other distributional setting values. This means that even with in a fixed target, there is a need for averaging.\n",
    "\n",
    "- So to really test a method, must sample by targeting distributional metrics. In practice, this means average over many realizations with the correct - on average metric value. Any single is hard to find and may not capture range of other possible distributional settings. \n",
    "\n",
    "Put formally, we want the conditional marginal over a specific distributional setting.\n",
    "\n"
   ]
  },
  {
   "cell_type": "code",
   "execution_count": 37,
   "metadata": {},
   "outputs": [],
   "source": [
    "def categorize_interaction_two_way(is_binary_statuses):\n",
    "    if is_binary_statuses[0] and is_binary_statuses[1]:\n",
    "        return \"both\"\n",
    "    elif not is_binary_statuses[0] and not is_binary_statuses[1]:\n",
    "        return \"neither\"\n",
    "    else:\n",
    "        return \"one\""
   ]
  },
  {
   "cell_type": "code",
   "execution_count": 38,
   "metadata": {},
   "outputs": [],
   "source": [
    "def categorize_terms(terms):\n",
    "    counts = defaultdict(int)\n",
    "    components = defaultdict(list)\n",
    "    \n",
    "    for term in terms:\n",
    "        if not term.free_symbols:\n",
    "            continue\n",
    "        \n",
    "        poly_term = poly(term)\n",
    "        variables = poly_term.gens\n",
    "        max_deg = max(poly_term.degree_list())\n",
    "        \n",
    "        if len(variables) == 2:\n",
    "            assert(max_deg == 1)\n",
    "            category = Constants.DGPSampling.INTERACTION_TWO_WAY\n",
    "        elif len(variables) == 3:\n",
    "            assert(max_deg == 1)\n",
    "            category = Constants.DGPSampling.INTERACTION_THREE_WAY\n",
    "        elif len(variables) > 3:\n",
    "            raise Exception(\"Unexpected degree!\")\n",
    "        elif max_deg == 2:\n",
    "            assert(len(variables) == 1)\n",
    "            category = Constants.DGPSampling.POLY_QUADRATIC\n",
    "        elif max_deg == 3:\n",
    "            assert(len(variables) == 1)\n",
    "            category = Constants.DGPSampling.POLY_CUBIC\n",
    "        elif not variables[0].is_Atom:\n",
    "            assert(len(variables) == 1)\n",
    "            category = STEP_CONSTANT + \"/\" + STEP_VARIABLE\n",
    "        else:\n",
    "            assert(len(variables) ==1 and max_deg == 1)\n",
    "            category = Constants.DGPSampling.LINEAR\n",
    "        \n",
    "        counts[category] += 1\n",
    "        components[category].append((variables))\n",
    "        \n",
    "    return counts, components"
   ]
  },
  {
   "cell_type": "code",
   "execution_count": null,
   "metadata": {},
   "outputs": [],
   "source": [
    "dgp.treatment_logit_terms"
   ]
  }
 ],
 "metadata": {
  "kernelspec": {
   "display_name": "Python 3",
   "language": "python",
   "name": "python3"
  },
  "language_info": {
   "codemirror_mode": {
    "name": "ipython",
    "version": 3
   },
   "file_extension": ".py",
   "mimetype": "text/x-python",
   "name": "python",
   "nbconvert_exporter": "python",
   "pygments_lexer": "ipython3",
   "version": "3.7.6"
  },
  "varInspector": {
   "cols": {
    "lenName": 16,
    "lenType": 16,
    "lenVar": 40
   },
   "kernels_config": {
    "python": {
     "delete_cmd_postfix": "",
     "delete_cmd_prefix": "del ",
     "library": "var_list.py",
     "varRefreshCmd": "print(var_dic_list())"
    },
    "r": {
     "delete_cmd_postfix": ") ",
     "delete_cmd_prefix": "rm(",
     "library": "var_list.r",
     "varRefreshCmd": "cat(var_dic_list()) "
    }
   },
   "types_to_exclude": [
    "module",
    "function",
    "builtin_function_or_method",
    "instance",
    "_Feature"
   ],
   "window_display": false
  }
 },
 "nbformat": 4,
 "nbformat_minor": 2
}
