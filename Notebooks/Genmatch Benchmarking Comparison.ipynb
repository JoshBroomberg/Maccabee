{
 "cells": [
  {
   "cell_type": "code",
   "execution_count": 1,
   "metadata": {},
   "outputs": [
    {
     "name": "stdout",
     "output_type": "stream",
     "text": [
      "WARNING: pip is being invoked by an old script wrapper. This will fail in a future version of pip.\r\n",
      "Please see https://github.com/pypa/pip/issues/5599 for advice on fixing the underlying issue.\r\n",
      "To avoid this problem you can invoke Python with '-m pip' instead of running pip directly.\r\n"
     ]
    }
   ],
   "source": [
    "#!pip install -e ../Maccabee > /dev/null"
   ]
  },
  {
   "cell_type": "code",
   "execution_count": 2,
   "metadata": {},
   "outputs": [],
   "source": [
    "!rm -rf _maccabee_compiled_code/"
   ]
  },
  {
   "cell_type": "code",
   "execution_count": 3,
   "metadata": {},
   "outputs": [],
   "source": [
    "%reload_ext autoreload\n",
    "%autoreload 1"
   ]
  },
  {
   "cell_type": "code",
   "execution_count": 4,
   "metadata": {},
   "outputs": [],
   "source": [
    "import sys\n",
    "sys.path.append(\"../Evaluation\")\n",
    "\n",
    "%aimport evaluation\n",
    "\n",
    "from evaluation.analysis import *\n",
    "from evaluation.persistence import *\n",
    "from evaluation.plotting import *\n",
    "\n",
    "%aimport evaluation.analysis\n",
    "%aimport evaluation.plotting\n",
    "%aimport evaluation.persistence\n"
   ]
  },
  {
   "cell_type": "code",
   "execution_count": 5,
   "metadata": {},
   "outputs": [],
   "source": [
    "from maccabee.data_analysis.data_metrics import AXES_AND_METRIC_NAMES\n",
    "from maccabee.constants import Constants\n",
    "import maccabee.data_sources as data_sources\n",
    "from maccabee.parameters import build_default_parameters\n",
    "\n",
    "from maccabee.data_generation import DataGeneratingProcess, SampledDataGeneratingProcess, data_generating_method\n",
    "from maccabee.data_generation.utils import evaluate_expression, CompiledExpression\n",
    "# benchmarks\n",
    "from maccabee.benchmarking import benchmark_model_using_concrete_dgp\n",
    "from maccabee.benchmarking import benchmark_model_using_sampled_dgp\n",
    "from maccabee.benchmarking import benchmark_model_using_sampled_dgp_grid\n",
    "\n",
    "# genmatch\n",
    "from maccabee.examples.genmatch import GenmatchDataGeneratingProcess, build_genmatch_datasource, GENMATCH_SPECS\n",
    "from maccabee.examples.genmatch import LogisticPropensityMatchingCausalModel\n",
    "from maccabee.examples.genmatch import GENMATCH_BINARY_COVAR_INDECES"
   ]
  },
  {
   "cell_type": "code",
   "execution_count": 6,
   "metadata": {},
   "outputs": [],
   "source": [
    "import numpy as np\n",
    "from collections import defaultdict\n",
    "import pandas as pd\n",
    "import matplotlib.pyplot as plt\n",
    "plt.style.use(['seaborn'])\n",
    "\n",
    "import scipy.stats as st\n",
    "import sympy as sp"
   ]
  },
  {
   "cell_type": "code",
   "execution_count": 7,
   "metadata": {},
   "outputs": [],
   "source": [
    "COMPARISON_BENCHMARK = \"G\""
   ]
  },
  {
   "cell_type": "code",
   "execution_count": 8,
   "metadata": {},
   "outputs": [],
   "source": [
    "BASE_GENMATCH_DGP_PARAMS = {\n",
    "  \"OUTCOME_MECHANISM_COVARIATE_SELECTION_PROBABILITY\": { \n",
    "        \"LINEAR\": 0.7,\n",
    "        \"POLY_QUAD\": 0,\n",
    "        \"POLY_CUBIC\": 0,\n",
    "        \"STEP_JUMP\": 0,\n",
    "        \"STEP_KINK\": 0,\n",
    "        \"INTERACTION_TWO_WAY\": 0,\n",
    "        \"INTERACTION_THREE_WAY\": 0,\n",
    "  },\n",
    "  \"TREATMENT_EFFECT_HETEROGENEITY\": 0,\n",
    "  \"ACTUAL_CONFOUNDER_ALIGNMENT\": 0,\n",
    "  \"TARGET_PROPENSITY_SCORE\": 0.5,\n",
    "  \"OUTCOME_NOISE_TAIL_THICKNESS\": 1000,\n",
    "  \"SUBFUNCTION_CONSTANT_TAIL_THICKNESS\": 1000,\n",
    "  \"TREATMENT_EFFECT_TAIL_THICKNESS\": 1000\n",
    "}\n",
    "\n",
    "A_param_overrides = BASE_GENMATCH_DGP_PARAMS.copy()\n",
    "A_param_overrides[\"TREAT_MECHANISM_COVARIATE_SELECTION_PROBABILITY\"] = { \n",
    "    \"LINEAR\": 0.7,\n",
    "    \"POLY_QUAD\": 0,\n",
    "    \"POLY_CUBIC\": 0,\n",
    "    \"STEP_JUMP\": 0,\n",
    "    \"STEP_KINK\": 0,\n",
    "    \"INTERACTION_TWO_WAY\": 0.0,\n",
    "    \"INTERACTION_THREE_WAY\": 0,\n",
    "}\n",
    "A_param_overrides[\"ACTUAL_CONFOUNDER_ALIGNMENT\"] = 0.285\n",
    "  \n",
    "C_param_overrides = BASE_GENMATCH_DGP_PARAMS.copy()\n",
    "C_param_overrides[\"TREAT_MECHANISM_COVARIATE_SELECTION_PROBABILITY\"] = { \n",
    "    \"LINEAR\": 0.7,\n",
    "    \"POLY_QUAD\": 0.3,\n",
    "    \"POLY_CUBIC\": 0,\n",
    "    \"STEP_JUMP\": 0,\n",
    "    \"STEP_KINK\": 0,\n",
    "    \"INTERACTION_TWO_WAY\": 0.0,\n",
    "    \"INTERACTION_THREE_WAY\": 0,\n",
    "}\n",
    "C_param_overrides[\"ACTUAL_CONFOUNDER_ALIGNMENT\"] = -1\n",
    "\n",
    "G_param_overrides = BASE_GENMATCH_DGP_PARAMS.copy()\n",
    "G_param_overrides[\"TREAT_MECHANISM_COVARIATE_SELECTION_PROBABILITY\"] = { \n",
    "    \"LINEAR\": 0.7,\n",
    "    \"POLY_QUAD\": 0.75,\n",
    "    \"POLY_CUBIC\": 0,\n",
    "    \"STEP_JUMP\": 0,\n",
    "    \"STEP_KINK\": 0,\n",
    "    \"INTERACTION_TWO_WAY\": 0.19,\n",
    "    \"INTERACTION_THREE_WAY\": 0,\n",
    "}\n",
    "G_param_overrides[\"ACTUAL_CONFOUNDER_ALIGNMENT\"] = 0.15\n",
    "\n",
    "GENMATCH_PARAM_OVERRIDES = {\n",
    "    \"A\": A_param_overrides,\n",
    "    \"C\": C_param_overrides,\n",
    "    \"G\": G_param_overrides,\n",
    "}"
   ]
  },
  {
   "cell_type": "code",
   "execution_count": 9,
   "metadata": {
    "run_control": {
     "marked": true
    }
   },
   "outputs": [],
   "source": [
    "# Define axes and metrics to analyze\n",
    "DATA_METRICS_SPEC = {\n",
    "    Constants.AxisNames.OUTCOME_NONLINEARITY: [\n",
    "#         \"Lin r2(X_obs, Y)\", # here\n",
    "#         \"Lin r2(X_true, Y)\"\n",
    "    ],\n",
    "    Constants.AxisNames.TREATMENT_NONLINEARITY: [\n",
    "        \"Lin r2(X_obs, Treat Logit)\",\n",
    "#         \"Lin r2(X_true, Treat Logit)\",\n",
    "#         \"Log r2(X_obs, T)\"\n",
    "    ],\n",
    "    Constants.AxisNames.PERCENT_TREATED: [\n",
    "        #\"Percent(T==1)\"# here\n",
    "    ],\n",
    "#     Constants.AxisNames.BALANCE: [\n",
    "#         \"Wass dist X_true: T=1<->T=0\",\n",
    "#     ],\n",
    "    Constants.AxisNames.ALIGNMENT: [\n",
    "#         \"Lin r2(Y, Treat Logit)\", # here\n",
    "#         \"Lin r2(Y0, Treat Logit)\"\n",
    "    ],\n",
    "#     Constants.AxisNames.TE_HETEROGENEITY: [\n",
    "#         \"std(TE)/std(Y)\"\n",
    "#     ]\n",
    "}"
   ]
  },
  {
   "cell_type": "code",
   "execution_count": 10,
   "metadata": {},
   "outputs": [],
   "source": [
    "N_CORES = 8\n",
    "N_THREADS = 1"
   ]
  },
  {
   "cell_type": "markdown",
   "metadata": {},
   "source": [
    "## Run MC Benchmarks"
   ]
  },
  {
   "cell_type": "code",
   "execution_count": 296,
   "metadata": {},
   "outputs": [],
   "source": [
    "from maccabee.data_generation import ConcreteDataGeneratingProcess\n",
    "MILD_NONLINEARITY = [2]\n",
    "MODERATE_NONLINEARITY = [2, 4, 7]\n",
    "MILD_NONADDITIVITY = [(1,3, 0.5), (2, 4, 0.7), (4,5, 0.5), (5,6, 0.5)]\n",
    "MODERATE_NONADDITIVITY = [\n",
    "        (1,3, 0.5),\n",
    "        (2, 4, 0.7),\n",
    "        (3,5, 0.5),\n",
    "        (4,6, 0.7),\n",
    "        (5,7, 0.5),\n",
    "        (1,6, 0.5),\n",
    "        (2,3, 0.7),\n",
    "        (3,4, 0.5),\n",
    "        (4,5, 0.5),\n",
    "        (5,6, 0.5)]\n",
    "\n",
    "GENMATCH_SPECS = {\n",
    "    \"A\": ([], []),\n",
    "    \"B\": (MILD_NONLINEARITY, []),\n",
    "    \"C\": (MODERATE_NONLINEARITY, []),\n",
    "    \"D\": ([], MILD_NONADDITIVITY),\n",
    "    \"E\": (MILD_NONLINEARITY, MILD_NONADDITIVITY),\n",
    "    \"F\": ([], MODERATE_NONADDITIVITY),\n",
    "    \"G\": (MODERATE_NONLINEARITY, MODERATE_NONADDITIVITY)\n",
    "}\n",
    "\n",
    "GENMATCH_N_COVARS = 11\n",
    "GENMATCH_BINARY_COVAR_INDECES = [1, 3, 5, 6, 8, 9]\n",
    "GENMATCH_COVAR_NAMES = np.array([f\"X{i}\" for i in range(GENMATCH_N_COVARS)])\n",
    "\n",
    "class GenmatchDataGeneratingProcess(ConcreteDataGeneratingProcess):\n",
    "    def __init__(self, dgp_label, n_observations, data_analysis_mode, static_observations=False):\n",
    "\n",
    "        super().__init__(n_observations, data_analysis_mode)\n",
    "\n",
    "        quadratic_indeces, interactions_list = GENMATCH_SPECS[dgp_label]\n",
    "\n",
    "        self.data_source = build_genmatch_datasource(n_observations)\n",
    "        self.covar_symbols = np.array(sp.symbols(list(GENMATCH_COVAR_NAMES)))\n",
    "\n",
    "        self.static_observations = static_observations\n",
    "        self.static_covar_data = self.data_source.get_covar_df()\n",
    "\n",
    "        self.assignment_weights = np.array(\n",
    "            [0, 0.8, -0.25, 0.6, -0.4, -0.8, -0.5, 0.7, 0, 0, 0])\n",
    "\n",
    "        self.outcome_weights = np.array(\n",
    "            [-3.85, 0.3, -0.36, -0.73, -0.2, 0, 0, 0, 0.71, -0.19, 0.26])\n",
    "        self.true_treat_effect = -0.4\n",
    "\n",
    "        self.quad_terms_indeces = quadratic_indeces\n",
    "        self.interactions_list = np.array(interactions_list)\n",
    "\n",
    "        self._preprocess_functions()\n",
    "\n",
    "    def _preprocess_functions(self):\n",
    "        self.treatment_logit_terms = self.assignment_weights * self.covar_symbols\n",
    "\n",
    "\n",
    "         # Add quad terms\n",
    "        if len(self.quad_terms_indeces) > 0:\n",
    "            self.treatment_logit_terms = np.append(\n",
    "                self.treatment_logit_terms, (\n",
    "                    self.assignment_weights[self.quad_terms_indeces] *\n",
    "                    self.covar_symbols[self.quad_terms_indeces]**2))\n",
    "\n",
    "        # Add interact terms\n",
    "        if len(self.interactions_list) > 0:\n",
    "            interact_1_indeces = self.interactions_list[:, 0].astype(int)\n",
    "            interact_2_indeces = self.interactions_list[:, 1].astype(int)\n",
    "            interact_weights = self.interactions_list[:, 2]\n",
    "\n",
    "            self.treatment_logit_terms = np.append(\n",
    "                self.treatment_logit_terms, (\n",
    "                    self.assignment_weights[interact_1_indeces] *\n",
    "                       self.covar_symbols[interact_1_indeces]*\n",
    "                       self.covar_symbols[interact_2_indeces]*\n",
    "                       interact_weights))\n",
    "\n",
    "        self.treatment_logit_expression = np.sum(self.treatment_logit_terms)\n",
    "\n",
    "\n",
    "        self.untreated_outcome_terms = self.outcome_weights * self.covar_symbols\n",
    "        self.untreated_outcome_expression = np.sum(self.untreated_outcome_terms)\n",
    "\n",
    "    @data_generating_method(DGPVariables.COVARIATES_NAME, [], cache_result=False)\n",
    "    def _generate_observed_covars(self, input_vars):\n",
    "        if self.static_observations:\n",
    "            return self.static_covar_data\n",
    "        else:\n",
    "            return self.data_source.get_covar_df()\n",
    "\n",
    "    @data_generating_method(\n",
    "        DGPVariables.TRANSFORMED_COVARIATES_NAME,\n",
    "        [DGPVariables.COVARIATES_NAME],\n",
    "        data_analysis_mode_only=True)\n",
    "    def _generate_transformed_covars(self, input_vars):\n",
    "        # Generate the values of all the transformed covariates by running the\n",
    "        # original covariate data through the transforms used in the outcome and\n",
    "        # treatment functions.\n",
    "\n",
    "        observed_covariate_data = input_vars[DGPVariables.COVARIATES_NAME]\n",
    "\n",
    "        all_transforms = list(set(self.untreated_outcome_terms).union(\n",
    "            self.treatment_logit_terms))\n",
    "\n",
    "        data = {}\n",
    "        for index, transform in enumerate(all_transforms):\n",
    "            data[f\"{DGPVariables.TRANSFORMED_COVARIATES_NAME}{index}\"] = \\\n",
    "                evaluate_expression(transform, observed_covariate_data)\n",
    "\n",
    "        return pd.DataFrame(data)\n",
    "\n",
    "    @data_generating_method(DGPVariables.PROPENSITY_SCORE_NAME, [DGPVariables.COVARIATES_NAME])\n",
    "    def _generate_true_propensity_scores(self, input_vars):\n",
    "        observed_covariate_data = input_vars[DGPVariables.COVARIATES_NAME]\n",
    "\n",
    "        logits = evaluate_expression(\n",
    "            self.treatment_logit_expression,\n",
    "            observed_covariate_data)\n",
    "\n",
    "        return 1/(1 + np.exp(-1*logits))\n",
    "\n",
    "    @data_generating_method(Constants.DGPVariables.OUTCOME_NOISE_NAME, [])\n",
    "    def _generate_outcome_noise_samples(self, input_vars):\n",
    "        return 0\n",
    "\n",
    "    @data_generating_method(\n",
    "        DGPVariables.POTENTIAL_OUTCOME_WITHOUT_TREATMENT_NAME,\n",
    "        [DGPVariables.COVARIATES_NAME])\n",
    "    def _generate_outcomes_without_treatment(self, input_vars):\n",
    "        observed_covariate_data = input_vars[DGPVariables.COVARIATES_NAME]\n",
    "\n",
    "        return evaluate_expression(\n",
    "            self.untreated_outcome_expression,\n",
    "            observed_covariate_data)\n",
    "\n",
    "    @data_generating_method(DGPVariables.TREATMENT_EFFECT_NAME, [])\n",
    "    def _generate_treatment_effects(self, input_vars):\n",
    "        return self.true_treat_effect"
   ]
  },
  {
   "cell_type": "code",
   "execution_count": 11,
   "metadata": {},
   "outputs": [
    {
     "name": "stdout",
     "output_type": "stream",
     "text": [
      "Fetching result from path: results/genmatch/concrete_G-2020-02-12 07:58:30.pkl\n",
      "CPU times: user 3.03 ms, sys: 204 µs, total: 3.23 ms\n",
      "Wall time: 13.4 ms\n"
     ]
    }
   ],
   "source": [
    " %%time\n",
    "\n",
    "CONCRETE_IN_ANALYSIS_MODE = True\n",
    "CONCRETE_CACHED = True\n",
    "CONCRETE_RESULT_BASENAME = f\"concrete_{COMPARISON_BENCHMARK}\"\n",
    "\n",
    "if not CONCRETE_CACHED:\n",
    "    # Concrete Genmatch Benchmark\n",
    "    dgp = GenmatchDataGeneratingProcess(\n",
    "        dgp_label=COMPARISON_BENCHMARK,\n",
    "        n_observations=1000,\n",
    "        data_analysis_mode=CONCRETE_IN_ANALYSIS_MODE,\n",
    "        static_observations=True)\n",
    "\n",
    "    concrete_result = benchmark_model_using_concrete_dgp(\n",
    "            dgp=dgp,\n",
    "            model_class=LogisticPropensityMatchingCausalModel,\n",
    "            estimand=Constants.Model.ATT_ESTIMAND,\n",
    "            num_sampling_runs_per_dgp=10,\n",
    "            num_samples_from_dgp=100,\n",
    "            data_analysis_mode=CONCRETE_IN_ANALYSIS_MODE,\n",
    "            data_metrics_spec=DATA_METRICS_SPEC,\n",
    "            n_jobs=N_CORES,\n",
    "            n_threads=N_THREADS)\n",
    "    \n",
    "    persist_result(CONCRETE_RESULT_BASENAME,concrete_result)\n",
    "else:\n",
    "    concrete_result = read_result(CONCRETE_RESULT_BASENAME)\n",
    "\n",
    "concrete_perf_agg, concrete_perf_raw, concrete_data_agg, concrete_data_raw = \\\n",
    "    concrete_result\n"
   ]
  },
  {
   "cell_type": "code",
   "execution_count": 13,
   "metadata": {},
   "outputs": [],
   "source": [
    "from maccabee.data_generation.utils import evaluate_expression\n",
    "from maccabee.parameters import ParameterStore\n",
    "\n",
    "def coeff_sampler(self, size=1):\n",
    "#     return np.random.uniform(low=-0.8, high=0.8, size=size)\n",
    "    if np.random.random() < 0.5:\n",
    "        return np.random.uniform(low=-0.8, high=-0.3, size=size)\n",
    "    else:\n",
    "        return np.random.uniform(low=0.3, high=0.8, size=size)\n",
    "\n",
    "def te_sampler(self, size=1):\n",
    "    if np.random.random() < 0.5:\n",
    "        return np.random.uniform(low=-0.8, high=-0.3, size=size)\n",
    "    else:\n",
    "        return np.random.uniform(low=0.3, high=0.8, size=size)\n",
    "\n",
    "\n",
    "ParameterStore.sample_subfunction_constants = coeff_sampler\n",
    "ParameterStore.sample_treatment_effect = te_sampler\n",
    "\n",
    "DGPVariables = Constants.DGPVariables\n",
    "\n",
    "SAMPLED_DYNAMIC_OBS = True\n",
    "SAMPLED_OUTCOME_BIAS = True\n",
    "SAMPLED_STATIC_TE = True\n",
    "DGPVariables.NORMALIZE_SAMPLED_OUTCOME_FUNCTION = False\n",
    "DGPVariables.NORMALIZE_SAMPLED_TREATMENT_FUNCTION = False\n",
    "\n",
    "# Sampled Genmatch Benchmark\n",
    "class GenmatchLikeSampledDataGeneratingProcess(SampledDataGeneratingProcess):\n",
    "    def __init__(self, *args, **kwargs):\n",
    "        compile_functions = kwargs.pop(\"compile_functions\")\n",
    "        kwargs[\"compile_functions\"] = False\n",
    "        \n",
    "        super().__init__(*args, **kwargs)\n",
    "        if SAMPLED_OUTCOME_BIAS:\n",
    "            self.bias = -3.85\n",
    "            np.append(self.outcome_covariate_transforms, self.bias)\n",
    "            self.untreated_outcome_subfunction += self.bias\n",
    "            self.outcome_function += self.bias\n",
    "            \n",
    "        if compile_functions:\n",
    "            symbols = sp.symbols(list(self.observed_covariate_data.columns))\n",
    "            self.untreated_outcome_subfunction = \\\n",
    "                CompiledExpression(self.untreated_outcome_subfunction, symbols)\n",
    "            self.treatment_assignment_function = \\\n",
    "                CompiledExpression(self.treatment_assignment_function, symbols)\n",
    "\n",
    "    @data_generating_method(DGPVariables.OUTCOME_NOISE_NAME, [])\n",
    "    def _generate_outcome_noise_samples(self, input_vars):\n",
    "        return 0\n",
    "    \n",
    "    @data_generating_method(DGPVariables.TREATMENT_EFFECT_NAME, [])\n",
    "    def _generate_treatment_effects(self, input_vars):\n",
    "        if SAMPLED_STATIC_TE:\n",
    "            return -0.4\n",
    "        else:\n",
    "            return self.params.sample_treatment_effect()\n",
    "    \n",
    "    # dynamic dataset generation.\n",
    "    @data_generating_method(DGPVariables.COVARIATES_NAME, [])\n",
    "    def _generate_observed_covars(self, input_vars):\n",
    "        if SAMPLED_DYNAMIC_OBS:\n",
    "            return self.data_source.get_covar_df() \n",
    "        else:\n",
    "            return self.observed_covariate_data\n",
    "    \n",
    "    @data_generating_method(\n",
    "        DGPVariables.POTENTIAL_OUTCOME_WITHOUT_TREATMENT_NAME,\n",
    "        [DGPVariables.COVARIATES_NAME],\n",
    "        cache_result=(not SAMPLED_DYNAMIC_OBS))\n",
    "    def _generate_outcomes_without_treatment(self, input_vars):\n",
    "        observed_covariate_data = input_vars[DGPVariables.COVARIATES_NAME]\n",
    "        return evaluate_expression(\n",
    "            self.untreated_outcome_subfunction,\n",
    "            observed_covariate_data) \n",
    "\n",
    "    @data_generating_method(\n",
    "        DGPVariables.TREATMENT_EFFECT_NAME,\n",
    "        [DGPVariables.COVARIATES_NAME],\n",
    "        cache_result=(not SAMPLED_DYNAMIC_OBS))\n",
    "    def _generate_treatment_effects(self, input_vars):\n",
    "        observed_covariate_data = input_vars[DGPVariables.COVARIATES_NAME]\n",
    "        return evaluate_expression(\n",
    "            self.treatment_effect_subfunction,\n",
    "            observed_covariate_data)\n",
    "\n",
    "    @data_generating_method(\n",
    "        DGPVariables.POTENTIAL_OUTCOME_WITH_TREATMENT_NAME,\n",
    "        [\n",
    "            DGPVariables.POTENTIAL_OUTCOME_WITHOUT_TREATMENT_NAME,\n",
    "            DGPVariables.TREATMENT_EFFECT_NAME\n",
    "        ],\n",
    "        cache_result=(not SAMPLED_DYNAMIC_OBS))\n",
    "    def _generate_outcomes_with_treatment(self, input_vars):\n",
    "        outcome_without_treatment = input_vars[DGPVariables.POTENTIAL_OUTCOME_WITHOUT_TREATMENT_NAME]\n",
    "        treatment_effect = input_vars[DGPVariables.TREATMENT_EFFECT_NAME]\n",
    "        return outcome_without_treatment + treatment_effect"
   ]
  },
  {
   "cell_type": "code",
   "execution_count": 555,
   "metadata": {
    "scrolled": false
   },
   "outputs": [
    {
     "name": "stdout",
     "output_type": "stream",
     "text": [
      "Reducing alignment from 0.227 to 0.15\n",
      "Reducing alignment from 0.174 to 0.15\n",
      "Reducing alignment from 0.174 to 0.15\n",
      "Reducing alignment from 0.174 to 0.15\n",
      "Reducing alignment from 0.174 to 0.15\n",
      "Reducing alignment from 0.174 to 0.15\n",
      "Reducing alignment from 0.286 to 0.15\n",
      "Increasing alignment\n",
      "Reducing alignment from 0.174 to 0.15\n",
      "Reducing alignment from 0.174 to 0.15\n",
      "Reducing alignment from 0.227 to 0.15\n",
      "Reducing alignment from 0.174 to 0.15\n",
      "Reducing alignment from 0.227 to 0.15\n",
      "Reducing alignment from 0.227 to 0.15\n",
      "Increasing alignment\n",
      "Reducing alignment from 0.174 to 0.15\n",
      "Reducing alignment from 0.174 to 0.15\n",
      "Reducing alignment from 0.174 to 0.15\n",
      "Starting sampling for DGP 1/18\n",
      "Starting sampling for DGP 2/18\n",
      "Starting sampling for DGP 3/18\n",
      "Starting sampling for DGP 4/18\n",
      "Starting sampling for DGP 5/18\n",
      "Starting sampling for DGP 6/18\n",
      "Starting sampling for DGP 7/18\n",
      "Starting sampling for DGP 8/18\n",
      "Starting sampling for DGP 9/18\n",
      "Starting sampling for DGP 10/18\n",
      "Starting sampling for DGP 11/18\n",
      "Starting sampling for DGP 12/18\n",
      "Starting sampling for DGP 13/18\n",
      "Starting sampling for DGP 14/18\n",
      "Starting sampling for DGP 15/18\n",
      "Starting sampling for DGP 16/18\n",
      "Starting sampling for DGP 17/18\n",
      "Starting sampling for DGP 18/18\n",
      "CPU times: user 2min 12s, sys: 7min 2s, total: 9min 15s\n",
      "Wall time: 9min 13s\n"
     ]
    }
   ],
   "source": [
    "%%time\n",
    "\n",
    "SAMPLED_IN_ANALYSIS_MODE = True\n",
    "SAMPLED_CACHED = False\n",
    "SAMPLED_RESULT_BASENAME = f\"sampled_{COMPARISON_BENCHMARK}\"\n",
    "\n",
    "EVAL_PARAMS = {\n",
    "    \"num_dgp_samples\": 18,\n",
    "    \"num_sampling_runs_per_dgp\": 7,\n",
    "    \"num_samples_from_dgp\": 48,\n",
    "    \"dgp_kwargs\": {\n",
    "        \"data_analysis_mode\": SAMPLED_IN_ANALYSIS_MODE,\n",
    "        \"compile_functions\": False\n",
    "    },\n",
    "}\n",
    "\n",
    "param_overrides = GENMATCH_PARAM_OVERRIDES[COMPARISON_BENCHMARK]\n",
    "\n",
    "if not SAMPLED_CACHED:\n",
    "    dgp_params = build_default_parameters()\n",
    "    dgp_params.set_parameters(param_overrides)\n",
    "\n",
    "    sampled_result = \\\n",
    "        benchmark_model_using_sampled_dgp(\n",
    "            dgp_params, build_genmatch_datasource(),\n",
    "            dgp_class=GenmatchLikeSampledDataGeneratingProcess,\n",
    "            model_class=LogisticPropensityMatchingCausalModel,\n",
    "            estimand=Constants.Model.ATE_ESTIMAND,\n",
    "            data_analysis_mode=SAMPLED_IN_ANALYSIS_MODE,\n",
    "            data_metrics_spec=DATA_METRICS_SPEC,\n",
    "            n_jobs=min(EVAL_PARAMS[\"num_samples_from_dgp\"], 100),#N_CORES,\n",
    "            n_threads=N_THREADS,\n",
    "            **EVAL_PARAMS)\n",
    "\n",
    "    persist_result(SAMPLED_RESULT_BASENAME, sampled_result)\n",
    "else:\n",
    "    sampled_result = read_result(SAMPLED_RESULT_BASENAME)\n",
    "    \n",
    "(\n",
    "    sampled_perf_agg, sampled_perf_raw,\n",
    "    sampled_perf_run_raw, sampled_data_agg,\n",
    "    sampled_data_raw, dgps\n",
    ") = sampled_result"
   ]
  },
  {
   "cell_type": "markdown",
   "metadata": {},
   "source": [
    "### Data Metrics"
   ]
  },
  {
   "cell_type": "code",
   "execution_count": 556,
   "metadata": {
    "run_control": {
     "marked": true
    }
   },
   "outputs": [
    {
     "name": "stdout",
     "output_type": "stream",
     "text": [
      "OUTCOME_NONLINEARITY\n",
      "TREATMENT_NONLINEARITY\n",
      "\t Lin r2(X_obs, Treat Logit)\n",
      "\t - Concrete: 0.776\n",
      "\t - Sampled: 0.628\n",
      "PERCENT_TREATED\n",
      "ALIGNMENT\n"
     ]
    }
   ],
   "source": [
    "if SAMPLED_IN_ANALYSIS_MODE and CONCRETE_IN_ANALYSIS_MODE:\n",
    "    display_data_metrics_comparison(DATA_METRICS_SPEC,\n",
    "                                    concrete_data_agg, sampled_data_agg)"
   ]
  },
  {
   "cell_type": "markdown",
   "metadata": {},
   "source": [
    "### Performance Metrics"
   ]
  },
  {
   "cell_type": "markdown",
   "metadata": {},
   "source": [
    "#### Concrete Performance"
   ]
  },
  {
   "cell_type": "code",
   "execution_count": 557,
   "metadata": {},
   "outputs": [
    {
     "name": "stdout",
     "output_type": "stream",
     "text": [
      "AMBP: 17.994\n",
      "AMBP (std): 2.454\n",
      "RMSE: 0.111\n",
      "RMSE (std): 0.007\n"
     ]
    }
   ],
   "source": [
    "display_aggregated_performance_metrics(concrete_perf_agg)"
   ]
  },
  {
   "cell_type": "code",
   "execution_count": 558,
   "metadata": {},
   "outputs": [
    {
     "data": {
      "image/png": "[encoded data removed]",
      "text/plain": [
       "<Figure size 576x396 with 1 Axes>"
      ]
     },
     "metadata": {},
     "output_type": "display_data"
    }
   ],
   "source": [
    "display_raw_performance_metrics(concrete_perf_raw, \"AMBP\", \"Concrete DGP\")"
   ]
  },
  {
   "cell_type": "markdown",
   "metadata": {},
   "source": [
    "#### Sampled Performance"
   ]
  },
  {
   "cell_type": "code",
   "execution_count": 559,
   "metadata": {},
   "outputs": [
    {
     "name": "stdout",
     "output_type": "stream",
     "text": [
      "AMBP: 3.969\n",
      "AMBP (std): 2.919\n",
      "RMSE: 0.064\n",
      "RMSE (std): 0.019\n"
     ]
    }
   ],
   "source": [
    "display_aggregated_performance_metrics(sampled_perf_agg)"
   ]
  },
  {
   "cell_type": "code",
   "execution_count": 560,
   "metadata": {},
   "outputs": [
    {
     "data": {
      "image/png": "[encoded data removed]",
      "text/plain": [
       "<Figure size 576x396 with 1 Axes>"
      ]
     },
     "metadata": {},
     "output_type": "display_data"
    }
   ],
   "source": [
    "display_raw_performance_metrics(sampled_perf_raw, \"AMBP\", \"Sampled DGP\")"
   ]
  },
  {
   "cell_type": "code",
   "execution_count": 561,
   "metadata": {},
   "outputs": [
    {
     "data": {
      "image/png": "[encoded data removed]",
      "text/plain": [
       "<Figure size 576x396 with 1 Axes>"
      ]
     },
     "metadata": {},
     "output_type": "display_data"
    }
   ],
   "source": [
    "all_sampled_runs = [item for sublist in sampled_perf_run_raw[\"AMBP\"] for item in sublist]\n",
    "display_distro(all_sampled_runs, \"Run level AMBP for Sampled DGPs\")"
   ]
  },
  {
   "cell_type": "markdown",
   "metadata": {},
   "source": [
    "#### Side by Side Comparison"
   ]
  },
  {
   "cell_type": "code",
   "execution_count": 562,
   "metadata": {},
   "outputs": [
    {
     "data": {
      "image/png": "[encoded data removed]",
      "text/plain": [
       "<Figure size 576x396 with 1 Axes>"
      ]
     },
     "metadata": {},
     "output_type": "display_data"
    }
   ],
   "source": [
    "display_sampled_dgps_vs_concrete(sampled_perf_run_raw, concrete_perf_raw, \"AMBP\")"
   ]
  },
  {
   "cell_type": "markdown",
   "metadata": {},
   "source": [
    "### Analysis"
   ]
  },
  {
   "cell_type": "code",
   "execution_count": 563,
   "metadata": {},
   "outputs": [],
   "source": [
    "predictive_metric = \"TREATMENT_NONLINEARITY Lin r2(X_obs, Treat Logit)\"\n",
    "performance_metric = \"AMBP\"\n",
    "performance_metric_outlier_lim = 20\n",
    "metric_domain = np.linspace(0.1, 0.95, 100)"
   ]
  },
  {
   "cell_type": "code",
   "execution_count": 564,
   "metadata": {},
   "outputs": [
    {
     "name": "stdout",
     "output_type": "stream",
     "text": [
      "Removing 0 outliers. AMBPs: []\n"
     ]
    }
   ],
   "source": [
    "sampled_metric_vals = np.array(sampled_data_raw[predictive_metric])\n",
    "sampled_perf_vals = np.array(sampled_perf_raw[performance_metric])\n",
    "sampled_perf_run_vals = np.array(sampled_perf_run_raw[performance_metric])\n",
    "\n",
    "outlier_locs = sampled_perf_vals > performance_metric_outlier_lim\n",
    "num_outliers = np.sum(outlier_locs)\n",
    "print(f\"Removing {num_outliers} outliers. {performance_metric}s: {sampled_perf_vals[outlier_locs]}\")\n",
    "outlier_filter = sampled_perf_vals < performance_metric_outlier_lim\n",
    "\n",
    "sampled_metric_vals = sampled_metric_vals[outlier_filter]\n",
    "sampled_perf_vals = sampled_perf_vals[outlier_filter]\n",
    "sampled_perf_run_vals = sampled_perf_run_vals[outlier_filter, :]\n",
    "\n",
    "concrete_metric_vals = np.array(concrete_data_raw[predictive_metric])\n",
    "concrete_perf_vals = np.array(concrete_perf_raw[performance_metric])\n"
   ]
  },
  {
   "cell_type": "code",
   "execution_count": 565,
   "metadata": {},
   "outputs": [
    {
     "data": {
      "image/png": "[encoded data removed]",
      "text/plain": [
       "<Figure size 576x396 with 1 Axes>"
      ]
     },
     "metadata": {},
     "output_type": "display_data"
    },
    {
     "name": "stdout",
     "output_type": "stream",
     "text": [
      "R^2 0.010980629054932389 P 0.6790165442487289\n"
     ]
    }
   ],
   "source": [
    "plot_dgp_metric_vs_perf(concrete_metric_vals, concrete_perf_vals,\n",
    "                        \"r\", \"concrete\")\n",
    "\n",
    "plot_dgp_metric_vs_perf(sampled_metric_vals, sampled_perf_vals,\n",
    "                        \"g\", \"sampled\")\n",
    "\n",
    "plt.ylabel(performance_metric)\n",
    "plt.xlabel(predictive_metric)\n",
    "\n",
    "for sample_metric_val, sampled_dgp_runs in zip(sampled_metric_vals, sampled_perf_run_vals):\n",
    "    plot_dgp_metric_vs_perf(sample_metric_val, sampled_dgp_runs, \"b\", None)\n",
    "\n",
    "grad, intr, r, p, _ = st.linregress(sampled_metric_vals, sampled_perf_vals)\n",
    "plt.plot(metric_domain, grad*metric_domain + intr)\n",
    "plt.legend()\n",
    "plt.show()\n",
    "print(\"R^2\", r**2, \"P\", p)\n",
    "# grad, intr, r, p, _, sampled_perf_raw[\"AMBP\"]"
   ]
  },
  {
   "cell_type": "code",
   "execution_count": 566,
   "metadata": {},
   "outputs": [
    {
     "name": "stdout",
     "output_type": "stream",
     "text": [
      "INTERACTION_TWO_WAY 10.0 0.0\n",
      "POLY_QUAD 3.0 0.0\n",
      "LINEAR 6.833333333333333 0.5\n"
     ]
    }
   ],
   "source": [
    "\n",
    "category_data = get_term_category_data(dgps)\n",
    "\n",
    "categories = [\n",
    "    Constants.DGPSampling.INTERACTION_TWO_WAY,\n",
    "    Constants.DGPSampling.POLY_QUADRATIC,\n",
    "    Constants.DGPSampling.LINEAR,\n",
    "]\n",
    "\n",
    "for category in categories:\n",
    "    category_counts = list(map(lambda data: data[0][category], category_data))\n",
    "    print(category, np.mean(category_counts), np.std(category_counts))"
   ]
  },
  {
   "cell_type": "code",
   "execution_count": 567,
   "metadata": {},
   "outputs": [],
   "source": [
    "# Categorize the interaction terms in terms of presence \n",
    "# of binary covars as neither, one or both components\n",
    "# for in each DGP\n",
    "binary_data = []\n",
    "for data in category_data:\n",
    "    interactions = data[1][Constants.DGPSampling.INTERACTION_TWO_WAY]\n",
    "    get_is_binary_statuses = lambda var_name: int(str(var_name)[1:]) in GENMATCH_BINARY_COVAR_INDECES\n",
    "    \n",
    "    interaction_binary_classes = [\n",
    "        categorize_interaction_two_way([\n",
    "            get_is_binary_statuses(interaction_var)\n",
    "            for interaction_var in interaction_vars\n",
    "        ])\n",
    "        for interaction_vars in interactions\n",
    "    ]\n",
    "    \n",
    "    binary_data.append(interaction_binary_classes)\n",
    "\n",
    "binary_data = np.array(binary_data)\n",
    "both_counts = np.sum(binary_data == \"both\", axis=1)[outlier_filter]\n",
    "one_counts = np.sum(binary_data == \"one\", axis=1)[outlier_filter]"
   ]
  },
  {
   "cell_type": "code",
   "execution_count": 568,
   "metadata": {},
   "outputs": [
    {
     "name": "stdout",
     "output_type": "stream",
     "text": [
      "R^2 0.01726986341611947 P 0.6032150400215054\n"
     ]
    },
    {
     "data": {
      "image/png": "[encoded data removed]",
      "text/plain": [
       "<Figure size 936x360 with 3 Axes>"
      ]
     },
     "metadata": {},
     "output_type": "display_data"
    }
   ],
   "source": [
    "plt.figure(figsize=(13, 5))\n",
    "\n",
    "plt.subplot(131)\n",
    "plt.title(\"Number of Two-Binary Interactions vs Treat Linearity\")\n",
    "plt.ylabel(predictive_metric)\n",
    "plt.xlabel(\"Number of Two-Binary\")\n",
    "plt.scatter(both_counts, sampled_metric_vals)\n",
    "\n",
    "# regression plot\n",
    "slope, intr, r_value, p_value, _ = st.linregress(\n",
    "   both_counts, sampled_metric_vals)\n",
    "plt.plot(both_counts, slope*both_counts + intr)\n",
    "\n",
    "plt.subplot(132)\n",
    "plt.title(\"Number of One-Binary Interactions vs Treat Linearity\")\n",
    "plt.xlabel(\"Number of One-Binary\")\n",
    "plt.scatter(one_counts, sampled_metric_vals)\n",
    "\n",
    "# regression plot\n",
    "slope, intr, r_value, p_value, _ = st.linregress(\n",
    "   one_counts, sampled_metric_vals)\n",
    "plt.plot(one_counts, slope*one_counts + intr)\n",
    "\n",
    "plt.subplot(133)\n",
    "plt.title(\"Number of >1 Binary Interactions vs Treat Linearity\")\n",
    "plt.xlabel(\"Number of >1 Binary\")\n",
    "aggregated_binary_counts = 2*both_counts + one_counts\n",
    "plt.scatter(aggregated_binary_counts, sampled_metric_vals)\n",
    "\n",
    "# regression plot\n",
    "slope, intr, r_value, p_value, _ = st.linregress(\n",
    "   aggregated_binary_counts, sampled_metric_vals)\n",
    "plt.plot(aggregated_binary_counts, slope*aggregated_binary_counts + intr)\n",
    "\n",
    "print(\"R^2\", r_value**2, \"P\", p_value)\n",
    "plt.tight_layout()\n",
    "plt.show()\n",
    "\n",
    "# The choice of binary interactions matters for the metric (which we know)\n",
    "# is correlated with the performance of the estimator."
   ]
  },
  {
   "cell_type": "code",
   "execution_count": 569,
   "metadata": {},
   "outputs": [
    {
     "name": "stdout",
     "output_type": "stream",
     "text": [
      "R^2 0.1349600927344401 P 0.13368138607498603\n"
     ]
    },
    {
     "data": {
      "image/png": "[encoded data removed]",
      "text/plain": [
       "<Figure size 576x396 with 1 Axes>"
      ]
     },
     "metadata": {},
     "output_type": "display_data"
    }
   ],
   "source": [
    "plt.scatter(both_counts, sampled_perf_vals)\n",
    "plt.xlabel(\"Number of Two-Binary Interactions\")\n",
    "plt.ylabel(performance_metric)\n",
    "# regression plot\n",
    "slope, intercept, r_value, p_value, _ = st.linregress(both_counts, sampled_perf_vals)\n",
    "plt.plot(both_counts, slope*both_counts + intercept)\n",
    "\n",
    "print(\"R^2\", r_value**2, \"P\", p_value)\n",
    "plt.show()"
   ]
  },
  {
   "cell_type": "code",
   "execution_count": 570,
   "metadata": {},
   "outputs": [
    {
     "name": "stdout",
     "output_type": "stream",
     "text": [
      "R^2 0.19107183142928652 P 0.06969139522342362\n"
     ]
    },
    {
     "data": {
      "image/png": "[encoded data removed]",
      "text/plain": [
       "<Figure size 576x396 with 1 Axes>"
      ]
     },
     "metadata": {},
     "output_type": "display_data"
    }
   ],
   "source": [
    "plt.scatter(aggregated_binary_counts, sampled_perf_vals)\n",
    "plt.xlabel(\"Number of >1 Binary Interactions\")\n",
    "plt.ylabel(performance_metric)\n",
    "# regression plot\n",
    "slope, intercept, r_value, p_value, _ = st.linregress(aggregated_binary_counts, sampled_perf_vals)\n",
    "plt.plot(aggregated_binary_counts, slope*aggregated_binary_counts + intercept)\n",
    "\n",
    "print(\"R^2\", r_value**2, \"P\", p_value)\n",
    "plt.show()\n",
    "\n",
    "# The choice of binary interactions matters for performance of the estimator."
   ]
  },
  {
   "cell_type": "markdown",
   "metadata": {},
   "source": [
    "## Narrative\n",
    "\n",
    "Authors create a semi realistic data set - mix of binary and normal covariates.\n",
    "\n",
    "The hand-select a set of functions with escalating levels of nonlinearity and non-additivity.\n",
    "\n",
    "This analysis will show why this is a problematic strategy. Instead of tuning Maccabee to sample from specific location: sample functions which look very similar to their function in terms of expected structure.\n",
    "\n",
    "Keep everything else constant: same data, same constant treatment effect, same lack of outcome noise, same coeff distro (by inspection) *TODO verify this distr via histogram*. *TODO: see what happens with non-dynamic datasets*.\n",
    "\n",
    "This is a much lower variance setting than a standard maccabee sampler: normally would sample a wide class of functions with similar metrics. Here, we sample from the class of functions. Implication is that variance in this class is a subset of wider variance we would expect from the universe of possible functional forms could have selected.\n",
    "\n",
    "The results show the following:\n",
    "- We do indeed sample from universe of same structure functions. Ratio of components is identical.\n",
    "- There is a wide distro over performance\n",
    "- Digging into this, we see one contributing factor is a distro over the treatment assignment metric. **IE, identical structure** is producing highly varied non-linearity metrics.\n",
    "- It could be that this metric is useless but we see that it is indeed strongly correlated with performance of the estimator. So the metric matters.\n",
    "\n",
    "It appears the variance comes from different distro over binary variables in the interactions. This is logical given it is the only real difference.\n",
    "\n",
    "**Key take-aways**\n",
    "\n",
    "- Hand specified forms are a single sample from a (potentially wide) distribution over **realized** value of targeted distributional setting as proxied by values of metrics. And these distributional setting are correlated to performance (again, via metrics) (as is expected)\n",
    "\n",
    "- This would be even wider if we sampled from a wider class of variables (*TODO relax the constrains by moving back to soft sampler and see what happens*)\n",
    "\n",
    "- Even within a single metric setting, there is variance from other factors - both data set and other distributional setting values. This means that even with in a fixed target, there is a need for averaging.\n",
    "\n",
    "- So to really test a method, must sample by targeting distributional metrics. In practice, this means average over many realizations with the correct - on average metric value. Any single is hard to find and may not capture range of other possible distributional settings. \n",
    "\n",
    "Put formally, we want the conditional marginal over a specific distributional setting.\n",
    "\n"
   ]
  },
  {
   "cell_type": "code",
   "execution_count": null,
   "metadata": {},
   "outputs": [],
   "source": []
  },
  {
   "cell_type": "code",
   "execution_count": null,
   "metadata": {},
   "outputs": [],
   "source": []
  },
  {
   "cell_type": "code",
   "execution_count": null,
   "metadata": {},
   "outputs": [],
   "source": [
    "# TRUE_TREAT_LOGIT = dgp.treatment_logit_expression\n",
    "\n",
    "# class GenmatchEquivDataGeneratingProcess(SampledDataGeneratingProcess):\n",
    "#     @data_generating_method(Constants.DGPVariables.OUTCOME_NOISE_NAME, [])\n",
    "#     def _generate_outcome_noise_samples(self, input_vars):\n",
    "#         return 0\n",
    "    \n",
    "#     @data_generating_method(Constants.DGPVariables.TREATMENT_EFFECT_NAME, [])\n",
    "#     def _generate_treatment_effects(self, input_vars):\n",
    "#         return -0.4\n",
    "    \n",
    "#     @data_generating_method(Constants.DGPVariables.PROPENSITY_SCORE_NAME,\n",
    "#                             [Constants.DGPVariables.COVARIATES_NAME])\n",
    "#     def _generate_true_propensity_scores(self, input_vars):\n",
    "#         observed_covariate_data = input_vars[Constants.DGPVariables.COVARIATES_NAME]\n",
    "\n",
    "#         logits = evaluate_expression(\n",
    "#             TRUE_TREAT_LOGIT,\n",
    "#             observed_covariate_data)\n",
    "\n",
    "#         return 1/(1 + np.exp(-1*logits))"
   ]
  }
 ],
 "metadata": {
  "kernelspec": {
   "display_name": "Python 3",
   "language": "python",
   "name": "python3"
  },
  "language_info": {
   "codemirror_mode": {
    "name": "ipython",
    "version": 3
   },
   "file_extension": ".py",
   "mimetype": "text/x-python",
   "name": "python",
   "nbconvert_exporter": "python",
   "pygments_lexer": "ipython3",
   "version": "3.7.6"
  },
  "varInspector": {
   "cols": {
    "lenName": 16,
    "lenType": 16,
    "lenVar": 40
   },
   "kernels_config": {
    "python": {
     "delete_cmd_postfix": "",
     "delete_cmd_prefix": "del ",
     "library": "var_list.py",
     "varRefreshCmd": "print(var_dic_list())"
    },
    "r": {
     "delete_cmd_postfix": ") ",
     "delete_cmd_prefix": "rm(",
     "library": "var_list.r",
     "varRefreshCmd": "cat(var_dic_list()) "
    }
   },
   "types_to_exclude": [
    "module",
    "function",
    "builtin_function_or_method",
    "instance",
    "_Feature"
   ],
   "window_display": false
  }
 },
 "nbformat": 4,
 "nbformat_minor": 2
}
