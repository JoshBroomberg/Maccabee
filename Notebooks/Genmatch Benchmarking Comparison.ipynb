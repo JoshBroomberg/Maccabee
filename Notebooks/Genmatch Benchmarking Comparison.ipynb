{
 "cells": [
  {
   "cell_type": "code",
   "execution_count": 1,
   "metadata": {},
   "outputs": [],
   "source": [
    "#!pip install -e ../Maccabee > /dev/null"
   ]
  },
  {
   "cell_type": "code",
   "execution_count": 1,
   "metadata": {},
   "outputs": [],
   "source": [
    "from maccabee.data_analysis import calculate_data_axis_metrics, gather_axis_metrics_for_given_params\n",
    "from maccabee.constants import Constants\n",
    "import maccabee.data_sources as data_sources\n",
    "from maccabee.parameters import build_default_parameters\n",
    "\n",
    "from maccabee.data_generation import SampledDataGeneratingProcess, data_generating_method\n",
    "\n",
    "# benchmarks\n",
    "from maccabee.benchmarking import benchmark_model_using_concrete_dgp\n",
    "from maccabee.benchmarking import benchmark_model_using_sampled_dgp\n",
    "from maccabee.benchmarking import benchmark_model_using_sampled_dgp_grid\n",
    "\n",
    "# genmatch\n",
    "from maccabee.examples.genmatch import GenmatchDataGeneratingProcess, build_genmatch_datasource, GENMATCH_SPECS\n",
    "from maccabee.examples.genmatch import LogisticPropensityMatchingCausalModel"
   ]
  },
  {
   "cell_type": "code",
   "execution_count": 2,
   "metadata": {},
   "outputs": [],
   "source": [
    "import numpy as np\n",
    "from collections import defaultdict\n",
    "import pandas as pd\n",
    "import matplotlib.pyplot as plt"
   ]
  },
  {
   "cell_type": "code",
   "execution_count": 3,
   "metadata": {},
   "outputs": [],
   "source": [
    "BASE_GENMATCH_DGP_PARAMS = {\n",
    "  \"OUTCOME_MECHANISM_COVARIATE_SELECTION_PROBABILITY\": { \n",
    "        \"LINEAR\": 0.7,\n",
    "        \"POLY_QUAD\": 0,\n",
    "        \"POLY_CUBIC\": 0,\n",
    "        \"STEP_JUMP\": 0,\n",
    "        \"STEP_KINK\": 0,\n",
    "        \"INTERACTION_TWO_WAY\": 0,\n",
    "        \"INTERACTION_THREE_WAY\": 0,\n",
    "  },\n",
    "  \"TREATMENT_EFFECT_HETEROGENEITY\": 0,\n",
    "  \"ACTUAL_CONFOUNDER_ALIGNMENT\": 0,\n",
    "  \"MIN_PROPENSITY_SCORE\": 0.1,\n",
    "  \"MAX_PROPENSITY_SCORE\": 0.9,\n",
    "  \"OUTCOME_NOISE_TAIL_THICKNESS\": 1000,\n",
    "  \"SUBFUNCTION_CONSTANT_TAIL_THICKNESS\": 1000,\n",
    "  \"TREATMENT_EFFECT_TAIL_THICKNESS\": 1000\n",
    "}\n",
    "\n",
    "A_param_overrides = BASE_GENMATCH_DGP_PARAMS.copy()\n",
    "A_param_overrides[\"TREAT_MECHANISM_COVARIATE_SELECTION_PROBABILITY\"] = { \n",
    "    \"LINEAR\": 0.7,\n",
    "    \"POLY_QUAD\": 0,\n",
    "    \"POLY_CUBIC\": 0,\n",
    "    \"STEP_JUMP\": 0,\n",
    "    \"STEP_KINK\": 0,\n",
    "    \"INTERACTION_TWO_WAY\": 0.0,\n",
    "    \"INTERACTION_THREE_WAY\": 0,\n",
    "}\n",
    "  \n",
    "C_param_overrides = BASE_GENMATCH_DGP_PARAMS.copy()\n",
    "C_param_overrides[\"TREAT_MECHANISM_COVARIATE_SELECTION_PROBABILITY\"] = { \n",
    "    \"LINEAR\": 0.7,\n",
    "    \"POLY_QUAD\": 0.3,\n",
    "    \"POLY_CUBIC\": 0,\n",
    "    \"STEP_JUMP\": 0,\n",
    "    \"STEP_KINK\": 0,\n",
    "    \"INTERACTION_TWO_WAY\": 0.0,\n",
    "    \"INTERACTION_THREE_WAY\": 0,\n",
    "}\n",
    "\n",
    "G_param_overrides = BASE_GENMATCH_DGP_PARAMS.copy()\n",
    "G_param_overrides[\"TREAT_MECHANISM_COVARIATE_SELECTION_PROBABILITY\"] = { \n",
    "    \"LINEAR\": 0.7,\n",
    "    \"POLY_QUAD\": 0.3,\n",
    "    \"POLY_CUBIC\": 0,\n",
    "    \"STEP_JUMP\": 0,\n",
    "    \"STEP_KINK\": 0,\n",
    "    \"INTERACTION_TWO_WAY\": 0.11,\n",
    "    \"INTERACTION_THREE_WAY\": 0,\n",
    "}\n",
    "\n",
    "X_param_overrides = BASE_GENMATCH_DGP_PARAMS.copy()\n",
    "X_param_overrides[\"TREAT_MECHANISM_COVARIATE_SELECTION_PROBABILITY\"] = { \n",
    "    \"LINEAR\": 0.7,\n",
    "    \"POLY_QUAD\": 0.99,\n",
    "    \"POLY_CUBIC\": 0.99,\n",
    "    \"STEP_JUMP\": 0,\n",
    "    \"STEP_KINK\": 0,\n",
    "    \"INTERACTION_TWO_WAY\": 0.99,\n",
    "    \"INTERACTION_THREE_WAY\": 0,\n",
    "}"
   ]
  },
  {
   "cell_type": "code",
   "execution_count": 4,
   "metadata": {
    "run_control": {
     "marked": true
    }
   },
   "outputs": [],
   "source": [
    "# Define axes and metrics to analyze\n",
    "DATA_METRICS_SPEC = {\n",
    "    Constants.AxisNames.OUTCOME_NONLINEARITY: [\n",
    "        \"Lin r2(X_obs, Y)\",\n",
    "        \"Lin r2(X_true, Y)\"\n",
    "    ],\n",
    "    Constants.AxisNames.TREATMENT_NONLINEARITY: [\n",
    "        \"Lin r2(X_obs, Treat Logit)\",\n",
    "        \"Lin r2(X_true, Treat Logit)\",\n",
    "        \"Log r2(X_obs, T)\"\n",
    "    ],\n",
    "    Constants.AxisNames.PERCENT_TREATED: [\n",
    "        \"Percent(T==1)\"\n",
    "    ],\n",
    "    Constants.AxisNames.BALANCE: [\n",
    "        \"Wass dist X_true: T=1<->T=0\",\n",
    "    ],\n",
    "    Constants.AxisNames.ALIGNMENT: [\n",
    "        \"Lin r2(Y, Treat Logit)\",\n",
    "        \"Lin r2(Y0, Treat Logit)\"\n",
    "    ],\n",
    "    Constants.AxisNames.TE_HETEROGENEITY: [\n",
    "        \"std(TE)/std(Y)\"\n",
    "    ]\n",
    "}"
   ]
  },
  {
   "cell_type": "markdown",
   "metadata": {},
   "source": [
    "## Run MC Benchmarks"
   ]
  },
  {
   "cell_type": "code",
   "execution_count": 5,
   "metadata": {},
   "outputs": [
    {
     "name": "stdout",
     "output_type": "stream",
     "text": [
      "CPU times: user 157 ms, sys: 138 ms, total: 296 ms\n",
      "Wall time: 517 ms\n"
     ]
    }
   ],
   "source": [
    "%%time\n",
    "\n",
    "CONCRETE_IN_ANALYSIS_MODE = True\n",
    "\n",
    "# Concrete Genmatch Benchmark\n",
    "dgp = GenmatchDataGeneratingProcess(\n",
    "    *GENMATCH_SPECS[\"G\"],\n",
    "    n_observations=1000,\n",
    "    data_analysis_mode=CONCRETE_IN_ANALYSIS_MODE)\n",
    "\n",
    "concrete_perf_agg, concrete_perf_raw, concrete_data_agg, concrete_data_raw = \\\n",
    "    benchmark_model_using_concrete_dgp(\n",
    "        dgp=dgp,\n",
    "        model_class=LogisticPropensityMatchingCausalModel,\n",
    "        estimand=Constants.Model.ATE_ESTIMAND,\n",
    "        num_runs=1,#20,\n",
    "        num_samples_from_dgp=1,#112,\n",
    "        data_analysis_mode=CONCRETE_IN_ANALYSIS_MODE,\n",
    "        data_metrics_spec=DATA_METRICS_SPEC,\n",
    "        n_jobs=7)"
   ]
  },
  {
   "cell_type": "code",
   "execution_count": 6,
   "metadata": {},
   "outputs": [
    {
     "name": "stdout",
     "output_type": "stream",
     "text": [
      "CPU times: user 132 ms, sys: 75.9 ms, total: 208 ms\n",
      "Wall time: 1.61 s\n"
     ]
    }
   ],
   "source": [
    "%%time\n",
    "\n",
    "SAMPLED_IN_ANALYSIS_MODE = True\n",
    "\n",
    "# Sampled Genmatch Benchmark\n",
    "class ModifiedNoiseSampledDataGeneratingProcess(SampledDataGeneratingProcess):\n",
    "    @data_generating_method(Constants.OUTCOME_NOISE_NAME, [])\n",
    "    def _generate_outcome_noise_samples(self, input_vars):\n",
    "        return 0\n",
    "    \n",
    "dgp_params = build_default_parameters()\n",
    "dgp_params.set_parameters(G_param_overrides)\n",
    "\n",
    "sampled_perf_agg, sampled_perf_raw, sampled_data_agg, sampled_data_raw = \\\n",
    "    benchmark_model_using_sampled_dgp(\n",
    "        dgp_params, build_genmatch_datasource(),\n",
    "        dgp_kwargs={\"data_analysis_mode\": SAMPLED_IN_ANALYSIS_MODE},\n",
    "        dgp_class=ModifiedNoiseSampledDataGeneratingProcess,\n",
    "        model_class=LogisticPropensityMatchingCausalModel,\n",
    "        estimand=Constants.Model.ATE_ESTIMAND,\n",
    "        num_dgp_samples=1,#15,\n",
    "        num_sampling_runs_per_dgp=1,\n",
    "        num_samples_from_dgp=1,#35,\n",
    "        data_analysis_mode=SAMPLED_IN_ANALYSIS_MODE,\n",
    "        data_metrics_spec=DATA_METRICS_SPEC,\n",
    "        n_jobs=7)"
   ]
  },
  {
   "cell_type": "markdown",
   "metadata": {},
   "source": [
    "## Data Metric Comparison"
   ]
  },
  {
   "cell_type": "code",
   "execution_count": 7,
   "metadata": {
    "run_control": {
     "marked": true
    }
   },
   "outputs": [
    {
     "name": "stdout",
     "output_type": "stream",
     "text": [
      "OUTCOME_NONLINEARITY\n",
      "\t Lin r2(X_obs, Y)\n",
      "\t\tConcrete: 0.97\n",
      "\t\tSampled: 0.99\n",
      "\t Lin r2(X_true, Y)\n",
      "\t\tConcrete: 0.973\n",
      "\t\tSampled: 0.991\n",
      "TREATMENT_NONLINEARITY\n",
      "\t Lin r2(X_obs, Treat Logit)\n",
      "\t\tConcrete: 0.787\n",
      "\t\tSampled: 0.662\n",
      "\t Lin r2(X_true, Treat Logit)\n",
      "\t\tConcrete: 1.0\n",
      "\t\tSampled: 1.0\n",
      "\t Log r2(X_obs, T)\n",
      "\t\tConcrete: 0.698\n",
      "\t\tSampled: 0.598\n",
      "PERCENT_TREATED\n",
      "\t Percent(T==1)\n",
      "\t\tConcrete: 45.0\n",
      "\t\tSampled: 53.4\n",
      "BALANCE\n",
      "\t Wass dist X_true: T=1<->T=0\n",
      "\t\tConcrete: 0.048\n",
      "\t\tSampled: 0.045\n",
      "ALIGNMENT\n",
      "\t Lin r2(Y, Treat Logit)\n",
      "\t\tConcrete: 0.032\n",
      "\t\tSampled: 0.049\n",
      "\t Lin r2(Y0, Treat Logit)\n",
      "\t\tConcrete: 0.006\n",
      "\t\tSampled: 0.062\n",
      "TE_HETEROGENEITY\n",
      "\t std(TE)/std(Y)\n",
      "\t\tConcrete: 0.0\n",
      "\t\tSampled: 0.0\n"
     ]
    }
   ],
   "source": [
    "for axes, metrics in DATA_METRICS_SPEC.items():\n",
    "    print(axes)\n",
    "    for metric in metrics:\n",
    "        print(\"\\t\", metric)\n",
    "        \n",
    "        key = f\"{axes} {metric}\"\n",
    "        print(\"\\t\\tConcrete:\", np.round(concrete_data_agg[key], 3))\n",
    "        print(\"\\t\\tSampled:\", np.round(sampled_data_agg[key], 3))"
   ]
  },
  {
   "cell_type": "code",
   "execution_count": 8,
   "metadata": {},
   "outputs": [
    {
     "name": "stdout",
     "output_type": "stream",
     "text": [
      "TREATMENT_NONLINEARITY Log r2(X_obs, T) [0.598]\n",
      "TREATMENT_NONLINEARITY Lin r2(X_obs, Treat Logit) [0.662]\n",
      "TREATMENT_NONLINEARITY Lin r2(X_true, Treat Logit) [1.0]\n"
     ]
    }
   ],
   "source": [
    "for name, vals in sampled_data_raw.items():\n",
    "    if name.startswith(\"TREATMENT_NONLINEARITY\"):\n",
    "        print(name, vals)"
   ]
  },
  {
   "cell_type": "markdown",
   "metadata": {},
   "source": [
    "## Performance Comparison\n",
    "\n",
    "Notes\n",
    "\n",
    "At config A, 20-50 matches across runs. Wide distro. Should investigate the stability of the concrete distro when n=1000.\n",
    "\n",
    "At config G, 20-50 has much lower bias in the sampled benchmark. The concrete function appears to be a worst case scenario given that very similar functions experience much lower typical bias. The distribution is right tailed and so it is possible that the concrete func chosen is just an (un)lucky sample from right tail.\n",
    "\n",
    "I will test this by permuting the variable order in the exact same functional form."
   ]
  },
  {
   "cell_type": "markdown",
   "metadata": {},
   "source": [
    "### Concrete Performance"
   ]
  },
  {
   "cell_type": "code",
   "execution_count": 9,
   "metadata": {},
   "outputs": [
    {
     "data": {
      "text/plain": [
       "{'absolute mean bias %': 7.882,\n",
       " 'absolute mean bias % (std)': 0.0,\n",
       " 'root mean squared error': 0.032,\n",
       " 'root mean squared error (std)': 0.0}"
      ]
     },
     "execution_count": 9,
     "metadata": {},
     "output_type": "execute_result"
    }
   ],
   "source": [
    "concrete_perf_agg"
   ]
  },
  {
   "cell_type": "code",
   "execution_count": 10,
   "metadata": {},
   "outputs": [
    {
     "data": {
      "image/png": "[encoded data removed]",
      "text/plain": [
       "<Figure size 432x288 with 1 Axes>"
      ]
     },
     "metadata": {
      "needs_background": "light"
     },
     "output_type": "display_data"
    }
   ],
   "source": [
    "plt.hist(concrete_perf_raw[\"absolute mean bias %\"], density=True)\n",
    "plt.show()"
   ]
  },
  {
   "cell_type": "markdown",
   "metadata": {},
   "source": [
    "### Sampled Performance"
   ]
  },
  {
   "cell_type": "code",
   "execution_count": null,
   "metadata": {},
   "outputs": [],
   "source": [
    "sampled_perf_agg"
   ]
  },
  {
   "cell_type": "code",
   "execution_count": null,
   "metadata": {},
   "outputs": [],
   "source": [
    "plt.hist(sampled_perf_raw[\"absolute mean bias %\"], density=True)\n",
    "plt.show()"
   ]
  },
  {
   "cell_type": "markdown",
   "metadata": {},
   "source": [
    "### Exploratory Analysis"
   ]
  },
  {
   "cell_type": "code",
   "execution_count": null,
   "metadata": {
    "run_control": {
     "marked": true
    }
   },
   "outputs": [],
   "source": [
    "data = np.array(sampled_perf_raw[\"absolute mean bias %\"])\n",
    "clean_data = data[data < 20]\n",
    "plt.hist(clean_data)\n",
    "plt.show()\n",
    "np.mean(clean_data)"
   ]
  },
  {
   "cell_type": "code",
   "execution_count": null,
   "metadata": {},
   "outputs": [],
   "source": [
    "plt.scatter(\n",
    "    np.array(sampled_data_raw[\"TREATMENT_NONLINEARITY Lin r2(X_obs, Treat Logit)\"])[data < 8],\n",
    "    np.array(sampled_perf_raw[\"absolute mean bias %\"])[data < 8])"
   ]
  },
  {
   "cell_type": "code",
   "execution_count": null,
   "metadata": {},
   "outputs": [],
   "source": [
    "plt.scatter(\n",
    "    np.array(sampled_data_raw[\"TREATMENT_NONLINEARITY Lin r2(X_obs, Treat Logit)\"])[data < 8],\n",
    "    np.array(sampled_perf_raw[\"absolute mean bias %\"])[data < 8],\n",
    "    c=\"b\")\n",
    "\n",
    "plt.scatter(\n",
    "    np.array(concrete_data_raw[\"TREATMENT_NONLINEARITY Lin r2(X_obs, Treat Logit)\"]),\n",
    "    np.array(concrete_perf_raw[\"absolute mean bias %\"]),\n",
    "    c=\"r\")"
   ]
  },
  {
   "cell_type": "code",
   "execution_count": null,
   "metadata": {},
   "outputs": [],
   "source": []
  }
 ],
 "metadata": {
  "kernelspec": {
   "display_name": "Python 3",
   "language": "python",
   "name": "python3"
  },
  "language_info": {
   "codemirror_mode": {
    "name": "ipython",
    "version": 3
   },
   "file_extension": ".py",
   "mimetype": "text/x-python",
   "name": "python",
   "nbconvert_exporter": "python",
   "pygments_lexer": "ipython3",
   "version": "3.7.3"
  },
  "varInspector": {
   "cols": {
    "lenName": 16,
    "lenType": 16,
    "lenVar": 40
   },
   "kernels_config": {
    "python": {
     "delete_cmd_postfix": "",
     "delete_cmd_prefix": "del ",
     "library": "var_list.py",
     "varRefreshCmd": "print(var_dic_list())"
    },
    "r": {
     "delete_cmd_postfix": ") ",
     "delete_cmd_prefix": "rm(",
     "library": "var_list.r",
     "varRefreshCmd": "cat(var_dic_list()) "
    }
   },
   "types_to_exclude": [
    "module",
    "function",
    "builtin_function_or_method",
    "instance",
    "_Feature"
   ],
   "window_display": false
  }
 },
 "nbformat": 4,
 "nbformat_minor": 2
}
