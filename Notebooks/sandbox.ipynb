{
 "cells": [
  {
   "cell_type": "code",
   "execution_count": 30,
   "metadata": {},
   "outputs": [],
   "source": [
    "!pip install -e ../Maccabee > /dev/null"
   ]
  },
  {
   "cell_type": "markdown",
   "metadata": {},
   "source": [
    "\n",
    "# Normalization"
   ]
  },
  {
   "cell_type": "code",
   "execution_count": 28,
   "metadata": {},
   "outputs": [
    {
     "data": {
      "text/plain": [
       "(3.0068414180308376, 6.013682836061675)"
      ]
     },
     "execution_count": 28,
     "metadata": {},
     "output_type": "execute_result"
    },
    {
     "data": {
      "image/png": "[encoded data removed]",
      "text/plain": [
       "<Figure size 432x288 with 1 Axes>"
      ]
     },
     "metadata": {
      "needs_background": "light"
     },
     "output_type": "display_data"
    }
   ],
   "source": [
    "import numpy as np\n",
    "import matplotlib.pyplot as plt\n",
    "data = np.random.exponential(size=1000, scale=3)\n",
    "# scaled_data = np.random.exponential(size=1000, scale=1)\n",
    "plt.hist(data)\n",
    "# plt.hist(scaled_data, label=\"scaled\")\n",
    "plt.axvline(x=np.mean(data))\n",
    "normed_data = (data-np.mean(data))/np.std(data)\n",
    "normed_data += 3\n",
    "plt.hist(normed_data, label=\"normed\")\n",
    "plt.axvline(x=np.mean(normed_data))\n",
    "plt.axvline(x=np.mean(normed_data) + 2*np.std(normed_data), c=\"r\")\n",
    "plt.axvline(x=np.mean(normed_data) - 2*np.std(normed_data), c=\"r\")\n",
    "plt.legend()\n",
    "np.std(data), np.std(data*2)"
   ]
  },
  {
   "cell_type": "code",
   "execution_count": 27,
   "metadata": {},
   "outputs": [
    {
     "data": {
      "text/plain": [
       "1.0"
      ]
     },
     "execution_count": 27,
     "metadata": {},
     "output_type": "execute_result"
    }
   ],
   "source": [
    "np.std(normed_data)"
   ]
  },
  {
   "cell_type": "code",
   "execution_count": 11,
   "metadata": {},
   "outputs": [
    {
     "data": {
      "text/plain": [
       "<module 'sys' (built-in)>"
      ]
     },
     "execution_count": 11,
     "metadata": {},
     "output_type": "execute_result"
    }
   ],
   "source": [
    "import sys\n",
    "sys.modules[\"multiprocessing\"]\n",
    "\n",
    "globals()[\"sys\"]"
   ]
  },
  {
   "cell_type": "code",
   "execution_count": 9,
   "metadata": {},
   "outputs": [
    {
     "data": {
      "text/plain": [
       "<method-wrapper '__len__' of numpy.ndarray object at 0x7fcb7d86dcb0>"
      ]
     },
     "execution_count": 9,
     "metadata": {},
     "output_type": "execute_result"
    }
   ],
   "source": [
    "a = np.empty(3)\n",
    "a.__len__"
   ]
  },
  {
   "cell_type": "code",
   "execution_count": 11,
   "metadata": {},
   "outputs": [
    {
     "data": {
      "text/plain": [
       "<method-wrapper '__len__' of list object at 0x7fcb63eee888>"
      ]
     },
     "execution_count": 11,
     "metadata": {},
     "output_type": "execute_result"
    }
   ],
   "source": [
    "[].__len__"
   ]
  },
  {
   "cell_type": "code",
   "execution_count": 12,
   "metadata": {},
   "outputs": [
    {
     "ename": "AttributeError",
     "evalue": "'A' object has no attribute '__len__'",
     "output_type": "error",
     "traceback": [
      "\u001b[0;31m---------------------------------------------------------------------------\u001b[0m",
      "\u001b[0;31mAttributeError\u001b[0m                            Traceback (most recent call last)",
      "\u001b[0;32m<ipython-input-12-6b710f298743>\u001b[0m in \u001b[0;36m<module>\u001b[0;34m\u001b[0m\n\u001b[1;32m      2\u001b[0m     \u001b[0;32mpass\u001b[0m\u001b[0;34m\u001b[0m\u001b[0;34m\u001b[0m\u001b[0m\n\u001b[1;32m      3\u001b[0m \u001b[0;34m\u001b[0m\u001b[0m\n\u001b[0;32m----> 4\u001b[0;31m \u001b[0mA\u001b[0m\u001b[0;34m(\u001b[0m\u001b[0;34m)\u001b[0m\u001b[0;34m.\u001b[0m\u001b[0m__len__\u001b[0m\u001b[0;34m\u001b[0m\u001b[0;34m\u001b[0m\u001b[0m\n\u001b[0m",
      "\u001b[0;31mAttributeError\u001b[0m: 'A' object has no attribute '__len__'"
     ]
    }
   ],
   "source": [
    "class A():\n",
    "    pass\n",
    "\n",
    "A().__len__"
   ]
  },
  {
   "cell_type": "code",
   "execution_count": 100,
   "metadata": {},
   "outputs": [],
   "source": [
    "def select_objects_given_probability(objects_to_sample, selection_probability):\n",
    "    \"\"\"Samples objects from `objects_to_sample` based on `selection_probability`.\n",
    "\n",
    "    Args:\n",
    "        objects_to_sample (list): List of objects to sample.\n",
    "        selection_probability (list or float): The probability with which to sample objects from `objects_to_sample`. The value or values supplied should be between 0 and 1. If a list is supplied, it should be the same length as the list in `objects_to_sample` and will be the per-object selection probability. If float, then this is the selection probability for all objects. ``int(len(objects_to_sample)*selection_probability)`` objects will be sampled if this value is greater than 0. Otherwise the probability will be the selection probability for each item.\n",
    "\n",
    "    Returns:\n",
    "        :class:`numpy.ndarray`: An array of the selected objects.\n",
    "\n",
    "    Examples\n",
    "        >>> select_objects_given_probability([\"a\", \"b\", \"c\"], [0.5, 0.1, 0.001])\n",
    "        [\"a\"]\n",
    "\n",
    "        >>> select_objects_given_probability([\"a\", \"b\", \"c\"], 0.1)\n",
    "        [\"a\"]\n",
    "    \"\"\"\n",
    "\n",
    "    objects_to_sample = np.array(objects_to_sample)\n",
    "    shape = objects_to_sample.shape\n",
    "    assert(len(shape) == 1 or shape[1] == 1)\n",
    "\n",
    "    objects_to_sample = objects_to_sample.flatten()\n",
    "    n_objects = len(objects_to_sample)\n",
    "\n",
    "    if hasattr(selection_probability, \"__len__\"):\n",
    "        selections = np.random.uniform(size=n_objects) < selection_probability\n",
    "    else:\n",
    "        expected_num_to_select = int(n_objects*selection_probability)\n",
    "\n",
    "        # If expected number is less than 1, fall back to per object sampling.\n",
    "        if expected_num_to_select == 0:\n",
    "            return select_objects_given_probability(\n",
    "                objects_to_sample,\n",
    "                np.full(n_objects, selection_probability))\n",
    "\n",
    "        # else, proceed to select expected number.\n",
    "        selections = np.random.choice(np.arange(len(objects_to_sample)),\n",
    "            size=expected_num_to_select, replace=False)\n",
    "\n",
    "    selected = objects_to_sample[selections]\n",
    "\n",
    "    if len(shape) != 1:\n",
    "        selected = selected.reshape((-1, 1))\n",
    "\n",
    "    return selected"
   ]
  },
  {
   "cell_type": "code",
   "execution_count": 103,
   "metadata": {},
   "outputs": [
    {
     "data": {
      "text/plain": [
       "array([1, 2, 3, 4, 8, 9])"
      ]
     },
     "execution_count": 103,
     "metadata": {},
     "output_type": "execute_result"
    }
   ],
   "source": [
    "select_objects_given_probability(np.arange(11), np.random.random(11))"
   ]
  },
  {
   "cell_type": "code",
   "execution_count": 174,
   "metadata": {},
   "outputs": [
    {
     "data": {
      "text/plain": [
       "array([], dtype=int64)"
      ]
     },
     "execution_count": 174,
     "metadata": {},
     "output_type": "execute_result"
    }
   ],
   "source": [
    "select_objects_given_probability(np.arange(11), 0.05)"
   ]
  },
  {
   "cell_type": "code",
   "execution_count": 7,
   "metadata": {},
   "outputs": [],
   "source": [
    "from sympy.abc import x, y\n",
    "from sympy.utilities.autowrap import autowrap, binary_function, ufuncify, CodeWrapper\n",
    "import pickle\n",
    "import importlib"
   ]
  },
  {
   "cell_type": "code",
   "execution_count": 8,
   "metadata": {},
   "outputs": [],
   "source": [
    "# cc = ufuncify(list(expr.free_symbols), expr)\n",
    "# cc = autowrap(expr, args=list(expr.free_symbols))"
   ]
  },
  {
   "cell_type": "code",
   "execution_count": 14,
   "metadata": {},
   "outputs": [],
   "source": [
    "expr = x * y + 1\n",
    "mod_name = f\"mod_{abs(hash(expr))}_{CodeWrapper._module_counter}\"\n",
    "CodeWrapper.module_name = mod_name\n",
    "cc = ufuncify(list(expr.free_symbols), expr, tempdir=\"./c_code\")\n",
    "\n",
    "# mod = importlib.import_module(mod_name)\n",
    "# dir(mod)\n",
    "# func_name = next(filter(lambda x: x.startswith(\"wrapped\"), dir(mod)))\n",
    "f_data = (mod_name, \"autofunc_c\")"
   ]
  },
  {
   "cell_type": "code",
   "execution_count": 4,
   "metadata": {},
   "outputs": [
    {
     "data": {
      "text/plain": [
       "9184891"
      ]
     },
     "execution_count": 4,
     "metadata": {},
     "output_type": "execute_result"
    }
   ],
   "source": [
    "import numpy as np\n",
    "np.random.randint(1e7)"
   ]
  },
  {
   "cell_type": "code",
   "execution_count": 16,
   "metadata": {},
   "outputs": [
    {
     "data": {
      "text/plain": [
       "('mod_6206980849027394656_1', 'autofunc_c')"
      ]
     },
     "execution_count": 16,
     "metadata": {},
     "output_type": "execute_result"
    }
   ],
   "source": [
    "f_data"
   ]
  },
  {
   "cell_type": "code",
   "execution_count": 6,
   "metadata": {},
   "outputs": [
    {
     "data": {
      "text/plain": [
       "array([ 7., 21., 41.])"
      ]
     },
     "execution_count": 6,
     "metadata": {},
     "output_type": "execute_result"
    }
   ],
   "source": [
    "f_data = ('mod_1453896700186991053_0', 'autofunc_c')\n",
    "mod = importlib.import_module(f_data[0])\n",
    "func = getattr(mod, f_data[1])\n",
    "func(np.array([2, 4, 5], dtype=\"float\"), np.array([3, 5, 8], dtype=\"float\"))"
   ]
  },
  {
   "cell_type": "code",
   "execution_count": 7,
   "metadata": {},
   "outputs": [],
   "source": [
    "def compiler(expression):\n",
    "    \n",
    "    expression_val = None\n",
    "\n",
    "    free_symbols = getattr(expression, \"free_symbols\", None)\n",
    "\n",
    "    if free_symbols is not None:\n",
    "        expr_func_ordered_symbols = list(free_symbols)\n",
    "\n",
    "        mod_name = f\"mod_{abs(hash(expression))}_{CodeWrapper._module_counter}\"\n",
    "        CodeWrapper.module_name = mod_name\n",
    "        compiled_func = ufuncify(expr_func_ordered_symbols, expression)\n",
    "\n",
    "        mod = importlib.import_module(mod_name)\n",
    "        func_name = next(filter(lambda x: x.startswith(\"wrapped\"), dir(mod)))\n",
    "\n",
    "        expr_data = (mod_name, func_name)\n",
    "        expression_args = [str(symbol) for symbol in expr_func_ordered_symbols]\n",
    "    else:\n",
    "        # No free symbols, return expression itself.\n",
    "        self.expression_val = expression\n"
   ]
  },
  {
   "cell_type": "code",
   "execution_count": 11,
   "metadata": {},
   "outputs": [
    {
     "ename": "KeyError",
     "evalue": "{1, 2}",
     "output_type": "error",
     "traceback": [
      "\u001b[0;31m---------------------------------------------------------------------------\u001b[0m",
      "\u001b[0;31mKeyError\u001b[0m                                  Traceback (most recent call last)",
      "\u001b[0;32m<ipython-input-11-26a3bb891651>\u001b[0m in \u001b[0;36m<module>\u001b[0;34m\u001b[0m\n\u001b[0;32m----> 1\u001b[0;31m \u001b[0;34m{\u001b[0m\u001b[0;36m1\u001b[0m\u001b[0;34m,\u001b[0m \u001b[0;36m2\u001b[0m\u001b[0;34m,\u001b[0m \u001b[0;36m3\u001b[0m\u001b[0;34m}\u001b[0m\u001b[0;34m.\u001b[0m\u001b[0mremove\u001b[0m\u001b[0;34m(\u001b[0m\u001b[0;34m{\u001b[0m\u001b[0;36m1\u001b[0m\u001b[0;34m,\u001b[0m \u001b[0;36m2\u001b[0m\u001b[0;34m}\u001b[0m\u001b[0;34m)\u001b[0m\u001b[0;34m\u001b[0m\u001b[0;34m\u001b[0m\u001b[0m\n\u001b[0m",
      "\u001b[0;31mKeyError\u001b[0m: {1, 2}"
     ]
    }
   ],
   "source": [
    "{1, 2, 3}.remove({1, 2})"
   ]
  },
  {
   "cell_type": "code",
   "execution_count": 17,
   "metadata": {},
   "outputs": [
    {
     "data": {
      "text/plain": [
       "<module 'mod_4694703022551149035_1' from '/tmp/tmp9u_5jtly_sympy_compile/mod_4694703022551149035_1.cpython-37m-x86_64-linux-gnu.so'>"
      ]
     },
     "execution_count": 17,
     "metadata": {},
     "output_type": "execute_result"
    }
   ],
   "source": [
    "import sys\n",
    "list(filter(lambda x: x.startswith(\"mod_\"), sys.modules.keys()))\n",
    "mod = importlib.import_module(\"mod_4694703022551149035_1\")\n",
    "mod"
   ]
  },
  {
   "cell_type": "code",
   "execution_count": 19,
   "metadata": {},
   "outputs": [
    {
     "data": {
      "text/plain": [
       "['_RELOADING',\n",
       " '__all__',\n",
       " '__builtins__',\n",
       " '__cached__',\n",
       " '__doc__',\n",
       " '__file__',\n",
       " '__import__',\n",
       " '__loader__',\n",
       " '__name__',\n",
       " '__package__',\n",
       " '__path__',\n",
       " '__spec__',\n",
       " '_bootstrap',\n",
       " '_bootstrap_external',\n",
       " '_imp',\n",
       " '_r_long',\n",
       " '_w_long',\n",
       " 'abc',\n",
       " 'find_loader',\n",
       " 'import_module',\n",
       " 'invalidate_caches',\n",
       " 'machinery',\n",
       " 'reload',\n",
       " 'sys',\n",
       " 'types',\n",
       " 'util',\n",
       " 'warnings']"
      ]
     },
     "execution_count": 19,
     "metadata": {},
     "output_type": "execute_result"
    }
   ],
   "source": [
    "dir(importlib)"
   ]
  },
  {
   "cell_type": "code",
   "execution_count": 11,
   "metadata": {},
   "outputs": [
    {
     "ename": "ModuleNotFoundError",
     "evalue": "No module named 'wrapper_module_1'",
     "output_type": "error",
     "traceback": [
      "\u001b[0;31m---------------------------------------------------------------------------\u001b[0m",
      "\u001b[0;31mModuleNotFoundError\u001b[0m                       Traceback (most recent call last)",
      "\u001b[0;32m<ipython-input-11-b2ac10ea8c9b>\u001b[0m in \u001b[0;36m<module>\u001b[0;34m\u001b[0m\n\u001b[0;32m----> 1\u001b[0;31m \u001b[0;32mimport\u001b[0m \u001b[0mwrapper_module_1\u001b[0m\u001b[0;34m\u001b[0m\u001b[0;34m\u001b[0m\u001b[0m\n\u001b[0m\u001b[1;32m      2\u001b[0m \u001b[0mwrapper_module_1\u001b[0m\u001b[0;34m.\u001b[0m\u001b[0mautofunc_c\u001b[0m\u001b[0;34m(\u001b[0m\u001b[0;36m1\u001b[0m\u001b[0;34m,\u001b[0m \u001b[0;36m2\u001b[0m\u001b[0;34m)\u001b[0m\u001b[0;34m\u001b[0m\u001b[0;34m\u001b[0m\u001b[0m\n",
      "\u001b[0;31mModuleNotFoundError\u001b[0m: No module named 'wrapper_module_1'"
     ]
    }
   ],
   "source": [
    "import wrapper_module_1\n",
    "wrapper_module_1.autofunc_c(1, 2)"
   ]
  },
  {
   "cell_type": "code",
   "execution_count": null,
   "metadata": {},
   "outputs": [],
   "source": [
    "class A:\n",
    "    pass\n",
    "\n",
    "a = A()\n",
    "isinstance(a, A)"
   ]
  },
  {
   "cell_type": "code",
   "execution_count": 15,
   "metadata": {},
   "outputs": [
    {
     "name": "stdout",
     "output_type": "stream",
     "text": [
      "build\t\t\t\t\t\t\t   setup.py\r\n",
      "mod_4694703022551149035_6.c\t\t\t\t   wrapped_code_0.c\r\n",
      "mod_4694703022551149035_6.cpython-37m-x86_64-linux-gnu.so  wrapped_code_0.h\r\n",
      "mod_6206980849027394656_0.c\t\t\t\t   wrapped_code_1.c\r\n",
      "mod_6206980849027394656_0.cpython-37m-x86_64-linux-gnu.so  wrapped_code_1.h\r\n",
      "mod_6206980849027394656_1.c\t\t\t\t   wrapped_code_6.c\r\n",
      "mod_6206980849027394656_1.cpython-37m-x86_64-linux-gnu.so  wrapped_code_6.h\r\n"
     ]
    }
   ],
   "source": [
    "!ls c_code"
   ]
  },
  {
   "cell_type": "code",
   "execution_count": null,
   "metadata": {},
   "outputs": [],
   "source": [
    "import importlib.util\n",
    "spec = importlib.util.spec_from_file_location(\"mod_6206980849027394656_1\", \"./c_code/mod_6206980849027394656_1.cpython-37m-x86_64-linux-gnu.so\")\n",
    "foo = importlib.util.module_from_spec(spec)\n",
    "spec.loader.exec_module(foo)\n",
    "dir(foo)"
   ]
  },
  {
   "cell_type": "code",
   "execution_count": 1,
   "metadata": {},
   "outputs": [
    {
     "data": {
      "text/plain": [
       "<module 'mod_6206980849027394656_1' from './c_code/mod_6206980849027394656_1.cpython-37m-x86_64-linux-gnu.so'>"
      ]
     },
     "execution_count": 1,
     "metadata": {},
     "output_type": "execute_result"
    }
   ],
   "source": [
    "import sys\n",
    "sys.path.append('./c_code')\n",
    "import mod_6206980849027394656_1\n",
    "mod_6206980849027394656_1"
   ]
  },
  {
   "cell_type": "code",
   "execution_count": 3,
   "metadata": {},
   "outputs": [],
   "source": [
    "class A:\n",
    "    def __init__(self, a, b):\n",
    "        (self.a, self.b) = (a, b)"
   ]
  },
  {
   "cell_type": "code",
   "execution_count": 7,
   "metadata": {},
   "outputs": [
    {
     "data": {
      "text/plain": [
       "3"
      ]
     },
     "execution_count": 7,
     "metadata": {},
     "output_type": "execute_result"
    }
   ],
   "source": [
    "a = A(3, 2)\n",
    "a.a"
   ]
  },
  {
   "cell_type": "code",
   "execution_count": 8,
   "metadata": {},
   "outputs": [],
   "source": [
    "from multiprocessing import Pool\n",
    "import time\n",
    "def test(i):\n",
    "    time.sleep(np.random.randint(1, 4))\n",
    "    return i\n",
    "with Pool(processes=8) as pool:\n",
    "    res = pool.map(test, range(10))\n"
   ]
  },
  {
   "cell_type": "code",
   "execution_count": 9,
   "metadata": {},
   "outputs": [
    {
     "data": {
      "text/plain": [
       "[0, 1, 2, 3, 4, 5, 6, 7, 8, 9]"
      ]
     },
     "execution_count": 9,
     "metadata": {},
     "output_type": "execute_result"
    }
   ],
   "source": [
    "res"
   ]
  },
  {
   "cell_type": "raw",
   "metadata": {},
   "source": []
  }
 ],
 "metadata": {
  "kernelspec": {
   "display_name": "Python 3",
   "language": "python",
   "name": "python3"
  },
  "language_info": {
   "codemirror_mode": {
    "name": "ipython",
    "version": 3
   },
   "file_extension": ".py",
   "mimetype": "text/x-python",
   "name": "python",
   "nbconvert_exporter": "python",
   "pygments_lexer": "ipython3",
   "version": "3.7.3"
  },
  "varInspector": {
   "cols": {
    "lenName": 16,
    "lenType": 16,
    "lenVar": 40
   },
   "kernels_config": {
    "python": {
     "delete_cmd_postfix": "",
     "delete_cmd_prefix": "del ",
     "library": "var_list.py",
     "varRefreshCmd": "print(var_dic_list())"
    },
    "r": {
     "delete_cmd_postfix": ") ",
     "delete_cmd_prefix": "rm(",
     "library": "var_list.r",
     "varRefreshCmd": "cat(var_dic_list()) "
    }
   },
   "types_to_exclude": [
    "module",
    "function",
    "builtin_function_or_method",
    "instance",
    "_Feature"
   ],
   "window_display": false
  }
 },
 "nbformat": 4,
 "nbformat_minor": 2
}
