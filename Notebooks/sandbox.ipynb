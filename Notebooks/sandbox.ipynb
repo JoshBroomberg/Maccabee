{
 "cells": [
  {
   "cell_type": "code",
   "execution_count": 11,
   "metadata": {},
   "outputs": [
    {
     "data": {
      "text/plain": [
       "<module 'sys' (built-in)>"
      ]
     },
     "execution_count": 11,
     "metadata": {},
     "output_type": "execute_result"
    }
   ],
   "source": [
    "import sys\n",
    "sys.modules[\"multiprocessing\"]\n",
    "\n",
    "globals()[\"sys\"]"
   ]
  },
  {
   "cell_type": "code",
   "execution_count": 6,
   "metadata": {},
   "outputs": [
    {
     "name": "stdout",
     "output_type": "stream",
     "text": [
      "Timeout\n",
      "Timeout\n",
      "Timeout\n",
      "1\n",
      "Timeout\n",
      "Timeout\n",
      "Timeout\n",
      "2\n",
      "Timeout\n",
      "Timeout\n",
      "Timeout\n",
      "3\n",
      "Timeout\n",
      "Timeout\n",
      "Timeout\n",
      "4\n",
      "Timeout\n",
      "Timeout\n",
      "Timeout\n",
      "5\n",
      "done\n"
     ]
    }
   ],
   "source": [
    "import multiprocessing as mp\n",
    "import time\n",
    "\n",
    "\n",
    "def f(x):\n",
    "    time.sleep(3)\n",
    "    return x\n",
    "\n",
    "pool = mp.Pool(processes=1, maxtasksperchild=1)\n",
    "dgp_iterator = pool.imap(f, range(1, 6))\n",
    "x = True\n",
    "while True:\n",
    "    try:\n",
    "        x = dgp_iterator.next(timeout=1)\n",
    "        print(x)\n",
    "    except StopIteration:\n",
    "        print(\"done\")\n",
    "        break\n",
    "    except mp.TimeoutError:\n",
    "        print(\"Timeout\")\n",
    "        \n",
    "    \n",
    "pool.close()\n",
    "pool.join()"
   ]
  },
  {
   "cell_type": "code",
   "execution_count": 7,
   "metadata": {},
   "outputs": [],
   "source": [
    "from sympy.abc import x, y\n",
    "from sympy.utilities.autowrap import autowrap, binary_function, ufuncify, CodeWrapper\n",
    "import pickle\n",
    "import importlib"
   ]
  },
  {
   "cell_type": "code",
   "execution_count": 8,
   "metadata": {},
   "outputs": [],
   "source": [
    "# cc = ufuncify(list(expr.free_symbols), expr)\n",
    "# cc = autowrap(expr, args=list(expr.free_symbols))"
   ]
  },
  {
   "cell_type": "code",
   "execution_count": 14,
   "metadata": {},
   "outputs": [],
   "source": [
    "expr = x * y + 1\n",
    "mod_name = f\"mod_{abs(hash(expr))}_{CodeWrapper._module_counter}\"\n",
    "CodeWrapper.module_name = mod_name\n",
    "cc = ufuncify(list(expr.free_symbols), expr, tempdir=\"./c_code\")\n",
    "\n",
    "# mod = importlib.import_module(mod_name)\n",
    "# dir(mod)\n",
    "# func_name = next(filter(lambda x: x.startswith(\"wrapped\"), dir(mod)))\n",
    "f_data = (mod_name, \"autofunc_c\")"
   ]
  },
  {
   "cell_type": "code",
   "execution_count": 4,
   "metadata": {},
   "outputs": [
    {
     "data": {
      "text/plain": [
       "9184891"
      ]
     },
     "execution_count": 4,
     "metadata": {},
     "output_type": "execute_result"
    }
   ],
   "source": [
    "import numpy as np\n",
    "np.random.randint(1e7)"
   ]
  },
  {
   "cell_type": "code",
   "execution_count": 16,
   "metadata": {},
   "outputs": [
    {
     "data": {
      "text/plain": [
       "('mod_6206980849027394656_1', 'autofunc_c')"
      ]
     },
     "execution_count": 16,
     "metadata": {},
     "output_type": "execute_result"
    }
   ],
   "source": [
    "f_data"
   ]
  },
  {
   "cell_type": "code",
   "execution_count": 6,
   "metadata": {},
   "outputs": [
    {
     "data": {
      "text/plain": [
       "array([ 7., 21., 41.])"
      ]
     },
     "execution_count": 6,
     "metadata": {},
     "output_type": "execute_result"
    }
   ],
   "source": [
    "f_data = ('mod_1453896700186991053_0', 'autofunc_c')\n",
    "mod = importlib.import_module(f_data[0])\n",
    "func = getattr(mod, f_data[1])\n",
    "func(np.array([2, 4, 5], dtype=\"float\"), np.array([3, 5, 8], dtype=\"float\"))"
   ]
  },
  {
   "cell_type": "code",
   "execution_count": 7,
   "metadata": {},
   "outputs": [],
   "source": [
    "def compiler(expression):\n",
    "    \n",
    "    expression_val = None\n",
    "\n",
    "    free_symbols = getattr(expression, \"free_symbols\", None)\n",
    "\n",
    "    if free_symbols is not None:\n",
    "        expr_func_ordered_symbols = list(free_symbols)\n",
    "\n",
    "        mod_name = f\"mod_{abs(hash(expression))}_{CodeWrapper._module_counter}\"\n",
    "        CodeWrapper.module_name = mod_name\n",
    "        compiled_func = ufuncify(expr_func_ordered_symbols, expression)\n",
    "\n",
    "        mod = importlib.import_module(mod_name)\n",
    "        func_name = next(filter(lambda x: x.startswith(\"wrapped\"), dir(mod)))\n",
    "\n",
    "        expr_data = (mod_name, func_name)\n",
    "        expression_args = [str(symbol) for symbol in expr_func_ordered_symbols]\n",
    "    else:\n",
    "        # No free symbols, return expression itself.\n",
    "        self.expression_val = expression\n"
   ]
  },
  {
   "cell_type": "code",
   "execution_count": 8,
   "metadata": {},
   "outputs": [],
   "source": [
    "compiler(expr)"
   ]
  },
  {
   "cell_type": "code",
   "execution_count": 17,
   "metadata": {},
   "outputs": [
    {
     "data": {
      "text/plain": [
       "<module 'mod_4694703022551149035_1' from '/tmp/tmp9u_5jtly_sympy_compile/mod_4694703022551149035_1.cpython-37m-x86_64-linux-gnu.so'>"
      ]
     },
     "execution_count": 17,
     "metadata": {},
     "output_type": "execute_result"
    }
   ],
   "source": [
    "import sys\n",
    "list(filter(lambda x: x.startswith(\"mod_\"), sys.modules.keys()))\n",
    "mod = importlib.import_module(\"mod_4694703022551149035_1\")\n",
    "mod"
   ]
  },
  {
   "cell_type": "code",
   "execution_count": 19,
   "metadata": {},
   "outputs": [
    {
     "data": {
      "text/plain": [
       "['_RELOADING',\n",
       " '__all__',\n",
       " '__builtins__',\n",
       " '__cached__',\n",
       " '__doc__',\n",
       " '__file__',\n",
       " '__import__',\n",
       " '__loader__',\n",
       " '__name__',\n",
       " '__package__',\n",
       " '__path__',\n",
       " '__spec__',\n",
       " '_bootstrap',\n",
       " '_bootstrap_external',\n",
       " '_imp',\n",
       " '_r_long',\n",
       " '_w_long',\n",
       " 'abc',\n",
       " 'find_loader',\n",
       " 'import_module',\n",
       " 'invalidate_caches',\n",
       " 'machinery',\n",
       " 'reload',\n",
       " 'sys',\n",
       " 'types',\n",
       " 'util',\n",
       " 'warnings']"
      ]
     },
     "execution_count": 19,
     "metadata": {},
     "output_type": "execute_result"
    }
   ],
   "source": [
    "dir(importlib)"
   ]
  },
  {
   "cell_type": "code",
   "execution_count": 11,
   "metadata": {},
   "outputs": [
    {
     "ename": "ModuleNotFoundError",
     "evalue": "No module named 'wrapper_module_1'",
     "output_type": "error",
     "traceback": [
      "\u001b[0;31m---------------------------------------------------------------------------\u001b[0m",
      "\u001b[0;31mModuleNotFoundError\u001b[0m                       Traceback (most recent call last)",
      "\u001b[0;32m<ipython-input-11-b2ac10ea8c9b>\u001b[0m in \u001b[0;36m<module>\u001b[0;34m\u001b[0m\n\u001b[0;32m----> 1\u001b[0;31m \u001b[0;32mimport\u001b[0m \u001b[0mwrapper_module_1\u001b[0m\u001b[0;34m\u001b[0m\u001b[0;34m\u001b[0m\u001b[0m\n\u001b[0m\u001b[1;32m      2\u001b[0m \u001b[0mwrapper_module_1\u001b[0m\u001b[0;34m.\u001b[0m\u001b[0mautofunc_c\u001b[0m\u001b[0;34m(\u001b[0m\u001b[0;36m1\u001b[0m\u001b[0;34m,\u001b[0m \u001b[0;36m2\u001b[0m\u001b[0;34m)\u001b[0m\u001b[0;34m\u001b[0m\u001b[0;34m\u001b[0m\u001b[0m\n",
      "\u001b[0;31mModuleNotFoundError\u001b[0m: No module named 'wrapper_module_1'"
     ]
    }
   ],
   "source": [
    "import wrapper_module_1\n",
    "wrapper_module_1.autofunc_c(1, 2)"
   ]
  },
  {
   "cell_type": "code",
   "execution_count": null,
   "metadata": {},
   "outputs": [],
   "source": [
    "class A:\n",
    "    pass\n",
    "\n",
    "a = A()\n",
    "isinstance(a, A)"
   ]
  },
  {
   "cell_type": "code",
   "execution_count": 15,
   "metadata": {},
   "outputs": [
    {
     "name": "stdout",
     "output_type": "stream",
     "text": [
      "build\t\t\t\t\t\t\t   setup.py\r\n",
      "mod_4694703022551149035_6.c\t\t\t\t   wrapped_code_0.c\r\n",
      "mod_4694703022551149035_6.cpython-37m-x86_64-linux-gnu.so  wrapped_code_0.h\r\n",
      "mod_6206980849027394656_0.c\t\t\t\t   wrapped_code_1.c\r\n",
      "mod_6206980849027394656_0.cpython-37m-x86_64-linux-gnu.so  wrapped_code_1.h\r\n",
      "mod_6206980849027394656_1.c\t\t\t\t   wrapped_code_6.c\r\n",
      "mod_6206980849027394656_1.cpython-37m-x86_64-linux-gnu.so  wrapped_code_6.h\r\n"
     ]
    }
   ],
   "source": [
    "!ls c_code"
   ]
  },
  {
   "cell_type": "code",
   "execution_count": null,
   "metadata": {},
   "outputs": [],
   "source": [
    "import importlib.util\n",
    "spec = importlib.util.spec_from_file_location(\"mod_6206980849027394656_1\", \"./c_code/mod_6206980849027394656_1.cpython-37m-x86_64-linux-gnu.so\")\n",
    "foo = importlib.util.module_from_spec(spec)\n",
    "spec.loader.exec_module(foo)\n",
    "dir(foo)"
   ]
  },
  {
   "cell_type": "code",
   "execution_count": 1,
   "metadata": {},
   "outputs": [
    {
     "data": {
      "text/plain": [
       "<module 'mod_6206980849027394656_1' from './c_code/mod_6206980849027394656_1.cpython-37m-x86_64-linux-gnu.so'>"
      ]
     },
     "execution_count": 1,
     "metadata": {},
     "output_type": "execute_result"
    }
   ],
   "source": [
    "import sys\n",
    "sys.path.append('./c_code')\n",
    "import mod_6206980849027394656_1\n",
    "mod_6206980849027394656_1"
   ]
  },
  {
   "cell_type": "code",
   "execution_count": 3,
   "metadata": {},
   "outputs": [],
   "source": [
    "class A:\n",
    "    def __init__(self, a, b):\n",
    "        (self.a, self.b) = (a, b)"
   ]
  },
  {
   "cell_type": "code",
   "execution_count": 7,
   "metadata": {},
   "outputs": [
    {
     "data": {
      "text/plain": [
       "3"
      ]
     },
     "execution_count": 7,
     "metadata": {},
     "output_type": "execute_result"
    }
   ],
   "source": [
    "a = A(3, 2)\n",
    "a.a"
   ]
  }
 ],
 "metadata": {
  "kernelspec": {
   "display_name": "Python 3",
   "language": "python",
   "name": "python3"
  },
  "language_info": {
   "codemirror_mode": {
    "name": "ipython",
    "version": 3
   },
   "file_extension": ".py",
   "mimetype": "text/x-python",
   "name": "python",
   "nbconvert_exporter": "python",
   "pygments_lexer": "ipython3",
   "version": "3.7.3"
  },
  "varInspector": {
   "cols": {
    "lenName": 16,
    "lenType": 16,
    "lenVar": 40
   },
   "kernels_config": {
    "python": {
     "delete_cmd_postfix": "",
     "delete_cmd_prefix": "del ",
     "library": "var_list.py",
     "varRefreshCmd": "print(var_dic_list())"
    },
    "r": {
     "delete_cmd_postfix": ") ",
     "delete_cmd_prefix": "rm(",
     "library": "var_list.r",
     "varRefreshCmd": "cat(var_dic_list()) "
    }
   },
   "types_to_exclude": [
    "module",
    "function",
    "builtin_function_or_method",
    "instance",
    "_Feature"
   ],
   "window_display": false
  }
 },
 "nbformat": 4,
 "nbformat_minor": 2
}
