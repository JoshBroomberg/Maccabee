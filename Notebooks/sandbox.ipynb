{
 "cells": [
  {
   "cell_type": "code",
   "execution_count": 1,
   "metadata": {},
   "outputs": [],
   "source": [
    "%load_ext autoreload\n",
    "%autoreload 2"
   ]
  },
  {
   "cell_type": "code",
   "execution_count": 2,
   "metadata": {},
   "outputs": [],
   "source": [
    "from maccabee.constants import Constants"
   ]
  },
  {
   "cell_type": "code",
   "execution_count": 3,
   "metadata": {},
   "outputs": [
    {
     "name": "stdout",
     "output_type": "stream",
     "text": [
      "{ 'ALIGNMENT': 'ALIGNMENT',\n",
      "  'BALANCE': 'BALANCE',\n",
      "  'OUTCOME_NONLINEARITY': 'OUTCOME_NONLINEARITY',\n",
      "  'OVERLAP': 'OVERLAP',\n",
      "  'PERCENT_TREATED': 'PERCENT_TREATED',\n",
      "  'TE_HETEROGENEITY': 'TE_HETEROGENEITY',\n",
      "  'TREATMENT_NONLINEARITY': 'TREATMENT_NONLINEARITY'}\n"
     ]
    }
   ],
   "source": [
    "_ = Constants.AxisNames.all()"
   ]
  },
  {
   "cell_type": "code",
   "execution_count": 6,
   "metadata": {},
   "outputs": [],
   "source": [
    "class CausalModel():\n",
    "    def __init__(self, dataset):\n",
    "        self.dataset = dataset\n",
    "\n",
    "    def fit(self):\n",
    "        raise NotImplementedError\n",
    "\n",
    "    def estimate_ITE(self):\n",
    "        return 1\n",
    "\n",
    "    def estimate_ATE(self):\n",
    "        raise NotImplementedError\n",
    "\n",
    "    def estimate(self, estimand, *args, **kwargs):\n",
    "        if estimand == 'ATE':\n",
    "            return self.estimate_ATE(*args, **kwargs)\n",
    "        elif estimand == \"ITE\":\n",
    "            return self.estimate_ITE(*args, **kwargs)\n",
    "        else:\n",
    "            raise UnknownEstimandException()"
   ]
  },
  {
   "cell_type": "code",
   "execution_count": 9,
   "metadata": {},
   "outputs": [
    {
     "data": {
      "text/plain": [
       "True"
      ]
     },
     "execution_count": 9,
     "metadata": {},
     "output_type": "execute_result"
    }
   ],
   "source": [
    "c = CausalModel(1)\n",
    "c.estimate(\"ITE\")\n",
    "hasattr(c, \"estimate_ATE\")"
   ]
  }
 ],
 "metadata": {
  "kernelspec": {
   "display_name": "Python 3",
   "language": "python",
   "name": "python3"
  },
  "language_info": {
   "codemirror_mode": {
    "name": "ipython",
    "version": 3
   },
   "file_extension": ".py",
   "mimetype": "text/x-python",
   "name": "python",
   "nbconvert_exporter": "python",
   "pygments_lexer": "ipython3",
   "version": "3.7.3"
  },
  "varInspector": {
   "cols": {
    "lenName": 16,
    "lenType": 16,
    "lenVar": 40
   },
   "kernels_config": {
    "python": {
     "delete_cmd_postfix": "",
     "delete_cmd_prefix": "del ",
     "library": "var_list.py",
     "varRefreshCmd": "print(var_dic_list())"
    },
    "r": {
     "delete_cmd_postfix": ") ",
     "delete_cmd_prefix": "rm(",
     "library": "var_list.r",
     "varRefreshCmd": "cat(var_dic_list()) "
    }
   },
   "types_to_exclude": [
    "module",
    "function",
    "builtin_function_or_method",
    "instance",
    "_Feature"
   ],
   "window_display": false
  }
 },
 "nbformat": 4,
 "nbformat_minor": 2
}
