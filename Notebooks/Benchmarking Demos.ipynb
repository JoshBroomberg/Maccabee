{
 "cells": [
  {
   "cell_type": "code",
   "execution_count": 2,
   "metadata": {
    "scrolled": true
   },
   "outputs": [
    {
     "name": "stdout",
     "output_type": "stream",
     "text": [
      "Obtaining file:///home/jovyan/work/Maccabee\n",
      "Requirement already satisfied: numpy in /opt/conda/lib/python3.7/site-packages (from maccabee==0.0.12) (1.17.3)\n",
      "Requirement already satisfied: pandas in /opt/conda/lib/python3.7/site-packages (from maccabee==0.0.12) (0.25.3)\n",
      "Requirement already satisfied: scipy in /opt/conda/lib/python3.7/site-packages (from maccabee==0.0.12) (1.3.2)\n",
      "Requirement already satisfied: sympy in /opt/conda/lib/python3.7/site-packages (from maccabee==0.0.12) (1.4)\n",
      "Requirement already satisfied: POT in /opt/conda/lib/python3.7/site-packages (from maccabee==0.0.12) (0.6.0)\n",
      "Requirement already satisfied: pyyaml in /opt/conda/lib/python3.7/site-packages (from maccabee==0.0.12) (5.1.2)\n",
      "Requirement already satisfied: python-dateutil>=2.6.1 in /opt/conda/lib/python3.7/site-packages (from pandas->maccabee==0.0.12) (2.8.1)\n",
      "Requirement already satisfied: pytz>=2017.2 in /opt/conda/lib/python3.7/site-packages (from pandas->maccabee==0.0.12) (2019.3)\n",
      "Requirement already satisfied: mpmath>=0.19 in /opt/conda/lib/python3.7/site-packages (from sympy->maccabee==0.0.12) (1.1.0)\n",
      "Requirement already satisfied: cython in /opt/conda/lib/python3.7/site-packages (from POT->maccabee==0.0.12) (0.29.14)\n",
      "Requirement already satisfied: six>=1.5 in /opt/conda/lib/python3.7/site-packages (from python-dateutil>=2.6.1->pandas->maccabee==0.0.12) (1.13.0)\n",
      "Installing collected packages: maccabee\n",
      "  Found existing installation: maccabee 0.0.12\n",
      "    Uninstalling maccabee-0.0.12:\n",
      "      Successfully uninstalled maccabee-0.0.12\n",
      "  Running setup.py develop for maccabee\n",
      "Successfully installed maccabee\n"
     ]
    }
   ],
   "source": [
    "!pip install -e ../Maccabee"
   ]
  },
  {
   "cell_type": "code",
   "execution_count": 1,
   "metadata": {},
   "outputs": [],
   "source": [
    "from maccabee.data_generation import DataGeneratingProcess, data_generating_method"
   ]
  },
  {
   "cell_type": "code",
   "execution_count": 2,
   "metadata": {},
   "outputs": [
    {
     "name": "stdout",
     "output_type": "stream",
     "text": [
      "WARNING: Not monitoring node memory since `psutil` is not installed. Install this with `pip install psutil` (or ray[debug]) to enable debugging of memory-related crashes.\n"
     ]
    }
   ],
   "source": [
    "from maccabee.parameters import build_parameters_from_axis_levels\n",
    "from maccabee.constants import Constants\n",
    "import maccabee.data_sources as data_sources\n",
    "from maccabee.data_generation import DataGeneratingProcessSampler\n",
    "from maccabee.modeling.models import LinearRegressionCausalModel\n",
    "from maccabee.benchmarking import run_sampled_dgp_benchmark, run_concrete_dgp_benchmark\n",
    "from maccabee.utilities import evaluate_expression"
   ]
  },
  {
   "cell_type": "code",
   "execution_count": 3,
   "metadata": {},
   "outputs": [],
   "source": [
    "import pandas as pd\n",
    "import sympy as sp"
   ]
  },
  {
   "cell_type": "markdown",
   "metadata": {},
   "source": [
    "## Sampled DGP"
   ]
  },
  {
   "cell_type": "code",
   "execution_count": 4,
   "metadata": {},
   "outputs": [],
   "source": [
    "covar_data_source = data_sources.build_random_normal_datasource(\n",
    "    n_covars = 10, n_observations=2000)\n",
    "\n",
    "dgp_params = build_parameters_from_axis_levels({\n",
    "    Constants.AxisNames.OUTCOME_NONLINEARITY: Constants.AxisLevels.LOW,\n",
    "    Constants.AxisNames.TREATMENT_NONLINEARITY: Constants.AxisLevels.LOW,\n",
    "})\n",
    "\n",
    "dgp_sampler = DataGeneratingProcessSampler(\n",
    "    parameters=dgp_params,\n",
    "    data_source=covar_data_source,\n",
    "    dgp_kwargs={\"data_analysis_mode\": False})\n",
    "\n",
    "dgp = dgp_sampler.sample_dgp()\n",
    "dataset = dgp.generate_dataset()"
   ]
  },
  {
   "cell_type": "code",
   "execution_count": 5,
   "metadata": {},
   "outputs": [
    {
     "data": {
      "text/html": [
       "<div>\n",
       "<style scoped>\n",
       "    .dataframe tbody tr th:only-of-type {\n",
       "        vertical-align: middle;\n",
       "    }\n",
       "\n",
       "    .dataframe tbody tr th {\n",
       "        vertical-align: top;\n",
       "    }\n",
       "\n",
       "    .dataframe thead th {\n",
       "        text-align: right;\n",
       "    }\n",
       "</style>\n",
       "<table border=\"1\" class=\"dataframe\">\n",
       "  <thead>\n",
       "    <tr style=\"text-align: right;\">\n",
       "      <th></th>\n",
       "      <th>X0</th>\n",
       "      <th>X1</th>\n",
       "      <th>X2</th>\n",
       "      <th>X3</th>\n",
       "      <th>X4</th>\n",
       "      <th>X5</th>\n",
       "      <th>X6</th>\n",
       "      <th>X7</th>\n",
       "      <th>X8</th>\n",
       "      <th>X9</th>\n",
       "      <th>T</th>\n",
       "      <th>Y</th>\n",
       "    </tr>\n",
       "  </thead>\n",
       "  <tbody>\n",
       "    <tr>\n",
       "      <th>600</th>\n",
       "      <td>-0.405318</td>\n",
       "      <td>0.100812</td>\n",
       "      <td>0.579347</td>\n",
       "      <td>0.212204</td>\n",
       "      <td>0.548969</td>\n",
       "      <td>-0.056869</td>\n",
       "      <td>-0.514997</td>\n",
       "      <td>0.219140</td>\n",
       "      <td>-0.253726</td>\n",
       "      <td>-0.762086</td>\n",
       "      <td>1</td>\n",
       "      <td>1.745364</td>\n",
       "    </tr>\n",
       "    <tr>\n",
       "      <th>1066</th>\n",
       "      <td>0.586723</td>\n",
       "      <td>0.000387</td>\n",
       "      <td>-0.005994</td>\n",
       "      <td>0.061997</td>\n",
       "      <td>-0.397050</td>\n",
       "      <td>0.254824</td>\n",
       "      <td>0.331157</td>\n",
       "      <td>0.054626</td>\n",
       "      <td>0.228711</td>\n",
       "      <td>0.396712</td>\n",
       "      <td>0</td>\n",
       "      <td>-0.487985</td>\n",
       "    </tr>\n",
       "    <tr>\n",
       "      <th>1802</th>\n",
       "      <td>-0.105629</td>\n",
       "      <td>-0.709602</td>\n",
       "      <td>0.363026</td>\n",
       "      <td>0.025431</td>\n",
       "      <td>0.094169</td>\n",
       "      <td>0.404510</td>\n",
       "      <td>0.409021</td>\n",
       "      <td>-0.200269</td>\n",
       "      <td>0.388250</td>\n",
       "      <td>-0.379195</td>\n",
       "      <td>0</td>\n",
       "      <td>0.650681</td>\n",
       "    </tr>\n",
       "    <tr>\n",
       "      <th>1633</th>\n",
       "      <td>-0.245857</td>\n",
       "      <td>0.484996</td>\n",
       "      <td>0.219001</td>\n",
       "      <td>-0.379394</td>\n",
       "      <td>-0.021773</td>\n",
       "      <td>-0.109740</td>\n",
       "      <td>-0.244159</td>\n",
       "      <td>0.016285</td>\n",
       "      <td>-0.435720</td>\n",
       "      <td>0.309933</td>\n",
       "      <td>0</td>\n",
       "      <td>-0.896683</td>\n",
       "    </tr>\n",
       "    <tr>\n",
       "      <th>1495</th>\n",
       "      <td>0.309470</td>\n",
       "      <td>0.244898</td>\n",
       "      <td>-0.514285</td>\n",
       "      <td>-0.451192</td>\n",
       "      <td>-0.398230</td>\n",
       "      <td>0.171943</td>\n",
       "      <td>0.107324</td>\n",
       "      <td>-0.192402</td>\n",
       "      <td>-0.414204</td>\n",
       "      <td>-0.027093</td>\n",
       "      <td>1</td>\n",
       "      <td>0.603394</td>\n",
       "    </tr>\n",
       "    <tr>\n",
       "      <th>...</th>\n",
       "      <td>...</td>\n",
       "      <td>...</td>\n",
       "      <td>...</td>\n",
       "      <td>...</td>\n",
       "      <td>...</td>\n",
       "      <td>...</td>\n",
       "      <td>...</td>\n",
       "      <td>...</td>\n",
       "      <td>...</td>\n",
       "      <td>...</td>\n",
       "      <td>...</td>\n",
       "      <td>...</td>\n",
       "    </tr>\n",
       "    <tr>\n",
       "      <th>483</th>\n",
       "      <td>0.446754</td>\n",
       "      <td>0.051512</td>\n",
       "      <td>0.215045</td>\n",
       "      <td>0.058827</td>\n",
       "      <td>-0.006468</td>\n",
       "      <td>0.174854</td>\n",
       "      <td>-0.019864</td>\n",
       "      <td>0.217381</td>\n",
       "      <td>0.088307</td>\n",
       "      <td>-0.211365</td>\n",
       "      <td>1</td>\n",
       "      <td>1.532349</td>\n",
       "    </tr>\n",
       "    <tr>\n",
       "      <th>77</th>\n",
       "      <td>0.130201</td>\n",
       "      <td>0.178595</td>\n",
       "      <td>0.152411</td>\n",
       "      <td>-0.045492</td>\n",
       "      <td>0.007897</td>\n",
       "      <td>0.125439</td>\n",
       "      <td>0.048031</td>\n",
       "      <td>0.047398</td>\n",
       "      <td>0.015854</td>\n",
       "      <td>-0.148821</td>\n",
       "      <td>0</td>\n",
       "      <td>0.087759</td>\n",
       "    </tr>\n",
       "    <tr>\n",
       "      <th>896</th>\n",
       "      <td>-0.275717</td>\n",
       "      <td>0.160019</td>\n",
       "      <td>0.140193</td>\n",
       "      <td>-0.125477</td>\n",
       "      <td>0.353370</td>\n",
       "      <td>0.028176</td>\n",
       "      <td>-0.271221</td>\n",
       "      <td>0.234343</td>\n",
       "      <td>-0.121098</td>\n",
       "      <td>-0.380013</td>\n",
       "      <td>0</td>\n",
       "      <td>1.004778</td>\n",
       "    </tr>\n",
       "    <tr>\n",
       "      <th>113</th>\n",
       "      <td>0.017979</td>\n",
       "      <td>-0.121396</td>\n",
       "      <td>0.136636</td>\n",
       "      <td>-0.101744</td>\n",
       "      <td>0.229127</td>\n",
       "      <td>0.336448</td>\n",
       "      <td>0.047269</td>\n",
       "      <td>0.356059</td>\n",
       "      <td>0.082027</td>\n",
       "      <td>-0.182870</td>\n",
       "      <td>1</td>\n",
       "      <td>2.180456</td>\n",
       "    </tr>\n",
       "    <tr>\n",
       "      <th>904</th>\n",
       "      <td>-0.310728</td>\n",
       "      <td>0.668360</td>\n",
       "      <td>0.055564</td>\n",
       "      <td>-0.375317</td>\n",
       "      <td>0.362428</td>\n",
       "      <td>0.000961</td>\n",
       "      <td>-0.626457</td>\n",
       "      <td>0.074539</td>\n",
       "      <td>-0.503788</td>\n",
       "      <td>-0.407765</td>\n",
       "      <td>1</td>\n",
       "      <td>1.723946</td>\n",
       "    </tr>\n",
       "  </tbody>\n",
       "</table>\n",
       "<p>2000 rows × 12 columns</p>\n",
       "</div>"
      ],
      "text/plain": [
       "            X0        X1        X2        X3        X4        X5        X6  \\\n",
       "600  -0.405318  0.100812  0.579347  0.212204  0.548969 -0.056869 -0.514997   \n",
       "1066  0.586723  0.000387 -0.005994  0.061997 -0.397050  0.254824  0.331157   \n",
       "1802 -0.105629 -0.709602  0.363026  0.025431  0.094169  0.404510  0.409021   \n",
       "1633 -0.245857  0.484996  0.219001 -0.379394 -0.021773 -0.109740 -0.244159   \n",
       "1495  0.309470  0.244898 -0.514285 -0.451192 -0.398230  0.171943  0.107324   \n",
       "...        ...       ...       ...       ...       ...       ...       ...   \n",
       "483   0.446754  0.051512  0.215045  0.058827 -0.006468  0.174854 -0.019864   \n",
       "77    0.130201  0.178595  0.152411 -0.045492  0.007897  0.125439  0.048031   \n",
       "896  -0.275717  0.160019  0.140193 -0.125477  0.353370  0.028176 -0.271221   \n",
       "113   0.017979 -0.121396  0.136636 -0.101744  0.229127  0.336448  0.047269   \n",
       "904  -0.310728  0.668360  0.055564 -0.375317  0.362428  0.000961 -0.626457   \n",
       "\n",
       "            X7        X8        X9  T         Y  \n",
       "600   0.219140 -0.253726 -0.762086  1  1.745364  \n",
       "1066  0.054626  0.228711  0.396712  0 -0.487985  \n",
       "1802 -0.200269  0.388250 -0.379195  0  0.650681  \n",
       "1633  0.016285 -0.435720  0.309933  0 -0.896683  \n",
       "1495 -0.192402 -0.414204 -0.027093  1  0.603394  \n",
       "...        ...       ...       ... ..       ...  \n",
       "483   0.217381  0.088307 -0.211365  1  1.532349  \n",
       "77    0.047398  0.015854 -0.148821  0  0.087759  \n",
       "896   0.234343 -0.121098 -0.380013  0  1.004778  \n",
       "113   0.356059  0.082027 -0.182870  1  2.180456  \n",
       "904   0.074539 -0.503788 -0.407765  1  1.723946  \n",
       "\n",
       "[2000 rows x 12 columns]"
      ]
     },
     "execution_count": 5,
     "metadata": {},
     "output_type": "execute_result"
    }
   ],
   "source": [
    "dataset.observed_data"
   ]
  },
  {
   "cell_type": "code",
   "execution_count": 6,
   "metadata": {},
   "outputs": [
    {
     "data": {
      "text/plain": [
       "0.9139999999999999"
      ]
     },
     "execution_count": 6,
     "metadata": {},
     "output_type": "execute_result"
    }
   ],
   "source": [
    "dataset.ATE"
   ]
  },
  {
   "cell_type": "code",
   "execution_count": 7,
   "metadata": {},
   "outputs": [
    {
     "data": {
      "text/plain": [
       "0.9227952594822544"
      ]
     },
     "execution_count": 7,
     "metadata": {},
     "output_type": "execute_result"
    }
   ],
   "source": [
    "model = LinearRegressionCausalModel(dataset)\n",
    "model.fit()\n",
    "model.estimate(estimand=Constants.Model.ATE_ESTIMAND)"
   ]
  },
  {
   "cell_type": "markdown",
   "metadata": {},
   "source": [
    "## Sampled DGP Benchmarking Demo"
   ]
  },
  {
   "cell_type": "code",
   "execution_count": 5,
   "metadata": {},
   "outputs": [
    {
     "data": {
      "text/plain": [
       "('LOW', 'MEDIUM', 'HIGH')"
      ]
     },
     "execution_count": 5,
     "metadata": {},
     "output_type": "execute_result"
    }
   ],
   "source": [
    "Constants.AxisLevels.LEVELS"
   ]
  },
  {
   "cell_type": "code",
   "execution_count": 17,
   "metadata": {},
   "outputs": [
    {
     "name": "stdout",
     "output_type": "stream",
     "text": [
      "CPU times: user 1min 23s, sys: 19.1 s, total: 1min 42s\n",
      "Wall time: 1min 5s\n"
     ]
    }
   ],
   "source": [
    "%%time\n",
    "\n",
    "LOW, MEDIUM, HIGH = Constants.AxisLevels.LEVELS\n",
    "param_grid = {\n",
    "    Constants.AxisNames.TREATMENT_NONLINEARITY: [LOW],\n",
    "    Constants.AxisNames.OUTCOME_NONLINEARITY: [HIGH, MEDIUM, LOW]\n",
    "}\n",
    "\n",
    "covar_data_source = data_sources.build_lalonde_datasource()\n",
    "\n",
    "avg_result, rr = run_sampled_dgp_benchmark(\n",
    "    model_class=LinearRegressionCausalModel,\n",
    "    estimand=Constants.Model.ATE_ESTIMAND,\n",
    "    data_source_generator=lambda: covar_data_source,\n",
    "    param_grid=param_grid,\n",
    "    num_dgp_samples=15,\n",
    "    num_data_samples_per_dgp=50,\n",
    "    dgp_kwargs={\"data_analysis_mode\": False},\n",
    "    enable_ray_multiprocessing=False)"
   ]
  },
  {
   "cell_type": "code",
   "execution_count": 18,
   "metadata": {},
   "outputs": [
    {
     "data": {
      "text/html": [
       "<div>\n",
       "<style scoped>\n",
       "    .dataframe tbody tr th:only-of-type {\n",
       "        vertical-align: middle;\n",
       "    }\n",
       "\n",
       "    .dataframe tbody tr th {\n",
       "        vertical-align: top;\n",
       "    }\n",
       "\n",
       "    .dataframe thead th {\n",
       "        text-align: right;\n",
       "    }\n",
       "</style>\n",
       "<table border=\"1\" class=\"dataframe\">\n",
       "  <thead>\n",
       "    <tr style=\"text-align: right;\">\n",
       "      <th></th>\n",
       "      <th>param_outcome_nonlinearity</th>\n",
       "      <th>param_treatment_nonlinearity</th>\n",
       "      <th>root mean squared error</th>\n",
       "      <th>root mean squared error (std)</th>\n",
       "    </tr>\n",
       "  </thead>\n",
       "  <tbody>\n",
       "    <tr>\n",
       "      <th>0</th>\n",
       "      <td>HIGH</td>\n",
       "      <td>LOW</td>\n",
       "      <td>0.090013</td>\n",
       "      <td>0.046491</td>\n",
       "    </tr>\n",
       "    <tr>\n",
       "      <th>1</th>\n",
       "      <td>MEDIUM</td>\n",
       "      <td>LOW</td>\n",
       "      <td>0.065801</td>\n",
       "      <td>0.079909</td>\n",
       "    </tr>\n",
       "    <tr>\n",
       "      <th>2</th>\n",
       "      <td>LOW</td>\n",
       "      <td>LOW</td>\n",
       "      <td>0.012933</td>\n",
       "      <td>0.001270</td>\n",
       "    </tr>\n",
       "  </tbody>\n",
       "</table>\n",
       "</div>"
      ],
      "text/plain": [
       "  param_outcome_nonlinearity param_treatment_nonlinearity  \\\n",
       "0                       HIGH                          LOW   \n",
       "1                     MEDIUM                          LOW   \n",
       "2                        LOW                          LOW   \n",
       "\n",
       "   root mean squared error  root mean squared error (std)  \n",
       "0                 0.090013                       0.046491  \n",
       "1                 0.065801                       0.079909  \n",
       "2                 0.012933                       0.001270  "
      ]
     },
     "execution_count": 18,
     "metadata": {},
     "output_type": "execute_result"
    }
   ],
   "source": [
    "pd.DataFrame(avg_result).drop([\"absolute mean bias %\", \"absolute mean bias % (std)\"], axis=1)"
   ]
  },
  {
   "cell_type": "markdown",
   "metadata": {},
   "source": [
    "### Concrete DGP Benchmarking Demo"
   ]
  },
  {
   "cell_type": "markdown",
   "metadata": {},
   "source": [
    "#### Concrete DGP"
   ]
  },
  {
   "cell_type": "code",
   "execution_count": 89,
   "metadata": {},
   "outputs": [],
   "source": [
    "from maccabee.data_generation import DataGeneratingProcess, data_generating_method\n",
    "from maccabee.constants import Constants\n",
    "from maccabee.utilities import evaluate_expression\n",
    "from maccabee.modeling.models import CausalModel\n",
    "import numpy as np\n",
    "import sympy as sp\n",
    "import pandas as pd\n",
    "\n",
    "class CustomConcreteDataGeneratingProcess(DataGeneratingProcess):\n",
    "    def __init__(self, n_observations):\n",
    "\n",
    "        super().__init__(n_observations, data_analysis_mode=False)\n",
    "\n",
    "        # Var count\n",
    "        self.n_vars = 3\n",
    "        self.covar_names = [\"A\", \"B\", \"C\"]\n",
    "        self.A, self.B, self.C  = sp.symbols(self.covar_names)\n",
    "\n",
    "        self.treatment_assignment_function = 1/(1 + sp.exp(-1*(self.A + self.B)))\n",
    "        self.base_outcome_function = 4*self.C\n",
    "\n",
    "    @data_generating_method(Constants.DGPVariables.COVARIATES_NAME, [])\n",
    "    def _generate_observed_covars(self, input_vars):\n",
    "        X = np.random.normal(loc=0.0, scale=1.0, size=(\n",
    "            self.n_observations, self.n_vars))\n",
    "        \n",
    "        return pd.DataFrame(X, columns=self.covar_names)\n",
    "\n",
    "    @data_generating_method(Constants.DGPVariables.PROPENSITY_SCORE_NAME,\n",
    "                            [Constants.DGPVariables.COVARIATES_NAME])\n",
    "    def _generate_true_propensity_scores(self, input_vars):\n",
    "        observed_covariate_data = input_vars[Constants.DGPVariables.COVARIATES_NAME]\n",
    "\n",
    "        return evaluate_expression(\n",
    "            self.treatment_assignment_function,\n",
    "            observed_covariate_data)\n",
    "\n",
    "    @data_generating_method(\n",
    "        Constants.DGPVariables.POTENTIAL_OUTCOME_WITHOUT_TREATMENT_NAME,\n",
    "        [Constants.DGPVariables.COVARIATES_NAME])\n",
    "    def _generate_outcomes_without_treatment(self, input_vars):\n",
    "        observed_covariate_data = input_vars[Constants.DGPVariables.COVARIATES_NAME]\n",
    "\n",
    "        return evaluate_expression(\n",
    "            self.base_outcome_function,\n",
    "            observed_covariate_data)\n",
    "    \n",
    "    @data_generating_method(Constants.DGPVariables.OUTCOME_NOISE_NAME, [])\n",
    "    def _generate_outcome_noise_samples(self, input_vars):\n",
    "        return np.random.normal(loc=0, scale=100, size=self.n_observations)\n",
    "\n",
    "    @data_generating_method(\n",
    "        Constants.DGPVariables.TREATMENT_EFFECT_NAME,\n",
    "        [Constants.DGPVariables.COVARIATES_NAME])\n",
    "    def _generate_treatment_effects(self, input_vars):\n",
    "        return 2"
   ]
  },
  {
   "cell_type": "code",
   "execution_count": 90,
   "metadata": {},
   "outputs": [
    {
     "data": {
      "text/html": [
       "<div>\n",
       "<style scoped>\n",
       "    .dataframe tbody tr th:only-of-type {\n",
       "        vertical-align: middle;\n",
       "    }\n",
       "\n",
       "    .dataframe tbody tr th {\n",
       "        vertical-align: top;\n",
       "    }\n",
       "\n",
       "    .dataframe thead th {\n",
       "        text-align: right;\n",
       "    }\n",
       "</style>\n",
       "<table border=\"1\" class=\"dataframe\">\n",
       "  <thead>\n",
       "    <tr style=\"text-align: right;\">\n",
       "      <th></th>\n",
       "      <th>A</th>\n",
       "      <th>B</th>\n",
       "      <th>C</th>\n",
       "      <th>T</th>\n",
       "      <th>Y</th>\n",
       "    </tr>\n",
       "  </thead>\n",
       "  <tbody>\n",
       "    <tr>\n",
       "      <th>0</th>\n",
       "      <td>0.800261</td>\n",
       "      <td>-0.040398</td>\n",
       "      <td>-0.217283</td>\n",
       "      <td>1</td>\n",
       "      <td>1.130870</td>\n",
       "    </tr>\n",
       "    <tr>\n",
       "      <th>1</th>\n",
       "      <td>-2.850955</td>\n",
       "      <td>1.476802</td>\n",
       "      <td>0.944254</td>\n",
       "      <td>0</td>\n",
       "      <td>3.777016</td>\n",
       "    </tr>\n",
       "    <tr>\n",
       "      <th>2</th>\n",
       "      <td>0.304231</td>\n",
       "      <td>0.561959</td>\n",
       "      <td>-0.813668</td>\n",
       "      <td>1</td>\n",
       "      <td>-1.254671</td>\n",
       "    </tr>\n",
       "    <tr>\n",
       "      <th>3</th>\n",
       "      <td>-1.359757</td>\n",
       "      <td>0.076948</td>\n",
       "      <td>-1.380953</td>\n",
       "      <td>0</td>\n",
       "      <td>-5.523811</td>\n",
       "    </tr>\n",
       "    <tr>\n",
       "      <th>4</th>\n",
       "      <td>0.539034</td>\n",
       "      <td>0.207883</td>\n",
       "      <td>-0.989070</td>\n",
       "      <td>1</td>\n",
       "      <td>-1.956281</td>\n",
       "    </tr>\n",
       "  </tbody>\n",
       "</table>\n",
       "</div>"
      ],
      "text/plain": [
       "          A         B         C  T         Y\n",
       "0  0.800261 -0.040398 -0.217283  1  1.130870\n",
       "1 -2.850955  1.476802  0.944254  0  3.777016\n",
       "2  0.304231  0.561959 -0.813668  1 -1.254671\n",
       "3 -1.359757  0.076948 -1.380953  0 -5.523811\n",
       "4  0.539034  0.207883 -0.989070  1 -1.956281"
      ]
     },
     "execution_count": 90,
     "metadata": {},
     "output_type": "execute_result"
    }
   ],
   "source": [
    "concrete_dgp = CustomConcreteDataGeneratingProcess(n_observations=100)\n",
    "dataset = concrete_dgp.generate_dataset()\n",
    "dataset.observed_data.head()"
   ]
  },
  {
   "cell_type": "code",
   "execution_count": 91,
   "metadata": {},
   "outputs": [],
   "source": [
    "# from maccabee.examples.genmatch import GenmatchDataGeneratingProcess, GENMATCH_SPECS\n",
    "# from maccabee.examples.genmatch import LogisticPropensityMatchingCausalModel"
   ]
  },
  {
   "cell_type": "code",
   "execution_count": 92,
   "metadata": {},
   "outputs": [
    {
     "data": {
      "text/plain": [
       "2.0"
      ]
     },
     "execution_count": 92,
     "metadata": {},
     "output_type": "execute_result"
    }
   ],
   "source": [
    "dataset.ATE"
   ]
  },
  {
   "cell_type": "code",
   "execution_count": 93,
   "metadata": {},
   "outputs": [],
   "source": [
    "model = LinearRegressionCausalModel(dataset)\n",
    "model.fit()"
   ]
  },
  {
   "cell_type": "code",
   "execution_count": 94,
   "metadata": {},
   "outputs": [
    {
     "data": {
      "text/plain": [
       "1.999999999999999"
      ]
     },
     "execution_count": 94,
     "metadata": {},
     "output_type": "execute_result"
    }
   ],
   "source": [
    "model.estimate_ATE()"
   ]
  },
  {
   "cell_type": "markdown",
   "metadata": {},
   "source": [
    "#### Benchmark"
   ]
  },
  {
   "cell_type": "code",
   "execution_count": 95,
   "metadata": {},
   "outputs": [
    {
     "name": "stdout",
     "output_type": "stream",
     "text": [
      "CPU times: user 1.37 s, sys: 10 ms, total: 1.38 s\n",
      "Wall time: 1.37 s\n"
     ]
    }
   ],
   "source": [
    "%%time\n",
    "\n",
    "result = run_concrete_dgp_benchmark(\n",
    "    dgp=concrete_dgp,\n",
    "    model_class=LinearRegressionCausalModel,\n",
    "    estimand=Constants.Model.ATE_ESTIMAND,\n",
    "    num_samples_from_dgp=100,\n",
    "    enable_ray_multiprocessing=False)"
   ]
  },
  {
   "cell_type": "code",
   "execution_count": 99,
   "metadata": {},
   "outputs": [
    {
     "data": {
      "text/plain": [
       "1.9625527686514803e-15"
      ]
     },
     "execution_count": 99,
     "metadata": {},
     "output_type": "execute_result"
    }
   ],
   "source": [
    "result[\"root mean squared error\"]"
   ]
  }
 ],
 "metadata": {
  "kernelspec": {
   "display_name": "Python 3",
   "language": "python",
   "name": "python3"
  },
  "language_info": {
   "codemirror_mode": {
    "name": "ipython",
    "version": 3
   },
   "file_extension": ".py",
   "mimetype": "text/x-python",
   "name": "python",
   "nbconvert_exporter": "python",
   "pygments_lexer": "ipython3",
   "version": "3.7.3"
  },
  "varInspector": {
   "cols": {
    "lenName": 16,
    "lenType": 16,
    "lenVar": 40
   },
   "kernels_config": {
    "python": {
     "delete_cmd_postfix": "",
     "delete_cmd_prefix": "del ",
     "library": "var_list.py",
     "varRefreshCmd": "print(var_dic_list())"
    },
    "r": {
     "delete_cmd_postfix": ") ",
     "delete_cmd_prefix": "rm(",
     "library": "var_list.r",
     "varRefreshCmd": "cat(var_dic_list()) "
    }
   },
   "types_to_exclude": [
    "module",
    "function",
    "builtin_function_or_method",
    "instance",
    "_Feature"
   ],
   "window_display": false
  }
 },
 "nbformat": 4,
 "nbformat_minor": 2
}
