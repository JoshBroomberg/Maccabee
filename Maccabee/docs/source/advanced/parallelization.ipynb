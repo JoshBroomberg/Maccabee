{
 "cells": [
  {
   "cell_type": "code",
   "execution_count": 52,
   "metadata": {
    "nbsphinx": "hidden",
    "run_control": {
     "marked": true
    }
   },
   "outputs": [],
   "source": [
    "# Hidden Config Cell\n",
    "\n",
    "#!python -m pip install -e ../../../../Maccabee > /dev/null\n",
    "\n",
    "from maccabee.constants import Constants\n",
    "from maccabee.data_sources.data_source_builders import build_random_normal_datasource\n",
    "from maccabee.benchmarking import benchmark_model_using_sampled_dgp_grid\n",
    "from maccabee.modeling.models import LinearRegressionCausalModel\n",
    "\n",
    "from functools import partial\n",
    "\n",
    "LOW, MEDIUM, HIGH = Constants.AxisLevels.LEVELS\n",
    "\n",
    "param_grid = {\n",
    "    Constants.AxisNames.TREATMENT_NONLINEARITY: [HIGH],\n",
    "    Constants.AxisNames.OUTCOME_NONLINEARITY: [HIGH]\n",
    "}\n",
    "\n",
    "normal_data_source = build_random_normal_datasource(\n",
    "    n_covars=20,\n",
    "    n_observations=100)\n",
    "    \n",
    "run_benchmark = partial(benchmark_model_using_sampled_dgp_grid,\n",
    "    model_class=LinearRegressionCausalModel,\n",
    "    estimand=Constants.Model.ATE_ESTIMAND,\n",
    "    data_source=normal_data_source,\n",
    "    dgp_param_grid=param_grid)\n",
    "\n",
    "run_parallelization_benchmark = partial(\n",
    "    run_benchmark,\n",
    "    num_dgp_samples=16,\n",
    "    num_sampling_runs_per_dgp=1,\n",
    "    num_samples_from_dgp=5)\n",
    "\n",
    "run_compilation_benchmark = partial(\n",
    "    run_benchmark,\n",
    "    num_dgp_samples=1,\n",
    "    num_sampling_runs_per_dgp=1,\n",
    "    n_jobs=8)"
   ]
  },
  {
   "cell_type": "raw",
   "metadata": {
    "raw_mimetype": "text/restructuredtext"
   },
   "source": [
    "Parallelization and Compilation\n",
    "*******************************\n",
    "\n",
    "Maccabee is designed to benchmark methods of causal inference using *large* sample-size Monte Carlo simulations - with hundreds of DGP samples and hundreds of data samples from each DGP.\n",
    "\n",
    "In general, large sample sizes are important for accurate Monte Carlo estimates. The entire support of the distribution must be explored to ensure there is no asymptotic bias in the estimated value and, even if bias is zero, larger sample sizes reduce the variance/interval width for aggregate estimates.\n",
    "\n",
    "Using large sample sizes is even more important in Maccabee given the different sources of (significant) variance present in the method. There is stochasticity associated with the sampling DGPs, the sampling of data drawn from each DGP, and (potentially) the the estimation of an estimand in a data set (if the estimator employs a non-deterministic estimation scheme - eg a Neural Network trained by Stochastic Gradient Descent).\n",
    "\n",
    "With this in mind, Maccabee has two tools designed to speed up the execution of benchmarks and enable larger sample sizes in a fixed amount of run time. The first is parallelization - exploiting the embarrassingly parallelizable nature of Monte Carlo trials to speed up execution by a factor determined by access to computing resources. The second is compilation - which trades off higher once-off set up time for faster execution times of each trial. If a sufficient number of trials are run, then the amortized cost of compilation is justified relative to compilation-free execution.\n",
    "\n",
    "The use of each of these tools is discussed below.\n",
    "\n",
    "Parallelization\n",
    "---------------\n",
    "\n",
    "All of the benchmarking functions in the :mod:`~maccabee.benchmarking.benchmarking` module offer a simple parallelization interface via the ``n_jobs`` keyword argument accepted by each function. The functions will then run the benchmarking using the supplied number of CPU cores. If ``-1`` is supplied, the number of cores returned by ``multiprocessing.cpu_count()`` will be used.\n",
    "\n",
    "Generally speaking, this will produce a decrease in execution time by a factor approximately linear to the number of jobs - provided that each job can be executed in parallel on the computer. \n",
    "\n",
    ".. note::\n",
    "\n",
    "    The speed up is likely to be slightly sub-linear due to overhead from parallelization but the degree of overhead is system dependent.\n",
    "\n",
    ".. warning::\n",
    "\n",
    "  Using an ``n_jobs`` value larger than the number of processes your computer can handle is allowed but will generally result in **worse** performance than using the maximum number of parallel processes that can be handled at once.\n",
    "  \n",
    "The code below demonstrates the speed up offered by parallelization. ``run_benchmark`` runs a benchmark that samples 8 DGPs, and performs 8 sampling runs of 40 datasets each. As you can see, the parallelization speed up is approximately 2x. This means that approximately half the potential linear speed up is consumed by system-specific overhead."
   ]
  },
  {
   "cell_type": "code",
   "execution_count": 54,
   "metadata": {},
   "outputs": [
    {
     "name": "stdout",
     "output_type": "stream",
     "text": [
      "CPU times: user 12.4 s, sys: 487 ms, total: 12.9 s\n",
      "Wall time: 1min 10s\n"
     ]
    }
   ],
   "source": [
    "%%time\n",
    "\n",
    "_ = run_parallelization_benchmark(n_jobs=1)"
   ]
  },
  {
   "cell_type": "code",
   "execution_count": 53,
   "metadata": {},
   "outputs": [
    {
     "name": "stdout",
     "output_type": "stream",
     "text": [
      "CPU times: user 11.7 s, sys: 554 ms, total: 12.3 s\n",
      "Wall time: 34 s\n"
     ]
    }
   ],
   "source": [
    "%%time\n",
    "\n",
    "_ = run_parallelization_benchmark(n_jobs=4)"
   ]
  },
  {
   "cell_type": "raw",
   "metadata": {
    "raw_mimetype": "text/restructuredtext"
   },
   "source": [
    "Fine Tuning Parallelization\n",
    "+++++++++++++++++++++++++++\n",
    "\n",
    "To get the best results from multitasking it is useful to fine-tune the number of samples to be a multiple of the number of jobs. This prevents wasting capacity by ensuring each execution cycle uses all available resources. (This becomes increasingly important as the number of cores increases)\n",
    "\n",
    "In order to do this, ensure that, for sampling based benchmarks, ``num_dgp_samples`` is equal to a multiple of ``n_jobs`` and, for all benchmarks, that ``num_sampling_runs_per_dgp`` is also multiple of ``n_jobs``. This accounts for the parallelization at the DGP and data sampling levels.\n",
    "\n",
    ".. note::\n",
    "\n",
    "    If ``num_sampling_runs_per_dgp`` is less than ``n_jobs``, parallelization occurs at the level of individual data sampling. So you should set ``num_samples_from_dgp`` to be a multiple of ``n_jobs``.\n",
    "\n",
    "Compilation\n",
    "-----------\n",
    "\n",
    "Background\n",
    "++++++++++\n",
    "\n",
    "Maccabee offers the ability to compile the functions which make up sampled DGPs into C code prior to execution. This speeds up each instance of data sampling at the expense of a once-off penalty when each DGP is sampled. Compilation is activated using the ``compile_functions=True`` keyword argument which is accepted by each benchmarking function.\n",
    "\n",
    "Compilation is **not** guarenteed to improve execution time. There are two factors to consider. These are briefly outlined below with a more thorough discussion on this topic in the :download:`theory paper </maccabee-theory-paper.pdf>`.\n",
    "\n",
    "* First, the number of terms which make up the sampled treatment and outcome functions (this depends on the subfunction sampling. The execution time of uncompiled functions is exponential in the number of terms while the execution time of compiled functions is effectively constant in the number of terms. So, with a large number of terms, the savings from compilation can be substantial. The number of terms primarily depends on the linearity of the treatment/outcome with more nonlinear functions tending to contain (many) more terms.\n",
    "\n",
    "* Second, the number of data samples **per DGP**. The up-front time penalty of compilation is justified if spread out over enough, faster data samples. If the number of samples per DGP is small then it is almost guaranteed that compilation is **not** worthwhile.\n",
    "\n",
    "How to decide\n",
    "+++++++++++++\n",
    "\n",
    "In order to decide if compilation is worthwhile, you should run a benchmark that uses a **one** DGP sample, and the **intended number** of sampling runs and data samples. Run this benchmark with and without compilation. If compilation yields a speed up, then use it for the benchmark over multiple DGP samples. If you decide to use compilation, you can keep using it if you later increase/preserve the total number of data samples per DGP - IE ``num_sampling_runs_per_dgp * num_samples_from_dgp``.\n",
    "\n",
    "Demonstration\n",
    "+++++++++++++\n",
    "\n",
    "The code block below runs a benchmark - made up of one DGP sample, 10 sampling runs and different numbers of data samples - with and without compilation. It is clear that compilation is not justified until ``num_sampling_runs_per_dgp * num_samples_from_dgp`` is large enough, after which compilation becomes increasinglg important"
   ]
  },
  {
   "cell_type": "code",
   "execution_count": null,
   "metadata": {},
   "outputs": [],
   "source": [
    "from time import time\n",
    "from collections import defaultdict\n",
    "\n",
    "N_samples = [10, 50, 100, 200, 500]\n",
    "times = defaultdict(list)\n",
    "for n_samples in N_samples:\n",
    "    for compiled in [True, False]:\n",
    "        s = time()\n",
    "        run_compilation_benchmark(\n",
    "            num_samples_from_dgp=n_samples,\n",
    "            compile_functions=compiled)\n",
    "        e = time()\n",
    "        exec_time = e - s\n",
    "        times[compiled].append(exec_time)\n"
   ]
  },
  {
   "cell_type": "code",
   "execution_count": 48,
   "metadata": {},
   "outputs": [
    {
     "data": {
      "image/png": "[encoded data removed]",
      "text/plain": [
       "<Figure size 432x288 with 1 Axes>"
      ]
     },
     "metadata": {
      "needs_background": "light"
     },
     "output_type": "display_data"
    }
   ],
   "source": [
    "import matplotlib.pyplot as plt\n",
    "\n",
    "plt.scatter(N_samples, times[False], label=\"Uncompiled\")\n",
    "plt.scatter(N_samples, times[True], label=\"Compiled\")\n",
    "plt.legend()\n",
    "plt.ylabel(\"Total Execution Time (seconds)\")\n",
    "plt.xlabel(\"Total Number of Samples\")\n",
    "plt.show()"
   ]
  }
 ],
 "metadata": {
  "celltoolbar": "Raw Cell Format",
  "kernelspec": {
   "display_name": "Python 3",
   "language": "python",
   "name": "python3"
  },
  "language_info": {
   "codemirror_mode": {
    "name": "ipython",
    "version": 3
   },
   "file_extension": ".py",
   "mimetype": "text/x-python",
   "name": "python",
   "nbconvert_exporter": "python",
   "pygments_lexer": "ipython3",
   "version": "3.7.6"
  },
  "varInspector": {
   "cols": {
    "lenName": 16,
    "lenType": 16,
    "lenVar": 40
   },
   "kernels_config": {
    "python": {
     "delete_cmd_postfix": "",
     "delete_cmd_prefix": "del ",
     "library": "var_list.py",
     "varRefreshCmd": "print(var_dic_list())"
    },
    "r": {
     "delete_cmd_postfix": ") ",
     "delete_cmd_prefix": "rm(",
     "library": "var_list.r",
     "varRefreshCmd": "cat(var_dic_list()) "
    }
   },
   "types_to_exclude": [
    "module",
    "function",
    "builtin_function_or_method",
    "instance",
    "_Feature"
   ],
   "window_display": false
  }
 },
 "nbformat": 4,
 "nbformat_minor": 2
}
