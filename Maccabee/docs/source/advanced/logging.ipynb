{
 "cells": [
  {
   "cell_type": "code",
   "execution_count": 1,
   "metadata": {
    "nbsphinx": "hidden",
    "run_control": {
     "marked": true
    }
   },
   "outputs": [],
   "source": [
    "# Hidden Config Cell\n",
    "# !python -m pip install -e ../../../../Maccabee > /dev/null\n",
    "\n",
    "!rm maccabee.log"
   ]
  },
  {
   "cell_type": "raw",
   "metadata": {
    "raw_mimetype": "text/restructuredtext"
   },
   "source": [
    "Logging for Insight and Debugging\n",
    "*********************************\n",
    "\n",
    "This walkthrough provides a brief introduction on how to use the logging facilities built into the Maccabee to introspect internal operations.\n",
    "\n",
    "Maccabee implements logging according to python best-practices. To find out more about python logging, please refer to the `Python Logging Docs <https://docs.python.org/3/howto/logging.html>`_. The rest of the content here assumes familiarity with the basics of python logging.\n",
    "\n",
    "By default, only messages of level warning and higher are logged by Maccabee. This can be changed by either configuring the root logger in your code (per the python documentation) or by adding log handlers to the package's root logger. This is the strategy that is documented below.\n",
    "\n",
    "Logging using Maccabee's Root Logger\n",
    "------------------------------------\n",
    "\n",
    "One easy way to control log output handling (level, format, etc) is by customizing Maccabee's root handler. This is the handler which all log messages are passed to from the internal submodules.\n",
    "\n",
    "The code below provides demonstrates this approach. The key method is ``get_package_root_logger``. This method returns the root Maccabee logger. Any and all standard python logging configuration can be applied to this logger. In the example, we specify a custom log format and use the ``DEBUG`` log level. We then attach both a streaming standard out (console) output as well as a file output."
   ]
  },
  {
   "cell_type": "code",
   "execution_count": 2,
   "metadata": {},
   "outputs": [],
   "source": [
    "import logging\n",
    "from logging import FileHandler\n",
    "import sys\n",
    "from maccabee.logging import get_package_root_logger\n",
    "\n",
    "FORMATTER = logging.Formatter(\"%(levelname)s - %(name)s:%(message)s\")\n",
    "LOG_FILE = \"maccabee.log\"\n",
    "\n",
    "# This handler will output logger records to the console.\n",
    "def build_console_handler():\n",
    "    console_handler = logging.StreamHandler(sys.stdout)\n",
    "    console_handler.setFormatter(FORMATTER)\n",
    "    return console_handler\n",
    "\n",
    "# This handler will output logger records to a file\n",
    "def build_file_handler():\n",
    "    file_handler = FileHandler(LOG_FILE)\n",
    "    file_handler.setFormatter(FORMATTER)\n",
    "    return file_handler\n",
    "\n",
    "# Get Maccabee's root logger.\n",
    "logger = get_package_root_logger()\n",
    "\n",
    "# Configure the logger.\n",
    "logger.setLevel(logging.DEBUG)\n",
    "console_handler = build_console_handler()\n",
    "logger.addHandler(console_handler)\n",
    "file_handler = build_file_handler()\n",
    "logger.addHandler(file_handler)\n",
    "\n",
    "# Do not propogate messages up beyond the\n",
    "# package root logger.\n",
    "logger.propagate = False"
   ]
  },
  {
   "cell_type": "raw",
   "metadata": {
    "raw_mimetype": "text/restructuredtext"
   },
   "source": [
    "To test this logging code, we specify a simple parameter grid benchmark:"
   ]
  },
  {
   "cell_type": "code",
   "execution_count": 3,
   "metadata": {
    "scrolled": true
   },
   "outputs": [],
   "source": [
    "from maccabee.constants import Constants\n",
    "from maccabee.data_sources.data_source_builders import build_random_normal_datasource\n",
    "from maccabee.benchmarking import benchmark_model_using_sampled_dgp_grid\n",
    "from maccabee.modeling.models import LinearRegressionCausalModel\n",
    "\n",
    "import pandas as pd\n",
    "\n",
    "def run_dgp_benchmark_grid():\n",
    "    LOW, MEDIUM, HIGH = Constants.AxisLevels.LEVELS\n",
    "\n",
    "    param_grid = {\n",
    "        Constants.AxisNames.TREATMENT_NONLINEARITY: [LOW],\n",
    "        Constants.AxisNames.OUTCOME_NONLINEARITY: [HIGH, MEDIUM, LOW]\n",
    "    }\n",
    "\n",
    "    normal_data_source = build_random_normal_datasource(\n",
    "        n_covars=5,\n",
    "        n_observations=10)\n",
    "\n",
    "    results = benchmark_model_using_sampled_dgp_grid(\n",
    "        model_class=LinearRegressionCausalModel,\n",
    "        estimand=Constants.Model.ATE_ESTIMAND,\n",
    "        data_source=normal_data_source,\n",
    "        dgp_param_grid=param_grid,\n",
    "        num_dgp_samples=1,\n",
    "        num_sampling_runs_per_dgp=1,\n",
    "        num_samples_from_dgp=1)"
   ]
  },
  {
   "cell_type": "raw",
   "metadata": {
    "raw_mimetype": "text/restructuredtext"
   },
   "source": [
    "When this benchmark is run, the log output is diplayed in the console and also saved to the file. The file has ~300 log entries."
   ]
  },
  {
   "cell_type": "code",
   "execution_count": 4,
   "metadata": {},
   "outputs": [
    {
     "name": "stdout",
     "output_type": "stream",
     "text": [
      "DEBUG - maccabee.parameters.parameter_store:Reading parameter spec from path /home/jovyan/work/Maccabee/maccabee/parameters/default_parameter_specification.yml\n",
      "DEBUG - maccabee.parameters.parameter_store:Build parameter store from schema\n",
      "DEBUG - maccabee.parameters.parameter_store:Validating supplied value for parameter POTENTIAL_CONFOUNDER_SELECTION_PROBABILITY\n",
      "DEBUG - maccabee.parameters.parameter_store:Validating supplied value for parameter ACTUAL_CONFOUNDER_ALIGNMENT\n",
      "DEBUG - maccabee.parameters.parameter_store:Validating supplied value for parameter TREAT_MECHANISM_COVARIATE_SELECTION_PROBABILITY\n",
      "DEBUG - maccabee.parameters.parameter_store:Validating supplied value for parameter OUTCOME_MECHANISM_COVARIATE_SELECTION_PROBABILITY\n",
      "DEBUG - maccabee.parameters.parameter_store:Validating supplied value for parameter TARGET_PROPENSITY_SCORE\n",
      "DEBUG - maccabee.parameters.parameter_store:Validating supplied value for parameter FORCED_IMBALANCE_ADJUSTMENT\n",
      "DEBUG - maccabee.parameters.parameter_store:Calculating value for parameter TARGET_MEAN_LOGIT\n",
      "DEBUG - maccabee.parameters.parameter_store:Validating supplied value for parameter TREATMENT_EFFECT_HETEROGENEITY\n",
      "DEBUG - maccabee.parameters.parameter_store:Validating supplied value for parameter OBSERVATION_PROBABILITY\n",
      "DEBUG - maccabee.parameters.parameter_store:Recalculating calculated parameter values.\n",
      "INFO - maccabee.benchmarking.benchmarking:Running benchmarking with params {'OUTCOME_NONLINEARITY': 'HIGH', 'TREATMENT_NONLINEARITY': 'LOW'} and 1 workers.\n",
      "INFO - maccabee.benchmarking.benchmarking:Sampling DGPs using 1 processes\n",
      "DEBUG - maccabee.benchmarking.benchmarking:Spawning dgp sampling process 0.\n",
      "DEBUG - maccabee.benchmarking.benchmarking:Waiting for dgp sampling processes to terminate.\n",
      "INFO - maccabee.benchmarking.benchmarking:Sampling DGP 1\n",
      "INFO - maccabee.data_generation.data_generating_process_sampler:Getting covariate data set from data source\n",
      "INFO - maccabee.data_generation.data_generating_process_sampler:Sampling observed covariates from data set\n",
      "INFO - maccabee.data_generation.data_generating_process_sampler:Sampling potential confounder covariates\n",
      "DEBUG - maccabee.data_generation.utils:Sampling objects using calculated expected number of selected items\n",
      "DEBUG - maccabee.data_generation.data_generating_process_sampler:Sampled potential confounder covariates: [X4 X2 X0 X1 X3]\n",
      "INFO - maccabee.data_generation.data_generating_process_sampler:Sampling outcome and treatment covariate transforms\n",
      "DEBUG - maccabee.data_generation.utils:Sampling objects using calculated expected number of selected items\n",
      "DEBUG - maccabee.data_generation.utils:Sampling objects using per-item selection probability\n",
      "DEBUG - maccabee.data_generation.utils:Sampling objects using calculated expected number of selected items\n",
      "DEBUG - maccabee.data_generation.utils:Sampling objects using calculated expected number of selected items\n",
      "DEBUG - maccabee.data_generation.utils:Sampling objects using calculated expected number of selected items\n",
      "DEBUG - maccabee.data_generation.utils:Sampling objects using calculated expected number of selected items\n",
      "DEBUG - maccabee.data_generation.utils:Sampling objects using per-item selection probability\n",
      "DEBUG - maccabee.data_generation.utils:Sampling objects using calculated expected number of selected items\n",
      "DEBUG - maccabee.data_generation.utils:Sampling objects using calculated expected number of selected items\n",
      "DEBUG - maccabee.data_generation.utils:Sampling objects using calculated expected number of selected items\n",
      "DEBUG - maccabee.data_generation.utils:Sampling objects using calculated expected number of selected items\n",
      "DEBUG - maccabee.data_generation.utils:Sampling objects using per-item selection probability\n",
      "DEBUG - maccabee.data_generation.utils:Sampling objects using calculated expected number of selected items\n",
      "DEBUG - maccabee.data_generation.utils:Sampling objects using per-item selection probability\n",
      "DEBUG - maccabee.data_generation.utils:Sampling objects using calculated expected number of selected items\n",
      "DEBUG - maccabee.data_generation.utils:Sampling objects using per-item selection probability\n",
      "DEBUG - maccabee.data_generation.utils:Sampling objects using calculated expected number of selected items\n",
      "DEBUG - maccabee.data_generation.utils:Sampling objects using per-item selection probability\n",
      "DEBUG - maccabee.data_generation.utils:Sampling objects using calculated expected number of selected items\n",
      "DEBUG - maccabee.data_generation.utils:Sampling objects using per-item selection probability\n",
      "DEBUG - maccabee.data_generation.utils:Sampling objects using calculated expected number of selected items\n",
      "DEBUG - maccabee.data_generation.utils:Sampling objects using per-item selection probability\n",
      "DEBUG - maccabee.data_generation.data_generating_process_sampler:Running alignment adjustment with alignment diff -0.5\n",
      "DEBUG - maccabee.data_generation.utils:Sampling objects using calculated expected number of selected items\n",
      "DEBUG - maccabee.data_generation.data_generating_process_sampler:Increasing alignment. New aligned terms: 10\n",
      "DEBUG - maccabee.data_generation.data_generating_process_sampler:Sampled outcome and treatment covariate transforms: [-9.45683336515111*X1**3, Piecewise((0, X3 < -0.41654984723677), (4.28073545736135, True)), -9.68911456914772*X0*X1*X2, 3.74092123890312*X2*X4, 2.75324582953655*X2**3, -2.11414017157018*X4**2, 3.73297951092382*X1**2, 4.67300170922356*X0*X2, 2.90049564460121*X1*X2*X4, -9.7579513284911*X2*X3, -6.81798770570472*X0*X1*X4, -4.82500145331914*X0*X3, 9.76587000707802*X0*X4, -2.18488847559049*X0*X2*X3, 7.15697800317688*X0*X1, -8.39153392228097*X3**3, 9.29818477125461*X1*X2, -9.64370211934554*X3**2, -5.63941936591103*X0*X3*X4, -1.57578799717292*X0*X1*X3] | [-6.59020769068014*X1**3, Piecewise((0, X3 < -5.97977132373528), (9.08567568194322, True)), -2.14617675292*X0*X1*X2, -9.99240068150778*X2*X4, -6.04519921394755*X2**3, -3.15277953458128*X4**2, 7.78316587542072*X1**2, 1.70767992968494*X0*X2, 9.06484044215455*X1*X2*X4, -3.11151244794479*X2*X3, -0.279411895373982*X2, -5.352185051821*X3, -7.55504999505321*X1, -3.83620639327953*X4]\n",
      "INFO - maccabee.data_generation.data_generating_process_sampler:Building treatment function from transforms\n",
      "DEBUG - maccabee.data_generation.data_generating_process_sampler:Normalizing treatment function using mean centering and std scaling.\n",
      "DEBUG - maccabee.data_generation.data_generating_process_sampler:Treatment function: 1/(3.47342190847803*exp(0.181253488446361*X0*X1*X2 - 0.144220621150661*X0*X2 + 0.556570250747815*X1**3 - 0.657320495228228*X1**2 - 0.765563204481982*X1*X2*X4 + 0.638055167230257*X1 + 0.510542034522745*X2**3 + 0.262780073806574*X2*X3 + 0.843899496634143*X2*X4 + 0.0235974882688667*X2 + 0.452014127043892*X3 + 0.26626524966672*X4**2 + 0.323983469784638*X4 - 0.0844541290458745*Piecewise((0, X3 < -5.97977132373528), (9.08567568194322, True))) + 1)\n",
      "INFO - maccabee.data_generation.data_generating_process_sampler:Building outcome function from transforms\n",
      "DEBUG - maccabee.data_generation.utils:Sampling objects using calculated expected number of selected items\n",
      "DEBUG - maccabee.data_generation.utils:Sampling objects using per-item selection probability\n",
      "DEBUG - maccabee.data_generation.data_generating_process_sampler:Outcomr function: -1.27614932898023*T - 9.68911456914772*X0*X1*X2 - 1.57578799717292*X0*X1*X3 - 6.81798770570472*X0*X1*X4 + 7.15697800317688*X0*X1 - 2.18488847559049*X0*X2*X3 + 4.67300170922356*X0*X2 - 5.63941936591103*X0*X3*X4 - 4.82500145331914*X0*X3 + 9.76587000707802*X0*X4 - 9.45683336515111*X1**3 + 3.73297951092382*X1**2 + 2.90049564460121*X1*X2*X4 + 9.29818477125461*X1*X2 + 2.75324582953655*X2**3 - 9.7579513284911*X2*X3 + 3.74092123890312*X2*X4 - 8.39153392228097*X3**3 - 9.64370211934554*X3**2 - 2.11414017157018*X4**2 + Y_noise + Piecewise((0, X3 < -0.41654984723677), (4.28073545736135, True))\n",
      "INFO - maccabee.data_generation.data_generating_process_sampler:Instantiating DGP using class: <class 'maccabee.data_generation.data_generating_process.SampledDataGeneratingProcess'>\n",
      "DEBUG - maccabee.benchmarking.benchmarking:All dgp sampling processes terminated.\n",
      "...\n"
     ]
    }
   ],
   "source": [
    "run_dgp_benchmark_grid()"
   ]
  },
  {
   "cell_type": "code",
   "execution_count": 5,
   "metadata": {},
   "outputs": [
    {
     "name": "stdout",
     "output_type": "stream",
     "text": [
      "DEBUG - maccabee.parameters.parameter_store:Reading parameter spec from path /home/jovyan/work/Maccabee/maccabee/parameters/default_parameter_specification.yml\r\n",
      "DEBUG - maccabee.parameters.parameter_store:Build parameter store from schema\r\n",
      "DEBUG - maccabee.parameters.parameter_store:Validating supplied value for parameter POTENTIAL_CONFOUNDER_SELECTION_PROBABILITY\r\n",
      "DEBUG - maccabee.parameters.parameter_store:Validating supplied value for parameter ACTUAL_CONFOUNDER_ALIGNMENT\r\n",
      "DEBUG - maccabee.parameters.parameter_store:Validating supplied value for parameter TREAT_MECHANISM_COVARIATE_SELECTION_PROBABILITY\r\n"
     ]
    }
   ],
   "source": [
    "!head -5 maccabee.log"
   ]
  },
  {
   "cell_type": "code",
   "execution_count": 6,
   "metadata": {},
   "outputs": [
    {
     "name": "stdout",
     "output_type": "stream",
     "text": [
      "340 maccabee.log\r\n"
     ]
    }
   ],
   "source": [
    "!wc -l maccabee.log"
   ]
  },
  {
   "cell_type": "raw",
   "metadata": {
    "raw_mimetype": "text/restructuredtext"
   },
   "source": [
    "Customizing Logging\n",
    "-------------------\n",
    "\n",
    "The log output above contains a lot of granular detail. It may thus be useful to filter the output. The examples below cover two useful filtering approaches. Note that any of the approaches to selecting loggers from the logger-hierarchy and filtering log records, documented in the python docs, can be applied.\n",
    "\n",
    "First, we can focus in on a specific Maccabee submodule. To see only messages related to the benchmarking module, we can use the code below to apply a filter. This strategy exploits the fact that the loggers used in each Maccabee submodule are named based on the submodule. After applying the filter, only log messages from the benchmarking module or submodules are allowed."
   ]
  },
  {
   "cell_type": "code",
   "execution_count": 7,
   "metadata": {},
   "outputs": [
    {
     "name": "stdout",
     "output_type": "stream",
     "text": [
      "INFO - maccabee.benchmarking.benchmarking:Running benchmarking with params {'OUTCOME_NONLINEARITY': 'HIGH', 'TREATMENT_NONLINEARITY': 'LOW'} and 1 workers.\n",
      "INFO - maccabee.benchmarking.benchmarking:Sampling DGPs using 1 processes\n",
      "DEBUG - maccabee.benchmarking.benchmarking:Spawning dgp sampling process 0.\n",
      "DEBUG - maccabee.benchmarking.benchmarking:Waiting for dgp sampling processes to terminate.\n",
      "INFO - maccabee.benchmarking.benchmarking:Sampling DGP 1\n",
      "DEBUG - maccabee.benchmarking.benchmarking:All dgp sampling processes terminated.\n",
      "INFO - maccabee.benchmarking.benchmarking:Completed sampling DGPs using 1 processes\n",
      "INFO - maccabee.benchmarking.benchmarking:Starting benchmarking with sampled DGPs using 1 workers.\n",
      "INFO - maccabee.benchmarking.benchmarking:Running concrete DGP benchmark using a single process.\n",
      "DEBUG - maccabee.benchmarking.benchmarking:Starting sampling run 1\n",
      "DEBUG - maccabee.benchmarking.benchmarking:Starting sampling for run 1.\n",
      "INFO - maccabee.benchmarking.benchmarking:Generating data set 1\n",
      "DEBUG - maccabee.benchmarking.benchmarking:Fitting causal model to data set 1\n",
      "DEBUG - maccabee.benchmarking.benchmarking:Collecting model estimand for data set 1\n",
      "DEBUG - maccabee.benchmarking.benchmarking:Collecting ground truth effect from data set 1\n",
      "DEBUG - maccabee.benchmarking.benchmarking:Done sampling for run 1.\n",
      "DEBUG - maccabee.benchmarking.benchmarking:Performing DGP aggregate perf metric collection.\n",
      "DEBUG - maccabee.benchmarking.benchmarking:Done data and metric sampling for DGP 1/1\n",
      "DEBUG - maccabee.benchmarking.benchmarking:Done aggregate perf metric collection for DGP 1/1\n",
      "INFO - maccabee.benchmarking.benchmarking:Done benchmarking with sampled DGPs.\n",
      "INFO - maccabee.benchmarking.benchmarking:Running benchmarking with params {'OUTCOME_NONLINEARITY': 'MEDIUM', 'TREATMENT_NONLINEARITY': 'LOW'} and 1 workers.\n",
      "INFO - maccabee.benchmarking.benchmarking:Sampling DGPs using 1 processes\n",
      "DEBUG - maccabee.benchmarking.benchmarking:Spawning dgp sampling process 0.\n",
      "DEBUG - maccabee.benchmarking.benchmarking:Waiting for dgp sampling processes to terminate.\n",
      "INFO - maccabee.benchmarking.benchmarking:Sampling DGP 1\n",
      "DEBUG - maccabee.benchmarking.benchmarking:All dgp sampling processes terminated.\n",
      "INFO - maccabee.benchmarking.benchmarking:Completed sampling DGPs using 1 processes\n",
      "INFO - maccabee.benchmarking.benchmarking:Starting benchmarking with sampled DGPs using 1 workers.\n",
      "INFO - maccabee.benchmarking.benchmarking:Running concrete DGP benchmark using a single process.\n",
      "DEBUG - maccabee.benchmarking.benchmarking:Starting sampling run 1\n",
      "DEBUG - maccabee.benchmarking.benchmarking:Starting sampling for run 1.\n",
      "INFO - maccabee.benchmarking.benchmarking:Generating data set 1\n",
      "DEBUG - maccabee.benchmarking.benchmarking:Fitting causal model to data set 1\n",
      "DEBUG - maccabee.benchmarking.benchmarking:Collecting model estimand for data set 1\n",
      "DEBUG - maccabee.benchmarking.benchmarking:Collecting ground truth effect from data set 1\n",
      "DEBUG - maccabee.benchmarking.benchmarking:Done sampling for run 1.\n",
      "DEBUG - maccabee.benchmarking.benchmarking:Performing DGP aggregate perf metric collection.\n",
      "DEBUG - maccabee.benchmarking.benchmarking:Done data and metric sampling for DGP 1/1\n",
      "DEBUG - maccabee.benchmarking.benchmarking:Done aggregate perf metric collection for DGP 1/1\n",
      "INFO - maccabee.benchmarking.benchmarking:Done benchmarking with sampled DGPs.\n",
      "INFO - maccabee.benchmarking.benchmarking:Running benchmarking with params {'OUTCOME_NONLINEARITY': 'LOW', 'TREATMENT_NONLINEARITY': 'LOW'} and 1 workers.\n",
      "INFO - maccabee.benchmarking.benchmarking:Sampling DGPs using 1 processes\n",
      "DEBUG - maccabee.benchmarking.benchmarking:Spawning dgp sampling process 0.\n",
      "DEBUG - maccabee.benchmarking.benchmarking:Waiting for dgp sampling processes to terminate.\n",
      "INFO - maccabee.benchmarking.benchmarking:Sampling DGP 1\n",
      "DEBUG - maccabee.benchmarking.benchmarking:All dgp sampling processes terminated.\n",
      "INFO - maccabee.benchmarking.benchmarking:Completed sampling DGPs using 1 processes\n",
      "INFO - maccabee.benchmarking.benchmarking:Starting benchmarking with sampled DGPs using 1 workers.\n",
      "INFO - maccabee.benchmarking.benchmarking:Running concrete DGP benchmark using a single process.\n",
      "DEBUG - maccabee.benchmarking.benchmarking:Starting sampling run 1\n",
      "DEBUG - maccabee.benchmarking.benchmarking:Starting sampling for run 1.\n",
      "INFO - maccabee.benchmarking.benchmarking:Generating data set 1\n",
      "DEBUG - maccabee.benchmarking.benchmarking:Fitting causal model to data set 1\n",
      "DEBUG - maccabee.benchmarking.benchmarking:Collecting model estimand for data set 1\n",
      "DEBUG - maccabee.benchmarking.benchmarking:Collecting ground truth effect from data set 1\n",
      "DEBUG - maccabee.benchmarking.benchmarking:Done sampling for run 1.\n",
      "DEBUG - maccabee.benchmarking.benchmarking:Performing DGP aggregate perf metric collection.\n",
      "DEBUG - maccabee.benchmarking.benchmarking:Done data and metric sampling for DGP 1/1\n",
      "DEBUG - maccabee.benchmarking.benchmarking:Done aggregate perf metric collection for DGP 1/1\n",
      "INFO - maccabee.benchmarking.benchmarking:Done benchmarking with sampled DGPs.\n"
     ]
    }
   ],
   "source": [
    "benchmark_filter = logging.Filter(name='maccabee.benchmarking')\n",
    "console_handler.addFilter(benchmark_filter)\n",
    "run_dgp_benchmark_grid()"
   ]
  },
  {
   "cell_type": "raw",
   "metadata": {
    "raw_mimetype": "text/restructuredtext"
   },
   "source": [
    "This is helpful, but there is still a lot of detail. We can further narrow the output by increasing the log output level. This could be done globally when configuring the root logger, but it can also be done on the module. This is useful for mixing log-levels that are output for different modules. The code below fetches the benchmarking logger and then sets the log level to info. This results in much fewer log entries being displayed.\n",
    "\n",
    "Note that, in this case, the level change must be applied to the logger at the exact module level. Changes in logging level for parent module loggers do not apply to log events produced by child submodule loggers."
   ]
  },
  {
   "cell_type": "code",
   "execution_count": 18,
   "metadata": {},
   "outputs": [
    {
     "name": "stdout",
     "output_type": "stream",
     "text": [
      "INFO - maccabee.benchmarking.benchmarking:Running benchmarking with params {'OUTCOME_NONLINEARITY': 'HIGH', 'TREATMENT_NONLINEARITY': 'LOW'} and 1 workers.\n",
      "INFO - maccabee.benchmarking.benchmarking:Sampling DGPs using 1 processes\n",
      "INFO - maccabee.benchmarking.benchmarking:Sampling DGP 1\n",
      "INFO - maccabee.benchmarking.benchmarking:Completed sampling DGPs using 1 processes\n",
      "INFO - maccabee.benchmarking.benchmarking:Starting benchmarking with sampled DGPs using 1 workers.\n",
      "INFO - maccabee.benchmarking.benchmarking:Running concrete DGP benchmark using a single process.\n",
      "INFO - maccabee.benchmarking.benchmarking:Generating data set 1\n",
      "INFO - maccabee.benchmarking.benchmarking:Done benchmarking with sampled DGPs.\n",
      "INFO - maccabee.benchmarking.benchmarking:Running benchmarking with params {'OUTCOME_NONLINEARITY': 'MEDIUM', 'TREATMENT_NONLINEARITY': 'LOW'} and 1 workers.\n",
      "INFO - maccabee.benchmarking.benchmarking:Sampling DGPs using 1 processes\n",
      "INFO - maccabee.benchmarking.benchmarking:Sampling DGP 1\n",
      "INFO - maccabee.benchmarking.benchmarking:Completed sampling DGPs using 1 processes\n",
      "INFO - maccabee.benchmarking.benchmarking:Starting benchmarking with sampled DGPs using 1 workers.\n",
      "INFO - maccabee.benchmarking.benchmarking:Running concrete DGP benchmark using a single process.\n",
      "INFO - maccabee.benchmarking.benchmarking:Generating data set 1\n",
      "INFO - maccabee.benchmarking.benchmarking:Done benchmarking with sampled DGPs.\n",
      "INFO - maccabee.benchmarking.benchmarking:Running benchmarking with params {'OUTCOME_NONLINEARITY': 'LOW', 'TREATMENT_NONLINEARITY': 'LOW'} and 1 workers.\n",
      "INFO - maccabee.benchmarking.benchmarking:Sampling DGPs using 1 processes\n",
      "INFO - maccabee.benchmarking.benchmarking:Sampling DGP 1\n",
      "INFO - maccabee.benchmarking.benchmarking:Completed sampling DGPs using 1 processes\n",
      "INFO - maccabee.benchmarking.benchmarking:Starting benchmarking with sampled DGPs using 1 workers.\n",
      "INFO - maccabee.benchmarking.benchmarking:Running concrete DGP benchmark using a single process.\n",
      "INFO - maccabee.benchmarking.benchmarking:Generating data set 1\n",
      "INFO - maccabee.benchmarking.benchmarking:Done benchmarking with sampled DGPs.\n"
     ]
    }
   ],
   "source": [
    "from maccabee.logging import get_logger\n",
    "\n",
    "benchmark_logger = get_logger(\"maccabee.benchmarking.benchmarking\")\n",
    "benchmark_logger.setLevel(logging.INFO)\n",
    "run_dgp_benchmark_grid()"
   ]
  }
 ],
 "metadata": {
  "celltoolbar": "Raw Cell Format",
  "kernelspec": {
   "display_name": "Python 3",
   "language": "python",
   "name": "python3"
  },
  "language_info": {
   "codemirror_mode": {
    "name": "ipython",
    "version": 3
   },
   "file_extension": ".py",
   "mimetype": "text/x-python",
   "name": "python",
   "nbconvert_exporter": "python",
   "pygments_lexer": "ipython3",
   "version": "3.7.6"
  },
  "varInspector": {
   "cols": {
    "lenName": 16,
    "lenType": 16,
    "lenVar": 40
   },
   "kernels_config": {
    "python": {
     "delete_cmd_postfix": "",
     "delete_cmd_prefix": "del ",
     "library": "var_list.py",
     "varRefreshCmd": "print(var_dic_list())"
    },
    "r": {
     "delete_cmd_postfix": ") ",
     "delete_cmd_prefix": "rm(",
     "library": "var_list.r",
     "varRefreshCmd": "cat(var_dic_list()) "
    }
   },
   "types_to_exclude": [
    "module",
    "function",
    "builtin_function_or_method",
    "instance",
    "_Feature"
   ],
   "window_display": false
  }
 },
 "nbformat": 4,
 "nbformat_minor": 2
}
