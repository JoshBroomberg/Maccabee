{
 "cells": [
  {
   "cell_type": "code",
   "execution_count": 1,
   "metadata": {
    "nbsphinx": "hidden",
    "run_control": {
     "marked": true
    }
   },
   "outputs": [],
   "source": [
    "# Hidden Config Cell\n",
    "\n",
    "#!python -m pip install -e ../../../../Maccabee > /dev/null"
   ]
  },
  {
   "cell_type": "raw",
   "metadata": {
    "raw_mimetype": "text/restructuredtext"
   },
   "source": [
    "Customizing DGP Sampling\n",
    "************************\n",
    "\n",
    "The procedure outlined in the :doc:`sampled-dgp` tutorial provides a decent default mechanism for operationalizing sampled-DGP based benchmarking. In that tutorial, DGPs are sampled based on selected parameter levels which describe a location in the :term:`distributional problem space`. The sampling of data from the DGPs and fitting of models was handled by benchmarking functions.\n",
    "\n",
    "This tutorial describes how to customize the DGP sampling process. Primarily, this means directly specifying DGP sampling parameters instead of relying on levels along :term:`distributional problem space axes <distributional problem space axis>`. These parameters can then be passed to benchmarking functions, analogous to those in the prior tutorials, which then results in the exact benchmarking procedure previously outlined. \n",
    "\n",
    "However, we will go beyond this procedure, and also look at how to manually sample DGPs, allowing for fine-grained control over the entire end-to-end process. This fine-grained control may be particularly helpful for the purpose of debugging/diagnosis.\n",
    "\n",
    "Specifying Parameters\n",
    "---------------------\n",
    "\n",
    "DGP sampling parameters are stored in :class:`~maccabee.parameters.parameter_store.ParameterStore` instances. These instances encapsulate much of the complexity of the parameter specification. Complete documentation on how to construct :class:`~maccabee.parameters.parameter_store.ParameterStore` instances is available in the class reference documentation. In this tutorial, we cover two of the three methods (omitting parameter schema files):\n",
    "\n",
    "Customizing the Default Parameters\n",
    "++++++++++++++++++++++++++++++++++\n",
    "\n",
    "The easiest way to construct a :class:`~maccabee.parameters.parameter_store.ParameterStore` instance is to start from Maccabee's default parameter values. This can be done by importing the :func:`~maccabee.parameters.parameter_store.parameter_store_builds.build_default_parameters` function and using it as below:\n",
    "\n",
    "\n"
   ]
  },
  {
   "cell_type": "code",
   "execution_count": 29,
   "metadata": {},
   "outputs": [
    {
     "data": {
      "text/plain": [
       "<maccabee.parameters.parameter_store.ParameterStore at 0x7f7b247bc650>"
      ]
     },
     "execution_count": 29,
     "metadata": {},
     "output_type": "execute_result"
    }
   ],
   "source": [
    "from maccabee.constants import Constants\n",
    "from maccabee.parameters import build_default_parameters\n",
    "\n",
    "# Build the parameters\n",
    "dgp_params = build_default_parameters()\n",
    "\n",
    "dgp_params"
   ]
  },
  {
   "cell_type": "raw",
   "metadata": {
    "raw_mimetype": "text/restructuredtext"
   },
   "source": [
    "This instance can then be customized using its :meth:`~maccabee.parameters.parameter_store.ParameterStore.set_parameters` method as demonstrated below.\n",
    "\n",
    "See the :mod:`~maccabee.parameters.parameter_store` module docs for detail on the :class:`~maccabee.parameters.parameter_store.ParameterStore` API and the parameters available for customization."
   ]
  },
  {
   "cell_type": "code",
   "execution_count": 6,
   "metadata": {},
   "outputs": [
    {
     "data": {
      "text/plain": [
       "0.25"
      ]
     },
     "execution_count": 6,
     "metadata": {},
     "output_type": "execute_result"
    }
   ],
   "source": [
    "dgp_params.set_parameters({\n",
    "    \"ACTUAL_CONFOUNDER_ALIGNMENT\": 0.25,\n",
    "    \"POTENTIAL_CONFOUNDER_SELECTION_PROBABILITY\": 0.7\n",
    "})\n",
    "\n",
    "dgp_params.ACTUAL_CONFOUNDER_ALIGNMENT"
   ]
  },
  {
   "cell_type": "raw",
   "metadata": {
    "raw_mimetype": "text/restructuredtext"
   },
   "source": [
    "Customizing the Axis Level Parameters\n",
    "+++++++++++++++++++++++++++++++++++++ \n",
    "\n",
    "The second method of building custom parameters involves starting from the :term:`distributional problem space axis` level parameters and customizing them as above. This can be done using the :func:`~maccabee.parameters.parameter_store.parameter_store_builds.build_parameters_from_axis_levels` function as below. Any axes omitted from the dictionary will be instantiated to their default values."
   ]
  },
  {
   "cell_type": "code",
   "execution_count": 9,
   "metadata": {},
   "outputs": [
    {
     "data": {
      "text/plain": [
       "<maccabee.parameters.parameter_store.ParameterStore at 0x7f7b054172d0>"
      ]
     },
     "execution_count": 9,
     "metadata": {},
     "output_type": "execute_result"
    }
   ],
   "source": [
    "from maccabee.constants import Constants\n",
    "from maccabee.parameters import build_parameters_from_axis_levels\n",
    "\n",
    "# Build the parameters\n",
    "dgp_params = build_parameters_from_axis_levels({\n",
    "  Constants.AxisNames.OUTCOME_NONLINEARITY: Constants.AxisLevels.LOW,\n",
    "  Constants.AxisNames.TREATMENT_NONLINEARITY: Constants.AxisLevels.LOW,\n",
    "})\n",
    "\n",
    "dgp_params"
   ]
  },
  {
   "cell_type": "raw",
   "metadata": {
    "raw_mimetype": "text/restructuredtext"
   },
   "source": [
    "With custom parameters in hand, there are two ways to proceed. Either using the built in benchmarking tools or manually sampling DGPs. These two paths are outlined below.\n",
    "\n",
    "Using Benchmarking Functions with Custom Parameters\n",
    "---------------------------------------------------\n",
    "\n",
    "The procedure for running a benchmark is nearly identical to the one outlined in :doc:`sampled-dgp`. However, the function :func:`~maccabee.benchmarking.benchmarking.benchmark_model_using_sampled_dgp` is used to run a benchmark using the :class:`~maccabee.parameters.parameter_store.ParameterStore` instance constructed above in place of the parameter levels grid.\n"
   ]
  },
  {
   "cell_type": "code",
   "execution_count": 17,
   "metadata": {},
   "outputs": [
    {
     "data": {
      "text/plain": [
       "{'RMSE': 0.022,\n",
       " 'RMSE (std)': 0.003,\n",
       " 'AMBP': 0.61,\n",
       " 'AMBP (std)': 0.4,\n",
       " 'MABP': 1.832,\n",
       " 'MABP (std)': 0.321}"
      ]
     },
     "execution_count": 17,
     "metadata": {},
     "output_type": "execute_result"
    }
   ],
   "source": [
    "from maccabee.constants import Constants\n",
    "from maccabee.data_sources.data_source_builders import build_random_normal_datasource\n",
    "from maccabee.benchmarking import benchmark_model_using_sampled_dgp\n",
    "from maccabee.modeling.models import LinearRegressionCausalModel\n",
    "import pandas as pd\n",
    "\n",
    "normal_data_source = build_random_normal_datasource(\n",
    "    n_covars=5,\n",
    "    n_observations=1000)\n",
    "    \n",
    "results = benchmark_model_using_sampled_dgp(\n",
    "    dgp_sampling_params=dgp_params,\n",
    "    model_class=LinearRegressionCausalModel,\n",
    "    estimand=Constants.Model.ATE_ESTIMAND,\n",
    "    data_source=normal_data_source,\n",
    "    num_dgp_samples=2,\n",
    "    num_sampling_runs_per_dgp=5,\n",
    "    num_samples_from_dgp=10)\n",
    "\n",
    "results[0]"
   ]
  },
  {
   "cell_type": "raw",
   "metadata": {
    "raw_mimetype": "text/restructuredtext"
   },
   "source": [
    "It is clear that the return value for this function is slightly different. It has more components - designed to provide lower-level insight into the results - and doesn't lend itself to direct conversion into a :class:`pandas.DataFrame`. See the :func:`~maccabee.benchmarking.benchmarking.benchmark_model_using_sampled_dgp` function reference docs for more detail."
   ]
  },
  {
   "cell_type": "raw",
   "metadata": {
    "raw_mimetype": "text/restructuredtext"
   },
   "source": [
    "Manually Sampling DGPs\n",
    "----------------------\n",
    "\n",
    "The second approach involves manually sampling DGPs. This gives direct, low-level access to the data generation process. There code below introduces the  :class:`~maccabee.data_generation.data_generating_process_sampling.DataGeneratingProcessSampler` class. This is the class used by the benchmarking functions to sample DGPs using the parameters from a :class:`~maccabee.parameters.parameter_store.ParameterStore` instance and the covariate data from a :class:`~maccabee.data_sources.data_sources.DataSource` instance.\n",
    "\n",
    "The code below provides the basic template for manual DGP sampling. Consult the relevant subsections of the :doc:`/reference` section for details on how to interact with the classes and objects which appear below."
   ]
  },
  {
   "cell_type": "code",
   "execution_count": 24,
   "metadata": {
    "scrolled": true
   },
   "outputs": [
    {
     "data": {
      "text/plain": [
       "<maccabee.data_generation.data_generating_process.SampledDataGeneratingProcess at 0x7f7b248db4d0>"
      ]
     },
     "execution_count": 24,
     "metadata": {},
     "output_type": "execute_result"
    }
   ],
   "source": [
    "from maccabee.data_sources import build_random_normal_datasource\n",
    "from maccabee.data_generation import DataGeneratingProcessSampler\n",
    "\n",
    "# Build the data source\n",
    "covar_data_source = build_random_normal_datasource(\n",
    "  n_covars = 5, n_observations=1000)\n",
    "\n",
    "# Build a DGP Sampler, supplying params and data.\n",
    "dgp_sampler = DataGeneratingProcessSampler(\n",
    "  parameters=dgp_params,\n",
    "  data_source=covar_data_source)\n",
    "\n",
    "# Sample a DGP.\n",
    "dgp = dgp_sampler.sample_dgp()\n",
    "\n",
    "dgp"
   ]
  },
  {
   "cell_type": "raw",
   "metadata": {
    "raw_mimetype": "text/restructuredtext"
   },
   "source": [
    "Now that we have a sampled :class:`~maccabee.data_generation.data_generating_process.DataGeneratingProcess` instance, we proceed as outlined in the :doc:`concrete-dgp` tutorial - sampling data, fitting a causal model and producing a treatment effect estimate."
   ]
  },
  {
   "cell_type": "code",
   "execution_count": 25,
   "metadata": {},
   "outputs": [
    {
     "data": {
      "text/html": [
       "<div>\n",
       "<style scoped>\n",
       "    .dataframe tbody tr th:only-of-type {\n",
       "        vertical-align: middle;\n",
       "    }\n",
       "\n",
       "    .dataframe tbody tr th {\n",
       "        vertical-align: top;\n",
       "    }\n",
       "\n",
       "    .dataframe thead th {\n",
       "        text-align: right;\n",
       "    }\n",
       "</style>\n",
       "<table border=\"1\" class=\"dataframe\">\n",
       "  <thead>\n",
       "    <tr style=\"text-align: right;\">\n",
       "      <th></th>\n",
       "      <th>X0</th>\n",
       "      <th>X1</th>\n",
       "      <th>X2</th>\n",
       "      <th>X3</th>\n",
       "      <th>X4</th>\n",
       "      <th>T</th>\n",
       "      <th>Y</th>\n",
       "    </tr>\n",
       "  </thead>\n",
       "  <tbody>\n",
       "    <tr>\n",
       "      <th>0</th>\n",
       "      <td>0.042946</td>\n",
       "      <td>-0.244024</td>\n",
       "      <td>0.352224</td>\n",
       "      <td>-0.385605</td>\n",
       "      <td>-0.297958</td>\n",
       "      <td>0</td>\n",
       "      <td>0.065378</td>\n",
       "    </tr>\n",
       "    <tr>\n",
       "      <th>1</th>\n",
       "      <td>-0.035489</td>\n",
       "      <td>-0.130587</td>\n",
       "      <td>0.168029</td>\n",
       "      <td>-0.508966</td>\n",
       "      <td>0.172846</td>\n",
       "      <td>1</td>\n",
       "      <td>-1.160852</td>\n",
       "    </tr>\n",
       "    <tr>\n",
       "      <th>2</th>\n",
       "      <td>-0.100376</td>\n",
       "      <td>-0.000438</td>\n",
       "      <td>-0.134698</td>\n",
       "      <td>0.158655</td>\n",
       "      <td>0.133745</td>\n",
       "      <td>1</td>\n",
       "      <td>-1.293867</td>\n",
       "    </tr>\n",
       "    <tr>\n",
       "      <th>3</th>\n",
       "      <td>-0.198569</td>\n",
       "      <td>-0.354449</td>\n",
       "      <td>0.093455</td>\n",
       "      <td>-0.113408</td>\n",
       "      <td>-0.307699</td>\n",
       "      <td>1</td>\n",
       "      <td>-0.491382</td>\n",
       "    </tr>\n",
       "    <tr>\n",
       "      <th>4</th>\n",
       "      <td>0.250105</td>\n",
       "      <td>-0.005793</td>\n",
       "      <td>-0.202563</td>\n",
       "      <td>-0.027322</td>\n",
       "      <td>0.524938</td>\n",
       "      <td>0</td>\n",
       "      <td>-0.318331</td>\n",
       "    </tr>\n",
       "  </tbody>\n",
       "</table>\n",
       "</div>"
      ],
      "text/plain": [
       "         X0        X1        X2        X3        X4  T         Y\n",
       "0  0.042946 -0.244024  0.352224 -0.385605 -0.297958  0  0.065378\n",
       "1 -0.035489 -0.130587  0.168029 -0.508966  0.172846  1 -1.160852\n",
       "2 -0.100376 -0.000438 -0.134698  0.158655  0.133745  1 -1.293867\n",
       "3 -0.198569 -0.354449  0.093455 -0.113408 -0.307699  1 -0.491382\n",
       "4  0.250105 -0.005793 -0.202563 -0.027322  0.524938  0 -0.318331"
      ]
     },
     "execution_count": 25,
     "metadata": {},
     "output_type": "execute_result"
    }
   ],
   "source": [
    "# Generate a data set.\n",
    "dataset = dgp.generate_dataset()\n",
    "dataset.observed_data.head()"
   ]
  },
  {
   "cell_type": "code",
   "execution_count": 26,
   "metadata": {},
   "outputs": [],
   "source": [
    "from maccabee.modeling.models import LinearRegressionCausalModel\n",
    "\n",
    "# Fit the model\n",
    "model = LinearRegressionCausalModel(dataset)\n",
    "model.fit()"
   ]
  },
  {
   "cell_type": "code",
   "execution_count": 27,
   "metadata": {},
   "outputs": [
    {
     "data": {
      "text/plain": [
       "-0.6129999999999998"
      ]
     },
     "execution_count": 27,
     "metadata": {},
     "output_type": "execute_result"
    }
   ],
   "source": [
    "# Ground Truth\n",
    "dataset.ATE"
   ]
  },
  {
   "cell_type": "code",
   "execution_count": 28,
   "metadata": {},
   "outputs": [
    {
     "data": {
      "text/plain": [
       "-0.6095040438593615"
      ]
     },
     "execution_count": 28,
     "metadata": {},
     "output_type": "execute_result"
    }
   ],
   "source": [
    "# Estimate\n",
    "model.estimate(estimand=Constants.Model.ATE_ESTIMAND)"
   ]
  }
 ],
 "metadata": {
  "celltoolbar": "Raw Cell Format",
  "kernelspec": {
   "display_name": "Python 3",
   "language": "python",
   "name": "python3"
  },
  "language_info": {
   "codemirror_mode": {
    "name": "ipython",
    "version": 3
   },
   "file_extension": ".py",
   "mimetype": "text/x-python",
   "name": "python",
   "nbconvert_exporter": "python",
   "pygments_lexer": "ipython3",
   "version": "3.7.6"
  },
  "varInspector": {
   "cols": {
    "lenName": 16,
    "lenType": 16,
    "lenVar": 40
   },
   "kernels_config": {
    "python": {
     "delete_cmd_postfix": "",
     "delete_cmd_prefix": "del ",
     "library": "var_list.py",
     "varRefreshCmd": "print(var_dic_list())"
    },
    "r": {
     "delete_cmd_postfix": ") ",
     "delete_cmd_prefix": "rm(",
     "library": "var_list.r",
     "varRefreshCmd": "cat(var_dic_list()) "
    }
   },
   "types_to_exclude": [
    "module",
    "function",
    "builtin_function_or_method",
    "instance",
    "_Feature"
   ],
   "window_display": false
  }
 },
 "nbformat": 4,
 "nbformat_minor": 2
}
