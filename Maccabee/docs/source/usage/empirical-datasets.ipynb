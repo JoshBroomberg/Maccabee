{
 "cells": [
  {
   "cell_type": "code",
   "execution_count": 1,
   "metadata": {
    "nbsphinx": "hidden",
    "run_control": {
     "marked": true
    }
   },
   "outputs": [],
   "source": [
    "# Hidden Config Cell\n",
    "\n",
    "#!python -m pip install -e ../../../../Maccabee > /dev/null"
   ]
  },
  {
   "cell_type": "raw",
   "metadata": {
    "raw_mimetype": "text/restructuredtext"
   },
   "source": [
    "Using Empirical Covariate Data\n",
    "******************************\n",
    "\n",
    "Maccabee offers the ability to benchmark causal inference methods using empirical covariate data, while keeping the same control over :term:`distributional setting` enabled by synthetic DGPs.\n",
    "\n",
    "There are two ways to use empirical covariate data in benchmarks. First, Maccabee includes a number of built in empirical data sets. Second, Maccabee provides tool for loading external covariate data from appropriately formatted CSVs.\n",
    "\n",
    "Using Built-in Covariate Data\n",
    "------------------------------\n",
    "\n",
    "The empirical data sets included with Maccabee can be loaded as :class:`~maccabee.data_sources.data_sources.DataSource` instances using helper functions from See :mod:`~maccabee.data_sources.data_source_builders`. The underlying data sets are prepared versions of well-known publicly-available data sets. The preparation and cleaning procedure is accessible for transparency and reproducibility. See :mod:`~maccabee.data_sources.data_source_builders` for more on this.\n",
    "\n",
    "Loading a data set is as simple as calling the :class:`~maccabee.data_sources.data_sources.DataSource` builder. The code below creates a :class:`~maccabee.data_sources.data_sources.DataSource` corresponding to the well known Lalonde data set. Building on Dehejia & Wahba (2002) and Smith & Todd (2005), Maccabee uses a selected subset of the Lalonde experimental data (with real income in 1974 available) and the PSID observational controls.\n",
    "\n",
    "Crucially, the data set **only includes the empirical covariates** not the treatment assignment and outcomes. These are produced by sampling a (sampled) DGP defined over the empirical covariates."
   ]
  },
  {
   "cell_type": "code",
   "execution_count": 2,
   "metadata": {
    "scrolled": true
   },
   "outputs": [
    {
     "data": {
      "text/plain": [
       "<maccabee.data_sources.data_sources.StaticDataSource at 0x7f9119fdb790>"
      ]
     },
     "execution_count": 2,
     "metadata": {},
     "output_type": "execute_result"
    }
   ],
   "source": [
    "from maccabee.data_sources.data_source_builders import build_lalonde_datasource\n",
    "lalonde_data_source = build_lalonde_datasource()\n",
    "\n",
    "lalonde_data_source"
   ]
  },
  {
   "cell_type": "raw",
   "metadata": {
    "raw_mimetype": "text/restructuredtext"
   },
   "source": [
    "This data source can then be used exactly as seen in the :doc:`sampled-dgp` tutorial. Like in that tutorial, the code below benchmarks a linear regression model for DGPs with low, medium and high outcome nonlinearity. Unlike in that tutorial, the DGPs are know defined over empirical rather than standard normal covariate data."
   ]
  },
  {
   "cell_type": "code",
   "execution_count": 3,
   "metadata": {},
   "outputs": [],
   "source": [
    "from maccabee.constants import Constants\n",
    "from maccabee.benchmarking import benchmark_model_using_sampled_dgp_grid\n",
    "from maccabee.modeling.models import LinearRegressionCausalModel\n",
    "import pandas as pd\n",
    "\n",
    "LOW, MEDIUM, HIGH = Constants.AxisLevels.LEVELS\n",
    "\n",
    "param_grid = {\n",
    "    Constants.AxisNames.TREATMENT_NONLINEARITY: [LOW],\n",
    "    Constants.AxisNames.OUTCOME_NONLINEARITY: [HIGH, MEDIUM, LOW]\n",
    "}\n",
    "    \n",
    "results = benchmark_model_using_sampled_dgp_grid(\n",
    "    model_class=LinearRegressionCausalModel,\n",
    "    estimand=Constants.Model.ATE_ESTIMAND,\n",
    "    data_source=lalonde_data_source,\n",
    "    dgp_param_grid=param_grid,\n",
    "    num_dgp_samples=10,\n",
    "    num_sampling_runs_per_dgp=1,\n",
    "    num_samples_from_dgp=10)"
   ]
  },
  {
   "cell_type": "code",
   "execution_count": 4,
   "metadata": {},
   "outputs": [
    {
     "data": {
      "text/html": [
       "<div>\n",
       "<style scoped>\n",
       "    .dataframe tbody tr th:only-of-type {\n",
       "        vertical-align: middle;\n",
       "    }\n",
       "\n",
       "    .dataframe tbody tr th {\n",
       "        vertical-align: top;\n",
       "    }\n",
       "\n",
       "    .dataframe thead th {\n",
       "        text-align: right;\n",
       "    }\n",
       "</style>\n",
       "<table border=\"1\" class=\"dataframe\">\n",
       "  <thead>\n",
       "    <tr style=\"text-align: right;\">\n",
       "      <th></th>\n",
       "      <th>param_outcome_nonlinearity</th>\n",
       "      <th>param_treatment_nonlinearity</th>\n",
       "      <th>RMSE</th>\n",
       "      <th>RMSE (std)</th>\n",
       "      <th>AMBP</th>\n",
       "      <th>AMBP (std)</th>\n",
       "      <th>MABP</th>\n",
       "      <th>MABP (std)</th>\n",
       "    </tr>\n",
       "  </thead>\n",
       "  <tbody>\n",
       "    <tr>\n",
       "      <th>0</th>\n",
       "      <td>HIGH</td>\n",
       "      <td>LOW</td>\n",
       "      <td>0.096</td>\n",
       "      <td>0.077</td>\n",
       "      <td>20.528</td>\n",
       "      <td>30.686</td>\n",
       "      <td>21.523</td>\n",
       "      <td>30.321</td>\n",
       "    </tr>\n",
       "    <tr>\n",
       "      <th>1</th>\n",
       "      <td>MEDIUM</td>\n",
       "      <td>LOW</td>\n",
       "      <td>0.030</td>\n",
       "      <td>0.015</td>\n",
       "      <td>159.336</td>\n",
       "      <td>464.794</td>\n",
       "      <td>160.574</td>\n",
       "      <td>464.391</td>\n",
       "    </tr>\n",
       "    <tr>\n",
       "      <th>2</th>\n",
       "      <td>LOW</td>\n",
       "      <td>LOW</td>\n",
       "      <td>0.015</td>\n",
       "      <td>0.002</td>\n",
       "      <td>1.224</td>\n",
       "      <td>1.726</td>\n",
       "      <td>4.551</td>\n",
       "      <td>6.341</td>\n",
       "    </tr>\n",
       "  </tbody>\n",
       "</table>\n",
       "</div>"
      ],
      "text/plain": [
       "  param_outcome_nonlinearity param_treatment_nonlinearity   RMSE  RMSE (std)  \\\n",
       "0                       HIGH                          LOW  0.096       0.077   \n",
       "1                     MEDIUM                          LOW  0.030       0.015   \n",
       "2                        LOW                          LOW  0.015       0.002   \n",
       "\n",
       "      AMBP  AMBP (std)     MABP  MABP (std)  \n",
       "0   20.528      30.686   21.523      30.321  \n",
       "1  159.336     464.794  160.574     464.391  \n",
       "2    1.224       1.726    4.551       6.341  "
      ]
     },
     "execution_count": 4,
     "metadata": {},
     "output_type": "execute_result"
    }
   ],
   "source": [
    "pd.DataFrame(results)"
   ]
  },
  {
   "cell_type": "raw",
   "metadata": {
    "raw_mimetype": "text/restructuredtext"
   },
   "source": [
    "Using Custom Covariate Data\n",
    "---------------------------\n",
    "\n",
    "It is also possible to use arbitrary covariate data with Maccabee's sampled DGPs. There are two approaches for this. If the covariate data is static - one, fixed sample - then it can be loaded from a CSV file. If the covariate data is dynamic - extracted from a large database for example - then it can be supplied as a stochastic data source.\n",
    "\n",
    "Using Static Custom Covariate Data\n",
    "++++++++++++++++++++++++++++++++++\n",
    "\n",
    "Static covariate data can be loaded using the :func:`~maccabee.data_sources.data_source_builders.build_csv_datasource` helper function. This function takes the path to a CSV, with the first row containing covariate names, and optionally a list of the names of the discrete covariates. (Discrete covariates are not included in normalization and some of the subfunctions used to build the sampled DGPs). See the :func:`~maccabee.data_sources.data_source_builders.build_csv_datasource` helper function reference docs for more detail.\n",
    "\n",
    "The code below creates a CSV using a numpy array and then loads the data as a static data source. This data source can then be used with the benchmarking code above.\n"
   ]
  },
  {
   "cell_type": "code",
   "execution_count": 5,
   "metadata": {},
   "outputs": [],
   "source": [
    "from maccabee.data_sources.data_source_builders import build_csv_datasource\n",
    "import numpy as np\n",
    "\n",
    "# Define and save data\n",
    "data = np.array([\n",
    "    [1.07, 0],\n",
    "    [3.5, 1],\n",
    "    [5.17, 0]\n",
    "])\n",
    "file_name = \"data.csv\"\n",
    "np.savetxt(file_name, data, delimiter=',', header=\"Age, Gender\")"
   ]
  },
  {
   "cell_type": "code",
   "execution_count": 6,
   "metadata": {},
   "outputs": [
    {
     "data": {
      "text/plain": [
       "<maccabee.data_sources.data_sources.StaticDataSource at 0x7f90ee705f50>"
      ]
     },
     "execution_count": 6,
     "metadata": {},
     "output_type": "execute_result"
    }
   ],
   "source": [
    "# Load data as DataSource\n",
    "static_datasource = build_csv_datasource(file_name, [\"Gender\"])\n",
    "\n",
    "static_datasource"
   ]
  },
  {
   "cell_type": "code",
   "execution_count": 7,
   "metadata": {},
   "outputs": [
    {
     "data": {
      "text/html": [
       "<div>\n",
       "<style scoped>\n",
       "    .dataframe tbody tr th:only-of-type {\n",
       "        vertical-align: middle;\n",
       "    }\n",
       "\n",
       "    .dataframe tbody tr th {\n",
       "        vertical-align: top;\n",
       "    }\n",
       "\n",
       "    .dataframe thead th {\n",
       "        text-align: right;\n",
       "    }\n",
       "</style>\n",
       "<table border=\"1\" class=\"dataframe\">\n",
       "  <thead>\n",
       "    <tr style=\"text-align: right;\">\n",
       "      <th></th>\n",
       "      <th>Age</th>\n",
       "      <th>Gender</th>\n",
       "    </tr>\n",
       "  </thead>\n",
       "  <tbody>\n",
       "    <tr>\n",
       "      <th>0</th>\n",
       "      <td>-1.000000</td>\n",
       "      <td>0.0</td>\n",
       "    </tr>\n",
       "    <tr>\n",
       "      <th>1</th>\n",
       "      <td>0.185366</td>\n",
       "      <td>1.0</td>\n",
       "    </tr>\n",
       "    <tr>\n",
       "      <th>2</th>\n",
       "      <td>1.000000</td>\n",
       "      <td>0.0</td>\n",
       "    </tr>\n",
       "  </tbody>\n",
       "</table>\n",
       "</div>"
      ],
      "text/plain": [
       "        Age  Gender\n",
       "0 -1.000000     0.0\n",
       "1  0.185366     1.0\n",
       "2  1.000000     0.0"
      ]
     },
     "execution_count": 7,
     "metadata": {},
     "output_type": "execute_result"
    }
   ],
   "source": [
    "# Show the covariate data\n",
    "static_datasource.get_covar_df()"
   ]
  },
  {
   "cell_type": "raw",
   "metadata": {
    "raw_mimetype": "text/restructuredtext"
   },
   "source": [
    "Using Stochastic/Dynamic Covariate Data\n",
    "+++++++++++++++++++++++++++++++++++++++\n",
    "\n",
    "It is also possible to create a data source which executes a function to access (potentially stochastic) covariate data. This is useful if there is a large set of (assumed) independent and identically distributed covariate data and benchmarks only need to use a sample from it. For this reason, this kind of data source is a :class:`~maccabee.data_sources.data_sources.StochasticDataSource`.\n",
    "\n",
    "A :class:`~maccabee.data_sources.data_sources.StochasticDataSource` instance can be constructed using the :func:`~maccabee.data_sources.data_source_builders.build_stochastic_datasource` by supplying a generator function that returns a 2D :class:`numpy.ndarray`, a list of covariate names for each column in the covariate array, and a list of discrete column names.\n",
    "\n",
    "An example is given below. This is a toy example that generates a mix of standard normal and bernoulli binary covariates. A real examples would include more expensive/interesting generator functions."
   ]
  },
  {
   "cell_type": "code",
   "execution_count": 16,
   "metadata": {},
   "outputs": [
    {
     "data": {
      "text/plain": [
       "<maccabee.data_sources.data_sources.StochasticDataSource at 0x7f91192f2d10>"
      ]
     },
     "execution_count": 16,
     "metadata": {},
     "output_type": "execute_result"
    }
   ],
   "source": [
    "from maccabee.data_sources.data_source_builders import build_stochastic_datasource\n",
    "\n",
    "N_covars = 10\n",
    "N_obs = 1000\n",
    "binary_col_indeces = [0, 3]\n",
    "covar_names = [f\"X{i}\" for i in range(N_covars)]\n",
    "\n",
    "def generate_data():    \n",
    "    covar_data = np.random.normal(loc=0.0, scale=1.0, size=(\n",
    "            N_obs, N_covars))\n",
    "\n",
    "    # Make binary columns.\n",
    "    \n",
    "    for var in binary_col_indeces:\n",
    "        covar_data[:, var] = (covar_data[:, var] > 0).astype(int)\n",
    "\n",
    "    return covar_data\n",
    "\n",
    "stochastic_datasource = build_stochastic_datasource(\n",
    "        generate_data,\n",
    "        covar_names=covar_names,\n",
    "        discrete_covar_names=[\"X0\", \"X3\"])\n",
    "\n",
    "stochastic_datasource"
   ]
  },
  {
   "cell_type": "raw",
   "metadata": {
    "raw_mimetype": "text/restructuredtext"
   },
   "source": [
    "We can verify that the data source does indeed generate data inline with expectations:"
   ]
  },
  {
   "cell_type": "code",
   "execution_count": 18,
   "metadata": {},
   "outputs": [
    {
     "data": {
      "text/html": [
       "<div>\n",
       "<style scoped>\n",
       "    .dataframe tbody tr th:only-of-type {\n",
       "        vertical-align: middle;\n",
       "    }\n",
       "\n",
       "    .dataframe tbody tr th {\n",
       "        vertical-align: top;\n",
       "    }\n",
       "\n",
       "    .dataframe thead th {\n",
       "        text-align: right;\n",
       "    }\n",
       "</style>\n",
       "<table border=\"1\" class=\"dataframe\">\n",
       "  <thead>\n",
       "    <tr style=\"text-align: right;\">\n",
       "      <th></th>\n",
       "      <th>X0</th>\n",
       "      <th>X1</th>\n",
       "      <th>X2</th>\n",
       "      <th>X3</th>\n",
       "      <th>X4</th>\n",
       "      <th>X5</th>\n",
       "      <th>X6</th>\n",
       "      <th>X7</th>\n",
       "      <th>X8</th>\n",
       "      <th>X9</th>\n",
       "    </tr>\n",
       "  </thead>\n",
       "  <tbody>\n",
       "    <tr>\n",
       "      <th>0</th>\n",
       "      <td>1.0</td>\n",
       "      <td>0.397143</td>\n",
       "      <td>-0.286716</td>\n",
       "      <td>1.0</td>\n",
       "      <td>-0.104719</td>\n",
       "      <td>0.009483</td>\n",
       "      <td>0.348603</td>\n",
       "      <td>-0.158236</td>\n",
       "      <td>-0.021799</td>\n",
       "      <td>-0.909613</td>\n",
       "    </tr>\n",
       "    <tr>\n",
       "      <th>1</th>\n",
       "      <td>0.0</td>\n",
       "      <td>-0.166077</td>\n",
       "      <td>-0.546770</td>\n",
       "      <td>1.0</td>\n",
       "      <td>-0.058030</td>\n",
       "      <td>-0.382312</td>\n",
       "      <td>-0.222217</td>\n",
       "      <td>0.299738</td>\n",
       "      <td>0.028531</td>\n",
       "      <td>-0.665068</td>\n",
       "    </tr>\n",
       "    <tr>\n",
       "      <th>2</th>\n",
       "      <td>1.0</td>\n",
       "      <td>0.452277</td>\n",
       "      <td>-0.666157</td>\n",
       "      <td>0.0</td>\n",
       "      <td>-0.130254</td>\n",
       "      <td>-0.167185</td>\n",
       "      <td>0.463603</td>\n",
       "      <td>-0.100672</td>\n",
       "      <td>0.155738</td>\n",
       "      <td>-0.480558</td>\n",
       "    </tr>\n",
       "    <tr>\n",
       "      <th>3</th>\n",
       "      <td>0.0</td>\n",
       "      <td>0.500995</td>\n",
       "      <td>0.070425</td>\n",
       "      <td>0.0</td>\n",
       "      <td>0.074098</td>\n",
       "      <td>0.646198</td>\n",
       "      <td>0.510876</td>\n",
       "      <td>0.392154</td>\n",
       "      <td>0.309803</td>\n",
       "      <td>-0.076971</td>\n",
       "    </tr>\n",
       "    <tr>\n",
       "      <th>4</th>\n",
       "      <td>1.0</td>\n",
       "      <td>-0.534493</td>\n",
       "      <td>-0.425811</td>\n",
       "      <td>0.0</td>\n",
       "      <td>-0.290319</td>\n",
       "      <td>-0.010616</td>\n",
       "      <td>0.072021</td>\n",
       "      <td>0.023280</td>\n",
       "      <td>0.055812</td>\n",
       "      <td>-0.296402</td>\n",
       "    </tr>\n",
       "  </tbody>\n",
       "</table>\n",
       "</div>"
      ],
      "text/plain": [
       "    X0        X1        X2   X3        X4        X5        X6        X7  \\\n",
       "0  1.0  0.397143 -0.286716  1.0 -0.104719  0.009483  0.348603 -0.158236   \n",
       "1  0.0 -0.166077 -0.546770  1.0 -0.058030 -0.382312 -0.222217  0.299738   \n",
       "2  1.0  0.452277 -0.666157  0.0 -0.130254 -0.167185  0.463603 -0.100672   \n",
       "3  0.0  0.500995  0.070425  0.0  0.074098  0.646198  0.510876  0.392154   \n",
       "4  1.0 -0.534493 -0.425811  0.0 -0.290319 -0.010616  0.072021  0.023280   \n",
       "\n",
       "         X8        X9  \n",
       "0 -0.021799 -0.909613  \n",
       "1  0.028531 -0.665068  \n",
       "2  0.155738 -0.480558  \n",
       "3  0.309803 -0.076971  \n",
       "4  0.055812 -0.296402  "
      ]
     },
     "execution_count": 18,
     "metadata": {},
     "output_type": "execute_result"
    }
   ],
   "source": [
    "stochastic_datasource.get_covar_df().head()"
   ]
  }
 ],
 "metadata": {
  "celltoolbar": "Raw Cell Format",
  "kernelspec": {
   "display_name": "Python 3",
   "language": "python",
   "name": "python3"
  },
  "language_info": {
   "codemirror_mode": {
    "name": "ipython",
    "version": 3
   },
   "file_extension": ".py",
   "mimetype": "text/x-python",
   "name": "python",
   "nbconvert_exporter": "python",
   "pygments_lexer": "ipython3",
   "version": "3.7.6"
  },
  "varInspector": {
   "cols": {
    "lenName": 16,
    "lenType": 16,
    "lenVar": 40
   },
   "kernels_config": {
    "python": {
     "delete_cmd_postfix": "",
     "delete_cmd_prefix": "del ",
     "library": "var_list.py",
     "varRefreshCmd": "print(var_dic_list())"
    },
    "r": {
     "delete_cmd_postfix": ") ",
     "delete_cmd_prefix": "rm(",
     "library": "var_list.r",
     "varRefreshCmd": "cat(var_dic_list()) "
    }
   },
   "types_to_exclude": [
    "module",
    "function",
    "builtin_function_or_method",
    "instance",
    "_Feature"
   ],
   "window_display": false
  }
 },
 "nbformat": 4,
 "nbformat_minor": 2
}
